{
 "cells": [
  {
   "cell_type": "code",
   "execution_count": 19,
   "metadata": {},
   "outputs": [],
   "source": [
    "import pandas   as pd"
   ]
  },
  {
   "cell_type": "code",
   "execution_count": 20,
   "metadata": {},
   "outputs": [],
   "source": [
    "ASSET_FILE_SB = pd.read_csv(r\"C:\\Users\\Ratan Kumar Jha\\Desktop\\METER_IMPORTATION_FOLDER\\INPUT_DATA_FILE\\ASSET_INITIATION_INVENTORY_SB.csv\")\n",
    "ASSET_FILE_NB = pd.read_csv(r\"C:\\Users\\Ratan Kumar Jha\\Desktop\\METER_IMPORTATION_FOLDER\\INPUT_DATA_FILE\\ASSET_INITIATION_INVENTORY_NB.csv\")\n"
   ]
  },
  {
   "cell_type": "code",
   "execution_count": 21,
   "metadata": {},
   "outputs": [],
   "source": [
    "METER_STATUS_DATA=pd.read_excel(r\"C:\\Users\\Ratan Kumar Jha\\Desktop\\METER_IMPORTATION_FOLDER\\INPUT_DATA_FILE\\WAREHOUSE_DATA_FILE.xlsx\")\n",
    "#REFURBISHED_732_METER=pd.read_excel(r\"C:\\Users\\Ratan Kumar Jha\\Desktop\\METER_IMPORTATION_FOLDER\\OTHER_FILE\\732 Refurbished  Meters Genus 4G and L&T HES Mapping  NBPDCL &  SBPDCL  AS ON 19 March 2024.xlsx\")\n",
    "\n",
    "METER_STATUS_DATA.to_csv(\"METER_STATUS_DATA.csv\",index=False)\n",
    "#REFURBISHED_732_METER.to_csv(\"REFURBISHED_732_METER.csv\",index=False)\n",
    "\n",
    "METER_STATUS_DATA = pd.read_csv(\"C:\\PYTHON\\EDF_CODE_AUTOMATION_PYTHON\\METER_MATCHING_DATA\\METER_STATUS_DATA.csv\")\n",
    "#REFURBISHED_732_METER = pd.read_csv(\"C:\\PYTHON\\EDF_CODE_AUTOMATION_PYTHON\\METER_MATCHING_DATA\\REFURBISHED_732_METER.csv\")\n",
    "\n",
    "#warehouse_Data = pd.read_csv(r\"C:\\Users\\Ratan Kumar Jha\\Desktop\\METER_IMPORTATION_FOLDER\\INPUT_DATA_FILE\\WAREHOUSE_DATA_FILE.csv\")\n",
    "\n"
   ]
  },
  {
   "cell_type": "code",
   "execution_count": 22,
   "metadata": {},
   "outputs": [
    {
     "data": {
      "text/html": [
       "<div>\n",
       "<style scoped>\n",
       "    .dataframe tbody tr th:only-of-type {\n",
       "        vertical-align: middle;\n",
       "    }\n",
       "\n",
       "    .dataframe tbody tr th {\n",
       "        vertical-align: top;\n",
       "    }\n",
       "\n",
       "    .dataframe thead th {\n",
       "        text-align: right;\n",
       "    }\n",
       "</style>\n",
       "<table border=\"1\" class=\"dataframe\">\n",
       "  <thead>\n",
       "    <tr style=\"text-align: right;\">\n",
       "      <th></th>\n",
       "      <th>Meter No.</th>\n",
       "      <th>PHASE</th>\n",
       "      <th>WAREHOUSE_UTILITY</th>\n",
       "      <th>IME</th>\n",
       "      <th>FINAL SIM</th>\n",
       "      <th>IMSI</th>\n",
       "      <th>IP</th>\n",
       "      <th>TYPE</th>\n",
       "      <th>Remarks</th>\n",
       "    </tr>\n",
       "  </thead>\n",
       "  <tbody>\n",
       "    <tr>\n",
       "      <th>0</th>\n",
       "      <td>LT0346339</td>\n",
       "      <td>1 Phase</td>\n",
       "      <td>NBPDCL</td>\n",
       "      <td>865681060086437</td>\n",
       "      <td>8991856050706502419</td>\n",
       "      <td>405856706497419</td>\n",
       "      <td>2405:0203:0527:0696:0000:0000:0000:0010</td>\n",
       "      <td>Refurbished</td>\n",
       "      <td>NOT MAP IN HES</td>\n",
       "    </tr>\n",
       "  </tbody>\n",
       "</table>\n",
       "</div>"
      ],
      "text/plain": [
       "   Meter No.    PHASE WAREHOUSE_UTILITY              IME            FINAL SIM  \\\n",
       "0  LT0346339  1 Phase            NBPDCL  865681060086437  8991856050706502419   \n",
       "\n",
       "              IMSI                                       IP         TYPE  \\\n",
       "0  405856706497419  2405:0203:0527:0696:0000:0000:0000:0010  Refurbished   \n",
       "\n",
       "          Remarks  \n",
       "0  NOT MAP IN HES  "
      ]
     },
     "execution_count": 22,
     "metadata": {},
     "output_type": "execute_result"
    }
   ],
   "source": [
    "METER_STATUS_DATA.head(1)"
   ]
  },
  {
   "cell_type": "code",
   "execution_count": 23,
   "metadata": {},
   "outputs": [],
   "source": [
    "NB_SB_ASSET_COMBINED_DATAFRAME = pd.concat([ASSET_FILE_SB, ASSET_FILE_NB], ignore_index=True)"
   ]
  },
  {
   "cell_type": "code",
   "execution_count": 24,
   "metadata": {},
   "outputs": [
    {
     "data": {
      "text/html": [
       "<div>\n",
       "<style scoped>\n",
       "    .dataframe tbody tr th:only-of-type {\n",
       "        vertical-align: middle;\n",
       "    }\n",
       "\n",
       "    .dataframe tbody tr th {\n",
       "        vertical-align: top;\n",
       "    }\n",
       "\n",
       "    .dataframe thead th {\n",
       "        text-align: right;\n",
       "    }\n",
       "</style>\n",
       "<table border=\"1\" class=\"dataframe\">\n",
       "  <thead>\n",
       "    <tr style=\"text-align: right;\">\n",
       "      <th></th>\n",
       "      <th>MeterNumber</th>\n",
       "      <th>MFG_SERIAL_NUM</th>\n",
       "      <th>UDC_ID</th>\n",
       "      <th>NETWORK_ID</th>\n",
       "      <th>InstallationNumber</th>\n",
       "      <th>Status</th>\n",
       "      <th>INSERT_TIME</th>\n",
       "      <th>DECODE(D.ORG_ID,52,'SBPDCL',102,'NBPDCL')</th>\n",
       "    </tr>\n",
       "  </thead>\n",
       "  <tbody>\n",
       "    <tr>\n",
       "      <th>0</th>\n",
       "      <td>GOEGP4970294</td>\n",
       "      <td>GP4970294</td>\n",
       "      <td>404759210464358</td>\n",
       "      <td>2001:4490:0800:5F25:0000:0000:0000:0001</td>\n",
       "      <td>NaN</td>\n",
       "      <td>Meter Shop</td>\n",
       "      <td>8/7/2019 1:26:44 PM</td>\n",
       "      <td>SBPDCL</td>\n",
       "    </tr>\n",
       "  </tbody>\n",
       "</table>\n",
       "</div>"
      ],
      "text/plain": [
       "    MeterNumber MFG_SERIAL_NUM           UDC_ID  \\\n",
       "0  GOEGP4970294      GP4970294  404759210464358   \n",
       "\n",
       "                                NETWORK_ID InstallationNumber      Status  \\\n",
       "0  2001:4490:0800:5F25:0000:0000:0000:0001                NaN  Meter Shop   \n",
       "\n",
       "           INSERT_TIME DECODE(D.ORG_ID,52,'SBPDCL',102,'NBPDCL')  \n",
       "0  8/7/2019 1:26:44 PM                                    SBPDCL  "
      ]
     },
     "execution_count": 24,
     "metadata": {},
     "output_type": "execute_result"
    }
   ],
   "source": [
    "NB_SB_ASSET_COMBINED_DATAFRAME.head(1)"
   ]
  },
  {
   "cell_type": "code",
   "execution_count": 25,
   "metadata": {},
   "outputs": [
    {
     "data": {
      "text/html": [
       "<div>\n",
       "<style scoped>\n",
       "    .dataframe tbody tr th:only-of-type {\n",
       "        vertical-align: middle;\n",
       "    }\n",
       "\n",
       "    .dataframe tbody tr th {\n",
       "        vertical-align: top;\n",
       "    }\n",
       "\n",
       "    .dataframe thead th {\n",
       "        text-align: right;\n",
       "    }\n",
       "</style>\n",
       "<table border=\"1\" class=\"dataframe\">\n",
       "  <thead>\n",
       "    <tr style=\"text-align: right;\">\n",
       "      <th></th>\n",
       "      <th>MeterNumber</th>\n",
       "      <th>MFG_SERIAL_NUM</th>\n",
       "      <th>UDC_ID</th>\n",
       "      <th>NETWORK_ID</th>\n",
       "      <th>InstallationNumber</th>\n",
       "      <th>Status</th>\n",
       "      <th>INSERT_TIME</th>\n",
       "      <th>DECODE(D.ORG_ID,52,'SBPDCL',102,'NBPDCL')</th>\n",
       "    </tr>\n",
       "  </thead>\n",
       "  <tbody>\n",
       "    <tr>\n",
       "      <th>0</th>\n",
       "      <td>GOEGP4970294</td>\n",
       "      <td>GP4970294</td>\n",
       "      <td>404759210464358</td>\n",
       "      <td>2001:4490:0800:5F25:0000:0000:0000:0001</td>\n",
       "      <td>NaN</td>\n",
       "      <td>Meter Shop</td>\n",
       "      <td>8/7/2019 1:26:44 PM</td>\n",
       "      <td>SBPDCL</td>\n",
       "    </tr>\n",
       "  </tbody>\n",
       "</table>\n",
       "</div>"
      ],
      "text/plain": [
       "    MeterNumber MFG_SERIAL_NUM           UDC_ID  \\\n",
       "0  GOEGP4970294      GP4970294  404759210464358   \n",
       "\n",
       "                                NETWORK_ID InstallationNumber      Status  \\\n",
       "0  2001:4490:0800:5F25:0000:0000:0000:0001                NaN  Meter Shop   \n",
       "\n",
       "           INSERT_TIME DECODE(D.ORG_ID,52,'SBPDCL',102,'NBPDCL')  \n",
       "0  8/7/2019 1:26:44 PM                                    SBPDCL  "
      ]
     },
     "execution_count": 25,
     "metadata": {},
     "output_type": "execute_result"
    }
   ],
   "source": [
    "NB_SB_ASSET_COMBINED_DATAFRAME.head(1)"
   ]
  },
  {
   "cell_type": "code",
   "execution_count": 26,
   "metadata": {},
   "outputs": [],
   "source": [
    "METER_STATUS_DATA =pd.merge(METER_STATUS_DATA, NB_SB_ASSET_COMBINED_DATAFRAME[['MFG_SERIAL_NUM',\"UDC_ID\",\"InstallationNumber\",\"Status\",\"DECODE(D.ORG_ID,52,'SBPDCL',102,'NBPDCL')\"]], left_on=['Meter No.'], right_on=['MFG_SERIAL_NUM'], how='left')"
   ]
  },
  {
   "cell_type": "code",
   "execution_count": 27,
   "metadata": {},
   "outputs": [
    {
     "data": {
      "text/html": [
       "<div>\n",
       "<style scoped>\n",
       "    .dataframe tbody tr th:only-of-type {\n",
       "        vertical-align: middle;\n",
       "    }\n",
       "\n",
       "    .dataframe tbody tr th {\n",
       "        vertical-align: top;\n",
       "    }\n",
       "\n",
       "    .dataframe thead th {\n",
       "        text-align: right;\n",
       "    }\n",
       "</style>\n",
       "<table border=\"1\" class=\"dataframe\">\n",
       "  <thead>\n",
       "    <tr style=\"text-align: right;\">\n",
       "      <th></th>\n",
       "      <th>Meter No.</th>\n",
       "      <th>PHASE</th>\n",
       "      <th>WAREHOUSE_UTILITY</th>\n",
       "      <th>IME</th>\n",
       "      <th>FINAL SIM</th>\n",
       "      <th>IMSI</th>\n",
       "      <th>IP</th>\n",
       "      <th>TYPE</th>\n",
       "      <th>Remarks</th>\n",
       "      <th>MFG_SERIAL_NUM</th>\n",
       "      <th>UDC_ID</th>\n",
       "      <th>InstallationNumber</th>\n",
       "      <th>Status</th>\n",
       "      <th>DECODE(D.ORG_ID,52,'SBPDCL',102,'NBPDCL')</th>\n",
       "    </tr>\n",
       "  </thead>\n",
       "  <tbody>\n",
       "    <tr>\n",
       "      <th>0</th>\n",
       "      <td>LT0346339</td>\n",
       "      <td>1 Phase</td>\n",
       "      <td>NBPDCL</td>\n",
       "      <td>865681060086437</td>\n",
       "      <td>8991856050706502419</td>\n",
       "      <td>405856706497419</td>\n",
       "      <td>2405:0203:0527:0696:0000:0000:0000:0010</td>\n",
       "      <td>Refurbished</td>\n",
       "      <td>NOT MAP IN HES</td>\n",
       "      <td>LT0346339</td>\n",
       "      <td>405856706377848</td>\n",
       "      <td>5000235857</td>\n",
       "      <td>Installed</td>\n",
       "      <td>SBPDCL</td>\n",
       "    </tr>\n",
       "    <tr>\n",
       "      <th>1</th>\n",
       "      <td>LT0347039</td>\n",
       "      <td>1 Phase</td>\n",
       "      <td>NBPDCL</td>\n",
       "      <td>869810056010897</td>\n",
       "      <td>8991856050706376051</td>\n",
       "      <td>405856706376051</td>\n",
       "      <td>2405:0203:0525:5541:0000:0000:0000:0010</td>\n",
       "      <td>Refurbished</td>\n",
       "      <td>NOT MAP IN HES</td>\n",
       "      <td>LT0347039</td>\n",
       "      <td>405856706376051</td>\n",
       "      <td>5003804032</td>\n",
       "      <td>Installed</td>\n",
       "      <td>SBPDCL</td>\n",
       "    </tr>\n",
       "    <tr>\n",
       "      <th>2</th>\n",
       "      <td>LT0048504</td>\n",
       "      <td>1 Phase</td>\n",
       "      <td>NBPDCL</td>\n",
       "      <td>861089054495479</td>\n",
       "      <td>8991856050706213290</td>\n",
       "      <td>405856706213290</td>\n",
       "      <td>2405:0203:0520:B587:0000:0000:0000:0010</td>\n",
       "      <td>Refurbished</td>\n",
       "      <td>NOT MAP IN HES</td>\n",
       "      <td>LT0048504</td>\n",
       "      <td>405856706213290</td>\n",
       "      <td>5002999071</td>\n",
       "      <td>Installed</td>\n",
       "      <td>SBPDCL</td>\n",
       "    </tr>\n",
       "    <tr>\n",
       "      <th>3</th>\n",
       "      <td>LT0391803</td>\n",
       "      <td>1 Phase</td>\n",
       "      <td>NBPDCL</td>\n",
       "      <td>865575064589372</td>\n",
       "      <td>8991856040706681880</td>\n",
       "      <td>405856707226888</td>\n",
       "      <td>2405:0203:052E:12C5:0000:0000:0000:0010</td>\n",
       "      <td>Refurbished</td>\n",
       "      <td>NOT MAP IN HES</td>\n",
       "      <td>LT0391803</td>\n",
       "      <td>405856706806066</td>\n",
       "      <td>5000596195</td>\n",
       "      <td>Installed</td>\n",
       "      <td>SBPDCL</td>\n",
       "    </tr>\n",
       "    <tr>\n",
       "      <th>4</th>\n",
       "      <td>LT0509672</td>\n",
       "      <td>1 Phase</td>\n",
       "      <td>NBPDCL</td>\n",
       "      <td>865575064710895</td>\n",
       "      <td>8991856040706026298</td>\n",
       "      <td>405856706571320</td>\n",
       "      <td>2405:0203:0527:83A9:0000:0000:0000:0010</td>\n",
       "      <td>Refurbished</td>\n",
       "      <td>NOT MAP IN HES</td>\n",
       "      <td>LT0509672</td>\n",
       "      <td>405856706577331</td>\n",
       "      <td>5001532140</td>\n",
       "      <td>Retired</td>\n",
       "      <td>SBPDCL</td>\n",
       "    </tr>\n",
       "  </tbody>\n",
       "</table>\n",
       "</div>"
      ],
      "text/plain": [
       "   Meter No.    PHASE WAREHOUSE_UTILITY              IME            FINAL SIM  \\\n",
       "0  LT0346339  1 Phase            NBPDCL  865681060086437  8991856050706502419   \n",
       "1  LT0347039  1 Phase            NBPDCL  869810056010897  8991856050706376051   \n",
       "2  LT0048504  1 Phase            NBPDCL  861089054495479  8991856050706213290   \n",
       "3  LT0391803  1 Phase            NBPDCL  865575064589372  8991856040706681880   \n",
       "4  LT0509672  1 Phase            NBPDCL  865575064710895  8991856040706026298   \n",
       "\n",
       "              IMSI                                       IP         TYPE  \\\n",
       "0  405856706497419  2405:0203:0527:0696:0000:0000:0000:0010  Refurbished   \n",
       "1  405856706376051  2405:0203:0525:5541:0000:0000:0000:0010  Refurbished   \n",
       "2  405856706213290  2405:0203:0520:B587:0000:0000:0000:0010  Refurbished   \n",
       "3  405856707226888  2405:0203:052E:12C5:0000:0000:0000:0010  Refurbished   \n",
       "4  405856706571320  2405:0203:0527:83A9:0000:0000:0000:0010  Refurbished   \n",
       "\n",
       "          Remarks MFG_SERIAL_NUM           UDC_ID InstallationNumber  \\\n",
       "0  NOT MAP IN HES      LT0346339  405856706377848         5000235857   \n",
       "1  NOT MAP IN HES      LT0347039  405856706376051         5003804032   \n",
       "2  NOT MAP IN HES      LT0048504  405856706213290         5002999071   \n",
       "3  NOT MAP IN HES      LT0391803  405856706806066         5000596195   \n",
       "4  NOT MAP IN HES      LT0509672  405856706577331         5001532140   \n",
       "\n",
       "      Status DECODE(D.ORG_ID,52,'SBPDCL',102,'NBPDCL')  \n",
       "0  Installed                                    SBPDCL  \n",
       "1  Installed                                    SBPDCL  \n",
       "2  Installed                                    SBPDCL  \n",
       "3  Installed                                    SBPDCL  \n",
       "4    Retired                                    SBPDCL  "
      ]
     },
     "execution_count": 27,
     "metadata": {},
     "output_type": "execute_result"
    }
   ],
   "source": [
    "METER_STATUS_DATA.head()"
   ]
  },
  {
   "cell_type": "code",
   "execution_count": 28,
   "metadata": {},
   "outputs": [],
   "source": [
    "# adding duplicate and unique in data set \n",
    "\n",
    "METER_STATUS_DATA['Duplicated'] = METER_STATUS_DATA.duplicated(subset=['Meter No.']).map({True: 'Duplicated', False: 'Unique'})"
   ]
  },
  {
   "cell_type": "code",
   "execution_count": 29,
   "metadata": {},
   "outputs": [],
   "source": [
    "#meter_no_732 =pd.merge(REFURBISHED_732_METER, NB_SB_ASSET_COMBINED_DATAFRAME[['MFG_SERIAL_NUM',\"UDC_ID\",\"InstallationNumber\",\"Status\",\"DECODE(D.ORG_ID,52,'SBPDCL',102,'NBPDCL')\"]], left_on=['METER NO'], right_on=['MFG_SERIAL_NUM'], how='left')"
   ]
  },
  {
   "cell_type": "code",
   "execution_count": 30,
   "metadata": {},
   "outputs": [],
   "source": [
    "METER_STATUS_DATA.to_csv(r\"C:\\Users\\Ratan Kumar Jha\\Desktop\\METER_IMPORTATION_FOLDER\\OTHER_FILE\\METER_STATUS_DATA.csv\",index=False)\n",
    "#meter_no_732.to_csv(r\"C:\\Users\\Ratan Kumar Jha\\Desktop\\METER_IMPORTATION_FOLDER\\OTHER_FILE\\meter_no_732.csv\",index=False)\n",
    "\n"
   ]
  },
  {
   "cell_type": "code",
   "execution_count": null,
   "metadata": {},
   "outputs": [],
   "source": []
  },
  {
   "cell_type": "code",
   "execution_count": null,
   "metadata": {},
   "outputs": [],
   "source": []
  }
 ],
 "metadata": {
  "kernelspec": {
   "display_name": "Python 3",
   "language": "python",
   "name": "python3"
  },
  "language_info": {
   "codemirror_mode": {
    "name": "ipython",
    "version": 3
   },
   "file_extension": ".py",
   "mimetype": "text/x-python",
   "name": "python",
   "nbconvert_exporter": "python",
   "pygments_lexer": "ipython3",
   "version": "3.9.18"
  }
 },
 "nbformat": 4,
 "nbformat_minor": 2
}
