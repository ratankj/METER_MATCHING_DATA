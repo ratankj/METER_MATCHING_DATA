{
 "cells": [
  {
   "cell_type": "code",
   "execution_count": 26,
   "metadata": {},
   "outputs": [],
   "source": [
    "import pandas   as pd"
   ]
  },
  {
   "cell_type": "code",
   "execution_count": 27,
   "metadata": {},
   "outputs": [],
   "source": [
    "ASSET_FILE_SB = pd.read_csv(r\"C:\\Users\\Ratan Kumar Jha\\Desktop\\METER_IMPORTATION_FOLDER\\INPUT_DATA_FILE\\ASSET_INITIATION_INVENTORY_SB.csv\")\n",
    "ASSET_FILE_NB = pd.read_csv(r\"C:\\Users\\Ratan Kumar Jha\\Desktop\\METER_IMPORTATION_FOLDER\\INPUT_DATA_FILE\\ASSET_INITIATION_INVENTORY_NB.csv\")\n"
   ]
  },
  {
   "cell_type": "code",
   "execution_count": 28,
   "metadata": {},
   "outputs": [],
   "source": [
    "METER_1126_DATA=pd.read_excel(r\"C:\\Users\\Ratan Kumar Jha\\Desktop\\METER_IMPORTATION_FOLDER\\INPUT_DATA_FILE\\WAREHOUSE_DATA_FILE.xlsx\")\n",
    "#REFURBISHED_732_METER=pd.read_excel(r\"C:\\Users\\Ratan Kumar Jha\\Desktop\\METER_IMPORTATION_FOLDER\\OTHER_FILE\\732 Refurbished  Meters Genus 4G and L&T HES Mapping  NBPDCL &  SBPDCL  AS ON 19 March 2024.xlsx\")\n",
    "\n",
    "METER_1126_DATA.to_csv(\"METER_1126_DATA.csv\",index=False)\n",
    "#REFURBISHED_732_METER.to_csv(\"REFURBISHED_732_METER.csv\",index=False)\n",
    "\n",
    "METER_1126_DATA = pd.read_csv(\"C:\\PYTHON\\EDF_CODE_AUTOMATION_PYTHON\\METER_MATCHING_DATA\\METER_1126_DATA.csv\")\n",
    "#REFURBISHED_732_METER = pd.read_csv(\"C:\\PYTHON\\EDF_CODE_AUTOMATION_PYTHON\\METER_MATCHING_DATA\\REFURBISHED_732_METER.csv\")\n",
    "\n",
    "#warehouse_Data = pd.read_csv(r\"C:\\Users\\Ratan Kumar Jha\\Desktop\\METER_IMPORTATION_FOLDER\\INPUT_DATA_FILE\\WAREHOUSE_DATA_FILE.csv\")\n",
    "\n"
   ]
  },
  {
   "cell_type": "code",
   "execution_count": 29,
   "metadata": {},
   "outputs": [
    {
     "data": {
      "text/html": [
       "<div>\n",
       "<style scoped>\n",
       "    .dataframe tbody tr th:only-of-type {\n",
       "        vertical-align: middle;\n",
       "    }\n",
       "\n",
       "    .dataframe tbody tr th {\n",
       "        vertical-align: top;\n",
       "    }\n",
       "\n",
       "    .dataframe thead th {\n",
       "        text-align: right;\n",
       "    }\n",
       "</style>\n",
       "<table border=\"1\" class=\"dataframe\">\n",
       "  <thead>\n",
       "    <tr style=\"text-align: right;\">\n",
       "      <th></th>\n",
       "      <th>sl no</th>\n",
       "      <th>Meter No.</th>\n",
       "      <th>Phase</th>\n",
       "      <th>WAREHOUSE_UTILITY</th>\n",
       "      <th>WAREHOUSE_STATUS</th>\n",
       "      <th>MAKE</th>\n",
       "      <th>IME</th>\n",
       "      <th>FINAL SIM</th>\n",
       "      <th>IMSI</th>\n",
       "      <th>IP</th>\n",
       "    </tr>\n",
       "  </thead>\n",
       "  <tbody>\n",
       "    <tr>\n",
       "      <th>0</th>\n",
       "      <td>1</td>\n",
       "      <td>LT0164550</td>\n",
       "      <td>1 Phase</td>\n",
       "      <td>SBPDCL</td>\n",
       "      <td>S2S repaired</td>\n",
       "      <td>L&amp;T</td>\n",
       "      <td>861190055985524</td>\n",
       "      <td>8991856050706095561</td>\n",
       "      <td>405856706095561</td>\n",
       "      <td>2405:0203:0522:9F13:0000:0000:0000:0010</td>\n",
       "    </tr>\n",
       "  </tbody>\n",
       "</table>\n",
       "</div>"
      ],
      "text/plain": [
       "   sl no  Meter No.    Phase WAREHOUSE_UTILITY WAREHOUSE_STATUS MAKE  \\\n",
       "0      1  LT0164550  1 Phase            SBPDCL     S2S repaired  L&T   \n",
       "\n",
       "               IME            FINAL SIM             IMSI  \\\n",
       "0  861190055985524  8991856050706095561  405856706095561   \n",
       "\n",
       "                                        IP  \n",
       "0  2405:0203:0522:9F13:0000:0000:0000:0010  "
      ]
     },
     "execution_count": 29,
     "metadata": {},
     "output_type": "execute_result"
    }
   ],
   "source": [
    "METER_1126_DATA.head(1)"
   ]
  },
  {
   "cell_type": "code",
   "execution_count": 30,
   "metadata": {},
   "outputs": [],
   "source": [
    "NB_SB_ASSET_COMBINED_DATAFRAME = pd.concat([ASSET_FILE_SB, ASSET_FILE_NB], ignore_index=True)"
   ]
  },
  {
   "cell_type": "code",
   "execution_count": 31,
   "metadata": {},
   "outputs": [
    {
     "data": {
      "text/html": [
       "<div>\n",
       "<style scoped>\n",
       "    .dataframe tbody tr th:only-of-type {\n",
       "        vertical-align: middle;\n",
       "    }\n",
       "\n",
       "    .dataframe tbody tr th {\n",
       "        vertical-align: top;\n",
       "    }\n",
       "\n",
       "    .dataframe thead th {\n",
       "        text-align: right;\n",
       "    }\n",
       "</style>\n",
       "<table border=\"1\" class=\"dataframe\">\n",
       "  <thead>\n",
       "    <tr style=\"text-align: right;\">\n",
       "      <th></th>\n",
       "      <th>MeterNumber</th>\n",
       "      <th>MFG_SERIAL_NUM</th>\n",
       "      <th>UDC_ID</th>\n",
       "      <th>NETWORK_ID</th>\n",
       "      <th>InstallationNumber</th>\n",
       "      <th>Status</th>\n",
       "      <th>INSERT_TIME</th>\n",
       "      <th>DECODE(D.ORG_ID,52,'SBPDCL',102,'NBPDCL')</th>\n",
       "    </tr>\n",
       "  </thead>\n",
       "  <tbody>\n",
       "    <tr>\n",
       "      <th>0</th>\n",
       "      <td>GOEGP4970294</td>\n",
       "      <td>GP4970294</td>\n",
       "      <td>404759210464358</td>\n",
       "      <td>2001:4490:0800:5F25:0000:0000:0000:0001</td>\n",
       "      <td>NaN</td>\n",
       "      <td>Meter Shop</td>\n",
       "      <td>8/7/2019 1:26:44 PM</td>\n",
       "      <td>SBPDCL</td>\n",
       "    </tr>\n",
       "  </tbody>\n",
       "</table>\n",
       "</div>"
      ],
      "text/plain": [
       "    MeterNumber MFG_SERIAL_NUM           UDC_ID  \\\n",
       "0  GOEGP4970294      GP4970294  404759210464358   \n",
       "\n",
       "                                NETWORK_ID InstallationNumber      Status  \\\n",
       "0  2001:4490:0800:5F25:0000:0000:0000:0001                NaN  Meter Shop   \n",
       "\n",
       "           INSERT_TIME DECODE(D.ORG_ID,52,'SBPDCL',102,'NBPDCL')  \n",
       "0  8/7/2019 1:26:44 PM                                    SBPDCL  "
      ]
     },
     "execution_count": 31,
     "metadata": {},
     "output_type": "execute_result"
    }
   ],
   "source": [
    "NB_SB_ASSET_COMBINED_DATAFRAME.head(1)"
   ]
  },
  {
   "cell_type": "code",
   "execution_count": 32,
   "metadata": {},
   "outputs": [
    {
     "data": {
      "text/html": [
       "<div>\n",
       "<style scoped>\n",
       "    .dataframe tbody tr th:only-of-type {\n",
       "        vertical-align: middle;\n",
       "    }\n",
       "\n",
       "    .dataframe tbody tr th {\n",
       "        vertical-align: top;\n",
       "    }\n",
       "\n",
       "    .dataframe thead th {\n",
       "        text-align: right;\n",
       "    }\n",
       "</style>\n",
       "<table border=\"1\" class=\"dataframe\">\n",
       "  <thead>\n",
       "    <tr style=\"text-align: right;\">\n",
       "      <th></th>\n",
       "      <th>MeterNumber</th>\n",
       "      <th>MFG_SERIAL_NUM</th>\n",
       "      <th>UDC_ID</th>\n",
       "      <th>NETWORK_ID</th>\n",
       "      <th>InstallationNumber</th>\n",
       "      <th>Status</th>\n",
       "      <th>INSERT_TIME</th>\n",
       "      <th>DECODE(D.ORG_ID,52,'SBPDCL',102,'NBPDCL')</th>\n",
       "    </tr>\n",
       "  </thead>\n",
       "  <tbody>\n",
       "    <tr>\n",
       "      <th>0</th>\n",
       "      <td>GOEGP4970294</td>\n",
       "      <td>GP4970294</td>\n",
       "      <td>404759210464358</td>\n",
       "      <td>2001:4490:0800:5F25:0000:0000:0000:0001</td>\n",
       "      <td>NaN</td>\n",
       "      <td>Meter Shop</td>\n",
       "      <td>8/7/2019 1:26:44 PM</td>\n",
       "      <td>SBPDCL</td>\n",
       "    </tr>\n",
       "  </tbody>\n",
       "</table>\n",
       "</div>"
      ],
      "text/plain": [
       "    MeterNumber MFG_SERIAL_NUM           UDC_ID  \\\n",
       "0  GOEGP4970294      GP4970294  404759210464358   \n",
       "\n",
       "                                NETWORK_ID InstallationNumber      Status  \\\n",
       "0  2001:4490:0800:5F25:0000:0000:0000:0001                NaN  Meter Shop   \n",
       "\n",
       "           INSERT_TIME DECODE(D.ORG_ID,52,'SBPDCL',102,'NBPDCL')  \n",
       "0  8/7/2019 1:26:44 PM                                    SBPDCL  "
      ]
     },
     "execution_count": 32,
     "metadata": {},
     "output_type": "execute_result"
    }
   ],
   "source": [
    "NB_SB_ASSET_COMBINED_DATAFRAME.head(1)"
   ]
  },
  {
   "cell_type": "code",
   "execution_count": 33,
   "metadata": {},
   "outputs": [],
   "source": [
    "meter_no_1126 =pd.merge(METER_1126_DATA, NB_SB_ASSET_COMBINED_DATAFRAME[['MFG_SERIAL_NUM',\"UDC_ID\",\"InstallationNumber\",\"Status\",\"DECODE(D.ORG_ID,52,'SBPDCL',102,'NBPDCL')\"]], left_on=['Meter No.'], right_on=['MFG_SERIAL_NUM'], how='left')"
   ]
  },
  {
   "cell_type": "code",
   "execution_count": 34,
   "metadata": {},
   "outputs": [
    {
     "data": {
      "text/html": [
       "<div>\n",
       "<style scoped>\n",
       "    .dataframe tbody tr th:only-of-type {\n",
       "        vertical-align: middle;\n",
       "    }\n",
       "\n",
       "    .dataframe tbody tr th {\n",
       "        vertical-align: top;\n",
       "    }\n",
       "\n",
       "    .dataframe thead th {\n",
       "        text-align: right;\n",
       "    }\n",
       "</style>\n",
       "<table border=\"1\" class=\"dataframe\">\n",
       "  <thead>\n",
       "    <tr style=\"text-align: right;\">\n",
       "      <th></th>\n",
       "      <th>sl no</th>\n",
       "      <th>Meter No.</th>\n",
       "      <th>Phase</th>\n",
       "      <th>WAREHOUSE_UTILITY</th>\n",
       "      <th>WAREHOUSE_STATUS</th>\n",
       "      <th>MAKE</th>\n",
       "      <th>IME</th>\n",
       "      <th>FINAL SIM</th>\n",
       "      <th>IMSI</th>\n",
       "      <th>IP</th>\n",
       "      <th>MFG_SERIAL_NUM</th>\n",
       "      <th>UDC_ID</th>\n",
       "      <th>InstallationNumber</th>\n",
       "      <th>Status</th>\n",
       "      <th>DECODE(D.ORG_ID,52,'SBPDCL',102,'NBPDCL')</th>\n",
       "    </tr>\n",
       "  </thead>\n",
       "  <tbody>\n",
       "    <tr>\n",
       "      <th>0</th>\n",
       "      <td>1</td>\n",
       "      <td>LT0164550</td>\n",
       "      <td>1 Phase</td>\n",
       "      <td>SBPDCL</td>\n",
       "      <td>S2S repaired</td>\n",
       "      <td>L&amp;T</td>\n",
       "      <td>861190055985524</td>\n",
       "      <td>8991856050706095561</td>\n",
       "      <td>405856706095561</td>\n",
       "      <td>2405:0203:0522:9F13:0000:0000:0000:0010</td>\n",
       "      <td>LT0164550</td>\n",
       "      <td>405856706095561</td>\n",
       "      <td>5002548022</td>\n",
       "      <td>Refurbished</td>\n",
       "      <td>SBPDCL</td>\n",
       "    </tr>\n",
       "    <tr>\n",
       "      <th>1</th>\n",
       "      <td>2</td>\n",
       "      <td>LT0364314</td>\n",
       "      <td>1 Phase</td>\n",
       "      <td>NBPDCL</td>\n",
       "      <td>S2S repaired</td>\n",
       "      <td>L&amp;T</td>\n",
       "      <td>861996077248679</td>\n",
       "      <td>8991856050706402335</td>\n",
       "      <td>405856706402335</td>\n",
       "      <td>2405:0203:0525:C6A1:0000:0000:0000:0010</td>\n",
       "      <td>LT0364314</td>\n",
       "      <td>405856706402335</td>\n",
       "      <td>5002884613</td>\n",
       "      <td>Refurbished</td>\n",
       "      <td>NBPDCL</td>\n",
       "    </tr>\n",
       "    <tr>\n",
       "      <th>2</th>\n",
       "      <td>3</td>\n",
       "      <td>LT1027418</td>\n",
       "      <td>1 Phase</td>\n",
       "      <td>NBPDCL</td>\n",
       "      <td>S2S repaired</td>\n",
       "      <td>L&amp;T</td>\n",
       "      <td>861996077250907</td>\n",
       "      <td>8991856040706794444</td>\n",
       "      <td>405856707339447</td>\n",
       "      <td>2405:0203:0530:EE5B:0000:0000:0000:0010</td>\n",
       "      <td>LT1027418</td>\n",
       "      <td>405856707339447</td>\n",
       "      <td>5001586266</td>\n",
       "      <td>Refurbished</td>\n",
       "      <td>NBPDCL</td>\n",
       "    </tr>\n",
       "    <tr>\n",
       "      <th>3</th>\n",
       "      <td>4</td>\n",
       "      <td>LT0867140</td>\n",
       "      <td>1 Phase</td>\n",
       "      <td>NBPDCL</td>\n",
       "      <td>S2S repaired</td>\n",
       "      <td>L&amp;T</td>\n",
       "      <td>861996077245535</td>\n",
       "      <td>8991856040706512797</td>\n",
       "      <td>405856707057806</td>\n",
       "      <td>2405:0203:052E:272C:0000:0000:0000:0010</td>\n",
       "      <td>LT0867140</td>\n",
       "      <td>405856707057806</td>\n",
       "      <td>5000695843</td>\n",
       "      <td>Refurbished</td>\n",
       "      <td>NBPDCL</td>\n",
       "    </tr>\n",
       "    <tr>\n",
       "      <th>4</th>\n",
       "      <td>5</td>\n",
       "      <td>LT1027870</td>\n",
       "      <td>1 Phase</td>\n",
       "      <td>NBPDCL</td>\n",
       "      <td>S2S repaired</td>\n",
       "      <td>L&amp;T</td>\n",
       "      <td>861996077262944</td>\n",
       "      <td>8991856040706553957</td>\n",
       "      <td>405856707098966</td>\n",
       "      <td>2405:0203:0530:F01F:0000:0000:0000:0010</td>\n",
       "      <td>LT1027870</td>\n",
       "      <td>405856707098966</td>\n",
       "      <td>5001564227</td>\n",
       "      <td>Refurbished</td>\n",
       "      <td>NBPDCL</td>\n",
       "    </tr>\n",
       "  </tbody>\n",
       "</table>\n",
       "</div>"
      ],
      "text/plain": [
       "   sl no  Meter No.    Phase WAREHOUSE_UTILITY WAREHOUSE_STATUS MAKE  \\\n",
       "0      1  LT0164550  1 Phase            SBPDCL     S2S repaired  L&T   \n",
       "1      2  LT0364314  1 Phase            NBPDCL     S2S repaired  L&T   \n",
       "2      3  LT1027418  1 Phase            NBPDCL     S2S repaired  L&T   \n",
       "3      4  LT0867140  1 Phase            NBPDCL     S2S repaired  L&T   \n",
       "4      5  LT1027870  1 Phase            NBPDCL     S2S repaired  L&T   \n",
       "\n",
       "               IME            FINAL SIM             IMSI  \\\n",
       "0  861190055985524  8991856050706095561  405856706095561   \n",
       "1  861996077248679  8991856050706402335  405856706402335   \n",
       "2  861996077250907  8991856040706794444  405856707339447   \n",
       "3  861996077245535  8991856040706512797  405856707057806   \n",
       "4  861996077262944  8991856040706553957  405856707098966   \n",
       "\n",
       "                                        IP MFG_SERIAL_NUM           UDC_ID  \\\n",
       "0  2405:0203:0522:9F13:0000:0000:0000:0010      LT0164550  405856706095561   \n",
       "1  2405:0203:0525:C6A1:0000:0000:0000:0010      LT0364314  405856706402335   \n",
       "2  2405:0203:0530:EE5B:0000:0000:0000:0010      LT1027418  405856707339447   \n",
       "3  2405:0203:052E:272C:0000:0000:0000:0010      LT0867140  405856707057806   \n",
       "4  2405:0203:0530:F01F:0000:0000:0000:0010      LT1027870  405856707098966   \n",
       "\n",
       "  InstallationNumber       Status DECODE(D.ORG_ID,52,'SBPDCL',102,'NBPDCL')  \n",
       "0         5002548022  Refurbished                                    SBPDCL  \n",
       "1         5002884613  Refurbished                                    NBPDCL  \n",
       "2         5001586266  Refurbished                                    NBPDCL  \n",
       "3         5000695843  Refurbished                                    NBPDCL  \n",
       "4         5001564227  Refurbished                                    NBPDCL  "
      ]
     },
     "execution_count": 34,
     "metadata": {},
     "output_type": "execute_result"
    }
   ],
   "source": [
    "meter_no_1126.head()"
   ]
  },
  {
   "cell_type": "code",
   "execution_count": 35,
   "metadata": {},
   "outputs": [],
   "source": [
    "# adding duplicate and unique in data set \n",
    "\n",
    "meter_no_1126['Duplicated'] = meter_no_1126.duplicated(subset=['Meter No.']).map({True: 'Duplicated', False: 'Unique'})"
   ]
  },
  {
   "cell_type": "code",
   "execution_count": null,
   "metadata": {},
   "outputs": [],
   "source": [
    "#meter_no_732 =pd.merge(REFURBISHED_732_METER, NB_SB_ASSET_COMBINED_DATAFRAME[['MFG_SERIAL_NUM',\"UDC_ID\",\"InstallationNumber\",\"Status\",\"DECODE(D.ORG_ID,52,'SBPDCL',102,'NBPDCL')\"]], left_on=['METER NO'], right_on=['MFG_SERIAL_NUM'], how='left')"
   ]
  },
  {
   "cell_type": "code",
   "execution_count": null,
   "metadata": {},
   "outputs": [],
   "source": [
    "meter_no_1126.to_csv(r\"C:\\Users\\Ratan Kumar Jha\\Desktop\\METER_IMPORTATION_FOLDER\\OTHER_FILE\\meter_no_1126.csv\",index=False)\n",
    "#meter_no_732.to_csv(r\"C:\\Users\\Ratan Kumar Jha\\Desktop\\METER_IMPORTATION_FOLDER\\OTHER_FILE\\meter_no_732.csv\",index=False)\n",
    "\n"
   ]
  },
  {
   "cell_type": "code",
   "execution_count": null,
   "metadata": {},
   "outputs": [],
   "source": []
  },
  {
   "cell_type": "code",
   "execution_count": null,
   "metadata": {},
   "outputs": [],
   "source": []
  }
 ],
 "metadata": {
  "kernelspec": {
   "display_name": "Python 3",
   "language": "python",
   "name": "python3"
  },
  "language_info": {
   "codemirror_mode": {
    "name": "ipython",
    "version": 3
   },
   "file_extension": ".py",
   "mimetype": "text/x-python",
   "name": "python",
   "nbconvert_exporter": "python",
   "pygments_lexer": "ipython3",
   "version": "3.9.18"
  }
 },
 "nbformat": 4,
 "nbformat_minor": 2
}
