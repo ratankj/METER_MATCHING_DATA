{
 "cells": [
  {
   "cell_type": "code",
   "execution_count": 193,
   "metadata": {},
   "outputs": [],
   "source": [
    "import pandas as pd"
   ]
  },
  {
   "cell_type": "markdown",
   "metadata": {},
   "source": [
    "# warehouse file"
   ]
  },
  {
   "cell_type": "code",
   "execution_count": 194,
   "metadata": {},
   "outputs": [
    {
     "data": {
      "text/plain": [
       "(6134, 7)"
      ]
     },
     "execution_count": 194,
     "metadata": {},
     "output_type": "execute_result"
    }
   ],
   "source": [
    "df_warehouse=pd.read_excel(r\"C:\\Users\\Ratan Kumar Jha\\Desktop\\METER_IMPORTATION_FOLDER\\INPUT_DATA_FILE\\6134 data file.xlsx\")\n",
    "df_warehouse.to_csv(\"warehouse_data.csv\",index=False)\n",
    "\n",
    "warehouse_Data = pd.read_csv(\"C:\\PYTHON\\EDF_CODE_AUTOMATION_PYTHON\\METER_MATCHING_DATA\\warehouse_data.csv\")\n",
    "\n",
    "warehouse_Data.shape"
   ]
  },
  {
   "cell_type": "code",
   "execution_count": 195,
   "metadata": {},
   "outputs": [
    {
     "data": {
      "text/html": [
       "<div>\n",
       "<style scoped>\n",
       "    .dataframe tbody tr th:only-of-type {\n",
       "        vertical-align: middle;\n",
       "    }\n",
       "\n",
       "    .dataframe tbody tr th {\n",
       "        vertical-align: top;\n",
       "    }\n",
       "\n",
       "    .dataframe thead th {\n",
       "        text-align: right;\n",
       "    }\n",
       "</style>\n",
       "<table border=\"1\" class=\"dataframe\">\n",
       "  <thead>\n",
       "    <tr style=\"text-align: right;\">\n",
       "      <th></th>\n",
       "      <th>Meter No.</th>\n",
       "      <th>PHASE</th>\n",
       "      <th>WAREHOUSE_UTILITY</th>\n",
       "      <th>IME</th>\n",
       "      <th>FINAL SIM</th>\n",
       "      <th>IMSI</th>\n",
       "      <th>IP</th>\n",
       "    </tr>\n",
       "  </thead>\n",
       "  <tbody>\n",
       "    <tr>\n",
       "      <th>0</th>\n",
       "      <td>GP5028887</td>\n",
       "      <td>1 Phase</td>\n",
       "      <td>SBPDCL</td>\n",
       "      <td>869912031946482</td>\n",
       "      <td>8991759065212004194</td>\n",
       "      <td>404751250004194</td>\n",
       "      <td>fd00:0000:0800:CCDA:0000:0000:0000:0001</td>\n",
       "    </tr>\n",
       "  </tbody>\n",
       "</table>\n",
       "</div>"
      ],
      "text/plain": [
       "   Meter No.    PHASE WAREHOUSE_UTILITY              IME            FINAL SIM  \\\n",
       "0  GP5028887  1 Phase            SBPDCL  869912031946482  8991759065212004194   \n",
       "\n",
       "              IMSI                                       IP  \n",
       "0  404751250004194  fd00:0000:0800:CCDA:0000:0000:0000:0001  "
      ]
     },
     "execution_count": 195,
     "metadata": {},
     "output_type": "execute_result"
    }
   ],
   "source": [
    "warehouse_Data.head(1)"
   ]
  },
  {
   "cell_type": "code",
   "execution_count": 196,
   "metadata": {},
   "outputs": [],
   "source": [
    "# changes in dataset like :- UPPER, SPACE REMOVAL , DATATYPE\n",
    "\n",
    "warehouse_Data = warehouse_Data.astype(str)\n",
    "warehouse_Data.columns = warehouse_Data.columns.str.upper()\n",
    "warehouse_Data = warehouse_Data.apply(lambda x: x.str.strip() if x.dtype == 'O' else x)\n",
    "warehouse_Data.columns = warehouse_Data.columns.str.strip()"
   ]
  },
  {
   "cell_type": "code",
   "execution_count": 197,
   "metadata": {},
   "outputs": [],
   "source": [
    "\n",
    "# Custom function to update meter numbers\n",
    "def update_meter_number(meter_number):\n",
    "    if meter_number.startswith('GP') or meter_number.startswith('GL'):\n",
    "        return 'GOE' + meter_number\n",
    "    elif meter_number.startswith('LT'):\n",
    "        return 'LNT' + meter_number\n",
    "    else:\n",
    "        return meter_number\n",
    "\n",
    "# Apply the custom function to each element in the 'METER NO.' column\n",
    "warehouse_Data['NEW_METER_NUMBER'] = warehouse_Data['METER NO.'].apply(update_meter_number)\n",
    "\n",
    "\n"
   ]
  },
  {
   "cell_type": "code",
   "execution_count": 198,
   "metadata": {},
   "outputs": [],
   "source": [
    "warehouse_Data_NB  = warehouse_Data[warehouse_Data['WAREHOUSE_UTILITY']=='NBPDCL']\n",
    "warehouse_Data_SB  = warehouse_Data[warehouse_Data['WAREHOUSE_UTILITY']=='SBPDCL']"
   ]
  },
  {
   "cell_type": "code",
   "execution_count": null,
   "metadata": {},
   "outputs": [],
   "source": []
  },
  {
   "cell_type": "markdown",
   "metadata": {},
   "source": [
    "# assest file"
   ]
  },
  {
   "cell_type": "code",
   "execution_count": 199,
   "metadata": {},
   "outputs": [],
   "source": [
    "assest_initiation_invent_sb = pd.read_csv(r\"C:\\Users\\Ratan Kumar Jha\\Desktop\\METER_IMPORTATION_FOLDER\\INPUT_DATA_FILE\\ASSET_INITIATION_INVENTORY_SB.CSV\")\n",
    "assest_initiation_invent_nb = pd.read_csv(r\"C:\\Users\\Ratan Kumar Jha\\Desktop\\METER_IMPORTATION_FOLDER\\INPUT_DATA_FILE\\ASSET_INITIATION_INVENTORY_NB.CSV\")"
   ]
  },
  {
   "cell_type": "code",
   "execution_count": 200,
   "metadata": {},
   "outputs": [],
   "source": [
    "warehouse_Data = warehouse_Data.astype(str)\n",
    "assest_initiation_invent_nb = assest_initiation_invent_nb.astype(str)\n",
    "assest_initiation_invent_sb = assest_initiation_invent_sb.astype(str)\n",
    "\n",
    "\n",
    "\n",
    "# change column name into upper string\n",
    "\n",
    "warehouse_Data.columns = warehouse_Data.columns.str.upper()\n",
    "assest_initiation_invent_nb.columns = assest_initiation_invent_nb.columns.str.upper()\n",
    "assest_initiation_invent_sb.columns = assest_initiation_invent_sb.columns.str.upper()\n",
    "\n",
    "\n",
    "\n",
    "# Remove leading and trailing whitespaces from all columns where dtype is 'O'\n",
    "\n",
    "warehouse_Data = warehouse_Data.apply(lambda x: x.str.strip() if x.dtype == 'O' else x)\n",
    "assest_initiation_invent_nb = assest_initiation_invent_nb.apply(lambda x: x.str.strip() if x.dtype == 'O' else x)\n",
    "assest_initiation_invent_sb = assest_initiation_invent_sb.apply(lambda x: x.str.strip() if x.dtype == 'O' else x)\n",
    "\n",
    "\n",
    "\n",
    "# strip the spaces in column \n",
    "\n",
    "warehouse_Data.columns = warehouse_Data.columns.str.strip()\n",
    "assest_initiation_invent_nb.columns = assest_initiation_invent_nb.columns.str.strip()\n",
    "assest_initiation_invent_sb.columns = assest_initiation_invent_sb.columns.str.strip()"
   ]
  },
  {
   "cell_type": "code",
   "execution_count": 201,
   "metadata": {},
   "outputs": [
    {
     "data": {
      "text/plain": [
       "(3531, 8)"
      ]
     },
     "execution_count": 201,
     "metadata": {},
     "output_type": "execute_result"
    }
   ],
   "source": [
    "warehouse_Data_NB.shape"
   ]
  },
  {
   "cell_type": "code",
   "execution_count": 202,
   "metadata": {},
   "outputs": [
    {
     "data": {
      "text/plain": [
       "(2603, 8)"
      ]
     },
     "execution_count": 202,
     "metadata": {},
     "output_type": "execute_result"
    }
   ],
   "source": [
    "warehouse_Data_SB.shape"
   ]
  },
  {
   "cell_type": "code",
   "execution_count": null,
   "metadata": {},
   "outputs": [],
   "source": []
  },
  {
   "cell_type": "markdown",
   "metadata": {},
   "source": [
    "# working on data"
   ]
  },
  {
   "cell_type": "code",
   "execution_count": 203,
   "metadata": {},
   "outputs": [
    {
     "data": {
      "text/html": [
       "<div>\n",
       "<style scoped>\n",
       "    .dataframe tbody tr th:only-of-type {\n",
       "        vertical-align: middle;\n",
       "    }\n",
       "\n",
       "    .dataframe tbody tr th {\n",
       "        vertical-align: top;\n",
       "    }\n",
       "\n",
       "    .dataframe thead th {\n",
       "        text-align: right;\n",
       "    }\n",
       "</style>\n",
       "<table border=\"1\" class=\"dataframe\">\n",
       "  <thead>\n",
       "    <tr style=\"text-align: right;\">\n",
       "      <th></th>\n",
       "      <th>METER NO.</th>\n",
       "      <th>PHASE</th>\n",
       "      <th>WAREHOUSE_UTILITY</th>\n",
       "      <th>IME</th>\n",
       "      <th>FINAL SIM</th>\n",
       "      <th>IMSI</th>\n",
       "      <th>IP</th>\n",
       "      <th>NEW_METER_NUMBER</th>\n",
       "    </tr>\n",
       "  </thead>\n",
       "  <tbody>\n",
       "    <tr>\n",
       "      <th>2603</th>\n",
       "      <td>LT0346339</td>\n",
       "      <td>1 Phase</td>\n",
       "      <td>NBPDCL</td>\n",
       "      <td>865681060086437</td>\n",
       "      <td>8991856050706502419</td>\n",
       "      <td>405856706497419</td>\n",
       "      <td>2405:0203:0527:0696:0000:0000:0000:0010</td>\n",
       "      <td>LNTLT0346339</td>\n",
       "    </tr>\n",
       "  </tbody>\n",
       "</table>\n",
       "</div>"
      ],
      "text/plain": [
       "      METER NO.    PHASE WAREHOUSE_UTILITY              IME  \\\n",
       "2603  LT0346339  1 Phase            NBPDCL  865681060086437   \n",
       "\n",
       "                FINAL SIM             IMSI  \\\n",
       "2603  8991856050706502419  405856706497419   \n",
       "\n",
       "                                           IP NEW_METER_NUMBER  \n",
       "2603  2405:0203:0527:0696:0000:0000:0000:0010     LNTLT0346339  "
      ]
     },
     "execution_count": 203,
     "metadata": {},
     "output_type": "execute_result"
    }
   ],
   "source": [
    "warehouse_Data_NB.head(1)\n"
   ]
  },
  {
   "cell_type": "code",
   "execution_count": 204,
   "metadata": {},
   "outputs": [
    {
     "data": {
      "text/html": [
       "<div>\n",
       "<style scoped>\n",
       "    .dataframe tbody tr th:only-of-type {\n",
       "        vertical-align: middle;\n",
       "    }\n",
       "\n",
       "    .dataframe tbody tr th {\n",
       "        vertical-align: top;\n",
       "    }\n",
       "\n",
       "    .dataframe thead th {\n",
       "        text-align: right;\n",
       "    }\n",
       "</style>\n",
       "<table border=\"1\" class=\"dataframe\">\n",
       "  <thead>\n",
       "    <tr style=\"text-align: right;\">\n",
       "      <th></th>\n",
       "      <th>METER NO.</th>\n",
       "      <th>PHASE</th>\n",
       "      <th>WAREHOUSE_UTILITY</th>\n",
       "      <th>IME</th>\n",
       "      <th>FINAL SIM</th>\n",
       "      <th>IMSI</th>\n",
       "      <th>IP</th>\n",
       "      <th>NEW_METER_NUMBER</th>\n",
       "    </tr>\n",
       "  </thead>\n",
       "  <tbody>\n",
       "    <tr>\n",
       "      <th>0</th>\n",
       "      <td>GP5028887</td>\n",
       "      <td>1 Phase</td>\n",
       "      <td>SBPDCL</td>\n",
       "      <td>869912031946482</td>\n",
       "      <td>8991759065212004194</td>\n",
       "      <td>404751250004194</td>\n",
       "      <td>fd00:0000:0800:CCDA:0000:0000:0000:0001</td>\n",
       "      <td>GOEGP5028887</td>\n",
       "    </tr>\n",
       "  </tbody>\n",
       "</table>\n",
       "</div>"
      ],
      "text/plain": [
       "   METER NO.    PHASE WAREHOUSE_UTILITY              IME            FINAL SIM  \\\n",
       "0  GP5028887  1 Phase            SBPDCL  869912031946482  8991759065212004194   \n",
       "\n",
       "              IMSI                                       IP NEW_METER_NUMBER  \n",
       "0  404751250004194  fd00:0000:0800:CCDA:0000:0000:0000:0001     GOEGP5028887  "
      ]
     },
     "execution_count": 204,
     "metadata": {},
     "output_type": "execute_result"
    }
   ],
   "source": [
    "warehouse_Data_SB.head(1)"
   ]
  },
  {
   "cell_type": "code",
   "execution_count": 205,
   "metadata": {},
   "outputs": [
    {
     "data": {
      "text/html": [
       "<div>\n",
       "<style scoped>\n",
       "    .dataframe tbody tr th:only-of-type {\n",
       "        vertical-align: middle;\n",
       "    }\n",
       "\n",
       "    .dataframe tbody tr th {\n",
       "        vertical-align: top;\n",
       "    }\n",
       "\n",
       "    .dataframe thead th {\n",
       "        text-align: right;\n",
       "    }\n",
       "</style>\n",
       "<table border=\"1\" class=\"dataframe\">\n",
       "  <thead>\n",
       "    <tr style=\"text-align: right;\">\n",
       "      <th></th>\n",
       "      <th>METERNUMBER</th>\n",
       "      <th>MFG_SERIAL_NUM</th>\n",
       "      <th>UDC_ID</th>\n",
       "      <th>NETWORK_ID</th>\n",
       "      <th>INSTALLATIONNUMBER</th>\n",
       "      <th>STATUS</th>\n",
       "      <th>INSERT_TIME</th>\n",
       "      <th>DECODE(D.ORG_ID,52,'SBPDCL',102,'NBPDCL')</th>\n",
       "    </tr>\n",
       "  </thead>\n",
       "  <tbody>\n",
       "    <tr>\n",
       "      <th>0</th>\n",
       "      <td>GOEGP4968974</td>\n",
       "      <td>GP4968974</td>\n",
       "      <td>404759210464692</td>\n",
       "      <td>2001:4490:0800:6073:0000:0000:0000:0001</td>\n",
       "      <td>MUZW-2290805636</td>\n",
       "      <td>Retired</td>\n",
       "      <td>9/2/2019 1:07:37 AM</td>\n",
       "      <td>NBPDCL</td>\n",
       "    </tr>\n",
       "    <tr>\n",
       "      <th>1</th>\n",
       "      <td>GOEGP4881969</td>\n",
       "      <td>GP4881969</td>\n",
       "      <td>404751250450510</td>\n",
       "      <td>2001:4490:0800:A41A:0000:0000:0000:0001</td>\n",
       "      <td>DALGND-816</td>\n",
       "      <td>Installed</td>\n",
       "      <td>9/9/2019 1:01:27 AM</td>\n",
       "      <td>NBPDCL</td>\n",
       "    </tr>\n",
       "  </tbody>\n",
       "</table>\n",
       "</div>"
      ],
      "text/plain": [
       "    METERNUMBER MFG_SERIAL_NUM           UDC_ID  \\\n",
       "0  GOEGP4968974      GP4968974  404759210464692   \n",
       "1  GOEGP4881969      GP4881969  404751250450510   \n",
       "\n",
       "                                NETWORK_ID INSTALLATIONNUMBER     STATUS  \\\n",
       "0  2001:4490:0800:6073:0000:0000:0000:0001    MUZW-2290805636    Retired   \n",
       "1  2001:4490:0800:A41A:0000:0000:0000:0001         DALGND-816  Installed   \n",
       "\n",
       "           INSERT_TIME DECODE(D.ORG_ID,52,'SBPDCL',102,'NBPDCL')  \n",
       "0  9/2/2019 1:07:37 AM                                    NBPDCL  \n",
       "1  9/9/2019 1:01:27 AM                                    NBPDCL  "
      ]
     },
     "execution_count": 205,
     "metadata": {},
     "output_type": "execute_result"
    }
   ],
   "source": [
    "assest_initiation_invent_nb.head(2)"
   ]
  },
  {
   "cell_type": "code",
   "execution_count": null,
   "metadata": {},
   "outputs": [],
   "source": []
  },
  {
   "cell_type": "markdown",
   "metadata": {},
   "source": [
    "# merge"
   ]
  },
  {
   "cell_type": "code",
   "execution_count": 206,
   "metadata": {},
   "outputs": [],
   "source": [
    "MERGE_WAREHOUSE_ASSET_NB=pd.merge(warehouse_Data_NB,assest_initiation_invent_nb[['METERNUMBER','UDC_ID','NETWORK_ID','STATUS']],left_on=['NEW_METER_NUMBER','IMSI','IP'],right_on=['METERNUMBER','UDC_ID','NETWORK_ID'],how ='left')\n",
    "\n",
    "MERGE_WAREHOUSE_ASSET_SB=pd.merge(warehouse_Data_SB,assest_initiation_invent_sb[['METERNUMBER','UDC_ID','NETWORK_ID','STATUS']],left_on=['NEW_METER_NUMBER','IMSI','IP'],right_on=['METERNUMBER','UDC_ID','NETWORK_ID'],how ='left')"
   ]
  },
  {
   "cell_type": "code",
   "execution_count": 207,
   "metadata": {},
   "outputs": [
    {
     "data": {
      "text/html": [
       "<div>\n",
       "<style scoped>\n",
       "    .dataframe tbody tr th:only-of-type {\n",
       "        vertical-align: middle;\n",
       "    }\n",
       "\n",
       "    .dataframe tbody tr th {\n",
       "        vertical-align: top;\n",
       "    }\n",
       "\n",
       "    .dataframe thead th {\n",
       "        text-align: right;\n",
       "    }\n",
       "</style>\n",
       "<table border=\"1\" class=\"dataframe\">\n",
       "  <thead>\n",
       "    <tr style=\"text-align: right;\">\n",
       "      <th></th>\n",
       "      <th>METER NO.</th>\n",
       "      <th>PHASE</th>\n",
       "      <th>WAREHOUSE_UTILITY</th>\n",
       "      <th>IME</th>\n",
       "      <th>FINAL SIM</th>\n",
       "      <th>IMSI</th>\n",
       "      <th>IP</th>\n",
       "      <th>NEW_METER_NUMBER</th>\n",
       "      <th>METERNUMBER</th>\n",
       "      <th>UDC_ID</th>\n",
       "      <th>NETWORK_ID</th>\n",
       "      <th>STATUS</th>\n",
       "    </tr>\n",
       "  </thead>\n",
       "  <tbody>\n",
       "    <tr>\n",
       "      <th>0</th>\n",
       "      <td>LT0346339</td>\n",
       "      <td>1 Phase</td>\n",
       "      <td>NBPDCL</td>\n",
       "      <td>865681060086437</td>\n",
       "      <td>8991856050706502419</td>\n",
       "      <td>405856706497419</td>\n",
       "      <td>2405:0203:0527:0696:0000:0000:0000:0010</td>\n",
       "      <td>LNTLT0346339</td>\n",
       "      <td>NaN</td>\n",
       "      <td>NaN</td>\n",
       "      <td>NaN</td>\n",
       "      <td>NaN</td>\n",
       "    </tr>\n",
       "  </tbody>\n",
       "</table>\n",
       "</div>"
      ],
      "text/plain": [
       "   METER NO.    PHASE WAREHOUSE_UTILITY              IME            FINAL SIM  \\\n",
       "0  LT0346339  1 Phase            NBPDCL  865681060086437  8991856050706502419   \n",
       "\n",
       "              IMSI                                       IP NEW_METER_NUMBER  \\\n",
       "0  405856706497419  2405:0203:0527:0696:0000:0000:0000:0010     LNTLT0346339   \n",
       "\n",
       "  METERNUMBER UDC_ID NETWORK_ID STATUS  \n",
       "0         NaN    NaN        NaN    NaN  "
      ]
     },
     "execution_count": 207,
     "metadata": {},
     "output_type": "execute_result"
    }
   ],
   "source": [
    "MERGE_WAREHOUSE_ASSET_NB.head(1)"
   ]
  },
  {
   "cell_type": "code",
   "execution_count": 208,
   "metadata": {},
   "outputs": [
    {
     "data": {
      "text/html": [
       "<div>\n",
       "<style scoped>\n",
       "    .dataframe tbody tr th:only-of-type {\n",
       "        vertical-align: middle;\n",
       "    }\n",
       "\n",
       "    .dataframe tbody tr th {\n",
       "        vertical-align: top;\n",
       "    }\n",
       "\n",
       "    .dataframe thead th {\n",
       "        text-align: right;\n",
       "    }\n",
       "</style>\n",
       "<table border=\"1\" class=\"dataframe\">\n",
       "  <thead>\n",
       "    <tr style=\"text-align: right;\">\n",
       "      <th></th>\n",
       "      <th>METER NO.</th>\n",
       "      <th>PHASE</th>\n",
       "      <th>WAREHOUSE_UTILITY</th>\n",
       "      <th>IME</th>\n",
       "      <th>FINAL SIM</th>\n",
       "      <th>IMSI</th>\n",
       "      <th>IP</th>\n",
       "      <th>NEW_METER_NUMBER</th>\n",
       "      <th>METERNUMBER</th>\n",
       "      <th>UDC_ID</th>\n",
       "      <th>NETWORK_ID</th>\n",
       "      <th>STATUS</th>\n",
       "    </tr>\n",
       "  </thead>\n",
       "  <tbody>\n",
       "    <tr>\n",
       "      <th>0</th>\n",
       "      <td>GP5028887</td>\n",
       "      <td>1 Phase</td>\n",
       "      <td>SBPDCL</td>\n",
       "      <td>869912031946482</td>\n",
       "      <td>8991759065212004194</td>\n",
       "      <td>404751250004194</td>\n",
       "      <td>fd00:0000:0800:CCDA:0000:0000:0000:0001</td>\n",
       "      <td>GOEGP5028887</td>\n",
       "      <td>NaN</td>\n",
       "      <td>NaN</td>\n",
       "      <td>NaN</td>\n",
       "      <td>NaN</td>\n",
       "    </tr>\n",
       "  </tbody>\n",
       "</table>\n",
       "</div>"
      ],
      "text/plain": [
       "   METER NO.    PHASE WAREHOUSE_UTILITY              IME            FINAL SIM  \\\n",
       "0  GP5028887  1 Phase            SBPDCL  869912031946482  8991759065212004194   \n",
       "\n",
       "              IMSI                                       IP NEW_METER_NUMBER  \\\n",
       "0  404751250004194  fd00:0000:0800:CCDA:0000:0000:0000:0001     GOEGP5028887   \n",
       "\n",
       "  METERNUMBER UDC_ID NETWORK_ID STATUS  \n",
       "0         NaN    NaN        NaN    NaN  "
      ]
     },
     "execution_count": 208,
     "metadata": {},
     "output_type": "execute_result"
    }
   ],
   "source": [
    "MERGE_WAREHOUSE_ASSET_SB.head(1)"
   ]
  },
  {
   "cell_type": "code",
   "execution_count": 209,
   "metadata": {},
   "outputs": [],
   "source": [
    "MERGE_WAREHOUSE_ASSET_NB.to_csv(r\"C:\\Users\\Ratan Kumar Jha\\Desktop\\METER_IMPORTATION_FOLDER\\OUTPUT_FILE_DATA_MODIFICATION\\MERGE_WAREHOUSE_ASSET_NB.csv\")\n",
    "MERGE_WAREHOUSE_ASSET_SB.to_csv(r\"C:\\Users\\Ratan Kumar Jha\\Desktop\\METER_IMPORTATION_FOLDER\\OUTPUT_FILE_DATA_MODIFICATION\\MERGE_WAREHOUSE_ASSET_SB.csv\")"
   ]
  },
  {
   "cell_type": "code",
   "execution_count": 210,
   "metadata": {},
   "outputs": [
    {
     "data": {
      "text/plain": [
       "array([nan, 'Installed', 'Meter Shop', 'Refurbished', 'Retired'],\n",
       "      dtype=object)"
      ]
     },
     "execution_count": 210,
     "metadata": {},
     "output_type": "execute_result"
    }
   ],
   "source": [
    "MERGE_WAREHOUSE_ASSET_NB['STATUS'].unique()"
   ]
  },
  {
   "cell_type": "code",
   "execution_count": 211,
   "metadata": {},
   "outputs": [
    {
     "data": {
      "text/plain": [
       "array([nan, 'Meter Shop', 'Refurbished', 'Installed', 'Retired'],\n",
       "      dtype=object)"
      ]
     },
     "execution_count": 211,
     "metadata": {},
     "output_type": "execute_result"
    }
   ],
   "source": [
    "MERGE_WAREHOUSE_ASSET_SB['STATUS'].unique()"
   ]
  },
  {
   "cell_type": "markdown",
   "metadata": {},
   "source": [
    "# refurbished and meter soap"
   ]
  },
  {
   "cell_type": "code",
   "execution_count": 212,
   "metadata": {},
   "outputs": [],
   "source": [
    "MERGE_WAREHOUSE_ASSET_NB_REFUR_METER_SOAP = MERGE_WAREHOUSE_ASSET_NB[(MERGE_WAREHOUSE_ASSET_NB['STATUS'] == 'Meter Shop') |  (MERGE_WAREHOUSE_ASSET_NB['STATUS'] == 'Refurbished')]\n",
    "\n",
    "MERGE_WAREHOUSE_ASSET_SB_REFUR_METER_SOAP = MERGE_WAREHOUSE_ASSET_SB[(MERGE_WAREHOUSE_ASSET_SB['STATUS'] == 'Meter Shop') |  (MERGE_WAREHOUSE_ASSET_SB['STATUS'] == 'Refurbished')]"
   ]
  },
  {
   "cell_type": "code",
   "execution_count": 213,
   "metadata": {},
   "outputs": [
    {
     "data": {
      "text/plain": [
       "array(['Meter Shop', 'Refurbished'], dtype=object)"
      ]
     },
     "execution_count": 213,
     "metadata": {},
     "output_type": "execute_result"
    }
   ],
   "source": [
    "MERGE_WAREHOUSE_ASSET_NB_REFUR_METER_SOAP['STATUS'].unique()"
   ]
  },
  {
   "cell_type": "code",
   "execution_count": 214,
   "metadata": {},
   "outputs": [
    {
     "data": {
      "text/plain": [
       "array(['Meter Shop', 'Refurbished'], dtype=object)"
      ]
     },
     "execution_count": 214,
     "metadata": {},
     "output_type": "execute_result"
    }
   ],
   "source": [
    "MERGE_WAREHOUSE_ASSET_SB_REFUR_METER_SOAP['STATUS'].unique()"
   ]
  },
  {
   "cell_type": "code",
   "execution_count": 215,
   "metadata": {},
   "outputs": [],
   "source": [
    "MERGE_WAREHOUSE_ASSET_NB_REFUR_METER_SOAP.to_csv(r\"C:\\Users\\Ratan Kumar Jha\\Desktop\\METER_IMPORTATION_FOLDER\\OUTPUT_FILE_DATA_MODIFICATION\\MERGE_WAREHOUSE_ASSET_NB_REFUR_METER_SOAP.csv\")\n",
    "MERGE_WAREHOUSE_ASSET_SB_REFUR_METER_SOAP.to_csv(r\"C:\\Users\\Ratan Kumar Jha\\Desktop\\METER_IMPORTATION_FOLDER\\OUTPUT_FILE_DATA_MODIFICATION\\MERGE_WAREHOUSE_ASSET_SB_REFUR_METER_SOAP.csv\")"
   ]
  },
  {
   "cell_type": "code",
   "execution_count": null,
   "metadata": {},
   "outputs": [],
   "source": []
  },
  {
   "cell_type": "code",
   "execution_count": 216,
   "metadata": {},
   "outputs": [
    {
     "ename": "SyntaxError",
     "evalue": "invalid syntax (640615653.py, line 1)",
     "output_type": "error",
     "traceback": [
      "\u001b[1;36m  Cell \u001b[1;32mIn[216], line 1\u001b[1;36m\u001b[0m\n\u001b[1;33m    fda  adsf\u001b[0m\n\u001b[1;37m         ^\u001b[0m\n\u001b[1;31mSyntaxError\u001b[0m\u001b[1;31m:\u001b[0m invalid syntax\n"
     ]
    }
   ],
   "source": [
    "fda  adsf "
   ]
  },
  {
   "cell_type": "code",
   "execution_count": null,
   "metadata": {},
   "outputs": [],
   "source": []
  },
  {
   "cell_type": "code",
   "execution_count": null,
   "metadata": {},
   "outputs": [],
   "source": [
    "MERGE_WAREHOUSE_ASSET_NB_WITHOUT_REFUR_METER_SOAP = MERGE_WAREHOUSE_ASSET_NB[(MERGE_WAREHOUSE_ASSET_NB['STATUS'] != 'Meter Shop') &  (MERGE_WAREHOUSE_ASSET_NB['STATUS'] != 'Refurbished')]\n",
    "\n",
    "MERGE_WAREHOUSE_ASSET_SB_WITHOUT_REFUR_METER_SOAP = MERGE_WAREHOUSE_ASSET_SB[(MERGE_WAREHOUSE_ASSET_SB['STATUS'] != 'Meter Shop') &  (MERGE_WAREHOUSE_ASSET_SB['STATUS'] != 'Refurbished')]"
   ]
  },
  {
   "cell_type": "code",
   "execution_count": null,
   "metadata": {},
   "outputs": [],
   "source": [
    "MERGE_WAREHOUSE_ASSET_NB_WITHOUT_REFUR_METER_SOAP.to_csv(r\"C:\\Users\\Ratan Kumar Jha\\Desktop\\METER_IMPORTATION_FOLDER\\OUTPUT_FILE_DATA_MODIFICATION\\MERGE_WAREHOUSE_ASSET_NB_WITHOUT_REFUR_METER_SOAP.csv\",index=False)\n",
    "MERGE_WAREHOUSE_ASSET_SB_WITHOUT_REFUR_METER_SOAP.to_csv(r\"C:\\Users\\Ratan Kumar Jha\\Desktop\\METER_IMPORTATION_FOLDER\\OUTPUT_FILE_DATA_MODIFICATION\\MERGE_WAREHOUSE_ASSET_SB_WITHOUT_REFUR_METER_SOAP.csv\",index=False)"
   ]
  },
  {
   "cell_type": "code",
   "execution_count": null,
   "metadata": {},
   "outputs": [
    {
     "data": {
      "text/plain": [
       "(1255, 12)"
      ]
     },
     "execution_count": 53,
     "metadata": {},
     "output_type": "execute_result"
    }
   ],
   "source": [
    "MERGE_WAREHOUSE_ASSET_SB_WITHOUT_REFUR_METER_SOAP.shape"
   ]
  },
  {
   "cell_type": "code",
   "execution_count": null,
   "metadata": {},
   "outputs": [
    {
     "data": {
      "text/plain": [
       "(2465, 12)"
      ]
     },
     "execution_count": 54,
     "metadata": {},
     "output_type": "execute_result"
    }
   ],
   "source": [
    "MERGE_WAREHOUSE_ASSET_NB_WITHOUT_REFUR_METER_SOAP.shape\n"
   ]
  },
  {
   "cell_type": "code",
   "execution_count": null,
   "metadata": {},
   "outputs": [
    {
     "data": {
      "text/plain": [
       "3720"
      ]
     },
     "execution_count": 55,
     "metadata": {},
     "output_type": "execute_result"
    }
   ],
   "source": [
    "1255 +2465"
   ]
  },
  {
   "cell_type": "code",
   "execution_count": null,
   "metadata": {},
   "outputs": [],
   "source": [
    "MERGE_WAREHOUSE_ASSET_NB_SB_WITHOUT_REFUR_METER_SOAP = pd.concat([MERGE_WAREHOUSE_ASSET_NB_WITHOUT_REFUR_METER_SOAP,MERGE_WAREHOUSE_ASSET_SB_WITHOUT_REFUR_METER_SOAP], ignore_index=True)"
   ]
  },
  {
   "cell_type": "code",
   "execution_count": null,
   "metadata": {},
   "outputs": [
    {
     "data": {
      "text/html": [
       "<div>\n",
       "<style scoped>\n",
       "    .dataframe tbody tr th:only-of-type {\n",
       "        vertical-align: middle;\n",
       "    }\n",
       "\n",
       "    .dataframe tbody tr th {\n",
       "        vertical-align: top;\n",
       "    }\n",
       "\n",
       "    .dataframe thead th {\n",
       "        text-align: right;\n",
       "    }\n",
       "</style>\n",
       "<table border=\"1\" class=\"dataframe\">\n",
       "  <thead>\n",
       "    <tr style=\"text-align: right;\">\n",
       "      <th></th>\n",
       "      <th>METER NO.</th>\n",
       "      <th>PHASE</th>\n",
       "      <th>WAREHOUSE_UTILITY</th>\n",
       "      <th>IME</th>\n",
       "      <th>FINAL SIM</th>\n",
       "      <th>IMSI</th>\n",
       "      <th>IP</th>\n",
       "      <th>NEW_METER_NUMBER</th>\n",
       "      <th>METERNUMBER</th>\n",
       "      <th>UDC_ID</th>\n",
       "      <th>NETWORK_ID</th>\n",
       "      <th>STATUS</th>\n",
       "    </tr>\n",
       "  </thead>\n",
       "  <tbody>\n",
       "    <tr>\n",
       "      <th>0</th>\n",
       "      <td>LT0346339</td>\n",
       "      <td>1 Phase</td>\n",
       "      <td>NBPDCL</td>\n",
       "      <td>865681060086437</td>\n",
       "      <td>8991856050706502419</td>\n",
       "      <td>405856706497419</td>\n",
       "      <td>2405:0203:0527:0696:0000:0000:0000:0010</td>\n",
       "      <td>LNTLT0346339</td>\n",
       "      <td>NaN</td>\n",
       "      <td>NaN</td>\n",
       "      <td>NaN</td>\n",
       "      <td>NaN</td>\n",
       "    </tr>\n",
       "  </tbody>\n",
       "</table>\n",
       "</div>"
      ],
      "text/plain": [
       "   METER NO.    PHASE WAREHOUSE_UTILITY              IME            FINAL SIM  \\\n",
       "0  LT0346339  1 Phase            NBPDCL  865681060086437  8991856050706502419   \n",
       "\n",
       "              IMSI                                       IP NEW_METER_NUMBER  \\\n",
       "0  405856706497419  2405:0203:0527:0696:0000:0000:0000:0010     LNTLT0346339   \n",
       "\n",
       "  METERNUMBER UDC_ID NETWORK_ID STATUS  \n",
       "0         NaN    NaN        NaN    NaN  "
      ]
     },
     "execution_count": 58,
     "metadata": {},
     "output_type": "execute_result"
    }
   ],
   "source": [
    "MERGE_WAREHOUSE_ASSET_NB_SB_WITHOUT_REFUR_METER_SOAP.head(1)"
   ]
  },
  {
   "cell_type": "code",
   "execution_count": null,
   "metadata": {},
   "outputs": [],
   "source": [
    "MERGE_WAREHOUSE_ASSET_NB_SB_WITHOUT_REFUR_METER_SOAP.drop(['NEW_METER_NUMBER','METERNUMBER','UDC_ID','NETWORK_ID','STATUS'], axis=1, inplace=True)"
   ]
  },
  {
   "cell_type": "code",
   "execution_count": null,
   "metadata": {},
   "outputs": [
    {
     "data": {
      "text/plain": [
       "(3720, 7)"
      ]
     },
     "execution_count": 64,
     "metadata": {},
     "output_type": "execute_result"
    }
   ],
   "source": [
    "MERGE_WAREHOUSE_ASSET_NB_SB_WITHOUT_REFUR_METER_SOAP.shape"
   ]
  },
  {
   "cell_type": "code",
   "execution_count": null,
   "metadata": {},
   "outputs": [],
   "source": [
    "WAREHOUSE_DATA_FILE = MERGE_WAREHOUSE_ASSET_NB_SB_WITHOUT_REFUR_METER_SOAP"
   ]
  },
  {
   "cell_type": "code",
   "execution_count": null,
   "metadata": {},
   "outputs": [
    {
     "data": {
      "text/html": [
       "<div>\n",
       "<style scoped>\n",
       "    .dataframe tbody tr th:only-of-type {\n",
       "        vertical-align: middle;\n",
       "    }\n",
       "\n",
       "    .dataframe tbody tr th {\n",
       "        vertical-align: top;\n",
       "    }\n",
       "\n",
       "    .dataframe thead th {\n",
       "        text-align: right;\n",
       "    }\n",
       "</style>\n",
       "<table border=\"1\" class=\"dataframe\">\n",
       "  <thead>\n",
       "    <tr style=\"text-align: right;\">\n",
       "      <th></th>\n",
       "      <th>METER NO.</th>\n",
       "      <th>PHASE</th>\n",
       "      <th>WAREHOUSE_UTILITY</th>\n",
       "      <th>IME</th>\n",
       "      <th>FINAL SIM</th>\n",
       "      <th>IMSI</th>\n",
       "      <th>IP</th>\n",
       "    </tr>\n",
       "  </thead>\n",
       "  <tbody>\n",
       "    <tr>\n",
       "      <th>0</th>\n",
       "      <td>LT0346339</td>\n",
       "      <td>1 Phase</td>\n",
       "      <td>NBPDCL</td>\n",
       "      <td>865681060086437</td>\n",
       "      <td>8991856050706502419</td>\n",
       "      <td>405856706497419</td>\n",
       "      <td>2405:0203:0527:0696:0000:0000:0000:0010</td>\n",
       "    </tr>\n",
       "    <tr>\n",
       "      <th>1</th>\n",
       "      <td>LT0347039</td>\n",
       "      <td>1 Phase</td>\n",
       "      <td>NBPDCL</td>\n",
       "      <td>869810056010897</td>\n",
       "      <td>8991856050706376051</td>\n",
       "      <td>405856706376051</td>\n",
       "      <td>2405:0203:0525:5541:0000:0000:0000:0010</td>\n",
       "    </tr>\n",
       "    <tr>\n",
       "      <th>2</th>\n",
       "      <td>LT0048504</td>\n",
       "      <td>1 Phase</td>\n",
       "      <td>NBPDCL</td>\n",
       "      <td>861089054495479</td>\n",
       "      <td>8991856050706213290</td>\n",
       "      <td>405856706213290</td>\n",
       "      <td>2405:0203:0520:B587:0000:0000:0000:0010</td>\n",
       "    </tr>\n",
       "    <tr>\n",
       "      <th>3</th>\n",
       "      <td>LT0391803</td>\n",
       "      <td>1 Phase</td>\n",
       "      <td>NBPDCL</td>\n",
       "      <td>865575064589372</td>\n",
       "      <td>8991856040706681880</td>\n",
       "      <td>405856707226888</td>\n",
       "      <td>2405:0203:052E:12C5:0000:0000:0000:0010</td>\n",
       "    </tr>\n",
       "    <tr>\n",
       "      <th>4</th>\n",
       "      <td>LT0509672</td>\n",
       "      <td>1 Phase</td>\n",
       "      <td>NBPDCL</td>\n",
       "      <td>865575064710895</td>\n",
       "      <td>8991856040706026298</td>\n",
       "      <td>405856706571320</td>\n",
       "      <td>2405:0203:0527:83A9:0000:0000:0000:0010</td>\n",
       "    </tr>\n",
       "  </tbody>\n",
       "</table>\n",
       "</div>"
      ],
      "text/plain": [
       "   METER NO.    PHASE WAREHOUSE_UTILITY              IME            FINAL SIM  \\\n",
       "0  LT0346339  1 Phase            NBPDCL  865681060086437  8991856050706502419   \n",
       "1  LT0347039  1 Phase            NBPDCL  869810056010897  8991856050706376051   \n",
       "2  LT0048504  1 Phase            NBPDCL  861089054495479  8991856050706213290   \n",
       "3  LT0391803  1 Phase            NBPDCL  865575064589372  8991856040706681880   \n",
       "4  LT0509672  1 Phase            NBPDCL  865575064710895  8991856040706026298   \n",
       "\n",
       "              IMSI                                       IP  \n",
       "0  405856706497419  2405:0203:0527:0696:0000:0000:0000:0010  \n",
       "1  405856706376051  2405:0203:0525:5541:0000:0000:0000:0010  \n",
       "2  405856706213290  2405:0203:0520:B587:0000:0000:0000:0010  \n",
       "3  405856707226888  2405:0203:052E:12C5:0000:0000:0000:0010  \n",
       "4  405856706571320  2405:0203:0527:83A9:0000:0000:0000:0010  "
      ]
     },
     "execution_count": 63,
     "metadata": {},
     "output_type": "execute_result"
    }
   ],
   "source": [
    "WAREHOUSE_DATA_FILE.head()"
   ]
  },
  {
   "cell_type": "code",
   "execution_count": null,
   "metadata": {},
   "outputs": [],
   "source": [
    "WAREHOUSE_DATA_FILE.to_csv(r\"C:\\Users\\Ratan Kumar Jha\\Desktop\\METER_IMPORTATION_FOLDER\\OUTPUT_FILE_DATA_MODIFICATION\\WAREHOUSE_DATA_FILE.csv\")"
   ]
  },
  {
   "cell_type": "code",
   "execution_count": null,
   "metadata": {},
   "outputs": [],
   "source": []
  }
 ],
 "metadata": {
  "kernelspec": {
   "display_name": "Python 3",
   "language": "python",
   "name": "python3"
  },
  "language_info": {
   "codemirror_mode": {
    "name": "ipython",
    "version": 3
   },
   "file_extension": ".py",
   "mimetype": "text/x-python",
   "name": "python",
   "nbconvert_exporter": "python",
   "pygments_lexer": "ipython3",
   "version": "3.9.18"
  }
 },
 "nbformat": 4,
 "nbformat_minor": 2
}
