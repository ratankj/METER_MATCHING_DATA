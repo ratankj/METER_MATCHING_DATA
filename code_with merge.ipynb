{
 "cells": [
  {
   "cell_type": "code",
   "execution_count": 4,
   "metadata": {},
   "outputs": [],
   "source": [
    "import numpy as np\n",
    "import pandas as pd\n",
    "import shutil\n",
    "\n",
    "import os,sys\n",
    "from datetime import datetime\n",
    "\n",
    "pd.set_option('display.max_columns', None)"
   ]
  },
  {
   "cell_type": "code",
   "execution_count": 5,
   "metadata": {},
   "outputs": [],
   "source": [
    "# imp code\n",
    "# check_Data_meter_Status['Duplicated'] = check_Data_meter_Status.duplicated(subset=['METERNO']).map({True: 'Duplicated', False: 'Unique'})"
   ]
  },
  {
   "cell_type": "code",
   "execution_count": null,
   "metadata": {},
   "outputs": [],
   "source": []
  },
  {
   "cell_type": "code",
   "execution_count": 6,
   "metadata": {},
   "outputs": [
    {
     "data": {
      "text/plain": [
       "(3720, 8)"
      ]
     },
     "execution_count": 6,
     "metadata": {},
     "output_type": "execute_result"
    }
   ],
   "source": [
    "df_warehouse=pd.read_excel(r\"C:\\Users\\Ratan Kumar Jha\\Desktop\\METER_IMPORTATION_FOLDER\\INPUT_DATA_FILE\\WAREHOUSE_DATA_FILE.xlsx\")\n",
    "df_warehouse.to_csv(\"warehouse_data.csv\",index=False)\n",
    "\n",
    "warehouse_Data = pd.read_csv(\"C:\\PYTHON\\EDF_CODE_AUTOMATION_PYTHON\\METER_MATCHING_DATA\\warehouse_data.csv\")\n",
    "\n",
    "warehouse_Data = pd.read_csv(r\"C:\\Users\\Ratan Kumar Jha\\Desktop\\METER_IMPORTATION_FOLDER\\INPUT_DATA_FILE\\WAREHOUSE_DATA_FILE.csv\")\n",
    "\n",
    "warehouse_Data.shape"
   ]
  },
  {
   "cell_type": "code",
   "execution_count": 7,
   "metadata": {},
   "outputs": [
    {
     "data": {
      "text/plain": [
       "array(['NBPDCL', 'SBPDCL'], dtype=object)"
      ]
     },
     "execution_count": 7,
     "metadata": {},
     "output_type": "execute_result"
    }
   ],
   "source": [
    "warehouse_Data['WAREHOUSE_UTILITY'].unique()"
   ]
  },
  {
   "cell_type": "code",
   "execution_count": 8,
   "metadata": {},
   "outputs": [],
   "source": [
    "#warehouse_Data = warehouse_Data[warehouse_Data['WAREHOUSE_UTILITY']=='SBPDCL']\n",
    "#warehouse_Data.shape"
   ]
  },
  {
   "cell_type": "code",
   "execution_count": 9,
   "metadata": {},
   "outputs": [],
   "source": [
    "\n",
    "\n",
    "# changes in dataset like :- UPPER, SPACE REMOVAL , DATATYPE\n",
    "\n",
    "warehouse_Data = warehouse_Data.astype(str)\n",
    "warehouse_Data.columns = warehouse_Data.columns.str.upper()\n",
    "warehouse_Data = warehouse_Data.apply(lambda x: x.str.strip() if x.dtype == 'O' else x)\n",
    "warehouse_Data.columns = warehouse_Data.columns.str.strip()"
   ]
  },
  {
   "cell_type": "code",
   "execution_count": 10,
   "metadata": {},
   "outputs": [
    {
     "data": {
      "text/plain": [
       "(3720, 8)"
      ]
     },
     "execution_count": 10,
     "metadata": {},
     "output_type": "execute_result"
    }
   ],
   "source": [
    "warehouse_Data.shape"
   ]
  },
  {
   "cell_type": "code",
   "execution_count": 11,
   "metadata": {},
   "outputs": [
    {
     "data": {
      "text/plain": [
       "Index(['UNNAMED: 0', 'METER NO.', 'PHASE', 'WAREHOUSE_UTILITY', 'IME',\n",
       "       'FINAL SIM', 'IMSI', 'IP'],\n",
       "      dtype='object')"
      ]
     },
     "execution_count": 11,
     "metadata": {},
     "output_type": "execute_result"
    }
   ],
   "source": [
    "warehouse_Data.columns"
   ]
  },
  {
   "cell_type": "code",
   "execution_count": 12,
   "metadata": {},
   "outputs": [
    {
     "name": "stdout",
     "output_type": "stream",
     "text": [
      "DATA INGESTION DONE\n"
     ]
    },
    {
     "name": "stdout",
     "output_type": "stream",
     "text": [
      "DATA CORRECTION COMPLETE\n"
     ]
    }
   ],
   "source": [
    "# data ingestion\n",
    "\n",
    "NB_METER_STATUS=pd.read_csv(r\"C:\\Users\\Ratan Kumar Jha\\Desktop\\METER_IMPORTATION_FOLDER\\INPUT_DATA_FILE\\NB_METER_STATUS.csv\")\n",
    "SB_METER_STATUS=pd.read_csv(r\"C:\\Users\\Ratan Kumar Jha\\Desktop\\METER_IMPORTATION_FOLDER\\INPUT_DATA_FILE\\SB_METER_STATUS.csv\")\n",
    "\n",
    "print(\"DATA INGESTION DONE\")\n",
    "#-----------------------------------------------------------------------------------------------------------------------------------\n",
    "\n",
    "# data correction\n",
    "\n",
    "\n",
    "#-----------------------------------------------------------------------------------------------------------------------------------\n",
    "NB_METER_STATUS = NB_METER_STATUS.astype(str)\n",
    "NB_METER_STATUS.columns = NB_METER_STATUS.columns.str.upper()\n",
    "NB_METER_STATUS = NB_METER_STATUS.apply(lambda x: x.str.strip() if x.dtype == 'O' else x)\n",
    "NB_METER_STATUS.columns = NB_METER_STATUS.columns.str.strip()\n",
    "\n",
    "\n",
    "#-----------------------------------------------------------------------------------------------------------------------------------\n",
    "\n",
    "SB_METER_STATUS = SB_METER_STATUS.astype(str)\n",
    "SB_METER_STATUS.columns = SB_METER_STATUS.columns.str.upper()\n",
    "SB_METER_STATUS = SB_METER_STATUS.apply(lambda x: x.str.strip() if x.dtype == 'O' else x)\n",
    "SB_METER_STATUS.columns = SB_METER_STATUS.columns.str.strip()\n",
    "\n",
    "\n",
    "\n",
    "print(\"DATA CORRECTION COMPLETE\")"
   ]
  },
  {
   "cell_type": "code",
   "execution_count": null,
   "metadata": {},
   "outputs": [],
   "source": []
  },
  {
   "cell_type": "code",
   "execution_count": 13,
   "metadata": {},
   "outputs": [],
   "source": [
    "assest_initiation_invent_sb = pd.read_csv(r\"C:\\Users\\Ratan Kumar Jha\\Desktop\\METER_IMPORTATION_FOLDER\\INPUT_DATA_FILE\\ASSET_INITIATION_INVENTORY_SB.CSV\")\n",
    "assest_initiation_invent_nb = pd.read_csv(r\"C:\\Users\\Ratan Kumar Jha\\Desktop\\METER_IMPORTATION_FOLDER\\INPUT_DATA_FILE\\ASSET_INITIATION_INVENTORY_NB.CSV\")"
   ]
  },
  {
   "cell_type": "code",
   "execution_count": 14,
   "metadata": {},
   "outputs": [],
   "source": [
    "#NB_METER_STATUS.head(1)"
   ]
  },
  {
   "cell_type": "code",
   "execution_count": 15,
   "metadata": {},
   "outputs": [],
   "source": [
    "#NB_METER_STATUS.duplicated(subset=['INSTALLATIONNO'],keep=False)].sort_values(by=['INSTALLATIONNO'],ascending=True)"
   ]
  },
  {
   "cell_type": "code",
   "execution_count": null,
   "metadata": {},
   "outputs": [],
   "source": []
  },
  {
   "cell_type": "code",
   "execution_count": 16,
   "metadata": {},
   "outputs": [],
   "source": [
    "warehouse_utility_importation_demand =  input(f\"\"\"ENTER THE WAREHOUSE ON DEMAND UTILITY: \n",
    "                                                1. NBPDCL \n",
    "                                                2. SBPDCL \n",
    "                                                3. NO DEMAND\"\"\")\n",
    "\n",
    "\n",
    "if warehouse_utility_importation_demand == \"1\":\n",
    "    assest_initiation_invent_nb = pd.read_csv(r\"C:\\Users\\Ratan Kumar Jha\\Desktop\\METER_IMPORTATION_FOLDER\\INPUT_DATA_FILE\\ASSET_INITIATION_INVENTORY_NB.CSV\")\n",
    "\n",
    "\n",
    "    # changes in dataset like :- UPPER, SPACE REMOVAL , DATATYPE\n",
    "    assest_initiation_invent_nb = assest_initiation_invent_nb.astype(str)\n",
    "    assest_initiation_invent_nb.columns = assest_initiation_invent_nb.columns.str.upper()\n",
    "    assest_initiation_invent_nb = assest_initiation_invent_nb.apply(lambda x: x.str.strip() if x.dtype == 'O' else x)\n",
    "    assest_initiation_invent_nb.columns = assest_initiation_invent_nb.columns.str.strip()\n",
    "\n",
    "    # DATA\n",
    "    NB_SB_COMBINED_DATAFRAME=assest_initiation_invent_nb\n",
    "\n",
    "\n",
    "\n",
    "elif warehouse_utility_importation_demand == \"2\":\n",
    "    assest_initiation_invent_sb = pd.read_csv(r\"C:\\Users\\Ratan Kumar Jha\\Desktop\\METER_IMPORTATION_FOLDER\\INPUT_DATA_FILE\\ASSET_INITIATION_INVENTORY_SB.CSV\")\n",
    "\n",
    "    # changes in dataset like :- UPPER, SPACE REMOVAL , DATATYPE\n",
    "    assest_initiation_invent_sb = assest_initiation_invent_sb.astype(str)\n",
    "    assest_initiation_invent_sb.columns = assest_initiation_invent_sb.columns.str.upper()\n",
    "    assest_initiation_invent_sb = assest_initiation_invent_sb.apply(lambda x: x.str.strip() if x.dtype == 'O' else x)\n",
    "    assest_initiation_invent_sb.columns = assest_initiation_invent_sb.columns.str.strip()\n",
    "\n",
    "    NB_SB_COMBINED_DATAFRAME=assest_initiation_invent_sb\n",
    "    \n",
    "elif warehouse_utility_importation_demand == \"3\":\n",
    "    assest_initiation_invent_sb = pd.read_csv(r\"C:\\Users\\Ratan Kumar Jha\\Desktop\\METER_IMPORTATION_FOLDER\\INPUT_DATA_FILE\\ASSET_INITIATION_INVENTORY_SB.CSV\")\n",
    "    assest_initiation_invent_nb = pd.read_csv(r\"C:\\Users\\Ratan Kumar Jha\\Desktop\\METER_IMPORTATION_FOLDER\\INPUT_DATA_FILE\\ASSET_INITIATION_INVENTORY_NB.CSV\")\n",
    "    \n",
    "\n",
    "    # changes in dataset like :- UPPER, SPACE REMOVAL , DATATYPE\n",
    "    \n",
    "    # Convert all columns to string data type\n",
    "\n",
    "    warehouse_Data = warehouse_Data.astype(str)\n",
    "    assest_initiation_invent_nb = assest_initiation_invent_nb.astype(str)\n",
    "    assest_initiation_invent_sb = assest_initiation_invent_sb.astype(str)\n",
    "\n",
    "\n",
    "\n",
    "    # change column name into upper string\n",
    "\n",
    "    warehouse_Data.columns = warehouse_Data.columns.str.upper()\n",
    "    assest_initiation_invent_nb.columns = assest_initiation_invent_nb.columns.str.upper()\n",
    "    assest_initiation_invent_sb.columns = assest_initiation_invent_sb.columns.str.upper()\n",
    "\n",
    "\n",
    "\n",
    "    # Remove leading and trailing whitespaces from all columns where dtype is 'O'\n",
    "\n",
    "    warehouse_Data = warehouse_Data.apply(lambda x: x.str.strip() if x.dtype == 'O' else x)\n",
    "    assest_initiation_invent_nb = assest_initiation_invent_nb.apply(lambda x: x.str.strip() if x.dtype == 'O' else x)\n",
    "    assest_initiation_invent_sb = assest_initiation_invent_sb.apply(lambda x: x.str.strip() if x.dtype == 'O' else x)\n",
    "\n",
    "\n",
    "\n",
    "    # strip the spaces in column \n",
    "\n",
    "    warehouse_Data.columns = warehouse_Data.columns.str.strip()\n",
    "    assest_initiation_invent_nb.columns = assest_initiation_invent_nb.columns.str.strip()\n",
    "    assest_initiation_invent_sb.columns = assest_initiation_invent_sb.columns.str.strip()\n",
    "\n",
    "\n",
    "    # concat the assest_initiation_invent_sb and assest_initiation_invent_nb\n",
    "    NB_SB_COMBINED_DATAFRAME = pd.concat([assest_initiation_invent_sb, assest_initiation_invent_nb], ignore_index=True)\n",
    "\n",
    "\n",
    "    \n",
    "else:\n",
    "    print(\"plz chose correct option\")\n"
   ]
  },
  {
   "cell_type": "code",
   "execution_count": null,
   "metadata": {},
   "outputs": [],
   "source": []
  },
  {
   "cell_type": "code",
   "execution_count": 17,
   "metadata": {},
   "outputs": [
    {
     "name": "stdout",
     "output_type": "stream",
     "text": [
      "DATASET SHAPE : 3720\n"
     ]
    }
   ],
   "source": [
    "warehouse_Data.count()\n",
    "# SHAPE OF DATA\n",
    "\n",
    "print(f\"DATASET SHAPE : {warehouse_Data.shape[0]}\")"
   ]
  },
  {
   "cell_type": "code",
   "execution_count": 18,
   "metadata": {},
   "outputs": [
    {
     "data": {
      "text/plain": [
       "Index(['UNNAMED: 0', 'METER NO.', 'PHASE', 'WAREHOUSE_UTILITY', 'IME',\n",
       "       'FINAL SIM', 'IMSI', 'IP'],\n",
       "      dtype='object')"
      ]
     },
     "execution_count": 18,
     "metadata": {},
     "output_type": "execute_result"
    }
   ],
   "source": [
    "warehouse_Data.columns"
   ]
  },
  {
   "cell_type": "code",
   "execution_count": 19,
   "metadata": {},
   "outputs": [
    {
     "data": {
      "text/plain": [
       "METERNUMBER                                  0\n",
       "MFG_SERIAL_NUM                               0\n",
       "UDC_ID                                       0\n",
       "NETWORK_ID                                   0\n",
       "INSTALLATIONNUMBER                           0\n",
       "STATUS                                       0\n",
       "INSERT_TIME                                  0\n",
       "DECODE(D.ORG_ID,52,'SBPDCL',102,'NBPDCL')    0\n",
       "dtype: int64"
      ]
     },
     "execution_count": 19,
     "metadata": {},
     "output_type": "execute_result"
    }
   ],
   "source": [
    "# checking is null\n",
    "\n",
    "NB_SB_COMBINED_DATAFRAME[NB_SB_COMBINED_DATAFRAME[\"NETWORK_ID\"].isnull()].count()"
   ]
  },
  {
   "cell_type": "code",
   "execution_count": 20,
   "metadata": {},
   "outputs": [
    {
     "data": {
      "text/html": [
       "<div>\n",
       "<style scoped>\n",
       "    .dataframe tbody tr th:only-of-type {\n",
       "        vertical-align: middle;\n",
       "    }\n",
       "\n",
       "    .dataframe tbody tr th {\n",
       "        vertical-align: top;\n",
       "    }\n",
       "\n",
       "    .dataframe thead th {\n",
       "        text-align: right;\n",
       "    }\n",
       "</style>\n",
       "<table border=\"1\" class=\"dataframe\">\n",
       "  <thead>\n",
       "    <tr style=\"text-align: right;\">\n",
       "      <th></th>\n",
       "      <th>METERNUMBER</th>\n",
       "      <th>MFG_SERIAL_NUM</th>\n",
       "      <th>UDC_ID</th>\n",
       "      <th>NETWORK_ID</th>\n",
       "      <th>INSTALLATIONNUMBER</th>\n",
       "      <th>STATUS</th>\n",
       "      <th>INSERT_TIME</th>\n",
       "      <th>DECODE(D.ORG_ID,52,'SBPDCL',102,'NBPDCL')</th>\n",
       "    </tr>\n",
       "  </thead>\n",
       "  <tbody>\n",
       "  </tbody>\n",
       "</table>\n",
       "</div>"
      ],
      "text/plain": [
       "Empty DataFrame\n",
       "Columns: [METERNUMBER, MFG_SERIAL_NUM, UDC_ID, NETWORK_ID, INSTALLATIONNUMBER, STATUS, INSERT_TIME, DECODE(D.ORG_ID,52,'SBPDCL',102,'NBPDCL')]\n",
       "Index: []"
      ]
     },
     "execution_count": 20,
     "metadata": {},
     "output_type": "execute_result"
    }
   ],
   "source": [
    "# checking duplicate value\n",
    "\n",
    "NB_SB_COMBINED_DATAFRAME[NB_SB_COMBINED_DATAFRAME.duplicated(keep = False)]\n",
    "\n"
   ]
  },
  {
   "cell_type": "code",
   "execution_count": 21,
   "metadata": {},
   "outputs": [
    {
     "name": "stdout",
     "output_type": "stream",
     "text": [
      " NONE OF 2 ROWS ARE DUPLIUCATED\n"
     ]
    }
   ],
   "source": [
    "if NB_SB_COMBINED_DATAFRAME[NB_SB_COMBINED_DATAFRAME.duplicated(keep = False)].shape[0]==0:\n",
    "    print(\" NONE OF 2 ROWS ARE DUPLIUCATED\")\n",
    "else:\n",
    "    NB_SB_COMBINED_DATAFRAME[NB_SB_COMBINED_DATAFRAME.duplicated(keep = False)]\n",
    "\n"
   ]
  },
  {
   "cell_type": "code",
   "execution_count": 22,
   "metadata": {},
   "outputs": [
    {
     "data": {
      "text/html": [
       "<div>\n",
       "<style scoped>\n",
       "    .dataframe tbody tr th:only-of-type {\n",
       "        vertical-align: middle;\n",
       "    }\n",
       "\n",
       "    .dataframe tbody tr th {\n",
       "        vertical-align: top;\n",
       "    }\n",
       "\n",
       "    .dataframe thead th {\n",
       "        text-align: right;\n",
       "    }\n",
       "</style>\n",
       "<table border=\"1\" class=\"dataframe\">\n",
       "  <thead>\n",
       "    <tr style=\"text-align: right;\">\n",
       "      <th></th>\n",
       "      <th>METERNUMBER</th>\n",
       "      <th>MFG_SERIAL_NUM</th>\n",
       "      <th>UDC_ID</th>\n",
       "      <th>NETWORK_ID</th>\n",
       "      <th>INSTALLATIONNUMBER</th>\n",
       "      <th>STATUS</th>\n",
       "      <th>INSERT_TIME</th>\n",
       "      <th>DECODE(D.ORG_ID,52,'SBPDCL',102,'NBPDCL')</th>\n",
       "    </tr>\n",
       "  </thead>\n",
       "  <tbody>\n",
       "    <tr>\n",
       "      <th>0</th>\n",
       "      <td>GOEGP4970294</td>\n",
       "      <td>GP4970294</td>\n",
       "      <td>404759210464358</td>\n",
       "      <td>2001:4490:0800:5F25:0000:0000:0000:0001</td>\n",
       "      <td>nan</td>\n",
       "      <td>Meter Shop</td>\n",
       "      <td>8/7/2019 1:26:44 PM</td>\n",
       "      <td>SBPDCL</td>\n",
       "    </tr>\n",
       "  </tbody>\n",
       "</table>\n",
       "</div>"
      ],
      "text/plain": [
       "    METERNUMBER MFG_SERIAL_NUM           UDC_ID  \\\n",
       "0  GOEGP4970294      GP4970294  404759210464358   \n",
       "\n",
       "                                NETWORK_ID INSTALLATIONNUMBER      STATUS  \\\n",
       "0  2001:4490:0800:5F25:0000:0000:0000:0001                nan  Meter Shop   \n",
       "\n",
       "           INSERT_TIME DECODE(D.ORG_ID,52,'SBPDCL',102,'NBPDCL')  \n",
       "0  8/7/2019 1:26:44 PM                                    SBPDCL  "
      ]
     },
     "execution_count": 22,
     "metadata": {},
     "output_type": "execute_result"
    }
   ],
   "source": [
    "NB_SB_COMBINED_DATAFRAME.head(1)"
   ]
  },
  {
   "cell_type": "code",
   "execution_count": null,
   "metadata": {},
   "outputs": [],
   "source": []
  },
  {
   "cell_type": "markdown",
   "metadata": {},
   "source": [
    "# WORK ON INSTALLATION NO."
   ]
  },
  {
   "cell_type": "code",
   "execution_count": 23,
   "metadata": {},
   "outputs": [
    {
     "name": "stdout",
     "output_type": "stream",
     "text": [
      " DROP COLUMN DONE :  'METERNUMBER','INSERT_TIME'  \n"
     ]
    }
   ],
   "source": [
    "# droping not used column in the NB_SB_COMBINED_DATAFRAME\n",
    "\n",
    "NB_SB_COMBINED_DATAFRAME.drop(['METERNUMBER','INSERT_TIME'], axis=1, inplace=True)\n",
    "print(\" DROP COLUMN DONE :  'METERNUMBER','INSERT_TIME'  \")"
   ]
  },
  {
   "cell_type": "code",
   "execution_count": 24,
   "metadata": {},
   "outputs": [
    {
     "data": {
      "text/plain": [
       "'\\n# droping not used column in the NB_SB_COMBINED_DATAFRAME\\n\\nNB_SB_COMBINED_DATAFRAME.drop([\\'METERNUMBER\\', \\'INSTALLATIONNUMBER\\',\\'INSERT_TIME\\'], axis=1, inplace=True)\\nprint(\" DROP COLUMN DONE :  \\'METERNUMBER\\', \\'INSTALLATIONNUMBER\\',\\'INSERT_TIME\\'  \")\\n\\n'"
      ]
     },
     "execution_count": 24,
     "metadata": {},
     "output_type": "execute_result"
    }
   ],
   "source": [
    "\"\"\"\n",
    "# droping not used column in the NB_SB_COMBINED_DATAFRAME\n",
    "\n",
    "NB_SB_COMBINED_DATAFRAME.drop(['METERNUMBER', 'INSTALLATIONNUMBER','INSERT_TIME'], axis=1, inplace=True)\n",
    "print(\" DROP COLUMN DONE :  'METERNUMBER', 'INSTALLATIONNUMBER','INSERT_TIME'  \")\n",
    "\n",
    "\"\"\""
   ]
  },
  {
   "cell_type": "code",
   "execution_count": 25,
   "metadata": {},
   "outputs": [
    {
     "name": "stdout",
     "output_type": "stream",
     "text": [
      " SHAPE OF NB_SB_COMBINED_DATAFRAME :- 1879397\n"
     ]
    }
   ],
   "source": [
    "print(f\" SHAPE OF NB_SB_COMBINED_DATAFRAME :- {NB_SB_COMBINED_DATAFRAME.shape[0]}\")"
   ]
  },
  {
   "cell_type": "markdown",
   "metadata": {},
   "source": [
    "#### DROP DUPLICATE "
   ]
  },
  {
   "cell_type": "code",
   "execution_count": 26,
   "metadata": {},
   "outputs": [],
   "source": [
    "# dop duplicate in  NB_SB_COMBINED_DATAFRAME\n",
    "\n",
    "#NB_SB_COMBINED_DATAFRAME.drop_duplicates(subset=['MFG_SERIAL_NUM','UDC_ID',\"DECODE(D.ORG_ID,52,'SBPDCL',102,'NBPDCL')\"], keep='first', inplace=True, ignore_index=True)\n",
    "\n",
    "# DUPLICATE NOT DROPPING"
   ]
  },
  {
   "cell_type": "code",
   "execution_count": 27,
   "metadata": {},
   "outputs": [
    {
     "name": "stdout",
     "output_type": "stream",
     "text": [
      " SHAPE OF NB_SB_COMBINED_DATAFRAME :- 1879397\n"
     ]
    }
   ],
   "source": [
    "print(f\" SHAPE OF NB_SB_COMBINED_DATAFRAME :- {NB_SB_COMBINED_DATAFRAME.shape[0]}\")"
   ]
  },
  {
   "cell_type": "code",
   "execution_count": 28,
   "metadata": {},
   "outputs": [
    {
     "data": {
      "text/html": [
       "<div>\n",
       "<style scoped>\n",
       "    .dataframe tbody tr th:only-of-type {\n",
       "        vertical-align: middle;\n",
       "    }\n",
       "\n",
       "    .dataframe tbody tr th {\n",
       "        vertical-align: top;\n",
       "    }\n",
       "\n",
       "    .dataframe thead th {\n",
       "        text-align: right;\n",
       "    }\n",
       "</style>\n",
       "<table border=\"1\" class=\"dataframe\">\n",
       "  <thead>\n",
       "    <tr style=\"text-align: right;\">\n",
       "      <th></th>\n",
       "      <th>MFG_SERIAL_NUM</th>\n",
       "      <th>UDC_ID</th>\n",
       "      <th>NETWORK_ID</th>\n",
       "      <th>INSTALLATIONNUMBER</th>\n",
       "      <th>STATUS</th>\n",
       "      <th>DECODE(D.ORG_ID,52,'SBPDCL',102,'NBPDCL')</th>\n",
       "    </tr>\n",
       "  </thead>\n",
       "  <tbody>\n",
       "    <tr>\n",
       "      <th>124792</th>\n",
       "      <td>GL8548300</td>\n",
       "      <td>405856706536659</td>\n",
       "      <td>2405:0203:0528:DBEF:0000:0000:0000:0010</td>\n",
       "      <td>5001970345</td>\n",
       "      <td>Refurbished</td>\n",
       "      <td>SBPDCL</td>\n",
       "    </tr>\n",
       "    <tr>\n",
       "      <th>789393</th>\n",
       "      <td>GL8548300</td>\n",
       "      <td>405856707172350</td>\n",
       "      <td>2405:0203:0532:43AE:0000:0000:0000:0010</td>\n",
       "      <td>5001970345</td>\n",
       "      <td>Refurbished</td>\n",
       "      <td>SBPDCL</td>\n",
       "    </tr>\n",
       "    <tr>\n",
       "      <th>272686</th>\n",
       "      <td>GL8548303</td>\n",
       "      <td>405856706536685</td>\n",
       "      <td>2405:0203:0528:DBF2:0000:0000:0000:0010</td>\n",
       "      <td>5002973847</td>\n",
       "      <td>Installed</td>\n",
       "      <td>SBPDCL</td>\n",
       "    </tr>\n",
       "    <tr>\n",
       "      <th>6911</th>\n",
       "      <td>GL8548303</td>\n",
       "      <td>405856707299383</td>\n",
       "      <td>2405:0203:0531:9328:0000:0000:0000:0010</td>\n",
       "      <td>5002973847</td>\n",
       "      <td>Installed</td>\n",
       "      <td>SBPDCL</td>\n",
       "    </tr>\n",
       "    <tr>\n",
       "      <th>771063</th>\n",
       "      <td>GL8548303</td>\n",
       "      <td>405856706536685</td>\n",
       "      <td>2405:0203:0528:DBF2:0000:0000:0000:0010</td>\n",
       "      <td>5004056701</td>\n",
       "      <td>Installed</td>\n",
       "      <td>SBPDCL</td>\n",
       "    </tr>\n",
       "    <tr>\n",
       "      <th>...</th>\n",
       "      <td>...</td>\n",
       "      <td>...</td>\n",
       "      <td>...</td>\n",
       "      <td>...</td>\n",
       "      <td>...</td>\n",
       "      <td>...</td>\n",
       "    </tr>\n",
       "    <tr>\n",
       "      <th>315304</th>\n",
       "      <td>LT8048336</td>\n",
       "      <td>405856707642606</td>\n",
       "      <td>2405:0203:0530:A809:0000:0000:0000:0010</td>\n",
       "      <td>5002204648</td>\n",
       "      <td>Refurbished</td>\n",
       "      <td>SBPDCL</td>\n",
       "    </tr>\n",
       "    <tr>\n",
       "      <th>142491</th>\n",
       "      <td>LT8048785</td>\n",
       "      <td>405856707642892</td>\n",
       "      <td>2405:0203:0530:A9CA:0000:0000:0000:0010</td>\n",
       "      <td>5001755865</td>\n",
       "      <td>Refurbished</td>\n",
       "      <td>SBPDCL</td>\n",
       "    </tr>\n",
       "    <tr>\n",
       "      <th>607507</th>\n",
       "      <td>LT8048785</td>\n",
       "      <td>405856706385631</td>\n",
       "      <td>2405:0203:0526:44B1:0000:0000:0000:0010</td>\n",
       "      <td>5001755865</td>\n",
       "      <td>Refurbished</td>\n",
       "      <td>SBPDCL</td>\n",
       "    </tr>\n",
       "    <tr>\n",
       "      <th>414784</th>\n",
       "      <td>LT8057018</td>\n",
       "      <td>405856707247502</td>\n",
       "      <td>2405:0203:0532:1F7A:0000:0000:0000:0010</td>\n",
       "      <td>5001720263</td>\n",
       "      <td>Refurbished</td>\n",
       "      <td>SBPDCL</td>\n",
       "    </tr>\n",
       "    <tr>\n",
       "      <th>464654</th>\n",
       "      <td>LT8057018</td>\n",
       "      <td>405856706103170</td>\n",
       "      <td>2405:0203:0522:C558:0000:0000:0000:0010</td>\n",
       "      <td>5001720263</td>\n",
       "      <td>Refurbished</td>\n",
       "      <td>SBPDCL</td>\n",
       "    </tr>\n",
       "  </tbody>\n",
       "</table>\n",
       "<p>238380 rows × 6 columns</p>\n",
       "</div>"
      ],
      "text/plain": [
       "       MFG_SERIAL_NUM           UDC_ID  \\\n",
       "124792      GL8548300  405856706536659   \n",
       "789393      GL8548300  405856707172350   \n",
       "272686      GL8548303  405856706536685   \n",
       "6911        GL8548303  405856707299383   \n",
       "771063      GL8548303  405856706536685   \n",
       "...               ...              ...   \n",
       "315304      LT8048336  405856707642606   \n",
       "142491      LT8048785  405856707642892   \n",
       "607507      LT8048785  405856706385631   \n",
       "414784      LT8057018  405856707247502   \n",
       "464654      LT8057018  405856706103170   \n",
       "\n",
       "                                     NETWORK_ID INSTALLATIONNUMBER  \\\n",
       "124792  2405:0203:0528:DBEF:0000:0000:0000:0010         5001970345   \n",
       "789393  2405:0203:0532:43AE:0000:0000:0000:0010         5001970345   \n",
       "272686  2405:0203:0528:DBF2:0000:0000:0000:0010         5002973847   \n",
       "6911    2405:0203:0531:9328:0000:0000:0000:0010         5002973847   \n",
       "771063  2405:0203:0528:DBF2:0000:0000:0000:0010         5004056701   \n",
       "...                                         ...                ...   \n",
       "315304  2405:0203:0530:A809:0000:0000:0000:0010         5002204648   \n",
       "142491  2405:0203:0530:A9CA:0000:0000:0000:0010         5001755865   \n",
       "607507  2405:0203:0526:44B1:0000:0000:0000:0010         5001755865   \n",
       "414784  2405:0203:0532:1F7A:0000:0000:0000:0010         5001720263   \n",
       "464654  2405:0203:0522:C558:0000:0000:0000:0010         5001720263   \n",
       "\n",
       "             STATUS DECODE(D.ORG_ID,52,'SBPDCL',102,'NBPDCL')  \n",
       "124792  Refurbished                                    SBPDCL  \n",
       "789393  Refurbished                                    SBPDCL  \n",
       "272686    Installed                                    SBPDCL  \n",
       "6911      Installed                                    SBPDCL  \n",
       "771063    Installed                                    SBPDCL  \n",
       "...             ...                                       ...  \n",
       "315304  Refurbished                                    SBPDCL  \n",
       "142491  Refurbished                                    SBPDCL  \n",
       "607507  Refurbished                                    SBPDCL  \n",
       "414784  Refurbished                                    SBPDCL  \n",
       "464654  Refurbished                                    SBPDCL  \n",
       "\n",
       "[238380 rows x 6 columns]"
      ]
     },
     "execution_count": 28,
     "metadata": {},
     "output_type": "execute_result"
    }
   ],
   "source": [
    "NB_SB_COMBINED_DATAFRAME[NB_SB_COMBINED_DATAFRAME.duplicated(subset=['MFG_SERIAL_NUM'], keep=False)].sort_values(by=['MFG_SERIAL_NUM'],ascending=True)"
   ]
  },
  {
   "cell_type": "code",
   "execution_count": 29,
   "metadata": {},
   "outputs": [
    {
     "data": {
      "text/html": [
       "<div>\n",
       "<style scoped>\n",
       "    .dataframe tbody tr th:only-of-type {\n",
       "        vertical-align: middle;\n",
       "    }\n",
       "\n",
       "    .dataframe tbody tr th {\n",
       "        vertical-align: top;\n",
       "    }\n",
       "\n",
       "    .dataframe thead th {\n",
       "        text-align: right;\n",
       "    }\n",
       "</style>\n",
       "<table border=\"1\" class=\"dataframe\">\n",
       "  <thead>\n",
       "    <tr style=\"text-align: right;\">\n",
       "      <th></th>\n",
       "      <th>MFG_SERIAL_NUM</th>\n",
       "      <th>UDC_ID</th>\n",
       "      <th>NETWORK_ID</th>\n",
       "      <th>INSTALLATIONNUMBER</th>\n",
       "      <th>STATUS</th>\n",
       "      <th>DECODE(D.ORG_ID,52,'SBPDCL',102,'NBPDCL')</th>\n",
       "    </tr>\n",
       "  </thead>\n",
       "  <tbody>\n",
       "    <tr>\n",
       "      <th>0</th>\n",
       "      <td>GP4970294</td>\n",
       "      <td>404759210464358</td>\n",
       "      <td>2001:4490:0800:5F25:0000:0000:0000:0001</td>\n",
       "      <td>nan</td>\n",
       "      <td>Meter Shop</td>\n",
       "      <td>SBPDCL</td>\n",
       "    </tr>\n",
       "  </tbody>\n",
       "</table>\n",
       "</div>"
      ],
      "text/plain": [
       "  MFG_SERIAL_NUM           UDC_ID                               NETWORK_ID  \\\n",
       "0      GP4970294  404759210464358  2001:4490:0800:5F25:0000:0000:0000:0001   \n",
       "\n",
       "  INSTALLATIONNUMBER      STATUS DECODE(D.ORG_ID,52,'SBPDCL',102,'NBPDCL')  \n",
       "0                nan  Meter Shop                                    SBPDCL  "
      ]
     },
     "execution_count": 29,
     "metadata": {},
     "output_type": "execute_result"
    }
   ],
   "source": [
    "NB_SB_COMBINED_DATAFRAME.head(1)"
   ]
  },
  {
   "cell_type": "code",
   "execution_count": null,
   "metadata": {},
   "outputs": [],
   "source": []
  },
  {
   "cell_type": "markdown",
   "metadata": {},
   "source": [
    "# CHANGES IN  NB_SB_COMBINED_DATAFRAME :- DATATYPE,UPPER,SPACES"
   ]
  },
  {
   "cell_type": "code",
   "execution_count": 30,
   "metadata": {},
   "outputs": [],
   "source": [
    "\n",
    "\n",
    "# Convert all columns to string data type\n",
    "\n",
    "NB_SB_COMBINED_DATAFRAME = NB_SB_COMBINED_DATAFRAME.astype(str)\n",
    "\n",
    "\n",
    "NB_SB_COMBINED_DATAFRAME.columns = NB_SB_COMBINED_DATAFRAME.columns.str.upper()\n",
    "\n",
    "\n",
    "\n",
    "# Remove leading and trailing whitespaces from all columns where dtype is 'O'\n",
    "NB_SB_COMBINED_DATAFRAME = NB_SB_COMBINED_DATAFRAME.apply(lambda x: x.str.strip() if x.dtype == 'O' else x)\n"
   ]
  },
  {
   "cell_type": "code",
   "execution_count": null,
   "metadata": {},
   "outputs": [],
   "source": []
  },
  {
   "cell_type": "markdown",
   "metadata": {},
   "source": [
    "# JOIN\n",
    "\n"
   ]
  },
  {
   "cell_type": "code",
   "execution_count": null,
   "metadata": {},
   "outputs": [],
   "source": []
  },
  {
   "cell_type": "markdown",
   "metadata": {},
   "source": [
    "#### METER"
   ]
  },
  {
   "cell_type": "code",
   "execution_count": 31,
   "metadata": {},
   "outputs": [],
   "source": [
    "# here first merge with 2 column   meter no and utility   and the if some rows are null then merge those rows only only with meter no. "
   ]
  },
  {
   "cell_type": "code",
   "execution_count": 32,
   "metadata": {},
   "outputs": [],
   "source": [
    "#if ((warehouse_Data['METER NO.']== NB_SB_COMBINED_DATAFRAME['MFG_SERIAL_NUM']) and (warehouse_Data['WAREHOUSE_UTILITY']== NB_SB_COMBINED_DATAFRAME[\"DECODE(D.ORG_ID,52,'SBPDCL',102,'NBPDCL')\"])):\n",
    "LEFT_JOIN_WITH_METER_UTILITY_WAREHOUSE_AND_COMIBNED_DATA = pd.merge(warehouse_Data, NB_SB_COMBINED_DATAFRAME, left_on=['METER NO.', 'WAREHOUSE_UTILITY'], right_on=['MFG_SERIAL_NUM', \"DECODE(D.ORG_ID,52,'SBPDCL',102,'NBPDCL')\"], how='left')\n",
    "LEFT_JOIN_WITH_METER_UTILITY_WAREHOUSE_AND_COMIBNED_DATA_NULL = LEFT_JOIN_WITH_METER_UTILITY_WAREHOUSE_AND_COMIBNED_DATA[LEFT_JOIN_WITH_METER_UTILITY_WAREHOUSE_AND_COMIBNED_DATA['MFG_SERIAL_NUM'].isnull()]\n",
    "LEFT_JOIN_WITH_METER_UTILITY_WAREHOUSE_AND_COMIBNED_DATA_DROPED_DATA = (LEFT_JOIN_WITH_METER_UTILITY_WAREHOUSE_AND_COMIBNED_DATA.dropna(subset=['MFG_SERIAL_NUM','UDC_ID']))\n",
    "\n",
    "if LEFT_JOIN_WITH_METER_UTILITY_WAREHOUSE_AND_COMIBNED_DATA_NULL.shape[0] > 0:\n",
    "    LEFT_JOIN_WITH_METER_UTILITY_WAREHOUSE_AND_COMIBNED_DATA_NULL_CHECK=LEFT_JOIN_WITH_METER_UTILITY_WAREHOUSE_AND_COMIBNED_DATA_NULL[warehouse_Data.columns]\n",
    "    LEFT_JOIN_WITH_METER_UTILITY_WAREHOUSE_AND_COMIBNED_DATA_NULL_CHECK=pd.merge(LEFT_JOIN_WITH_METER_UTILITY_WAREHOUSE_AND_COMIBNED_DATA_NULL_CHECK, NB_SB_COMBINED_DATAFRAME, left_on=['METER NO.'], right_on=['MFG_SERIAL_NUM'], how='left')\n",
    "    LEFT_JOIN_WITH_METER_UTILITY_WAREHOUSE_AND_COMIBNED_DATA = pd.concat([LEFT_JOIN_WITH_METER_UTILITY_WAREHOUSE_AND_COMIBNED_DATA_DROPED_DATA, LEFT_JOIN_WITH_METER_UTILITY_WAREHOUSE_AND_COMIBNED_DATA_NULL_CHECK], ignore_index=True)\n",
    "else:\n",
    "    LEFT_JOIN_WITH_METER_UTILITY_WAREHOUSE_AND_COMIBNED_DATA=LEFT_JOIN_WITH_METER_UTILITY_WAREHOUSE_AND_COMIBNED_DATA\n",
    "\n",
    "\n",
    "    \n"
   ]
  },
  {
   "cell_type": "code",
   "execution_count": 33,
   "metadata": {},
   "outputs": [
    {
     "data": {
      "text/html": [
       "<div>\n",
       "<style scoped>\n",
       "    .dataframe tbody tr th:only-of-type {\n",
       "        vertical-align: middle;\n",
       "    }\n",
       "\n",
       "    .dataframe tbody tr th {\n",
       "        vertical-align: top;\n",
       "    }\n",
       "\n",
       "    .dataframe thead th {\n",
       "        text-align: right;\n",
       "    }\n",
       "</style>\n",
       "<table border=\"1\" class=\"dataframe\">\n",
       "  <thead>\n",
       "    <tr style=\"text-align: right;\">\n",
       "      <th></th>\n",
       "      <th>UNNAMED: 0</th>\n",
       "      <th>METER NO.</th>\n",
       "      <th>PHASE</th>\n",
       "      <th>WAREHOUSE_UTILITY</th>\n",
       "      <th>IME</th>\n",
       "      <th>FINAL SIM</th>\n",
       "      <th>IMSI</th>\n",
       "      <th>IP</th>\n",
       "      <th>MFG_SERIAL_NUM</th>\n",
       "      <th>UDC_ID</th>\n",
       "      <th>NETWORK_ID</th>\n",
       "      <th>INSTALLATIONNUMBER</th>\n",
       "      <th>STATUS</th>\n",
       "      <th>DECODE(D.ORG_ID,52,'SBPDCL',102,'NBPDCL')</th>\n",
       "    </tr>\n",
       "  </thead>\n",
       "  <tbody>\n",
       "    <tr>\n",
       "      <th>0</th>\n",
       "      <td>4</td>\n",
       "      <td>LT0509672</td>\n",
       "      <td>1 Phase</td>\n",
       "      <td>NBPDCL</td>\n",
       "      <td>865575064710895</td>\n",
       "      <td>8991856040706026298</td>\n",
       "      <td>405856706571320</td>\n",
       "      <td>2405:0203:0527:83A9:0000:0000:0000:0010</td>\n",
       "      <td>LT0509672</td>\n",
       "      <td>nan</td>\n",
       "      <td>nan</td>\n",
       "      <td>5001532140</td>\n",
       "      <td>Meter Shop</td>\n",
       "      <td>NBPDCL</td>\n",
       "    </tr>\n",
       "    <tr>\n",
       "      <th>1</th>\n",
       "      <td>4</td>\n",
       "      <td>LT0509672</td>\n",
       "      <td>1 Phase</td>\n",
       "      <td>NBPDCL</td>\n",
       "      <td>865575064710895</td>\n",
       "      <td>8991856040706026298</td>\n",
       "      <td>405856706571320</td>\n",
       "      <td>2405:0203:0527:83A9:0000:0000:0000:0010</td>\n",
       "      <td>LT0509672</td>\n",
       "      <td>nan</td>\n",
       "      <td>nan</td>\n",
       "      <td>nan</td>\n",
       "      <td>Meter Shop</td>\n",
       "      <td>NBPDCL</td>\n",
       "    </tr>\n",
       "  </tbody>\n",
       "</table>\n",
       "</div>"
      ],
      "text/plain": [
       "  UNNAMED: 0  METER NO.    PHASE WAREHOUSE_UTILITY              IME  \\\n",
       "0          4  LT0509672  1 Phase            NBPDCL  865575064710895   \n",
       "1          4  LT0509672  1 Phase            NBPDCL  865575064710895   \n",
       "\n",
       "             FINAL SIM             IMSI  \\\n",
       "0  8991856040706026298  405856706571320   \n",
       "1  8991856040706026298  405856706571320   \n",
       "\n",
       "                                        IP MFG_SERIAL_NUM UDC_ID NETWORK_ID  \\\n",
       "0  2405:0203:0527:83A9:0000:0000:0000:0010      LT0509672    nan        nan   \n",
       "1  2405:0203:0527:83A9:0000:0000:0000:0010      LT0509672    nan        nan   \n",
       "\n",
       "  INSTALLATIONNUMBER      STATUS DECODE(D.ORG_ID,52,'SBPDCL',102,'NBPDCL')  \n",
       "0         5001532140  Meter Shop                                    NBPDCL  \n",
       "1                nan  Meter Shop                                    NBPDCL  "
      ]
     },
     "execution_count": 33,
     "metadata": {},
     "output_type": "execute_result"
    }
   ],
   "source": [
    "LEFT_JOIN_WITH_METER_UTILITY_WAREHOUSE_AND_COMIBNED_DATA.head(2)"
   ]
  },
  {
   "cell_type": "code",
   "execution_count": 34,
   "metadata": {},
   "outputs": [
    {
     "data": {
      "text/plain": [
       "0"
      ]
     },
     "execution_count": 34,
     "metadata": {},
     "output_type": "execute_result"
    }
   ],
   "source": [
    "LEFT_JOIN_WITH_METER_UTILITY_WAREHOUSE_AND_COMIBNED_DATA[LEFT_JOIN_WITH_METER_UTILITY_WAREHOUSE_AND_COMIBNED_DATA['MFG_SERIAL_NUM'].isnull()].shape[0]"
   ]
  },
  {
   "cell_type": "code",
   "execution_count": null,
   "metadata": {},
   "outputs": [],
   "source": []
  },
  {
   "cell_type": "code",
   "execution_count": 35,
   "metadata": {},
   "outputs": [],
   "source": [
    "#NB_SB_COMBINED_DATAFRAME[NB_SB_COMBINED_DATAFRAME['MFG_SERIAL_NUM']=='GP4465021']"
   ]
  },
  {
   "cell_type": "code",
   "execution_count": 36,
   "metadata": {},
   "outputs": [],
   "source": [
    "\n",
    "\n",
    "#LEFT_JOIN_WITH_METER_UTILITY_WAREHOUSE_AND_COMIBNED_DATA = pd.merge(warehouse_Data, NB_SB_COMBINED_DATAFRAME, left_on=['METER NO.', 'WAREHOUSE_UTILITY'], right_on=['MFG_SERIAL_NUM', \"DECODE(D.ORG_ID,52,'SBPDCL',102,'NBPDCL')\"], how='left')\n"
   ]
  },
  {
   "cell_type": "code",
   "execution_count": null,
   "metadata": {},
   "outputs": [],
   "source": []
  },
  {
   "cell_type": "code",
   "execution_count": 37,
   "metadata": {},
   "outputs": [
    {
     "data": {
      "text/plain": [
       "UNNAMED: 0                                   3856\n",
       "METER NO.                                    3856\n",
       "PHASE                                        3856\n",
       "WAREHOUSE_UTILITY                            3856\n",
       "IME                                          3856\n",
       "FINAL SIM                                    3856\n",
       "IMSI                                         3856\n",
       "IP                                           3856\n",
       "MFG_SERIAL_NUM                               3856\n",
       "UDC_ID                                       3856\n",
       "NETWORK_ID                                   3856\n",
       "INSTALLATIONNUMBER                           3856\n",
       "STATUS                                       3856\n",
       "DECODE(D.ORG_ID,52,'SBPDCL',102,'NBPDCL')    3856\n",
       "dtype: int64"
      ]
     },
     "execution_count": 37,
     "metadata": {},
     "output_type": "execute_result"
    }
   ],
   "source": [
    "LEFT_JOIN_WITH_METER_UTILITY_WAREHOUSE_AND_COMIBNED_DATA.count()"
   ]
  },
  {
   "cell_type": "code",
   "execution_count": null,
   "metadata": {},
   "outputs": [],
   "source": []
  },
  {
   "cell_type": "code",
   "execution_count": 38,
   "metadata": {},
   "outputs": [],
   "source": [
    "#LEFT_JOIN_WITH_METER_UTILITY_WAREHOUSE_AND_COMIBNED_DATA.to_csv(r'C:\\Users\\Ratan Kumar Jha\\Desktop\\new\\LEFT_JOIN_WITH_METER_UTILITY_WAREHOUSE_AND_COMIBNED_DATA.csv',index=False)"
   ]
  },
  {
   "cell_type": "markdown",
   "metadata": {},
   "source": []
  },
  {
   "cell_type": "markdown",
   "metadata": {},
   "source": [
    "#### IMSI"
   ]
  },
  {
   "cell_type": "code",
   "execution_count": 39,
   "metadata": {},
   "outputs": [],
   "source": [
    "LEFT_JOIN_WITH_IMSI_WAREHOUSE_AND_COMIBNED_DATA = pd.merge(warehouse_Data, NB_SB_COMBINED_DATAFRAME, left_on=['IMSI'], right_on=['UDC_ID'], how='left')"
   ]
  },
  {
   "cell_type": "code",
   "execution_count": 40,
   "metadata": {},
   "outputs": [
    {
     "data": {
      "text/plain": [
       "UNNAMED: 0                                   3931\n",
       "METER NO.                                    3931\n",
       "PHASE                                        3931\n",
       "WAREHOUSE_UTILITY                            3931\n",
       "IME                                          3931\n",
       "FINAL SIM                                    3931\n",
       "IMSI                                         3931\n",
       "IP                                           3931\n",
       "MFG_SERIAL_NUM                               3907\n",
       "UDC_ID                                       3907\n",
       "NETWORK_ID                                   3907\n",
       "INSTALLATIONNUMBER                           3907\n",
       "STATUS                                       3907\n",
       "DECODE(D.ORG_ID,52,'SBPDCL',102,'NBPDCL')    3907\n",
       "dtype: int64"
      ]
     },
     "execution_count": 40,
     "metadata": {},
     "output_type": "execute_result"
    }
   ],
   "source": [
    "LEFT_JOIN_WITH_IMSI_WAREHOUSE_AND_COMIBNED_DATA.count()"
   ]
  },
  {
   "cell_type": "code",
   "execution_count": 41,
   "metadata": {},
   "outputs": [
    {
     "data": {
      "text/html": [
       "<div>\n",
       "<style scoped>\n",
       "    .dataframe tbody tr th:only-of-type {\n",
       "        vertical-align: middle;\n",
       "    }\n",
       "\n",
       "    .dataframe tbody tr th {\n",
       "        vertical-align: top;\n",
       "    }\n",
       "\n",
       "    .dataframe thead th {\n",
       "        text-align: right;\n",
       "    }\n",
       "</style>\n",
       "<table border=\"1\" class=\"dataframe\">\n",
       "  <thead>\n",
       "    <tr style=\"text-align: right;\">\n",
       "      <th></th>\n",
       "      <th>UNNAMED: 0</th>\n",
       "      <th>METER NO.</th>\n",
       "      <th>PHASE</th>\n",
       "      <th>WAREHOUSE_UTILITY</th>\n",
       "      <th>IME</th>\n",
       "      <th>FINAL SIM</th>\n",
       "      <th>IMSI</th>\n",
       "      <th>IP</th>\n",
       "      <th>MFG_SERIAL_NUM</th>\n",
       "      <th>UDC_ID</th>\n",
       "      <th>NETWORK_ID</th>\n",
       "      <th>INSTALLATIONNUMBER</th>\n",
       "      <th>STATUS</th>\n",
       "      <th>DECODE(D.ORG_ID,52,'SBPDCL',102,'NBPDCL')</th>\n",
       "    </tr>\n",
       "  </thead>\n",
       "  <tbody>\n",
       "    <tr>\n",
       "      <th>2643</th>\n",
       "      <td>2465</td>\n",
       "      <td>GP5028887</td>\n",
       "      <td>1 Phase</td>\n",
       "      <td>SBPDCL</td>\n",
       "      <td>869912031946482</td>\n",
       "      <td>8991759065212004194</td>\n",
       "      <td>404751250004194</td>\n",
       "      <td>fd00:0000:0800:CCDA:0000:0000:0000:0001</td>\n",
       "      <td>NaN</td>\n",
       "      <td>NaN</td>\n",
       "      <td>NaN</td>\n",
       "      <td>NaN</td>\n",
       "      <td>NaN</td>\n",
       "      <td>NaN</td>\n",
       "    </tr>\n",
       "    <tr>\n",
       "      <th>2644</th>\n",
       "      <td>2466</td>\n",
       "      <td>GP7425593</td>\n",
       "      <td>1 Phase</td>\n",
       "      <td>SBPDCL</td>\n",
       "      <td>863704040570890</td>\n",
       "      <td>8991759065212004939</td>\n",
       "      <td>404751250004939</td>\n",
       "      <td>fd00:0000:0800:CFC3:0000:0000:0000:0001</td>\n",
       "      <td>NaN</td>\n",
       "      <td>NaN</td>\n",
       "      <td>NaN</td>\n",
       "      <td>NaN</td>\n",
       "      <td>NaN</td>\n",
       "      <td>NaN</td>\n",
       "    </tr>\n",
       "    <tr>\n",
       "      <th>2645</th>\n",
       "      <td>2467</td>\n",
       "      <td>GP7552117</td>\n",
       "      <td>1 Phase</td>\n",
       "      <td>SBPDCL</td>\n",
       "      <td>863326049114304</td>\n",
       "      <td>8991759065212005087</td>\n",
       "      <td>404751250005087</td>\n",
       "      <td>fd00:0000:0800:D057:0000:0000:0000:0001</td>\n",
       "      <td>NaN</td>\n",
       "      <td>NaN</td>\n",
       "      <td>NaN</td>\n",
       "      <td>NaN</td>\n",
       "      <td>NaN</td>\n",
       "      <td>NaN</td>\n",
       "    </tr>\n",
       "    <tr>\n",
       "      <th>2646</th>\n",
       "      <td>2468</td>\n",
       "      <td>GP7615944</td>\n",
       "      <td>1 Phase</td>\n",
       "      <td>SBPDCL</td>\n",
       "      <td>863326045477093</td>\n",
       "      <td>8991759065212005574</td>\n",
       "      <td>404751250005574</td>\n",
       "      <td>fd00:0000:0800:D23E:0000:0000:0000:0001</td>\n",
       "      <td>NaN</td>\n",
       "      <td>NaN</td>\n",
       "      <td>NaN</td>\n",
       "      <td>NaN</td>\n",
       "      <td>NaN</td>\n",
       "      <td>NaN</td>\n",
       "    </tr>\n",
       "    <tr>\n",
       "      <th>2647</th>\n",
       "      <td>2469</td>\n",
       "      <td>GP7612507</td>\n",
       "      <td>1 Phase</td>\n",
       "      <td>SBPDCL</td>\n",
       "      <td>863326048141613</td>\n",
       "      <td>8991759065212006014</td>\n",
       "      <td>404751250006014</td>\n",
       "      <td>fd00:0000:0800:D3F6:0000:0000:0000:0001</td>\n",
       "      <td>NaN</td>\n",
       "      <td>NaN</td>\n",
       "      <td>NaN</td>\n",
       "      <td>NaN</td>\n",
       "      <td>NaN</td>\n",
       "      <td>NaN</td>\n",
       "    </tr>\n",
       "    <tr>\n",
       "      <th>2648</th>\n",
       "      <td>2470</td>\n",
       "      <td>GP7552594</td>\n",
       "      <td>1 Phase</td>\n",
       "      <td>SBPDCL</td>\n",
       "      <td>863326047079616</td>\n",
       "      <td>8991759065212006349</td>\n",
       "      <td>404751250006349</td>\n",
       "      <td>fd00:0000:0800:D545:0000:0000:0000:0001</td>\n",
       "      <td>NaN</td>\n",
       "      <td>NaN</td>\n",
       "      <td>NaN</td>\n",
       "      <td>NaN</td>\n",
       "      <td>NaN</td>\n",
       "      <td>NaN</td>\n",
       "    </tr>\n",
       "    <tr>\n",
       "      <th>2649</th>\n",
       "      <td>2471</td>\n",
       "      <td>GP5011474</td>\n",
       "      <td>1 Phase</td>\n",
       "      <td>SBPDCL</td>\n",
       "      <td>869912033464138</td>\n",
       "      <td>8991759065212007556</td>\n",
       "      <td>404751250007556</td>\n",
       "      <td>fd00:0000:0800:D9FC:0000:0000:0000:0001</td>\n",
       "      <td>NaN</td>\n",
       "      <td>NaN</td>\n",
       "      <td>NaN</td>\n",
       "      <td>NaN</td>\n",
       "      <td>NaN</td>\n",
       "      <td>NaN</td>\n",
       "    </tr>\n",
       "    <tr>\n",
       "      <th>2650</th>\n",
       "      <td>2472</td>\n",
       "      <td>GP4965061</td>\n",
       "      <td>1 Phase</td>\n",
       "      <td>SBPDCL</td>\n",
       "      <td>869912039783507</td>\n",
       "      <td>8991759065212012051</td>\n",
       "      <td>404751250012051</td>\n",
       "      <td>fd00:0000:0800:1E46:0000:0000:0000:0001</td>\n",
       "      <td>NaN</td>\n",
       "      <td>NaN</td>\n",
       "      <td>NaN</td>\n",
       "      <td>NaN</td>\n",
       "      <td>NaN</td>\n",
       "      <td>NaN</td>\n",
       "    </tr>\n",
       "    <tr>\n",
       "      <th>2651</th>\n",
       "      <td>2473</td>\n",
       "      <td>GP5063712</td>\n",
       "      <td>1 Phase</td>\n",
       "      <td>SBPDCL</td>\n",
       "      <td>869912035499124</td>\n",
       "      <td>8991759065212012426</td>\n",
       "      <td>404751250012426</td>\n",
       "      <td>fd00:0000:0800:2911:0000:0000:0000:0001</td>\n",
       "      <td>NaN</td>\n",
       "      <td>NaN</td>\n",
       "      <td>NaN</td>\n",
       "      <td>NaN</td>\n",
       "      <td>NaN</td>\n",
       "      <td>NaN</td>\n",
       "    </tr>\n",
       "    <tr>\n",
       "      <th>2652</th>\n",
       "      <td>2474</td>\n",
       "      <td>GP5048495</td>\n",
       "      <td>1 Phase</td>\n",
       "      <td>SBPDCL</td>\n",
       "      <td>869912032790541</td>\n",
       "      <td>8991759065212012713</td>\n",
       "      <td>404751250012713</td>\n",
       "      <td>fd00:0000:0800:3393:0000:0000:0000:0001</td>\n",
       "      <td>NaN</td>\n",
       "      <td>NaN</td>\n",
       "      <td>NaN</td>\n",
       "      <td>NaN</td>\n",
       "      <td>NaN</td>\n",
       "      <td>NaN</td>\n",
       "    </tr>\n",
       "    <tr>\n",
       "      <th>2653</th>\n",
       "      <td>2475</td>\n",
       "      <td>GP5057676</td>\n",
       "      <td>1 Phase</td>\n",
       "      <td>SBPDCL</td>\n",
       "      <td>869912033428331</td>\n",
       "      <td>8991759065212012740</td>\n",
       "      <td>404751250012740</td>\n",
       "      <td>fd00:0000:0800:2E3:0000:0000:0000:0001</td>\n",
       "      <td>NaN</td>\n",
       "      <td>NaN</td>\n",
       "      <td>NaN</td>\n",
       "      <td>NaN</td>\n",
       "      <td>NaN</td>\n",
       "      <td>NaN</td>\n",
       "    </tr>\n",
       "    <tr>\n",
       "      <th>2654</th>\n",
       "      <td>2476</td>\n",
       "      <td>GP6849944</td>\n",
       "      <td>1 Phase</td>\n",
       "      <td>SBPDCL</td>\n",
       "      <td>863704043809170</td>\n",
       "      <td>8991759065212013852</td>\n",
       "      <td>404751250013852</td>\n",
       "      <td>fd00:0000:0800:73B:0000:0000:0000:0001</td>\n",
       "      <td>NaN</td>\n",
       "      <td>NaN</td>\n",
       "      <td>NaN</td>\n",
       "      <td>NaN</td>\n",
       "      <td>NaN</td>\n",
       "      <td>NaN</td>\n",
       "    </tr>\n",
       "    <tr>\n",
       "      <th>2655</th>\n",
       "      <td>2477</td>\n",
       "      <td>GP6850045</td>\n",
       "      <td>1 Phase</td>\n",
       "      <td>SBPDCL</td>\n",
       "      <td>863326043202097</td>\n",
       "      <td>8991759065212014166</td>\n",
       "      <td>404751250014166</td>\n",
       "      <td>fd00:0000:0800:4923:0000:0000:0000:0001</td>\n",
       "      <td>NaN</td>\n",
       "      <td>NaN</td>\n",
       "      <td>NaN</td>\n",
       "      <td>NaN</td>\n",
       "      <td>NaN</td>\n",
       "      <td>NaN</td>\n",
       "    </tr>\n",
       "    <tr>\n",
       "      <th>2656</th>\n",
       "      <td>2478</td>\n",
       "      <td>GP6849367</td>\n",
       "      <td>1 Phase</td>\n",
       "      <td>SBPDCL</td>\n",
       "      <td>863704040613922</td>\n",
       "      <td>8991759065212014168</td>\n",
       "      <td>404751250014168</td>\n",
       "      <td>fd00:0000:0800:4925:0000:0000:0000:0001</td>\n",
       "      <td>NaN</td>\n",
       "      <td>NaN</td>\n",
       "      <td>NaN</td>\n",
       "      <td>NaN</td>\n",
       "      <td>NaN</td>\n",
       "      <td>NaN</td>\n",
       "    </tr>\n",
       "    <tr>\n",
       "      <th>2657</th>\n",
       "      <td>2479</td>\n",
       "      <td>GP5057412</td>\n",
       "      <td>1 Phase</td>\n",
       "      <td>SBPDCL</td>\n",
       "      <td>869912039751488</td>\n",
       "      <td>8991759065212015364</td>\n",
       "      <td>404751250015364</td>\n",
       "      <td>fd00:0000:0800:66F2:0000:0000:0000:0001</td>\n",
       "      <td>NaN</td>\n",
       "      <td>NaN</td>\n",
       "      <td>NaN</td>\n",
       "      <td>NaN</td>\n",
       "      <td>NaN</td>\n",
       "      <td>NaN</td>\n",
       "    </tr>\n",
       "    <tr>\n",
       "      <th>2658</th>\n",
       "      <td>2480</td>\n",
       "      <td>GP7556137</td>\n",
       "      <td>1 Phase</td>\n",
       "      <td>SBPDCL</td>\n",
       "      <td>863704041473490</td>\n",
       "      <td>8991759065212015407</td>\n",
       "      <td>404751250015407</td>\n",
       "      <td>fd00:0000:0800:67A0:0000:0000:0000:0001</td>\n",
       "      <td>NaN</td>\n",
       "      <td>NaN</td>\n",
       "      <td>NaN</td>\n",
       "      <td>NaN</td>\n",
       "      <td>NaN</td>\n",
       "      <td>NaN</td>\n",
       "    </tr>\n",
       "    <tr>\n",
       "      <th>2659</th>\n",
       "      <td>2481</td>\n",
       "      <td>GP7557393</td>\n",
       "      <td>1 Phase</td>\n",
       "      <td>SBPDCL</td>\n",
       "      <td>863326042013446</td>\n",
       "      <td>8991759065212015507</td>\n",
       "      <td>404751250015507</td>\n",
       "      <td>fd00:0000:0800:6AA1:0000:0000:0000:0001</td>\n",
       "      <td>NaN</td>\n",
       "      <td>NaN</td>\n",
       "      <td>NaN</td>\n",
       "      <td>NaN</td>\n",
       "      <td>NaN</td>\n",
       "      <td>NaN</td>\n",
       "    </tr>\n",
       "    <tr>\n",
       "      <th>2660</th>\n",
       "      <td>2482</td>\n",
       "      <td>GP7551250</td>\n",
       "      <td>1 Phase</td>\n",
       "      <td>SBPDCL</td>\n",
       "      <td>863326048400811</td>\n",
       "      <td>8991759065212015701</td>\n",
       "      <td>404751250015701</td>\n",
       "      <td>fd00:0000:0800:71C6:0000:0000:0000:0001</td>\n",
       "      <td>NaN</td>\n",
       "      <td>NaN</td>\n",
       "      <td>NaN</td>\n",
       "      <td>NaN</td>\n",
       "      <td>NaN</td>\n",
       "      <td>NaN</td>\n",
       "    </tr>\n",
       "    <tr>\n",
       "      <th>2661</th>\n",
       "      <td>2483</td>\n",
       "      <td>GP5022697</td>\n",
       "      <td>1 Phase</td>\n",
       "      <td>SBPDCL</td>\n",
       "      <td>869912039622671</td>\n",
       "      <td>8991759065212015794</td>\n",
       "      <td>404751250015794</td>\n",
       "      <td>fd00:0000:0800:ED1:0000:0000:0000:0001</td>\n",
       "      <td>NaN</td>\n",
       "      <td>NaN</td>\n",
       "      <td>NaN</td>\n",
       "      <td>NaN</td>\n",
       "      <td>NaN</td>\n",
       "      <td>NaN</td>\n",
       "    </tr>\n",
       "    <tr>\n",
       "      <th>2670</th>\n",
       "      <td>2488</td>\n",
       "      <td>GP5029472</td>\n",
       "      <td>1 Phase</td>\n",
       "      <td>SBPDCL</td>\n",
       "      <td>869912031825272</td>\n",
       "      <td>8991759065212016572</td>\n",
       "      <td>404751250016572</td>\n",
       "      <td>fd00:0000:0800:8ECF:0000:0000:0000:0001</td>\n",
       "      <td>NaN</td>\n",
       "      <td>NaN</td>\n",
       "      <td>NaN</td>\n",
       "      <td>NaN</td>\n",
       "      <td>NaN</td>\n",
       "      <td>NaN</td>\n",
       "    </tr>\n",
       "    <tr>\n",
       "      <th>2671</th>\n",
       "      <td>2489</td>\n",
       "      <td>GP7424495</td>\n",
       "      <td>1 Phase</td>\n",
       "      <td>SBPDCL</td>\n",
       "      <td>863704041593107</td>\n",
       "      <td>8991759065212017295</td>\n",
       "      <td>404751250017295</td>\n",
       "      <td>fd00:0000:0800:A631:0000:0000:0000:0001</td>\n",
       "      <td>NaN</td>\n",
       "      <td>NaN</td>\n",
       "      <td>NaN</td>\n",
       "      <td>NaN</td>\n",
       "      <td>NaN</td>\n",
       "      <td>NaN</td>\n",
       "    </tr>\n",
       "    <tr>\n",
       "      <th>2672</th>\n",
       "      <td>2490</td>\n",
       "      <td>GP7555413</td>\n",
       "      <td>1 Phase</td>\n",
       "      <td>SBPDCL</td>\n",
       "      <td>863704043006371</td>\n",
       "      <td>8991759065212017529</td>\n",
       "      <td>404751250017529</td>\n",
       "      <td>fd00:0000:0800:A7EC:0000:0000:0000:0001</td>\n",
       "      <td>NaN</td>\n",
       "      <td>NaN</td>\n",
       "      <td>NaN</td>\n",
       "      <td>NaN</td>\n",
       "      <td>NaN</td>\n",
       "      <td>NaN</td>\n",
       "    </tr>\n",
       "    <tr>\n",
       "      <th>2673</th>\n",
       "      <td>2491</td>\n",
       "      <td>GP7554045</td>\n",
       "      <td>1 Phase</td>\n",
       "      <td>SBPDCL</td>\n",
       "      <td>863704040269493</td>\n",
       "      <td>8991759065212018095</td>\n",
       "      <td>404751250018095</td>\n",
       "      <td>fd00:0000:0800:B119:0000:0000:0000:0001</td>\n",
       "      <td>NaN</td>\n",
       "      <td>NaN</td>\n",
       "      <td>NaN</td>\n",
       "      <td>NaN</td>\n",
       "      <td>NaN</td>\n",
       "      <td>NaN</td>\n",
       "    </tr>\n",
       "    <tr>\n",
       "      <th>2674</th>\n",
       "      <td>2492</td>\n",
       "      <td>GP7457521</td>\n",
       "      <td>1 Phase</td>\n",
       "      <td>SBPDCL</td>\n",
       "      <td>863326047934091</td>\n",
       "      <td>8991759065212018743</td>\n",
       "      <td>404751250018743</td>\n",
       "      <td>fd00:0000:0800:B8EB:0000:0000:0000:0001</td>\n",
       "      <td>NaN</td>\n",
       "      <td>NaN</td>\n",
       "      <td>NaN</td>\n",
       "      <td>NaN</td>\n",
       "      <td>NaN</td>\n",
       "      <td>NaN</td>\n",
       "    </tr>\n",
       "  </tbody>\n",
       "</table>\n",
       "</div>"
      ],
      "text/plain": [
       "     UNNAMED: 0  METER NO.    PHASE WAREHOUSE_UTILITY              IME  \\\n",
       "2643       2465  GP5028887  1 Phase            SBPDCL  869912031946482   \n",
       "2644       2466  GP7425593  1 Phase            SBPDCL  863704040570890   \n",
       "2645       2467  GP7552117  1 Phase            SBPDCL  863326049114304   \n",
       "2646       2468  GP7615944  1 Phase            SBPDCL  863326045477093   \n",
       "2647       2469  GP7612507  1 Phase            SBPDCL  863326048141613   \n",
       "2648       2470  GP7552594  1 Phase            SBPDCL  863326047079616   \n",
       "2649       2471  GP5011474  1 Phase            SBPDCL  869912033464138   \n",
       "2650       2472  GP4965061  1 Phase            SBPDCL  869912039783507   \n",
       "2651       2473  GP5063712  1 Phase            SBPDCL  869912035499124   \n",
       "2652       2474  GP5048495  1 Phase            SBPDCL  869912032790541   \n",
       "2653       2475  GP5057676  1 Phase            SBPDCL  869912033428331   \n",
       "2654       2476  GP6849944  1 Phase            SBPDCL  863704043809170   \n",
       "2655       2477  GP6850045  1 Phase            SBPDCL  863326043202097   \n",
       "2656       2478  GP6849367  1 Phase            SBPDCL  863704040613922   \n",
       "2657       2479  GP5057412  1 Phase            SBPDCL  869912039751488   \n",
       "2658       2480  GP7556137  1 Phase            SBPDCL  863704041473490   \n",
       "2659       2481  GP7557393  1 Phase            SBPDCL  863326042013446   \n",
       "2660       2482  GP7551250  1 Phase            SBPDCL  863326048400811   \n",
       "2661       2483  GP5022697  1 Phase            SBPDCL  869912039622671   \n",
       "2670       2488  GP5029472  1 Phase            SBPDCL  869912031825272   \n",
       "2671       2489  GP7424495  1 Phase            SBPDCL  863704041593107   \n",
       "2672       2490  GP7555413  1 Phase            SBPDCL  863704043006371   \n",
       "2673       2491  GP7554045  1 Phase            SBPDCL  863704040269493   \n",
       "2674       2492  GP7457521  1 Phase            SBPDCL  863326047934091   \n",
       "\n",
       "                FINAL SIM             IMSI  \\\n",
       "2643  8991759065212004194  404751250004194   \n",
       "2644  8991759065212004939  404751250004939   \n",
       "2645  8991759065212005087  404751250005087   \n",
       "2646  8991759065212005574  404751250005574   \n",
       "2647  8991759065212006014  404751250006014   \n",
       "2648  8991759065212006349  404751250006349   \n",
       "2649  8991759065212007556  404751250007556   \n",
       "2650  8991759065212012051  404751250012051   \n",
       "2651  8991759065212012426  404751250012426   \n",
       "2652  8991759065212012713  404751250012713   \n",
       "2653  8991759065212012740  404751250012740   \n",
       "2654  8991759065212013852  404751250013852   \n",
       "2655  8991759065212014166  404751250014166   \n",
       "2656  8991759065212014168  404751250014168   \n",
       "2657  8991759065212015364  404751250015364   \n",
       "2658  8991759065212015407  404751250015407   \n",
       "2659  8991759065212015507  404751250015507   \n",
       "2660  8991759065212015701  404751250015701   \n",
       "2661  8991759065212015794  404751250015794   \n",
       "2670  8991759065212016572  404751250016572   \n",
       "2671  8991759065212017295  404751250017295   \n",
       "2672  8991759065212017529  404751250017529   \n",
       "2673  8991759065212018095  404751250018095   \n",
       "2674  8991759065212018743  404751250018743   \n",
       "\n",
       "                                           IP MFG_SERIAL_NUM UDC_ID  \\\n",
       "2643  fd00:0000:0800:CCDA:0000:0000:0000:0001            NaN    NaN   \n",
       "2644  fd00:0000:0800:CFC3:0000:0000:0000:0001            NaN    NaN   \n",
       "2645  fd00:0000:0800:D057:0000:0000:0000:0001            NaN    NaN   \n",
       "2646  fd00:0000:0800:D23E:0000:0000:0000:0001            NaN    NaN   \n",
       "2647  fd00:0000:0800:D3F6:0000:0000:0000:0001            NaN    NaN   \n",
       "2648  fd00:0000:0800:D545:0000:0000:0000:0001            NaN    NaN   \n",
       "2649  fd00:0000:0800:D9FC:0000:0000:0000:0001            NaN    NaN   \n",
       "2650  fd00:0000:0800:1E46:0000:0000:0000:0001            NaN    NaN   \n",
       "2651  fd00:0000:0800:2911:0000:0000:0000:0001            NaN    NaN   \n",
       "2652  fd00:0000:0800:3393:0000:0000:0000:0001            NaN    NaN   \n",
       "2653   fd00:0000:0800:2E3:0000:0000:0000:0001            NaN    NaN   \n",
       "2654   fd00:0000:0800:73B:0000:0000:0000:0001            NaN    NaN   \n",
       "2655  fd00:0000:0800:4923:0000:0000:0000:0001            NaN    NaN   \n",
       "2656  fd00:0000:0800:4925:0000:0000:0000:0001            NaN    NaN   \n",
       "2657  fd00:0000:0800:66F2:0000:0000:0000:0001            NaN    NaN   \n",
       "2658  fd00:0000:0800:67A0:0000:0000:0000:0001            NaN    NaN   \n",
       "2659  fd00:0000:0800:6AA1:0000:0000:0000:0001            NaN    NaN   \n",
       "2660  fd00:0000:0800:71C6:0000:0000:0000:0001            NaN    NaN   \n",
       "2661   fd00:0000:0800:ED1:0000:0000:0000:0001            NaN    NaN   \n",
       "2670  fd00:0000:0800:8ECF:0000:0000:0000:0001            NaN    NaN   \n",
       "2671  fd00:0000:0800:A631:0000:0000:0000:0001            NaN    NaN   \n",
       "2672  fd00:0000:0800:A7EC:0000:0000:0000:0001            NaN    NaN   \n",
       "2673  fd00:0000:0800:B119:0000:0000:0000:0001            NaN    NaN   \n",
       "2674  fd00:0000:0800:B8EB:0000:0000:0000:0001            NaN    NaN   \n",
       "\n",
       "     NETWORK_ID INSTALLATIONNUMBER STATUS  \\\n",
       "2643        NaN                NaN    NaN   \n",
       "2644        NaN                NaN    NaN   \n",
       "2645        NaN                NaN    NaN   \n",
       "2646        NaN                NaN    NaN   \n",
       "2647        NaN                NaN    NaN   \n",
       "2648        NaN                NaN    NaN   \n",
       "2649        NaN                NaN    NaN   \n",
       "2650        NaN                NaN    NaN   \n",
       "2651        NaN                NaN    NaN   \n",
       "2652        NaN                NaN    NaN   \n",
       "2653        NaN                NaN    NaN   \n",
       "2654        NaN                NaN    NaN   \n",
       "2655        NaN                NaN    NaN   \n",
       "2656        NaN                NaN    NaN   \n",
       "2657        NaN                NaN    NaN   \n",
       "2658        NaN                NaN    NaN   \n",
       "2659        NaN                NaN    NaN   \n",
       "2660        NaN                NaN    NaN   \n",
       "2661        NaN                NaN    NaN   \n",
       "2670        NaN                NaN    NaN   \n",
       "2671        NaN                NaN    NaN   \n",
       "2672        NaN                NaN    NaN   \n",
       "2673        NaN                NaN    NaN   \n",
       "2674        NaN                NaN    NaN   \n",
       "\n",
       "     DECODE(D.ORG_ID,52,'SBPDCL',102,'NBPDCL')  \n",
       "2643                                       NaN  \n",
       "2644                                       NaN  \n",
       "2645                                       NaN  \n",
       "2646                                       NaN  \n",
       "2647                                       NaN  \n",
       "2648                                       NaN  \n",
       "2649                                       NaN  \n",
       "2650                                       NaN  \n",
       "2651                                       NaN  \n",
       "2652                                       NaN  \n",
       "2653                                       NaN  \n",
       "2654                                       NaN  \n",
       "2655                                       NaN  \n",
       "2656                                       NaN  \n",
       "2657                                       NaN  \n",
       "2658                                       NaN  \n",
       "2659                                       NaN  \n",
       "2660                                       NaN  \n",
       "2661                                       NaN  \n",
       "2670                                       NaN  \n",
       "2671                                       NaN  \n",
       "2672                                       NaN  \n",
       "2673                                       NaN  \n",
       "2674                                       NaN  "
      ]
     },
     "execution_count": 41,
     "metadata": {},
     "output_type": "execute_result"
    }
   ],
   "source": [
    "LEFT_JOIN_WITH_IMSI_WAREHOUSE_AND_COMIBNED_DATA[LEFT_JOIN_WITH_IMSI_WAREHOUSE_AND_COMIBNED_DATA['UDC_ID'].isnull()]"
   ]
  },
  {
   "cell_type": "code",
   "execution_count": null,
   "metadata": {},
   "outputs": [],
   "source": []
  },
  {
   "cell_type": "markdown",
   "metadata": {},
   "source": [
    "# duplicate row while we join with imsi "
   ]
  },
  {
   "cell_type": "code",
   "execution_count": 42,
   "metadata": {},
   "outputs": [],
   "source": [
    "#LEFT_JOIN_WITH_IMSI_WAREHOUSE_AND_COMIBNED_DATA[~LEFT_JOIN_WITH_IMSI_WAREHOUSE_AND_COMIBNED_DATA['UDC_ID'].isnull()].count()"
   ]
  },
  {
   "cell_type": "code",
   "execution_count": 43,
   "metadata": {},
   "outputs": [],
   "source": [
    "# duplicated row ..  bcz in asset initiation file there are 2 installtion no.  with respect to 1 imsi no.\n",
    "\n",
    "duplicate_check = LEFT_JOIN_WITH_IMSI_WAREHOUSE_AND_COMIBNED_DATA[LEFT_JOIN_WITH_IMSI_WAREHOUSE_AND_COMIBNED_DATA['UDC_ID'].duplicated(keep=False)]\n",
    "\n",
    "duplicate_check.to_csv(r'C:\\Users\\Ratan Kumar Jha\\Desktop\\METER_IMPORTATION_FOLDER\\OUTPUT_DATA_FILE\\duplicate_check_wrt_IMSI_IN_ASSET_FIL.csv',index=False)\n",
    "duplicate_check.to_csv(r\"C:\\PYTHON\\EDF_CODE_AUTOMATION_PYTHON\\METER_MATCHING_DATA\\duplicate_check_wrt_IMSI_IN_ASSET_FIL.csv\",index=False)"
   ]
  },
  {
   "cell_type": "code",
   "execution_count": 44,
   "metadata": {},
   "outputs": [
    {
     "data": {
      "text/plain": [
       "UNNAMED: 0                                   3931\n",
       "METER NO.                                    3931\n",
       "PHASE                                        3931\n",
       "WAREHOUSE_UTILITY                            3931\n",
       "IME                                          3931\n",
       "FINAL SIM                                    3931\n",
       "IMSI                                         3931\n",
       "IP                                           3931\n",
       "MFG_SERIAL_NUM                               3907\n",
       "UDC_ID                                       3907\n",
       "NETWORK_ID                                   3907\n",
       "INSTALLATIONNUMBER                           3907\n",
       "STATUS                                       3907\n",
       "DECODE(D.ORG_ID,52,'SBPDCL',102,'NBPDCL')    3907\n",
       "dtype: int64"
      ]
     },
     "execution_count": 44,
     "metadata": {},
     "output_type": "execute_result"
    }
   ],
   "source": [
    "LEFT_JOIN_WITH_IMSI_WAREHOUSE_AND_COMIBNED_DATA.count()\n"
   ]
  },
  {
   "cell_type": "code",
   "execution_count": 45,
   "metadata": {},
   "outputs": [],
   "source": [
    "LEFT_JOIN_WITH_IMSI_WAREHOUSE_AND_COMIBNED_DATA.drop_duplicates(subset=['IMSI'],inplace=True)\n"
   ]
  },
  {
   "cell_type": "code",
   "execution_count": 46,
   "metadata": {},
   "outputs": [
    {
     "data": {
      "text/plain": [
       "UNNAMED: 0                                   3715\n",
       "METER NO.                                    3715\n",
       "PHASE                                        3715\n",
       "WAREHOUSE_UTILITY                            3715\n",
       "IME                                          3715\n",
       "FINAL SIM                                    3715\n",
       "IMSI                                         3715\n",
       "IP                                           3715\n",
       "MFG_SERIAL_NUM                               3691\n",
       "UDC_ID                                       3691\n",
       "NETWORK_ID                                   3691\n",
       "INSTALLATIONNUMBER                           3691\n",
       "STATUS                                       3691\n",
       "DECODE(D.ORG_ID,52,'SBPDCL',102,'NBPDCL')    3691\n",
       "dtype: int64"
      ]
     },
     "execution_count": 46,
     "metadata": {},
     "output_type": "execute_result"
    }
   ],
   "source": [
    "LEFT_JOIN_WITH_IMSI_WAREHOUSE_AND_COMIBNED_DATA.count()"
   ]
  },
  {
   "cell_type": "code",
   "execution_count": null,
   "metadata": {},
   "outputs": [],
   "source": []
  },
  {
   "cell_type": "markdown",
   "metadata": {},
   "source": [
    "#### IP"
   ]
  },
  {
   "cell_type": "code",
   "execution_count": null,
   "metadata": {},
   "outputs": [],
   "source": []
  },
  {
   "cell_type": "code",
   "execution_count": 47,
   "metadata": {},
   "outputs": [],
   "source": [
    "#  JOIN COMBINED DATA AND WAREHOUSE DATA\n",
    "\n",
    "LEFT_JOIN_WITH_IP_WAREHOUSE_AND_COMIBNED_DATA = pd.merge(warehouse_Data, NB_SB_COMBINED_DATAFRAME, left_on=['IP'], right_on=['NETWORK_ID'], how='left')\n",
    "\n",
    "\n",
    "\n",
    "\n",
    "# changhe name \n",
    "LEFT_JOIN_WITH_IP_WAREHOUSE_AND_COMIBNED_DATA.rename(\n",
    "    columns = {\"MFG_SERIAL_NUM\":\"IP_MATCHED_METER_NO\",\"UDC_ID\": \"IP_MATCH_UDC_ID\",\"NETWORK_ID\":\"IP_MATCHED_IP\",\"STATUS\":\"IP_MATCHED_STATUS\",\"DECODE(D.ORG_ID,52,'SBPDCL',102,'NBPDCL')\":\"IP_MATCHED_UTILITY\"},\n",
    "    inplace=True\n",
    ")\n",
    "\n",
    "\n",
    "\n",
    "\n",
    "# COLUMN\n",
    "\n",
    "LEFT_JOIN_WITH_IP_WAREHOUSE_AND_COMIBNED_COLUMN=LEFT_JOIN_WITH_IP_WAREHOUSE_AND_COMIBNED_DATA.columns\n",
    "#LEFT_JOIN_WITH_IP_WAREHOUSE_AND_COMIBNED_COLUMN\n",
    "LEFT_JOIN_WITH_IP_WAREHOUSE_AND_COMIBNED_DATA_MODIFIED = LEFT_JOIN_WITH_IP_WAREHOUSE_AND_COMIBNED_DATA[LEFT_JOIN_WITH_IP_WAREHOUSE_AND_COMIBNED_COLUMN]"
   ]
  },
  {
   "cell_type": "code",
   "execution_count": 48,
   "metadata": {},
   "outputs": [
    {
     "data": {
      "text/html": [
       "<div>\n",
       "<style scoped>\n",
       "    .dataframe tbody tr th:only-of-type {\n",
       "        vertical-align: middle;\n",
       "    }\n",
       "\n",
       "    .dataframe tbody tr th {\n",
       "        vertical-align: top;\n",
       "    }\n",
       "\n",
       "    .dataframe thead th {\n",
       "        text-align: right;\n",
       "    }\n",
       "</style>\n",
       "<table border=\"1\" class=\"dataframe\">\n",
       "  <thead>\n",
       "    <tr style=\"text-align: right;\">\n",
       "      <th></th>\n",
       "      <th>UNNAMED: 0</th>\n",
       "      <th>METER NO.</th>\n",
       "      <th>PHASE</th>\n",
       "      <th>WAREHOUSE_UTILITY</th>\n",
       "      <th>IME</th>\n",
       "      <th>FINAL SIM</th>\n",
       "      <th>IMSI</th>\n",
       "      <th>IP</th>\n",
       "      <th>IP_MATCHED_METER_NO</th>\n",
       "      <th>IP_MATCH_UDC_ID</th>\n",
       "      <th>IP_MATCHED_IP</th>\n",
       "      <th>INSTALLATIONNUMBER</th>\n",
       "      <th>IP_MATCHED_STATUS</th>\n",
       "      <th>IP_MATCHED_UTILITY</th>\n",
       "    </tr>\n",
       "  </thead>\n",
       "  <tbody>\n",
       "    <tr>\n",
       "      <th>0</th>\n",
       "      <td>0</td>\n",
       "      <td>LT0346339</td>\n",
       "      <td>1 Phase</td>\n",
       "      <td>NBPDCL</td>\n",
       "      <td>865681060086437</td>\n",
       "      <td>8991856050706502419</td>\n",
       "      <td>405856706497419</td>\n",
       "      <td>2405:0203:0527:0696:0000:0000:0000:0010</td>\n",
       "      <td>LT0425144</td>\n",
       "      <td>405856706497419</td>\n",
       "      <td>2405:0203:0527:0696:0000:0000:0000:0010</td>\n",
       "      <td>5003983666</td>\n",
       "      <td>Installed</td>\n",
       "      <td>SBPDCL</td>\n",
       "    </tr>\n",
       "  </tbody>\n",
       "</table>\n",
       "</div>"
      ],
      "text/plain": [
       "  UNNAMED: 0  METER NO.    PHASE WAREHOUSE_UTILITY              IME  \\\n",
       "0          0  LT0346339  1 Phase            NBPDCL  865681060086437   \n",
       "\n",
       "             FINAL SIM             IMSI  \\\n",
       "0  8991856050706502419  405856706497419   \n",
       "\n",
       "                                        IP IP_MATCHED_METER_NO  \\\n",
       "0  2405:0203:0527:0696:0000:0000:0000:0010           LT0425144   \n",
       "\n",
       "   IP_MATCH_UDC_ID                            IP_MATCHED_IP  \\\n",
       "0  405856706497419  2405:0203:0527:0696:0000:0000:0000:0010   \n",
       "\n",
       "  INSTALLATIONNUMBER IP_MATCHED_STATUS IP_MATCHED_UTILITY  \n",
       "0         5003983666         Installed             SBPDCL  "
      ]
     },
     "execution_count": 48,
     "metadata": {},
     "output_type": "execute_result"
    }
   ],
   "source": [
    "LEFT_JOIN_WITH_IP_WAREHOUSE_AND_COMIBNED_DATA_MODIFIED.head(1)"
   ]
  },
  {
   "cell_type": "code",
   "execution_count": 49,
   "metadata": {},
   "outputs": [
    {
     "data": {
      "text/html": [
       "<div>\n",
       "<style scoped>\n",
       "    .dataframe tbody tr th:only-of-type {\n",
       "        vertical-align: middle;\n",
       "    }\n",
       "\n",
       "    .dataframe tbody tr th {\n",
       "        vertical-align: top;\n",
       "    }\n",
       "\n",
       "    .dataframe thead th {\n",
       "        text-align: right;\n",
       "    }\n",
       "</style>\n",
       "<table border=\"1\" class=\"dataframe\">\n",
       "  <thead>\n",
       "    <tr style=\"text-align: right;\">\n",
       "      <th></th>\n",
       "      <th>UNNAMED: 0</th>\n",
       "      <th>METER NO.</th>\n",
       "      <th>PHASE</th>\n",
       "      <th>WAREHOUSE_UTILITY</th>\n",
       "      <th>IME</th>\n",
       "      <th>FINAL SIM</th>\n",
       "      <th>IMSI</th>\n",
       "      <th>IP</th>\n",
       "      <th>IP_MATCHED_METER_NO</th>\n",
       "      <th>IP_MATCH_UDC_ID</th>\n",
       "      <th>IP_MATCHED_IP</th>\n",
       "      <th>INSTALLATIONNUMBER</th>\n",
       "      <th>IP_MATCHED_STATUS</th>\n",
       "      <th>IP_MATCHED_UTILITY</th>\n",
       "    </tr>\n",
       "  </thead>\n",
       "  <tbody>\n",
       "    <tr>\n",
       "      <th>1632</th>\n",
       "      <td>1450</td>\n",
       "      <td>GP7503167</td>\n",
       "      <td>1 Phase</td>\n",
       "      <td>NBPDCL</td>\n",
       "      <td>863326045242752</td>\n",
       "      <td>8991759065212011920</td>\n",
       "      <td>404751250011920</td>\n",
       "      <td>fd00:0000:0800:EB08:0000:0000:0000:0001</td>\n",
       "      <td>GP7503167</td>\n",
       "      <td>404751250011920</td>\n",
       "      <td>fd00:0000:0800:EB08:0000:0000:0000:0001</td>\n",
       "      <td>nan</td>\n",
       "      <td>Meter Shop</td>\n",
       "      <td>SBPDCL</td>\n",
       "    </tr>\n",
       "    <tr>\n",
       "      <th>1631</th>\n",
       "      <td>1450</td>\n",
       "      <td>GP7503167</td>\n",
       "      <td>1 Phase</td>\n",
       "      <td>NBPDCL</td>\n",
       "      <td>863326045242752</td>\n",
       "      <td>8991759065212011920</td>\n",
       "      <td>404751250011920</td>\n",
       "      <td>fd00:0000:0800:EB08:0000:0000:0000:0001</td>\n",
       "      <td>GP7503167</td>\n",
       "      <td>404751250011920</td>\n",
       "      <td>fd00:0000:0800:EB08:0000:0000:0000:0001</td>\n",
       "      <td>BCHTR-6350</td>\n",
       "      <td>Meter Shop</td>\n",
       "      <td>SBPDCL</td>\n",
       "    </tr>\n",
       "    <tr>\n",
       "      <th>1629</th>\n",
       "      <td>1449</td>\n",
       "      <td>GP7469551</td>\n",
       "      <td>1 Phase</td>\n",
       "      <td>NBPDCL</td>\n",
       "      <td>863326042615901</td>\n",
       "      <td>8991759065212011904</td>\n",
       "      <td>404751250011904</td>\n",
       "      <td>fd00:0000:0800:EAF8:0000:0000:0000:0001</td>\n",
       "      <td>GP7469551</td>\n",
       "      <td>404751250011904</td>\n",
       "      <td>fd00:0000:0800:EAF8:0000:0000:0000:0001</td>\n",
       "      <td>BCHTR-2086</td>\n",
       "      <td>Meter Shop</td>\n",
       "      <td>SBPDCL</td>\n",
       "    </tr>\n",
       "    <tr>\n",
       "      <th>1630</th>\n",
       "      <td>1449</td>\n",
       "      <td>GP7469551</td>\n",
       "      <td>1 Phase</td>\n",
       "      <td>NBPDCL</td>\n",
       "      <td>863326042615901</td>\n",
       "      <td>8991759065212011904</td>\n",
       "      <td>404751250011904</td>\n",
       "      <td>fd00:0000:0800:EAF8:0000:0000:0000:0001</td>\n",
       "      <td>GP7469551</td>\n",
       "      <td>404751250011904</td>\n",
       "      <td>fd00:0000:0800:EAF8:0000:0000:0000:0001</td>\n",
       "      <td>nan</td>\n",
       "      <td>Meter Shop</td>\n",
       "      <td>SBPDCL</td>\n",
       "    </tr>\n",
       "    <tr>\n",
       "      <th>1627</th>\n",
       "      <td>1448</td>\n",
       "      <td>GP7470384</td>\n",
       "      <td>1 Phase</td>\n",
       "      <td>NBPDCL</td>\n",
       "      <td>863326045539520</td>\n",
       "      <td>8991759065212011903</td>\n",
       "      <td>404751250011903</td>\n",
       "      <td>fd00:0000:0800:EAF7:0000:0000:0000:0001</td>\n",
       "      <td>GP7470384</td>\n",
       "      <td>404751250011903</td>\n",
       "      <td>fd00:0000:0800:EAF7:0000:0000:0000:0001</td>\n",
       "      <td>nan</td>\n",
       "      <td>Meter Shop</td>\n",
       "      <td>SBPDCL</td>\n",
       "    </tr>\n",
       "    <tr>\n",
       "      <th>...</th>\n",
       "      <td>...</td>\n",
       "      <td>...</td>\n",
       "      <td>...</td>\n",
       "      <td>...</td>\n",
       "      <td>...</td>\n",
       "      <td>...</td>\n",
       "      <td>...</td>\n",
       "      <td>...</td>\n",
       "      <td>...</td>\n",
       "      <td>...</td>\n",
       "      <td>...</td>\n",
       "      <td>...</td>\n",
       "      <td>...</td>\n",
       "      <td>...</td>\n",
       "    </tr>\n",
       "    <tr>\n",
       "      <th>3596</th>\n",
       "      <td>3358</td>\n",
       "      <td>LT0238993</td>\n",
       "      <td>1 Phase</td>\n",
       "      <td>SBPDCL</td>\n",
       "      <td>869810056087945</td>\n",
       "      <td>8991856050706352909</td>\n",
       "      <td>405856706352909</td>\n",
       "      <td>2405:0203:0523:D71D:0000:0000:0000:0010</td>\n",
       "      <td>NaN</td>\n",
       "      <td>NaN</td>\n",
       "      <td>NaN</td>\n",
       "      <td>NaN</td>\n",
       "      <td>NaN</td>\n",
       "      <td>NaN</td>\n",
       "    </tr>\n",
       "    <tr>\n",
       "      <th>3598</th>\n",
       "      <td>3360</td>\n",
       "      <td>LT0246776</td>\n",
       "      <td>1 Phase</td>\n",
       "      <td>SBPDCL</td>\n",
       "      <td>869810056053541</td>\n",
       "      <td>8991856050706339408</td>\n",
       "      <td>405856706339408</td>\n",
       "      <td>2405:0203:0523:F584:0000:0000:0000:0010</td>\n",
       "      <td>NaN</td>\n",
       "      <td>NaN</td>\n",
       "      <td>NaN</td>\n",
       "      <td>NaN</td>\n",
       "      <td>NaN</td>\n",
       "      <td>NaN</td>\n",
       "    </tr>\n",
       "    <tr>\n",
       "      <th>3603</th>\n",
       "      <td>3365</td>\n",
       "      <td>LT0246742</td>\n",
       "      <td>1 Phase</td>\n",
       "      <td>SBPDCL</td>\n",
       "      <td>869810056208426</td>\n",
       "      <td>8991856050706335744</td>\n",
       "      <td>405856706335744</td>\n",
       "      <td>2405:0203:0523:F562:0000:0000:0000:0010</td>\n",
       "      <td>NaN</td>\n",
       "      <td>NaN</td>\n",
       "      <td>NaN</td>\n",
       "      <td>NaN</td>\n",
       "      <td>NaN</td>\n",
       "      <td>NaN</td>\n",
       "    </tr>\n",
       "    <tr>\n",
       "      <th>3607</th>\n",
       "      <td>3369</td>\n",
       "      <td>LT0239978</td>\n",
       "      <td>1 Phase</td>\n",
       "      <td>SBPDCL</td>\n",
       "      <td>869810055548707</td>\n",
       "      <td>8991856050706351124</td>\n",
       "      <td>405856706351124</td>\n",
       "      <td>2405:0203:0523:DAF6:0000:0000:0000:0010</td>\n",
       "      <td>NaN</td>\n",
       "      <td>NaN</td>\n",
       "      <td>NaN</td>\n",
       "      <td>NaN</td>\n",
       "      <td>NaN</td>\n",
       "      <td>NaN</td>\n",
       "    </tr>\n",
       "    <tr>\n",
       "      <th>3890</th>\n",
       "      <td>3652</td>\n",
       "      <td>LT0239221</td>\n",
       "      <td>1 Phase</td>\n",
       "      <td>SBPDCL</td>\n",
       "      <td>869810055460267</td>\n",
       "      <td>8991856050706350623</td>\n",
       "      <td>405856706350623</td>\n",
       "      <td>2405:0203:0523:D801:0000:0000:0000:0010</td>\n",
       "      <td>NaN</td>\n",
       "      <td>NaN</td>\n",
       "      <td>NaN</td>\n",
       "      <td>NaN</td>\n",
       "      <td>NaN</td>\n",
       "      <td>NaN</td>\n",
       "    </tr>\n",
       "  </tbody>\n",
       "</table>\n",
       "<p>498 rows × 14 columns</p>\n",
       "</div>"
      ],
      "text/plain": [
       "     UNNAMED: 0  METER NO.    PHASE WAREHOUSE_UTILITY              IME  \\\n",
       "1632       1450  GP7503167  1 Phase            NBPDCL  863326045242752   \n",
       "1631       1450  GP7503167  1 Phase            NBPDCL  863326045242752   \n",
       "1629       1449  GP7469551  1 Phase            NBPDCL  863326042615901   \n",
       "1630       1449  GP7469551  1 Phase            NBPDCL  863326042615901   \n",
       "1627       1448  GP7470384  1 Phase            NBPDCL  863326045539520   \n",
       "...         ...        ...      ...               ...              ...   \n",
       "3596       3358  LT0238993  1 Phase            SBPDCL  869810056087945   \n",
       "3598       3360  LT0246776  1 Phase            SBPDCL  869810056053541   \n",
       "3603       3365  LT0246742  1 Phase            SBPDCL  869810056208426   \n",
       "3607       3369  LT0239978  1 Phase            SBPDCL  869810055548707   \n",
       "3890       3652  LT0239221  1 Phase            SBPDCL  869810055460267   \n",
       "\n",
       "                FINAL SIM             IMSI  \\\n",
       "1632  8991759065212011920  404751250011920   \n",
       "1631  8991759065212011920  404751250011920   \n",
       "1629  8991759065212011904  404751250011904   \n",
       "1630  8991759065212011904  404751250011904   \n",
       "1627  8991759065212011903  404751250011903   \n",
       "...                   ...              ...   \n",
       "3596  8991856050706352909  405856706352909   \n",
       "3598  8991856050706339408  405856706339408   \n",
       "3603  8991856050706335744  405856706335744   \n",
       "3607  8991856050706351124  405856706351124   \n",
       "3890  8991856050706350623  405856706350623   \n",
       "\n",
       "                                           IP IP_MATCHED_METER_NO  \\\n",
       "1632  fd00:0000:0800:EB08:0000:0000:0000:0001           GP7503167   \n",
       "1631  fd00:0000:0800:EB08:0000:0000:0000:0001           GP7503167   \n",
       "1629  fd00:0000:0800:EAF8:0000:0000:0000:0001           GP7469551   \n",
       "1630  fd00:0000:0800:EAF8:0000:0000:0000:0001           GP7469551   \n",
       "1627  fd00:0000:0800:EAF7:0000:0000:0000:0001           GP7470384   \n",
       "...                                       ...                 ...   \n",
       "3596  2405:0203:0523:D71D:0000:0000:0000:0010                 NaN   \n",
       "3598  2405:0203:0523:F584:0000:0000:0000:0010                 NaN   \n",
       "3603  2405:0203:0523:F562:0000:0000:0000:0010                 NaN   \n",
       "3607  2405:0203:0523:DAF6:0000:0000:0000:0010                 NaN   \n",
       "3890  2405:0203:0523:D801:0000:0000:0000:0010                 NaN   \n",
       "\n",
       "      IP_MATCH_UDC_ID                            IP_MATCHED_IP  \\\n",
       "1632  404751250011920  fd00:0000:0800:EB08:0000:0000:0000:0001   \n",
       "1631  404751250011920  fd00:0000:0800:EB08:0000:0000:0000:0001   \n",
       "1629  404751250011904  fd00:0000:0800:EAF8:0000:0000:0000:0001   \n",
       "1630  404751250011904  fd00:0000:0800:EAF8:0000:0000:0000:0001   \n",
       "1627  404751250011903  fd00:0000:0800:EAF7:0000:0000:0000:0001   \n",
       "...               ...                                      ...   \n",
       "3596              NaN                                      NaN   \n",
       "3598              NaN                                      NaN   \n",
       "3603              NaN                                      NaN   \n",
       "3607              NaN                                      NaN   \n",
       "3890              NaN                                      NaN   \n",
       "\n",
       "     INSTALLATIONNUMBER IP_MATCHED_STATUS IP_MATCHED_UTILITY  \n",
       "1632                nan        Meter Shop             SBPDCL  \n",
       "1631         BCHTR-6350        Meter Shop             SBPDCL  \n",
       "1629         BCHTR-2086        Meter Shop             SBPDCL  \n",
       "1630                nan        Meter Shop             SBPDCL  \n",
       "1627                nan        Meter Shop             SBPDCL  \n",
       "...                 ...               ...                ...  \n",
       "3596                NaN               NaN                NaN  \n",
       "3598                NaN               NaN                NaN  \n",
       "3603                NaN               NaN                NaN  \n",
       "3607                NaN               NaN                NaN  \n",
       "3890                NaN               NaN                NaN  \n",
       "\n",
       "[498 rows x 14 columns]"
      ]
     },
     "execution_count": 49,
     "metadata": {},
     "output_type": "execute_result"
    }
   ],
   "source": [
    "LEFT_JOIN_WITH_IP_WAREHOUSE_AND_COMIBNED_DATA_MODIFIED[LEFT_JOIN_WITH_IP_WAREHOUSE_AND_COMIBNED_DATA_MODIFIED.duplicated(subset=['IP_MATCHED_IP'],keep=False)].sort_values(by=['IP_MATCHED_IP'],ascending=False)"
   ]
  },
  {
   "cell_type": "code",
   "execution_count": null,
   "metadata": {},
   "outputs": [],
   "source": []
  },
  {
   "cell_type": "markdown",
   "metadata": {},
   "source": [
    "##### joining both the table \"   LEFT_JOIN_WITH_METER_UTILITY_WAREHOUSE_AND_COMIBNED_DATA   \"  ,  \" LEFT_JOIN_WITH_IMSI_WAREHOUSE_AND_COMIBNED_DATA \"  and    \" LEFT_JOIN_WITH_IP_WAREHOUSE_AND_COMIBNED_DATA \""
   ]
  },
  {
   "cell_type": "code",
   "execution_count": null,
   "metadata": {},
   "outputs": [],
   "source": []
  },
  {
   "cell_type": "code",
   "execution_count": 50,
   "metadata": {},
   "outputs": [],
   "source": [
    "# LEFT_JOIN_WITH_METER_UTILITY_WAREHOUSE_AND_COMIBNED_DATA : column rename"
   ]
  },
  {
   "cell_type": "code",
   "execution_count": 51,
   "metadata": {},
   "outputs": [],
   "source": [
    "LEFT_JOIN_WITH_METER_UTILITY_WAREHOUSE_AND_COMIBNED_DATA.rename(\n",
    "    columns={\"UDC_ID\": \"METER_MATCH_UDC_ID\", \"NETWORK_ID\": \"METER_MATCH_IP\", \"STATUS\": \"METER_MATCH_STATUS\",\"DECODE(D.ORG_ID,52,'SBPDCL',102,'NBPDCL')\":\"METER_MATCH_UTILITY\"},\n",
    "    inplace=True\n",
    ")\n",
    "\n"
   ]
  },
  {
   "cell_type": "code",
   "execution_count": 52,
   "metadata": {},
   "outputs": [],
   "source": [
    "# LEFT_JOIN_WITH_METER_UTILITY_WAREHOUSE_AND_COMIBNED_DATA : column in modified column"
   ]
  },
  {
   "cell_type": "code",
   "execution_count": 53,
   "metadata": {},
   "outputs": [
    {
     "data": {
      "text/plain": [
       "Index(['UNNAMED: 0', 'METER NO.', 'PHASE', 'WAREHOUSE_UTILITY', 'IME',\n",
       "       'FINAL SIM', 'IMSI', 'IP', 'MFG_SERIAL_NUM', 'METER_MATCH_UDC_ID',\n",
       "       'METER_MATCH_IP', 'INSTALLATIONNUMBER', 'METER_MATCH_STATUS',\n",
       "       'METER_MATCH_UTILITY'],\n",
       "      dtype='object')"
      ]
     },
     "execution_count": 53,
     "metadata": {},
     "output_type": "execute_result"
    }
   ],
   "source": [
    "LEFT_JOIN_WITH_METER_UTILITY_WAREHOUSE_AND_COMINED_COLUMN=LEFT_JOIN_WITH_METER_UTILITY_WAREHOUSE_AND_COMIBNED_DATA.columns\n",
    "LEFT_JOIN_WITH_METER_UTILITY_WAREHOUSE_AND_COMINED_COLUMN"
   ]
  },
  {
   "cell_type": "code",
   "execution_count": 54,
   "metadata": {},
   "outputs": [],
   "source": [
    "LEFT_JOIN_WITH_METER_UTILITY_WAREHOUSE_AND_COMIBNED_DATA_MODIFIED = LEFT_JOIN_WITH_METER_UTILITY_WAREHOUSE_AND_COMIBNED_DATA[LEFT_JOIN_WITH_METER_UTILITY_WAREHOUSE_AND_COMINED_COLUMN]"
   ]
  },
  {
   "cell_type": "code",
   "execution_count": null,
   "metadata": {},
   "outputs": [],
   "source": []
  },
  {
   "cell_type": "code",
   "execution_count": 55,
   "metadata": {},
   "outputs": [
    {
     "data": {
      "text/html": [
       "<div>\n",
       "<style scoped>\n",
       "    .dataframe tbody tr th:only-of-type {\n",
       "        vertical-align: middle;\n",
       "    }\n",
       "\n",
       "    .dataframe tbody tr th {\n",
       "        vertical-align: top;\n",
       "    }\n",
       "\n",
       "    .dataframe thead th {\n",
       "        text-align: right;\n",
       "    }\n",
       "</style>\n",
       "<table border=\"1\" class=\"dataframe\">\n",
       "  <thead>\n",
       "    <tr style=\"text-align: right;\">\n",
       "      <th></th>\n",
       "      <th>UNNAMED: 0</th>\n",
       "      <th>METER NO.</th>\n",
       "      <th>PHASE</th>\n",
       "      <th>WAREHOUSE_UTILITY</th>\n",
       "      <th>IME</th>\n",
       "      <th>FINAL SIM</th>\n",
       "      <th>IMSI</th>\n",
       "      <th>IP</th>\n",
       "      <th>MFG_SERIAL_NUM</th>\n",
       "      <th>METER_MATCH_UDC_ID</th>\n",
       "      <th>METER_MATCH_IP</th>\n",
       "      <th>INSTALLATIONNUMBER</th>\n",
       "      <th>METER_MATCH_STATUS</th>\n",
       "      <th>METER_MATCH_UTILITY</th>\n",
       "    </tr>\n",
       "  </thead>\n",
       "  <tbody>\n",
       "    <tr>\n",
       "      <th>0</th>\n",
       "      <td>4</td>\n",
       "      <td>LT0509672</td>\n",
       "      <td>1 Phase</td>\n",
       "      <td>NBPDCL</td>\n",
       "      <td>865575064710895</td>\n",
       "      <td>8991856040706026298</td>\n",
       "      <td>405856706571320</td>\n",
       "      <td>2405:0203:0527:83A9:0000:0000:0000:0010</td>\n",
       "      <td>LT0509672</td>\n",
       "      <td>nan</td>\n",
       "      <td>nan</td>\n",
       "      <td>5001532140</td>\n",
       "      <td>Meter Shop</td>\n",
       "      <td>NBPDCL</td>\n",
       "    </tr>\n",
       "  </tbody>\n",
       "</table>\n",
       "</div>"
      ],
      "text/plain": [
       "  UNNAMED: 0  METER NO.    PHASE WAREHOUSE_UTILITY              IME  \\\n",
       "0          4  LT0509672  1 Phase            NBPDCL  865575064710895   \n",
       "\n",
       "             FINAL SIM             IMSI  \\\n",
       "0  8991856040706026298  405856706571320   \n",
       "\n",
       "                                        IP MFG_SERIAL_NUM METER_MATCH_UDC_ID  \\\n",
       "0  2405:0203:0527:83A9:0000:0000:0000:0010      LT0509672                nan   \n",
       "\n",
       "  METER_MATCH_IP INSTALLATIONNUMBER METER_MATCH_STATUS METER_MATCH_UTILITY  \n",
       "0            nan         5001532140         Meter Shop              NBPDCL  "
      ]
     },
     "execution_count": 55,
     "metadata": {},
     "output_type": "execute_result"
    }
   ],
   "source": [
    "LEFT_JOIN_WITH_METER_UTILITY_WAREHOUSE_AND_COMIBNED_DATA_MODIFIED.head(1)"
   ]
  },
  {
   "cell_type": "code",
   "execution_count": 56,
   "metadata": {},
   "outputs": [
    {
     "data": {
      "text/plain": [
       "UNNAMED: 0             103\n",
       "METER NO.              103\n",
       "PHASE                  103\n",
       "WAREHOUSE_UTILITY      103\n",
       "IME                    103\n",
       "FINAL SIM              103\n",
       "IMSI                   103\n",
       "IP                     103\n",
       "MFG_SERIAL_NUM         103\n",
       "METER_MATCH_UDC_ID     103\n",
       "METER_MATCH_IP         103\n",
       "INSTALLATIONNUMBER     103\n",
       "METER_MATCH_STATUS     103\n",
       "METER_MATCH_UTILITY    103\n",
       "dtype: int64"
      ]
     },
     "execution_count": 56,
     "metadata": {},
     "output_type": "execute_result"
    }
   ],
   "source": [
    "LEFT_JOIN_WITH_METER_UTILITY_WAREHOUSE_AND_COMIBNED_DATA_MODIFIED[LEFT_JOIN_WITH_METER_UTILITY_WAREHOUSE_AND_COMIBNED_DATA_MODIFIED['METER_MATCH_UDC_ID']=='nan'].count()"
   ]
  },
  {
   "cell_type": "code",
   "execution_count": null,
   "metadata": {},
   "outputs": [],
   "source": []
  },
  {
   "cell_type": "code",
   "execution_count": 57,
   "metadata": {},
   "outputs": [],
   "source": [
    "#LEFT_JOIN_WITH_METER_UTILITY_WAREHOUSE_AND_COMIBNED_DATA_MODIFIED = LEFT_JOIN_WITH_METER_UTILITY_WAREHOUSE_AND_COMIBNED_DATA[['SL. NO.','METER NO.','PHASE TYPE','FINAL HES MAPPING','CATEGORY FOR DASHBOARD','SUPPLIER','IME AS PER L&T SHIPMENT','SIM 19 DIST','IMSI','IP','REMARKS',\"METER_MATCH_UDC_ID\",\"METER_MATCH_IP\",\"METER_MATCH_STATUS\",\"METER_MATCH_UTILITY\"]]"
   ]
  },
  {
   "cell_type": "code",
   "execution_count": 58,
   "metadata": {},
   "outputs": [],
   "source": [
    "# LEFT_JOIN_WITH_IMSI_WAREHOUSE_AND_COMIBNED_DATA : column rename"
   ]
  },
  {
   "cell_type": "code",
   "execution_count": 59,
   "metadata": {},
   "outputs": [],
   "source": [
    "LEFT_JOIN_WITH_IMSI_WAREHOUSE_AND_COMIBNED_DATA.rename(\n",
    "    columns = {\"MFG_SERIAL_NUM\":\"IMSI_MATCHED_METER_NO\",\"NETWORK_ID\":\"IMSI_MATCHED_IP\",\"STATUS\":\"IMSI_MATCHED_STATUS\",\"DECODE(D.ORG_ID,52,'SBPDCL',102,'NBPDCL')\":\"IMSI_MATCHED_UTILITY\"},\n",
    "    inplace=True\n",
    ")"
   ]
  },
  {
   "cell_type": "code",
   "execution_count": 60,
   "metadata": {},
   "outputs": [
    {
     "data": {
      "text/html": [
       "<div>\n",
       "<style scoped>\n",
       "    .dataframe tbody tr th:only-of-type {\n",
       "        vertical-align: middle;\n",
       "    }\n",
       "\n",
       "    .dataframe tbody tr th {\n",
       "        vertical-align: top;\n",
       "    }\n",
       "\n",
       "    .dataframe thead th {\n",
       "        text-align: right;\n",
       "    }\n",
       "</style>\n",
       "<table border=\"1\" class=\"dataframe\">\n",
       "  <thead>\n",
       "    <tr style=\"text-align: right;\">\n",
       "      <th></th>\n",
       "      <th>UNNAMED: 0</th>\n",
       "      <th>METER NO.</th>\n",
       "      <th>PHASE</th>\n",
       "      <th>WAREHOUSE_UTILITY</th>\n",
       "      <th>IME</th>\n",
       "      <th>FINAL SIM</th>\n",
       "      <th>IMSI</th>\n",
       "      <th>IP</th>\n",
       "      <th>IMSI_MATCHED_METER_NO</th>\n",
       "      <th>UDC_ID</th>\n",
       "      <th>IMSI_MATCHED_IP</th>\n",
       "      <th>INSTALLATIONNUMBER</th>\n",
       "      <th>IMSI_MATCHED_STATUS</th>\n",
       "      <th>IMSI_MATCHED_UTILITY</th>\n",
       "    </tr>\n",
       "  </thead>\n",
       "  <tbody>\n",
       "    <tr>\n",
       "      <th>0</th>\n",
       "      <td>0</td>\n",
       "      <td>LT0346339</td>\n",
       "      <td>1 Phase</td>\n",
       "      <td>NBPDCL</td>\n",
       "      <td>865681060086437</td>\n",
       "      <td>8991856050706502419</td>\n",
       "      <td>405856706497419</td>\n",
       "      <td>2405:0203:0527:0696:0000:0000:0000:0010</td>\n",
       "      <td>LT0425144</td>\n",
       "      <td>405856706497419</td>\n",
       "      <td>2405:0203:0527:0696:0000:0000:0000:0010</td>\n",
       "      <td>5003983666</td>\n",
       "      <td>Installed</td>\n",
       "      <td>SBPDCL</td>\n",
       "    </tr>\n",
       "  </tbody>\n",
       "</table>\n",
       "</div>"
      ],
      "text/plain": [
       "  UNNAMED: 0  METER NO.    PHASE WAREHOUSE_UTILITY              IME  \\\n",
       "0          0  LT0346339  1 Phase            NBPDCL  865681060086437   \n",
       "\n",
       "             FINAL SIM             IMSI  \\\n",
       "0  8991856050706502419  405856706497419   \n",
       "\n",
       "                                        IP IMSI_MATCHED_METER_NO  \\\n",
       "0  2405:0203:0527:0696:0000:0000:0000:0010             LT0425144   \n",
       "\n",
       "            UDC_ID                          IMSI_MATCHED_IP  \\\n",
       "0  405856706497419  2405:0203:0527:0696:0000:0000:0000:0010   \n",
       "\n",
       "  INSTALLATIONNUMBER IMSI_MATCHED_STATUS IMSI_MATCHED_UTILITY  \n",
       "0         5003983666           Installed               SBPDCL  "
      ]
     },
     "execution_count": 60,
     "metadata": {},
     "output_type": "execute_result"
    }
   ],
   "source": [
    "LEFT_JOIN_WITH_IMSI_WAREHOUSE_AND_COMIBNED_DATA.head(1)"
   ]
  },
  {
   "cell_type": "code",
   "execution_count": 61,
   "metadata": {},
   "outputs": [
    {
     "data": {
      "text/plain": [
       "Index(['UNNAMED: 0', 'METER NO.', 'PHASE', 'WAREHOUSE_UTILITY', 'IME',\n",
       "       'FINAL SIM', 'IMSI', 'IP', 'IMSI_MATCHED_METER_NO', 'UDC_ID',\n",
       "       'IMSI_MATCHED_IP', 'INSTALLATIONNUMBER', 'IMSI_MATCHED_STATUS',\n",
       "       'IMSI_MATCHED_UTILITY'],\n",
       "      dtype='object')"
      ]
     },
     "execution_count": 61,
     "metadata": {},
     "output_type": "execute_result"
    }
   ],
   "source": [
    "LEFT_JOIN_WITH_IMSI_WAREHOUSE_AND_COMIBNED_COLUMN=LEFT_JOIN_WITH_IMSI_WAREHOUSE_AND_COMIBNED_DATA.columns\n",
    "LEFT_JOIN_WITH_IMSI_WAREHOUSE_AND_COMIBNED_COLUMN"
   ]
  },
  {
   "cell_type": "code",
   "execution_count": 62,
   "metadata": {},
   "outputs": [],
   "source": [
    "LEFT_JOIN_WITH_IMSI_WAREHOUSE_AND_COMIBNED_DATA_MODIFIED = LEFT_JOIN_WITH_IMSI_WAREHOUSE_AND_COMIBNED_DATA[LEFT_JOIN_WITH_IMSI_WAREHOUSE_AND_COMIBNED_COLUMN]"
   ]
  },
  {
   "cell_type": "code",
   "execution_count": 63,
   "metadata": {},
   "outputs": [
    {
     "data": {
      "text/html": [
       "<div>\n",
       "<style scoped>\n",
       "    .dataframe tbody tr th:only-of-type {\n",
       "        vertical-align: middle;\n",
       "    }\n",
       "\n",
       "    .dataframe tbody tr th {\n",
       "        vertical-align: top;\n",
       "    }\n",
       "\n",
       "    .dataframe thead th {\n",
       "        text-align: right;\n",
       "    }\n",
       "</style>\n",
       "<table border=\"1\" class=\"dataframe\">\n",
       "  <thead>\n",
       "    <tr style=\"text-align: right;\">\n",
       "      <th></th>\n",
       "      <th>UNNAMED: 0</th>\n",
       "      <th>METER NO.</th>\n",
       "      <th>PHASE</th>\n",
       "      <th>WAREHOUSE_UTILITY</th>\n",
       "      <th>IME</th>\n",
       "      <th>FINAL SIM</th>\n",
       "      <th>IMSI</th>\n",
       "      <th>IP</th>\n",
       "      <th>IMSI_MATCHED_METER_NO</th>\n",
       "      <th>UDC_ID</th>\n",
       "      <th>IMSI_MATCHED_IP</th>\n",
       "      <th>INSTALLATIONNUMBER</th>\n",
       "      <th>IMSI_MATCHED_STATUS</th>\n",
       "      <th>IMSI_MATCHED_UTILITY</th>\n",
       "    </tr>\n",
       "  </thead>\n",
       "  <tbody>\n",
       "    <tr>\n",
       "      <th>0</th>\n",
       "      <td>0</td>\n",
       "      <td>LT0346339</td>\n",
       "      <td>1 Phase</td>\n",
       "      <td>NBPDCL</td>\n",
       "      <td>865681060086437</td>\n",
       "      <td>8991856050706502419</td>\n",
       "      <td>405856706497419</td>\n",
       "      <td>2405:0203:0527:0696:0000:0000:0000:0010</td>\n",
       "      <td>LT0425144</td>\n",
       "      <td>405856706497419</td>\n",
       "      <td>2405:0203:0527:0696:0000:0000:0000:0010</td>\n",
       "      <td>5003983666</td>\n",
       "      <td>Installed</td>\n",
       "      <td>SBPDCL</td>\n",
       "    </tr>\n",
       "  </tbody>\n",
       "</table>\n",
       "</div>"
      ],
      "text/plain": [
       "  UNNAMED: 0  METER NO.    PHASE WAREHOUSE_UTILITY              IME  \\\n",
       "0          0  LT0346339  1 Phase            NBPDCL  865681060086437   \n",
       "\n",
       "             FINAL SIM             IMSI  \\\n",
       "0  8991856050706502419  405856706497419   \n",
       "\n",
       "                                        IP IMSI_MATCHED_METER_NO  \\\n",
       "0  2405:0203:0527:0696:0000:0000:0000:0010             LT0425144   \n",
       "\n",
       "            UDC_ID                          IMSI_MATCHED_IP  \\\n",
       "0  405856706497419  2405:0203:0527:0696:0000:0000:0000:0010   \n",
       "\n",
       "  INSTALLATIONNUMBER IMSI_MATCHED_STATUS IMSI_MATCHED_UTILITY  \n",
       "0         5003983666           Installed               SBPDCL  "
      ]
     },
     "execution_count": 63,
     "metadata": {},
     "output_type": "execute_result"
    }
   ],
   "source": [
    "LEFT_JOIN_WITH_IMSI_WAREHOUSE_AND_COMIBNED_DATA_MODIFIED.head(1)"
   ]
  },
  {
   "cell_type": "code",
   "execution_count": 64,
   "metadata": {},
   "outputs": [],
   "source": [
    "#LEFT_JOIN_WITH_IMSI_WAREHOUSE_AND_COMIBNED_DATA_MODIFIED = LEFT_JOIN_WITH_IMSI_WAREHOUSE_AND_COMIBNED_DATA[['SL. NO.','METER NO.','PHASE TYPE','FINAL HES MAPPING','CATEGORY FOR DASHBOARD','SUPPLIER','IME AS PER L&T SHIPMENT','SIM 19 DIST','IMSI','IP','REMARKS',\"IMSI_MATCHED_METER_NO\",\"IMSI_MATCHED_IP\",\"IMSI_MATCHED_STATUS\",\"IMSI_MATCHED_UTILITY\"]]"
   ]
  },
  {
   "cell_type": "code",
   "execution_count": null,
   "metadata": {},
   "outputs": [],
   "source": []
  },
  {
   "cell_type": "code",
   "execution_count": null,
   "metadata": {},
   "outputs": [],
   "source": []
  },
  {
   "cell_type": "markdown",
   "metadata": {},
   "source": [
    "### WORK ON LEFT_JOIN_WITH_IMSI_WAREHOUSE_AND_COMIBNED_DATA_MODIFIED  and  LEFT_JOIN_WITH_METER_UTILITY_WAREHOUSE_AND_COMIBNED_DATA_MODIFIED"
   ]
  },
  {
   "cell_type": "code",
   "execution_count": null,
   "metadata": {},
   "outputs": [],
   "source": []
  },
  {
   "cell_type": "code",
   "execution_count": 65,
   "metadata": {},
   "outputs": [
    {
     "data": {
      "text/html": [
       "<div>\n",
       "<style scoped>\n",
       "    .dataframe tbody tr th:only-of-type {\n",
       "        vertical-align: middle;\n",
       "    }\n",
       "\n",
       "    .dataframe tbody tr th {\n",
       "        vertical-align: top;\n",
       "    }\n",
       "\n",
       "    .dataframe thead th {\n",
       "        text-align: right;\n",
       "    }\n",
       "</style>\n",
       "<table border=\"1\" class=\"dataframe\">\n",
       "  <thead>\n",
       "    <tr style=\"text-align: right;\">\n",
       "      <th></th>\n",
       "      <th>UNNAMED: 0</th>\n",
       "      <th>METER NO.</th>\n",
       "      <th>PHASE</th>\n",
       "      <th>WAREHOUSE_UTILITY</th>\n",
       "      <th>IME</th>\n",
       "      <th>FINAL SIM</th>\n",
       "      <th>IMSI</th>\n",
       "      <th>IP</th>\n",
       "      <th>IMSI_MATCHED_METER_NO</th>\n",
       "      <th>UDC_ID</th>\n",
       "      <th>IMSI_MATCHED_IP</th>\n",
       "      <th>INSTALLATIONNUMBER</th>\n",
       "      <th>IMSI_MATCHED_STATUS</th>\n",
       "      <th>IMSI_MATCHED_UTILITY</th>\n",
       "    </tr>\n",
       "  </thead>\n",
       "  <tbody>\n",
       "    <tr>\n",
       "      <th>0</th>\n",
       "      <td>0</td>\n",
       "      <td>LT0346339</td>\n",
       "      <td>1 Phase</td>\n",
       "      <td>NBPDCL</td>\n",
       "      <td>865681060086437</td>\n",
       "      <td>8991856050706502419</td>\n",
       "      <td>405856706497419</td>\n",
       "      <td>2405:0203:0527:0696:0000:0000:0000:0010</td>\n",
       "      <td>LT0425144</td>\n",
       "      <td>405856706497419</td>\n",
       "      <td>2405:0203:0527:0696:0000:0000:0000:0010</td>\n",
       "      <td>5003983666</td>\n",
       "      <td>Installed</td>\n",
       "      <td>SBPDCL</td>\n",
       "    </tr>\n",
       "    <tr>\n",
       "      <th>2</th>\n",
       "      <td>1</td>\n",
       "      <td>LT0347039</td>\n",
       "      <td>1 Phase</td>\n",
       "      <td>NBPDCL</td>\n",
       "      <td>869810056010897</td>\n",
       "      <td>8991856050706376051</td>\n",
       "      <td>405856706376051</td>\n",
       "      <td>2405:0203:0525:5541:0000:0000:0000:0010</td>\n",
       "      <td>LT0347039</td>\n",
       "      <td>405856706376051</td>\n",
       "      <td>2405:0203:0525:5541:0000:0000:0000:0010</td>\n",
       "      <td>5003804032</td>\n",
       "      <td>Installed</td>\n",
       "      <td>SBPDCL</td>\n",
       "    </tr>\n",
       "    <tr>\n",
       "      <th>3</th>\n",
       "      <td>2</td>\n",
       "      <td>LT0048504</td>\n",
       "      <td>1 Phase</td>\n",
       "      <td>NBPDCL</td>\n",
       "      <td>861089054495479</td>\n",
       "      <td>8991856050706213290</td>\n",
       "      <td>405856706213290</td>\n",
       "      <td>2405:0203:0520:B587:0000:0000:0000:0010</td>\n",
       "      <td>LT0048504</td>\n",
       "      <td>405856706213290</td>\n",
       "      <td>2405:0203:0520:B587:0000:0000:0000:0010</td>\n",
       "      <td>5002999071</td>\n",
       "      <td>Installed</td>\n",
       "      <td>SBPDCL</td>\n",
       "    </tr>\n",
       "  </tbody>\n",
       "</table>\n",
       "</div>"
      ],
      "text/plain": [
       "  UNNAMED: 0  METER NO.    PHASE WAREHOUSE_UTILITY              IME  \\\n",
       "0          0  LT0346339  1 Phase            NBPDCL  865681060086437   \n",
       "2          1  LT0347039  1 Phase            NBPDCL  869810056010897   \n",
       "3          2  LT0048504  1 Phase            NBPDCL  861089054495479   \n",
       "\n",
       "             FINAL SIM             IMSI  \\\n",
       "0  8991856050706502419  405856706497419   \n",
       "2  8991856050706376051  405856706376051   \n",
       "3  8991856050706213290  405856706213290   \n",
       "\n",
       "                                        IP IMSI_MATCHED_METER_NO  \\\n",
       "0  2405:0203:0527:0696:0000:0000:0000:0010             LT0425144   \n",
       "2  2405:0203:0525:5541:0000:0000:0000:0010             LT0347039   \n",
       "3  2405:0203:0520:B587:0000:0000:0000:0010             LT0048504   \n",
       "\n",
       "            UDC_ID                          IMSI_MATCHED_IP  \\\n",
       "0  405856706497419  2405:0203:0527:0696:0000:0000:0000:0010   \n",
       "2  405856706376051  2405:0203:0525:5541:0000:0000:0000:0010   \n",
       "3  405856706213290  2405:0203:0520:B587:0000:0000:0000:0010   \n",
       "\n",
       "  INSTALLATIONNUMBER IMSI_MATCHED_STATUS IMSI_MATCHED_UTILITY  \n",
       "0         5003983666           Installed               SBPDCL  \n",
       "2         5003804032           Installed               SBPDCL  \n",
       "3         5002999071           Installed               SBPDCL  "
      ]
     },
     "execution_count": 65,
     "metadata": {},
     "output_type": "execute_result"
    }
   ],
   "source": [
    "LEFT_JOIN_WITH_IMSI_WAREHOUSE_AND_COMIBNED_DATA_MODIFIED.head(3)"
   ]
  },
  {
   "cell_type": "code",
   "execution_count": 66,
   "metadata": {},
   "outputs": [
    {
     "data": {
      "text/html": [
       "<div>\n",
       "<style scoped>\n",
       "    .dataframe tbody tr th:only-of-type {\n",
       "        vertical-align: middle;\n",
       "    }\n",
       "\n",
       "    .dataframe tbody tr th {\n",
       "        vertical-align: top;\n",
       "    }\n",
       "\n",
       "    .dataframe thead th {\n",
       "        text-align: right;\n",
       "    }\n",
       "</style>\n",
       "<table border=\"1\" class=\"dataframe\">\n",
       "  <thead>\n",
       "    <tr style=\"text-align: right;\">\n",
       "      <th></th>\n",
       "      <th>UNNAMED: 0</th>\n",
       "      <th>METER NO.</th>\n",
       "      <th>PHASE</th>\n",
       "      <th>WAREHOUSE_UTILITY</th>\n",
       "      <th>IME</th>\n",
       "      <th>FINAL SIM</th>\n",
       "      <th>IMSI</th>\n",
       "      <th>IP</th>\n",
       "      <th>MFG_SERIAL_NUM</th>\n",
       "      <th>METER_MATCH_UDC_ID</th>\n",
       "      <th>METER_MATCH_IP</th>\n",
       "      <th>INSTALLATIONNUMBER</th>\n",
       "      <th>METER_MATCH_STATUS</th>\n",
       "      <th>METER_MATCH_UTILITY</th>\n",
       "    </tr>\n",
       "  </thead>\n",
       "  <tbody>\n",
       "    <tr>\n",
       "      <th>0</th>\n",
       "      <td>4</td>\n",
       "      <td>LT0509672</td>\n",
       "      <td>1 Phase</td>\n",
       "      <td>NBPDCL</td>\n",
       "      <td>865575064710895</td>\n",
       "      <td>8991856040706026298</td>\n",
       "      <td>405856706571320</td>\n",
       "      <td>2405:0203:0527:83A9:0000:0000:0000:0010</td>\n",
       "      <td>LT0509672</td>\n",
       "      <td>nan</td>\n",
       "      <td>nan</td>\n",
       "      <td>5001532140</td>\n",
       "      <td>Meter Shop</td>\n",
       "      <td>NBPDCL</td>\n",
       "    </tr>\n",
       "    <tr>\n",
       "      <th>1</th>\n",
       "      <td>4</td>\n",
       "      <td>LT0509672</td>\n",
       "      <td>1 Phase</td>\n",
       "      <td>NBPDCL</td>\n",
       "      <td>865575064710895</td>\n",
       "      <td>8991856040706026298</td>\n",
       "      <td>405856706571320</td>\n",
       "      <td>2405:0203:0527:83A9:0000:0000:0000:0010</td>\n",
       "      <td>LT0509672</td>\n",
       "      <td>nan</td>\n",
       "      <td>nan</td>\n",
       "      <td>nan</td>\n",
       "      <td>Meter Shop</td>\n",
       "      <td>NBPDCL</td>\n",
       "    </tr>\n",
       "    <tr>\n",
       "      <th>2</th>\n",
       "      <td>6</td>\n",
       "      <td>LT0555992</td>\n",
       "      <td>1 Phase</td>\n",
       "      <td>NBPDCL</td>\n",
       "      <td>865681062851242</td>\n",
       "      <td>8991856040706094571</td>\n",
       "      <td>405856706639593</td>\n",
       "      <td>2405:0203:0529:1B24:0000:0000:0000:0010</td>\n",
       "      <td>LT0555992</td>\n",
       "      <td>405856706639593</td>\n",
       "      <td>2405:0203:0529:1B24:0000:0000:0000:0010</td>\n",
       "      <td>5003226857</td>\n",
       "      <td>Installed</td>\n",
       "      <td>NBPDCL</td>\n",
       "    </tr>\n",
       "  </tbody>\n",
       "</table>\n",
       "</div>"
      ],
      "text/plain": [
       "  UNNAMED: 0  METER NO.    PHASE WAREHOUSE_UTILITY              IME  \\\n",
       "0          4  LT0509672  1 Phase            NBPDCL  865575064710895   \n",
       "1          4  LT0509672  1 Phase            NBPDCL  865575064710895   \n",
       "2          6  LT0555992  1 Phase            NBPDCL  865681062851242   \n",
       "\n",
       "             FINAL SIM             IMSI  \\\n",
       "0  8991856040706026298  405856706571320   \n",
       "1  8991856040706026298  405856706571320   \n",
       "2  8991856040706094571  405856706639593   \n",
       "\n",
       "                                        IP MFG_SERIAL_NUM METER_MATCH_UDC_ID  \\\n",
       "0  2405:0203:0527:83A9:0000:0000:0000:0010      LT0509672                nan   \n",
       "1  2405:0203:0527:83A9:0000:0000:0000:0010      LT0509672                nan   \n",
       "2  2405:0203:0529:1B24:0000:0000:0000:0010      LT0555992    405856706639593   \n",
       "\n",
       "                            METER_MATCH_IP INSTALLATIONNUMBER  \\\n",
       "0                                      nan         5001532140   \n",
       "1                                      nan                nan   \n",
       "2  2405:0203:0529:1B24:0000:0000:0000:0010         5003226857   \n",
       "\n",
       "  METER_MATCH_STATUS METER_MATCH_UTILITY  \n",
       "0         Meter Shop              NBPDCL  \n",
       "1         Meter Shop              NBPDCL  \n",
       "2          Installed              NBPDCL  "
      ]
     },
     "execution_count": 66,
     "metadata": {},
     "output_type": "execute_result"
    }
   ],
   "source": [
    "LEFT_JOIN_WITH_METER_UTILITY_WAREHOUSE_AND_COMIBNED_DATA_MODIFIED.head(3)"
   ]
  },
  {
   "cell_type": "code",
   "execution_count": 67,
   "metadata": {},
   "outputs": [],
   "source": [
    "#"
   ]
  },
  {
   "cell_type": "markdown",
   "metadata": {},
   "source": [
    "# data correction"
   ]
  },
  {
   "cell_type": "code",
   "execution_count": 68,
   "metadata": {},
   "outputs": [],
   "source": [
    "# Convert all columns to string data type\n",
    "\n",
    "# change into str\n",
    "LEFT_JOIN_WITH_IMSI_WAREHOUSE_AND_COMIBNED_DATA_MODIFIED = LEFT_JOIN_WITH_IMSI_WAREHOUSE_AND_COMIBNED_DATA_MODIFIED.astype(str)\n",
    "LEFT_JOIN_WITH_METER_UTILITY_WAREHOUSE_AND_COMIBNED_DATA_MODIFIED = LEFT_JOIN_WITH_METER_UTILITY_WAREHOUSE_AND_COMIBNED_DATA_MODIFIED.astype(str)\n",
    "LEFT_JOIN_WITH_IP_WAREHOUSE_AND_COMIBNED_DATA_MODIFIED = LEFT_JOIN_WITH_IP_WAREHOUSE_AND_COMIBNED_DATA_MODIFIED.astype(str)\n",
    "\n",
    "# ----------------------------------------------------------------------------------\n",
    "\n",
    "# change into upper\n",
    "LEFT_JOIN_WITH_IMSI_WAREHOUSE_AND_COMIBNED_DATA_MODIFIED.columns = LEFT_JOIN_WITH_IMSI_WAREHOUSE_AND_COMIBNED_DATA_MODIFIED.columns.str.upper()\n",
    "LEFT_JOIN_WITH_METER_UTILITY_WAREHOUSE_AND_COMIBNED_DATA_MODIFIED.columns = LEFT_JOIN_WITH_METER_UTILITY_WAREHOUSE_AND_COMIBNED_DATA_MODIFIED.columns.str.upper()\n",
    "LEFT_JOIN_WITH_IP_WAREHOUSE_AND_COMIBNED_DATA_MODIFIED.columns = LEFT_JOIN_WITH_IP_WAREHOUSE_AND_COMIBNED_DATA_MODIFIED.columns.str.upper()\n",
    "\n",
    "# ----------------------------------------------------------------------------------\n",
    "\n",
    "# Remove leading and trailing whitespaces from all columns where dtype is 'O'\n",
    "LEFT_JOIN_WITH_IMSI_WAREHOUSE_AND_COMIBNED_DATA_MODIFIED = LEFT_JOIN_WITH_IMSI_WAREHOUSE_AND_COMIBNED_DATA_MODIFIED.apply(lambda x: x.str.strip() if x.dtype == 'O' else x)\n",
    "LEFT_JOIN_WITH_METER_UTILITY_WAREHOUSE_AND_COMIBNED_DATA_MODIFIED = LEFT_JOIN_WITH_METER_UTILITY_WAREHOUSE_AND_COMIBNED_DATA_MODIFIED.apply(lambda x: x.str.strip() if x.dtype == 'O' else x)\n",
    "LEFT_JOIN_WITH_IP_WAREHOUSE_AND_COMIBNED_DATA_MODIFIED = LEFT_JOIN_WITH_IP_WAREHOUSE_AND_COMIBNED_DATA_MODIFIED.apply(lambda x: x.str.strip() if x.dtype == 'O' else x)\n",
    "\n",
    "\n"
   ]
  },
  {
   "cell_type": "code",
   "execution_count": null,
   "metadata": {},
   "outputs": [],
   "source": []
  },
  {
   "cell_type": "markdown",
   "metadata": {},
   "source": [
    "# Merge IMSI ,IP  and METER  file"
   ]
  },
  {
   "cell_type": "code",
   "execution_count": 69,
   "metadata": {},
   "outputs": [],
   "source": [
    "warehouse_meter_imsi_data= pd.DataFrame(columns=[warehouse_Data.columns])"
   ]
  },
  {
   "cell_type": "code",
   "execution_count": 70,
   "metadata": {},
   "outputs": [
    {
     "data": {
      "text/html": [
       "<div>\n",
       "<style scoped>\n",
       "    .dataframe tbody tr th:only-of-type {\n",
       "        vertical-align: middle;\n",
       "    }\n",
       "\n",
       "    .dataframe tbody tr th {\n",
       "        vertical-align: top;\n",
       "    }\n",
       "\n",
       "    .dataframe thead tr th {\n",
       "        text-align: left;\n",
       "    }\n",
       "</style>\n",
       "<table border=\"1\" class=\"dataframe\">\n",
       "  <thead>\n",
       "    <tr>\n",
       "      <th></th>\n",
       "      <th>UNNAMED: 0</th>\n",
       "      <th>METER NO.</th>\n",
       "      <th>PHASE</th>\n",
       "      <th>WAREHOUSE_UTILITY</th>\n",
       "      <th>IME</th>\n",
       "      <th>FINAL SIM</th>\n",
       "      <th>IMSI</th>\n",
       "      <th>IP</th>\n",
       "    </tr>\n",
       "  </thead>\n",
       "  <tbody>\n",
       "  </tbody>\n",
       "</table>\n",
       "</div>"
      ],
      "text/plain": [
       "Empty DataFrame\n",
       "Columns: [(UNNAMED: 0,), (METER NO.,), (PHASE,), (WAREHOUSE_UTILITY,), (IME,), (FINAL SIM,), (IMSI,), (IP,)]\n",
       "Index: []"
      ]
     },
     "execution_count": 70,
     "metadata": {},
     "output_type": "execute_result"
    }
   ],
   "source": [
    "warehouse_meter_imsi_data"
   ]
  },
  {
   "cell_type": "code",
   "execution_count": 71,
   "metadata": {},
   "outputs": [],
   "source": [
    "#  empty column add to the  warehouse_meter_imsi_data  which has already some empty column of warehouse data"
   ]
  },
  {
   "cell_type": "code",
   "execution_count": 72,
   "metadata": {},
   "outputs": [],
   "source": [
    "warehouse_meter_imsi_data['METER_MATCH_UDC_ID'] = None\n",
    "warehouse_meter_imsi_data['METER_MATCH_IP'] = None\n",
    "warehouse_meter_imsi_data['METER_MATCH_STATUS'] = None\n",
    "warehouse_meter_imsi_data['METER_MATCH_UTILITY'] = None\n",
    "warehouse_meter_imsi_data['IMSI_MATCHED_METER_NO'] = None\n",
    "warehouse_meter_imsi_data['IMSI_MATCHED_IP'] = None\n",
    "warehouse_meter_imsi_data['IMSI_MATCHED_STATUS'] = None\n",
    "warehouse_meter_imsi_data['IMSI_MATCHED_UTILITY'] = None\n",
    "warehouse_meter_imsi_data['IP_MATCHED_METER_NO'] = None\n",
    "warehouse_meter_imsi_data['IP_MATCH_UDC_ID'] = None\n",
    "warehouse_meter_imsi_data['IP_MATCHED_IP'] = None\n",
    "warehouse_meter_imsi_data['IP_MATCHED_STATUS'] = None\n",
    "warehouse_meter_imsi_data['IP_MATCHED_UTILITY'] = None\n"
   ]
  },
  {
   "cell_type": "code",
   "execution_count": 73,
   "metadata": {},
   "outputs": [
    {
     "data": {
      "text/html": [
       "<div>\n",
       "<style scoped>\n",
       "    .dataframe tbody tr th:only-of-type {\n",
       "        vertical-align: middle;\n",
       "    }\n",
       "\n",
       "    .dataframe tbody tr th {\n",
       "        vertical-align: top;\n",
       "    }\n",
       "\n",
       "    .dataframe thead tr th {\n",
       "        text-align: left;\n",
       "    }\n",
       "</style>\n",
       "<table border=\"1\" class=\"dataframe\">\n",
       "  <thead>\n",
       "    <tr>\n",
       "      <th></th>\n",
       "      <th>UNNAMED: 0</th>\n",
       "      <th>METER NO.</th>\n",
       "      <th>PHASE</th>\n",
       "      <th>WAREHOUSE_UTILITY</th>\n",
       "      <th>IME</th>\n",
       "      <th>FINAL SIM</th>\n",
       "      <th>IMSI</th>\n",
       "      <th>IP</th>\n",
       "      <th>METER_MATCH_UDC_ID</th>\n",
       "      <th>METER_MATCH_IP</th>\n",
       "      <th>METER_MATCH_STATUS</th>\n",
       "      <th>METER_MATCH_UTILITY</th>\n",
       "      <th>IMSI_MATCHED_METER_NO</th>\n",
       "      <th>IMSI_MATCHED_IP</th>\n",
       "      <th>IMSI_MATCHED_STATUS</th>\n",
       "      <th>IMSI_MATCHED_UTILITY</th>\n",
       "      <th>IP_MATCHED_METER_NO</th>\n",
       "      <th>IP_MATCH_UDC_ID</th>\n",
       "      <th>IP_MATCHED_IP</th>\n",
       "      <th>IP_MATCHED_STATUS</th>\n",
       "      <th>IP_MATCHED_UTILITY</th>\n",
       "    </tr>\n",
       "  </thead>\n",
       "  <tbody>\n",
       "  </tbody>\n",
       "</table>\n",
       "</div>"
      ],
      "text/plain": [
       "Empty DataFrame\n",
       "Columns: [(UNNAMED: 0,), (METER NO.,), (PHASE,), (WAREHOUSE_UTILITY,), (IME,), (FINAL SIM,), (IMSI,), (IP,), (METER_MATCH_UDC_ID,), (METER_MATCH_IP,), (METER_MATCH_STATUS,), (METER_MATCH_UTILITY,), (IMSI_MATCHED_METER_NO,), (IMSI_MATCHED_IP,), (IMSI_MATCHED_STATUS,), (IMSI_MATCHED_UTILITY,), (IP_MATCHED_METER_NO,), (IP_MATCH_UDC_ID,), (IP_MATCHED_IP,), (IP_MATCHED_STATUS,), (IP_MATCHED_UTILITY,)]\n",
       "Index: []"
      ]
     },
     "execution_count": 73,
     "metadata": {},
     "output_type": "execute_result"
    }
   ],
   "source": [
    "warehouse_meter_imsi_data"
   ]
  },
  {
   "cell_type": "code",
   "execution_count": 74,
   "metadata": {},
   "outputs": [],
   "source": [
    "# this column are not same in all the dataframe so that i used the above method"
   ]
  },
  {
   "cell_type": "code",
   "execution_count": 75,
   "metadata": {},
   "outputs": [
    {
     "data": {
      "text/plain": [
       "\"\\nwarehouse_meter_imsi_data = pd.DataFrame(columns=['SL. NO.', 'METER NO.', 'PHASE TYPE', 'WAREHOUSE_UTILITY',\\n       'CATEGORY FOR DASHBOARD', 'SUPPLIER', 'IME AS PER L&T SHIPMENT',\\n       'SIM 19 DIST', 'IMSI', 'IP', 'REMARKS', 'METER_MATCH_UDC_ID',\\n       'METER_MATCH_IP', 'METER_MATCH_STATUS', 'METER_MATCH_UTILITY',\\n       'IMSI_MATCHED_METER_NO', 'IMSI_MATCHED_IP', 'IMSI_MATCHED_STATUS',\\n       'IMSI_MATCHED_UTILITY'])\\n\""
      ]
     },
     "execution_count": 75,
     "metadata": {},
     "output_type": "execute_result"
    }
   ],
   "source": [
    "\"\"\"\n",
    "warehouse_meter_imsi_data = pd.DataFrame(columns=['SL. NO.', 'METER NO.', 'PHASE TYPE', 'WAREHOUSE_UTILITY',\n",
    "       'CATEGORY FOR DASHBOARD', 'SUPPLIER', 'IME AS PER L&T SHIPMENT',\n",
    "       'SIM 19 DIST', 'IMSI', 'IP', 'REMARKS', 'METER_MATCH_UDC_ID',\n",
    "       'METER_MATCH_IP', 'METER_MATCH_STATUS', 'METER_MATCH_UTILITY',\n",
    "       'IMSI_MATCHED_METER_NO', 'IMSI_MATCHED_IP', 'IMSI_MATCHED_STATUS',\n",
    "       'IMSI_MATCHED_UTILITY'])\n",
    "\"\"\""
   ]
  },
  {
   "cell_type": "code",
   "execution_count": 76,
   "metadata": {},
   "outputs": [
    {
     "data": {
      "text/html": [
       "<div>\n",
       "<style scoped>\n",
       "    .dataframe tbody tr th:only-of-type {\n",
       "        vertical-align: middle;\n",
       "    }\n",
       "\n",
       "    .dataframe tbody tr th {\n",
       "        vertical-align: top;\n",
       "    }\n",
       "\n",
       "    .dataframe thead th {\n",
       "        text-align: right;\n",
       "    }\n",
       "</style>\n",
       "<table border=\"1\" class=\"dataframe\">\n",
       "  <thead>\n",
       "    <tr style=\"text-align: right;\">\n",
       "      <th></th>\n",
       "      <th>UNNAMED: 0</th>\n",
       "      <th>METER NO.</th>\n",
       "      <th>PHASE</th>\n",
       "      <th>WAREHOUSE_UTILITY</th>\n",
       "      <th>IME</th>\n",
       "      <th>FINAL SIM</th>\n",
       "      <th>IMSI</th>\n",
       "      <th>IP</th>\n",
       "      <th>IP_MATCHED_METER_NO</th>\n",
       "      <th>IP_MATCH_UDC_ID</th>\n",
       "      <th>IP_MATCHED_IP</th>\n",
       "      <th>INSTALLATIONNUMBER</th>\n",
       "      <th>IP_MATCHED_STATUS</th>\n",
       "      <th>IP_MATCHED_UTILITY</th>\n",
       "    </tr>\n",
       "  </thead>\n",
       "  <tbody>\n",
       "    <tr>\n",
       "      <th>0</th>\n",
       "      <td>0</td>\n",
       "      <td>LT0346339</td>\n",
       "      <td>1 Phase</td>\n",
       "      <td>NBPDCL</td>\n",
       "      <td>865681060086437</td>\n",
       "      <td>8991856050706502419</td>\n",
       "      <td>405856706497419</td>\n",
       "      <td>2405:0203:0527:0696:0000:0000:0000:0010</td>\n",
       "      <td>LT0425144</td>\n",
       "      <td>405856706497419</td>\n",
       "      <td>2405:0203:0527:0696:0000:0000:0000:0010</td>\n",
       "      <td>5003983666</td>\n",
       "      <td>Installed</td>\n",
       "      <td>SBPDCL</td>\n",
       "    </tr>\n",
       "  </tbody>\n",
       "</table>\n",
       "</div>"
      ],
      "text/plain": [
       "  UNNAMED: 0  METER NO.    PHASE WAREHOUSE_UTILITY              IME  \\\n",
       "0          0  LT0346339  1 Phase            NBPDCL  865681060086437   \n",
       "\n",
       "             FINAL SIM             IMSI  \\\n",
       "0  8991856050706502419  405856706497419   \n",
       "\n",
       "                                        IP IP_MATCHED_METER_NO  \\\n",
       "0  2405:0203:0527:0696:0000:0000:0000:0010           LT0425144   \n",
       "\n",
       "   IP_MATCH_UDC_ID                            IP_MATCHED_IP  \\\n",
       "0  405856706497419  2405:0203:0527:0696:0000:0000:0000:0010   \n",
       "\n",
       "  INSTALLATIONNUMBER IP_MATCHED_STATUS IP_MATCHED_UTILITY  \n",
       "0         5003983666         Installed             SBPDCL  "
      ]
     },
     "execution_count": 76,
     "metadata": {},
     "output_type": "execute_result"
    }
   ],
   "source": [
    "LEFT_JOIN_WITH_IP_WAREHOUSE_AND_COMIBNED_DATA_MODIFIED.head(1)"
   ]
  },
  {
   "cell_type": "code",
   "execution_count": 77,
   "metadata": {},
   "outputs": [
    {
     "data": {
      "text/html": [
       "<div>\n",
       "<style scoped>\n",
       "    .dataframe tbody tr th:only-of-type {\n",
       "        vertical-align: middle;\n",
       "    }\n",
       "\n",
       "    .dataframe tbody tr th {\n",
       "        vertical-align: top;\n",
       "    }\n",
       "\n",
       "    .dataframe thead tr th {\n",
       "        text-align: left;\n",
       "    }\n",
       "</style>\n",
       "<table border=\"1\" class=\"dataframe\">\n",
       "  <thead>\n",
       "    <tr>\n",
       "      <th></th>\n",
       "      <th>UNNAMED: 0</th>\n",
       "      <th>METER NO.</th>\n",
       "      <th>PHASE</th>\n",
       "      <th>WAREHOUSE_UTILITY</th>\n",
       "      <th>IME</th>\n",
       "      <th>FINAL SIM</th>\n",
       "      <th>IMSI</th>\n",
       "      <th>IP</th>\n",
       "      <th>METER_MATCH_UDC_ID</th>\n",
       "      <th>METER_MATCH_IP</th>\n",
       "      <th>METER_MATCH_STATUS</th>\n",
       "      <th>METER_MATCH_UTILITY</th>\n",
       "      <th>IMSI_MATCHED_METER_NO</th>\n",
       "      <th>IMSI_MATCHED_IP</th>\n",
       "      <th>IMSI_MATCHED_STATUS</th>\n",
       "      <th>IMSI_MATCHED_UTILITY</th>\n",
       "      <th>IP_MATCHED_METER_NO</th>\n",
       "      <th>IP_MATCH_UDC_ID</th>\n",
       "      <th>IP_MATCHED_IP</th>\n",
       "      <th>IP_MATCHED_STATUS</th>\n",
       "      <th>IP_MATCHED_UTILITY</th>\n",
       "    </tr>\n",
       "  </thead>\n",
       "  <tbody>\n",
       "  </tbody>\n",
       "</table>\n",
       "</div>"
      ],
      "text/plain": [
       "Empty DataFrame\n",
       "Columns: [(UNNAMED: 0,), (METER NO.,), (PHASE,), (WAREHOUSE_UTILITY,), (IME,), (FINAL SIM,), (IMSI,), (IP,), (METER_MATCH_UDC_ID,), (METER_MATCH_IP,), (METER_MATCH_STATUS,), (METER_MATCH_UTILITY,), (IMSI_MATCHED_METER_NO,), (IMSI_MATCHED_IP,), (IMSI_MATCHED_STATUS,), (IMSI_MATCHED_UTILITY,), (IP_MATCHED_METER_NO,), (IP_MATCH_UDC_ID,), (IP_MATCHED_IP,), (IP_MATCHED_STATUS,), (IP_MATCHED_UTILITY,)]\n",
       "Index: []"
      ]
     },
     "execution_count": 77,
     "metadata": {},
     "output_type": "execute_result"
    }
   ],
   "source": [
    "warehouse_meter_imsi_data.head()"
   ]
  },
  {
   "cell_type": "code",
   "execution_count": 78,
   "metadata": {},
   "outputs": [],
   "source": [
    "# combining meter  and imsi data\n",
    "\n",
    "#   METER AND IMSI MERGE\n",
    "\n",
    "warehouse_meter_imsi_data_merge = pd.merge(LEFT_JOIN_WITH_METER_UTILITY_WAREHOUSE_AND_COMIBNED_DATA_MODIFIED, LEFT_JOIN_WITH_IMSI_WAREHOUSE_AND_COMIBNED_DATA_MODIFIED[['METER NO.', 'IMSI','IMSI_MATCHED_METER_NO','IMSI_MATCHED_IP','IMSI_MATCHED_STATUS','IMSI_MATCHED_UTILITY']], left_on=['METER NO.', 'IMSI'], right_on=['METER NO.', 'IMSI'], how='left')\n",
    "\n",
    "\n",
    "# MERGE IP AND warehouse_meter_imsi_data_merge\n",
    "warehouse_meter_imsi_data = pd.merge(warehouse_meter_imsi_data_merge, LEFT_JOIN_WITH_IP_WAREHOUSE_AND_COMIBNED_DATA_MODIFIED[['METER NO.', 'IMSI','IP_MATCHED_METER_NO','IP_MATCH_UDC_ID','IP_MATCHED_IP','IP_MATCHED_STATUS','IP_MATCHED_UTILITY']], left_on=['METER NO.', 'IMSI'], right_on=['METER NO.', 'IMSI'], how='left')\n",
    "\n"
   ]
  },
  {
   "cell_type": "code",
   "execution_count": 79,
   "metadata": {},
   "outputs": [
    {
     "data": {
      "text/html": [
       "<div>\n",
       "<style scoped>\n",
       "    .dataframe tbody tr th:only-of-type {\n",
       "        vertical-align: middle;\n",
       "    }\n",
       "\n",
       "    .dataframe tbody tr th {\n",
       "        vertical-align: top;\n",
       "    }\n",
       "\n",
       "    .dataframe thead th {\n",
       "        text-align: right;\n",
       "    }\n",
       "</style>\n",
       "<table border=\"1\" class=\"dataframe\">\n",
       "  <thead>\n",
       "    <tr style=\"text-align: right;\">\n",
       "      <th></th>\n",
       "      <th>UNNAMED: 0</th>\n",
       "      <th>METER NO.</th>\n",
       "      <th>PHASE</th>\n",
       "      <th>WAREHOUSE_UTILITY</th>\n",
       "      <th>IME</th>\n",
       "      <th>FINAL SIM</th>\n",
       "      <th>IMSI</th>\n",
       "      <th>IP</th>\n",
       "      <th>MFG_SERIAL_NUM</th>\n",
       "      <th>METER_MATCH_UDC_ID</th>\n",
       "      <th>METER_MATCH_IP</th>\n",
       "      <th>INSTALLATIONNUMBER</th>\n",
       "      <th>METER_MATCH_STATUS</th>\n",
       "      <th>METER_MATCH_UTILITY</th>\n",
       "      <th>IMSI_MATCHED_METER_NO</th>\n",
       "      <th>IMSI_MATCHED_IP</th>\n",
       "      <th>IMSI_MATCHED_STATUS</th>\n",
       "      <th>IMSI_MATCHED_UTILITY</th>\n",
       "      <th>IP_MATCHED_METER_NO</th>\n",
       "      <th>IP_MATCH_UDC_ID</th>\n",
       "      <th>IP_MATCHED_IP</th>\n",
       "      <th>IP_MATCHED_STATUS</th>\n",
       "      <th>IP_MATCHED_UTILITY</th>\n",
       "    </tr>\n",
       "  </thead>\n",
       "  <tbody>\n",
       "    <tr>\n",
       "      <th>0</th>\n",
       "      <td>4</td>\n",
       "      <td>LT0509672</td>\n",
       "      <td>1 Phase</td>\n",
       "      <td>NBPDCL</td>\n",
       "      <td>865575064710895</td>\n",
       "      <td>8991856040706026298</td>\n",
       "      <td>405856706571320</td>\n",
       "      <td>2405:0203:0527:83A9:0000:0000:0000:0010</td>\n",
       "      <td>LT0509672</td>\n",
       "      <td>nan</td>\n",
       "      <td>nan</td>\n",
       "      <td>5001532140</td>\n",
       "      <td>Meter Shop</td>\n",
       "      <td>NBPDCL</td>\n",
       "      <td>LT0522486</td>\n",
       "      <td>2405:0203:0527:83A9:0000:0000:0000:0010</td>\n",
       "      <td>Installed</td>\n",
       "      <td>NBPDCL</td>\n",
       "      <td>LT0522486</td>\n",
       "      <td>405856706571320</td>\n",
       "      <td>2405:0203:0527:83A9:0000:0000:0000:0010</td>\n",
       "      <td>Installed</td>\n",
       "      <td>NBPDCL</td>\n",
       "    </tr>\n",
       "    <tr>\n",
       "      <th>1</th>\n",
       "      <td>4</td>\n",
       "      <td>LT0509672</td>\n",
       "      <td>1 Phase</td>\n",
       "      <td>NBPDCL</td>\n",
       "      <td>865575064710895</td>\n",
       "      <td>8991856040706026298</td>\n",
       "      <td>405856706571320</td>\n",
       "      <td>2405:0203:0527:83A9:0000:0000:0000:0010</td>\n",
       "      <td>LT0509672</td>\n",
       "      <td>nan</td>\n",
       "      <td>nan</td>\n",
       "      <td>nan</td>\n",
       "      <td>Meter Shop</td>\n",
       "      <td>NBPDCL</td>\n",
       "      <td>LT0522486</td>\n",
       "      <td>2405:0203:0527:83A9:0000:0000:0000:0010</td>\n",
       "      <td>Installed</td>\n",
       "      <td>NBPDCL</td>\n",
       "      <td>LT0522486</td>\n",
       "      <td>405856706571320</td>\n",
       "      <td>2405:0203:0527:83A9:0000:0000:0000:0010</td>\n",
       "      <td>Installed</td>\n",
       "      <td>NBPDCL</td>\n",
       "    </tr>\n",
       "  </tbody>\n",
       "</table>\n",
       "</div>"
      ],
      "text/plain": [
       "  UNNAMED: 0  METER NO.    PHASE WAREHOUSE_UTILITY              IME  \\\n",
       "0          4  LT0509672  1 Phase            NBPDCL  865575064710895   \n",
       "1          4  LT0509672  1 Phase            NBPDCL  865575064710895   \n",
       "\n",
       "             FINAL SIM             IMSI  \\\n",
       "0  8991856040706026298  405856706571320   \n",
       "1  8991856040706026298  405856706571320   \n",
       "\n",
       "                                        IP MFG_SERIAL_NUM METER_MATCH_UDC_ID  \\\n",
       "0  2405:0203:0527:83A9:0000:0000:0000:0010      LT0509672                nan   \n",
       "1  2405:0203:0527:83A9:0000:0000:0000:0010      LT0509672                nan   \n",
       "\n",
       "  METER_MATCH_IP INSTALLATIONNUMBER METER_MATCH_STATUS METER_MATCH_UTILITY  \\\n",
       "0            nan         5001532140         Meter Shop              NBPDCL   \n",
       "1            nan                nan         Meter Shop              NBPDCL   \n",
       "\n",
       "  IMSI_MATCHED_METER_NO                          IMSI_MATCHED_IP  \\\n",
       "0             LT0522486  2405:0203:0527:83A9:0000:0000:0000:0010   \n",
       "1             LT0522486  2405:0203:0527:83A9:0000:0000:0000:0010   \n",
       "\n",
       "  IMSI_MATCHED_STATUS IMSI_MATCHED_UTILITY IP_MATCHED_METER_NO  \\\n",
       "0           Installed               NBPDCL           LT0522486   \n",
       "1           Installed               NBPDCL           LT0522486   \n",
       "\n",
       "   IP_MATCH_UDC_ID                            IP_MATCHED_IP IP_MATCHED_STATUS  \\\n",
       "0  405856706571320  2405:0203:0527:83A9:0000:0000:0000:0010         Installed   \n",
       "1  405856706571320  2405:0203:0527:83A9:0000:0000:0000:0010         Installed   \n",
       "\n",
       "  IP_MATCHED_UTILITY  \n",
       "0             NBPDCL  \n",
       "1             NBPDCL  "
      ]
     },
     "execution_count": 79,
     "metadata": {},
     "output_type": "execute_result"
    }
   ],
   "source": [
    "warehouse_meter_imsi_data.head(2)"
   ]
  },
  {
   "cell_type": "code",
   "execution_count": 80,
   "metadata": {},
   "outputs": [],
   "source": [
    "# Convert all columns to string data type\n",
    "\n",
    "# change into str\n",
    "warehouse_meter_imsi_data = warehouse_meter_imsi_data.astype(str)\n",
    "\n",
    "# ----------------------------------------------------------------------------------\n",
    "\n",
    "# change into upper\n",
    "warehouse_meter_imsi_data.columns = warehouse_meter_imsi_data.columns.str.upper()\n",
    "\n",
    "# ----------------------------------------------------------------------------------\n",
    "\n",
    "\n",
    "# Remove leading and trailing whitespaces from all columns where dtype is 'O'\n",
    "warehouse_meter_imsi_data = warehouse_meter_imsi_data.apply(lambda x: x.str.strip() if x.dtype == 'O' else x)\n",
    "\n"
   ]
  },
  {
   "cell_type": "code",
   "execution_count": 81,
   "metadata": {},
   "outputs": [
    {
     "data": {
      "text/plain": [
       "(4275, 23)"
      ]
     },
     "execution_count": 81,
     "metadata": {},
     "output_type": "execute_result"
    }
   ],
   "source": [
    "warehouse_meter_imsi_data.shape"
   ]
  },
  {
   "cell_type": "markdown",
   "metadata": {},
   "source": [
    "# SIM SET CHECK STATUS"
   ]
  },
  {
   "cell_type": "code",
   "execution_count": 82,
   "metadata": {},
   "outputs": [],
   "source": [
    "def fun_sim_status_check(row):\n",
    "    if (row['IMSI'] == row['METER_MATCH_UDC_ID']) and (row['WAREHOUSE_UTILITY'] == row['METER_MATCH_UTILITY']):\n",
    "        return \"SAME SET IN SAME UTILITY\"\n",
    "    elif (row['IMSI'] != row['METER_MATCH_UDC_ID']) and (row['WAREHOUSE_UTILITY'] == row['METER_MATCH_UTILITY']):\n",
    "        return \"DIFFERENT SET IN SAME UTILITY\"\n",
    "    elif (row['IMSI'] == row['METER_MATCH_UDC_ID']) and (row['WAREHOUSE_UTILITY'] != row['METER_MATCH_UTILITY']):\n",
    "        return \"SAME SET IN DIFFERENT UTILITY\"\n",
    "    elif (row['IMSI'] != row['METER_MATCH_UDC_ID']) and (row['WAREHOUSE_UTILITY'] != row['METER_MATCH_UTILITY']):\n",
    "        return \"DIFFERENT SET IN DIFFERENT UTILITY\"\n",
    "    else:\n",
    "        return None\n",
    "\n",
    "# Apply the function to create a new column\n",
    "warehouse_meter_imsi_data['SIM SET CHECK STATUS'] = warehouse_meter_imsi_data.apply(fun_sim_status_check, axis=1)\n",
    "\n"
   ]
  },
  {
   "cell_type": "code",
   "execution_count": null,
   "metadata": {},
   "outputs": [],
   "source": []
  },
  {
   "cell_type": "markdown",
   "metadata": {},
   "source": [
    "# TRUE - FALSE COLUMN"
   ]
  },
  {
   "cell_type": "code",
   "execution_count": 83,
   "metadata": {},
   "outputs": [],
   "source": [
    "def fun_check_true_false__METER_SIM(row):\n",
    "    if row['IMSI']==row['METER_MATCH_UDC_ID']:\n",
    "        return True\n",
    "    else:\n",
    "        return False\n",
    "    \n",
    "warehouse_meter_imsi_data[\"METER_SIM\"] =  warehouse_meter_imsi_data.apply(fun_check_true_false__METER_SIM, axis=1)"
   ]
  },
  {
   "cell_type": "code",
   "execution_count": null,
   "metadata": {},
   "outputs": [],
   "source": []
  },
  {
   "cell_type": "code",
   "execution_count": 84,
   "metadata": {},
   "outputs": [],
   "source": [
    "def fun_check_true_false_METER_ORG(row):\n",
    "    if row['METER_MATCH_UTILITY']==row['WAREHOUSE_UTILITY']:\n",
    "        return True\n",
    "    else:\n",
    "        return False\n",
    "    \n",
    "warehouse_meter_imsi_data[\"METER_ORG\"] =  warehouse_meter_imsi_data.apply(fun_check_true_false_METER_ORG, axis=1)"
   ]
  },
  {
   "cell_type": "code",
   "execution_count": 85,
   "metadata": {},
   "outputs": [],
   "source": [
    "def fun_check_true_false_SIM_ORG(row):\n",
    "    if row['IMSI_MATCHED_UTILITY']==row['WAREHOUSE_UTILITY']:\n",
    "        return True\n",
    "    else:\n",
    "        return False\n",
    "    \n",
    "warehouse_meter_imsi_data[\"SIM_ORG\"] =  warehouse_meter_imsi_data.apply(fun_check_true_false_SIM_ORG, axis=1)"
   ]
  },
  {
   "cell_type": "code",
   "execution_count": 86,
   "metadata": {},
   "outputs": [],
   "source": [
    "def fun_check_true_false_METER_IP(row):\n",
    "    if row['METER_MATCH_IP']==row['IP']:\n",
    "        return True\n",
    "    else:\n",
    "        return False\n",
    "    \n",
    "warehouse_meter_imsi_data[\"METER_IP\"] =  warehouse_meter_imsi_data.apply(fun_check_true_false_METER_IP, axis=1)"
   ]
  },
  {
   "cell_type": "code",
   "execution_count": 87,
   "metadata": {},
   "outputs": [
    {
     "data": {
      "text/html": [
       "<div>\n",
       "<style scoped>\n",
       "    .dataframe tbody tr th:only-of-type {\n",
       "        vertical-align: middle;\n",
       "    }\n",
       "\n",
       "    .dataframe tbody tr th {\n",
       "        vertical-align: top;\n",
       "    }\n",
       "\n",
       "    .dataframe thead th {\n",
       "        text-align: right;\n",
       "    }\n",
       "</style>\n",
       "<table border=\"1\" class=\"dataframe\">\n",
       "  <thead>\n",
       "    <tr style=\"text-align: right;\">\n",
       "      <th></th>\n",
       "      <th>UNNAMED: 0</th>\n",
       "      <th>METER NO.</th>\n",
       "      <th>PHASE</th>\n",
       "      <th>WAREHOUSE_UTILITY</th>\n",
       "      <th>IME</th>\n",
       "      <th>FINAL SIM</th>\n",
       "      <th>IMSI</th>\n",
       "      <th>IP</th>\n",
       "      <th>MFG_SERIAL_NUM</th>\n",
       "      <th>METER_MATCH_UDC_ID</th>\n",
       "      <th>METER_MATCH_IP</th>\n",
       "      <th>INSTALLATIONNUMBER</th>\n",
       "      <th>METER_MATCH_STATUS</th>\n",
       "      <th>METER_MATCH_UTILITY</th>\n",
       "      <th>IMSI_MATCHED_METER_NO</th>\n",
       "      <th>IMSI_MATCHED_IP</th>\n",
       "      <th>IMSI_MATCHED_STATUS</th>\n",
       "      <th>IMSI_MATCHED_UTILITY</th>\n",
       "      <th>IP_MATCHED_METER_NO</th>\n",
       "      <th>IP_MATCH_UDC_ID</th>\n",
       "      <th>IP_MATCHED_IP</th>\n",
       "      <th>IP_MATCHED_STATUS</th>\n",
       "      <th>IP_MATCHED_UTILITY</th>\n",
       "      <th>SIM SET CHECK STATUS</th>\n",
       "      <th>METER_SIM</th>\n",
       "      <th>METER_ORG</th>\n",
       "      <th>SIM_ORG</th>\n",
       "      <th>METER_IP</th>\n",
       "    </tr>\n",
       "  </thead>\n",
       "  <tbody>\n",
       "    <tr>\n",
       "      <th>0</th>\n",
       "      <td>4</td>\n",
       "      <td>LT0509672</td>\n",
       "      <td>1 Phase</td>\n",
       "      <td>NBPDCL</td>\n",
       "      <td>865575064710895</td>\n",
       "      <td>8991856040706026298</td>\n",
       "      <td>405856706571320</td>\n",
       "      <td>2405:0203:0527:83A9:0000:0000:0000:0010</td>\n",
       "      <td>LT0509672</td>\n",
       "      <td>nan</td>\n",
       "      <td>nan</td>\n",
       "      <td>5001532140</td>\n",
       "      <td>Meter Shop</td>\n",
       "      <td>NBPDCL</td>\n",
       "      <td>LT0522486</td>\n",
       "      <td>2405:0203:0527:83A9:0000:0000:0000:0010</td>\n",
       "      <td>Installed</td>\n",
       "      <td>NBPDCL</td>\n",
       "      <td>LT0522486</td>\n",
       "      <td>405856706571320</td>\n",
       "      <td>2405:0203:0527:83A9:0000:0000:0000:0010</td>\n",
       "      <td>Installed</td>\n",
       "      <td>NBPDCL</td>\n",
       "      <td>DIFFERENT SET IN SAME UTILITY</td>\n",
       "      <td>False</td>\n",
       "      <td>True</td>\n",
       "      <td>True</td>\n",
       "      <td>False</td>\n",
       "    </tr>\n",
       "    <tr>\n",
       "      <th>1</th>\n",
       "      <td>4</td>\n",
       "      <td>LT0509672</td>\n",
       "      <td>1 Phase</td>\n",
       "      <td>NBPDCL</td>\n",
       "      <td>865575064710895</td>\n",
       "      <td>8991856040706026298</td>\n",
       "      <td>405856706571320</td>\n",
       "      <td>2405:0203:0527:83A9:0000:0000:0000:0010</td>\n",
       "      <td>LT0509672</td>\n",
       "      <td>nan</td>\n",
       "      <td>nan</td>\n",
       "      <td>nan</td>\n",
       "      <td>Meter Shop</td>\n",
       "      <td>NBPDCL</td>\n",
       "      <td>LT0522486</td>\n",
       "      <td>2405:0203:0527:83A9:0000:0000:0000:0010</td>\n",
       "      <td>Installed</td>\n",
       "      <td>NBPDCL</td>\n",
       "      <td>LT0522486</td>\n",
       "      <td>405856706571320</td>\n",
       "      <td>2405:0203:0527:83A9:0000:0000:0000:0010</td>\n",
       "      <td>Installed</td>\n",
       "      <td>NBPDCL</td>\n",
       "      <td>DIFFERENT SET IN SAME UTILITY</td>\n",
       "      <td>False</td>\n",
       "      <td>True</td>\n",
       "      <td>True</td>\n",
       "      <td>False</td>\n",
       "    </tr>\n",
       "  </tbody>\n",
       "</table>\n",
       "</div>"
      ],
      "text/plain": [
       "  UNNAMED: 0  METER NO.    PHASE WAREHOUSE_UTILITY              IME  \\\n",
       "0          4  LT0509672  1 Phase            NBPDCL  865575064710895   \n",
       "1          4  LT0509672  1 Phase            NBPDCL  865575064710895   \n",
       "\n",
       "             FINAL SIM             IMSI  \\\n",
       "0  8991856040706026298  405856706571320   \n",
       "1  8991856040706026298  405856706571320   \n",
       "\n",
       "                                        IP MFG_SERIAL_NUM METER_MATCH_UDC_ID  \\\n",
       "0  2405:0203:0527:83A9:0000:0000:0000:0010      LT0509672                nan   \n",
       "1  2405:0203:0527:83A9:0000:0000:0000:0010      LT0509672                nan   \n",
       "\n",
       "  METER_MATCH_IP INSTALLATIONNUMBER METER_MATCH_STATUS METER_MATCH_UTILITY  \\\n",
       "0            nan         5001532140         Meter Shop              NBPDCL   \n",
       "1            nan                nan         Meter Shop              NBPDCL   \n",
       "\n",
       "  IMSI_MATCHED_METER_NO                          IMSI_MATCHED_IP  \\\n",
       "0             LT0522486  2405:0203:0527:83A9:0000:0000:0000:0010   \n",
       "1             LT0522486  2405:0203:0527:83A9:0000:0000:0000:0010   \n",
       "\n",
       "  IMSI_MATCHED_STATUS IMSI_MATCHED_UTILITY IP_MATCHED_METER_NO  \\\n",
       "0           Installed               NBPDCL           LT0522486   \n",
       "1           Installed               NBPDCL           LT0522486   \n",
       "\n",
       "   IP_MATCH_UDC_ID                            IP_MATCHED_IP IP_MATCHED_STATUS  \\\n",
       "0  405856706571320  2405:0203:0527:83A9:0000:0000:0000:0010         Installed   \n",
       "1  405856706571320  2405:0203:0527:83A9:0000:0000:0000:0010         Installed   \n",
       "\n",
       "  IP_MATCHED_UTILITY           SIM SET CHECK STATUS  METER_SIM  METER_ORG  \\\n",
       "0             NBPDCL  DIFFERENT SET IN SAME UTILITY      False       True   \n",
       "1             NBPDCL  DIFFERENT SET IN SAME UTILITY      False       True   \n",
       "\n",
       "   SIM_ORG  METER_IP  \n",
       "0     True     False  \n",
       "1     True     False  "
      ]
     },
     "execution_count": 87,
     "metadata": {},
     "output_type": "execute_result"
    }
   ],
   "source": [
    "warehouse_meter_imsi_data.head(2)\n"
   ]
  },
  {
   "cell_type": "markdown",
   "metadata": {},
   "source": [
    "# SIM SET CHECK STATUS RECHECK COLUMN"
   ]
  },
  {
   "cell_type": "code",
   "execution_count": null,
   "metadata": {},
   "outputs": [],
   "source": []
  },
  {
   "cell_type": "code",
   "execution_count": 88,
   "metadata": {},
   "outputs": [],
   "source": [
    "def check_set_and_utility(row):\n",
    "    if row['METER_SIM'] == True and ((row['METER_ORG'] == True) and (row[\"SIM_ORG\"] == True)) :\n",
    "        return \"SAME SET IN SAME UTILITY\"\n",
    "    elif row['METER_SIM'] == True and ((row['METER_ORG'] == False) and (row[\"SIM_ORG\"] == False)) :\n",
    "        return \"SAME SET IN DIFFERENT UTILITY\"\n",
    "    elif row['METER_SIM'] == False and ((row['METER_ORG'] == True) and (row[\"SIM_ORG\"] == True)) :\n",
    "        return \"DIFFERENT SET IN SAME UTILITY\"\n",
    "    elif row['METER_SIM'] == False and ((row['METER_ORG'] == False) and (row[\"SIM_ORG\"] == False)) :\n",
    "        return \"DIFFERENT SET IN DIFFERENT UTILITY\"\n",
    "    \n",
    "    # new case added\n",
    "    elif row['METER_SIM'] == True and (row['METER_ORG'] == True) and (row[\"SIM_ORG\"] == False) :\n",
    "        return \"SAME SET IN SAME UTILITY\"\n",
    "    elif row['METER_SIM'] == True and (row['METER_ORG'] == False) and (row[\"SIM_ORG\"] == True) :\n",
    "        return \"SAME SET IN DIFFERENT UTILITY\"\n",
    "    \n",
    "    elif row['METER_SIM'] == False and ((row['METER_ORG'] == True) and (row[\"SIM_ORG\"] == False)) :\n",
    "        return \"DIFFERENT SET IN SAME UTILITY\"\n",
    "    \n",
    "    elif row['METER_SIM'] == False and ((row['METER_ORG'] == False) and (row[\"SIM_ORG\"] == True)) :\n",
    "        return \"DIFFERENT SET IN DIFFERENT UTILITY\"\n",
    "\n",
    "    \n",
    "    else:\n",
    "        return None\n",
    "\n",
    "\n",
    "warehouse_meter_imsi_data[\"SIM SET CHECK STATUS RECHECK\"] =  warehouse_meter_imsi_data.apply(check_set_and_utility, axis=1)\n"
   ]
  },
  {
   "cell_type": "code",
   "execution_count": null,
   "metadata": {},
   "outputs": [],
   "source": []
  },
  {
   "cell_type": "code",
   "execution_count": 89,
   "metadata": {},
   "outputs": [
    {
     "data": {
      "text/plain": [
       "Index(['UNNAMED: 0', 'METER NO.', 'PHASE', 'WAREHOUSE_UTILITY', 'IME',\n",
       "       'FINAL SIM', 'IMSI', 'IP', 'MFG_SERIAL_NUM', 'METER_MATCH_UDC_ID',\n",
       "       'METER_MATCH_IP', 'INSTALLATIONNUMBER', 'METER_MATCH_STATUS',\n",
       "       'METER_MATCH_UTILITY', 'IMSI_MATCHED_METER_NO', 'IMSI_MATCHED_IP',\n",
       "       'IMSI_MATCHED_STATUS', 'IMSI_MATCHED_UTILITY', 'IP_MATCHED_METER_NO',\n",
       "       'IP_MATCH_UDC_ID', 'IP_MATCHED_IP', 'IP_MATCHED_STATUS',\n",
       "       'IP_MATCHED_UTILITY', 'SIM SET CHECK STATUS', 'METER_SIM', 'METER_ORG',\n",
       "       'SIM_ORG', 'METER_IP', 'SIM SET CHECK STATUS RECHECK'],\n",
       "      dtype='object')"
      ]
     },
     "execution_count": 89,
     "metadata": {},
     "output_type": "execute_result"
    }
   ],
   "source": [
    "warehouse_meter_imsi_data.columns"
   ]
  },
  {
   "cell_type": "markdown",
   "metadata": {},
   "source": [
    "# Action taken column"
   ]
  },
  {
   "cell_type": "markdown",
   "metadata": {},
   "source": []
  },
  {
   "cell_type": "code",
   "execution_count": 90,
   "metadata": {},
   "outputs": [],
   "source": [
    "\n",
    "def fun_action_taken_case_I(data_row):\n",
    "\n",
    "    # case 1\n",
    "    \n",
    "    #if data_row['IMSI']== data_row['METER_MATCH_UDC_ID']:\n",
    "        #return \"SET IS IN INSTALLED STAGE\"\n",
    "    if (data_row['METER_MATCH_STATUS'] != \"Installed\")  & (data_row['IMSI_MATCHED_STATUS'] == \"Installed\"):\n",
    "        return \"IMSI IS IN INSTALLED STAGE\"\n",
    "    elif (data_row['METER_MATCH_STATUS'] == \"Installed\")  & (data_row['IMSI_MATCHED_STATUS'] != \"Installed\"):\n",
    "        return \"METER IS IN INSTALLED STAGE\"\n",
    "    \n",
    "\n",
    "    # new cases\n",
    "    \n",
    "    # 1\n",
    "    elif (data_row[\"SIM SET CHECK STATUS RECHECK\"] == 'SAME SET IN SAME UTILITY') and (data_row['METER_MATCH_STATUS'] == \"Installed\") and (data_row['IMSI_MATCHED_STATUS'] == \"Installed\"):\n",
    "        return \"SET IS IN INSTALLED STAGE\"\n",
    "    \n",
    "    # 2\n",
    "    elif (data_row[\"SIM SET CHECK STATUS RECHECK\"] == 'SAME SET IN DIFFERENT UTILITY') and (data_row['METER_MATCH_STATUS'] == \"Installed\") and (data_row['IMSI_MATCHED_STATUS'] == \"Installed\"):\n",
    "        return \"SET IS IN INSTALLED STAGE\"\n",
    "    \n",
    "    # 3\n",
    "    elif (data_row[\"SIM SET CHECK STATUS RECHECK\"] == 'DIFFERENT SET IN SAME UTILITY') and (data_row['METER_MATCH_STATUS'] == \"Installed\") and (data_row['IMSI_MATCHED_STATUS'] == \"Installed\"):\n",
    "        return \"BOTH INSTALLED IN SAME UTILITY\"\n",
    "    \n",
    "    elif (data_row[\"SIM SET CHECK STATUS RECHECK\"] == 'DIFFERENT SET IN SAME UTILITY') and (data_row['METER_MATCH_STATUS'] == \"Installed\") and (data_row['IMSI_MATCHED_STATUS'] != \"Installed\"):\n",
    "        return \"METER IS IN INSTALLED STAGE\"\n",
    "    \n",
    "    elif (data_row[\"SIM SET CHECK STATUS RECHECK\"] == 'DIFFERENT SET IN SAME UTILITY') and (data_row['METER_MATCH_STATUS'] != \"Installed\") and (data_row['IMSI_MATCHED_STATUS'] == \"Installed\"):\n",
    "        return \"IMSI IS IN INSTALLED STAGE\"\n",
    "    \n",
    "    # 4\n",
    "    elif (data_row[\"SIM SET CHECK STATUS RECHECK\"] == 'DIFFERENT SET IN DIFFERENT UTILITY') and (data_row['METER_MATCH_STATUS'] == \"Installed\") and (data_row['IMSI_MATCHED_STATUS'] == \"Installed\"):\n",
    "        return \"BOTH INSTALLED IN SAME UTILITY\"\n",
    "    \n",
    "    elif (data_row[\"SIM SET CHECK STATUS RECHECK\"] == 'DIFFERENT SET IN DIFFERENT UTILITY') and (data_row['METER_MATCH_STATUS'] == \"Installed\") and (data_row['IMSI_MATCHED_STATUS'] != \"Installed\"):\n",
    "        return \"METER IS IN INSTALLED STAGE\"\n",
    "    \n",
    "    elif (data_row[\"SIM SET CHECK STATUS RECHECK\"] == 'DIFFERENT SET IN DIFFERENT UTILITY') and (data_row['METER_MATCH_STATUS'] != \"Installed\") and (data_row['IMSI_MATCHED_STATUS'] == \"Installed\"):\n",
    "        return \"IMSI IS IN INSTALLED STAGE\"\n",
    "\n",
    "    # case 2 \n",
    "\n",
    "\n",
    "    # set 1 and row['METER_IP'] == True\n",
    "    elif (data_row['METER_SIM'] == True) and ((data_row['METER_ORG']  == True) and (data_row[\"SIM_ORG\"] == True)) and (data_row['METER_IP'] == True) and data_row['METER_MATCH_STATUS']!='Installed' and data_row['IMSI_MATCHED_STATUS'] !='Installed':\n",
    "        return \"METER-SIM LINK FILE REQUIRED\"\n",
    "    \n",
    "    elif (data_row['METER_SIM'] == True) and (data_row['METER_ORG']  == True) and (data_row[\"SIM_ORG\"] == True) and (data_row['METER_IP'] == True) and data_row['METER_MATCH_STATUS']=='Installed' :\n",
    "        return \"METER IS IN INSTALLED STAGE\"\n",
    "    \n",
    "    elif (data_row['METER_SIM'] == True) and (data_row['METER_ORG']  == True) and (data_row[\"SIM_ORG\"] == True) and (data_row['METER_IP'] == True) and  data_row['IMSI_MATCHED_STATUS']=='Installed' :\n",
    "        return \"IMSI IS IN INSTALLED STAGE\"\n",
    "    \n",
    "    \n",
    "    \n",
    "    \n",
    "\n",
    "\n",
    "\n",
    "    # set 1 and row['METER_IP'] == False \n",
    "    elif (data_row['METER_SIM'] == True) and ((data_row['METER_ORG'] == True) and (data_row[\"SIM_ORG\"] == True)) and (data_row['METER_IP'] == False) :\n",
    "        return \"SIM AND METER-SIM LINK FILE REQUIRED\"\n",
    "    \n",
    "    elif (data_row['METER_SIM'] == True) and ((data_row['METER_ORG'] == True) and (data_row[\"SIM_ORG\"] == False)) and (data_row['METER_IP'] == False) :\n",
    "        return \"SIM AND METER-SIM LINK FILE REQUIRED\"\n",
    "    \n",
    "    # set 2  \"SAME SET IN DIFFERENT UTILITY\"\n",
    "    elif (data_row['METER_SIM'] == True) and ((data_row['METER_ORG'] == False) and (data_row[\"SIM_ORG\"] == False)) :\n",
    "        return \"METER , SIM AND METER-SIM LINK FILE REQUIRED\"\n",
    "\n",
    "    #set 3  \"DIFFERENT SET IN SAME UTILITY\"\n",
    "    \n",
    "    elif (data_row['METER_SIM'] == False) and ((data_row['METER_ORG'] == True) and (data_row[\"SIM_ORG\"] == True)) :\n",
    "        return \"SIM AND METER-SIM LINK FILE REQUIRED\"\n",
    " \n",
    "    # set 4  \"DIFFERENT SET IN DIFFERENT UTILITY\"\n",
    "    elif (data_row['METER_SIM'] == False) and ((data_row['METER_ORG'] == False) and (data_row[\"SIM_ORG\"] == False)) :\n",
    "        return \"METER , SIM AND METER-SIM LINK FILE REQUIRED\"\n",
    "    \n",
    "    elif (data_row['METER_SIM'] == False) and (data_row['METER_ORG'] == True) and (data_row[\"SIM_ORG\"] == False) and (data_row['METER_IP'] == False):\n",
    "        return \"SIM AND METER-SIM LINK FILE REQUIRED\"\n",
    "    \n",
    "    elif (data_row['METER_SIM'] == False) and (data_row['METER_ORG'] == True) and (data_row[\"SIM_ORG\"] == False) and (data_row['METER_IP'] == True):\n",
    "        return \"SIM AND METER-SIM LINK FILE REQUIRED\"\n",
    "\n",
    "\n",
    "    # new cases are added in this to handle imsi null\n",
    "    \n",
    "    elif ( data_row['IMSI_MATCHED_METER_NO'] =='nan') and ( data_row['IMSI_MATCHED_IP'] =='nan') and ( data_row['IMSI_MATCHED_STATUS'] =='nan') and (data_row['METER_ORG'] == True ):\n",
    "        return \"SIM AND METER-SIM LINK FILE REQUIRED\"\n",
    "    elif ( data_row['IMSI_MATCHED_METER_NO'] =='nan' ) and ( data_row['IMSI_MATCHED_IP'] =='nan') and ( data_row['IMSI_MATCHED_STATUS'] =='nan') and (data_row['METER_ORG'] == False ):\n",
    "        return \"METER , SIM AND METER-SIM LINK FILE REQUIRED\"\n",
    "    elif ( data_row['IMSI_MATCHED_METER_NO'] =='nan') and ( data_row['IMSI_MATCHED_IP'] =='nan') and ( data_row['IMSI_MATCHED_STATUS'] =='nan')  and ( data_row['METER_MATCH_UDC_ID'] =='nan') and ( data_row['METER_MATCH_IP'] =='nan') and ( data_row['METER_MATCH_STATUS'] =='nan'):\n",
    "        return \"METER , SIM AND METER-SIM LINK FILE REQUIRED\"\n",
    "    \n",
    "    # set is in installed\n",
    "    elif (data_row['METER NO.']+data_row['IMSI']) == data_row['METER NO.']+data_row['METER_MATCH_UDC_ID']:\n",
    "        return \"SET IS IN INSTALLED STAGE\"\n",
    "    \n",
    "    \n",
    "\n",
    "    \n",
    "    else:\n",
    "        return \" NEED TO CHECK THIS FILE\"\n",
    "    \n",
    "    \n",
    "    \n",
    "warehouse_meter_imsi_data[\"ACTION TAKEN\"] =  warehouse_meter_imsi_data.apply(fun_action_taken_case_I, axis=1)"
   ]
  },
  {
   "cell_type": "code",
   "execution_count": 91,
   "metadata": {},
   "outputs": [
    {
     "data": {
      "text/plain": [
       "'\\n# new cases\\n    elif (data_row[\\'METER_MATCH_UTILITY\\'] == warehouse_utility_importation_demand)  and  (data_row[\\'METER_MATCH_STATUS\\']==\\'Installed\\') and (data_row[\\'IMSI_MATCHED_UTILITY\\']== warehouse_utility_importation_demand) and (data_row[\\'IMSI_MATCHED_STATUS\\'] == \\'Installed\\'):\\n        return \\'BOTH INSTALLED IN SAME UTILITY\\'\\n    \\n    elif (data_row[\\'METER_SIM\\'] == False) and (data_row[\\'METER_ORG\\']  == False) and (data_row[\"SIM_ORG\"] == False) and (data_row[\\'METER_IP\\'] == False) and data_row[\\'METER_MATCH_STATUS\\']==\\'Installed\\' :\\n        return \"METER IS IN INSTALLED STAGE\"\\n    \\n    elif (data_row[\\'METER_SIM\\'] == False) and (data_row[\\'METER_ORG\\']  == False) and (data_row[\"SIM_ORG\"] == False) and (data_row[\\'METER_IP\\'] == False) and  data_row[\\'IMSI_MATCHED_STATUS\\']==\\'Installed\\' :\\n        return \"IMSI IS IN INSTALLED STAGE\"\\n    \\n    elif (data_row[\\'METER_SIM\\'] == True) and (data_row[\\'METER_ORG\\']  == False) and (data_row[\"SIM_ORG\"] == False) and (data_row[\\'METER_IP\\'] == False) and data_row[\\'METER_MATCH_STATUS\\']==\\'Installed\\' :\\n        return \"METER IS IN INSTALLED STAGE\"\\n    \\n    elif (data_row[\\'METER_SIM\\'] == True) and (data_row[\\'METER_ORG\\']  == False) and (data_row[\"SIM_ORG\"] == False) and (data_row[\\'METER_IP\\'] == False) and  data_row[\\'IMSI_MATCHED_STATUS\\']==\\'Installed\\' :\\n        return \"IMSI IS IN INSTALLED STAGE\"\\n    \\n    elif (data_row[\\'METER_SIM\\'] == True) and (data_row[\\'METER_ORG\\']  == True) and (data_row[\"SIM_ORG\"] == False) and (data_row[\\'METER_IP\\'] == False) and data_row[\\'METER_MATCH_STATUS\\']==\\'Installed\\' :\\n        return \"METER IS IN INSTALLED STAGE\"\\n    \\n    elif (data_row[\\'METER_SIM\\'] == True) and (data_row[\\'METER_ORG\\']  == True) and (data_row[\"SIM_ORG\"] == False) and (data_row[\\'METER_IP\\'] == False) and  data_row[\\'IMSI_MATCHED_STATUS\\']==\\'Installed\\' :\\n        return \"IMSI IS IN INSTALLED STAGE\"\\n    \\n    elif (data_row[\\'METER_SIM\\'] == True) and (data_row[\\'METER_ORG\\']  == True) and (data_row[\"SIM_ORG\"] == True) and (data_row[\\'METER_IP\\'] == False) and data_row[\\'METER_MATCH_STATUS\\']==\\'Installed\\' :\\n        return \"METER IS IN INSTALLED STAGE\"\\n    \\n    elif (data_row[\\'METER_SIM\\'] == True) and (data_row[\\'METER_ORG\\']  == True) and (data_row[\"SIM_ORG\"] == True) and (data_row[\\'METER_IP\\'] == False) and  data_row[\\'IMSI_MATCHED_STATUS\\']==\\'Installed\\' :\\n        return \"IMSI IS IN INSTALLED STAGE\"\\n\\n    elif (data_row[\\'METER_SIM\\'] == False) and (data_row[\\'METER_ORG\\']  == True) and (data_row[\"SIM_ORG\"] == True) and (data_row[\\'METER_IP\\'] == True) and data_row[\\'METER_MATCH_STATUS\\']==\\'Installed\\' :\\n        return \"METER IS IN INSTALLED STAGE\"\\n    \\n    elif (data_row[\\'METER_SIM\\'] == False) and (data_row[\\'METER_ORG\\']  == True) and (data_row[\"SIM_ORG\"] == True) and (data_row[\\'METER_IP\\'] == True) and  data_row[\\'IMSI_MATCHED_STATUS\\']==\\'Installed\\' :\\n        return \"IMSI IS IN INSTALLED STAGE\"\\n'"
      ]
     },
     "execution_count": 91,
     "metadata": {},
     "output_type": "execute_result"
    }
   ],
   "source": [
    "\"\"\"\n",
    "# new cases\n",
    "    elif (data_row['METER_MATCH_UTILITY'] == warehouse_utility_importation_demand)  and  (data_row['METER_MATCH_STATUS']=='Installed') and (data_row['IMSI_MATCHED_UTILITY']== warehouse_utility_importation_demand) and (data_row['IMSI_MATCHED_STATUS'] == 'Installed'):\n",
    "        return 'BOTH INSTALLED IN SAME UTILITY'\n",
    "    \n",
    "    elif (data_row['METER_SIM'] == False) and (data_row['METER_ORG']  == False) and (data_row[\"SIM_ORG\"] == False) and (data_row['METER_IP'] == False) and data_row['METER_MATCH_STATUS']=='Installed' :\n",
    "        return \"METER IS IN INSTALLED STAGE\"\n",
    "    \n",
    "    elif (data_row['METER_SIM'] == False) and (data_row['METER_ORG']  == False) and (data_row[\"SIM_ORG\"] == False) and (data_row['METER_IP'] == False) and  data_row['IMSI_MATCHED_STATUS']=='Installed' :\n",
    "        return \"IMSI IS IN INSTALLED STAGE\"\n",
    "    \n",
    "    elif (data_row['METER_SIM'] == True) and (data_row['METER_ORG']  == False) and (data_row[\"SIM_ORG\"] == False) and (data_row['METER_IP'] == False) and data_row['METER_MATCH_STATUS']=='Installed' :\n",
    "        return \"METER IS IN INSTALLED STAGE\"\n",
    "    \n",
    "    elif (data_row['METER_SIM'] == True) and (data_row['METER_ORG']  == False) and (data_row[\"SIM_ORG\"] == False) and (data_row['METER_IP'] == False) and  data_row['IMSI_MATCHED_STATUS']=='Installed' :\n",
    "        return \"IMSI IS IN INSTALLED STAGE\"\n",
    "    \n",
    "    elif (data_row['METER_SIM'] == True) and (data_row['METER_ORG']  == True) and (data_row[\"SIM_ORG\"] == False) and (data_row['METER_IP'] == False) and data_row['METER_MATCH_STATUS']=='Installed' :\n",
    "        return \"METER IS IN INSTALLED STAGE\"\n",
    "    \n",
    "    elif (data_row['METER_SIM'] == True) and (data_row['METER_ORG']  == True) and (data_row[\"SIM_ORG\"] == False) and (data_row['METER_IP'] == False) and  data_row['IMSI_MATCHED_STATUS']=='Installed' :\n",
    "        return \"IMSI IS IN INSTALLED STAGE\"\n",
    "    \n",
    "    elif (data_row['METER_SIM'] == True) and (data_row['METER_ORG']  == True) and (data_row[\"SIM_ORG\"] == True) and (data_row['METER_IP'] == False) and data_row['METER_MATCH_STATUS']=='Installed' :\n",
    "        return \"METER IS IN INSTALLED STAGE\"\n",
    "    \n",
    "    elif (data_row['METER_SIM'] == True) and (data_row['METER_ORG']  == True) and (data_row[\"SIM_ORG\"] == True) and (data_row['METER_IP'] == False) and  data_row['IMSI_MATCHED_STATUS']=='Installed' :\n",
    "        return \"IMSI IS IN INSTALLED STAGE\"\n",
    "\n",
    "    elif (data_row['METER_SIM'] == False) and (data_row['METER_ORG']  == True) and (data_row[\"SIM_ORG\"] == True) and (data_row['METER_IP'] == True) and data_row['METER_MATCH_STATUS']=='Installed' :\n",
    "        return \"METER IS IN INSTALLED STAGE\"\n",
    "    \n",
    "    elif (data_row['METER_SIM'] == False) and (data_row['METER_ORG']  == True) and (data_row[\"SIM_ORG\"] == True) and (data_row['METER_IP'] == True) and  data_row['IMSI_MATCHED_STATUS']=='Installed' :\n",
    "        return \"IMSI IS IN INSTALLED STAGE\"\n",
    "\"\"\""
   ]
  },
  {
   "cell_type": "code",
   "execution_count": 92,
   "metadata": {},
   "outputs": [],
   "source": [
    "warehouse_meter_imsi_data.to_csv(r\"C:\\Users\\Ratan Kumar Jha\\Desktop\\METER_IMPORTATION_FOLDER\\OUTPUT_DATA_FILE\\warehouse_meter_imsi_data.csv\",index=False)"
   ]
  },
  {
   "cell_type": "code",
   "execution_count": 93,
   "metadata": {},
   "outputs": [
    {
     "data": {
      "text/html": [
       "<div>\n",
       "<style scoped>\n",
       "    .dataframe tbody tr th:only-of-type {\n",
       "        vertical-align: middle;\n",
       "    }\n",
       "\n",
       "    .dataframe tbody tr th {\n",
       "        vertical-align: top;\n",
       "    }\n",
       "\n",
       "    .dataframe thead th {\n",
       "        text-align: right;\n",
       "    }\n",
       "</style>\n",
       "<table border=\"1\" class=\"dataframe\">\n",
       "  <thead>\n",
       "    <tr style=\"text-align: right;\">\n",
       "      <th></th>\n",
       "      <th>UNNAMED: 0</th>\n",
       "      <th>METER NO.</th>\n",
       "      <th>PHASE</th>\n",
       "      <th>WAREHOUSE_UTILITY</th>\n",
       "      <th>IME</th>\n",
       "      <th>FINAL SIM</th>\n",
       "      <th>IMSI</th>\n",
       "      <th>IP</th>\n",
       "      <th>MFG_SERIAL_NUM</th>\n",
       "      <th>METER_MATCH_UDC_ID</th>\n",
       "      <th>METER_MATCH_IP</th>\n",
       "      <th>INSTALLATIONNUMBER</th>\n",
       "      <th>METER_MATCH_STATUS</th>\n",
       "      <th>METER_MATCH_UTILITY</th>\n",
       "      <th>IMSI_MATCHED_METER_NO</th>\n",
       "      <th>IMSI_MATCHED_IP</th>\n",
       "      <th>IMSI_MATCHED_STATUS</th>\n",
       "      <th>IMSI_MATCHED_UTILITY</th>\n",
       "      <th>IP_MATCHED_METER_NO</th>\n",
       "      <th>IP_MATCH_UDC_ID</th>\n",
       "      <th>IP_MATCHED_IP</th>\n",
       "      <th>IP_MATCHED_STATUS</th>\n",
       "      <th>IP_MATCHED_UTILITY</th>\n",
       "      <th>SIM SET CHECK STATUS</th>\n",
       "      <th>METER_SIM</th>\n",
       "      <th>METER_ORG</th>\n",
       "      <th>SIM_ORG</th>\n",
       "      <th>METER_IP</th>\n",
       "      <th>SIM SET CHECK STATUS RECHECK</th>\n",
       "      <th>ACTION TAKEN</th>\n",
       "    </tr>\n",
       "  </thead>\n",
       "  <tbody>\n",
       "    <tr>\n",
       "      <th>0</th>\n",
       "      <td>4</td>\n",
       "      <td>LT0509672</td>\n",
       "      <td>1 Phase</td>\n",
       "      <td>NBPDCL</td>\n",
       "      <td>865575064710895</td>\n",
       "      <td>8991856040706026298</td>\n",
       "      <td>405856706571320</td>\n",
       "      <td>2405:0203:0527:83A9:0000:0000:0000:0010</td>\n",
       "      <td>LT0509672</td>\n",
       "      <td>nan</td>\n",
       "      <td>nan</td>\n",
       "      <td>5001532140</td>\n",
       "      <td>Meter Shop</td>\n",
       "      <td>NBPDCL</td>\n",
       "      <td>LT0522486</td>\n",
       "      <td>2405:0203:0527:83A9:0000:0000:0000:0010</td>\n",
       "      <td>Installed</td>\n",
       "      <td>NBPDCL</td>\n",
       "      <td>LT0522486</td>\n",
       "      <td>405856706571320</td>\n",
       "      <td>2405:0203:0527:83A9:0000:0000:0000:0010</td>\n",
       "      <td>Installed</td>\n",
       "      <td>NBPDCL</td>\n",
       "      <td>DIFFERENT SET IN SAME UTILITY</td>\n",
       "      <td>False</td>\n",
       "      <td>True</td>\n",
       "      <td>True</td>\n",
       "      <td>False</td>\n",
       "      <td>DIFFERENT SET IN SAME UTILITY</td>\n",
       "      <td>IMSI IS IN INSTALLED STAGE</td>\n",
       "    </tr>\n",
       "  </tbody>\n",
       "</table>\n",
       "</div>"
      ],
      "text/plain": [
       "  UNNAMED: 0  METER NO.    PHASE WAREHOUSE_UTILITY              IME  \\\n",
       "0          4  LT0509672  1 Phase            NBPDCL  865575064710895   \n",
       "\n",
       "             FINAL SIM             IMSI  \\\n",
       "0  8991856040706026298  405856706571320   \n",
       "\n",
       "                                        IP MFG_SERIAL_NUM METER_MATCH_UDC_ID  \\\n",
       "0  2405:0203:0527:83A9:0000:0000:0000:0010      LT0509672                nan   \n",
       "\n",
       "  METER_MATCH_IP INSTALLATIONNUMBER METER_MATCH_STATUS METER_MATCH_UTILITY  \\\n",
       "0            nan         5001532140         Meter Shop              NBPDCL   \n",
       "\n",
       "  IMSI_MATCHED_METER_NO                          IMSI_MATCHED_IP  \\\n",
       "0             LT0522486  2405:0203:0527:83A9:0000:0000:0000:0010   \n",
       "\n",
       "  IMSI_MATCHED_STATUS IMSI_MATCHED_UTILITY IP_MATCHED_METER_NO  \\\n",
       "0           Installed               NBPDCL           LT0522486   \n",
       "\n",
       "   IP_MATCH_UDC_ID                            IP_MATCHED_IP IP_MATCHED_STATUS  \\\n",
       "0  405856706571320  2405:0203:0527:83A9:0000:0000:0000:0010         Installed   \n",
       "\n",
       "  IP_MATCHED_UTILITY           SIM SET CHECK STATUS  METER_SIM  METER_ORG  \\\n",
       "0             NBPDCL  DIFFERENT SET IN SAME UTILITY      False       True   \n",
       "\n",
       "   SIM_ORG  METER_IP   SIM SET CHECK STATUS RECHECK  \\\n",
       "0     True     False  DIFFERENT SET IN SAME UTILITY   \n",
       "\n",
       "                 ACTION TAKEN  \n",
       "0  IMSI IS IN INSTALLED STAGE  "
      ]
     },
     "execution_count": 93,
     "metadata": {},
     "output_type": "execute_result"
    }
   ],
   "source": [
    "warehouse_meter_imsi_data.head(1)"
   ]
  },
  {
   "cell_type": "code",
   "execution_count": null,
   "metadata": {},
   "outputs": [],
   "source": []
  },
  {
   "cell_type": "markdown",
   "metadata": {},
   "source": [
    "# user option"
   ]
  },
  {
   "cell_type": "code",
   "execution_count": 94,
   "metadata": {},
   "outputs": [
    {
     "data": {
      "text/plain": [
       "array(['IMSI IS IN INSTALLED STAGE', 'SET IS IN INSTALLED STAGE',\n",
       "       'BOTH INSTALLED IN SAME UTILITY', 'METER IS IN INSTALLED STAGE',\n",
       "       'SIM AND METER-SIM LINK FILE REQUIRED',\n",
       "       'METER-SIM LINK FILE REQUIRED'], dtype=object)"
      ]
     },
     "execution_count": 94,
     "metadata": {},
     "output_type": "execute_result"
    }
   ],
   "source": [
    "warehouse_meter_imsi_data['ACTION TAKEN'].unique()"
   ]
  },
  {
   "cell_type": "code",
   "execution_count": 95,
   "metadata": {},
   "outputs": [],
   "source": [
    "# SEPRATE IMSI,METER,SET INSTALLED  AND OTHER ACTION TAKEN\n",
    "\n",
    "warehouse_meter_imsi_set_installed_Stage = warehouse_meter_imsi_data[(warehouse_meter_imsi_data['ACTION TAKEN'] == \"METER IS IN INSTALLED STAGE\") | \n",
    "                           (warehouse_meter_imsi_data['ACTION TAKEN'] == \"IMSI IS IN INSTALLED STAGE\") |\n",
    "                           (warehouse_meter_imsi_data['ACTION TAKEN'] == \"SET IS IN INSTALLED STAGE\") | \n",
    "                           (warehouse_meter_imsi_data['ACTION TAKEN'] == \"BOTH INSTALLED IN SAME UTILITY\")]\n",
    "\n",
    "warehouse_meter_imsi_other_Action_taken = warehouse_meter_imsi_data[(warehouse_meter_imsi_data['ACTION TAKEN']== \"SIM AND METER-SIM LINK FILE REQUIRED\") |\n",
    "                                                                    (warehouse_meter_imsi_data['ACTION TAKEN']==\"METER-SIM LINK FILE REQUIRED\") |\n",
    "                                                                    (warehouse_meter_imsi_data['ACTION TAKEN']==\"METER , SIM AND METER-SIM LINK FILE REQUIRED\")]"
   ]
  },
  {
   "cell_type": "code",
   "execution_count": 96,
   "metadata": {},
   "outputs": [],
   "source": [
    "# FOR NBPDCL\n",
    "\n",
    "def fun_meter_sim_set_installed_Stage(row):\n",
    "    if (row['METER_MATCH_UTILITY'] == 'NBPDCL')  and  (row['METER_MATCH_STATUS']=='Installed') and (row['IMSI_MATCHED_UTILITY']== 'NBPDCL') and (row['IMSI_MATCHED_STATUS'] == 'Installed'):\n",
    "        return 'BOTH INSTALLED IN SAME UTILITY'\n",
    "    elif (row['METER_MATCH_UTILITY'] == 'NBPDCL')  and  (row['METER_MATCH_STATUS']=='Installed') and (row['IMSI_MATCHED_UTILITY']== 'NBPDCL') and (row['IMSI_MATCHED_STATUS'] != 'Installed'):\n",
    "        return 'METER IS IN INSTALLED STAGE'\n",
    "    elif (row['METER_MATCH_UTILITY'] == 'NBPDCL')  and  (row['METER_MATCH_STATUS'] !='Installed') and (row['IMSI_MATCHED_UTILITY']== 'NBPDCL') and (row['IMSI_MATCHED_STATUS'] == 'Installed'):\n",
    "        return 'IMSI IS IN INSTALLED STAGE'\n",
    "    elif (row['METER_MATCH_UTILITY'] == 'NBPDCL')  and  (row['METER_MATCH_STATUS'] =='Installed') and (row['IMSI_MATCHED_UTILITY']== 'nan') and (row['IMSI_MATCHED_STATUS'] == 'nan'):\n",
    "        return 'METER IS IN INSTALLED STAGE'\n",
    "    \n",
    "    #  another cases\n",
    "    \n",
    "    elif (row['METER_MATCH_UTILITY'] == 'NBPDCL')  and  (row['METER_MATCH_STATUS'] !='Installed') and (row['IMSI_MATCHED_UTILITY']== 'SBPDCL') and (row['IMSI_MATCHED_STATUS'] == 'Installed'):\n",
    "        return 'SIM AND METER-SIM LINK FILE REQUIRED'\n",
    "    elif (row['METER_MATCH_UTILITY'] == 'NBPDCL')  and  (row['METER_MATCH_STATUS'] !='Installed') and (row['IMSI_MATCHED_UTILITY']== 'SBPDCL') and (row['IMSI_MATCHED_STATUS']=='nan'):\n",
    "        return 'SIM AND METER-SIM LINK FILE REQUIRED'\n",
    "    \n",
    "    elif (row['METER_MATCH_UTILITY'] == 'SBPDCL')  and  (row['METER_MATCH_STATUS'] =='Installed') and (row['IMSI_MATCHED_UTILITY']== 'SBPDCL') and (row['IMSI_MATCHED_STATUS'] == 'Installed'):\n",
    "        return 'METER , SIM AND METER-SIM LINK FILE REQUIRED'\n",
    "    elif (row['METER_MATCH_UTILITY'] == 'SBPDCL')  and  (row['METER_MATCH_STATUS'] !='Installed') and (row['IMSI_MATCHED_UTILITY']== 'SBPDCL') and (row['IMSI_MATCHED_STATUS'] == 'Installed'):\n",
    "        return 'METER , SIM AND METER-SIM LINK FILE REQUIRED'\n",
    "  \n",
    "    "
   ]
  },
  {
   "cell_type": "code",
   "execution_count": 97,
   "metadata": {},
   "outputs": [
    {
     "name": "stdout",
     "output_type": "stream",
     "text": [
      "meter is new , new imsi - code flow is same as before no interuption\n"
     ]
    }
   ],
   "source": [
    "\n",
    "if warehouse_utility_importation_demand == \"1\":\n",
    "      \n",
    "    warehouse_meter_imsi_set_installed_Stage.drop(['ACTION TAKEN'], axis=1)    \n",
    "    warehouse_meter_imsi_set_installed_Stage['ACTION TAKEN'] =  warehouse_meter_imsi_set_installed_Stage.apply(fun_meter_sim_set_installed_Stage, axis=1)\n",
    "\n",
    "    warehouse_meter_imsi_set_installed_Stage.to_csv(r\"C:\\Users\\Ratan Kumar Jha\\Desktop\\METER_IMPORTATION_FOLDER\\OUTPUT_DATA_FILE\\warehouse_meter_imsi_set_installed_Stage.csv\",index=False)\n",
    "\n",
    "    #concat\n",
    "    warehouse_meter_imsi_data=pd.concat([warehouse_meter_imsi_other_Action_taken, warehouse_meter_imsi_set_installed_Stage], ignore_index=True)\n",
    "    warehouse_meter_imsi_data.to_csv(r\"C:\\Users\\Ratan Kumar Jha\\Desktop\\METER_IMPORTATION_FOLDER\\OUTPUT_DATA_FILE\\warehouse_meter_imsi_data.csv\",index=False)\n",
    "\n",
    "    \n",
    "elif warehouse_utility_importation_demand == \"2\":\n",
    "    print(\" working on SBPDCL data\")\n",
    "elif warehouse_utility_importation_demand == \"3\":\n",
    "    print(\"meter is new , new imsi - code flow is same as before no interuption\")\n",
    "else:\n",
    "    print(\"plz chose correct option\")\n"
   ]
  },
  {
   "cell_type": "code",
   "execution_count": 98,
   "metadata": {},
   "outputs": [
    {
     "data": {
      "text/plain": [
       "Index(['UNNAMED: 0', 'METER NO.', 'PHASE', 'WAREHOUSE_UTILITY', 'IME',\n",
       "       'FINAL SIM', 'IMSI', 'IP', 'MFG_SERIAL_NUM', 'METER_MATCH_UDC_ID',\n",
       "       'METER_MATCH_IP', 'INSTALLATIONNUMBER', 'METER_MATCH_STATUS',\n",
       "       'METER_MATCH_UTILITY', 'IMSI_MATCHED_METER_NO', 'IMSI_MATCHED_IP',\n",
       "       'IMSI_MATCHED_STATUS', 'IMSI_MATCHED_UTILITY', 'IP_MATCHED_METER_NO',\n",
       "       'IP_MATCH_UDC_ID', 'IP_MATCHED_IP', 'IP_MATCHED_STATUS',\n",
       "       'IP_MATCHED_UTILITY', 'SIM SET CHECK STATUS', 'METER_SIM', 'METER_ORG',\n",
       "       'SIM_ORG', 'METER_IP', 'SIM SET CHECK STATUS RECHECK', 'ACTION TAKEN'],\n",
       "      dtype='object')"
      ]
     },
     "execution_count": 98,
     "metadata": {},
     "output_type": "execute_result"
    }
   ],
   "source": [
    "warehouse_meter_imsi_set_installed_Stage.columns"
   ]
  },
  {
   "cell_type": "code",
   "execution_count": null,
   "metadata": {},
   "outputs": [],
   "source": []
  },
  {
   "cell_type": "code",
   "execution_count": 99,
   "metadata": {},
   "outputs": [
    {
     "data": {
      "text/plain": [
       "UNNAMED: 0                      4244\n",
       "METER NO.                       4244\n",
       "PHASE                           4244\n",
       "WAREHOUSE_UTILITY               4244\n",
       "IME                             4244\n",
       "FINAL SIM                       4244\n",
       "IMSI                            4244\n",
       "IP                              4244\n",
       "MFG_SERIAL_NUM                  4244\n",
       "METER_MATCH_UDC_ID              4244\n",
       "METER_MATCH_IP                  4244\n",
       "INSTALLATIONNUMBER              4244\n",
       "METER_MATCH_STATUS              4244\n",
       "METER_MATCH_UTILITY             4244\n",
       "IMSI_MATCHED_METER_NO           4244\n",
       "IMSI_MATCHED_IP                 4244\n",
       "IMSI_MATCHED_STATUS             4244\n",
       "IMSI_MATCHED_UTILITY            4244\n",
       "IP_MATCHED_METER_NO             4244\n",
       "IP_MATCH_UDC_ID                 4244\n",
       "IP_MATCHED_IP                   4244\n",
       "IP_MATCHED_STATUS               4244\n",
       "IP_MATCHED_UTILITY              4244\n",
       "SIM SET CHECK STATUS            4244\n",
       "METER_SIM                       4244\n",
       "METER_ORG                       4244\n",
       "SIM_ORG                         4244\n",
       "METER_IP                        4244\n",
       "SIM SET CHECK STATUS RECHECK    4244\n",
       "ACTION TAKEN                    4244\n",
       "dtype: int64"
      ]
     },
     "execution_count": 99,
     "metadata": {},
     "output_type": "execute_result"
    }
   ],
   "source": [
    "warehouse_meter_imsi_data[warehouse_meter_imsi_data['IMSI_MATCHED_METER_NO']!='nan'].count()"
   ]
  },
  {
   "cell_type": "code",
   "execution_count": 100,
   "metadata": {},
   "outputs": [
    {
     "data": {
      "text/html": [
       "<div>\n",
       "<style scoped>\n",
       "    .dataframe tbody tr th:only-of-type {\n",
       "        vertical-align: middle;\n",
       "    }\n",
       "\n",
       "    .dataframe tbody tr th {\n",
       "        vertical-align: top;\n",
       "    }\n",
       "\n",
       "    .dataframe thead th {\n",
       "        text-align: right;\n",
       "    }\n",
       "</style>\n",
       "<table border=\"1\" class=\"dataframe\">\n",
       "  <thead>\n",
       "    <tr style=\"text-align: right;\">\n",
       "      <th></th>\n",
       "      <th>UNNAMED: 0</th>\n",
       "      <th>METER NO.</th>\n",
       "      <th>PHASE</th>\n",
       "      <th>WAREHOUSE_UTILITY</th>\n",
       "      <th>IME</th>\n",
       "      <th>FINAL SIM</th>\n",
       "      <th>IMSI</th>\n",
       "      <th>IP</th>\n",
       "      <th>MFG_SERIAL_NUM</th>\n",
       "      <th>METER_MATCH_UDC_ID</th>\n",
       "      <th>METER_MATCH_IP</th>\n",
       "      <th>INSTALLATIONNUMBER</th>\n",
       "      <th>METER_MATCH_STATUS</th>\n",
       "      <th>METER_MATCH_UTILITY</th>\n",
       "      <th>IMSI_MATCHED_METER_NO</th>\n",
       "      <th>IMSI_MATCHED_IP</th>\n",
       "      <th>IMSI_MATCHED_STATUS</th>\n",
       "      <th>IMSI_MATCHED_UTILITY</th>\n",
       "      <th>IP_MATCHED_METER_NO</th>\n",
       "      <th>IP_MATCH_UDC_ID</th>\n",
       "      <th>IP_MATCHED_IP</th>\n",
       "      <th>IP_MATCHED_STATUS</th>\n",
       "      <th>IP_MATCHED_UTILITY</th>\n",
       "      <th>SIM SET CHECK STATUS</th>\n",
       "      <th>METER_SIM</th>\n",
       "      <th>METER_ORG</th>\n",
       "      <th>SIM_ORG</th>\n",
       "      <th>METER_IP</th>\n",
       "      <th>SIM SET CHECK STATUS RECHECK</th>\n",
       "      <th>ACTION TAKEN</th>\n",
       "    </tr>\n",
       "  </thead>\n",
       "  <tbody>\n",
       "    <tr>\n",
       "      <th>0</th>\n",
       "      <td>4</td>\n",
       "      <td>LT0509672</td>\n",
       "      <td>1 Phase</td>\n",
       "      <td>NBPDCL</td>\n",
       "      <td>865575064710895</td>\n",
       "      <td>8991856040706026298</td>\n",
       "      <td>405856706571320</td>\n",
       "      <td>2405:0203:0527:83A9:0000:0000:0000:0010</td>\n",
       "      <td>LT0509672</td>\n",
       "      <td>nan</td>\n",
       "      <td>nan</td>\n",
       "      <td>5001532140</td>\n",
       "      <td>Meter Shop</td>\n",
       "      <td>NBPDCL</td>\n",
       "      <td>LT0522486</td>\n",
       "      <td>2405:0203:0527:83A9:0000:0000:0000:0010</td>\n",
       "      <td>Installed</td>\n",
       "      <td>NBPDCL</td>\n",
       "      <td>LT0522486</td>\n",
       "      <td>405856706571320</td>\n",
       "      <td>2405:0203:0527:83A9:0000:0000:0000:0010</td>\n",
       "      <td>Installed</td>\n",
       "      <td>NBPDCL</td>\n",
       "      <td>DIFFERENT SET IN SAME UTILITY</td>\n",
       "      <td>False</td>\n",
       "      <td>True</td>\n",
       "      <td>True</td>\n",
       "      <td>False</td>\n",
       "      <td>DIFFERENT SET IN SAME UTILITY</td>\n",
       "      <td>IMSI IS IN INSTALLED STAGE</td>\n",
       "    </tr>\n",
       "    <tr>\n",
       "      <th>1</th>\n",
       "      <td>4</td>\n",
       "      <td>LT0509672</td>\n",
       "      <td>1 Phase</td>\n",
       "      <td>NBPDCL</td>\n",
       "      <td>865575064710895</td>\n",
       "      <td>8991856040706026298</td>\n",
       "      <td>405856706571320</td>\n",
       "      <td>2405:0203:0527:83A9:0000:0000:0000:0010</td>\n",
       "      <td>LT0509672</td>\n",
       "      <td>nan</td>\n",
       "      <td>nan</td>\n",
       "      <td>nan</td>\n",
       "      <td>Meter Shop</td>\n",
       "      <td>NBPDCL</td>\n",
       "      <td>LT0522486</td>\n",
       "      <td>2405:0203:0527:83A9:0000:0000:0000:0010</td>\n",
       "      <td>Installed</td>\n",
       "      <td>NBPDCL</td>\n",
       "      <td>LT0522486</td>\n",
       "      <td>405856706571320</td>\n",
       "      <td>2405:0203:0527:83A9:0000:0000:0000:0010</td>\n",
       "      <td>Installed</td>\n",
       "      <td>NBPDCL</td>\n",
       "      <td>DIFFERENT SET IN SAME UTILITY</td>\n",
       "      <td>False</td>\n",
       "      <td>True</td>\n",
       "      <td>True</td>\n",
       "      <td>False</td>\n",
       "      <td>DIFFERENT SET IN SAME UTILITY</td>\n",
       "      <td>IMSI IS IN INSTALLED STAGE</td>\n",
       "    </tr>\n",
       "  </tbody>\n",
       "</table>\n",
       "</div>"
      ],
      "text/plain": [
       "  UNNAMED: 0  METER NO.    PHASE WAREHOUSE_UTILITY              IME  \\\n",
       "0          4  LT0509672  1 Phase            NBPDCL  865575064710895   \n",
       "1          4  LT0509672  1 Phase            NBPDCL  865575064710895   \n",
       "\n",
       "             FINAL SIM             IMSI  \\\n",
       "0  8991856040706026298  405856706571320   \n",
       "1  8991856040706026298  405856706571320   \n",
       "\n",
       "                                        IP MFG_SERIAL_NUM METER_MATCH_UDC_ID  \\\n",
       "0  2405:0203:0527:83A9:0000:0000:0000:0010      LT0509672                nan   \n",
       "1  2405:0203:0527:83A9:0000:0000:0000:0010      LT0509672                nan   \n",
       "\n",
       "  METER_MATCH_IP INSTALLATIONNUMBER METER_MATCH_STATUS METER_MATCH_UTILITY  \\\n",
       "0            nan         5001532140         Meter Shop              NBPDCL   \n",
       "1            nan                nan         Meter Shop              NBPDCL   \n",
       "\n",
       "  IMSI_MATCHED_METER_NO                          IMSI_MATCHED_IP  \\\n",
       "0             LT0522486  2405:0203:0527:83A9:0000:0000:0000:0010   \n",
       "1             LT0522486  2405:0203:0527:83A9:0000:0000:0000:0010   \n",
       "\n",
       "  IMSI_MATCHED_STATUS IMSI_MATCHED_UTILITY IP_MATCHED_METER_NO  \\\n",
       "0           Installed               NBPDCL           LT0522486   \n",
       "1           Installed               NBPDCL           LT0522486   \n",
       "\n",
       "   IP_MATCH_UDC_ID                            IP_MATCHED_IP IP_MATCHED_STATUS  \\\n",
       "0  405856706571320  2405:0203:0527:83A9:0000:0000:0000:0010         Installed   \n",
       "1  405856706571320  2405:0203:0527:83A9:0000:0000:0000:0010         Installed   \n",
       "\n",
       "  IP_MATCHED_UTILITY           SIM SET CHECK STATUS  METER_SIM  METER_ORG  \\\n",
       "0             NBPDCL  DIFFERENT SET IN SAME UTILITY      False       True   \n",
       "1             NBPDCL  DIFFERENT SET IN SAME UTILITY      False       True   \n",
       "\n",
       "   SIM_ORG  METER_IP   SIM SET CHECK STATUS RECHECK  \\\n",
       "0     True     False  DIFFERENT SET IN SAME UTILITY   \n",
       "1     True     False  DIFFERENT SET IN SAME UTILITY   \n",
       "\n",
       "                 ACTION TAKEN  \n",
       "0  IMSI IS IN INSTALLED STAGE  \n",
       "1  IMSI IS IN INSTALLED STAGE  "
      ]
     },
     "execution_count": 100,
     "metadata": {},
     "output_type": "execute_result"
    }
   ],
   "source": [
    "warehouse_meter_imsi_data.head(2)"
   ]
  },
  {
   "cell_type": "markdown",
   "metadata": {},
   "source": [
    "# Finally done"
   ]
  },
  {
   "cell_type": "code",
   "execution_count": 101,
   "metadata": {},
   "outputs": [
    {
     "data": {
      "text/html": [
       "<div>\n",
       "<style scoped>\n",
       "    .dataframe tbody tr th:only-of-type {\n",
       "        vertical-align: middle;\n",
       "    }\n",
       "\n",
       "    .dataframe tbody tr th {\n",
       "        vertical-align: top;\n",
       "    }\n",
       "\n",
       "    .dataframe thead th {\n",
       "        text-align: right;\n",
       "    }\n",
       "</style>\n",
       "<table border=\"1\" class=\"dataframe\">\n",
       "  <thead>\n",
       "    <tr style=\"text-align: right;\">\n",
       "      <th></th>\n",
       "      <th>UNNAMED: 0</th>\n",
       "      <th>METER NO.</th>\n",
       "      <th>PHASE</th>\n",
       "      <th>WAREHOUSE_UTILITY</th>\n",
       "      <th>IME</th>\n",
       "      <th>FINAL SIM</th>\n",
       "      <th>IMSI</th>\n",
       "      <th>IP</th>\n",
       "      <th>MFG_SERIAL_NUM</th>\n",
       "      <th>METER_MATCH_UDC_ID</th>\n",
       "      <th>METER_MATCH_IP</th>\n",
       "      <th>INSTALLATIONNUMBER</th>\n",
       "      <th>METER_MATCH_STATUS</th>\n",
       "      <th>METER_MATCH_UTILITY</th>\n",
       "      <th>IMSI_MATCHED_METER_NO</th>\n",
       "      <th>IMSI_MATCHED_IP</th>\n",
       "      <th>IMSI_MATCHED_STATUS</th>\n",
       "      <th>IMSI_MATCHED_UTILITY</th>\n",
       "      <th>IP_MATCHED_METER_NO</th>\n",
       "      <th>IP_MATCH_UDC_ID</th>\n",
       "      <th>IP_MATCHED_IP</th>\n",
       "      <th>IP_MATCHED_STATUS</th>\n",
       "      <th>IP_MATCHED_UTILITY</th>\n",
       "      <th>SIM SET CHECK STATUS</th>\n",
       "      <th>METER_SIM</th>\n",
       "      <th>METER_ORG</th>\n",
       "      <th>SIM_ORG</th>\n",
       "      <th>METER_IP</th>\n",
       "      <th>SIM SET CHECK STATUS RECHECK</th>\n",
       "      <th>ACTION TAKEN</th>\n",
       "    </tr>\n",
       "  </thead>\n",
       "  <tbody>\n",
       "    <tr>\n",
       "      <th>0</th>\n",
       "      <td>4</td>\n",
       "      <td>LT0509672</td>\n",
       "      <td>1 Phase</td>\n",
       "      <td>NBPDCL</td>\n",
       "      <td>865575064710895</td>\n",
       "      <td>8991856040706026298</td>\n",
       "      <td>405856706571320</td>\n",
       "      <td>2405:0203:0527:83A9:0000:0000:0000:0010</td>\n",
       "      <td>LT0509672</td>\n",
       "      <td>nan</td>\n",
       "      <td>nan</td>\n",
       "      <td>5001532140</td>\n",
       "      <td>Meter Shop</td>\n",
       "      <td>NBPDCL</td>\n",
       "      <td>LT0522486</td>\n",
       "      <td>2405:0203:0527:83A9:0000:0000:0000:0010</td>\n",
       "      <td>Installed</td>\n",
       "      <td>NBPDCL</td>\n",
       "      <td>LT0522486</td>\n",
       "      <td>405856706571320</td>\n",
       "      <td>2405:0203:0527:83A9:0000:0000:0000:0010</td>\n",
       "      <td>Installed</td>\n",
       "      <td>NBPDCL</td>\n",
       "      <td>DIFFERENT SET IN SAME UTILITY</td>\n",
       "      <td>False</td>\n",
       "      <td>True</td>\n",
       "      <td>True</td>\n",
       "      <td>False</td>\n",
       "      <td>DIFFERENT SET IN SAME UTILITY</td>\n",
       "      <td>IMSI IS IN INSTALLED STAGE</td>\n",
       "    </tr>\n",
       "  </tbody>\n",
       "</table>\n",
       "</div>"
      ],
      "text/plain": [
       "  UNNAMED: 0  METER NO.    PHASE WAREHOUSE_UTILITY              IME  \\\n",
       "0          4  LT0509672  1 Phase            NBPDCL  865575064710895   \n",
       "\n",
       "             FINAL SIM             IMSI  \\\n",
       "0  8991856040706026298  405856706571320   \n",
       "\n",
       "                                        IP MFG_SERIAL_NUM METER_MATCH_UDC_ID  \\\n",
       "0  2405:0203:0527:83A9:0000:0000:0000:0010      LT0509672                nan   \n",
       "\n",
       "  METER_MATCH_IP INSTALLATIONNUMBER METER_MATCH_STATUS METER_MATCH_UTILITY  \\\n",
       "0            nan         5001532140         Meter Shop              NBPDCL   \n",
       "\n",
       "  IMSI_MATCHED_METER_NO                          IMSI_MATCHED_IP  \\\n",
       "0             LT0522486  2405:0203:0527:83A9:0000:0000:0000:0010   \n",
       "\n",
       "  IMSI_MATCHED_STATUS IMSI_MATCHED_UTILITY IP_MATCHED_METER_NO  \\\n",
       "0           Installed               NBPDCL           LT0522486   \n",
       "\n",
       "   IP_MATCH_UDC_ID                            IP_MATCHED_IP IP_MATCHED_STATUS  \\\n",
       "0  405856706571320  2405:0203:0527:83A9:0000:0000:0000:0010         Installed   \n",
       "\n",
       "  IP_MATCHED_UTILITY           SIM SET CHECK STATUS  METER_SIM  METER_ORG  \\\n",
       "0             NBPDCL  DIFFERENT SET IN SAME UTILITY      False       True   \n",
       "\n",
       "   SIM_ORG  METER_IP   SIM SET CHECK STATUS RECHECK  \\\n",
       "0     True     False  DIFFERENT SET IN SAME UTILITY   \n",
       "\n",
       "                 ACTION TAKEN  \n",
       "0  IMSI IS IN INSTALLED STAGE  "
      ]
     },
     "execution_count": 101,
     "metadata": {},
     "output_type": "execute_result"
    }
   ],
   "source": [
    "warehouse_meter_imsi_data.head(1)"
   ]
  },
  {
   "cell_type": "code",
   "execution_count": 102,
   "metadata": {},
   "outputs": [],
   "source": [
    "\n",
    "# Custom function to update meter numbers\n",
    "def update_meter_number(meter_number):\n",
    "    if meter_number.startswith('GP') or meter_number.startswith('GL'):\n",
    "        return 'GOE' + meter_number\n",
    "    elif meter_number.startswith('LT'):\n",
    "        return 'LNT' + meter_number\n",
    "    else:\n",
    "        return meter_number\n",
    "\n",
    "# Apply the custom function to each element in the 'METER NO.' column\n",
    "warehouse_meter_imsi_data['NEW_METER_NUMBER'] = warehouse_meter_imsi_data['METER NO.'].apply(update_meter_number)\n",
    "\n",
    "\n"
   ]
  },
  {
   "cell_type": "code",
   "execution_count": 103,
   "metadata": {},
   "outputs": [],
   "source": [
    "# adding duplicate and unique in data set \n",
    "\n",
    "warehouse_meter_imsi_data['Duplicated'] = warehouse_meter_imsi_data.duplicated(subset=['METER NO.']).map({True: 'Duplicated', False: 'Unique'})"
   ]
  },
  {
   "cell_type": "code",
   "execution_count": null,
   "metadata": {},
   "outputs": [],
   "source": []
  },
  {
   "cell_type": "markdown",
   "metadata": {},
   "source": [
    "# FINAL FILE SAVE AT MULTIPLE LOCATION"
   ]
  },
  {
   "cell_type": "code",
   "execution_count": 104,
   "metadata": {},
   "outputs": [],
   "source": [
    "# Final file at desktop folder\n",
    "\n",
    "warehouse_meter_imsi_data.to_csv(r'C:\\Users\\Ratan Kumar Jha\\Desktop\\METER_IMPORTATION_FOLDER\\OUTPUT_DATA_FILE\\warehouse_Data_meter_sim_final.csv',index=False)\n",
    "\n",
    "\n",
    "# Final file in code folder\n",
    "\n",
    "warehouse_meter_imsi_data.to_csv(r\"C:\\PYTHON\\EDF_CODE_AUTOMATION_PYTHON\\METER_MATCHING_DATA\\warehouse_Data_meter_sim_final.csv\",index=False)"
   ]
  },
  {
   "cell_type": "code",
   "execution_count": 105,
   "metadata": {},
   "outputs": [],
   "source": [
    "warehouse_meter_imsi_data_check=pd.read_csv(r\"C:\\PYTHON\\EDF_CODE_AUTOMATION_PYTHON\\METER_MATCHING_DATA\\warehouse_Data_meter_sim_final.csv\")"
   ]
  },
  {
   "cell_type": "code",
   "execution_count": 106,
   "metadata": {},
   "outputs": [],
   "source": [
    "# Convert all columns to string data type\n",
    "\n",
    "# change into str\n",
    "warehouse_meter_imsi_data_check = warehouse_meter_imsi_data_check.astype(str)\n",
    "\n",
    "# ----------------------------------------------------------------------------------\n",
    "\n",
    "# change into upper\n",
    "warehouse_meter_imsi_data_check.columns = warehouse_meter_imsi_data_check.columns.str.upper()\n",
    "\n",
    "# ----------------------------------------------------------------------------------\n",
    "\n",
    "# Remove leading and trailing whitespaces from all columns where dtype is 'O'\n",
    "warehouse_meter_imsi_data_check = warehouse_meter_imsi_data_check.apply(lambda x: x.str.strip() if x.dtype == 'O' else x)"
   ]
  },
  {
   "cell_type": "code",
   "execution_count": null,
   "metadata": {},
   "outputs": [],
   "source": []
  },
  {
   "cell_type": "markdown",
   "metadata": {},
   "source": [
    "# NEED TO CHECK FILE"
   ]
  },
  {
   "cell_type": "code",
   "execution_count": 107,
   "metadata": {},
   "outputs": [],
   "source": [
    "NEED_TO_CHECK_FILE_WAREHOUSE_METER_SIM = warehouse_meter_imsi_data_check[warehouse_meter_imsi_data_check['ACTION TAKEN']==' NEED TO CHECK THIS FILE']"
   ]
  },
  {
   "cell_type": "code",
   "execution_count": 108,
   "metadata": {},
   "outputs": [],
   "source": [
    "NEED_TO_CHECK_FILE_WAREHOUSE_METER_SIM.to_csv(r\"C:\\PYTHON\\EDF_CODE_AUTOMATION_PYTHON\\METER_MATCHING_DATA\\NEED_TO_CHECK_THIS_FILE_WAREHOUSE_METER_SIM.csv\",index=False)\n",
    "NEED_TO_CHECK_FILE_WAREHOUSE_METER_SIM.to_csv(r'C:\\Users\\Ratan Kumar Jha\\Desktop\\METER_IMPORTATION_FOLDER\\OUTPUT_DATA_FILE\\NEED_TO_CHECK_THIS_FILE_WAREHOUSE_METER_SIM.csv',index=False)\n",
    "\n"
   ]
  },
  {
   "cell_type": "code",
   "execution_count": 109,
   "metadata": {},
   "outputs": [],
   "source": [
    "NEED_TO_CHECK_FILE_WAREHOUSE_METER_SIM_CSV = pd.read_csv(r\"C:\\PYTHON\\EDF_CODE_AUTOMATION_PYTHON\\METER_MATCHING_DATA\\NEED_TO_CHECK_THIS_FILE_WAREHOUSE_METER_SIM.csv\")"
   ]
  },
  {
   "cell_type": "code",
   "execution_count": 110,
   "metadata": {},
   "outputs": [
    {
     "data": {
      "text/html": [
       "<div>\n",
       "<style scoped>\n",
       "    .dataframe tbody tr th:only-of-type {\n",
       "        vertical-align: middle;\n",
       "    }\n",
       "\n",
       "    .dataframe tbody tr th {\n",
       "        vertical-align: top;\n",
       "    }\n",
       "\n",
       "    .dataframe thead th {\n",
       "        text-align: right;\n",
       "    }\n",
       "</style>\n",
       "<table border=\"1\" class=\"dataframe\">\n",
       "  <thead>\n",
       "    <tr style=\"text-align: right;\">\n",
       "      <th></th>\n",
       "      <th>UNNAMED: 0</th>\n",
       "      <th>METER NO.</th>\n",
       "      <th>PHASE</th>\n",
       "      <th>WAREHOUSE_UTILITY</th>\n",
       "      <th>IME</th>\n",
       "      <th>FINAL SIM</th>\n",
       "      <th>IMSI</th>\n",
       "      <th>IP</th>\n",
       "      <th>MFG_SERIAL_NUM</th>\n",
       "      <th>METER_MATCH_UDC_ID</th>\n",
       "      <th>METER_MATCH_IP</th>\n",
       "      <th>INSTALLATIONNUMBER</th>\n",
       "      <th>METER_MATCH_STATUS</th>\n",
       "      <th>METER_MATCH_UTILITY</th>\n",
       "      <th>IMSI_MATCHED_METER_NO</th>\n",
       "      <th>IMSI_MATCHED_IP</th>\n",
       "      <th>IMSI_MATCHED_STATUS</th>\n",
       "      <th>IMSI_MATCHED_UTILITY</th>\n",
       "      <th>IP_MATCHED_METER_NO</th>\n",
       "      <th>IP_MATCH_UDC_ID</th>\n",
       "      <th>IP_MATCHED_IP</th>\n",
       "      <th>IP_MATCHED_STATUS</th>\n",
       "      <th>IP_MATCHED_UTILITY</th>\n",
       "      <th>SIM SET CHECK STATUS</th>\n",
       "      <th>METER_SIM</th>\n",
       "      <th>METER_ORG</th>\n",
       "      <th>SIM_ORG</th>\n",
       "      <th>METER_IP</th>\n",
       "      <th>SIM SET CHECK STATUS RECHECK</th>\n",
       "      <th>ACTION TAKEN</th>\n",
       "      <th>NEW_METER_NUMBER</th>\n",
       "      <th>DUPLICATED</th>\n",
       "    </tr>\n",
       "  </thead>\n",
       "  <tbody>\n",
       "  </tbody>\n",
       "</table>\n",
       "</div>"
      ],
      "text/plain": [
       "Empty DataFrame\n",
       "Columns: [UNNAMED: 0, METER NO., PHASE, WAREHOUSE_UTILITY, IME, FINAL SIM, IMSI, IP, MFG_SERIAL_NUM, METER_MATCH_UDC_ID, METER_MATCH_IP, INSTALLATIONNUMBER, METER_MATCH_STATUS, METER_MATCH_UTILITY, IMSI_MATCHED_METER_NO, IMSI_MATCHED_IP, IMSI_MATCHED_STATUS, IMSI_MATCHED_UTILITY, IP_MATCHED_METER_NO, IP_MATCH_UDC_ID, IP_MATCHED_IP, IP_MATCHED_STATUS, IP_MATCHED_UTILITY, SIM SET CHECK STATUS, METER_SIM, METER_ORG, SIM_ORG, METER_IP, SIM SET CHECK STATUS RECHECK, ACTION TAKEN, NEW_METER_NUMBER, DUPLICATED]\n",
       "Index: []"
      ]
     },
     "execution_count": 110,
     "metadata": {},
     "output_type": "execute_result"
    }
   ],
   "source": [
    "NEED_TO_CHECK_FILE_WAREHOUSE_METER_SIM_CSV.head()"
   ]
  },
  {
   "cell_type": "code",
   "execution_count": null,
   "metadata": {},
   "outputs": [],
   "source": []
  },
  {
   "cell_type": "code",
   "execution_count": 111,
   "metadata": {},
   "outputs": [
    {
     "data": {
      "text/html": [
       "<div>\n",
       "<style scoped>\n",
       "    .dataframe tbody tr th:only-of-type {\n",
       "        vertical-align: middle;\n",
       "    }\n",
       "\n",
       "    .dataframe tbody tr th {\n",
       "        vertical-align: top;\n",
       "    }\n",
       "\n",
       "    .dataframe thead th {\n",
       "        text-align: right;\n",
       "    }\n",
       "</style>\n",
       "<table border=\"1\" class=\"dataframe\">\n",
       "  <thead>\n",
       "    <tr style=\"text-align: right;\">\n",
       "      <th></th>\n",
       "      <th>UNNAMED: 0</th>\n",
       "      <th>METER NO.</th>\n",
       "      <th>PHASE</th>\n",
       "      <th>WAREHOUSE_UTILITY</th>\n",
       "      <th>IME</th>\n",
       "      <th>FINAL SIM</th>\n",
       "      <th>IMSI</th>\n",
       "      <th>IP</th>\n",
       "      <th>MFG_SERIAL_NUM</th>\n",
       "      <th>METER_MATCH_UDC_ID</th>\n",
       "      <th>METER_MATCH_IP</th>\n",
       "      <th>INSTALLATIONNUMBER</th>\n",
       "      <th>METER_MATCH_STATUS</th>\n",
       "      <th>METER_MATCH_UTILITY</th>\n",
       "      <th>IMSI_MATCHED_METER_NO</th>\n",
       "      <th>IMSI_MATCHED_IP</th>\n",
       "      <th>IMSI_MATCHED_STATUS</th>\n",
       "      <th>IMSI_MATCHED_UTILITY</th>\n",
       "      <th>IP_MATCHED_METER_NO</th>\n",
       "      <th>IP_MATCH_UDC_ID</th>\n",
       "      <th>IP_MATCHED_IP</th>\n",
       "      <th>IP_MATCHED_STATUS</th>\n",
       "      <th>IP_MATCHED_UTILITY</th>\n",
       "      <th>SIM SET CHECK STATUS</th>\n",
       "      <th>METER_SIM</th>\n",
       "      <th>METER_ORG</th>\n",
       "      <th>SIM_ORG</th>\n",
       "      <th>METER_IP</th>\n",
       "      <th>SIM SET CHECK STATUS RECHECK</th>\n",
       "      <th>ACTION TAKEN</th>\n",
       "      <th>NEW_METER_NUMBER</th>\n",
       "      <th>DUPLICATED</th>\n",
       "    </tr>\n",
       "  </thead>\n",
       "  <tbody>\n",
       "  </tbody>\n",
       "</table>\n",
       "</div>"
      ],
      "text/plain": [
       "Empty DataFrame\n",
       "Columns: [UNNAMED: 0, METER NO., PHASE, WAREHOUSE_UTILITY, IME, FINAL SIM, IMSI, IP, MFG_SERIAL_NUM, METER_MATCH_UDC_ID, METER_MATCH_IP, INSTALLATIONNUMBER, METER_MATCH_STATUS, METER_MATCH_UTILITY, IMSI_MATCHED_METER_NO, IMSI_MATCHED_IP, IMSI_MATCHED_STATUS, IMSI_MATCHED_UTILITY, IP_MATCHED_METER_NO, IP_MATCH_UDC_ID, IP_MATCHED_IP, IP_MATCHED_STATUS, IP_MATCHED_UTILITY, SIM SET CHECK STATUS, METER_SIM, METER_ORG, SIM_ORG, METER_IP, SIM SET CHECK STATUS RECHECK, ACTION TAKEN, NEW_METER_NUMBER, DUPLICATED]\n",
       "Index: []"
      ]
     },
     "execution_count": 111,
     "metadata": {},
     "output_type": "execute_result"
    }
   ],
   "source": [
    "warehouse_meter_imsi_data_check[warehouse_meter_imsi_data_check['ACTION TAKEN'].isnull()]"
   ]
  },
  {
   "cell_type": "code",
   "execution_count": 112,
   "metadata": {},
   "outputs": [
    {
     "data": {
      "text/html": [
       "<div>\n",
       "<style scoped>\n",
       "    .dataframe tbody tr th:only-of-type {\n",
       "        vertical-align: middle;\n",
       "    }\n",
       "\n",
       "    .dataframe tbody tr th {\n",
       "        vertical-align: top;\n",
       "    }\n",
       "\n",
       "    .dataframe thead th {\n",
       "        text-align: right;\n",
       "    }\n",
       "</style>\n",
       "<table border=\"1\" class=\"dataframe\">\n",
       "  <thead>\n",
       "    <tr style=\"text-align: right;\">\n",
       "      <th></th>\n",
       "      <th>UNNAMED: 0</th>\n",
       "      <th>METER NO.</th>\n",
       "      <th>PHASE</th>\n",
       "      <th>WAREHOUSE_UTILITY</th>\n",
       "      <th>IME</th>\n",
       "      <th>FINAL SIM</th>\n",
       "      <th>IMSI</th>\n",
       "      <th>IP</th>\n",
       "      <th>MFG_SERIAL_NUM</th>\n",
       "      <th>METER_MATCH_UDC_ID</th>\n",
       "      <th>METER_MATCH_IP</th>\n",
       "      <th>INSTALLATIONNUMBER</th>\n",
       "      <th>METER_MATCH_STATUS</th>\n",
       "      <th>METER_MATCH_UTILITY</th>\n",
       "      <th>IMSI_MATCHED_METER_NO</th>\n",
       "      <th>IMSI_MATCHED_IP</th>\n",
       "      <th>IMSI_MATCHED_STATUS</th>\n",
       "      <th>IMSI_MATCHED_UTILITY</th>\n",
       "      <th>IP_MATCHED_METER_NO</th>\n",
       "      <th>IP_MATCH_UDC_ID</th>\n",
       "      <th>IP_MATCHED_IP</th>\n",
       "      <th>IP_MATCHED_STATUS</th>\n",
       "      <th>IP_MATCHED_UTILITY</th>\n",
       "      <th>SIM SET CHECK STATUS</th>\n",
       "      <th>METER_SIM</th>\n",
       "      <th>METER_ORG</th>\n",
       "      <th>SIM_ORG</th>\n",
       "      <th>METER_IP</th>\n",
       "      <th>SIM SET CHECK STATUS RECHECK</th>\n",
       "      <th>ACTION TAKEN</th>\n",
       "      <th>NEW_METER_NUMBER</th>\n",
       "      <th>DUPLICATED</th>\n",
       "    </tr>\n",
       "  </thead>\n",
       "  <tbody>\n",
       "    <tr>\n",
       "      <th>0</th>\n",
       "      <td>4</td>\n",
       "      <td>LT0509672</td>\n",
       "      <td>1 Phase</td>\n",
       "      <td>NBPDCL</td>\n",
       "      <td>865575064710895</td>\n",
       "      <td>8991856040706026298</td>\n",
       "      <td>405856706571320</td>\n",
       "      <td>2405:0203:0527:83A9:0000:0000:0000:0010</td>\n",
       "      <td>LT0509672</td>\n",
       "      <td>nan</td>\n",
       "      <td>nan</td>\n",
       "      <td>5001532140</td>\n",
       "      <td>Meter Shop</td>\n",
       "      <td>NBPDCL</td>\n",
       "      <td>LT0522486</td>\n",
       "      <td>2405:0203:0527:83A9:0000:0000:0000:0010</td>\n",
       "      <td>Installed</td>\n",
       "      <td>NBPDCL</td>\n",
       "      <td>LT0522486</td>\n",
       "      <td>405856706571320</td>\n",
       "      <td>2405:0203:0527:83A9:0000:0000:0000:0010</td>\n",
       "      <td>Installed</td>\n",
       "      <td>NBPDCL</td>\n",
       "      <td>DIFFERENT SET IN SAME UTILITY</td>\n",
       "      <td>False</td>\n",
       "      <td>True</td>\n",
       "      <td>True</td>\n",
       "      <td>False</td>\n",
       "      <td>DIFFERENT SET IN SAME UTILITY</td>\n",
       "      <td>IMSI IS IN INSTALLED STAGE</td>\n",
       "      <td>LNTLT0509672</td>\n",
       "      <td>Unique</td>\n",
       "    </tr>\n",
       "    <tr>\n",
       "      <th>1</th>\n",
       "      <td>4</td>\n",
       "      <td>LT0509672</td>\n",
       "      <td>1 Phase</td>\n",
       "      <td>NBPDCL</td>\n",
       "      <td>865575064710895</td>\n",
       "      <td>8991856040706026298</td>\n",
       "      <td>405856706571320</td>\n",
       "      <td>2405:0203:0527:83A9:0000:0000:0000:0010</td>\n",
       "      <td>LT0509672</td>\n",
       "      <td>nan</td>\n",
       "      <td>nan</td>\n",
       "      <td>nan</td>\n",
       "      <td>Meter Shop</td>\n",
       "      <td>NBPDCL</td>\n",
       "      <td>LT0522486</td>\n",
       "      <td>2405:0203:0527:83A9:0000:0000:0000:0010</td>\n",
       "      <td>Installed</td>\n",
       "      <td>NBPDCL</td>\n",
       "      <td>LT0522486</td>\n",
       "      <td>405856706571320</td>\n",
       "      <td>2405:0203:0527:83A9:0000:0000:0000:0010</td>\n",
       "      <td>Installed</td>\n",
       "      <td>NBPDCL</td>\n",
       "      <td>DIFFERENT SET IN SAME UTILITY</td>\n",
       "      <td>False</td>\n",
       "      <td>True</td>\n",
       "      <td>True</td>\n",
       "      <td>False</td>\n",
       "      <td>DIFFERENT SET IN SAME UTILITY</td>\n",
       "      <td>IMSI IS IN INSTALLED STAGE</td>\n",
       "      <td>LNTLT0509672</td>\n",
       "      <td>Duplicated</td>\n",
       "    </tr>\n",
       "  </tbody>\n",
       "</table>\n",
       "</div>"
      ],
      "text/plain": [
       "  UNNAMED: 0  METER NO.    PHASE WAREHOUSE_UTILITY              IME  \\\n",
       "0          4  LT0509672  1 Phase            NBPDCL  865575064710895   \n",
       "1          4  LT0509672  1 Phase            NBPDCL  865575064710895   \n",
       "\n",
       "             FINAL SIM             IMSI  \\\n",
       "0  8991856040706026298  405856706571320   \n",
       "1  8991856040706026298  405856706571320   \n",
       "\n",
       "                                        IP MFG_SERIAL_NUM METER_MATCH_UDC_ID  \\\n",
       "0  2405:0203:0527:83A9:0000:0000:0000:0010      LT0509672                nan   \n",
       "1  2405:0203:0527:83A9:0000:0000:0000:0010      LT0509672                nan   \n",
       "\n",
       "  METER_MATCH_IP INSTALLATIONNUMBER METER_MATCH_STATUS METER_MATCH_UTILITY  \\\n",
       "0            nan         5001532140         Meter Shop              NBPDCL   \n",
       "1            nan                nan         Meter Shop              NBPDCL   \n",
       "\n",
       "  IMSI_MATCHED_METER_NO                          IMSI_MATCHED_IP  \\\n",
       "0             LT0522486  2405:0203:0527:83A9:0000:0000:0000:0010   \n",
       "1             LT0522486  2405:0203:0527:83A9:0000:0000:0000:0010   \n",
       "\n",
       "  IMSI_MATCHED_STATUS IMSI_MATCHED_UTILITY IP_MATCHED_METER_NO  \\\n",
       "0           Installed               NBPDCL           LT0522486   \n",
       "1           Installed               NBPDCL           LT0522486   \n",
       "\n",
       "   IP_MATCH_UDC_ID                            IP_MATCHED_IP IP_MATCHED_STATUS  \\\n",
       "0  405856706571320  2405:0203:0527:83A9:0000:0000:0000:0010         Installed   \n",
       "1  405856706571320  2405:0203:0527:83A9:0000:0000:0000:0010         Installed   \n",
       "\n",
       "  IP_MATCHED_UTILITY           SIM SET CHECK STATUS METER_SIM METER_ORG  \\\n",
       "0             NBPDCL  DIFFERENT SET IN SAME UTILITY     False      True   \n",
       "1             NBPDCL  DIFFERENT SET IN SAME UTILITY     False      True   \n",
       "\n",
       "  SIM_ORG METER_IP   SIM SET CHECK STATUS RECHECK                ACTION TAKEN  \\\n",
       "0    True    False  DIFFERENT SET IN SAME UTILITY  IMSI IS IN INSTALLED STAGE   \n",
       "1    True    False  DIFFERENT SET IN SAME UTILITY  IMSI IS IN INSTALLED STAGE   \n",
       "\n",
       "  NEW_METER_NUMBER  DUPLICATED  \n",
       "0     LNTLT0509672      Unique  \n",
       "1     LNTLT0509672  Duplicated  "
      ]
     },
     "execution_count": 112,
     "metadata": {},
     "output_type": "execute_result"
    }
   ],
   "source": [
    "warehouse_meter_imsi_data_check.head(2)\n"
   ]
  },
  {
   "cell_type": "code",
   "execution_count": 113,
   "metadata": {},
   "outputs": [
    {
     "data": {
      "text/plain": [
       "UNNAMED: 0                      4275\n",
       "METER NO.                       4275\n",
       "PHASE                           4275\n",
       "WAREHOUSE_UTILITY               4275\n",
       "IME                             4275\n",
       "FINAL SIM                       4275\n",
       "IMSI                            4275\n",
       "IP                              4275\n",
       "MFG_SERIAL_NUM                  4275\n",
       "METER_MATCH_UDC_ID              4275\n",
       "METER_MATCH_IP                  4275\n",
       "INSTALLATIONNUMBER              4275\n",
       "METER_MATCH_STATUS              4275\n",
       "METER_MATCH_UTILITY             4275\n",
       "IMSI_MATCHED_METER_NO           4275\n",
       "IMSI_MATCHED_IP                 4275\n",
       "IMSI_MATCHED_STATUS             4275\n",
       "IMSI_MATCHED_UTILITY            4275\n",
       "IP_MATCHED_METER_NO             4275\n",
       "IP_MATCH_UDC_ID                 4275\n",
       "IP_MATCHED_IP                   4275\n",
       "IP_MATCHED_STATUS               4275\n",
       "IP_MATCHED_UTILITY              4275\n",
       "SIM SET CHECK STATUS            4275\n",
       "METER_SIM                       4275\n",
       "METER_ORG                       4275\n",
       "SIM_ORG                         4275\n",
       "METER_IP                        4275\n",
       "SIM SET CHECK STATUS RECHECK    4275\n",
       "ACTION TAKEN                    4275\n",
       "NEW_METER_NUMBER                4275\n",
       "DUPLICATED                      4275\n",
       "dtype: int64"
      ]
     },
     "execution_count": 113,
     "metadata": {},
     "output_type": "execute_result"
    }
   ],
   "source": [
    "warehouse_meter_imsi_data_check[warehouse_meter_imsi_data_check['ACTION TAKEN'] != \"NEED TO CHECK THIS FILE\"].count()"
   ]
  },
  {
   "cell_type": "code",
   "execution_count": 114,
   "metadata": {},
   "outputs": [
    {
     "data": {
      "text/plain": [
       "array(['IMSI IS IN INSTALLED STAGE', 'SET IS IN INSTALLED STAGE',\n",
       "       'BOTH INSTALLED IN SAME UTILITY', 'METER IS IN INSTALLED STAGE',\n",
       "       'SIM AND METER-SIM LINK FILE REQUIRED',\n",
       "       'METER-SIM LINK FILE REQUIRED'], dtype=object)"
      ]
     },
     "execution_count": 114,
     "metadata": {},
     "output_type": "execute_result"
    }
   ],
   "source": [
    "warehouse_meter_imsi_data_check['ACTION TAKEN'].unique()"
   ]
  },
  {
   "cell_type": "code",
   "execution_count": 115,
   "metadata": {},
   "outputs": [
    {
     "data": {
      "text/html": [
       "<div>\n",
       "<style scoped>\n",
       "    .dataframe tbody tr th:only-of-type {\n",
       "        vertical-align: middle;\n",
       "    }\n",
       "\n",
       "    .dataframe tbody tr th {\n",
       "        vertical-align: top;\n",
       "    }\n",
       "\n",
       "    .dataframe thead th {\n",
       "        text-align: right;\n",
       "    }\n",
       "</style>\n",
       "<table border=\"1\" class=\"dataframe\">\n",
       "  <thead>\n",
       "    <tr style=\"text-align: right;\">\n",
       "      <th></th>\n",
       "      <th>UNNAMED: 0</th>\n",
       "      <th>METER NO.</th>\n",
       "      <th>PHASE</th>\n",
       "      <th>WAREHOUSE_UTILITY</th>\n",
       "      <th>IME</th>\n",
       "      <th>FINAL SIM</th>\n",
       "      <th>IMSI</th>\n",
       "      <th>IP</th>\n",
       "      <th>MFG_SERIAL_NUM</th>\n",
       "      <th>METER_MATCH_UDC_ID</th>\n",
       "      <th>METER_MATCH_IP</th>\n",
       "      <th>INSTALLATIONNUMBER</th>\n",
       "      <th>METER_MATCH_STATUS</th>\n",
       "      <th>METER_MATCH_UTILITY</th>\n",
       "      <th>IMSI_MATCHED_METER_NO</th>\n",
       "      <th>IMSI_MATCHED_IP</th>\n",
       "      <th>IMSI_MATCHED_STATUS</th>\n",
       "      <th>IMSI_MATCHED_UTILITY</th>\n",
       "      <th>IP_MATCHED_METER_NO</th>\n",
       "      <th>IP_MATCH_UDC_ID</th>\n",
       "      <th>IP_MATCHED_IP</th>\n",
       "      <th>IP_MATCHED_STATUS</th>\n",
       "      <th>IP_MATCHED_UTILITY</th>\n",
       "      <th>SIM SET CHECK STATUS</th>\n",
       "      <th>METER_SIM</th>\n",
       "      <th>METER_ORG</th>\n",
       "      <th>SIM_ORG</th>\n",
       "      <th>METER_IP</th>\n",
       "      <th>SIM SET CHECK STATUS RECHECK</th>\n",
       "      <th>ACTION TAKEN</th>\n",
       "      <th>NEW_METER_NUMBER</th>\n",
       "      <th>DUPLICATED</th>\n",
       "    </tr>\n",
       "  </thead>\n",
       "  <tbody>\n",
       "    <tr>\n",
       "      <th>0</th>\n",
       "      <td>4</td>\n",
       "      <td>LT0509672</td>\n",
       "      <td>1 Phase</td>\n",
       "      <td>NBPDCL</td>\n",
       "      <td>865575064710895</td>\n",
       "      <td>8991856040706026298</td>\n",
       "      <td>405856706571320</td>\n",
       "      <td>2405:0203:0527:83A9:0000:0000:0000:0010</td>\n",
       "      <td>LT0509672</td>\n",
       "      <td>nan</td>\n",
       "      <td>nan</td>\n",
       "      <td>5001532140</td>\n",
       "      <td>Meter Shop</td>\n",
       "      <td>NBPDCL</td>\n",
       "      <td>LT0522486</td>\n",
       "      <td>2405:0203:0527:83A9:0000:0000:0000:0010</td>\n",
       "      <td>Installed</td>\n",
       "      <td>NBPDCL</td>\n",
       "      <td>LT0522486</td>\n",
       "      <td>405856706571320</td>\n",
       "      <td>2405:0203:0527:83A9:0000:0000:0000:0010</td>\n",
       "      <td>Installed</td>\n",
       "      <td>NBPDCL</td>\n",
       "      <td>DIFFERENT SET IN SAME UTILITY</td>\n",
       "      <td>False</td>\n",
       "      <td>True</td>\n",
       "      <td>True</td>\n",
       "      <td>False</td>\n",
       "      <td>DIFFERENT SET IN SAME UTILITY</td>\n",
       "      <td>IMSI IS IN INSTALLED STAGE</td>\n",
       "      <td>LNTLT0509672</td>\n",
       "      <td>Unique</td>\n",
       "    </tr>\n",
       "    <tr>\n",
       "      <th>1</th>\n",
       "      <td>4</td>\n",
       "      <td>LT0509672</td>\n",
       "      <td>1 Phase</td>\n",
       "      <td>NBPDCL</td>\n",
       "      <td>865575064710895</td>\n",
       "      <td>8991856040706026298</td>\n",
       "      <td>405856706571320</td>\n",
       "      <td>2405:0203:0527:83A9:0000:0000:0000:0010</td>\n",
       "      <td>LT0509672</td>\n",
       "      <td>nan</td>\n",
       "      <td>nan</td>\n",
       "      <td>nan</td>\n",
       "      <td>Meter Shop</td>\n",
       "      <td>NBPDCL</td>\n",
       "      <td>LT0522486</td>\n",
       "      <td>2405:0203:0527:83A9:0000:0000:0000:0010</td>\n",
       "      <td>Installed</td>\n",
       "      <td>NBPDCL</td>\n",
       "      <td>LT0522486</td>\n",
       "      <td>405856706571320</td>\n",
       "      <td>2405:0203:0527:83A9:0000:0000:0000:0010</td>\n",
       "      <td>Installed</td>\n",
       "      <td>NBPDCL</td>\n",
       "      <td>DIFFERENT SET IN SAME UTILITY</td>\n",
       "      <td>False</td>\n",
       "      <td>True</td>\n",
       "      <td>True</td>\n",
       "      <td>False</td>\n",
       "      <td>DIFFERENT SET IN SAME UTILITY</td>\n",
       "      <td>IMSI IS IN INSTALLED STAGE</td>\n",
       "      <td>LNTLT0509672</td>\n",
       "      <td>Duplicated</td>\n",
       "    </tr>\n",
       "  </tbody>\n",
       "</table>\n",
       "</div>"
      ],
      "text/plain": [
       "  UNNAMED: 0  METER NO.    PHASE WAREHOUSE_UTILITY              IME  \\\n",
       "0          4  LT0509672  1 Phase            NBPDCL  865575064710895   \n",
       "1          4  LT0509672  1 Phase            NBPDCL  865575064710895   \n",
       "\n",
       "             FINAL SIM             IMSI  \\\n",
       "0  8991856040706026298  405856706571320   \n",
       "1  8991856040706026298  405856706571320   \n",
       "\n",
       "                                        IP MFG_SERIAL_NUM METER_MATCH_UDC_ID  \\\n",
       "0  2405:0203:0527:83A9:0000:0000:0000:0010      LT0509672                nan   \n",
       "1  2405:0203:0527:83A9:0000:0000:0000:0010      LT0509672                nan   \n",
       "\n",
       "  METER_MATCH_IP INSTALLATIONNUMBER METER_MATCH_STATUS METER_MATCH_UTILITY  \\\n",
       "0            nan         5001532140         Meter Shop              NBPDCL   \n",
       "1            nan                nan         Meter Shop              NBPDCL   \n",
       "\n",
       "  IMSI_MATCHED_METER_NO                          IMSI_MATCHED_IP  \\\n",
       "0             LT0522486  2405:0203:0527:83A9:0000:0000:0000:0010   \n",
       "1             LT0522486  2405:0203:0527:83A9:0000:0000:0000:0010   \n",
       "\n",
       "  IMSI_MATCHED_STATUS IMSI_MATCHED_UTILITY IP_MATCHED_METER_NO  \\\n",
       "0           Installed               NBPDCL           LT0522486   \n",
       "1           Installed               NBPDCL           LT0522486   \n",
       "\n",
       "   IP_MATCH_UDC_ID                            IP_MATCHED_IP IP_MATCHED_STATUS  \\\n",
       "0  405856706571320  2405:0203:0527:83A9:0000:0000:0000:0010         Installed   \n",
       "1  405856706571320  2405:0203:0527:83A9:0000:0000:0000:0010         Installed   \n",
       "\n",
       "  IP_MATCHED_UTILITY           SIM SET CHECK STATUS METER_SIM METER_ORG  \\\n",
       "0             NBPDCL  DIFFERENT SET IN SAME UTILITY     False      True   \n",
       "1             NBPDCL  DIFFERENT SET IN SAME UTILITY     False      True   \n",
       "\n",
       "  SIM_ORG METER_IP   SIM SET CHECK STATUS RECHECK                ACTION TAKEN  \\\n",
       "0    True    False  DIFFERENT SET IN SAME UTILITY  IMSI IS IN INSTALLED STAGE   \n",
       "1    True    False  DIFFERENT SET IN SAME UTILITY  IMSI IS IN INSTALLED STAGE   \n",
       "\n",
       "  NEW_METER_NUMBER  DUPLICATED  \n",
       "0     LNTLT0509672      Unique  \n",
       "1     LNTLT0509672  Duplicated  "
      ]
     },
     "execution_count": 115,
     "metadata": {},
     "output_type": "execute_result"
    }
   ],
   "source": [
    "warehouse_meter_imsi_data_check.head(2)"
   ]
  },
  {
   "cell_type": "code",
   "execution_count": 116,
   "metadata": {},
   "outputs": [
    {
     "data": {
      "text/plain": [
       "array(['IMSI IS IN INSTALLED STAGE', 'SET IS IN INSTALLED STAGE',\n",
       "       'BOTH INSTALLED IN SAME UTILITY', 'METER IS IN INSTALLED STAGE',\n",
       "       'SIM AND METER-SIM LINK FILE REQUIRED',\n",
       "       'METER-SIM LINK FILE REQUIRED'], dtype=object)"
      ]
     },
     "execution_count": 116,
     "metadata": {},
     "output_type": "execute_result"
    }
   ],
   "source": [
    "warehouse_meter_imsi_data_check['ACTION TAKEN'].unique()"
   ]
  },
  {
   "cell_type": "code",
   "execution_count": 117,
   "metadata": {},
   "outputs": [
    {
     "data": {
      "text/plain": [
       "array(['DIFFERENT SET IN SAME UTILITY', 'SAME SET IN SAME UTILITY',\n",
       "       'DIFFERENT SET IN DIFFERENT UTILITY',\n",
       "       'SAME SET IN DIFFERENT UTILITY'], dtype=object)"
      ]
     },
     "execution_count": 117,
     "metadata": {},
     "output_type": "execute_result"
    }
   ],
   "source": [
    "warehouse_meter_imsi_data_check['SIM SET CHECK STATUS RECHECK'].unique()"
   ]
  },
  {
   "cell_type": "code",
   "execution_count": 118,
   "metadata": {},
   "outputs": [
    {
     "data": {
      "text/plain": [
       "UNNAMED: 0                      31\n",
       "METER NO.                       31\n",
       "PHASE                           31\n",
       "WAREHOUSE_UTILITY               31\n",
       "IME                             31\n",
       "FINAL SIM                       31\n",
       "IMSI                            31\n",
       "IP                              31\n",
       "MFG_SERIAL_NUM                  31\n",
       "METER_MATCH_UDC_ID              31\n",
       "METER_MATCH_IP                  31\n",
       "INSTALLATIONNUMBER              31\n",
       "METER_MATCH_STATUS              31\n",
       "METER_MATCH_UTILITY             31\n",
       "IMSI_MATCHED_METER_NO           31\n",
       "IMSI_MATCHED_IP                 31\n",
       "IMSI_MATCHED_STATUS             31\n",
       "IMSI_MATCHED_UTILITY            31\n",
       "IP_MATCHED_METER_NO             31\n",
       "IP_MATCH_UDC_ID                 31\n",
       "IP_MATCHED_IP                   31\n",
       "IP_MATCHED_STATUS               31\n",
       "IP_MATCHED_UTILITY              31\n",
       "SIM SET CHECK STATUS            31\n",
       "METER_SIM                       31\n",
       "METER_ORG                       31\n",
       "SIM_ORG                         31\n",
       "METER_IP                        31\n",
       "SIM SET CHECK STATUS RECHECK    31\n",
       "ACTION TAKEN                    31\n",
       "NEW_METER_NUMBER                31\n",
       "DUPLICATED                      31\n",
       "dtype: int64"
      ]
     },
     "execution_count": 118,
     "metadata": {},
     "output_type": "execute_result"
    }
   ],
   "source": [
    "warehouse_meter_imsi_data_check[warehouse_meter_imsi_data_check['IMSI_MATCHED_METER_NO']==\"nan\"].count()"
   ]
  },
  {
   "cell_type": "code",
   "execution_count": 119,
   "metadata": {},
   "outputs": [
    {
     "data": {
      "text/plain": [
       "dtype('O')"
      ]
     },
     "execution_count": 119,
     "metadata": {},
     "output_type": "execute_result"
    }
   ],
   "source": [
    "warehouse_meter_imsi_data_check['METER_MATCH_UDC_ID'].dtype"
   ]
  },
  {
   "cell_type": "code",
   "execution_count": 120,
   "metadata": {},
   "outputs": [
    {
     "data": {
      "text/plain": [
       "array(['IMSI IS IN INSTALLED STAGE', 'SET IS IN INSTALLED STAGE',\n",
       "       'BOTH INSTALLED IN SAME UTILITY', 'METER IS IN INSTALLED STAGE',\n",
       "       'SIM AND METER-SIM LINK FILE REQUIRED',\n",
       "       'METER-SIM LINK FILE REQUIRED'], dtype=object)"
      ]
     },
     "execution_count": 120,
     "metadata": {},
     "output_type": "execute_result"
    }
   ],
   "source": [
    "warehouse_meter_imsi_data_check['ACTION TAKEN'].unique()"
   ]
  },
  {
   "cell_type": "code",
   "execution_count": 121,
   "metadata": {},
   "outputs": [
    {
     "data": {
      "text/plain": [
       "UNNAMED: 0                      0\n",
       "METER NO.                       0\n",
       "PHASE                           0\n",
       "WAREHOUSE_UTILITY               0\n",
       "IME                             0\n",
       "FINAL SIM                       0\n",
       "IMSI                            0\n",
       "IP                              0\n",
       "MFG_SERIAL_NUM                  0\n",
       "METER_MATCH_UDC_ID              0\n",
       "METER_MATCH_IP                  0\n",
       "INSTALLATIONNUMBER              0\n",
       "METER_MATCH_STATUS              0\n",
       "METER_MATCH_UTILITY             0\n",
       "IMSI_MATCHED_METER_NO           0\n",
       "IMSI_MATCHED_IP                 0\n",
       "IMSI_MATCHED_STATUS             0\n",
       "IMSI_MATCHED_UTILITY            0\n",
       "IP_MATCHED_METER_NO             0\n",
       "IP_MATCH_UDC_ID                 0\n",
       "IP_MATCHED_IP                   0\n",
       "IP_MATCHED_STATUS               0\n",
       "IP_MATCHED_UTILITY              0\n",
       "SIM SET CHECK STATUS            0\n",
       "METER_SIM                       0\n",
       "METER_ORG                       0\n",
       "SIM_ORG                         0\n",
       "METER_IP                        0\n",
       "SIM SET CHECK STATUS RECHECK    0\n",
       "ACTION TAKEN                    0\n",
       "NEW_METER_NUMBER                0\n",
       "DUPLICATED                      0\n",
       "dtype: int64"
      ]
     },
     "execution_count": 121,
     "metadata": {},
     "output_type": "execute_result"
    }
   ],
   "source": [
    "warehouse_meter_imsi_data_check[warehouse_meter_imsi_data_check['ACTION TAKEN']=='NEED TO CHECK THIS FILE'].count()"
   ]
  },
  {
   "cell_type": "code",
   "execution_count": null,
   "metadata": {},
   "outputs": [],
   "source": []
  },
  {
   "cell_type": "code",
   "execution_count": 122,
   "metadata": {},
   "outputs": [],
   "source": [
    "#assest_initiation_invent_sb[assest_initiation_invent_sb['UDC_ID']=='404751250008001']"
   ]
  },
  {
   "cell_type": "code",
   "execution_count": 123,
   "metadata": {},
   "outputs": [],
   "source": [
    "#assest_initiation_invent_nb[assest_initiation_invent_nb['UDC_ID']=='404751250008001']"
   ]
  },
  {
   "cell_type": "code",
   "execution_count": 124,
   "metadata": {},
   "outputs": [
    {
     "data": {
      "text/plain": [
       "array(['Unique', 'Duplicated'], dtype=object)"
      ]
     },
     "execution_count": 124,
     "metadata": {},
     "output_type": "execute_result"
    }
   ],
   "source": [
    "warehouse_meter_imsi_data_check['DUPLICATED'].unique()"
   ]
  },
  {
   "cell_type": "code",
   "execution_count": 125,
   "metadata": {},
   "outputs": [
    {
     "data": {
      "text/plain": [
       "(4275, 32)"
      ]
     },
     "execution_count": 125,
     "metadata": {},
     "output_type": "execute_result"
    }
   ],
   "source": [
    "warehouse_meter_imsi_data_check.shape"
   ]
  },
  {
   "cell_type": "markdown",
   "metadata": {},
   "source": [
    "# extra\n",
    "\n",
    "\n",
    "####  THIS WILL REMOVE THE DUPLICATE  "
   ]
  },
  {
   "cell_type": "code",
   "execution_count": 126,
   "metadata": {},
   "outputs": [],
   "source": [
    "#warehouse_meter_imsi_data_check.drop[warehouse_meter_imsi_data_check['DUPLICATED']=='Duplicated']\n",
    "\n",
    "# Assuming warehouse_meter_imsi_data_check is your DataFrame\n",
    "\n",
    "\n",
    "#warehouse_meter_imsi_data_check.drop(warehouse_meter_imsi_data_check[warehouse_meter_imsi_data_check['DUPLICATED'] == 'Duplicated'].index, inplace=True)\n"
   ]
  },
  {
   "cell_type": "code",
   "execution_count": 127,
   "metadata": {},
   "outputs": [
    {
     "data": {
      "text/plain": [
       "(4275, 32)"
      ]
     },
     "execution_count": 127,
     "metadata": {},
     "output_type": "execute_result"
    }
   ],
   "source": [
    "warehouse_meter_imsi_data_check.shape"
   ]
  },
  {
   "cell_type": "markdown",
   "metadata": {},
   "source": [
    "# creating meter-sim link file"
   ]
  },
  {
   "cell_type": "code",
   "execution_count": 128,
   "metadata": {},
   "outputs": [],
   "source": [
    "# Convert all columns to string data type\n",
    "\n",
    "# change into str\n",
    "warehouse_meter_imsi_data_check = warehouse_meter_imsi_data_check.astype(str)\n",
    "# ----------------------------------------------------------------------------------\n",
    "# change into upper\n",
    "warehouse_meter_imsi_data_check.columns = warehouse_meter_imsi_data_check.columns.str.upper()\n",
    "# ----------------------------------------------------------------------------------\n",
    "# Remove leading and trailing whitespaces from all columns where dtype is 'O'\n",
    "warehouse_meter_imsi_data_check = warehouse_meter_imsi_data_check.apply(lambda x: x.str.strip() if x.dtype == 'O' else x)\n",
    "\n"
   ]
  },
  {
   "cell_type": "code",
   "execution_count": 129,
   "metadata": {},
   "outputs": [
    {
     "data": {
      "text/plain": [
       "array(['IMSI IS IN INSTALLED STAGE', 'SET IS IN INSTALLED STAGE',\n",
       "       'BOTH INSTALLED IN SAME UTILITY', 'METER IS IN INSTALLED STAGE',\n",
       "       'SIM AND METER-SIM LINK FILE REQUIRED',\n",
       "       'METER-SIM LINK FILE REQUIRED'], dtype=object)"
      ]
     },
     "execution_count": 129,
     "metadata": {},
     "output_type": "execute_result"
    }
   ],
   "source": [
    "#METER , SIM AND METER-SIM LINK FILE REQUIRED\n",
    "\n",
    "#SIM AND METER-SIM LINK FILE REQUIRED\n",
    "\n",
    "#METER-SIM LINK FILE REQUIRED\n",
    "warehouse_meter_imsi_data_check['ACTION TAKEN'].unique()"
   ]
  },
  {
   "cell_type": "code",
   "execution_count": 130,
   "metadata": {},
   "outputs": [],
   "source": [
    "# creating meter_sim_link_file\n",
    "\n",
    "#CREATE_METER_SIM_AND_METER_SIM_LINK_FILE= warehouse_meter_imsi_data_check[(warehouse_meter_imsi_data_check['ACTION TAKEN']=='METER,SIM AND METER-SIM LINK FILE REQUIRED') | (warehouse_meter_imsi_data_check['ACTION TAKEN']=='METER IS IN INSTALLED STAGE') | (warehouse_meter_imsi_data_check['ACTION TAKEN']=='NEED TO CHECK THIS FILE')]\n",
    "CREATE_METER_SIM_AND_METER_SIM_LINK_FILE= warehouse_meter_imsi_data_check[(warehouse_meter_imsi_data_check['ACTION TAKEN']=='METER , SIM AND METER-SIM LINK FILE REQUIRED')]\n",
    "\n",
    "CREATE_SIM_AND_METER_SIM_LINK_FILE= warehouse_meter_imsi_data_check[(warehouse_meter_imsi_data_check['ACTION TAKEN']=='SIM AND METER-SIM LINK FILE REQUIRED')]\n",
    "\n",
    "CREATE_METER_SIM_LINK_FILE= warehouse_meter_imsi_data_check[(warehouse_meter_imsi_data_check['ACTION TAKEN']=='METER-SIM LINK FILE REQUIRED')]\n",
    "                                                                          "
   ]
  },
  {
   "cell_type": "code",
   "execution_count": 131,
   "metadata": {},
   "outputs": [
    {
     "name": "stdout",
     "output_type": "stream",
     "text": [
      " CREATE_METER_SIM_AND_METER_SIM_LINK_FILE - UNIQUE : []\n",
      " CREATE_SIM_AND_METER_SIM_LINK_FILE - UNIQUE : ['SIM AND METER-SIM LINK FILE REQUIRED']\n",
      " CREATE_METER_SIM_LINK_FILE - UNIQUE : ['METER-SIM LINK FILE REQUIRED']\n"
     ]
    }
   ],
   "source": [
    "print(f\" CREATE_METER_SIM_AND_METER_SIM_LINK_FILE - UNIQUE : {CREATE_METER_SIM_AND_METER_SIM_LINK_FILE['ACTION TAKEN'].unique()}\")\n",
    "print(f\" CREATE_SIM_AND_METER_SIM_LINK_FILE - UNIQUE : {CREATE_SIM_AND_METER_SIM_LINK_FILE['ACTION TAKEN'].unique()}\")\n",
    "print(f\" CREATE_METER_SIM_LINK_FILE - UNIQUE : {CREATE_METER_SIM_LINK_FILE['ACTION TAKEN'].unique()}\")\n"
   ]
  },
  {
   "cell_type": "code",
   "execution_count": null,
   "metadata": {},
   "outputs": [],
   "source": []
  },
  {
   "cell_type": "code",
   "execution_count": null,
   "metadata": {},
   "outputs": [],
   "source": []
  },
  {
   "cell_type": "markdown",
   "metadata": {},
   "source": [
    "### Meter-sim link file for all 3 cases"
   ]
  },
  {
   "cell_type": "code",
   "execution_count": 132,
   "metadata": {},
   "outputs": [],
   "source": [
    "# this file is meter-sim link code"
   ]
  },
  {
   "cell_type": "code",
   "execution_count": 133,
   "metadata": {},
   "outputs": [
    {
     "name": "stderr",
     "output_type": "stream",
     "text": [
      "C:\\Users\\Ratan Kumar Jha\\AppData\\Local\\Temp\\ipykernel_17264\\2655918992.py:6: SettingWithCopyWarning: \n",
      "A value is trying to be set on a copy of a slice from a DataFrame.\n",
      "Try using .loc[row_indexer,col_indexer] = value instead\n",
      "\n",
      "See the caveats in the documentation: https://pandas.pydata.org/pandas-docs/stable/user_guide/indexing.html#returning-a-view-versus-a-copy\n",
      "  CREATE_SIM_AND_METER_SIM_LINK_FILE['meter_sim_link_(S & M-S)_single_file_data'] = CREATE_SIM_AND_METER_SIM_LINK_FILE.apply(fun_meter_sim_link_file, axis=1)\n",
      "C:\\Users\\Ratan Kumar Jha\\AppData\\Local\\Temp\\ipykernel_17264\\2655918992.py:7: SettingWithCopyWarning: \n",
      "A value is trying to be set on a copy of a slice from a DataFrame.\n",
      "Try using .loc[row_indexer,col_indexer] = value instead\n",
      "\n",
      "See the caveats in the documentation: https://pandas.pydata.org/pandas-docs/stable/user_guide/indexing.html#returning-a-view-versus-a-copy\n",
      "  CREATE_METER_SIM_LINK_FILE['meter_sim_link_(M-S)_single_file_data'] = CREATE_METER_SIM_LINK_FILE.apply(fun_meter_sim_link_file, axis=1)\n"
     ]
    }
   ],
   "source": [
    "def fun_meter_sim_link_file(row):\n",
    "\n",
    "    return \"{};EP2PMeter;{};{};{}\".format(row['NEW_METER_NUMBER'], row['IMSI'],row['FINAL SIM'],row['WAREHOUSE_UTILITY'])\n",
    "\n",
    "CREATE_METER_SIM_AND_METER_SIM_LINK_FILE['meter_sim_link_(M,S & M-S)_single_file_data'] = CREATE_METER_SIM_AND_METER_SIM_LINK_FILE.apply(fun_meter_sim_link_file, axis=1)\n",
    "CREATE_SIM_AND_METER_SIM_LINK_FILE['meter_sim_link_(S & M-S)_single_file_data'] = CREATE_SIM_AND_METER_SIM_LINK_FILE.apply(fun_meter_sim_link_file, axis=1)\n",
    "CREATE_METER_SIM_LINK_FILE['meter_sim_link_(M-S)_single_file_data'] = CREATE_METER_SIM_LINK_FILE.apply(fun_meter_sim_link_file, axis=1)"
   ]
  },
  {
   "cell_type": "code",
   "execution_count": null,
   "metadata": {},
   "outputs": [],
   "source": [
    "\n"
   ]
  },
  {
   "cell_type": "code",
   "execution_count": 134,
   "metadata": {},
   "outputs": [],
   "source": [
    "#EESL_BSNL_PO0000000402_00000_SIM_20231220_121002_SBPDCL\n",
    "#404751250004001;8991759065212004001;fd00:0000:0800:CC19:0000:0000:0000:0001;;BSNLEDF;ACTIVE;SBPDCL"
   ]
  },
  {
   "cell_type": "markdown",
   "metadata": {},
   "source": [
    "#  this code is for sim file for all the 2 cases"
   ]
  },
  {
   "cell_type": "code",
   "execution_count": 135,
   "metadata": {},
   "outputs": [
    {
     "name": "stderr",
     "output_type": "stream",
     "text": [
      "C:\\Users\\Ratan Kumar Jha\\AppData\\Local\\Temp\\ipykernel_17264\\669809455.py:6: SettingWithCopyWarning: \n",
      "A value is trying to be set on a copy of a slice from a DataFrame.\n",
      "Try using .loc[row_indexer,col_indexer] = value instead\n",
      "\n",
      "See the caveats in the documentation: https://pandas.pydata.org/pandas-docs/stable/user_guide/indexing.html#returning-a-view-versus-a-copy\n",
      "  CREATE_SIM_AND_METER_SIM_LINK_FILE['sim_link_(S & M-S)_single_file_data'] = CREATE_SIM_AND_METER_SIM_LINK_FILE.apply(fun_sim_file, axis=1)\n"
     ]
    }
   ],
   "source": [
    "def fun_sim_file(row):\n",
    "\n",
    "    return \"{};{};{};;BSNLEDF;ACTIVE;{}\".format(row['IMSI'], row['FINAL SIM'],row['IP'],row['WAREHOUSE_UTILITY'])\n",
    "\n",
    "CREATE_METER_SIM_AND_METER_SIM_LINK_FILE['sim_link_(M,S & M-S)_single_file_data'] = CREATE_METER_SIM_AND_METER_SIM_LINK_FILE.apply(fun_sim_file, axis=1)\n",
    "CREATE_SIM_AND_METER_SIM_LINK_FILE['sim_link_(S & M-S)_single_file_data'] = CREATE_SIM_AND_METER_SIM_LINK_FILE.apply(fun_sim_file, axis=1)\n"
   ]
  },
  {
   "cell_type": "code",
   "execution_count": null,
   "metadata": {},
   "outputs": [],
   "source": []
  },
  {
   "cell_type": "markdown",
   "metadata": {},
   "source": [
    "# THIS CODE IS FOR METER FILE FOR METER,SIM,METER-SIM LINK FILE"
   ]
  },
  {
   "cell_type": "code",
   "execution_count": null,
   "metadata": {},
   "outputs": [],
   "source": []
  },
  {
   "cell_type": "code",
   "execution_count": 136,
   "metadata": {},
   "outputs": [
    {
     "data": {
      "text/plain": [
       "array([], dtype=object)"
      ]
     },
     "execution_count": 136,
     "metadata": {},
     "output_type": "execute_result"
    }
   ],
   "source": [
    "CREATE_METER_SIM_AND_METER_SIM_LINK_FILE['PHASE'].unique()"
   ]
  },
  {
   "cell_type": "code",
   "execution_count": null,
   "metadata": {},
   "outputs": [],
   "source": []
  },
  {
   "cell_type": "markdown",
   "metadata": {},
   "source": [
    "##### 1 phase and 3 phase"
   ]
  },
  {
   "cell_type": "code",
   "execution_count": 137,
   "metadata": {},
   "outputs": [],
   "source": [
    "# 1 phase and 3 phase meter file :   meter, sim , meter-sim link file \n",
    "\n",
    "\n",
    "CREATE_METER_SIM_AND_METER_SIM_LINK_FILE_1_PHASE = CREATE_METER_SIM_AND_METER_SIM_LINK_FILE[CREATE_METER_SIM_AND_METER_SIM_LINK_FILE['PHASE']=='1 Phase']\n",
    "CREATE_METER_SIM_AND_METER_SIM_LINK_FILE_1_PHASE_GENUS = CREATE_METER_SIM_AND_METER_SIM_LINK_FILE_1_PHASE[CREATE_METER_SIM_AND_METER_SIM_LINK_FILE_1_PHASE['NEW_METER_NUMBER'].str.startswith('GOE')]\n",
    "CREATE_METER_SIM_AND_METER_SIM_LINK_FILE_1_PHASE_LNT = CREATE_METER_SIM_AND_METER_SIM_LINK_FILE_1_PHASE[CREATE_METER_SIM_AND_METER_SIM_LINK_FILE_1_PHASE['NEW_METER_NUMBER'].str.startswith('LNT')]\n",
    "\n",
    "\n",
    "\n",
    "CREATE_METER_SIM_AND_METER_SIM_LINK_FILE_3_PHASE = CREATE_METER_SIM_AND_METER_SIM_LINK_FILE[CREATE_METER_SIM_AND_METER_SIM_LINK_FILE['PHASE']=='3 Phase']\n",
    "CREATE_METER_SIM_AND_METER_SIM_LINK_FILE_3_PHASE_GENUS = CREATE_METER_SIM_AND_METER_SIM_LINK_FILE_3_PHASE[CREATE_METER_SIM_AND_METER_SIM_LINK_FILE_3_PHASE['NEW_METER_NUMBER'].str.startswith('GOE')]\n",
    "CREATE_METER_SIM_AND_METER_SIM_LINK_FILE_3_PHASE_LNT = CREATE_METER_SIM_AND_METER_SIM_LINK_FILE_3_PHASE[CREATE_METER_SIM_AND_METER_SIM_LINK_FILE_3_PHASE['NEW_METER_NUMBER'].str.startswith('LNT')]\n"
   ]
  },
  {
   "cell_type": "code",
   "execution_count": 138,
   "metadata": {},
   "outputs": [
    {
     "data": {
      "text/html": [
       "<div>\n",
       "<style scoped>\n",
       "    .dataframe tbody tr th:only-of-type {\n",
       "        vertical-align: middle;\n",
       "    }\n",
       "\n",
       "    .dataframe tbody tr th {\n",
       "        vertical-align: top;\n",
       "    }\n",
       "\n",
       "    .dataframe thead th {\n",
       "        text-align: right;\n",
       "    }\n",
       "</style>\n",
       "<table border=\"1\" class=\"dataframe\">\n",
       "  <thead>\n",
       "    <tr style=\"text-align: right;\">\n",
       "      <th></th>\n",
       "      <th>UNNAMED: 0</th>\n",
       "      <th>METER NO.</th>\n",
       "      <th>PHASE</th>\n",
       "      <th>WAREHOUSE_UTILITY</th>\n",
       "      <th>IME</th>\n",
       "      <th>FINAL SIM</th>\n",
       "      <th>IMSI</th>\n",
       "      <th>IP</th>\n",
       "      <th>MFG_SERIAL_NUM</th>\n",
       "      <th>METER_MATCH_UDC_ID</th>\n",
       "      <th>METER_MATCH_IP</th>\n",
       "      <th>INSTALLATIONNUMBER</th>\n",
       "      <th>METER_MATCH_STATUS</th>\n",
       "      <th>METER_MATCH_UTILITY</th>\n",
       "      <th>IMSI_MATCHED_METER_NO</th>\n",
       "      <th>IMSI_MATCHED_IP</th>\n",
       "      <th>IMSI_MATCHED_STATUS</th>\n",
       "      <th>IMSI_MATCHED_UTILITY</th>\n",
       "      <th>IP_MATCHED_METER_NO</th>\n",
       "      <th>IP_MATCH_UDC_ID</th>\n",
       "      <th>IP_MATCHED_IP</th>\n",
       "      <th>IP_MATCHED_STATUS</th>\n",
       "      <th>IP_MATCHED_UTILITY</th>\n",
       "      <th>SIM SET CHECK STATUS</th>\n",
       "      <th>METER_SIM</th>\n",
       "      <th>METER_ORG</th>\n",
       "      <th>SIM_ORG</th>\n",
       "      <th>METER_IP</th>\n",
       "      <th>SIM SET CHECK STATUS RECHECK</th>\n",
       "      <th>ACTION TAKEN</th>\n",
       "      <th>NEW_METER_NUMBER</th>\n",
       "      <th>DUPLICATED</th>\n",
       "      <th>meter_sim_link_(M,S &amp; M-S)_single_file_data</th>\n",
       "      <th>sim_link_(M,S &amp; M-S)_single_file_data</th>\n",
       "    </tr>\n",
       "  </thead>\n",
       "  <tbody>\n",
       "  </tbody>\n",
       "</table>\n",
       "</div>"
      ],
      "text/plain": [
       "Empty DataFrame\n",
       "Columns: [UNNAMED: 0, METER NO., PHASE, WAREHOUSE_UTILITY, IME, FINAL SIM, IMSI, IP, MFG_SERIAL_NUM, METER_MATCH_UDC_ID, METER_MATCH_IP, INSTALLATIONNUMBER, METER_MATCH_STATUS, METER_MATCH_UTILITY, IMSI_MATCHED_METER_NO, IMSI_MATCHED_IP, IMSI_MATCHED_STATUS, IMSI_MATCHED_UTILITY, IP_MATCHED_METER_NO, IP_MATCH_UDC_ID, IP_MATCHED_IP, IP_MATCHED_STATUS, IP_MATCHED_UTILITY, SIM SET CHECK STATUS, METER_SIM, METER_ORG, SIM_ORG, METER_IP, SIM SET CHECK STATUS RECHECK, ACTION TAKEN, NEW_METER_NUMBER, DUPLICATED, meter_sim_link_(M,S & M-S)_single_file_data, sim_link_(M,S & M-S)_single_file_data]\n",
       "Index: []"
      ]
     },
     "execution_count": 138,
     "metadata": {},
     "output_type": "execute_result"
    }
   ],
   "source": [
    "CREATE_METER_SIM_AND_METER_SIM_LINK_FILE.head(1)"
   ]
  },
  {
   "cell_type": "markdown",
   "metadata": {},
   "source": [
    "### 1 PHASE"
   ]
  },
  {
   "cell_type": "code",
   "execution_count": 139,
   "metadata": {},
   "outputs": [],
   "source": [
    "def fun_meter_1_PHASE_GENUS_file(row):\n",
    "\n",
    "    return \"{};{};EP2PMeter;6_D1;SKM145-s2;GOE;2019;2019;DLMS;;;G36B7.145090;;;3G;;;;;{};4059;TCP;32;;;;1A2B3C4D;0;1;0;GOE_1PH_WC;1.0;{};{}\".format(row['NEW_METER_NUMBER'], row['METER NO.'],row['IME'],row['NEW_METER_NUMBER'],row['WAREHOUSE_UTILITY'])\n",
    "\n",
    "CREATE_METER_SIM_AND_METER_SIM_LINK_FILE_1_PHASE_GENUS['Meter_link_(M,S & M-S)_single_file_data'] = CREATE_METER_SIM_AND_METER_SIM_LINK_FILE_1_PHASE_GENUS.apply(fun_meter_1_PHASE_GENUS_file, axis=1)"
   ]
  },
  {
   "cell_type": "code",
   "execution_count": 140,
   "metadata": {},
   "outputs": [],
   "source": [
    "def fun_meter_1_PHASE_LNT_file(row):\n",
    "\n",
    "    return \"{};{};EP2PMeter;6_D1;AURORA;LNT;2021;2021;DLMS;;;RN13.00 00;;8;3G;;;;;{};4059;TCP;32;;;;lnt1;2;1;0;EESL_1PH_WC_V1;1.0;{};{}\".format(row['NEW_METER_NUMBER'], row['METER NO.'],row['IME'],row['NEW_METER_NUMBER'],row['WAREHOUSE_UTILITY'])\n",
    "\n",
    "CREATE_METER_SIM_AND_METER_SIM_LINK_FILE_1_PHASE_LNT['Meter_link_(M,S & M-S)_single_file_data'] = CREATE_METER_SIM_AND_METER_SIM_LINK_FILE_1_PHASE_LNT.apply(fun_meter_1_PHASE_LNT_file, axis=1)"
   ]
  },
  {
   "cell_type": "markdown",
   "metadata": {},
   "source": [
    "### 3 PHASE"
   ]
  },
  {
   "cell_type": "code",
   "execution_count": 141,
   "metadata": {},
   "outputs": [],
   "source": [
    "def fun_meter_3_PHASE_GENUS_file(row):\n",
    "\n",
    "    return \"{};{};EP2PMeter;7_D2;SKM345-s2;GOE;2019;2019;DLMS;;;GF6B7.325061;;;3G;;;;;{};4059;TCP;32;;;;1A2B3C4D;0;1;0;GOE_3PH_WC;1.0;{};{}\".format(row['NEW_METER_NUMBER'], row['METER NO.'],row['IME'],row['NEW_METER_NUMBER'],row['WAREHOUSE_UTILITY'])\n",
    "\n",
    "CREATE_METER_SIM_AND_METER_SIM_LINK_FILE_3_PHASE_GENUS['Meter_link_(M,S & M-S)_single_file_data'] = CREATE_METER_SIM_AND_METER_SIM_LINK_FILE_3_PHASE_GENUS.apply(fun_meter_3_PHASE_GENUS_file, axis=1)"
   ]
  },
  {
   "cell_type": "code",
   "execution_count": 142,
   "metadata": {},
   "outputs": [],
   "source": [
    "def fun_meter_3_PHASE_LNT_file(row):\n",
    "\n",
    "    return \"{};{};EP2PMeter;7_D2;REGOR;LNT;2021;2021;DLMS;;;3PBNC.82 01;;8;3G;;;;;{};4059;TCP;32;;;;lnt1;2;1;0;EESL_3PH_WC_V1;1.0;{};{}\".format(row['NEW_METER_NUMBER'], row['METER NO.'],row['IME'],row['NEW_METER_NUMBER'],row['WAREHOUSE_UTILITY'])\n",
    "\n",
    "CREATE_METER_SIM_AND_METER_SIM_LINK_FILE_3_PHASE_LNT['Meter_link_(M,S & M-S)_single_file_data'] = CREATE_METER_SIM_AND_METER_SIM_LINK_FILE_3_PHASE_LNT.apply(fun_meter_3_PHASE_LNT_file, axis=1)"
   ]
  },
  {
   "cell_type": "code",
   "execution_count": null,
   "metadata": {},
   "outputs": [],
   "source": []
  },
  {
   "cell_type": "markdown",
   "metadata": {},
   "source": [
    "#### concat file"
   ]
  },
  {
   "cell_type": "code",
   "execution_count": 143,
   "metadata": {},
   "outputs": [],
   "source": [
    "CREATE_METER_SIM_AND_METER_SIM_LINK_FILE_COCAT_ALL = pd.concat([CREATE_METER_SIM_AND_METER_SIM_LINK_FILE_1_PHASE_GENUS, CREATE_METER_SIM_AND_METER_SIM_LINK_FILE_1_PHASE_LNT,CREATE_METER_SIM_AND_METER_SIM_LINK_FILE_3_PHASE_GENUS,CREATE_METER_SIM_AND_METER_SIM_LINK_FILE_3_PHASE_LNT], ignore_index=True)"
   ]
  },
  {
   "cell_type": "code",
   "execution_count": 144,
   "metadata": {},
   "outputs": [],
   "source": [
    "CREATE_METER_SIM_AND_METER_SIM_LINK_FILE_COCAT_ALL.to_csv(r\"C:\\Users\\Ratan Kumar Jha\\Desktop\\METER_IMPORTATION_FOLDER\\CREATE_METER_SIM_AND_METER_SIM_LINK_FILE_COCAT_ALL.csv\",index=False)\n",
    "CREATE_METER_SIM_AND_METER_SIM_LINK_FILE.to_csv(r\"C:\\Users\\Ratan Kumar Jha\\Desktop\\METER_IMPORTATION_FOLDER\\CREATE_METER_SIM_AND_METER_SIM_LINK_FILE.csv\",index=False)"
   ]
  },
  {
   "cell_type": "code",
   "execution_count": null,
   "metadata": {},
   "outputs": [],
   "source": []
  },
  {
   "cell_type": "code",
   "execution_count": 145,
   "metadata": {},
   "outputs": [],
   "source": [
    "# assign :  CREATE_METER_SIM_AND_METER_SIM_LINK_FILE_COCAT_ALL  - to -   CREATE_METER_SIM_AND_METER_SIM_LINK_FILE\n",
    "\n",
    "CREATE_METER_SIM_AND_METER_SIM_LINK_FILE = CREATE_METER_SIM_AND_METER_SIM_LINK_FILE_COCAT_ALL"
   ]
  },
  {
   "cell_type": "code",
   "execution_count": null,
   "metadata": {},
   "outputs": [],
   "source": []
  },
  {
   "cell_type": "code",
   "execution_count": 146,
   "metadata": {},
   "outputs": [],
   "source": [
    "# SAVING METER-SIM LINK FILE TO OUTPUT LOCATION\n",
    "\n",
    "CREATE_METER_SIM_AND_METER_SIM_LINK_FILE.to_csv(r\"C:\\Users\\Ratan Kumar Jha\\Desktop\\METER_IMPORTATION_FOLDER\\OUTPUT_DATA_FILE\\CREATE_METER_SIM_AND_METER_SIM_LINK_FILE.csv\",index=False)\n",
    "CREATE_SIM_AND_METER_SIM_LINK_FILE.to_csv(r\"C:\\Users\\Ratan Kumar Jha\\Desktop\\METER_IMPORTATION_FOLDER\\OUTPUT_DATA_FILE\\CREATE_SIM_AND_METER_SIM_LINK_FILE.csv\",index=False)\n",
    "CREATE_METER_SIM_LINK_FILE.to_csv(r\"C:\\Users\\Ratan Kumar Jha\\Desktop\\METER_IMPORTATION_FOLDER\\OUTPUT_DATA_FILE\\CREATE_METER_SIM_LINK_FILE.csv\",index=False)"
   ]
  },
  {
   "cell_type": "code",
   "execution_count": null,
   "metadata": {},
   "outputs": [],
   "source": []
  },
  {
   "cell_type": "markdown",
   "metadata": {},
   "source": [
    "# CREATING A NEW DATA FRAME"
   ]
  },
  {
   "cell_type": "code",
   "execution_count": null,
   "metadata": {},
   "outputs": [],
   "source": []
  },
  {
   "cell_type": "markdown",
   "metadata": {},
   "source": [
    "#### WORKING ON METER-SIM LINK FILE "
   ]
  },
  {
   "cell_type": "code",
   "execution_count": null,
   "metadata": {},
   "outputs": [],
   "source": []
  },
  {
   "cell_type": "code",
   "execution_count": 147,
   "metadata": {},
   "outputs": [
    {
     "name": "stdout",
     "output_type": "stream",
     "text": [
      " meter_sim_link_M_S_AND_MS_LINK_file_df :  EMPTY DATA FRAME\n"
     ]
    }
   ],
   "source": [
    "# 1 \n",
    "# sim-meter link in meter,sim and meter-sim link file\n",
    "\n",
    "meter_sim_link_M_S_AND_MS_LINK_file_df = pd.DataFrame()\n",
    "meter_sim_link_M_S_AND_MS_LINK_file_df=CREATE_METER_SIM_AND_METER_SIM_LINK_FILE['meter_sim_link_(M,S & M-S)_single_file_data']\n",
    "if  not (meter_sim_link_M_S_AND_MS_LINK_file_df.empty):\n",
    "    meter_sim_link_M_S_AND_MS_LINK_file_df.to_csv(\"S_M_&_M_S_LINK_EESL_GENUS_PO0000000403_00000_SIM_Meter_Link.csv\",header=None,index=False)\n",
    "    EESL_GENUS_PO0000000403_00000_SIM_Meter_Link_M_S_AND_MS_LINK=pd.read_csv(r\"C:\\PYTHON\\EDF_CODE_AUTOMATION_PYTHON\\METER_MATCHING_DATA\\S_M_&_M_S_LINK_EESL_GENUS_PO0000000403_00000_SIM_Meter_Link.csv\",header=None)\n",
    "    EESL_GENUS_PO0000000403_00000_SIM_Meter_Link_M_S_AND_MS_LINK.head(1)\n",
    "else:\n",
    "    print(\" meter_sim_link_M_S_AND_MS_LINK_file_df :  EMPTY DATA FRAME\")\n"
   ]
  },
  {
   "cell_type": "code",
   "execution_count": 148,
   "metadata": {},
   "outputs": [],
   "source": [
    "# 2\n",
    "# sim-meter link in sim and meter-sim link file\n",
    "\n",
    "meter_sim_link_S_AND_MS_LINK_file_df = pd.DataFrame()\n",
    "meter_sim_link_S_AND_MS_LINK_file_df=CREATE_SIM_AND_METER_SIM_LINK_FILE['meter_sim_link_(S & M-S)_single_file_data']\n",
    "if  not (meter_sim_link_S_AND_MS_LINK_file_df.empty):\n",
    "    meter_sim_link_S_AND_MS_LINK_file_df.to_csv(\"S_&_M_S_LINK_EESL_GENUS_PO0000000403_00000_SIM_Meter_Link.csv\",header=None,index=False)\n",
    "    EESL_GENUS_PO0000000403_00000_SIM_Meter_Link_S_AND_MS_LINK=pd.read_csv(r\"C:\\PYTHON\\EDF_CODE_AUTOMATION_PYTHON\\METER_MATCHING_DATA\\S_&_M_S_LINK_EESL_GENUS_PO0000000403_00000_SIM_Meter_Link.csv\",header=None)\n",
    "    EESL_GENUS_PO0000000403_00000_SIM_Meter_Link_S_AND_MS_LINK.head(1)\n",
    "else:\n",
    "    print(\" meter_sim_link_S_AND_MS_LINK_file_df :  EMPTY DATA FRAME\")\n"
   ]
  },
  {
   "cell_type": "code",
   "execution_count": 149,
   "metadata": {},
   "outputs": [],
   "source": [
    "# 3\n",
    "# sim-meter link in meter-sim link file\n",
    "\n",
    "meter_sim_link_MS_LINK_file_df = pd.DataFrame()\n",
    "meter_sim_link_MS_LINK_file_df=CREATE_METER_SIM_LINK_FILE['meter_sim_link_(M-S)_single_file_data']\n",
    "if  not (meter_sim_link_MS_LINK_file_df.empty):\n",
    "    meter_sim_link_MS_LINK_file_df.to_csv(\"M_S_LINK_EESL_GENUS_PO0000000403_00000_SIM_Meter_Link.csv\",header=None,index=False)\n",
    "    EESL_GENUS_PO0000000403_00000_SIM_Meter_Link_MS_LINK=pd.read_csv(r\"C:\\PYTHON\\EDF_CODE_AUTOMATION_PYTHON\\METER_MATCHING_DATA\\M_S_LINK_EESL_GENUS_PO0000000403_00000_SIM_Meter_Link.csv\",header=None)\n",
    "    EESL_GENUS_PO0000000403_00000_SIM_Meter_Link_MS_LINK.head(1)\n",
    "else:\n",
    "    print(\" meter_sim_link_S_AND_MS_LINK_file_df :  EMPTY DATA FRAME\")\n"
   ]
  },
  {
   "cell_type": "code",
   "execution_count": null,
   "metadata": {},
   "outputs": [],
   "source": []
  },
  {
   "cell_type": "markdown",
   "metadata": {},
   "source": [
    "### working on sim link file"
   ]
  },
  {
   "cell_type": "code",
   "execution_count": null,
   "metadata": {},
   "outputs": [],
   "source": []
  },
  {
   "cell_type": "code",
   "execution_count": 150,
   "metadata": {},
   "outputs": [
    {
     "name": "stdout",
     "output_type": "stream",
     "text": [
      " sim_link_M_S_AND_MS_LINK_file_df :  EMPTY DATA FRAME\n"
     ]
    }
   ],
   "source": [
    "# 1\n",
    "# sim link file in meter,sim and meter-sim link file\n",
    "\n",
    "sim_link_M_S_AND_MS_LINK_file_df = pd.DataFrame()\n",
    "sim_link_M_S_AND_MS_LINK_file_df=CREATE_METER_SIM_AND_METER_SIM_LINK_FILE['sim_link_(M,S & M-S)_single_file_data'] \n",
    "if  not (sim_link_M_S_AND_MS_LINK_file_df.empty):\n",
    "    sim_link_M_S_AND_MS_LINK_file_df.to_csv(\"M_S_AND_MS_LINK_EESL_BSNL_PO0000000403_00000_SIM_Link.csv\",header=None,index=False)\n",
    "    EESL_BSNL_PO0000000403_00000_SIM_Link_S_M_AND_MS_LINK=pd.read_csv(r\"C:\\PYTHON\\EDF_CODE_AUTOMATION_PYTHON\\METER_MATCHING_DATA\\M_S_AND_MS_LINK_EESL_BSNL_PO0000000403_00000_SIM_Link.csv\",header=None)\n",
    "    EESL_BSNL_PO0000000403_00000_SIM_Link_S_M_AND_MS_LINK.head(1)\n",
    "else:\n",
    "    print(\" sim_link_M_S_AND_MS_LINK_file_df :  EMPTY DATA FRAME\")\n"
   ]
  },
  {
   "cell_type": "code",
   "execution_count": 151,
   "metadata": {},
   "outputs": [],
   "source": [
    "# 2 \n",
    "# sim link file in sim and meter-sim link file\n",
    "\n",
    "sim_link_S_AND_MS_LINK_file_df = pd.DataFrame()\n",
    "sim_link_S_AND_MS_LINK_file_df=CREATE_SIM_AND_METER_SIM_LINK_FILE['sim_link_(S & M-S)_single_file_data']\n",
    "if  not (sim_link_S_AND_MS_LINK_file_df.empty):\n",
    "    sim_link_S_AND_MS_LINK_file_df.to_csv(\"S_AND_MS_LINK_EESL_BSNL_PO0000000403_00000_SIM_Link.csv\",header=None,index=False)\n",
    "    EESL_BSNL_PO0000000403_00000_SIM_Link_S_AND_MS_LINK=pd.read_csv(r\"C:\\PYTHON\\EDF_CODE_AUTOMATION_PYTHON\\METER_MATCHING_DATA\\S_AND_MS_LINK_EESL_BSNL_PO0000000403_00000_SIM_Link.csv\",header=None)\n",
    "    EESL_BSNL_PO0000000403_00000_SIM_Link_S_AND_MS_LINK.head(1)\n",
    "else:\n",
    "    print(\" sim_link_S_AND_MS_LINK_file_df :  EMPTY DATA FRAME\")"
   ]
  },
  {
   "cell_type": "code",
   "execution_count": null,
   "metadata": {},
   "outputs": [],
   "source": []
  },
  {
   "cell_type": "markdown",
   "metadata": {},
   "source": [
    "### working on meter-link file"
   ]
  },
  {
   "cell_type": "code",
   "execution_count": 152,
   "metadata": {},
   "outputs": [
    {
     "name": "stdout",
     "output_type": "stream",
     "text": [
      " meter_link_M_S_AND_MS_LINK_file_df :  EMPTY DATA FRAME\n"
     ]
    }
   ],
   "source": [
    "# 1 \n",
    "# meter link in meter,sim and meter-sim link file\n",
    "\n",
    "meter_link_M_S_AND_MS_LINK_file_df = pd.DataFrame()\n",
    "meter_link_M_S_AND_MS_LINK_file_df=CREATE_METER_SIM_AND_METER_SIM_LINK_FILE['Meter_link_(M,S & M-S)_single_file_data']\n",
    "if  not (meter_link_M_S_AND_MS_LINK_file_df.empty):\n",
    "    meter_link_M_S_AND_MS_LINK_file_df.to_csv(\"S_M_&_M_S_LINK_EESL_GENUS_PO0000000403_00000_EP2PMeter_Meter_Link.csv\",header=None,index=False)\n",
    "    EESL_GENUS_PO0000000403_00000_EP2PMeter_SBPDCL_Meter_Link_M_S_AND_MS_LINK=pd.read_csv(r\"C:\\PYTHON\\EDF_CODE_AUTOMATION_PYTHON\\METER_MATCHING_DATA\\S_M_&_M_S_LINK_EESL_GENUS_PO0000000403_00000_EP2PMeter_Meter_Link.csv\",header=None)\n",
    "    EESL_GENUS_PO0000000403_00000_EP2PMeter_SBPDCL_Meter_Link_M_S_AND_MS_LINK.head(1)\n",
    "else:\n",
    "    print(\" meter_link_M_S_AND_MS_LINK_file_df :  EMPTY DATA FRAME\")"
   ]
  },
  {
   "cell_type": "code",
   "execution_count": 153,
   "metadata": {},
   "outputs": [
    {
     "name": "stdout",
     "output_type": "stream",
     "text": [
      "CREATE_METER_SIM_AND_METER_SIM_LINK_FILE_COCAT_ALL: -   shape: - 0\n",
      "CREATE_METER_SIM_AND_METER_SIM_LINK_FILE: -   shape: - 0\n"
     ]
    }
   ],
   "source": [
    "print(f\"CREATE_METER_SIM_AND_METER_SIM_LINK_FILE_COCAT_ALL: -   shape: - {CREATE_METER_SIM_AND_METER_SIM_LINK_FILE_COCAT_ALL.shape[0]}\")\n",
    "print(f\"CREATE_METER_SIM_AND_METER_SIM_LINK_FILE: -   shape: - {CREATE_METER_SIM_AND_METER_SIM_LINK_FILE.shape[0]}\")\n"
   ]
  },
  {
   "cell_type": "code",
   "execution_count": null,
   "metadata": {},
   "outputs": [],
   "source": []
  },
  {
   "cell_type": "code",
   "execution_count": null,
   "metadata": {},
   "outputs": [],
   "source": []
  },
  {
   "cell_type": "code",
   "execution_count": null,
   "metadata": {},
   "outputs": [],
   "source": []
  },
  {
   "cell_type": "code",
   "execution_count": 154,
   "metadata": {},
   "outputs": [
    {
     "data": {
      "text/plain": [
       "'\\nnew_df_check = EESL_GENUS_PO0000000403_00000_EP2PMeter_SBPDCL_Meter_Link_M_S_AND_MS_LINK.loc[2]\\n#print(f\"len of new_df_check: {new_df_check}\")\\na=\\';\\'\\nword=\"\"\\nfor i in new_df_check:\\n    print(i)\\n    for j in i:\\n        word=word+j\\n        if a in j:\\n            #print(a)\\n            #print(f\"word is : {word}\")\\n            word=\"\"\\n            #print(\"semicolon is here\")\\nprint(f\"last word is : {word}\")\\n\\n\\n'"
      ]
     },
     "execution_count": 154,
     "metadata": {},
     "output_type": "execute_result"
    }
   ],
   "source": [
    "\"\"\"\n",
    "new_df_check = EESL_GENUS_PO0000000403_00000_EP2PMeter_SBPDCL_Meter_Link_M_S_AND_MS_LINK.loc[2]\n",
    "#print(f\"len of new_df_check: {new_df_check}\")\n",
    "a=';'\n",
    "word=\"\"\n",
    "for i in new_df_check:\n",
    "    print(i)\n",
    "    for j in i:\n",
    "        word=word+j\n",
    "        if a in j:\n",
    "            #print(a)\n",
    "            #print(f\"word is : {word}\")\n",
    "            word=\"\"\n",
    "            #print(\"semicolon is here\")\n",
    "print(f\"last word is : {word}\")\n",
    "\n",
    "\n",
    "\"\"\""
   ]
  },
  {
   "cell_type": "code",
   "execution_count": null,
   "metadata": {},
   "outputs": [],
   "source": []
  },
  {
   "cell_type": "code",
   "execution_count": null,
   "metadata": {},
   "outputs": [],
   "source": []
  },
  {
   "cell_type": "markdown",
   "metadata": {},
   "source": [
    "### funciton for del and create the  folder on particular path\n"
   ]
  },
  {
   "cell_type": "code",
   "execution_count": null,
   "metadata": {},
   "outputs": [],
   "source": []
  },
  {
   "cell_type": "code",
   "execution_count": 155,
   "metadata": {},
   "outputs": [
    {
     "name": "stdout",
     "output_type": "stream",
     "text": [
      "Folder at  deleted successfully.\n",
      "Folder at  created successfully.\n"
     ]
    }
   ],
   "source": [
    "def folder_del_create(file_path):\n",
    "    if os.path.exists(file_path):\n",
    "        try:\n",
    "            # Delete the folder and its contents\n",
    "            shutil.rmtree(file_path)\n",
    "            os.makedirs(file_path)\n",
    "            print( \"Folder at  deleted successfully.\")\n",
    "            print( \"Folder at  created successfully.\")\n",
    "        except Exception as e:\n",
    "            print(f\"Error deleting folder: {e}\")\n",
    "\n",
    "\n",
    "#  METER,SIM AND METER-SIM LINK\n",
    "M_S_AND_MS_MSLINK_FILE = r'C:\\Users\\Ratan Kumar Jha\\Desktop\\METER_IMPORTATION_FOLDER\\SINGLE_ROW_DATA_OUTPUT\\METER,SIM AND METER-SIM LINK\\METER-SIM_LINK_FILE'\n",
    "M_S_AND_MS_M_FILE = r'C:\\Users\\Ratan Kumar Jha\\Desktop\\METER_IMPORTATION_FOLDER\\SINGLE_ROW_DATA_OUTPUT\\METER,SIM AND METER-SIM LINK\\METER_FILE'\n",
    "M_S_AND_MS_S_FILE =r'C:\\Users\\Ratan Kumar Jha\\Desktop\\METER_IMPORTATION_FOLDER\\SINGLE_ROW_DATA_OUTPUT\\METER,SIM AND METER-SIM LINK\\SIM_FILE'\n",
    "\n",
    "#\n",
    "S_AND_MSLINK_MSLINK_FILE =r'C:\\Users\\Ratan Kumar Jha\\Desktop\\METER_IMPORTATION_FOLDER\\SINGLE_ROW_DATA_OUTPUT\\SIM AND METER-SIM LINK FILE\\METER-SIM_LINK_FILE'\n",
    "S_AND_MSLINK_S_FILE =r'C:\\Users\\Ratan Kumar Jha\\Desktop\\METER_IMPORTATION_FOLDER\\SINGLE_ROW_DATA_OUTPUT\\SIM AND METER-SIM LINK FILE\\SIM_FILE'\n",
    "\n",
    "#METER-SIM LINK\n",
    "MS_AND_MS_MSLINK_FILE=r'C:\\Users\\Ratan Kumar Jha\\Desktop\\METER_IMPORTATION_FOLDER\\SINGLE_ROW_DATA_OUTPUT\\METER-SIM LINK\\METER-SIM_LINK_FILE'\n",
    "\n",
    "folder_del_create(M_S_AND_MS_MSLINK_FILE)"
   ]
  },
  {
   "cell_type": "code",
   "execution_count": 156,
   "metadata": {},
   "outputs": [
    {
     "name": "stdout",
     "output_type": "stream",
     "text": [
      "Folder at  deleted successfully.\n",
      "Folder at  created successfully.\n",
      "Folder at  deleted successfully.\n",
      "Folder at  created successfully.\n",
      "Folder at  deleted successfully.\n",
      "Folder at  created successfully.\n",
      "Folder at  deleted successfully.\n",
      "Folder at  created successfully.\n",
      "Folder at  deleted successfully.\n",
      "Folder at  created successfully.\n",
      "Folder at  deleted successfully.\n",
      "Folder at  created successfully.\n"
     ]
    }
   ],
   "source": [
    "folder_del_create(M_S_AND_MS_MSLINK_FILE)\n",
    "folder_del_create(M_S_AND_MS_M_FILE)\n",
    "folder_del_create(M_S_AND_MS_S_FILE)\n",
    "\n",
    "folder_del_create(S_AND_MSLINK_MSLINK_FILE)\n",
    "folder_del_create(S_AND_MSLINK_S_FILE)\n",
    "\n",
    "\n",
    "folder_del_create(MS_AND_MS_MSLINK_FILE)"
   ]
  },
  {
   "cell_type": "code",
   "execution_count": null,
   "metadata": {},
   "outputs": [],
   "source": []
  },
  {
   "cell_type": "code",
   "execution_count": null,
   "metadata": {},
   "outputs": [],
   "source": []
  },
  {
   "cell_type": "markdown",
   "metadata": {},
   "source": [
    "# function for generate single file"
   ]
  },
  {
   "cell_type": "code",
   "execution_count": 157,
   "metadata": {},
   "outputs": [],
   "source": [
    "def generate_sim_meter_link_each_row_file(df_file_path,base_path,new_folder_name, generated_file_name_prefix, generated_file_name_suffix):\n",
    "    data_frame_concat_data = pd.read_csv(df_file_path, header=None)\n",
    "\n",
    "    # base_path = r'C:\\Users\\Ratan Kumar Jha\\Desktop\\METER_IMPORTATION_FOLDER\\SINGLE_ROW_DATA_OUTPUT\\METER,SIM AND METER-SIM LINK\\METER-SIM_LINK_FILE'\n",
    "\n",
    "    num_folder = 0\n",
    "    k = 100\n",
    "    # new_folder_name = \"EESL_GENUS_SINGLE_METER\"\n",
    "\n",
    "    new_folder_path = os.path.join(base_path, new_folder_name)\n",
    "    os.makedirs(new_folder_path)\n",
    "\n",
    "    # CURRENT_TIME_STAMP = datetime.now().strftime('%Y%m%d_%H%M%S')\n",
    "\n",
    "    # Iterate through each row and save it as a separate file\n",
    "    for index, row in data_frame_concat_data.iterrows():\n",
    "        \n",
    "        # Create a new DataFrame with the current row\n",
    "        single_row_df = pd.DataFrame([row])\n",
    "        #print(f\"single_row_data : {single_row_df}\")\n",
    "        last_part_after_semicolon = row[0].rsplit(';', 1)[-1]\n",
    "        #print(f\"last_word : {last_part_after_semicolon}\")\n",
    "\n",
    "\n",
    "        CURRENT_TIME_STAMP = datetime.now().strftime('%Y%m%d_%H%M%S')\n",
    "        #print(CURRENT_TIME_STAMP)\n",
    "        \n",
    "        #print(k)\n",
    "        #print(\"-----------------\")\n",
    "        \n",
    "        # Create the full path for the new folder\n",
    "\n",
    "        if k > 995:\n",
    "            k = 100\n",
    "            final_new_folder_name = new_folder_name\n",
    "            num_folder = num_folder + 1\n",
    "            final_new_folder_name = new_folder_name + \"_\" + str(num_folder)\n",
    "            new_folder_path = os.path.join(base_path, final_new_folder_name)\n",
    "            os.makedirs(new_folder_path)\n",
    "        else:\n",
    "            file_name = generated_file_name_prefix + str(k) + generated_file_name_suffix + str(CURRENT_TIME_STAMP) + \"_\" + str(last_part_after_semicolon) + \".csv\"\n",
    "            #print(f\"file name is {file_name}\")\n",
    "            file_path = os.path.join(new_folder_path, file_name)\n",
    "            #single_row_df.to_csv(r\"C:\\Users\\Ratan Kumar Jha\\Desktop\\satyam_data\\single_file_data\\file_name\", index=False, header=False) \n",
    "            single_row_df.to_csv(file_path, index=False, header=False)\n",
    "            k=k+1\n",
    "\n",
    "        \n",
    "    print(\"METER-SIM LINK FILE DONE\")\n"
   ]
  },
  {
   "cell_type": "code",
   "execution_count": 158,
   "metadata": {},
   "outputs": [],
   "source": [
    "# METER-SIM LINK\n",
    "\n",
    "# 1. EESL_GENUS_PO0000000{k}_00000_SIM_Meter_Link_{CURRENT_TIME_STAMP}_{utility}.csv\n",
    "\n",
    "\n",
    "# SIM LINK FILE\n",
    "\n",
    "# 2.  EESL_BSNL_PO0000000{k}_00000_SIM_Meter_Link_{CURRENT_TIME_STAMP}_{utility}.csv\n",
    "# 3.  EESL_GENUS_PO0000000{k}_00000_SIM_{CURRENT_TIME_STAMP}_{utility}.csv\n",
    "\n",
    "# METER FILE\n",
    "\n",
    "# 4. EESL_GENUS_PO0000000{K}_00000_EP2PMeter_{CURRENT_TIME_STAMP}_{utility}.csv"
   ]
  },
  {
   "cell_type": "code",
   "execution_count": 159,
   "metadata": {},
   "outputs": [
    {
     "name": "stdout",
     "output_type": "stream",
     "text": [
      "An error occurred while executing the function:\n"
     ]
    }
   ],
   "source": [
    "\n",
    "# SIM-Meter link file for all the three action taken...\n",
    "\n",
    "# METER,SIM AND METER-SIM LINK  ----  METER-SIM_LINK_FILE\n",
    "df_file_path =r\"C:\\PYTHON\\EDF_CODE_AUTOMATION_PYTHON\\METER_MATCHING_DATA\\S_M_&_M_S_LINK_EESL_GENUS_PO0000000403_00000_SIM_Meter_Link.csv\"\n",
    "base_path = r'C:\\Users\\Ratan Kumar Jha\\Desktop\\METER_IMPORTATION_FOLDER\\SINGLE_ROW_DATA_OUTPUT\\METER,SIM AND METER-SIM LINK\\METER-SIM_LINK_FILE'\n",
    "new_folder_name = 'EESL_GENUS_SINGLE_METER'\n",
    "generated_file_name_prefix = 'EESL_GENUS_PO0000000'\n",
    "generated_file_name_suffix = '_00000_SIM_Meter_Link_'\n",
    "\n",
    "\n",
    "try:\n",
    "    generate_sim_meter_link_each_row_file(df_file_path,base_path,new_folder_name, generated_file_name_prefix, generated_file_name_suffix)\n",
    "except Exception as e:\n",
    "    # If an error occurs, print a custom message\n",
    "    print(\"An error occurred while executing the function:\")\n"
   ]
  },
  {
   "cell_type": "code",
   "execution_count": 160,
   "metadata": {},
   "outputs": [
    {
     "name": "stdout",
     "output_type": "stream",
     "text": [
      "METER-SIM LINK FILE DONE\n"
     ]
    }
   ],
   "source": [
    "\n",
    "#change the df file path\n",
    "#  SIM AND METER-SIM LINK FILE\\METER-SIM_LINK_FILE\n",
    "\n",
    "\n",
    "df_file_path = r\"C:\\PYTHON\\EDF_CODE_AUTOMATION_PYTHON\\METER_MATCHING_DATA\\S_&_M_S_LINK_EESL_GENUS_PO0000000403_00000_SIM_Meter_Link.csv\"\n",
    "base_path = r'C:\\Users\\Ratan Kumar Jha\\Desktop\\METER_IMPORTATION_FOLDER\\SINGLE_ROW_DATA_OUTPUT\\SIM AND METER-SIM LINK FILE\\METER-SIM_LINK_FILE'\n",
    "new_folder_name = 'EESL_GENUS_SINGLE_METER'\n",
    "generated_file_name_prefix = 'EESL_GENUS_PO0000000'\n",
    "generated_file_name_suffix = '_00000_SIM_Meter_Link_'\n",
    "\n",
    "\n",
    "try:\n",
    "    generate_sim_meter_link_each_row_file(df_file_path,base_path,new_folder_name, generated_file_name_prefix, generated_file_name_suffix)\n",
    "except Exception as e:\n",
    "    # If an error occurs, print a custom message\n",
    "    print(\"An error occurred while executing the function:\")"
   ]
  },
  {
   "cell_type": "code",
   "execution_count": 161,
   "metadata": {},
   "outputs": [
    {
     "name": "stdout",
     "output_type": "stream",
     "text": [
      "METER-SIM LINK FILE DONE\n"
     ]
    }
   ],
   "source": [
    "\n",
    "\n",
    "#change the df file path\n",
    "\n",
    "# METER-SIM LINK\\METER-SIM_LINK_FILE\n",
    "\n",
    "df_file_path = r\"C:\\PYTHON\\EDF_CODE_AUTOMATION_PYTHON\\METER_MATCHING_DATA\\M_S_LINK_EESL_GENUS_PO0000000403_00000_SIM_Meter_Link.csv\"\n",
    "base_path = r'C:\\Users\\Ratan Kumar Jha\\Desktop\\METER_IMPORTATION_FOLDER\\SINGLE_ROW_DATA_OUTPUT\\METER-SIM LINK\\METER-SIM_LINK_FILE'\n",
    "new_folder_name = 'EESL_GENUS_SINGLE_METER'\n",
    "generated_file_name_prefix = 'EESL_GENUS_PO0000000'\n",
    "generated_file_name_suffix = '_00000_SIM_Meter_Link_'\n",
    "\n",
    "\n",
    "try:\n",
    "    generate_sim_meter_link_each_row_file(df_file_path,base_path,new_folder_name, generated_file_name_prefix, generated_file_name_suffix)\n",
    "except Exception as e:\n",
    "    # If an error occurs, print a custom message\n",
    "    print(\"An error occurred while executing the function:\")"
   ]
  },
  {
   "cell_type": "code",
   "execution_count": null,
   "metadata": {},
   "outputs": [],
   "source": []
  },
  {
   "cell_type": "code",
   "execution_count": null,
   "metadata": {},
   "outputs": [],
   "source": []
  },
  {
   "cell_type": "code",
   "execution_count": 162,
   "metadata": {},
   "outputs": [],
   "source": [
    "# function for sim file "
   ]
  },
  {
   "cell_type": "code",
   "execution_count": 163,
   "metadata": {},
   "outputs": [
    {
     "name": "stdout",
     "output_type": "stream",
     "text": [
      "An error occurred while executing the function:\n"
     ]
    }
   ],
   "source": [
    "\n",
    "\n",
    "#change the df file path\n",
    "\n",
    "# METER-SIM LINK\\METER-SIM_LINK_FILE\n",
    "\n",
    "df_file_path = r\"C:\\PYTHON\\EDF_CODE_AUTOMATION_PYTHON\\METER_MATCHING_DATA\\M_S_AND_MS_LINK_EESL_BSNL_PO0000000403_00000_SIM_Link.csv\"\n",
    "base_path = r'C:\\Users\\Ratan Kumar Jha\\Desktop\\METER_IMPORTATION_FOLDER\\SINGLE_ROW_DATA_OUTPUT\\METER,SIM AND METER-SIM LINK\\SIM_FILE'\n",
    "new_folder_name = 'EESL_BSNL_SINGLE_METER'\n",
    "generated_file_name_prefix = 'EESL_BSNL_PO0000000'\n",
    "generated_file_name_suffix = '_00000_SIM_Meter_Link_'\n",
    "\n",
    "\n",
    "try:\n",
    "    generate_sim_meter_link_each_row_file(df_file_path,base_path,new_folder_name, generated_file_name_prefix, generated_file_name_suffix)\n",
    "except Exception as e:\n",
    "    # If an error occurs, print a custom message\n",
    "    print(\"An error occurred while executing the function:\")"
   ]
  },
  {
   "cell_type": "code",
   "execution_count": 164,
   "metadata": {},
   "outputs": [
    {
     "name": "stdout",
     "output_type": "stream",
     "text": [
      "METER-SIM LINK FILE DONE\n"
     ]
    }
   ],
   "source": [
    "\n",
    "\n",
    "#change the df file path\n",
    "\n",
    "# METER-SIM LINK\\METER-SIM_LINK_FILE\n",
    "\n",
    "df_file_path = r\"C:\\PYTHON\\EDF_CODE_AUTOMATION_PYTHON\\METER_MATCHING_DATA\\S_AND_MS_LINK_EESL_BSNL_PO0000000403_00000_SIM_Link.csv\"\n",
    "base_path = r'C:\\Users\\Ratan Kumar Jha\\Desktop\\METER_IMPORTATION_FOLDER\\SINGLE_ROW_DATA_OUTPUT\\SIM AND METER-SIM LINK FILE\\SIM_FILE'\n",
    "new_folder_name = 'EESL_BSNL_SINGLE_METER'\n",
    "generated_file_name_prefix = 'EESL_GENUS_PO0000000'\n",
    "generated_file_name_suffix = '_00000_SIM_'\n",
    "\n",
    "\n",
    "try:\n",
    "    generate_sim_meter_link_each_row_file(df_file_path,base_path,new_folder_name, generated_file_name_prefix, generated_file_name_suffix)\n",
    "except Exception as e:\n",
    "    # If an error occurs, print a custom message\n",
    "    print(\"An error occurred while executing the function:\")"
   ]
  },
  {
   "cell_type": "code",
   "execution_count": 165,
   "metadata": {},
   "outputs": [
    {
     "name": "stdout",
     "output_type": "stream",
     "text": [
      "An error occurred while executing the function:\n"
     ]
    }
   ],
   "source": [
    "# meter file function\n",
    "\n",
    "\n",
    "# METER,SIM AND METER-SIM LINK  ----  METER_LINK_FILE\n",
    "df_file_path =r\"C:\\PYTHON\\EDF_CODE_AUTOMATION_PYTHON\\METER_MATCHING_DATA\\S_M_&_M_S_LINK_EESL_GENUS_PO0000000403_00000_EP2PMeter_Meter_Link.csv\"\n",
    "base_path = r'C:\\Users\\Ratan Kumar Jha\\Desktop\\METER_IMPORTATION_FOLDER\\SINGLE_ROW_DATA_OUTPUT\\METER,SIM AND METER-SIM LINK\\METER_FILE'\n",
    "new_folder_name = 'EESL_GENUS_SINGLE_METER'\n",
    "generated_file_name_prefix = 'EESL_GENUS_PO0000000'\n",
    "generated_file_name_suffix = '_00000_EP2PMeter_'\n",
    "\n",
    "\n",
    "\n",
    "try:\n",
    "    generate_sim_meter_link_each_row_file(df_file_path,base_path,new_folder_name, generated_file_name_prefix, generated_file_name_suffix)\n",
    "except Exception as e:\n",
    "    # If an error occurs, print a custom message\n",
    "    print(\"An error occurred while executing the function:\")"
   ]
  },
  {
   "cell_type": "code",
   "execution_count": null,
   "metadata": {},
   "outputs": [],
   "source": []
  },
  {
   "cell_type": "code",
   "execution_count": null,
   "metadata": {},
   "outputs": [],
   "source": []
  },
  {
   "cell_type": "code",
   "execution_count": 166,
   "metadata": {},
   "outputs": [],
   "source": [
    "#EESL_BSNL_PO0000000402_00000_SIM_20231220_121002_SBPDCL\n",
    "#404751250004001;8991759065212004001;fd00:0000:0800:CC19:0000:0000:0000:0001;;BSNLEDF;ACTIVE;SBPDCL"
   ]
  },
  {
   "cell_type": "code",
   "execution_count": 167,
   "metadata": {},
   "outputs": [
    {
     "name": "stdout",
     "output_type": "stream",
     "text": [
      "Zip file created at: C:\\Users\\Ratan Kumar Jha\\Desktop\\METER_IMPORTATION_FOLDER\\METER_IMPORTATION_ZIMP_FILE.zip\n"
     ]
    }
   ],
   "source": [
    "import shutil\n",
    "\n",
    "# Specify the folder path\n",
    "folder_path = r'C:\\Users\\Ratan Kumar Jha\\Desktop\\METER_IMPORTATION_FOLDER'\n",
    "\n",
    "# Specify the output zip file path\n",
    "output_zip_path = r'C:\\Users\\Ratan Kumar Jha\\Desktop\\METER_IMPORTATION_FOLDER\\METER_IMPORTATION_ZIMP_FILE.zip'\n",
    "\n",
    "# Create a zip file from the folder\n",
    "shutil.make_archive(output_zip_path, 'zip', folder_path)\n",
    "\n",
    "print(f\"Zip file created at: {output_zip_path}\")\n"
   ]
  },
  {
   "cell_type": "code",
   "execution_count": null,
   "metadata": {},
   "outputs": [],
   "source": []
  },
  {
   "cell_type": "code",
   "execution_count": null,
   "metadata": {},
   "outputs": [],
   "source": []
  },
  {
   "cell_type": "code",
   "execution_count": 168,
   "metadata": {},
   "outputs": [
    {
     "ename": "SyntaxError",
     "evalue": "invalid syntax (4184175093.py, line 1)",
     "output_type": "error",
     "traceback": [
      "\u001b[1;36m  Cell \u001b[1;32mIn[168], line 1\u001b[1;36m\u001b[0m\n\u001b[1;33m    THE END LETS CHECK\u001b[0m\n\u001b[1;37m        ^\u001b[0m\n\u001b[1;31mSyntaxError\u001b[0m\u001b[1;31m:\u001b[0m invalid syntax\n"
     ]
    }
   ],
   "source": [
    "  THE END LETS CHECK"
   ]
  },
  {
   "cell_type": "code",
   "execution_count": null,
   "metadata": {},
   "outputs": [
    {
     "ename": "",
     "evalue": "",
     "output_type": "error",
     "traceback": [
      "\u001b[1;31mThe kernel failed to start due to the missing module 'dotenv'. Consider installing this module.\n",
      "\u001b[1;31mClick <a href='https://aka.ms/kernelFailuresMissingModule'>here</a> for more info.\n",
      "\u001b[1;31mSome of the following files found in the working directory may have prevented the Kernel from starting. Consider renaming them.\n",
      "\u001b[1;31mFile(s): <a href='file:///c%3A/PYTHON/EDF_CODE_AUTOMATION_PYTHON/METER_MATCHING_DATA/code.py?line=1'>~\\code.py</a> might need to be renamed.\n",
      "\u001b[1;31mClick <a href='https://aka.ms/JupyterKernelStartFailureOverrideReservedName'>here</a> for more info."
     ]
    }
   ],
   "source": []
  },
  {
   "cell_type": "code",
   "execution_count": null,
   "metadata": {},
   "outputs": [
    {
     "ename": "",
     "evalue": "",
     "output_type": "error",
     "traceback": [
      "\u001b[1;31mThe kernel failed to start due to the missing module 'dotenv'. Consider installing this module.\n",
      "\u001b[1;31mClick <a href='https://aka.ms/kernelFailuresMissingModule'>here</a> for more info.\n",
      "\u001b[1;31mSome of the following files found in the working directory may have prevented the Kernel from starting. Consider renaming them.\n",
      "\u001b[1;31mFile(s): <a href='file:///c%3A/PYTHON/EDF_CODE_AUTOMATION_PYTHON/METER_MATCHING_DATA/code.py?line=1'>~\\code.py</a> might need to be renamed.\n",
      "\u001b[1;31mClick <a href='https://aka.ms/JupyterKernelStartFailureOverrideReservedName'>here</a> for more info."
     ]
    }
   ],
   "source": []
  },
  {
   "cell_type": "markdown",
   "metadata": {},
   "source": [
    "# XML CODE"
   ]
  },
  {
   "cell_type": "code",
   "execution_count": null,
   "metadata": {},
   "outputs": [
    {
     "ename": "",
     "evalue": "",
     "output_type": "error",
     "traceback": [
      "\u001b[1;31mThe kernel failed to start due to the missing module 'dotenv'. Consider installing this module.\n",
      "\u001b[1;31mClick <a href='https://aka.ms/kernelFailuresMissingModule'>here</a> for more info.\n",
      "\u001b[1;31mSome of the following files found in the working directory may have prevented the Kernel from starting. Consider renaming them.\n",
      "\u001b[1;31mFile(s): <a href='file:///c%3A/PYTHON/EDF_CODE_AUTOMATION_PYTHON/METER_MATCHING_DATA/code.py?line=1'>~\\code.py</a> might need to be renamed.\n",
      "\u001b[1;31mClick <a href='https://aka.ms/JupyterKernelStartFailureOverrideReservedName'>here</a> for more info."
     ]
    }
   ],
   "source": [
    "import xml.etree.ElementTree as ET\n",
    "from datetime import datetime\n",
    "def get_current_date():\n",
    "    return datetime.now().strftime(\"%Y-%m-%d\")\n",
    "for index,rows in EESL_GENUS_PO0000000403_00000_EP2PMeter_SBPDCL_Meter_Link_M_S_AND_MS_LINK.iterrows():\n",
    "    semicolon_split = rows[0].split(';')\n",
    "    CURRENT_TIME_STAMP = datetime.now().strftime('%Y-%m-%dT%H:%M:%S')\n",
    "    if semicolon_split[3] == '6_D1':\n",
    "        csv_data = [\n",
    "            {\"verb\": \"SDPSync\", \"noun\": \"SDPSync\", \"revision\": \"1\", \"dateTime\": CURRENT_TIME_STAMP, \"source\": \"CIS\", \"messageID\": \"MESSAGE-10001\", \"asyncReplyTo\": \"none\", \"syncMode\": \"sync\", \"optimizationLevel\": \"Optimistic\"},\n",
    "            {\"mRID\": semicolon_split[0], \"className\": \"EP2PMeter\", \"type\": \"Meter\", \"virtualInd\": \"N\", \"description\": \"Meter Description\", \"model\": semicolon_split[4], \"manufacturedDate\": semicolon_split[6], \"mfgSerialNumber\": semicolon_split[1], \"testDate\": semicolon_split[6], \"status\": \"Meter Shop\", \"commTechnology\": \"3G\", \"badgeId\": semicolon_split[0], \"sandardId\": semicolon_split[0], \"electronicId\": semicolon_split[0], \"make\": semicolon_split[5], \"deviceFunctionType\": \"N\", \"utility_id\": semicolon_split[-1]},\n",
    "            {\"name\": \"Phase Type\", \"value\": \"1\", \"startDate\": get_current_date()},\n",
    "            {\"name\": \"Device Protocol\", \"value\": \"DLMS\", \"startDate\": get_current_date()},\n",
    "            {\"name\": \"Firmware Version\", \"value\": semicolon_split[11], \"startDate\": get_current_date()},\n",
    "            {\"name\": \"DLMS Port\", \"value\": \"4059\", \"startDate\": get_current_date()}\n",
    "        ]\n",
    "    else:\n",
    "        csv_data = [\n",
    "            {\"verb\": \"SDPSync\", \"noun\": \"SDPSync\", \"revision\": \"1\", \"dateTime\": CURRENT_TIME_STAMP, \"source\": \"CIS\", \"messageID\": \"MESSAGE-10001\", \"asyncReplyTo\": \"none\", \"syncMode\": \"sync\", \"optimizationLevel\": \"Optimistic\"},\n",
    "            {\"mRID\": semicolon_split[0], \"className\": \"EP2PMeter\", \"type\": \"Meter\", \"virtualInd\": \"N\", \"description\": \"Meter Description\", \"model\": semicolon_split[4], \"manufacturedDate\": semicolon_split[6], \"mfgSerialNumber\": semicolon_split[1], \"testDate\": semicolon_split[6], \"status\": \"Meter Shop\", \"commTechnology\": \"3G\", \"badgeId\": semicolon_split[0], \"sandardId\": semicolon_split[0], \"electronicId\": semicolon_split[0], \"make\": semicolon_split[5], \"deviceFunctionType\": \"N\", \"utility_id\": semicolon_split[-1]},\n",
    "            {\"name\": \"Phase Type\", \"value\": \"3\", \"startDate\": get_current_date()},\n",
    "            {\"name\": \"Device Protocol\", \"value\": \"DLMS\", \"startDate\": get_current_date()},\n",
    "            {\"name\": \"Firmware Version\", \"value\": semicolon_split[11], \"startDate\": get_current_date()},\n",
    "            {\"name\": \"DLMS Port\", \"value\": \"4059\", \"startDate\": get_current_date()}\n",
    "        ]\n",
    "\n",
    "    # Start building the XML string\n",
    "    xml_string = '<SDPSyncMessage xmlns=\"http://www.emeter.com/energyip/syncinterface/v8\" xmlns:xsi=\"http://www.w3.org/2001/XMLSchema-instance\">\\n'\n",
    "\n",
    "    # Loop through the data and append to the XML string\n",
    "    for row in csv_data:\n",
    "        \n",
    "        if row.get(\"verb\"):\n",
    "            xml_string += '    <header>\\n'\n",
    "        elif row.get(\"mRID\"):\n",
    "            xml_string += '    <payload>\\n        <device>\\n'\n",
    "        elif row.get(\"name\"):\n",
    "            xml_string += '            <parameter>\\n'\n",
    "        else:\n",
    "            xml_string += '    <payload>\\n        <device>\\n'\n",
    "        \n",
    "        for key, value in row.items():\n",
    "            if key != \"verb\" and key != \"mRID\" and key != \"name\":\n",
    "                if key != \"value\" and key != \"startDate\":\n",
    "                    xml_string += f'            <{key}>{value}</{key}>\\n'\n",
    "                else:\n",
    "                    xml_string += f'                <{key}>{value}</{key}>\\n'\n",
    "            elif key == \"value\" and key == \"\":\n",
    "                xml_string += f'                <{key}>{value}</{key}>\\n'\n",
    "            elif key == \"verb\":\n",
    "                xml_string += f'            <{key}>{value}</{key}>\\n'\n",
    "            elif key == \"mRID\":\n",
    "                xml_string += f'            <{key}>{value}</{key}>\\n'\n",
    "            elif key == \"name\":\n",
    "                xml_string += f'                <{key}>{value}</{key}>\\n'\n",
    "\n",
    "\n",
    "\n",
    "        if row.get(\"verb\"):\n",
    "            xml_string += '    </header>\\n'\n",
    "        elif row.get(\"name\"):\n",
    "            xml_string += '            </parameter>\\n'\n",
    "        #else:\n",
    "            #xml_string += '        </device>\\n    </payload>\\n'\n",
    "\n",
    "    # Close the root element\n",
    "    xml_string += '         </device>\\n     </payload>\\n</SDPSyncMessage>'\n",
    "\n",
    "    # Print the XML string for verification\n",
    "    print(xml_string)\n",
    "    # Save the XML string to a file\n",
    "    with open('output.xml', 'w') as file:\n",
    "        file.write(xml_string)\n",
    "\n",
    "    # Print a message indicating successful save\n",
    "    print(\"XML string saved to 'output.xml'\")\n",
    "\n",
    "\n",
    "    # Parse the XML string\n",
    "    root = ET.fromstring(xml_string)\n",
    "    break\n",
    "    \n",
    "    \n",
    "        "
   ]
  },
  {
   "cell_type": "code",
   "execution_count": null,
   "metadata": {},
   "outputs": [
    {
     "ename": "",
     "evalue": "",
     "output_type": "error",
     "traceback": [
      "\u001b[1;31mThe kernel failed to start due to the missing module 'dotenv'. Consider installing this module.\n",
      "\u001b[1;31mClick <a href='https://aka.ms/kernelFailuresMissingModule'>here</a> for more info.\n",
      "\u001b[1;31mSome of the following files found in the working directory may have prevented the Kernel from starting. Consider renaming them.\n",
      "\u001b[1;31mFile(s): <a href='file:///c%3A/PYTHON/EDF_CODE_AUTOMATION_PYTHON/METER_MATCHING_DATA/code.py?line=1'>~\\code.py</a> might need to be renamed.\n",
      "\u001b[1;31mClick <a href='https://aka.ms/JupyterKernelStartFailureOverrideReservedName'>here</a> for more info."
     ]
    }
   ],
   "source": []
  },
  {
   "cell_type": "code",
   "execution_count": null,
   "metadata": {},
   "outputs": [
    {
     "ename": "",
     "evalue": "",
     "output_type": "error",
     "traceback": [
      "\u001b[1;31mThe kernel failed to start due to the missing module 'dotenv'. Consider installing this module.\n",
      "\u001b[1;31mClick <a href='https://aka.ms/kernelFailuresMissingModule'>here</a> for more info.\n",
      "\u001b[1;31mSome of the following files found in the working directory may have prevented the Kernel from starting. Consider renaming them.\n",
      "\u001b[1;31mFile(s): <a href='file:///c%3A/PYTHON/EDF_CODE_AUTOMATION_PYTHON/METER_MATCHING_DATA/code.py?line=1'>~\\code.py</a> might need to be renamed.\n",
      "\u001b[1;31mClick <a href='https://aka.ms/JupyterKernelStartFailureOverrideReservedName'>here</a> for more info."
     ]
    }
   ],
   "source": [
    "# XML CODE WITH OUTPUT SAVE IN DIFF FILE"
   ]
  },
  {
   "cell_type": "code",
   "execution_count": null,
   "metadata": {},
   "outputs": [
    {
     "ename": "",
     "evalue": "",
     "output_type": "error",
     "traceback": [
      "\u001b[1;31mThe kernel failed to start due to the missing module 'dotenv'. Consider installing this module.\n",
      "\u001b[1;31mClick <a href='https://aka.ms/kernelFailuresMissingModule'>here</a> for more info.\n",
      "\u001b[1;31mSome of the following files found in the working directory may have prevented the Kernel from starting. Consider renaming them.\n",
      "\u001b[1;31mFile(s): <a href='file:///c%3A/PYTHON/EDF_CODE_AUTOMATION_PYTHON/METER_MATCHING_DATA/code.py?line=1'>~\\code.py</a> might need to be renamed.\n",
      "\u001b[1;31mClick <a href='https://aka.ms/JupyterKernelStartFailureOverrideReservedName'>here</a> for more info."
     ]
    }
   ],
   "source": [
    "import xml.etree.ElementTree as ET\n",
    "from datetime import datetime\n",
    "import os\n",
    "\n",
    "def get_current_date():\n",
    "    return datetime.now().strftime(\"%Y-%m-%d\")\n",
    "\n",
    "\n",
    "CURRENT_TIME = datetime.now().strftime('%Y%m%d_%H%M%S')\n",
    "\n",
    "num_folder = 0\n",
    "k = 100\n",
    "base_path = r'C:\\Users\\Ratan Kumar Jha\\Desktop\\METER_IMPORTATION_FOLDER\\XML_OUTPUT_FILE\\METER,SIM AND METER-SIM LINK\\METER_FILE'\n",
    "new_folder_name = 'METER_XML_OUTPUT_M_S_&_MS_LINK'\n",
    "\n",
    "\n",
    "new_folder_path = os.path.join(base_path, new_folder_name)\n",
    "os.makedirs(new_folder_path)\n",
    "\n",
    "\n",
    "for index,rows in EESL_GENUS_PO0000000403_00000_EP2PMeter_SBPDCL_Meter_Link_M_S_AND_MS_LINK.iterrows():\n",
    "    semicolon_split_for_file_name = rows[0].split(';')\n",
    "    semicolon_split = rows[0].split(';')\n",
    "            \n",
    "    CURRENT_TIME_STAMP = datetime.now().strftime('%Y-%m-%dT%H:%M:%S')\n",
    "\n",
    "    if semicolon_split[3] == '6_D1':\n",
    "        csv_data = [\n",
    "            {\"verb\": \"SDPSync\", \"noun\": \"SDPSync\", \"revision\": \"1\", \"dateTime\": CURRENT_TIME_STAMP, \"source\": \"CIS\", \"messageID\": \"MESSAGE-10001\", \"asyncReplyTo\": \"none\", \"syncMode\": \"sync\", \"optimizationLevel\": \"Optimistic\"},\n",
    "            {\"mRID\": semicolon_split[0], \"className\": \"EP2PMeter\", \"type\": \"Meter\", \"virtualInd\": \"N\", \"description\": \"Meter Description\", \"model\": semicolon_split[4], \"manufacturedDate\": semicolon_split[6], \"mfgSerialNumber\": semicolon_split[1], \"testDate\": semicolon_split[6], \"status\": \"Meter Shop\", \"commTechnology\": \"3G\", \"badgeId\": semicolon_split[0], \"sandardId\": semicolon_split[0], \"electronicId\": semicolon_split[0], \"make\": semicolon_split[5], \"deviceFunctionType\": \"N\", \"utility_id\": semicolon_split[-1]},\n",
    "            {\"name\": \"Phase Type\", \"value\": \"1\", \"startDate\": get_current_date()},\n",
    "            {\"name\": \"Device Protocol\", \"value\": \"DLMS\", \"startDate\": get_current_date()},\n",
    "            {\"name\": \"Firmware Version\", \"value\": semicolon_split[11], \"startDate\": get_current_date()},\n",
    "            {\"name\": \"DLMS Port\", \"value\": \"4059\", \"startDate\": get_current_date()}\n",
    "            ]\n",
    "    else:\n",
    "        csv_data = [\n",
    "            {\"verb\": \"SDPSync\", \"noun\": \"SDPSync\", \"revision\": \"1\", \"dateTime\": CURRENT_TIME_STAMP, \"source\": \"CIS\", \"messageID\": \"MESSAGE-10001\", \"asyncReplyTo\": \"none\", \"syncMode\": \"sync\", \"optimizationLevel\": \"Optimistic\"},\n",
    "            {\"mRID\": semicolon_split[0], \"className\": \"EP2PMeter\", \"type\": \"Meter\", \"virtualInd\": \"N\", \"description\": \"Meter Description\", \"model\": semicolon_split[4], \"manufacturedDate\": semicolon_split[6], \"mfgSerialNumber\": semicolon_split[1], \"testDate\": semicolon_split[6], \"status\": \"Meter Shop\", \"commTechnology\": \"3G\", \"badgeId\": semicolon_split[0], \"sandardId\": semicolon_split[0], \"electronicId\": semicolon_split[0], \"make\": semicolon_split[5], \"deviceFunctionType\": \"N\", \"utility_id\": semicolon_split[-1]},\n",
    "            {\"name\": \"Phase Type\", \"value\": \"3\", \"startDate\": get_current_date()},\n",
    "            {\"name\": \"Device Protocol\", \"value\": \"DLMS\", \"startDate\": get_current_date()},\n",
    "            {\"name\": \"Firmware Version\", \"value\": semicolon_split[11], \"startDate\": get_current_date()},\n",
    "            {\"name\": \"DLMS Port\", \"value\": \"4059\", \"startDate\": get_current_date()}\n",
    "            ]\n",
    "    xml_string = '<SDPSyncMessage xmlns=\"http://www.emeter.com/energyip/syncinterface/v8\" xmlns:xsi=\"http://www.w3.org/2001/XMLSchema-instance\">\\n'\n",
    "\n",
    "                # Loop through the data and append to the XML string\n",
    "    for row in csv_data:\n",
    "            \n",
    "        if row.get(\"verb\"):\n",
    "            xml_string += '    <header>\\n'\n",
    "        elif row.get(\"mRID\"):\n",
    "            xml_string += '    <payload>\\n        <device>\\n'\n",
    "        elif row.get(\"name\"):\n",
    "            xml_string += '            <parameter>\\n'\n",
    "        else:\n",
    "            xml_string += '    <payload>\\n        <device>\\n'\n",
    "\n",
    "        for key, value in row.items():\n",
    "            if key != \"verb\" and key != \"mRID\" and key != \"name\":\n",
    "                if key != \"value\" and key != \"startDate\":\n",
    "                    xml_string += f'            <{key}>{value}</{key}>\\n'\n",
    "                else:\n",
    "                    xml_string += f'                <{key}>{value}</{key}>\\n'\n",
    "            elif key == \"value\" and key == \"\":\n",
    "                xml_string += f'                <{key}>{value}</{key}>\\n'\n",
    "            elif key == \"verb\":\n",
    "                xml_string += f'            <{key}>{value}</{key}>\\n'\n",
    "            elif key == \"mRID\":\n",
    "                xml_string += f'            <{key}>{value}</{key}>\\n'\n",
    "            elif key == \"name\":\n",
    "                xml_string += f'                <{key}>{value}</{key}>\\n'\n",
    "\n",
    "        if row.get(\"verb\"):\n",
    "            xml_string += '    </header>\\n'\n",
    "        elif row.get(\"name\"):\n",
    "            xml_string += '            </parameter>\\n'\n",
    "            #else:\n",
    "                #xml_string += '        </device>\\n    </payload>\\n'\\\n",
    "            \n",
    "    xml_string += '         </device>\\n     </payload>\\n</SDPSyncMessage>'\n",
    "            #root = ET.fromstring(xml_string)\n",
    "    root = ET.ElementTree(ET.fromstring(xml_string))\n",
    "\n",
    "    k=k+1 \n",
    "\n",
    "    if k > 995:\n",
    "            k = 100\n",
    "            final_new_folder_name = new_folder_name\n",
    "            num_folder = num_folder + 1\n",
    "            final_new_folder_name = new_folder_name + \"_\" + str(num_folder)\n",
    "            new_folder_path = os.path.join(base_path, final_new_folder_name)\n",
    "            os.makedirs(new_folder_path)\n",
    "    else:\n",
    "        file_name = \"Sync_Electric_Meter_\" + semicolon_split_for_file_name[0] + \"_\"  + semicolon_split_for_file_name[-1] + \"_\" + str(CURRENT_TIME)  + \"-\" + str(k) + \".xml\"\n",
    "        print(file_name)\n",
    "        #print(f\"file name is {file_name}\")\n",
    "        file_path = os.path.join(new_folder_path, file_name)\n",
    "        print(file_path)\n",
    "\n",
    "        #single_row_df.to_csv(r\"C:\\Users\\Ratan Kumar Jha\\Desktop\\satyam_data\\single_file_data\\file_name\", index=False, header=False) \n",
    "        with open(file_path, 'w') as file:\n",
    "            file.write(xml_string)\n",
    "        \n",
    "    \n",
    "        "
   ]
  },
  {
   "cell_type": "code",
   "execution_count": null,
   "metadata": {},
   "outputs": [
    {
     "ename": "",
     "evalue": "",
     "output_type": "error",
     "traceback": [
      "\u001b[1;31mThe kernel failed to start due to the missing module 'dotenv'. Consider installing this module.\n",
      "\u001b[1;31mClick <a href='https://aka.ms/kernelFailuresMissingModule'>here</a> for more info.\n",
      "\u001b[1;31mSome of the following files found in the working directory may have prevented the Kernel from starting. Consider renaming them.\n",
      "\u001b[1;31mFile(s): <a href='file:///c%3A/PYTHON/EDF_CODE_AUTOMATION_PYTHON/METER_MATCHING_DATA/code.py?line=1'>~\\code.py</a> might need to be renamed.\n",
      "\u001b[1;31mClick <a href='https://aka.ms/JupyterKernelStartFailureOverrideReservedName'>here</a> for more info."
     ]
    }
   ],
   "source": []
  },
  {
   "cell_type": "code",
   "execution_count": null,
   "metadata": {},
   "outputs": [
    {
     "ename": "",
     "evalue": "",
     "output_type": "error",
     "traceback": [
      "\u001b[1;31mThe kernel failed to start due to the missing module 'dotenv'. Consider installing this module.\n",
      "\u001b[1;31mClick <a href='https://aka.ms/kernelFailuresMissingModule'>here</a> for more info.\n",
      "\u001b[1;31mSome of the following files found in the working directory may have prevented the Kernel from starting. Consider renaming them.\n",
      "\u001b[1;31mFile(s): <a href='file:///c%3A/PYTHON/EDF_CODE_AUTOMATION_PYTHON/METER_MATCHING_DATA/code.py?line=1'>~\\code.py</a> might need to be renamed.\n",
      "\u001b[1;31mClick <a href='https://aka.ms/JupyterKernelStartFailureOverrideReservedName'>here</a> for more info."
     ]
    }
   ],
   "source": []
  },
  {
   "cell_type": "code",
   "execution_count": null,
   "metadata": {},
   "outputs": [
    {
     "ename": "",
     "evalue": "",
     "output_type": "error",
     "traceback": [
      "\u001b[1;31mThe kernel failed to start due to the missing module 'dotenv'. Consider installing this module.\n",
      "\u001b[1;31mClick <a href='https://aka.ms/kernelFailuresMissingModule'>here</a> for more info.\n",
      "\u001b[1;31mSome of the following files found in the working directory may have prevented the Kernel from starting. Consider renaming them.\n",
      "\u001b[1;31mFile(s): <a href='file:///c%3A/PYTHON/EDF_CODE_AUTOMATION_PYTHON/METER_MATCHING_DATA/code.py?line=1'>~\\code.py</a> might need to be renamed.\n",
      "\u001b[1;31mClick <a href='https://aka.ms/JupyterKernelStartFailureOverrideReservedName'>here</a> for more info."
     ]
    }
   ],
   "source": []
  },
  {
   "cell_type": "code",
   "execution_count": null,
   "metadata": {},
   "outputs": [
    {
     "ename": "",
     "evalue": "",
     "output_type": "error",
     "traceback": [
      "\u001b[1;31mThe kernel failed to start due to the missing module 'dotenv'. Consider installing this module.\n",
      "\u001b[1;31mClick <a href='https://aka.ms/kernelFailuresMissingModule'>here</a> for more info.\n",
      "\u001b[1;31mSome of the following files found in the working directory may have prevented the Kernel from starting. Consider renaming them.\n",
      "\u001b[1;31mFile(s): <a href='file:///c%3A/PYTHON/EDF_CODE_AUTOMATION_PYTHON/METER_MATCHING_DATA/code.py?line=1'>~\\code.py</a> might need to be renamed.\n",
      "\u001b[1;31mClick <a href='https://aka.ms/JupyterKernelStartFailureOverrideReservedName'>here</a> for more info."
     ]
    }
   ],
   "source": []
  },
  {
   "cell_type": "markdown",
   "metadata": {},
   "source": [
    "# create multiple single file"
   ]
  },
  {
   "cell_type": "code",
   "execution_count": null,
   "metadata": {},
   "outputs": [
    {
     "ename": "",
     "evalue": "",
     "output_type": "error",
     "traceback": [
      "\u001b[1;31mThe kernel failed to start due to the missing module 'dotenv'. Consider installing this module.\n",
      "\u001b[1;31mClick <a href='https://aka.ms/kernelFailuresMissingModule'>here</a> for more info.\n",
      "\u001b[1;31mSome of the following files found in the working directory may have prevented the Kernel from starting. Consider renaming them.\n",
      "\u001b[1;31mFile(s): <a href='file:///c%3A/PYTHON/EDF_CODE_AUTOMATION_PYTHON/METER_MATCHING_DATA/code.py?line=1'>~\\code.py</a> might need to be renamed.\n",
      "\u001b[1;31mClick <a href='https://aka.ms/JupyterKernelStartFailureOverrideReservedName'>here</a> for more info."
     ]
    }
   ],
   "source": [
    "import pandas as pd\n",
    "\n",
    "import os,sys\n",
    "from datetime import datetime\n",
    "\n",
    "k=100\n",
    "# Load your file into a pandas DataFrame\n",
    "data_frame_concat_data = pd.read_csv(r'C:\\Users\\Ratan Kumar Jha\\Desktop\\METER_IMPORTATION_SINGLE_FILE\\EESL_GENUS_PO0000000100_00000_SIM_Meter_Link_20240115_145223_NBPDCL.csv', header=None)  # Replace 'your_input_file.csv' with your actual file name\n",
    "\n",
    "base_path = r'C:\\Users\\Ratan Kumar Jha\\Desktop\\METER_IMPORTATION_SINGLE_FILE\\single data_folder'\n",
    "\n",
    "num_folder = 0\n",
    "new_folder_name = \"EESL_GENUS_SINGLE_METER\"\n",
    "\n",
    "new_folder_path = os.path.join(base_path, new_folder_name)\n",
    "os.makedirs(new_folder_path)\n",
    "\n",
    "def get_current_time_stamp():\n",
    "    return f\"{datetime.now().strftime('%Y%m%d_%H%M%S')}\"\n",
    "\n",
    "CURRENT_TIME_STAMP = get_current_time_stamp()\n",
    "\n",
    "# Iterate through each row and save it as a separate file\n",
    "for index, row in data_frame_concat_data.iterrows():\n",
    "    \n",
    "    # Create a new DataFrame with the current row\n",
    "    single_row_df = pd.DataFrame([row])\n",
    "    #print(f\"single_row_data : {single_row_df}\")\n",
    "    last_part_after_semicolon = row[0].rsplit(';', 1)[-1]\n",
    "    #print(f\"last_word : {last_part_after_semicolon}\")\n",
    "\n",
    "\n",
    "    CURRENT_TIME_STAMP = get_current_time_stamp()\n",
    "    #print(CURRENT_TIME_STAMP)\n",
    "    \n",
    "    print(k)\n",
    "    print(\"-----------------\")\n",
    "    \n",
    "    # Create the full path for the new folder\n",
    "\n",
    "    if k > 995:\n",
    "        k = 100\n",
    "        num_folder = num_folder + 1\n",
    "        new_folder_name = \"EESL_GENUS_SINGLE_METER_\" + str(num_folder)\n",
    "        new_folder_path = os.path.join(base_path, new_folder_name)\n",
    "        os.makedirs(new_folder_path)\n",
    "    else:\n",
    "        file_name = f'EESL_GENUS_PO0000000{k}_00000_SIM_Meter_Link_{CURRENT_TIME_STAMP}_{last_part_after_semicolon}.csv'\n",
    "        #print(f\"file name is {file_name}\")\n",
    "        file_path = os.path.join(new_folder_path, file_name)\n",
    "        #single_row_df.to_csv(r\"C:\\Users\\Ratan Kumar Jha\\Desktop\\satyam_data\\single_file_data\\file_name\", index=False, header=False) \n",
    "        single_row_df.to_csv(file_path, index=False, header=False)\n",
    "        k=k+1\n",
    "\n",
    "    \n",
    "print(\"METER-SIM LINK FILE DONE\")"
   ]
  },
  {
   "cell_type": "code",
   "execution_count": null,
   "metadata": {},
   "outputs": [
    {
     "ename": "",
     "evalue": "",
     "output_type": "error",
     "traceback": [
      "\u001b[1;31mThe kernel failed to start due to the missing module 'dotenv'. Consider installing this module.\n",
      "\u001b[1;31mClick <a href='https://aka.ms/kernelFailuresMissingModule'>here</a> for more info.\n",
      "\u001b[1;31mSome of the following files found in the working directory may have prevented the Kernel from starting. Consider renaming them.\n",
      "\u001b[1;31mFile(s): <a href='file:///c%3A/PYTHON/EDF_CODE_AUTOMATION_PYTHON/METER_MATCHING_DATA/code.py?line=1'>~\\code.py</a> might need to be renamed.\n",
      "\u001b[1;31mClick <a href='https://aka.ms/JupyterKernelStartFailureOverrideReservedName'>here</a> for more info."
     ]
    }
   ],
   "source": []
  },
  {
   "cell_type": "code",
   "execution_count": null,
   "metadata": {},
   "outputs": [
    {
     "ename": "",
     "evalue": "",
     "output_type": "error",
     "traceback": [
      "\u001b[1;31mThe kernel failed to start due to the missing module 'dotenv'. Consider installing this module.\n",
      "\u001b[1;31mClick <a href='https://aka.ms/kernelFailuresMissingModule'>here</a> for more info.\n",
      "\u001b[1;31mSome of the following files found in the working directory may have prevented the Kernel from starting. Consider renaming them.\n",
      "\u001b[1;31mFile(s): <a href='file:///c%3A/PYTHON/EDF_CODE_AUTOMATION_PYTHON/METER_MATCHING_DATA/code.py?line=1'>~\\code.py</a> might need to be renamed.\n",
      "\u001b[1;31mClick <a href='https://aka.ms/JupyterKernelStartFailureOverrideReservedName'>here</a> for more info."
     ]
    }
   ],
   "source": []
  },
  {
   "cell_type": "markdown",
   "metadata": {},
   "source": [
    "# change into zip file\n",
    "###### C:\\Users\\Ratan Kumar Jha\\Desktop\\EESL_GENUS_PO0000000\\data_insert_single_file"
   ]
  },
  {
   "cell_type": "code",
   "execution_count": null,
   "metadata": {},
   "outputs": [
    {
     "ename": "",
     "evalue": "",
     "output_type": "error",
     "traceback": [
      "\u001b[1;31mThe kernel failed to start due to the missing module 'dotenv'. Consider installing this module.\n",
      "\u001b[1;31mClick <a href='https://aka.ms/kernelFailuresMissingModule'>here</a> for more info.\n",
      "\u001b[1;31mSome of the following files found in the working directory may have prevented the Kernel from starting. Consider renaming them.\n",
      "\u001b[1;31mFile(s): <a href='file:///c%3A/PYTHON/EDF_CODE_AUTOMATION_PYTHON/METER_MATCHING_DATA/code.py?line=1'>~\\code.py</a> might need to be renamed.\n",
      "\u001b[1;31mClick <a href='https://aka.ms/JupyterKernelStartFailureOverrideReservedName'>here</a> for more info."
     ]
    }
   ],
   "source": [
    "import shutil\n",
    "\n",
    "# Specify the folder path\n",
    "folder_path = r'C:\\Users\\Ratan Kumar Jha\\Desktop\\METER_IMPORTATION_SINGLE_FILE\\single data_folder'\n",
    "\n",
    "# Specify the output zip file path\n",
    "output_zip_path = r'C:\\Users\\Ratan Kumar Jha\\Desktop\\METER_IMPORTATION_SINGLE_FILE\\zip_file'\n",
    "\n",
    "# Create a zip file from the folder\n",
    "shutil.make_archive(output_zip_path, 'zip', folder_path)\n",
    "\n",
    "print(f\"Zip file created at: {output_zip_path}\")\n"
   ]
  },
  {
   "cell_type": "code",
   "execution_count": null,
   "metadata": {},
   "outputs": [
    {
     "ename": "",
     "evalue": "",
     "output_type": "error",
     "traceback": [
      "\u001b[1;31mThe kernel failed to start due to the missing module 'dotenv'. Consider installing this module.\n",
      "\u001b[1;31mClick <a href='https://aka.ms/kernelFailuresMissingModule'>here</a> for more info.\n",
      "\u001b[1;31mSome of the following files found in the working directory may have prevented the Kernel from starting. Consider renaming them.\n",
      "\u001b[1;31mFile(s): <a href='file:///c%3A/PYTHON/EDF_CODE_AUTOMATION_PYTHON/METER_MATCHING_DATA/code.py?line=1'>~\\code.py</a> might need to be renamed.\n",
      "\u001b[1;31mClick <a href='https://aka.ms/JupyterKernelStartFailureOverrideReservedName'>here</a> for more info."
     ]
    }
   ],
   "source": []
  },
  {
   "cell_type": "code",
   "execution_count": null,
   "metadata": {},
   "outputs": [
    {
     "ename": "",
     "evalue": "",
     "output_type": "error",
     "traceback": [
      "\u001b[1;31mThe kernel failed to start due to the missing module 'dotenv'. Consider installing this module.\n",
      "\u001b[1;31mClick <a href='https://aka.ms/kernelFailuresMissingModule'>here</a> for more info.\n",
      "\u001b[1;31mSome of the following files found in the working directory may have prevented the Kernel from starting. Consider renaming them.\n",
      "\u001b[1;31mFile(s): <a href='file:///c%3A/PYTHON/EDF_CODE_AUTOMATION_PYTHON/METER_MATCHING_DATA/code.py?line=1'>~\\code.py</a> might need to be renamed.\n",
      "\u001b[1;31mClick <a href='https://aka.ms/JupyterKernelStartFailureOverrideReservedName'>here</a> for more info."
     ]
    }
   ],
   "source": []
  },
  {
   "cell_type": "code",
   "execution_count": null,
   "metadata": {},
   "outputs": [
    {
     "ename": "",
     "evalue": "",
     "output_type": "error",
     "traceback": [
      "\u001b[1;31mThe kernel failed to start due to the missing module 'dotenv'. Consider installing this module.\n",
      "\u001b[1;31mClick <a href='https://aka.ms/kernelFailuresMissingModule'>here</a> for more info.\n",
      "\u001b[1;31mSome of the following files found in the working directory may have prevented the Kernel from starting. Consider renaming them.\n",
      "\u001b[1;31mFile(s): <a href='file:///c%3A/PYTHON/EDF_CODE_AUTOMATION_PYTHON/METER_MATCHING_DATA/code.py?line=1'>~\\code.py</a> might need to be renamed.\n",
      "\u001b[1;31mClick <a href='https://aka.ms/JupyterKernelStartFailureOverrideReservedName'>here</a> for more info."
     ]
    }
   ],
   "source": [
    "def get_current_date():\n",
    "    return datetime.now().strftime(\"%Y-%m-%d\")\n",
    "\n",
    "CURRENT_TIME_STAMP = datetime.now().strftime('%Y-%m-%dT%H:%M:%S')\n",
    "\n",
    "for index,rows in EESL_GENUS_PO0000000403_00000_EP2PMeter_SBPDCL_Meter_Link_M_S_AND_MS_LINK.iterrows():\n",
    "    semicolon_split = rows[0].split(';')\n",
    "    print(semicolon_split[3])\n",
    "    break"
   ]
  },
  {
   "cell_type": "code",
   "execution_count": null,
   "metadata": {},
   "outputs": [
    {
     "ename": "",
     "evalue": "",
     "output_type": "error",
     "traceback": [
      "\u001b[1;31mThe kernel failed to start due to the missing module 'dotenv'. Consider installing this module.\n",
      "\u001b[1;31mClick <a href='https://aka.ms/kernelFailuresMissingModule'>here</a> for more info.\n",
      "\u001b[1;31mSome of the following files found in the working directory may have prevented the Kernel from starting. Consider renaming them.\n",
      "\u001b[1;31mFile(s): <a href='file:///c%3A/PYTHON/EDF_CODE_AUTOMATION_PYTHON/METER_MATCHING_DATA/code.py?line=1'>~\\code.py</a> might need to be renamed.\n",
      "\u001b[1;31mClick <a href='https://aka.ms/JupyterKernelStartFailureOverrideReservedName'>here</a> for more info."
     ]
    }
   ],
   "source": [
    "# xml code"
   ]
  },
  {
   "cell_type": "code",
   "execution_count": null,
   "metadata": {},
   "outputs": [
    {
     "ename": "",
     "evalue": "",
     "output_type": "error",
     "traceback": [
      "\u001b[1;31mThe kernel failed to start due to the missing module 'dotenv'. Consider installing this module.\n",
      "\u001b[1;31mClick <a href='https://aka.ms/kernelFailuresMissingModule'>here</a> for more info.\n",
      "\u001b[1;31mSome of the following files found in the working directory may have prevented the Kernel from starting. Consider renaming them.\n",
      "\u001b[1;31mFile(s): <a href='file:///c%3A/PYTHON/EDF_CODE_AUTOMATION_PYTHON/METER_MATCHING_DATA/code.py?line=1'>~\\code.py</a> might need to be renamed.\n",
      "\u001b[1;31mClick <a href='https://aka.ms/JupyterKernelStartFailureOverrideReservedName'>here</a> for more info."
     ]
    }
   ],
   "source": [
    "for index,rows in EESL_GENUS_PO0000000403_00000_EP2PMeter_SBPDCL_Meter_Link_M_S_AND_MS_LINK.iterrows():\n",
    "    for i in rows:\n",
    "        last_after_semicolon = rows[0].rsplit(';', 1)[-1]\n",
    "        print(last_after_semicolon)\n",
    "    break"
   ]
  },
  {
   "cell_type": "code",
   "execution_count": null,
   "metadata": {},
   "outputs": [
    {
     "ename": "",
     "evalue": "",
     "output_type": "error",
     "traceback": [
      "\u001b[1;31mThe kernel failed to start due to the missing module 'dotenv'. Consider installing this module.\n",
      "\u001b[1;31mClick <a href='https://aka.ms/kernelFailuresMissingModule'>here</a> for more info.\n",
      "\u001b[1;31mSome of the following files found in the working directory may have prevented the Kernel from starting. Consider renaming them.\n",
      "\u001b[1;31mFile(s): <a href='file:///c%3A/PYTHON/EDF_CODE_AUTOMATION_PYTHON/METER_MATCHING_DATA/code.py?line=1'>~\\code.py</a> might need to be renamed.\n",
      "\u001b[1;31mClick <a href='https://aka.ms/JupyterKernelStartFailureOverrideReservedName'>here</a> for more info."
     ]
    }
   ],
   "source": [
    "for index,rows in EESL_GENUS_PO0000000403_00000_EP2PMeter_SBPDCL_Meter_Link_M_S_AND_MS_LINK.iterrows():\n",
    "    \n",
    "    last_after_semicolon = rows[0].split(';')\n",
    "    print(last_after_semicolon[0])\n",
    "    break\n",
    "    \n",
    "    \n",
    "    \n",
    "    "
   ]
  },
  {
   "cell_type": "code",
   "execution_count": null,
   "metadata": {},
   "outputs": [
    {
     "ename": "",
     "evalue": "",
     "output_type": "error",
     "traceback": [
      "\u001b[1;31mThe kernel failed to start due to the missing module 'dotenv'. Consider installing this module.\n",
      "\u001b[1;31mClick <a href='https://aka.ms/kernelFailuresMissingModule'>here</a> for more info.\n",
      "\u001b[1;31mSome of the following files found in the working directory may have prevented the Kernel from starting. Consider renaming them.\n",
      "\u001b[1;31mFile(s): <a href='file:///c%3A/PYTHON/EDF_CODE_AUTOMATION_PYTHON/METER_MATCHING_DATA/code.py?line=1'>~\\code.py</a> might need to be renamed.\n",
      "\u001b[1;31mClick <a href='https://aka.ms/JupyterKernelStartFailureOverrideReservedName'>here</a> for more info."
     ]
    }
   ],
   "source": []
  },
  {
   "cell_type": "code",
   "execution_count": null,
   "metadata": {},
   "outputs": [
    {
     "ename": "",
     "evalue": "",
     "output_type": "error",
     "traceback": [
      "\u001b[1;31mThe kernel failed to start due to the missing module 'dotenv'. Consider installing this module.\n",
      "\u001b[1;31mClick <a href='https://aka.ms/kernelFailuresMissingModule'>here</a> for more info.\n",
      "\u001b[1;31mSome of the following files found in the working directory may have prevented the Kernel from starting. Consider renaming them.\n",
      "\u001b[1;31mFile(s): <a href='file:///c%3A/PYTHON/EDF_CODE_AUTOMATION_PYTHON/METER_MATCHING_DATA/code.py?line=1'>~\\code.py</a> might need to be renamed.\n",
      "\u001b[1;31mClick <a href='https://aka.ms/JupyterKernelStartFailureOverrideReservedName'>here</a> for more info."
     ]
    }
   ],
   "source": []
  },
  {
   "cell_type": "markdown",
   "metadata": {},
   "source": [
    "# sim link file"
   ]
  },
  {
   "cell_type": "code",
   "execution_count": null,
   "metadata": {},
   "outputs": [
    {
     "ename": "",
     "evalue": "",
     "output_type": "error",
     "traceback": [
      "\u001b[1;31mThe kernel failed to start due to the missing module 'dotenv'. Consider installing this module.\n",
      "\u001b[1;31mClick <a href='https://aka.ms/kernelFailuresMissingModule'>here</a> for more info.\n",
      "\u001b[1;31mSome of the following files found in the working directory may have prevented the Kernel from starting. Consider renaming them.\n",
      "\u001b[1;31mFile(s): <a href='file:///c%3A/PYTHON/EDF_CODE_AUTOMATION_PYTHON/METER_MATCHING_DATA/code.py?line=1'>~\\code.py</a> might need to be renamed.\n",
      "\u001b[1;31mClick <a href='https://aka.ms/JupyterKernelStartFailureOverrideReservedName'>here</a> for more info."
     ]
    }
   ],
   "source": [
    "import pandas as pd\n",
    "\n",
    "import os,sys\n",
    "from datetime import datetime\n",
    "\n",
    "k=100\n",
    "# Load your file into a pandas DataFrame\n",
    "data_frame_concat_data = pd.read_csv(r'C:\\Users\\Ratan Kumar Jha\\Desktop\\METER_IMPORTATION_SINGLE_FILE\\EESL_GENUS_PO0000000100_00000_SIM_20240104_104844_NBPDCL.csv', header=None)  # Replace 'your_input_file.csv' with your actual file name\n",
    "\n",
    "base_path = r'C:\\Users\\Ratan Kumar Jha\\Desktop\\METER_IMPORTATION_SINGLE_FILE\\single data_folder'\n",
    "\n",
    "num_folder = 0\n",
    "new_folder_name = \"EESL_BSNL_SINGLE_METER\"\n",
    "\n",
    "new_folder_path = os.path.join(base_path, new_folder_name)\n",
    "os.makedirs(new_folder_path)\n",
    "\n",
    "def get_current_time_stamp():\n",
    "    return f\"{datetime.now().strftime('%Y%m%d_%H%M%S')}\"\n",
    "\n",
    "CURRENT_TIME_STAMP = get_current_time_stamp()\n",
    "\n",
    "# Iterate through each row and save it as a separate file\n",
    "for index, row in data_frame_concat_data.iterrows():\n",
    "    \n",
    "    # Create a new DataFrame with the current row\n",
    "    single_row_df = pd.DataFrame([row])\n",
    "    #print(f\"single_row_data : {single_row_df}\")\n",
    "    last_part_after_semicolon = row[0].rsplit(';', 1)[-1]\n",
    "    #print(f\"last_word : {last_part_after_semicolon}\")\n",
    "\n",
    "\n",
    "    CURRENT_TIME_STAMP = get_current_time_stamp()\n",
    "    #print(CURRENT_TIME_STAMP)\n",
    "    \n",
    "    print(k)\n",
    "    print(\"-----------------\")\n",
    "    \n",
    "    # Create the full path for the new folder\n",
    "\n",
    "    if k > 995:\n",
    "        k = 100\n",
    "        num_folder = num_folder + 1\n",
    "        new_folder_name = \"EESL_BSNL_SINGLE_METER_\" + str(num_folder)\n",
    "        new_folder_path = os.path.join(base_path, new_folder_name)\n",
    "        os.makedirs(new_folder_path)\n",
    "    else:\n",
    "        file_name = f'EESL_BSNL_PO0000000{k}_00000_SIM_{CURRENT_TIME_STAMP}_{last_part_after_semicolon}.csv'\n",
    "        #print(f\"file name is {file_name}\")\n",
    "        file_path = os.path.join(new_folder_path, file_name)\n",
    "        #single_row_df.to_csv(r\"C:\\Users\\Ratan Kumar Jha\\Desktop\\satyam_data\\single_file_data\\file_name\", index=False, header=False) \n",
    "        single_row_df.to_csv(file_path, index=False, header=False)\n",
    "        k=k+1\n",
    "\n",
    "    \n",
    "print(\"SIM LINK FILE DONE\")"
   ]
  },
  {
   "cell_type": "code",
   "execution_count": null,
   "metadata": {},
   "outputs": [
    {
     "ename": "",
     "evalue": "",
     "output_type": "error",
     "traceback": [
      "\u001b[1;31mThe kernel failed to start due to the missing module 'dotenv'. Consider installing this module.\n",
      "\u001b[1;31mClick <a href='https://aka.ms/kernelFailuresMissingModule'>here</a> for more info.\n",
      "\u001b[1;31mSome of the following files found in the working directory may have prevented the Kernel from starting. Consider renaming them.\n",
      "\u001b[1;31mFile(s): <a href='file:///c%3A/PYTHON/EDF_CODE_AUTOMATION_PYTHON/METER_MATCHING_DATA/code.py?line=1'>~\\code.py</a> might need to be renamed.\n",
      "\u001b[1;31mClick <a href='https://aka.ms/JupyterKernelStartFailureOverrideReservedName'>here</a> for more info."
     ]
    }
   ],
   "source": [
    "import shutil\n",
    "\n",
    "# Specify the folder path\n",
    "folder_path = r'C:\\Users\\Ratan Kumar Jha\\Desktop\\METER_IMPORTATION_SINGLE_FILE\\single data_folder'\n",
    "\n",
    "# Specify the output zip file path\n",
    "output_zip_path = r'C:\\Users\\Ratan Kumar Jha\\Desktop\\METER_IMPORTATION_SINGLE_FILE\\zip_file'\n",
    "\n",
    "# Create a zip file from the folder\n",
    "shutil.make_archive(output_zip_path, 'zip', folder_path)\n",
    "\n",
    "print(f\"Zip file created at: {output_zip_path}\")"
   ]
  },
  {
   "cell_type": "code",
   "execution_count": null,
   "metadata": {},
   "outputs": [
    {
     "ename": "",
     "evalue": "",
     "output_type": "error",
     "traceback": [
      "\u001b[1;31mThe kernel failed to start due to the missing module 'dotenv'. Consider installing this module.\n",
      "\u001b[1;31mClick <a href='https://aka.ms/kernelFailuresMissingModule'>here</a> for more info.\n",
      "\u001b[1;31mSome of the following files found in the working directory may have prevented the Kernel from starting. Consider renaming them.\n",
      "\u001b[1;31mFile(s): <a href='file:///c%3A/PYTHON/EDF_CODE_AUTOMATION_PYTHON/METER_MATCHING_DATA/code.py?line=1'>~\\code.py</a> might need to be renamed.\n",
      "\u001b[1;31mClick <a href='https://aka.ms/JupyterKernelStartFailureOverrideReservedName'>here</a> for more info."
     ]
    }
   ],
   "source": []
  },
  {
   "cell_type": "markdown",
   "metadata": {},
   "source": [
    "#### METER,SIM AND METER-SIM LINK\n",
    "    - METER FILE PREPARE\n",
    "    - SIM FILE PREPARE\n",
    "    - SIM-METER LINK\n",
    "\n",
    "#### SIM AND METER-SIM LINK FILE\n",
    "    - SIM FILE\n",
    "    - METER-SIM LINK\n",
    "\n",
    "#### METER-SIM LINK\n",
    "    - METER-SIM LINK\n",
    "\n"
   ]
  },
  {
   "cell_type": "code",
   "execution_count": null,
   "metadata": {},
   "outputs": [
    {
     "ename": "",
     "evalue": "",
     "output_type": "error",
     "traceback": [
      "\u001b[1;31mThe kernel failed to start due to the missing module 'dotenv'. Consider installing this module.\n",
      "\u001b[1;31mClick <a href='https://aka.ms/kernelFailuresMissingModule'>here</a> for more info.\n",
      "\u001b[1;31mSome of the following files found in the working directory may have prevented the Kernel from starting. Consider renaming them.\n",
      "\u001b[1;31mFile(s): <a href='file:///c%3A/PYTHON/EDF_CODE_AUTOMATION_PYTHON/METER_MATCHING_DATA/code.py?line=1'>~\\code.py</a> might need to be renamed.\n",
      "\u001b[1;31mClick <a href='https://aka.ms/JupyterKernelStartFailureOverrideReservedName'>here</a> for more info."
     ]
    }
   ],
   "source": []
  }
 ],
 "metadata": {
  "kernelspec": {
   "display_name": "Python 3",
   "language": "python",
   "name": "python3"
  },
  "language_info": {
   "codemirror_mode": {
    "name": "ipython",
    "version": 3
   },
   "file_extension": ".py",
   "mimetype": "text/x-python",
   "name": "python",
   "nbconvert_exporter": "python",
   "pygments_lexer": "ipython3",
   "version": "3.9.18"
  }
 },
 "nbformat": 4,
 "nbformat_minor": 2
}
