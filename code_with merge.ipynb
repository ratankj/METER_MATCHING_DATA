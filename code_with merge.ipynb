{
 "cells": [
  {
   "cell_type": "code",
   "execution_count": 1,
   "metadata": {},
   "outputs": [],
   "source": [
    "import numpy as np\n",
    "import pandas as pd\n",
    "import shutil\n",
    "\n",
    "import os,sys\n",
    "from datetime import datetime\n",
    "\n",
    "pd.set_option('display.max_columns', None)"
   ]
  },
  {
   "cell_type": "code",
   "execution_count": 2,
   "metadata": {},
   "outputs": [],
   "source": [
    "# imp code\n",
    "# check_Data_meter_Status['Duplicated'] = check_Data_meter_Status.duplicated(subset=['METERNO']).map({True: 'Duplicated', False: 'Unique'})"
   ]
  },
  {
   "cell_type": "code",
   "execution_count": null,
   "metadata": {},
   "outputs": [],
   "source": []
  },
  {
   "cell_type": "code",
   "execution_count": 3,
   "metadata": {},
   "outputs": [
    {
     "data": {
      "text/plain": [
       "(1126, 10)"
      ]
     },
     "execution_count": 3,
     "metadata": {},
     "output_type": "execute_result"
    }
   ],
   "source": [
    "df_warehouse=pd.read_excel(r\"C:\\Users\\Ratan Kumar Jha\\Desktop\\METER_IMPORTATION_FOLDER\\INPUT_DATA_FILE\\WAREHOUSE_DATA_FILE.xlsx\")\n",
    "df_warehouse.to_csv(\"warehouse_data.csv\",index=False)\n",
    "\n",
    "warehouse_Data = pd.read_csv(\"C:\\PYTHON\\EDF_CODE_AUTOMATION_PYTHON\\METER_MATCHING_DATA\\warehouse_data.csv\")\n",
    "\n",
    "#warehouse_Data = pd.read_csv(r\"C:\\Users\\Ratan Kumar Jha\\Desktop\\METER_IMPORTATION_FOLDER\\INPUT_DATA_FILE\\WAREHOUSE_DATA_FILE.csv\")\n",
    "\n",
    "warehouse_Data.shape\n"
   ]
  },
  {
   "cell_type": "code",
   "execution_count": 4,
   "metadata": {},
   "outputs": [
    {
     "data": {
      "text/plain": [
       "array(['SBPDCL', 'NBPDCL'], dtype=object)"
      ]
     },
     "execution_count": 4,
     "metadata": {},
     "output_type": "execute_result"
    }
   ],
   "source": [
    "warehouse_Data['WAREHOUSE_UTILITY'].unique()"
   ]
  },
  {
   "cell_type": "code",
   "execution_count": 5,
   "metadata": {},
   "outputs": [],
   "source": [
    "#warehouse_Data = warehouse_Data[warehouse_Data['WAREHOUSE_UTILITY']=='SBPDCL']\n",
    "#warehouse_Data.shape"
   ]
  },
  {
   "cell_type": "code",
   "execution_count": 6,
   "metadata": {},
   "outputs": [],
   "source": [
    "\n",
    "\n",
    "# changes in dataset like :- UPPER, SPACE REMOVAL , DATATYPE\n",
    "\n",
    "warehouse_Data = warehouse_Data.astype(str)\n",
    "warehouse_Data.columns = warehouse_Data.columns.str.upper()\n",
    "warehouse_Data = warehouse_Data.apply(lambda x: x.str.strip() if x.dtype == 'O' else x)\n",
    "warehouse_Data.columns = warehouse_Data.columns.str.strip()"
   ]
  },
  {
   "cell_type": "code",
   "execution_count": 7,
   "metadata": {},
   "outputs": [
    {
     "data": {
      "text/plain": [
       "(1126, 10)"
      ]
     },
     "execution_count": 7,
     "metadata": {},
     "output_type": "execute_result"
    }
   ],
   "source": [
    "warehouse_Data.shape"
   ]
  },
  {
   "cell_type": "code",
   "execution_count": 8,
   "metadata": {},
   "outputs": [
    {
     "data": {
      "text/plain": [
       "Index(['SL NO', 'METER NO.', 'PHASE', 'WAREHOUSE_UTILITY', 'WAREHOUSE_STATUS',\n",
       "       'MAKE', 'IME', 'FINAL SIM', 'IMSI', 'IP'],\n",
       "      dtype='object')"
      ]
     },
     "execution_count": 8,
     "metadata": {},
     "output_type": "execute_result"
    }
   ],
   "source": [
    "warehouse_Data.columns"
   ]
  },
  {
   "cell_type": "code",
   "execution_count": 9,
   "metadata": {},
   "outputs": [
    {
     "name": "stdout",
     "output_type": "stream",
     "text": [
      "DATA INGESTION DONE\n",
      "DATA CORRECTION COMPLETE\n"
     ]
    }
   ],
   "source": [
    "# data ingestion\n",
    "\n",
    "NB_METER_STATUS=pd.read_csv(r\"C:\\Users\\Ratan Kumar Jha\\Desktop\\METER_IMPORTATION_FOLDER\\INPUT_DATA_FILE\\NB_METER_STATUS.csv\")\n",
    "SB_METER_STATUS=pd.read_csv(r\"C:\\Users\\Ratan Kumar Jha\\Desktop\\METER_IMPORTATION_FOLDER\\INPUT_DATA_FILE\\SB_METER_STATUS.csv\")\n",
    "\n",
    "print(\"DATA INGESTION DONE\")\n",
    "#-----------------------------------------------------------------------------------------------------------------------------------\n",
    "\n",
    "# data correction\n",
    "\n",
    "\n",
    "#-----------------------------------------------------------------------------------------------------------------------------------\n",
    "NB_METER_STATUS = NB_METER_STATUS.astype(str)\n",
    "NB_METER_STATUS.columns = NB_METER_STATUS.columns.str.upper()\n",
    "NB_METER_STATUS = NB_METER_STATUS.apply(lambda x: x.str.strip() if x.dtype == 'O' else x)\n",
    "NB_METER_STATUS.columns = NB_METER_STATUS.columns.str.strip()\n",
    "\n",
    "\n",
    "#-----------------------------------------------------------------------------------------------------------------------------------\n",
    "\n",
    "SB_METER_STATUS = SB_METER_STATUS.astype(str)\n",
    "SB_METER_STATUS.columns = SB_METER_STATUS.columns.str.upper()\n",
    "SB_METER_STATUS = SB_METER_STATUS.apply(lambda x: x.str.strip() if x.dtype == 'O' else x)\n",
    "SB_METER_STATUS.columns = SB_METER_STATUS.columns.str.strip()\n",
    "\n",
    "\n",
    "\n",
    "print(\"DATA CORRECTION COMPLETE\")"
   ]
  },
  {
   "cell_type": "code",
   "execution_count": null,
   "metadata": {},
   "outputs": [],
   "source": []
  },
  {
   "cell_type": "code",
   "execution_count": 10,
   "metadata": {},
   "outputs": [],
   "source": [
    "assest_initiation_invent_sb = pd.read_csv(r\"C:\\Users\\Ratan Kumar Jha\\Desktop\\METER_IMPORTATION_FOLDER\\INPUT_DATA_FILE\\ASSET_INITIATION_INVENTORY_SB.CSV\")\n",
    "assest_initiation_invent_nb = pd.read_csv(r\"C:\\Users\\Ratan Kumar Jha\\Desktop\\METER_IMPORTATION_FOLDER\\INPUT_DATA_FILE\\ASSET_INITIATION_INVENTORY_NB.CSV\")"
   ]
  },
  {
   "cell_type": "code",
   "execution_count": 11,
   "metadata": {},
   "outputs": [],
   "source": [
    "#NB_METER_STATUS.head(1)"
   ]
  },
  {
   "cell_type": "code",
   "execution_count": 12,
   "metadata": {},
   "outputs": [],
   "source": [
    "#NB_METER_STATUS.duplicated(subset=['INSTALLATIONNO'],keep=False)].sort_values(by=['INSTALLATIONNO'],ascending=True)"
   ]
  },
  {
   "cell_type": "code",
   "execution_count": null,
   "metadata": {},
   "outputs": [],
   "source": []
  },
  {
   "cell_type": "code",
   "execution_count": 13,
   "metadata": {},
   "outputs": [],
   "source": [
    "warehouse_utility_importation_demand =  input(f\"\"\"ENTER THE WAREHOUSE ON DEMAND UTILITY: \n",
    "                                                1. NBPDCL \n",
    "                                                2. SBPDCL \n",
    "                                                3. NO DEMAND\"\"\")\n",
    "\n",
    "\n",
    "if warehouse_utility_importation_demand == \"1\":\n",
    "    assest_initiation_invent_nb = pd.read_csv(r\"C:\\Users\\Ratan Kumar Jha\\Desktop\\METER_IMPORTATION_FOLDER\\INPUT_DATA_FILE\\ASSET_INITIATION_INVENTORY_NB.CSV\")\n",
    "\n",
    "\n",
    "    # changes in dataset like :- UPPER, SPACE REMOVAL , DATATYPE\n",
    "    assest_initiation_invent_nb = assest_initiation_invent_nb.astype(str)\n",
    "    assest_initiation_invent_nb.columns = assest_initiation_invent_nb.columns.str.upper()\n",
    "    assest_initiation_invent_nb = assest_initiation_invent_nb.apply(lambda x: x.str.strip() if x.dtype == 'O' else x)\n",
    "    assest_initiation_invent_nb.columns = assest_initiation_invent_nb.columns.str.strip()\n",
    "\n",
    "    # DATA\n",
    "    NB_SB_COMBINED_DATAFRAME=assest_initiation_invent_nb\n",
    "\n",
    "\n",
    "\n",
    "elif warehouse_utility_importation_demand == \"2\":\n",
    "    assest_initiation_invent_sb = pd.read_csv(r\"C:\\Users\\Ratan Kumar Jha\\Desktop\\METER_IMPORTATION_FOLDER\\INPUT_DATA_FILE\\ASSET_INITIATION_INVENTORY_SB.CSV\")\n",
    "\n",
    "    # changes in dataset like :- UPPER, SPACE REMOVAL , DATATYPE\n",
    "    assest_initiation_invent_sb = assest_initiation_invent_sb.astype(str)\n",
    "    assest_initiation_invent_sb.columns = assest_initiation_invent_sb.columns.str.upper()\n",
    "    assest_initiation_invent_sb = assest_initiation_invent_sb.apply(lambda x: x.str.strip() if x.dtype == 'O' else x)\n",
    "    assest_initiation_invent_sb.columns = assest_initiation_invent_sb.columns.str.strip()\n",
    "\n",
    "    NB_SB_COMBINED_DATAFRAME=assest_initiation_invent_sb\n",
    "    \n",
    "elif warehouse_utility_importation_demand == \"3\":\n",
    "    assest_initiation_invent_sb = pd.read_csv(r\"C:\\Users\\Ratan Kumar Jha\\Desktop\\METER_IMPORTATION_FOLDER\\INPUT_DATA_FILE\\ASSET_INITIATION_INVENTORY_SB.CSV\")\n",
    "    assest_initiation_invent_nb = pd.read_csv(r\"C:\\Users\\Ratan Kumar Jha\\Desktop\\METER_IMPORTATION_FOLDER\\INPUT_DATA_FILE\\ASSET_INITIATION_INVENTORY_NB.CSV\")\n",
    "    \n",
    "\n",
    "    # changes in dataset like :- UPPER, SPACE REMOVAL , DATATYPE\n",
    "    \n",
    "    # Convert all columns to string data type\n",
    "\n",
    "    warehouse_Data = warehouse_Data.astype(str)\n",
    "    assest_initiation_invent_nb = assest_initiation_invent_nb.astype(str)\n",
    "    assest_initiation_invent_sb = assest_initiation_invent_sb.astype(str)\n",
    "\n",
    "\n",
    "\n",
    "    # change column name into upper string\n",
    "\n",
    "    warehouse_Data.columns = warehouse_Data.columns.str.upper()\n",
    "    assest_initiation_invent_nb.columns = assest_initiation_invent_nb.columns.str.upper()\n",
    "    assest_initiation_invent_sb.columns = assest_initiation_invent_sb.columns.str.upper()\n",
    "\n",
    "\n",
    "\n",
    "    # Remove leading and trailing whitespaces from all columns where dtype is 'O'\n",
    "\n",
    "    warehouse_Data = warehouse_Data.apply(lambda x: x.str.strip() if x.dtype == 'O' else x)\n",
    "    assest_initiation_invent_nb = assest_initiation_invent_nb.apply(lambda x: x.str.strip() if x.dtype == 'O' else x)\n",
    "    assest_initiation_invent_sb = assest_initiation_invent_sb.apply(lambda x: x.str.strip() if x.dtype == 'O' else x)\n",
    "\n",
    "\n",
    "\n",
    "    # strip the spaces in column \n",
    "\n",
    "    warehouse_Data.columns = warehouse_Data.columns.str.strip()\n",
    "    assest_initiation_invent_nb.columns = assest_initiation_invent_nb.columns.str.strip()\n",
    "    assest_initiation_invent_sb.columns = assest_initiation_invent_sb.columns.str.strip()\n",
    "\n",
    "\n",
    "    # concat the assest_initiation_invent_sb and assest_initiation_invent_nb\n",
    "    NB_SB_COMBINED_DATAFRAME = pd.concat([assest_initiation_invent_sb, assest_initiation_invent_nb], ignore_index=True)\n",
    "\n",
    "\n",
    "    \n",
    "else:\n",
    "    print(\"plz chose correct option\")\n"
   ]
  },
  {
   "cell_type": "code",
   "execution_count": null,
   "metadata": {},
   "outputs": [],
   "source": []
  },
  {
   "cell_type": "code",
   "execution_count": 14,
   "metadata": {},
   "outputs": [
    {
     "name": "stdout",
     "output_type": "stream",
     "text": [
      "DATASET SHAPE : 1126\n"
     ]
    }
   ],
   "source": [
    "warehouse_Data.count()\n",
    "# SHAPE OF DATA\n",
    "\n",
    "print(f\"DATASET SHAPE : {warehouse_Data.shape[0]}\")"
   ]
  },
  {
   "cell_type": "code",
   "execution_count": 15,
   "metadata": {},
   "outputs": [
    {
     "data": {
      "text/plain": [
       "Index(['SL NO', 'METER NO.', 'PHASE', 'WAREHOUSE_UTILITY', 'WAREHOUSE_STATUS',\n",
       "       'MAKE', 'IME', 'FINAL SIM', 'IMSI', 'IP'],\n",
       "      dtype='object')"
      ]
     },
     "execution_count": 15,
     "metadata": {},
     "output_type": "execute_result"
    }
   ],
   "source": [
    "warehouse_Data.columns"
   ]
  },
  {
   "cell_type": "code",
   "execution_count": 16,
   "metadata": {},
   "outputs": [
    {
     "data": {
      "text/plain": [
       "METERNUMBER                                  0\n",
       "MFG_SERIAL_NUM                               0\n",
       "UDC_ID                                       0\n",
       "NETWORK_ID                                   0\n",
       "INSTALLATIONNUMBER                           0\n",
       "STATUS                                       0\n",
       "INSERT_TIME                                  0\n",
       "DECODE(D.ORG_ID,52,'SBPDCL',102,'NBPDCL')    0\n",
       "dtype: int64"
      ]
     },
     "execution_count": 16,
     "metadata": {},
     "output_type": "execute_result"
    }
   ],
   "source": [
    "# checking is null\n",
    "\n",
    "NB_SB_COMBINED_DATAFRAME[NB_SB_COMBINED_DATAFRAME[\"NETWORK_ID\"].isnull()].count()"
   ]
  },
  {
   "cell_type": "code",
   "execution_count": 17,
   "metadata": {},
   "outputs": [
    {
     "data": {
      "text/html": [
       "<div>\n",
       "<style scoped>\n",
       "    .dataframe tbody tr th:only-of-type {\n",
       "        vertical-align: middle;\n",
       "    }\n",
       "\n",
       "    .dataframe tbody tr th {\n",
       "        vertical-align: top;\n",
       "    }\n",
       "\n",
       "    .dataframe thead th {\n",
       "        text-align: right;\n",
       "    }\n",
       "</style>\n",
       "<table border=\"1\" class=\"dataframe\">\n",
       "  <thead>\n",
       "    <tr style=\"text-align: right;\">\n",
       "      <th></th>\n",
       "      <th>METERNUMBER</th>\n",
       "      <th>MFG_SERIAL_NUM</th>\n",
       "      <th>UDC_ID</th>\n",
       "      <th>NETWORK_ID</th>\n",
       "      <th>INSTALLATIONNUMBER</th>\n",
       "      <th>STATUS</th>\n",
       "      <th>INSERT_TIME</th>\n",
       "      <th>DECODE(D.ORG_ID,52,'SBPDCL',102,'NBPDCL')</th>\n",
       "    </tr>\n",
       "  </thead>\n",
       "  <tbody>\n",
       "  </tbody>\n",
       "</table>\n",
       "</div>"
      ],
      "text/plain": [
       "Empty DataFrame\n",
       "Columns: [METERNUMBER, MFG_SERIAL_NUM, UDC_ID, NETWORK_ID, INSTALLATIONNUMBER, STATUS, INSERT_TIME, DECODE(D.ORG_ID,52,'SBPDCL',102,'NBPDCL')]\n",
       "Index: []"
      ]
     },
     "execution_count": 17,
     "metadata": {},
     "output_type": "execute_result"
    }
   ],
   "source": [
    "# checking duplicate value\n",
    "\n",
    "NB_SB_COMBINED_DATAFRAME[NB_SB_COMBINED_DATAFRAME.duplicated(keep = False)]\n",
    "\n"
   ]
  },
  {
   "cell_type": "code",
   "execution_count": 18,
   "metadata": {},
   "outputs": [
    {
     "name": "stdout",
     "output_type": "stream",
     "text": [
      " NONE OF 2 ROWS ARE DUPLIUCATED\n"
     ]
    }
   ],
   "source": [
    "if NB_SB_COMBINED_DATAFRAME[NB_SB_COMBINED_DATAFRAME.duplicated(keep = False)].shape[0]==0:\n",
    "    print(\" NONE OF 2 ROWS ARE DUPLIUCATED\")\n",
    "else:\n",
    "    NB_SB_COMBINED_DATAFRAME[NB_SB_COMBINED_DATAFRAME.duplicated(keep = False)]\n",
    "\n"
   ]
  },
  {
   "cell_type": "code",
   "execution_count": 19,
   "metadata": {},
   "outputs": [
    {
     "data": {
      "text/html": [
       "<div>\n",
       "<style scoped>\n",
       "    .dataframe tbody tr th:only-of-type {\n",
       "        vertical-align: middle;\n",
       "    }\n",
       "\n",
       "    .dataframe tbody tr th {\n",
       "        vertical-align: top;\n",
       "    }\n",
       "\n",
       "    .dataframe thead th {\n",
       "        text-align: right;\n",
       "    }\n",
       "</style>\n",
       "<table border=\"1\" class=\"dataframe\">\n",
       "  <thead>\n",
       "    <tr style=\"text-align: right;\">\n",
       "      <th></th>\n",
       "      <th>METERNUMBER</th>\n",
       "      <th>MFG_SERIAL_NUM</th>\n",
       "      <th>UDC_ID</th>\n",
       "      <th>NETWORK_ID</th>\n",
       "      <th>INSTALLATIONNUMBER</th>\n",
       "      <th>STATUS</th>\n",
       "      <th>INSERT_TIME</th>\n",
       "      <th>DECODE(D.ORG_ID,52,'SBPDCL',102,'NBPDCL')</th>\n",
       "    </tr>\n",
       "  </thead>\n",
       "  <tbody>\n",
       "    <tr>\n",
       "      <th>0</th>\n",
       "      <td>GOEGP4970294</td>\n",
       "      <td>GP4970294</td>\n",
       "      <td>404759210464358</td>\n",
       "      <td>2001:4490:0800:5F25:0000:0000:0000:0001</td>\n",
       "      <td>nan</td>\n",
       "      <td>Meter Shop</td>\n",
       "      <td>8/7/2019 1:26:44 PM</td>\n",
       "      <td>SBPDCL</td>\n",
       "    </tr>\n",
       "  </tbody>\n",
       "</table>\n",
       "</div>"
      ],
      "text/plain": [
       "    METERNUMBER MFG_SERIAL_NUM           UDC_ID  \\\n",
       "0  GOEGP4970294      GP4970294  404759210464358   \n",
       "\n",
       "                                NETWORK_ID INSTALLATIONNUMBER      STATUS  \\\n",
       "0  2001:4490:0800:5F25:0000:0000:0000:0001                nan  Meter Shop   \n",
       "\n",
       "           INSERT_TIME DECODE(D.ORG_ID,52,'SBPDCL',102,'NBPDCL')  \n",
       "0  8/7/2019 1:26:44 PM                                    SBPDCL  "
      ]
     },
     "execution_count": 19,
     "metadata": {},
     "output_type": "execute_result"
    }
   ],
   "source": [
    "NB_SB_COMBINED_DATAFRAME.head(1)"
   ]
  },
  {
   "cell_type": "code",
   "execution_count": null,
   "metadata": {},
   "outputs": [],
   "source": []
  },
  {
   "cell_type": "markdown",
   "metadata": {},
   "source": [
    "# WORK ON INSTALLATION NO."
   ]
  },
  {
   "cell_type": "code",
   "execution_count": 20,
   "metadata": {},
   "outputs": [
    {
     "name": "stdout",
     "output_type": "stream",
     "text": [
      " DROP COLUMN DONE :  'METERNUMBER','INSERT_TIME'  \n"
     ]
    }
   ],
   "source": [
    "# droping not used column in the NB_SB_COMBINED_DATAFRAME\n",
    "\n",
    "NB_SB_COMBINED_DATAFRAME.drop(['METERNUMBER','INSERT_TIME'], axis=1, inplace=True)\n",
    "print(\" DROP COLUMN DONE :  'METERNUMBER','INSERT_TIME'  \")"
   ]
  },
  {
   "cell_type": "code",
   "execution_count": 21,
   "metadata": {},
   "outputs": [
    {
     "data": {
      "text/plain": [
       "'\\n# droping not used column in the NB_SB_COMBINED_DATAFRAME\\n\\nNB_SB_COMBINED_DATAFRAME.drop([\\'METERNUMBER\\', \\'INSTALLATIONNUMBER\\',\\'INSERT_TIME\\'], axis=1, inplace=True)\\nprint(\" DROP COLUMN DONE :  \\'METERNUMBER\\', \\'INSTALLATIONNUMBER\\',\\'INSERT_TIME\\'  \")\\n\\n'"
      ]
     },
     "execution_count": 21,
     "metadata": {},
     "output_type": "execute_result"
    }
   ],
   "source": [
    "\"\"\"\n",
    "# droping not used column in the NB_SB_COMBINED_DATAFRAME\n",
    "\n",
    "NB_SB_COMBINED_DATAFRAME.drop(['METERNUMBER', 'INSTALLATIONNUMBER','INSERT_TIME'], axis=1, inplace=True)\n",
    "print(\" DROP COLUMN DONE :  'METERNUMBER', 'INSTALLATIONNUMBER','INSERT_TIME'  \")\n",
    "\n",
    "\"\"\""
   ]
  },
  {
   "cell_type": "code",
   "execution_count": 22,
   "metadata": {},
   "outputs": [
    {
     "name": "stdout",
     "output_type": "stream",
     "text": [
      " SHAPE OF NB_SB_COMBINED_DATAFRAME :- 1886532\n"
     ]
    }
   ],
   "source": [
    "print(f\" SHAPE OF NB_SB_COMBINED_DATAFRAME :- {NB_SB_COMBINED_DATAFRAME.shape[0]}\")"
   ]
  },
  {
   "cell_type": "markdown",
   "metadata": {},
   "source": [
    "#### DROP DUPLICATE "
   ]
  },
  {
   "cell_type": "code",
   "execution_count": 23,
   "metadata": {},
   "outputs": [],
   "source": [
    "# dop duplicate in  NB_SB_COMBINED_DATAFRAME\n",
    "\n",
    "#NB_SB_COMBINED_DATAFRAME.drop_duplicates(subset=['MFG_SERIAL_NUM','UDC_ID',\"DECODE(D.ORG_ID,52,'SBPDCL',102,'NBPDCL')\"], keep='first', inplace=True, ignore_index=True)\n",
    "\n",
    "# DUPLICATE NOT DROPPING"
   ]
  },
  {
   "cell_type": "code",
   "execution_count": 24,
   "metadata": {},
   "outputs": [
    {
     "name": "stdout",
     "output_type": "stream",
     "text": [
      " SHAPE OF NB_SB_COMBINED_DATAFRAME :- 1886532\n"
     ]
    }
   ],
   "source": [
    "print(f\" SHAPE OF NB_SB_COMBINED_DATAFRAME :- {NB_SB_COMBINED_DATAFRAME.shape[0]}\")"
   ]
  },
  {
   "cell_type": "code",
   "execution_count": 25,
   "metadata": {},
   "outputs": [
    {
     "data": {
      "text/html": [
       "<div>\n",
       "<style scoped>\n",
       "    .dataframe tbody tr th:only-of-type {\n",
       "        vertical-align: middle;\n",
       "    }\n",
       "\n",
       "    .dataframe tbody tr th {\n",
       "        vertical-align: top;\n",
       "    }\n",
       "\n",
       "    .dataframe thead th {\n",
       "        text-align: right;\n",
       "    }\n",
       "</style>\n",
       "<table border=\"1\" class=\"dataframe\">\n",
       "  <thead>\n",
       "    <tr style=\"text-align: right;\">\n",
       "      <th></th>\n",
       "      <th>MFG_SERIAL_NUM</th>\n",
       "      <th>UDC_ID</th>\n",
       "      <th>NETWORK_ID</th>\n",
       "      <th>INSTALLATIONNUMBER</th>\n",
       "      <th>STATUS</th>\n",
       "      <th>DECODE(D.ORG_ID,52,'SBPDCL',102,'NBPDCL')</th>\n",
       "    </tr>\n",
       "  </thead>\n",
       "  <tbody>\n",
       "    <tr>\n",
       "      <th>517751</th>\n",
       "      <td>GL8548300</td>\n",
       "      <td>405856707172350</td>\n",
       "      <td>2405:0203:0532:43AE:0000:0000:0000:0010</td>\n",
       "      <td>5001970345</td>\n",
       "      <td>Refurbished</td>\n",
       "      <td>SBPDCL</td>\n",
       "    </tr>\n",
       "    <tr>\n",
       "      <th>250498</th>\n",
       "      <td>GL8548300</td>\n",
       "      <td>405856706536659</td>\n",
       "      <td>2405:0203:0528:DBEF:0000:0000:0000:0010</td>\n",
       "      <td>5001970345</td>\n",
       "      <td>Refurbished</td>\n",
       "      <td>SBPDCL</td>\n",
       "    </tr>\n",
       "    <tr>\n",
       "      <th>981200</th>\n",
       "      <td>GL8548303</td>\n",
       "      <td>405856707299383</td>\n",
       "      <td>2405:0203:0531:9328:0000:0000:0000:0010</td>\n",
       "      <td>5004056701</td>\n",
       "      <td>Installed</td>\n",
       "      <td>SBPDCL</td>\n",
       "    </tr>\n",
       "    <tr>\n",
       "      <th>480801</th>\n",
       "      <td>GL8548303</td>\n",
       "      <td>405856706536685</td>\n",
       "      <td>2405:0203:0528:DBF2:0000:0000:0000:0010</td>\n",
       "      <td>5004056701</td>\n",
       "      <td>Installed</td>\n",
       "      <td>SBPDCL</td>\n",
       "    </tr>\n",
       "    <tr>\n",
       "      <th>13877</th>\n",
       "      <td>GL8548303</td>\n",
       "      <td>405856707299383</td>\n",
       "      <td>2405:0203:0531:9328:0000:0000:0000:0010</td>\n",
       "      <td>5002973847</td>\n",
       "      <td>Installed</td>\n",
       "      <td>SBPDCL</td>\n",
       "    </tr>\n",
       "    <tr>\n",
       "      <th>...</th>\n",
       "      <td>...</td>\n",
       "      <td>...</td>\n",
       "      <td>...</td>\n",
       "      <td>...</td>\n",
       "      <td>...</td>\n",
       "      <td>...</td>\n",
       "    </tr>\n",
       "    <tr>\n",
       "      <th>899382</th>\n",
       "      <td>LT8057018</td>\n",
       "      <td>405856706103170</td>\n",
       "      <td>2405:0203:0522:C558:0000:0000:0000:0010</td>\n",
       "      <td>5001720263</td>\n",
       "      <td>Installed</td>\n",
       "      <td>SBPDCL</td>\n",
       "    </tr>\n",
       "    <tr>\n",
       "      <th>866000</th>\n",
       "      <td>LT8057018</td>\n",
       "      <td>405856707247502</td>\n",
       "      <td>2405:0203:0532:1F7A:0000:0000:0000:0010</td>\n",
       "      <td>5002128109</td>\n",
       "      <td>Installed</td>\n",
       "      <td>SBPDCL</td>\n",
       "    </tr>\n",
       "    <tr>\n",
       "      <th>232561</th>\n",
       "      <td>LT8057018</td>\n",
       "      <td>405856706103170</td>\n",
       "      <td>2405:0203:0522:C558:0000:0000:0000:0010</td>\n",
       "      <td>5002128109</td>\n",
       "      <td>Installed</td>\n",
       "      <td>SBPDCL</td>\n",
       "    </tr>\n",
       "    <tr>\n",
       "      <th>734098</th>\n",
       "      <td>LT8066321</td>\n",
       "      <td>405856707025535</td>\n",
       "      <td>2405:0203:0534:0B4C:0000:0000:0000:0010</td>\n",
       "      <td>5003101279</td>\n",
       "      <td>Installed</td>\n",
       "      <td>SBPDCL</td>\n",
       "    </tr>\n",
       "    <tr>\n",
       "      <th>534152</th>\n",
       "      <td>LT8066321</td>\n",
       "      <td>405856707025535</td>\n",
       "      <td>2405:0203:0534:0B4C:0000:0000:0000:0010</td>\n",
       "      <td>5004102787</td>\n",
       "      <td>Installed</td>\n",
       "      <td>SBPDCL</td>\n",
       "    </tr>\n",
       "  </tbody>\n",
       "</table>\n",
       "<p>249266 rows × 6 columns</p>\n",
       "</div>"
      ],
      "text/plain": [
       "       MFG_SERIAL_NUM           UDC_ID  \\\n",
       "517751      GL8548300  405856707172350   \n",
       "250498      GL8548300  405856706536659   \n",
       "981200      GL8548303  405856707299383   \n",
       "480801      GL8548303  405856706536685   \n",
       "13877       GL8548303  405856707299383   \n",
       "...               ...              ...   \n",
       "899382      LT8057018  405856706103170   \n",
       "866000      LT8057018  405856707247502   \n",
       "232561      LT8057018  405856706103170   \n",
       "734098      LT8066321  405856707025535   \n",
       "534152      LT8066321  405856707025535   \n",
       "\n",
       "                                     NETWORK_ID INSTALLATIONNUMBER  \\\n",
       "517751  2405:0203:0532:43AE:0000:0000:0000:0010         5001970345   \n",
       "250498  2405:0203:0528:DBEF:0000:0000:0000:0010         5001970345   \n",
       "981200  2405:0203:0531:9328:0000:0000:0000:0010         5004056701   \n",
       "480801  2405:0203:0528:DBF2:0000:0000:0000:0010         5004056701   \n",
       "13877   2405:0203:0531:9328:0000:0000:0000:0010         5002973847   \n",
       "...                                         ...                ...   \n",
       "899382  2405:0203:0522:C558:0000:0000:0000:0010         5001720263   \n",
       "866000  2405:0203:0532:1F7A:0000:0000:0000:0010         5002128109   \n",
       "232561  2405:0203:0522:C558:0000:0000:0000:0010         5002128109   \n",
       "734098  2405:0203:0534:0B4C:0000:0000:0000:0010         5003101279   \n",
       "534152  2405:0203:0534:0B4C:0000:0000:0000:0010         5004102787   \n",
       "\n",
       "             STATUS DECODE(D.ORG_ID,52,'SBPDCL',102,'NBPDCL')  \n",
       "517751  Refurbished                                    SBPDCL  \n",
       "250498  Refurbished                                    SBPDCL  \n",
       "981200    Installed                                    SBPDCL  \n",
       "480801    Installed                                    SBPDCL  \n",
       "13877     Installed                                    SBPDCL  \n",
       "...             ...                                       ...  \n",
       "899382    Installed                                    SBPDCL  \n",
       "866000    Installed                                    SBPDCL  \n",
       "232561    Installed                                    SBPDCL  \n",
       "734098    Installed                                    SBPDCL  \n",
       "534152    Installed                                    SBPDCL  \n",
       "\n",
       "[249266 rows x 6 columns]"
      ]
     },
     "execution_count": 25,
     "metadata": {},
     "output_type": "execute_result"
    }
   ],
   "source": [
    "NB_SB_COMBINED_DATAFRAME[NB_SB_COMBINED_DATAFRAME.duplicated(subset=['MFG_SERIAL_NUM'], keep=False)].sort_values(by=['MFG_SERIAL_NUM'],ascending=True)"
   ]
  },
  {
   "cell_type": "code",
   "execution_count": 26,
   "metadata": {},
   "outputs": [
    {
     "data": {
      "text/html": [
       "<div>\n",
       "<style scoped>\n",
       "    .dataframe tbody tr th:only-of-type {\n",
       "        vertical-align: middle;\n",
       "    }\n",
       "\n",
       "    .dataframe tbody tr th {\n",
       "        vertical-align: top;\n",
       "    }\n",
       "\n",
       "    .dataframe thead th {\n",
       "        text-align: right;\n",
       "    }\n",
       "</style>\n",
       "<table border=\"1\" class=\"dataframe\">\n",
       "  <thead>\n",
       "    <tr style=\"text-align: right;\">\n",
       "      <th></th>\n",
       "      <th>MFG_SERIAL_NUM</th>\n",
       "      <th>UDC_ID</th>\n",
       "      <th>NETWORK_ID</th>\n",
       "      <th>INSTALLATIONNUMBER</th>\n",
       "      <th>STATUS</th>\n",
       "      <th>DECODE(D.ORG_ID,52,'SBPDCL',102,'NBPDCL')</th>\n",
       "    </tr>\n",
       "  </thead>\n",
       "  <tbody>\n",
       "    <tr>\n",
       "      <th>0</th>\n",
       "      <td>GP4970294</td>\n",
       "      <td>404759210464358</td>\n",
       "      <td>2001:4490:0800:5F25:0000:0000:0000:0001</td>\n",
       "      <td>nan</td>\n",
       "      <td>Meter Shop</td>\n",
       "      <td>SBPDCL</td>\n",
       "    </tr>\n",
       "  </tbody>\n",
       "</table>\n",
       "</div>"
      ],
      "text/plain": [
       "  MFG_SERIAL_NUM           UDC_ID                               NETWORK_ID  \\\n",
       "0      GP4970294  404759210464358  2001:4490:0800:5F25:0000:0000:0000:0001   \n",
       "\n",
       "  INSTALLATIONNUMBER      STATUS DECODE(D.ORG_ID,52,'SBPDCL',102,'NBPDCL')  \n",
       "0                nan  Meter Shop                                    SBPDCL  "
      ]
     },
     "execution_count": 26,
     "metadata": {},
     "output_type": "execute_result"
    }
   ],
   "source": [
    "NB_SB_COMBINED_DATAFRAME.head(1)"
   ]
  },
  {
   "cell_type": "code",
   "execution_count": null,
   "metadata": {},
   "outputs": [],
   "source": []
  },
  {
   "cell_type": "markdown",
   "metadata": {},
   "source": [
    "# CHANGES IN  NB_SB_COMBINED_DATAFRAME :- DATATYPE,UPPER,SPACES"
   ]
  },
  {
   "cell_type": "code",
   "execution_count": 27,
   "metadata": {},
   "outputs": [],
   "source": [
    "\n",
    "\n",
    "# Convert all columns to string data type\n",
    "\n",
    "NB_SB_COMBINED_DATAFRAME = NB_SB_COMBINED_DATAFRAME.astype(str)\n",
    "\n",
    "\n",
    "NB_SB_COMBINED_DATAFRAME.columns = NB_SB_COMBINED_DATAFRAME.columns.str.upper()\n",
    "\n",
    "\n",
    "\n",
    "# Remove leading and trailing whitespaces from all columns where dtype is 'O'\n",
    "NB_SB_COMBINED_DATAFRAME = NB_SB_COMBINED_DATAFRAME.apply(lambda x: x.str.strip() if x.dtype == 'O' else x)\n"
   ]
  },
  {
   "cell_type": "code",
   "execution_count": null,
   "metadata": {},
   "outputs": [],
   "source": []
  },
  {
   "cell_type": "markdown",
   "metadata": {},
   "source": [
    "# JOIN\n",
    "\n"
   ]
  },
  {
   "cell_type": "code",
   "execution_count": null,
   "metadata": {},
   "outputs": [],
   "source": []
  },
  {
   "cell_type": "markdown",
   "metadata": {},
   "source": [
    "#### METER"
   ]
  },
  {
   "cell_type": "code",
   "execution_count": 28,
   "metadata": {},
   "outputs": [],
   "source": [
    "# here first merge with 2 column   meter no and utility   and the if some rows are null then merge those rows only only with meter no. "
   ]
  },
  {
   "cell_type": "code",
   "execution_count": 29,
   "metadata": {},
   "outputs": [],
   "source": [
    "#if ((warehouse_Data['METER NO.']== NB_SB_COMBINED_DATAFRAME['MFG_SERIAL_NUM']) and (warehouse_Data['WAREHOUSE_UTILITY']== NB_SB_COMBINED_DATAFRAME[\"DECODE(D.ORG_ID,52,'SBPDCL',102,'NBPDCL')\"])):\n",
    "LEFT_JOIN_WITH_METER_UTILITY_WAREHOUSE_AND_COMIBNED_DATA = pd.merge(warehouse_Data, NB_SB_COMBINED_DATAFRAME, left_on=['METER NO.', 'WAREHOUSE_UTILITY'], right_on=['MFG_SERIAL_NUM', \"DECODE(D.ORG_ID,52,'SBPDCL',102,'NBPDCL')\"], how='left')\n",
    "LEFT_JOIN_WITH_METER_UTILITY_WAREHOUSE_AND_COMIBNED_DATA_NULL = LEFT_JOIN_WITH_METER_UTILITY_WAREHOUSE_AND_COMIBNED_DATA[LEFT_JOIN_WITH_METER_UTILITY_WAREHOUSE_AND_COMIBNED_DATA['MFG_SERIAL_NUM'].isnull()]\n",
    "LEFT_JOIN_WITH_METER_UTILITY_WAREHOUSE_AND_COMIBNED_DATA_DROPED_DATA = (LEFT_JOIN_WITH_METER_UTILITY_WAREHOUSE_AND_COMIBNED_DATA.dropna(subset=['MFG_SERIAL_NUM','UDC_ID']))\n",
    "\n",
    "if LEFT_JOIN_WITH_METER_UTILITY_WAREHOUSE_AND_COMIBNED_DATA_NULL.shape[0] > 0:\n",
    "    LEFT_JOIN_WITH_METER_UTILITY_WAREHOUSE_AND_COMIBNED_DATA_NULL_CHECK=LEFT_JOIN_WITH_METER_UTILITY_WAREHOUSE_AND_COMIBNED_DATA_NULL[warehouse_Data.columns]\n",
    "    LEFT_JOIN_WITH_METER_UTILITY_WAREHOUSE_AND_COMIBNED_DATA_NULL_CHECK=pd.merge(LEFT_JOIN_WITH_METER_UTILITY_WAREHOUSE_AND_COMIBNED_DATA_NULL_CHECK, NB_SB_COMBINED_DATAFRAME, left_on=['METER NO.'], right_on=['MFG_SERIAL_NUM'], how='left')\n",
    "    LEFT_JOIN_WITH_METER_UTILITY_WAREHOUSE_AND_COMIBNED_DATA = pd.concat([LEFT_JOIN_WITH_METER_UTILITY_WAREHOUSE_AND_COMIBNED_DATA_DROPED_DATA, LEFT_JOIN_WITH_METER_UTILITY_WAREHOUSE_AND_COMIBNED_DATA_NULL_CHECK], ignore_index=True)\n",
    "else:\n",
    "    LEFT_JOIN_WITH_METER_UTILITY_WAREHOUSE_AND_COMIBNED_DATA=LEFT_JOIN_WITH_METER_UTILITY_WAREHOUSE_AND_COMIBNED_DATA\n",
    "\n",
    "\n",
    "    \n"
   ]
  },
  {
   "cell_type": "code",
   "execution_count": 30,
   "metadata": {},
   "outputs": [
    {
     "data": {
      "text/html": [
       "<div>\n",
       "<style scoped>\n",
       "    .dataframe tbody tr th:only-of-type {\n",
       "        vertical-align: middle;\n",
       "    }\n",
       "\n",
       "    .dataframe tbody tr th {\n",
       "        vertical-align: top;\n",
       "    }\n",
       "\n",
       "    .dataframe thead th {\n",
       "        text-align: right;\n",
       "    }\n",
       "</style>\n",
       "<table border=\"1\" class=\"dataframe\">\n",
       "  <thead>\n",
       "    <tr style=\"text-align: right;\">\n",
       "      <th></th>\n",
       "      <th>SL NO</th>\n",
       "      <th>METER NO.</th>\n",
       "      <th>PHASE</th>\n",
       "      <th>WAREHOUSE_UTILITY</th>\n",
       "      <th>WAREHOUSE_STATUS</th>\n",
       "      <th>MAKE</th>\n",
       "      <th>IME</th>\n",
       "      <th>FINAL SIM</th>\n",
       "      <th>IMSI</th>\n",
       "      <th>IP</th>\n",
       "      <th>MFG_SERIAL_NUM</th>\n",
       "      <th>UDC_ID</th>\n",
       "      <th>NETWORK_ID</th>\n",
       "      <th>INSTALLATIONNUMBER</th>\n",
       "      <th>STATUS</th>\n",
       "      <th>DECODE(D.ORG_ID,52,'SBPDCL',102,'NBPDCL')</th>\n",
       "    </tr>\n",
       "  </thead>\n",
       "  <tbody>\n",
       "    <tr>\n",
       "      <th>0</th>\n",
       "      <td>1</td>\n",
       "      <td>LT0164550</td>\n",
       "      <td>1 Phase</td>\n",
       "      <td>SBPDCL</td>\n",
       "      <td>S2S repaired</td>\n",
       "      <td>L&amp;T</td>\n",
       "      <td>861190055985524</td>\n",
       "      <td>8991856050706095561</td>\n",
       "      <td>405856706095561</td>\n",
       "      <td>2405:0203:0522:9F13:0000:0000:0000:0010</td>\n",
       "      <td>LT0164550</td>\n",
       "      <td>405856706095561</td>\n",
       "      <td>2405:0203:0522:9F13:0000:0000:0000:0010</td>\n",
       "      <td>5002548022</td>\n",
       "      <td>Retired</td>\n",
       "      <td>SBPDCL</td>\n",
       "    </tr>\n",
       "    <tr>\n",
       "      <th>1</th>\n",
       "      <td>2</td>\n",
       "      <td>LT0364314</td>\n",
       "      <td>1 Phase</td>\n",
       "      <td>NBPDCL</td>\n",
       "      <td>S2S repaired</td>\n",
       "      <td>L&amp;T</td>\n",
       "      <td>861996077248679</td>\n",
       "      <td>8991856050706402335</td>\n",
       "      <td>405856706402335</td>\n",
       "      <td>2405:0203:0525:C6A1:0000:0000:0000:0010</td>\n",
       "      <td>LT0364314</td>\n",
       "      <td>405856706402335</td>\n",
       "      <td>2405:0203:0525:C6A1:0000:0000:0000:0010</td>\n",
       "      <td>5002884613</td>\n",
       "      <td>Retired</td>\n",
       "      <td>NBPDCL</td>\n",
       "    </tr>\n",
       "  </tbody>\n",
       "</table>\n",
       "</div>"
      ],
      "text/plain": [
       "  SL NO  METER NO.    PHASE WAREHOUSE_UTILITY WAREHOUSE_STATUS MAKE  \\\n",
       "0     1  LT0164550  1 Phase            SBPDCL     S2S repaired  L&T   \n",
       "1     2  LT0364314  1 Phase            NBPDCL     S2S repaired  L&T   \n",
       "\n",
       "               IME            FINAL SIM             IMSI  \\\n",
       "0  861190055985524  8991856050706095561  405856706095561   \n",
       "1  861996077248679  8991856050706402335  405856706402335   \n",
       "\n",
       "                                        IP MFG_SERIAL_NUM           UDC_ID  \\\n",
       "0  2405:0203:0522:9F13:0000:0000:0000:0010      LT0164550  405856706095561   \n",
       "1  2405:0203:0525:C6A1:0000:0000:0000:0010      LT0364314  405856706402335   \n",
       "\n",
       "                                NETWORK_ID INSTALLATIONNUMBER   STATUS  \\\n",
       "0  2405:0203:0522:9F13:0000:0000:0000:0010         5002548022  Retired   \n",
       "1  2405:0203:0525:C6A1:0000:0000:0000:0010         5002884613  Retired   \n",
       "\n",
       "  DECODE(D.ORG_ID,52,'SBPDCL',102,'NBPDCL')  \n",
       "0                                    SBPDCL  \n",
       "1                                    NBPDCL  "
      ]
     },
     "execution_count": 30,
     "metadata": {},
     "output_type": "execute_result"
    }
   ],
   "source": [
    "LEFT_JOIN_WITH_METER_UTILITY_WAREHOUSE_AND_COMIBNED_DATA.head(2)"
   ]
  },
  {
   "cell_type": "code",
   "execution_count": 31,
   "metadata": {},
   "outputs": [
    {
     "data": {
      "text/plain": [
       "3"
      ]
     },
     "execution_count": 31,
     "metadata": {},
     "output_type": "execute_result"
    }
   ],
   "source": [
    "LEFT_JOIN_WITH_METER_UTILITY_WAREHOUSE_AND_COMIBNED_DATA[LEFT_JOIN_WITH_METER_UTILITY_WAREHOUSE_AND_COMIBNED_DATA['MFG_SERIAL_NUM'].isnull()].shape[0]"
   ]
  },
  {
   "cell_type": "code",
   "execution_count": null,
   "metadata": {},
   "outputs": [],
   "source": []
  },
  {
   "cell_type": "code",
   "execution_count": 32,
   "metadata": {},
   "outputs": [],
   "source": [
    "#NB_SB_COMBINED_DATAFRAME[NB_SB_COMBINED_DATAFRAME['MFG_SERIAL_NUM']=='GP4465021']"
   ]
  },
  {
   "cell_type": "code",
   "execution_count": 33,
   "metadata": {},
   "outputs": [],
   "source": [
    "\n",
    "\n",
    "#LEFT_JOIN_WITH_METER_UTILITY_WAREHOUSE_AND_COMIBNED_DATA = pd.merge(warehouse_Data, NB_SB_COMBINED_DATAFRAME, left_on=['METER NO.', 'WAREHOUSE_UTILITY'], right_on=['MFG_SERIAL_NUM', \"DECODE(D.ORG_ID,52,'SBPDCL',102,'NBPDCL')\"], how='left')\n"
   ]
  },
  {
   "cell_type": "code",
   "execution_count": null,
   "metadata": {},
   "outputs": [],
   "source": []
  },
  {
   "cell_type": "code",
   "execution_count": 34,
   "metadata": {},
   "outputs": [
    {
     "data": {
      "text/plain": [
       "SL NO                                        1126\n",
       "METER NO.                                    1126\n",
       "PHASE                                        1126\n",
       "WAREHOUSE_UTILITY                            1126\n",
       "WAREHOUSE_STATUS                             1126\n",
       "MAKE                                         1126\n",
       "IME                                          1126\n",
       "FINAL SIM                                    1126\n",
       "IMSI                                         1126\n",
       "IP                                           1126\n",
       "MFG_SERIAL_NUM                               1123\n",
       "UDC_ID                                       1123\n",
       "NETWORK_ID                                   1123\n",
       "INSTALLATIONNUMBER                           1123\n",
       "STATUS                                       1123\n",
       "DECODE(D.ORG_ID,52,'SBPDCL',102,'NBPDCL')    1123\n",
       "dtype: int64"
      ]
     },
     "execution_count": 34,
     "metadata": {},
     "output_type": "execute_result"
    }
   ],
   "source": [
    "LEFT_JOIN_WITH_METER_UTILITY_WAREHOUSE_AND_COMIBNED_DATA.count()"
   ]
  },
  {
   "cell_type": "code",
   "execution_count": null,
   "metadata": {},
   "outputs": [],
   "source": []
  },
  {
   "cell_type": "code",
   "execution_count": 35,
   "metadata": {},
   "outputs": [],
   "source": [
    "#LEFT_JOIN_WITH_METER_UTILITY_WAREHOUSE_AND_COMIBNED_DATA.to_csv(r'C:\\Users\\Ratan Kumar Jha\\Desktop\\new\\LEFT_JOIN_WITH_METER_UTILITY_WAREHOUSE_AND_COMIBNED_DATA.csv',index=False)"
   ]
  },
  {
   "cell_type": "markdown",
   "metadata": {},
   "source": []
  },
  {
   "cell_type": "markdown",
   "metadata": {},
   "source": [
    "#### IMSI"
   ]
  },
  {
   "cell_type": "code",
   "execution_count": 36,
   "metadata": {},
   "outputs": [],
   "source": [
    "LEFT_JOIN_WITH_IMSI_WAREHOUSE_AND_COMIBNED_DATA = pd.merge(warehouse_Data, NB_SB_COMBINED_DATAFRAME, left_on=['IMSI'], right_on=['UDC_ID'], how='left')"
   ]
  },
  {
   "cell_type": "code",
   "execution_count": 37,
   "metadata": {},
   "outputs": [
    {
     "data": {
      "text/plain": [
       "SL NO                                        1180\n",
       "METER NO.                                    1180\n",
       "PHASE                                        1180\n",
       "WAREHOUSE_UTILITY                            1180\n",
       "WAREHOUSE_STATUS                             1180\n",
       "MAKE                                         1180\n",
       "IME                                          1180\n",
       "FINAL SIM                                    1180\n",
       "IMSI                                         1180\n",
       "IP                                           1180\n",
       "MFG_SERIAL_NUM                               1180\n",
       "UDC_ID                                       1180\n",
       "NETWORK_ID                                   1180\n",
       "INSTALLATIONNUMBER                           1180\n",
       "STATUS                                       1180\n",
       "DECODE(D.ORG_ID,52,'SBPDCL',102,'NBPDCL')    1180\n",
       "dtype: int64"
      ]
     },
     "execution_count": 37,
     "metadata": {},
     "output_type": "execute_result"
    }
   ],
   "source": [
    "LEFT_JOIN_WITH_IMSI_WAREHOUSE_AND_COMIBNED_DATA.count()"
   ]
  },
  {
   "cell_type": "code",
   "execution_count": 38,
   "metadata": {},
   "outputs": [
    {
     "data": {
      "text/html": [
       "<div>\n",
       "<style scoped>\n",
       "    .dataframe tbody tr th:only-of-type {\n",
       "        vertical-align: middle;\n",
       "    }\n",
       "\n",
       "    .dataframe tbody tr th {\n",
       "        vertical-align: top;\n",
       "    }\n",
       "\n",
       "    .dataframe thead th {\n",
       "        text-align: right;\n",
       "    }\n",
       "</style>\n",
       "<table border=\"1\" class=\"dataframe\">\n",
       "  <thead>\n",
       "    <tr style=\"text-align: right;\">\n",
       "      <th></th>\n",
       "      <th>SL NO</th>\n",
       "      <th>METER NO.</th>\n",
       "      <th>PHASE</th>\n",
       "      <th>WAREHOUSE_UTILITY</th>\n",
       "      <th>WAREHOUSE_STATUS</th>\n",
       "      <th>MAKE</th>\n",
       "      <th>IME</th>\n",
       "      <th>FINAL SIM</th>\n",
       "      <th>IMSI</th>\n",
       "      <th>IP</th>\n",
       "      <th>MFG_SERIAL_NUM</th>\n",
       "      <th>UDC_ID</th>\n",
       "      <th>NETWORK_ID</th>\n",
       "      <th>INSTALLATIONNUMBER</th>\n",
       "      <th>STATUS</th>\n",
       "      <th>DECODE(D.ORG_ID,52,'SBPDCL',102,'NBPDCL')</th>\n",
       "    </tr>\n",
       "  </thead>\n",
       "  <tbody>\n",
       "  </tbody>\n",
       "</table>\n",
       "</div>"
      ],
      "text/plain": [
       "Empty DataFrame\n",
       "Columns: [SL NO, METER NO., PHASE, WAREHOUSE_UTILITY, WAREHOUSE_STATUS, MAKE, IME, FINAL SIM, IMSI, IP, MFG_SERIAL_NUM, UDC_ID, NETWORK_ID, INSTALLATIONNUMBER, STATUS, DECODE(D.ORG_ID,52,'SBPDCL',102,'NBPDCL')]\n",
       "Index: []"
      ]
     },
     "execution_count": 38,
     "metadata": {},
     "output_type": "execute_result"
    }
   ],
   "source": [
    "LEFT_JOIN_WITH_IMSI_WAREHOUSE_AND_COMIBNED_DATA[LEFT_JOIN_WITH_IMSI_WAREHOUSE_AND_COMIBNED_DATA['UDC_ID'].isnull()]"
   ]
  },
  {
   "cell_type": "code",
   "execution_count": null,
   "metadata": {},
   "outputs": [],
   "source": []
  },
  {
   "cell_type": "markdown",
   "metadata": {},
   "source": [
    "# duplicate row while we join with imsi "
   ]
  },
  {
   "cell_type": "code",
   "execution_count": 39,
   "metadata": {},
   "outputs": [],
   "source": [
    "#LEFT_JOIN_WITH_IMSI_WAREHOUSE_AND_COMIBNED_DATA[~LEFT_JOIN_WITH_IMSI_WAREHOUSE_AND_COMIBNED_DATA['UDC_ID'].isnull()].count()"
   ]
  },
  {
   "cell_type": "code",
   "execution_count": 40,
   "metadata": {},
   "outputs": [],
   "source": [
    "# duplicated row ..  bcz in asset initiation file there are 2 installtion no.  with respect to 1 imsi no.\n",
    "\n",
    "duplicate_check = LEFT_JOIN_WITH_IMSI_WAREHOUSE_AND_COMIBNED_DATA[LEFT_JOIN_WITH_IMSI_WAREHOUSE_AND_COMIBNED_DATA['UDC_ID'].duplicated(keep=False)]\n",
    "\n",
    "duplicate_check.to_csv(r'C:\\Users\\Ratan Kumar Jha\\Desktop\\METER_IMPORTATION_FOLDER\\OUTPUT_DATA_FILE\\duplicate_check_wrt_IMSI_IN_ASSET_FIL.csv',index=False)\n",
    "duplicate_check.to_csv(r\"C:\\PYTHON\\EDF_CODE_AUTOMATION_PYTHON\\METER_MATCHING_DATA\\duplicate_check_wrt_IMSI_IN_ASSET_FIL.csv\",index=False)"
   ]
  },
  {
   "cell_type": "code",
   "execution_count": 41,
   "metadata": {},
   "outputs": [
    {
     "data": {
      "text/plain": [
       "SL NO                                        1180\n",
       "METER NO.                                    1180\n",
       "PHASE                                        1180\n",
       "WAREHOUSE_UTILITY                            1180\n",
       "WAREHOUSE_STATUS                             1180\n",
       "MAKE                                         1180\n",
       "IME                                          1180\n",
       "FINAL SIM                                    1180\n",
       "IMSI                                         1180\n",
       "IP                                           1180\n",
       "MFG_SERIAL_NUM                               1180\n",
       "UDC_ID                                       1180\n",
       "NETWORK_ID                                   1180\n",
       "INSTALLATIONNUMBER                           1180\n",
       "STATUS                                       1180\n",
       "DECODE(D.ORG_ID,52,'SBPDCL',102,'NBPDCL')    1180\n",
       "dtype: int64"
      ]
     },
     "execution_count": 41,
     "metadata": {},
     "output_type": "execute_result"
    }
   ],
   "source": [
    "LEFT_JOIN_WITH_IMSI_WAREHOUSE_AND_COMIBNED_DATA.count()\n"
   ]
  },
  {
   "cell_type": "code",
   "execution_count": 42,
   "metadata": {},
   "outputs": [],
   "source": [
    "LEFT_JOIN_WITH_IMSI_WAREHOUSE_AND_COMIBNED_DATA.drop_duplicates(subset=['IMSI'],inplace=True)\n"
   ]
  },
  {
   "cell_type": "code",
   "execution_count": 43,
   "metadata": {},
   "outputs": [
    {
     "data": {
      "text/plain": [
       "SL NO                                        1126\n",
       "METER NO.                                    1126\n",
       "PHASE                                        1126\n",
       "WAREHOUSE_UTILITY                            1126\n",
       "WAREHOUSE_STATUS                             1126\n",
       "MAKE                                         1126\n",
       "IME                                          1126\n",
       "FINAL SIM                                    1126\n",
       "IMSI                                         1126\n",
       "IP                                           1126\n",
       "MFG_SERIAL_NUM                               1126\n",
       "UDC_ID                                       1126\n",
       "NETWORK_ID                                   1126\n",
       "INSTALLATIONNUMBER                           1126\n",
       "STATUS                                       1126\n",
       "DECODE(D.ORG_ID,52,'SBPDCL',102,'NBPDCL')    1126\n",
       "dtype: int64"
      ]
     },
     "execution_count": 43,
     "metadata": {},
     "output_type": "execute_result"
    }
   ],
   "source": [
    "LEFT_JOIN_WITH_IMSI_WAREHOUSE_AND_COMIBNED_DATA.count()"
   ]
  },
  {
   "cell_type": "code",
   "execution_count": null,
   "metadata": {},
   "outputs": [],
   "source": []
  },
  {
   "cell_type": "markdown",
   "metadata": {},
   "source": [
    "#### IP"
   ]
  },
  {
   "cell_type": "code",
   "execution_count": null,
   "metadata": {},
   "outputs": [],
   "source": []
  },
  {
   "cell_type": "code",
   "execution_count": 44,
   "metadata": {},
   "outputs": [],
   "source": [
    "#  JOIN COMBINED DATA AND WAREHOUSE DATA\n",
    "\n",
    "LEFT_JOIN_WITH_IP_WAREHOUSE_AND_COMIBNED_DATA = pd.merge(warehouse_Data, NB_SB_COMBINED_DATAFRAME, left_on=['IP'], right_on=['NETWORK_ID'], how='left')\n",
    "\n",
    "\n",
    "\n",
    "\n",
    "# changhe name \n",
    "LEFT_JOIN_WITH_IP_WAREHOUSE_AND_COMIBNED_DATA.rename(\n",
    "    columns = {\"MFG_SERIAL_NUM\":\"IP_MATCHED_METER_NO\",\"UDC_ID\": \"IP_MATCH_UDC_ID\",\"NETWORK_ID\":\"IP_MATCHED_IP\",\"STATUS\":\"IP_MATCHED_STATUS\",\"DECODE(D.ORG_ID,52,'SBPDCL',102,'NBPDCL')\":\"IP_MATCHED_UTILITY\"},\n",
    "    inplace=True\n",
    ")\n",
    "\n",
    "\n",
    "\n",
    "\n",
    "# COLUMN\n",
    "\n",
    "LEFT_JOIN_WITH_IP_WAREHOUSE_AND_COMIBNED_COLUMN=LEFT_JOIN_WITH_IP_WAREHOUSE_AND_COMIBNED_DATA.columns\n",
    "#LEFT_JOIN_WITH_IP_WAREHOUSE_AND_COMIBNED_COLUMN\n",
    "LEFT_JOIN_WITH_IP_WAREHOUSE_AND_COMIBNED_DATA_MODIFIED = LEFT_JOIN_WITH_IP_WAREHOUSE_AND_COMIBNED_DATA[LEFT_JOIN_WITH_IP_WAREHOUSE_AND_COMIBNED_COLUMN]"
   ]
  },
  {
   "cell_type": "code",
   "execution_count": 45,
   "metadata": {},
   "outputs": [
    {
     "data": {
      "text/html": [
       "<div>\n",
       "<style scoped>\n",
       "    .dataframe tbody tr th:only-of-type {\n",
       "        vertical-align: middle;\n",
       "    }\n",
       "\n",
       "    .dataframe tbody tr th {\n",
       "        vertical-align: top;\n",
       "    }\n",
       "\n",
       "    .dataframe thead th {\n",
       "        text-align: right;\n",
       "    }\n",
       "</style>\n",
       "<table border=\"1\" class=\"dataframe\">\n",
       "  <thead>\n",
       "    <tr style=\"text-align: right;\">\n",
       "      <th></th>\n",
       "      <th>SL NO</th>\n",
       "      <th>METER NO.</th>\n",
       "      <th>PHASE</th>\n",
       "      <th>WAREHOUSE_UTILITY</th>\n",
       "      <th>WAREHOUSE_STATUS</th>\n",
       "      <th>MAKE</th>\n",
       "      <th>IME</th>\n",
       "      <th>FINAL SIM</th>\n",
       "      <th>IMSI</th>\n",
       "      <th>IP</th>\n",
       "      <th>IP_MATCHED_METER_NO</th>\n",
       "      <th>IP_MATCH_UDC_ID</th>\n",
       "      <th>IP_MATCHED_IP</th>\n",
       "      <th>INSTALLATIONNUMBER</th>\n",
       "      <th>IP_MATCHED_STATUS</th>\n",
       "      <th>IP_MATCHED_UTILITY</th>\n",
       "    </tr>\n",
       "  </thead>\n",
       "  <tbody>\n",
       "    <tr>\n",
       "      <th>0</th>\n",
       "      <td>1</td>\n",
       "      <td>LT0164550</td>\n",
       "      <td>1 Phase</td>\n",
       "      <td>SBPDCL</td>\n",
       "      <td>S2S repaired</td>\n",
       "      <td>L&amp;T</td>\n",
       "      <td>861190055985524</td>\n",
       "      <td>8991856050706095561</td>\n",
       "      <td>405856706095561</td>\n",
       "      <td>2405:0203:0522:9F13:0000:0000:0000:0010</td>\n",
       "      <td>LT0164550</td>\n",
       "      <td>405856706095561</td>\n",
       "      <td>2405:0203:0522:9F13:0000:0000:0000:0010</td>\n",
       "      <td>5002548022</td>\n",
       "      <td>Retired</td>\n",
       "      <td>SBPDCL</td>\n",
       "    </tr>\n",
       "  </tbody>\n",
       "</table>\n",
       "</div>"
      ],
      "text/plain": [
       "  SL NO  METER NO.    PHASE WAREHOUSE_UTILITY WAREHOUSE_STATUS MAKE  \\\n",
       "0     1  LT0164550  1 Phase            SBPDCL     S2S repaired  L&T   \n",
       "\n",
       "               IME            FINAL SIM             IMSI  \\\n",
       "0  861190055985524  8991856050706095561  405856706095561   \n",
       "\n",
       "                                        IP IP_MATCHED_METER_NO  \\\n",
       "0  2405:0203:0522:9F13:0000:0000:0000:0010           LT0164550   \n",
       "\n",
       "   IP_MATCH_UDC_ID                            IP_MATCHED_IP  \\\n",
       "0  405856706095561  2405:0203:0522:9F13:0000:0000:0000:0010   \n",
       "\n",
       "  INSTALLATIONNUMBER IP_MATCHED_STATUS IP_MATCHED_UTILITY  \n",
       "0         5002548022           Retired             SBPDCL  "
      ]
     },
     "execution_count": 45,
     "metadata": {},
     "output_type": "execute_result"
    }
   ],
   "source": [
    "LEFT_JOIN_WITH_IP_WAREHOUSE_AND_COMIBNED_DATA_MODIFIED.head(1)"
   ]
  },
  {
   "cell_type": "code",
   "execution_count": 46,
   "metadata": {},
   "outputs": [
    {
     "data": {
      "text/html": [
       "<div>\n",
       "<style scoped>\n",
       "    .dataframe tbody tr th:only-of-type {\n",
       "        vertical-align: middle;\n",
       "    }\n",
       "\n",
       "    .dataframe tbody tr th {\n",
       "        vertical-align: top;\n",
       "    }\n",
       "\n",
       "    .dataframe thead th {\n",
       "        text-align: right;\n",
       "    }\n",
       "</style>\n",
       "<table border=\"1\" class=\"dataframe\">\n",
       "  <thead>\n",
       "    <tr style=\"text-align: right;\">\n",
       "      <th></th>\n",
       "      <th>SL NO</th>\n",
       "      <th>METER NO.</th>\n",
       "      <th>PHASE</th>\n",
       "      <th>WAREHOUSE_UTILITY</th>\n",
       "      <th>WAREHOUSE_STATUS</th>\n",
       "      <th>MAKE</th>\n",
       "      <th>IME</th>\n",
       "      <th>FINAL SIM</th>\n",
       "      <th>IMSI</th>\n",
       "      <th>IP</th>\n",
       "      <th>IP_MATCHED_METER_NO</th>\n",
       "      <th>IP_MATCH_UDC_ID</th>\n",
       "      <th>IP_MATCHED_IP</th>\n",
       "      <th>INSTALLATIONNUMBER</th>\n",
       "      <th>IP_MATCHED_STATUS</th>\n",
       "      <th>IP_MATCHED_UTILITY</th>\n",
       "    </tr>\n",
       "  </thead>\n",
       "  <tbody>\n",
       "    <tr>\n",
       "      <th>1138</th>\n",
       "      <td>1097</td>\n",
       "      <td>GL8995074</td>\n",
       "      <td>1 Phase</td>\n",
       "      <td>NBPDCL</td>\n",
       "      <td>S2S repaired</td>\n",
       "      <td>GENUS 4G</td>\n",
       "      <td>862058062330373</td>\n",
       "      <td>8991856040708255378</td>\n",
       "      <td>405856708800382</td>\n",
       "      <td>2405:0203:0534:CB37:0000:0000:0000:0010</td>\n",
       "      <td>GL8611463</td>\n",
       "      <td>405856708800382</td>\n",
       "      <td>2405:0203:0534:CB37:0000:0000:0000:0010</td>\n",
       "      <td>5000553001</td>\n",
       "      <td>Installed</td>\n",
       "      <td>SBPDCL</td>\n",
       "    </tr>\n",
       "    <tr>\n",
       "      <th>1139</th>\n",
       "      <td>1097</td>\n",
       "      <td>GL8995074</td>\n",
       "      <td>1 Phase</td>\n",
       "      <td>NBPDCL</td>\n",
       "      <td>S2S repaired</td>\n",
       "      <td>GENUS 4G</td>\n",
       "      <td>862058062330373</td>\n",
       "      <td>8991856040708255378</td>\n",
       "      <td>405856708800382</td>\n",
       "      <td>2405:0203:0534:CB37:0000:0000:0000:0010</td>\n",
       "      <td>GL8611463</td>\n",
       "      <td>405856708800382</td>\n",
       "      <td>2405:0203:0534:CB37:0000:0000:0000:0010</td>\n",
       "      <td>5002130086</td>\n",
       "      <td>Installed</td>\n",
       "      <td>SBPDCL</td>\n",
       "    </tr>\n",
       "    <tr>\n",
       "      <th>1182</th>\n",
       "      <td>1126</td>\n",
       "      <td>GL8998210</td>\n",
       "      <td>1 Phase</td>\n",
       "      <td>NBPDCL</td>\n",
       "      <td>S2S repaired</td>\n",
       "      <td>GENUS 4G</td>\n",
       "      <td>862058062331967</td>\n",
       "      <td>8991856040707048645</td>\n",
       "      <td>405856707593640</td>\n",
       "      <td>2405:0203:0533:9FA6:0000:0000:0000:0010</td>\n",
       "      <td>GL8953657</td>\n",
       "      <td>405856707593640</td>\n",
       "      <td>2405:0203:0533:9FA6:0000:0000:0000:0010</td>\n",
       "      <td>5004034894</td>\n",
       "      <td>Installed</td>\n",
       "      <td>SBPDCL</td>\n",
       "    </tr>\n",
       "    <tr>\n",
       "      <th>1181</th>\n",
       "      <td>1126</td>\n",
       "      <td>GL8998210</td>\n",
       "      <td>1 Phase</td>\n",
       "      <td>NBPDCL</td>\n",
       "      <td>S2S repaired</td>\n",
       "      <td>GENUS 4G</td>\n",
       "      <td>862058062331967</td>\n",
       "      <td>8991856040707048645</td>\n",
       "      <td>405856707593640</td>\n",
       "      <td>2405:0203:0533:9FA6:0000:0000:0000:0010</td>\n",
       "      <td>GL8953657</td>\n",
       "      <td>405856707593640</td>\n",
       "      <td>2405:0203:0533:9FA6:0000:0000:0000:0010</td>\n",
       "      <td>5001958300</td>\n",
       "      <td>Installed</td>\n",
       "      <td>SBPDCL</td>\n",
       "    </tr>\n",
       "    <tr>\n",
       "      <th>1053</th>\n",
       "      <td>1033</td>\n",
       "      <td>Gl8891087</td>\n",
       "      <td>1 Phase</td>\n",
       "      <td>SBPDCL</td>\n",
       "      <td>S2S repaired</td>\n",
       "      <td>GENUS 4G</td>\n",
       "      <td>862058061535634</td>\n",
       "      <td>8991856040706278018</td>\n",
       "      <td>405856706823027</td>\n",
       "      <td>2405:0203:0533:708B:0000:0000:0000:0010</td>\n",
       "      <td>GL8941598</td>\n",
       "      <td>405856706823027</td>\n",
       "      <td>2405:0203:0533:708B:0000:0000:0000:0010</td>\n",
       "      <td>BTABT-9327</td>\n",
       "      <td>Installed</td>\n",
       "      <td>SBPDCL</td>\n",
       "    </tr>\n",
       "    <tr>\n",
       "      <th>...</th>\n",
       "      <td>...</td>\n",
       "      <td>...</td>\n",
       "      <td>...</td>\n",
       "      <td>...</td>\n",
       "      <td>...</td>\n",
       "      <td>...</td>\n",
       "      <td>...</td>\n",
       "      <td>...</td>\n",
       "      <td>...</td>\n",
       "      <td>...</td>\n",
       "      <td>...</td>\n",
       "      <td>...</td>\n",
       "      <td>...</td>\n",
       "      <td>...</td>\n",
       "      <td>...</td>\n",
       "      <td>...</td>\n",
       "    </tr>\n",
       "    <tr>\n",
       "      <th>60</th>\n",
       "      <td>61</td>\n",
       "      <td>LT0248258</td>\n",
       "      <td>1 Phase</td>\n",
       "      <td>SBPDCL</td>\n",
       "      <td>S2S repaired</td>\n",
       "      <td>L&amp;T</td>\n",
       "      <td>869810056244504</td>\n",
       "      <td>8991856050706337157</td>\n",
       "      <td>405856706337157</td>\n",
       "      <td>2405:0203:0523:FB4E:0000:0000:0000:0010</td>\n",
       "      <td>NaN</td>\n",
       "      <td>NaN</td>\n",
       "      <td>NaN</td>\n",
       "      <td>NaN</td>\n",
       "      <td>NaN</td>\n",
       "      <td>NaN</td>\n",
       "    </tr>\n",
       "    <tr>\n",
       "      <th>850</th>\n",
       "      <td>851</td>\n",
       "      <td>LT0240239</td>\n",
       "      <td>1 Phase</td>\n",
       "      <td>SBPDCL</td>\n",
       "      <td>S2S repaired</td>\n",
       "      <td>L&amp;T</td>\n",
       "      <td>869810055979449</td>\n",
       "      <td>8991856050706324281</td>\n",
       "      <td>405856706324281</td>\n",
       "      <td>2405:0203:0523:DBFB:0000:0000:0000:0010</td>\n",
       "      <td>NaN</td>\n",
       "      <td>NaN</td>\n",
       "      <td>NaN</td>\n",
       "      <td>NaN</td>\n",
       "      <td>NaN</td>\n",
       "      <td>NaN</td>\n",
       "    </tr>\n",
       "    <tr>\n",
       "      <th>851</th>\n",
       "      <td>852</td>\n",
       "      <td>LT0240477</td>\n",
       "      <td>1 Phase</td>\n",
       "      <td>SBPDCL</td>\n",
       "      <td>S2S repaired</td>\n",
       "      <td>L&amp;T</td>\n",
       "      <td>869810055373247</td>\n",
       "      <td>8991856050706352344</td>\n",
       "      <td>405856706352344</td>\n",
       "      <td>2405:0203:0523:DCE9:0000:0000:0000:0010</td>\n",
       "      <td>NaN</td>\n",
       "      <td>NaN</td>\n",
       "      <td>NaN</td>\n",
       "      <td>NaN</td>\n",
       "      <td>NaN</td>\n",
       "      <td>NaN</td>\n",
       "    </tr>\n",
       "    <tr>\n",
       "      <th>855</th>\n",
       "      <td>856</td>\n",
       "      <td>LT0240237</td>\n",
       "      <td>1 Phase</td>\n",
       "      <td>SBPDCL</td>\n",
       "      <td>S2S repaired</td>\n",
       "      <td>L&amp;T</td>\n",
       "      <td>869810056258777</td>\n",
       "      <td>8991856050706353804</td>\n",
       "      <td>405856706353804</td>\n",
       "      <td>2405:0203:0523:DBF9:0000:0000:0000:0010</td>\n",
       "      <td>NaN</td>\n",
       "      <td>NaN</td>\n",
       "      <td>NaN</td>\n",
       "      <td>NaN</td>\n",
       "      <td>NaN</td>\n",
       "      <td>NaN</td>\n",
       "    </tr>\n",
       "    <tr>\n",
       "      <th>916</th>\n",
       "      <td>917</td>\n",
       "      <td>LT0240479</td>\n",
       "      <td>1 Phase</td>\n",
       "      <td>SBPDCL</td>\n",
       "      <td>S2S repaired</td>\n",
       "      <td>L&amp;T</td>\n",
       "      <td>869810051065839</td>\n",
       "      <td>8991856050706352323</td>\n",
       "      <td>405856706352323</td>\n",
       "      <td>2405:0203:0523:DCEB:0000:0000:0000:0010</td>\n",
       "      <td>NaN</td>\n",
       "      <td>NaN</td>\n",
       "      <td>NaN</td>\n",
       "      <td>NaN</td>\n",
       "      <td>NaN</td>\n",
       "      <td>NaN</td>\n",
       "    </tr>\n",
       "  </tbody>\n",
       "</table>\n",
       "<p>120 rows × 16 columns</p>\n",
       "</div>"
      ],
      "text/plain": [
       "     SL NO  METER NO.    PHASE WAREHOUSE_UTILITY WAREHOUSE_STATUS      MAKE  \\\n",
       "1138  1097  GL8995074  1 Phase            NBPDCL     S2S repaired  GENUS 4G   \n",
       "1139  1097  GL8995074  1 Phase            NBPDCL     S2S repaired  GENUS 4G   \n",
       "1182  1126  GL8998210  1 Phase            NBPDCL     S2S repaired  GENUS 4G   \n",
       "1181  1126  GL8998210  1 Phase            NBPDCL     S2S repaired  GENUS 4G   \n",
       "1053  1033  Gl8891087  1 Phase            SBPDCL     S2S repaired  GENUS 4G   \n",
       "...    ...        ...      ...               ...              ...       ...   \n",
       "60      61  LT0248258  1 Phase            SBPDCL     S2S repaired       L&T   \n",
       "850    851  LT0240239  1 Phase            SBPDCL     S2S repaired       L&T   \n",
       "851    852  LT0240477  1 Phase            SBPDCL     S2S repaired       L&T   \n",
       "855    856  LT0240237  1 Phase            SBPDCL     S2S repaired       L&T   \n",
       "916    917  LT0240479  1 Phase            SBPDCL     S2S repaired       L&T   \n",
       "\n",
       "                  IME            FINAL SIM             IMSI  \\\n",
       "1138  862058062330373  8991856040708255378  405856708800382   \n",
       "1139  862058062330373  8991856040708255378  405856708800382   \n",
       "1182  862058062331967  8991856040707048645  405856707593640   \n",
       "1181  862058062331967  8991856040707048645  405856707593640   \n",
       "1053  862058061535634  8991856040706278018  405856706823027   \n",
       "...               ...                  ...              ...   \n",
       "60    869810056244504  8991856050706337157  405856706337157   \n",
       "850   869810055979449  8991856050706324281  405856706324281   \n",
       "851   869810055373247  8991856050706352344  405856706352344   \n",
       "855   869810056258777  8991856050706353804  405856706353804   \n",
       "916   869810051065839  8991856050706352323  405856706352323   \n",
       "\n",
       "                                           IP IP_MATCHED_METER_NO  \\\n",
       "1138  2405:0203:0534:CB37:0000:0000:0000:0010           GL8611463   \n",
       "1139  2405:0203:0534:CB37:0000:0000:0000:0010           GL8611463   \n",
       "1182  2405:0203:0533:9FA6:0000:0000:0000:0010           GL8953657   \n",
       "1181  2405:0203:0533:9FA6:0000:0000:0000:0010           GL8953657   \n",
       "1053  2405:0203:0533:708B:0000:0000:0000:0010           GL8941598   \n",
       "...                                       ...                 ...   \n",
       "60    2405:0203:0523:FB4E:0000:0000:0000:0010                 NaN   \n",
       "850   2405:0203:0523:DBFB:0000:0000:0000:0010                 NaN   \n",
       "851   2405:0203:0523:DCE9:0000:0000:0000:0010                 NaN   \n",
       "855   2405:0203:0523:DBF9:0000:0000:0000:0010                 NaN   \n",
       "916   2405:0203:0523:DCEB:0000:0000:0000:0010                 NaN   \n",
       "\n",
       "      IP_MATCH_UDC_ID                            IP_MATCHED_IP  \\\n",
       "1138  405856708800382  2405:0203:0534:CB37:0000:0000:0000:0010   \n",
       "1139  405856708800382  2405:0203:0534:CB37:0000:0000:0000:0010   \n",
       "1182  405856707593640  2405:0203:0533:9FA6:0000:0000:0000:0010   \n",
       "1181  405856707593640  2405:0203:0533:9FA6:0000:0000:0000:0010   \n",
       "1053  405856706823027  2405:0203:0533:708B:0000:0000:0000:0010   \n",
       "...               ...                                      ...   \n",
       "60                NaN                                      NaN   \n",
       "850               NaN                                      NaN   \n",
       "851               NaN                                      NaN   \n",
       "855               NaN                                      NaN   \n",
       "916               NaN                                      NaN   \n",
       "\n",
       "     INSTALLATIONNUMBER IP_MATCHED_STATUS IP_MATCHED_UTILITY  \n",
       "1138         5000553001         Installed             SBPDCL  \n",
       "1139         5002130086         Installed             SBPDCL  \n",
       "1182         5004034894         Installed             SBPDCL  \n",
       "1181         5001958300         Installed             SBPDCL  \n",
       "1053         BTABT-9327         Installed             SBPDCL  \n",
       "...                 ...               ...                ...  \n",
       "60                  NaN               NaN                NaN  \n",
       "850                 NaN               NaN                NaN  \n",
       "851                 NaN               NaN                NaN  \n",
       "855                 NaN               NaN                NaN  \n",
       "916                 NaN               NaN                NaN  \n",
       "\n",
       "[120 rows x 16 columns]"
      ]
     },
     "execution_count": 46,
     "metadata": {},
     "output_type": "execute_result"
    }
   ],
   "source": [
    "LEFT_JOIN_WITH_IP_WAREHOUSE_AND_COMIBNED_DATA_MODIFIED[LEFT_JOIN_WITH_IP_WAREHOUSE_AND_COMIBNED_DATA_MODIFIED.duplicated(subset=['IP_MATCHED_IP'],keep=False)].sort_values(by=['IP_MATCHED_IP'],ascending=False)"
   ]
  },
  {
   "cell_type": "code",
   "execution_count": null,
   "metadata": {},
   "outputs": [],
   "source": []
  },
  {
   "cell_type": "markdown",
   "metadata": {},
   "source": [
    "##### joining both the table \"   LEFT_JOIN_WITH_METER_UTILITY_WAREHOUSE_AND_COMIBNED_DATA   \"  ,  \" LEFT_JOIN_WITH_IMSI_WAREHOUSE_AND_COMIBNED_DATA \"  and    \" LEFT_JOIN_WITH_IP_WAREHOUSE_AND_COMIBNED_DATA \""
   ]
  },
  {
   "cell_type": "code",
   "execution_count": null,
   "metadata": {},
   "outputs": [],
   "source": []
  },
  {
   "cell_type": "code",
   "execution_count": 47,
   "metadata": {},
   "outputs": [],
   "source": [
    "# LEFT_JOIN_WITH_METER_UTILITY_WAREHOUSE_AND_COMIBNED_DATA : column rename"
   ]
  },
  {
   "cell_type": "code",
   "execution_count": 48,
   "metadata": {},
   "outputs": [],
   "source": [
    "LEFT_JOIN_WITH_METER_UTILITY_WAREHOUSE_AND_COMIBNED_DATA.rename(\n",
    "    columns={\"UDC_ID\": \"METER_MATCH_UDC_ID\", \"NETWORK_ID\": \"METER_MATCH_IP\", \"STATUS\": \"METER_MATCH_STATUS\",\"DECODE(D.ORG_ID,52,'SBPDCL',102,'NBPDCL')\":\"METER_MATCH_UTILITY\"},\n",
    "    inplace=True\n",
    ")\n",
    "\n"
   ]
  },
  {
   "cell_type": "code",
   "execution_count": 49,
   "metadata": {},
   "outputs": [],
   "source": [
    "# LEFT_JOIN_WITH_METER_UTILITY_WAREHOUSE_AND_COMIBNED_DATA : column in modified column"
   ]
  },
  {
   "cell_type": "code",
   "execution_count": 50,
   "metadata": {},
   "outputs": [
    {
     "data": {
      "text/plain": [
       "Index(['SL NO', 'METER NO.', 'PHASE', 'WAREHOUSE_UTILITY', 'WAREHOUSE_STATUS',\n",
       "       'MAKE', 'IME', 'FINAL SIM', 'IMSI', 'IP', 'MFG_SERIAL_NUM',\n",
       "       'METER_MATCH_UDC_ID', 'METER_MATCH_IP', 'INSTALLATIONNUMBER',\n",
       "       'METER_MATCH_STATUS', 'METER_MATCH_UTILITY'],\n",
       "      dtype='object')"
      ]
     },
     "execution_count": 50,
     "metadata": {},
     "output_type": "execute_result"
    }
   ],
   "source": [
    "LEFT_JOIN_WITH_METER_UTILITY_WAREHOUSE_AND_COMINED_COLUMN=LEFT_JOIN_WITH_METER_UTILITY_WAREHOUSE_AND_COMIBNED_DATA.columns\n",
    "LEFT_JOIN_WITH_METER_UTILITY_WAREHOUSE_AND_COMINED_COLUMN"
   ]
  },
  {
   "cell_type": "code",
   "execution_count": 51,
   "metadata": {},
   "outputs": [],
   "source": [
    "LEFT_JOIN_WITH_METER_UTILITY_WAREHOUSE_AND_COMIBNED_DATA_MODIFIED = LEFT_JOIN_WITH_METER_UTILITY_WAREHOUSE_AND_COMIBNED_DATA[LEFT_JOIN_WITH_METER_UTILITY_WAREHOUSE_AND_COMINED_COLUMN]"
   ]
  },
  {
   "cell_type": "code",
   "execution_count": null,
   "metadata": {},
   "outputs": [],
   "source": []
  },
  {
   "cell_type": "code",
   "execution_count": 52,
   "metadata": {},
   "outputs": [
    {
     "data": {
      "text/html": [
       "<div>\n",
       "<style scoped>\n",
       "    .dataframe tbody tr th:only-of-type {\n",
       "        vertical-align: middle;\n",
       "    }\n",
       "\n",
       "    .dataframe tbody tr th {\n",
       "        vertical-align: top;\n",
       "    }\n",
       "\n",
       "    .dataframe thead th {\n",
       "        text-align: right;\n",
       "    }\n",
       "</style>\n",
       "<table border=\"1\" class=\"dataframe\">\n",
       "  <thead>\n",
       "    <tr style=\"text-align: right;\">\n",
       "      <th></th>\n",
       "      <th>SL NO</th>\n",
       "      <th>METER NO.</th>\n",
       "      <th>PHASE</th>\n",
       "      <th>WAREHOUSE_UTILITY</th>\n",
       "      <th>WAREHOUSE_STATUS</th>\n",
       "      <th>MAKE</th>\n",
       "      <th>IME</th>\n",
       "      <th>FINAL SIM</th>\n",
       "      <th>IMSI</th>\n",
       "      <th>IP</th>\n",
       "      <th>MFG_SERIAL_NUM</th>\n",
       "      <th>METER_MATCH_UDC_ID</th>\n",
       "      <th>METER_MATCH_IP</th>\n",
       "      <th>INSTALLATIONNUMBER</th>\n",
       "      <th>METER_MATCH_STATUS</th>\n",
       "      <th>METER_MATCH_UTILITY</th>\n",
       "    </tr>\n",
       "  </thead>\n",
       "  <tbody>\n",
       "    <tr>\n",
       "      <th>0</th>\n",
       "      <td>1</td>\n",
       "      <td>LT0164550</td>\n",
       "      <td>1 Phase</td>\n",
       "      <td>SBPDCL</td>\n",
       "      <td>S2S repaired</td>\n",
       "      <td>L&amp;T</td>\n",
       "      <td>861190055985524</td>\n",
       "      <td>8991856050706095561</td>\n",
       "      <td>405856706095561</td>\n",
       "      <td>2405:0203:0522:9F13:0000:0000:0000:0010</td>\n",
       "      <td>LT0164550</td>\n",
       "      <td>405856706095561</td>\n",
       "      <td>2405:0203:0522:9F13:0000:0000:0000:0010</td>\n",
       "      <td>5002548022</td>\n",
       "      <td>Retired</td>\n",
       "      <td>SBPDCL</td>\n",
       "    </tr>\n",
       "  </tbody>\n",
       "</table>\n",
       "</div>"
      ],
      "text/plain": [
       "  SL NO  METER NO.    PHASE WAREHOUSE_UTILITY WAREHOUSE_STATUS MAKE  \\\n",
       "0     1  LT0164550  1 Phase            SBPDCL     S2S repaired  L&T   \n",
       "\n",
       "               IME            FINAL SIM             IMSI  \\\n",
       "0  861190055985524  8991856050706095561  405856706095561   \n",
       "\n",
       "                                        IP MFG_SERIAL_NUM METER_MATCH_UDC_ID  \\\n",
       "0  2405:0203:0522:9F13:0000:0000:0000:0010      LT0164550    405856706095561   \n",
       "\n",
       "                            METER_MATCH_IP INSTALLATIONNUMBER  \\\n",
       "0  2405:0203:0522:9F13:0000:0000:0000:0010         5002548022   \n",
       "\n",
       "  METER_MATCH_STATUS METER_MATCH_UTILITY  \n",
       "0            Retired              SBPDCL  "
      ]
     },
     "execution_count": 52,
     "metadata": {},
     "output_type": "execute_result"
    }
   ],
   "source": [
    "LEFT_JOIN_WITH_METER_UTILITY_WAREHOUSE_AND_COMIBNED_DATA_MODIFIED.head(1)"
   ]
  },
  {
   "cell_type": "code",
   "execution_count": 53,
   "metadata": {},
   "outputs": [
    {
     "data": {
      "text/plain": [
       "SL NO                  0\n",
       "METER NO.              0\n",
       "PHASE                  0\n",
       "WAREHOUSE_UTILITY      0\n",
       "WAREHOUSE_STATUS       0\n",
       "MAKE                   0\n",
       "IME                    0\n",
       "FINAL SIM              0\n",
       "IMSI                   0\n",
       "IP                     0\n",
       "MFG_SERIAL_NUM         0\n",
       "METER_MATCH_UDC_ID     0\n",
       "METER_MATCH_IP         0\n",
       "INSTALLATIONNUMBER     0\n",
       "METER_MATCH_STATUS     0\n",
       "METER_MATCH_UTILITY    0\n",
       "dtype: int64"
      ]
     },
     "execution_count": 53,
     "metadata": {},
     "output_type": "execute_result"
    }
   ],
   "source": [
    "LEFT_JOIN_WITH_METER_UTILITY_WAREHOUSE_AND_COMIBNED_DATA_MODIFIED[LEFT_JOIN_WITH_METER_UTILITY_WAREHOUSE_AND_COMIBNED_DATA_MODIFIED['METER_MATCH_UDC_ID']=='nan'].count()"
   ]
  },
  {
   "cell_type": "code",
   "execution_count": null,
   "metadata": {},
   "outputs": [],
   "source": []
  },
  {
   "cell_type": "code",
   "execution_count": 54,
   "metadata": {},
   "outputs": [],
   "source": [
    "#LEFT_JOIN_WITH_METER_UTILITY_WAREHOUSE_AND_COMIBNED_DATA_MODIFIED = LEFT_JOIN_WITH_METER_UTILITY_WAREHOUSE_AND_COMIBNED_DATA[['SL. NO.','METER NO.','PHASE TYPE','FINAL HES MAPPING','CATEGORY FOR DASHBOARD','SUPPLIER','IME AS PER L&T SHIPMENT','SIM 19 DIST','IMSI','IP','REMARKS',\"METER_MATCH_UDC_ID\",\"METER_MATCH_IP\",\"METER_MATCH_STATUS\",\"METER_MATCH_UTILITY\"]]"
   ]
  },
  {
   "cell_type": "code",
   "execution_count": 55,
   "metadata": {},
   "outputs": [],
   "source": [
    "# LEFT_JOIN_WITH_IMSI_WAREHOUSE_AND_COMIBNED_DATA : column rename"
   ]
  },
  {
   "cell_type": "code",
   "execution_count": 56,
   "metadata": {},
   "outputs": [],
   "source": [
    "LEFT_JOIN_WITH_IMSI_WAREHOUSE_AND_COMIBNED_DATA.rename(\n",
    "    columns = {\"MFG_SERIAL_NUM\":\"IMSI_MATCHED_METER_NO\",\"NETWORK_ID\":\"IMSI_MATCHED_IP\",\"STATUS\":\"IMSI_MATCHED_STATUS\",\"DECODE(D.ORG_ID,52,'SBPDCL',102,'NBPDCL')\":\"IMSI_MATCHED_UTILITY\"},\n",
    "    inplace=True\n",
    ")"
   ]
  },
  {
   "cell_type": "code",
   "execution_count": 57,
   "metadata": {},
   "outputs": [
    {
     "data": {
      "text/html": [
       "<div>\n",
       "<style scoped>\n",
       "    .dataframe tbody tr th:only-of-type {\n",
       "        vertical-align: middle;\n",
       "    }\n",
       "\n",
       "    .dataframe tbody tr th {\n",
       "        vertical-align: top;\n",
       "    }\n",
       "\n",
       "    .dataframe thead th {\n",
       "        text-align: right;\n",
       "    }\n",
       "</style>\n",
       "<table border=\"1\" class=\"dataframe\">\n",
       "  <thead>\n",
       "    <tr style=\"text-align: right;\">\n",
       "      <th></th>\n",
       "      <th>SL NO</th>\n",
       "      <th>METER NO.</th>\n",
       "      <th>PHASE</th>\n",
       "      <th>WAREHOUSE_UTILITY</th>\n",
       "      <th>WAREHOUSE_STATUS</th>\n",
       "      <th>MAKE</th>\n",
       "      <th>IME</th>\n",
       "      <th>FINAL SIM</th>\n",
       "      <th>IMSI</th>\n",
       "      <th>IP</th>\n",
       "      <th>IMSI_MATCHED_METER_NO</th>\n",
       "      <th>UDC_ID</th>\n",
       "      <th>IMSI_MATCHED_IP</th>\n",
       "      <th>INSTALLATIONNUMBER</th>\n",
       "      <th>IMSI_MATCHED_STATUS</th>\n",
       "      <th>IMSI_MATCHED_UTILITY</th>\n",
       "    </tr>\n",
       "  </thead>\n",
       "  <tbody>\n",
       "    <tr>\n",
       "      <th>0</th>\n",
       "      <td>1</td>\n",
       "      <td>LT0164550</td>\n",
       "      <td>1 Phase</td>\n",
       "      <td>SBPDCL</td>\n",
       "      <td>S2S repaired</td>\n",
       "      <td>L&amp;T</td>\n",
       "      <td>861190055985524</td>\n",
       "      <td>8991856050706095561</td>\n",
       "      <td>405856706095561</td>\n",
       "      <td>2405:0203:0522:9F13:0000:0000:0000:0010</td>\n",
       "      <td>LT0164550</td>\n",
       "      <td>405856706095561</td>\n",
       "      <td>2405:0203:0522:9F13:0000:0000:0000:0010</td>\n",
       "      <td>5002548022</td>\n",
       "      <td>Retired</td>\n",
       "      <td>SBPDCL</td>\n",
       "    </tr>\n",
       "  </tbody>\n",
       "</table>\n",
       "</div>"
      ],
      "text/plain": [
       "  SL NO  METER NO.    PHASE WAREHOUSE_UTILITY WAREHOUSE_STATUS MAKE  \\\n",
       "0     1  LT0164550  1 Phase            SBPDCL     S2S repaired  L&T   \n",
       "\n",
       "               IME            FINAL SIM             IMSI  \\\n",
       "0  861190055985524  8991856050706095561  405856706095561   \n",
       "\n",
       "                                        IP IMSI_MATCHED_METER_NO  \\\n",
       "0  2405:0203:0522:9F13:0000:0000:0000:0010             LT0164550   \n",
       "\n",
       "            UDC_ID                          IMSI_MATCHED_IP  \\\n",
       "0  405856706095561  2405:0203:0522:9F13:0000:0000:0000:0010   \n",
       "\n",
       "  INSTALLATIONNUMBER IMSI_MATCHED_STATUS IMSI_MATCHED_UTILITY  \n",
       "0         5002548022             Retired               SBPDCL  "
      ]
     },
     "execution_count": 57,
     "metadata": {},
     "output_type": "execute_result"
    }
   ],
   "source": [
    "LEFT_JOIN_WITH_IMSI_WAREHOUSE_AND_COMIBNED_DATA.head(1)"
   ]
  },
  {
   "cell_type": "code",
   "execution_count": 58,
   "metadata": {},
   "outputs": [
    {
     "data": {
      "text/plain": [
       "Index(['SL NO', 'METER NO.', 'PHASE', 'WAREHOUSE_UTILITY', 'WAREHOUSE_STATUS',\n",
       "       'MAKE', 'IME', 'FINAL SIM', 'IMSI', 'IP', 'IMSI_MATCHED_METER_NO',\n",
       "       'UDC_ID', 'IMSI_MATCHED_IP', 'INSTALLATIONNUMBER',\n",
       "       'IMSI_MATCHED_STATUS', 'IMSI_MATCHED_UTILITY'],\n",
       "      dtype='object')"
      ]
     },
     "execution_count": 58,
     "metadata": {},
     "output_type": "execute_result"
    }
   ],
   "source": [
    "LEFT_JOIN_WITH_IMSI_WAREHOUSE_AND_COMIBNED_COLUMN=LEFT_JOIN_WITH_IMSI_WAREHOUSE_AND_COMIBNED_DATA.columns\n",
    "LEFT_JOIN_WITH_IMSI_WAREHOUSE_AND_COMIBNED_COLUMN"
   ]
  },
  {
   "cell_type": "code",
   "execution_count": 59,
   "metadata": {},
   "outputs": [],
   "source": [
    "LEFT_JOIN_WITH_IMSI_WAREHOUSE_AND_COMIBNED_DATA_MODIFIED = LEFT_JOIN_WITH_IMSI_WAREHOUSE_AND_COMIBNED_DATA[LEFT_JOIN_WITH_IMSI_WAREHOUSE_AND_COMIBNED_COLUMN]"
   ]
  },
  {
   "cell_type": "code",
   "execution_count": 60,
   "metadata": {},
   "outputs": [
    {
     "data": {
      "text/html": [
       "<div>\n",
       "<style scoped>\n",
       "    .dataframe tbody tr th:only-of-type {\n",
       "        vertical-align: middle;\n",
       "    }\n",
       "\n",
       "    .dataframe tbody tr th {\n",
       "        vertical-align: top;\n",
       "    }\n",
       "\n",
       "    .dataframe thead th {\n",
       "        text-align: right;\n",
       "    }\n",
       "</style>\n",
       "<table border=\"1\" class=\"dataframe\">\n",
       "  <thead>\n",
       "    <tr style=\"text-align: right;\">\n",
       "      <th></th>\n",
       "      <th>SL NO</th>\n",
       "      <th>METER NO.</th>\n",
       "      <th>PHASE</th>\n",
       "      <th>WAREHOUSE_UTILITY</th>\n",
       "      <th>WAREHOUSE_STATUS</th>\n",
       "      <th>MAKE</th>\n",
       "      <th>IME</th>\n",
       "      <th>FINAL SIM</th>\n",
       "      <th>IMSI</th>\n",
       "      <th>IP</th>\n",
       "      <th>IMSI_MATCHED_METER_NO</th>\n",
       "      <th>UDC_ID</th>\n",
       "      <th>IMSI_MATCHED_IP</th>\n",
       "      <th>INSTALLATIONNUMBER</th>\n",
       "      <th>IMSI_MATCHED_STATUS</th>\n",
       "      <th>IMSI_MATCHED_UTILITY</th>\n",
       "    </tr>\n",
       "  </thead>\n",
       "  <tbody>\n",
       "    <tr>\n",
       "      <th>0</th>\n",
       "      <td>1</td>\n",
       "      <td>LT0164550</td>\n",
       "      <td>1 Phase</td>\n",
       "      <td>SBPDCL</td>\n",
       "      <td>S2S repaired</td>\n",
       "      <td>L&amp;T</td>\n",
       "      <td>861190055985524</td>\n",
       "      <td>8991856050706095561</td>\n",
       "      <td>405856706095561</td>\n",
       "      <td>2405:0203:0522:9F13:0000:0000:0000:0010</td>\n",
       "      <td>LT0164550</td>\n",
       "      <td>405856706095561</td>\n",
       "      <td>2405:0203:0522:9F13:0000:0000:0000:0010</td>\n",
       "      <td>5002548022</td>\n",
       "      <td>Retired</td>\n",
       "      <td>SBPDCL</td>\n",
       "    </tr>\n",
       "  </tbody>\n",
       "</table>\n",
       "</div>"
      ],
      "text/plain": [
       "  SL NO  METER NO.    PHASE WAREHOUSE_UTILITY WAREHOUSE_STATUS MAKE  \\\n",
       "0     1  LT0164550  1 Phase            SBPDCL     S2S repaired  L&T   \n",
       "\n",
       "               IME            FINAL SIM             IMSI  \\\n",
       "0  861190055985524  8991856050706095561  405856706095561   \n",
       "\n",
       "                                        IP IMSI_MATCHED_METER_NO  \\\n",
       "0  2405:0203:0522:9F13:0000:0000:0000:0010             LT0164550   \n",
       "\n",
       "            UDC_ID                          IMSI_MATCHED_IP  \\\n",
       "0  405856706095561  2405:0203:0522:9F13:0000:0000:0000:0010   \n",
       "\n",
       "  INSTALLATIONNUMBER IMSI_MATCHED_STATUS IMSI_MATCHED_UTILITY  \n",
       "0         5002548022             Retired               SBPDCL  "
      ]
     },
     "execution_count": 60,
     "metadata": {},
     "output_type": "execute_result"
    }
   ],
   "source": [
    "LEFT_JOIN_WITH_IMSI_WAREHOUSE_AND_COMIBNED_DATA_MODIFIED.head(1)"
   ]
  },
  {
   "cell_type": "code",
   "execution_count": 61,
   "metadata": {},
   "outputs": [],
   "source": [
    "#LEFT_JOIN_WITH_IMSI_WAREHOUSE_AND_COMIBNED_DATA_MODIFIED = LEFT_JOIN_WITH_IMSI_WAREHOUSE_AND_COMIBNED_DATA[['SL. NO.','METER NO.','PHASE TYPE','FINAL HES MAPPING','CATEGORY FOR DASHBOARD','SUPPLIER','IME AS PER L&T SHIPMENT','SIM 19 DIST','IMSI','IP','REMARKS',\"IMSI_MATCHED_METER_NO\",\"IMSI_MATCHED_IP\",\"IMSI_MATCHED_STATUS\",\"IMSI_MATCHED_UTILITY\"]]"
   ]
  },
  {
   "cell_type": "code",
   "execution_count": null,
   "metadata": {},
   "outputs": [],
   "source": []
  },
  {
   "cell_type": "code",
   "execution_count": null,
   "metadata": {},
   "outputs": [],
   "source": []
  },
  {
   "cell_type": "markdown",
   "metadata": {},
   "source": [
    "### WORK ON LEFT_JOIN_WITH_IMSI_WAREHOUSE_AND_COMIBNED_DATA_MODIFIED  and  LEFT_JOIN_WITH_METER_UTILITY_WAREHOUSE_AND_COMIBNED_DATA_MODIFIED"
   ]
  },
  {
   "cell_type": "code",
   "execution_count": null,
   "metadata": {},
   "outputs": [],
   "source": []
  },
  {
   "cell_type": "code",
   "execution_count": 62,
   "metadata": {},
   "outputs": [
    {
     "data": {
      "text/html": [
       "<div>\n",
       "<style scoped>\n",
       "    .dataframe tbody tr th:only-of-type {\n",
       "        vertical-align: middle;\n",
       "    }\n",
       "\n",
       "    .dataframe tbody tr th {\n",
       "        vertical-align: top;\n",
       "    }\n",
       "\n",
       "    .dataframe thead th {\n",
       "        text-align: right;\n",
       "    }\n",
       "</style>\n",
       "<table border=\"1\" class=\"dataframe\">\n",
       "  <thead>\n",
       "    <tr style=\"text-align: right;\">\n",
       "      <th></th>\n",
       "      <th>SL NO</th>\n",
       "      <th>METER NO.</th>\n",
       "      <th>PHASE</th>\n",
       "      <th>WAREHOUSE_UTILITY</th>\n",
       "      <th>WAREHOUSE_STATUS</th>\n",
       "      <th>MAKE</th>\n",
       "      <th>IME</th>\n",
       "      <th>FINAL SIM</th>\n",
       "      <th>IMSI</th>\n",
       "      <th>IP</th>\n",
       "      <th>IMSI_MATCHED_METER_NO</th>\n",
       "      <th>UDC_ID</th>\n",
       "      <th>IMSI_MATCHED_IP</th>\n",
       "      <th>INSTALLATIONNUMBER</th>\n",
       "      <th>IMSI_MATCHED_STATUS</th>\n",
       "      <th>IMSI_MATCHED_UTILITY</th>\n",
       "    </tr>\n",
       "  </thead>\n",
       "  <tbody>\n",
       "    <tr>\n",
       "      <th>0</th>\n",
       "      <td>1</td>\n",
       "      <td>LT0164550</td>\n",
       "      <td>1 Phase</td>\n",
       "      <td>SBPDCL</td>\n",
       "      <td>S2S repaired</td>\n",
       "      <td>L&amp;T</td>\n",
       "      <td>861190055985524</td>\n",
       "      <td>8991856050706095561</td>\n",
       "      <td>405856706095561</td>\n",
       "      <td>2405:0203:0522:9F13:0000:0000:0000:0010</td>\n",
       "      <td>LT0164550</td>\n",
       "      <td>405856706095561</td>\n",
       "      <td>2405:0203:0522:9F13:0000:0000:0000:0010</td>\n",
       "      <td>5002548022</td>\n",
       "      <td>Retired</td>\n",
       "      <td>SBPDCL</td>\n",
       "    </tr>\n",
       "    <tr>\n",
       "      <th>1</th>\n",
       "      <td>2</td>\n",
       "      <td>LT0364314</td>\n",
       "      <td>1 Phase</td>\n",
       "      <td>NBPDCL</td>\n",
       "      <td>S2S repaired</td>\n",
       "      <td>L&amp;T</td>\n",
       "      <td>861996077248679</td>\n",
       "      <td>8991856050706402335</td>\n",
       "      <td>405856706402335</td>\n",
       "      <td>2405:0203:0525:C6A1:0000:0000:0000:0010</td>\n",
       "      <td>LT0364314</td>\n",
       "      <td>405856706402335</td>\n",
       "      <td>2405:0203:0525:C6A1:0000:0000:0000:0010</td>\n",
       "      <td>5002884613</td>\n",
       "      <td>Retired</td>\n",
       "      <td>NBPDCL</td>\n",
       "    </tr>\n",
       "    <tr>\n",
       "      <th>2</th>\n",
       "      <td>3</td>\n",
       "      <td>LT1027418</td>\n",
       "      <td>1 Phase</td>\n",
       "      <td>NBPDCL</td>\n",
       "      <td>S2S repaired</td>\n",
       "      <td>L&amp;T</td>\n",
       "      <td>861996077250907</td>\n",
       "      <td>8991856040706794444</td>\n",
       "      <td>405856707339447</td>\n",
       "      <td>2405:0203:0530:EE5B:0000:0000:0000:0010</td>\n",
       "      <td>LT1027418</td>\n",
       "      <td>405856707339447</td>\n",
       "      <td>2405:0203:0530:EE5B:0000:0000:0000:0010</td>\n",
       "      <td>5001586266</td>\n",
       "      <td>Retired</td>\n",
       "      <td>NBPDCL</td>\n",
       "    </tr>\n",
       "  </tbody>\n",
       "</table>\n",
       "</div>"
      ],
      "text/plain": [
       "  SL NO  METER NO.    PHASE WAREHOUSE_UTILITY WAREHOUSE_STATUS MAKE  \\\n",
       "0     1  LT0164550  1 Phase            SBPDCL     S2S repaired  L&T   \n",
       "1     2  LT0364314  1 Phase            NBPDCL     S2S repaired  L&T   \n",
       "2     3  LT1027418  1 Phase            NBPDCL     S2S repaired  L&T   \n",
       "\n",
       "               IME            FINAL SIM             IMSI  \\\n",
       "0  861190055985524  8991856050706095561  405856706095561   \n",
       "1  861996077248679  8991856050706402335  405856706402335   \n",
       "2  861996077250907  8991856040706794444  405856707339447   \n",
       "\n",
       "                                        IP IMSI_MATCHED_METER_NO  \\\n",
       "0  2405:0203:0522:9F13:0000:0000:0000:0010             LT0164550   \n",
       "1  2405:0203:0525:C6A1:0000:0000:0000:0010             LT0364314   \n",
       "2  2405:0203:0530:EE5B:0000:0000:0000:0010             LT1027418   \n",
       "\n",
       "            UDC_ID                          IMSI_MATCHED_IP  \\\n",
       "0  405856706095561  2405:0203:0522:9F13:0000:0000:0000:0010   \n",
       "1  405856706402335  2405:0203:0525:C6A1:0000:0000:0000:0010   \n",
       "2  405856707339447  2405:0203:0530:EE5B:0000:0000:0000:0010   \n",
       "\n",
       "  INSTALLATIONNUMBER IMSI_MATCHED_STATUS IMSI_MATCHED_UTILITY  \n",
       "0         5002548022             Retired               SBPDCL  \n",
       "1         5002884613             Retired               NBPDCL  \n",
       "2         5001586266             Retired               NBPDCL  "
      ]
     },
     "execution_count": 62,
     "metadata": {},
     "output_type": "execute_result"
    }
   ],
   "source": [
    "LEFT_JOIN_WITH_IMSI_WAREHOUSE_AND_COMIBNED_DATA_MODIFIED.head(3)"
   ]
  },
  {
   "cell_type": "code",
   "execution_count": 63,
   "metadata": {},
   "outputs": [
    {
     "data": {
      "text/html": [
       "<div>\n",
       "<style scoped>\n",
       "    .dataframe tbody tr th:only-of-type {\n",
       "        vertical-align: middle;\n",
       "    }\n",
       "\n",
       "    .dataframe tbody tr th {\n",
       "        vertical-align: top;\n",
       "    }\n",
       "\n",
       "    .dataframe thead th {\n",
       "        text-align: right;\n",
       "    }\n",
       "</style>\n",
       "<table border=\"1\" class=\"dataframe\">\n",
       "  <thead>\n",
       "    <tr style=\"text-align: right;\">\n",
       "      <th></th>\n",
       "      <th>SL NO</th>\n",
       "      <th>METER NO.</th>\n",
       "      <th>PHASE</th>\n",
       "      <th>WAREHOUSE_UTILITY</th>\n",
       "      <th>WAREHOUSE_STATUS</th>\n",
       "      <th>MAKE</th>\n",
       "      <th>IME</th>\n",
       "      <th>FINAL SIM</th>\n",
       "      <th>IMSI</th>\n",
       "      <th>IP</th>\n",
       "      <th>MFG_SERIAL_NUM</th>\n",
       "      <th>METER_MATCH_UDC_ID</th>\n",
       "      <th>METER_MATCH_IP</th>\n",
       "      <th>INSTALLATIONNUMBER</th>\n",
       "      <th>METER_MATCH_STATUS</th>\n",
       "      <th>METER_MATCH_UTILITY</th>\n",
       "    </tr>\n",
       "  </thead>\n",
       "  <tbody>\n",
       "    <tr>\n",
       "      <th>0</th>\n",
       "      <td>1</td>\n",
       "      <td>LT0164550</td>\n",
       "      <td>1 Phase</td>\n",
       "      <td>SBPDCL</td>\n",
       "      <td>S2S repaired</td>\n",
       "      <td>L&amp;T</td>\n",
       "      <td>861190055985524</td>\n",
       "      <td>8991856050706095561</td>\n",
       "      <td>405856706095561</td>\n",
       "      <td>2405:0203:0522:9F13:0000:0000:0000:0010</td>\n",
       "      <td>LT0164550</td>\n",
       "      <td>405856706095561</td>\n",
       "      <td>2405:0203:0522:9F13:0000:0000:0000:0010</td>\n",
       "      <td>5002548022</td>\n",
       "      <td>Retired</td>\n",
       "      <td>SBPDCL</td>\n",
       "    </tr>\n",
       "    <tr>\n",
       "      <th>1</th>\n",
       "      <td>2</td>\n",
       "      <td>LT0364314</td>\n",
       "      <td>1 Phase</td>\n",
       "      <td>NBPDCL</td>\n",
       "      <td>S2S repaired</td>\n",
       "      <td>L&amp;T</td>\n",
       "      <td>861996077248679</td>\n",
       "      <td>8991856050706402335</td>\n",
       "      <td>405856706402335</td>\n",
       "      <td>2405:0203:0525:C6A1:0000:0000:0000:0010</td>\n",
       "      <td>LT0364314</td>\n",
       "      <td>405856706402335</td>\n",
       "      <td>2405:0203:0525:C6A1:0000:0000:0000:0010</td>\n",
       "      <td>5002884613</td>\n",
       "      <td>Retired</td>\n",
       "      <td>NBPDCL</td>\n",
       "    </tr>\n",
       "    <tr>\n",
       "      <th>2</th>\n",
       "      <td>3</td>\n",
       "      <td>LT1027418</td>\n",
       "      <td>1 Phase</td>\n",
       "      <td>NBPDCL</td>\n",
       "      <td>S2S repaired</td>\n",
       "      <td>L&amp;T</td>\n",
       "      <td>861996077250907</td>\n",
       "      <td>8991856040706794444</td>\n",
       "      <td>405856707339447</td>\n",
       "      <td>2405:0203:0530:EE5B:0000:0000:0000:0010</td>\n",
       "      <td>LT1027418</td>\n",
       "      <td>405856707339447</td>\n",
       "      <td>2405:0203:0530:EE5B:0000:0000:0000:0010</td>\n",
       "      <td>5001586266</td>\n",
       "      <td>Retired</td>\n",
       "      <td>NBPDCL</td>\n",
       "    </tr>\n",
       "  </tbody>\n",
       "</table>\n",
       "</div>"
      ],
      "text/plain": [
       "  SL NO  METER NO.    PHASE WAREHOUSE_UTILITY WAREHOUSE_STATUS MAKE  \\\n",
       "0     1  LT0164550  1 Phase            SBPDCL     S2S repaired  L&T   \n",
       "1     2  LT0364314  1 Phase            NBPDCL     S2S repaired  L&T   \n",
       "2     3  LT1027418  1 Phase            NBPDCL     S2S repaired  L&T   \n",
       "\n",
       "               IME            FINAL SIM             IMSI  \\\n",
       "0  861190055985524  8991856050706095561  405856706095561   \n",
       "1  861996077248679  8991856050706402335  405856706402335   \n",
       "2  861996077250907  8991856040706794444  405856707339447   \n",
       "\n",
       "                                        IP MFG_SERIAL_NUM METER_MATCH_UDC_ID  \\\n",
       "0  2405:0203:0522:9F13:0000:0000:0000:0010      LT0164550    405856706095561   \n",
       "1  2405:0203:0525:C6A1:0000:0000:0000:0010      LT0364314    405856706402335   \n",
       "2  2405:0203:0530:EE5B:0000:0000:0000:0010      LT1027418    405856707339447   \n",
       "\n",
       "                            METER_MATCH_IP INSTALLATIONNUMBER  \\\n",
       "0  2405:0203:0522:9F13:0000:0000:0000:0010         5002548022   \n",
       "1  2405:0203:0525:C6A1:0000:0000:0000:0010         5002884613   \n",
       "2  2405:0203:0530:EE5B:0000:0000:0000:0010         5001586266   \n",
       "\n",
       "  METER_MATCH_STATUS METER_MATCH_UTILITY  \n",
       "0            Retired              SBPDCL  \n",
       "1            Retired              NBPDCL  \n",
       "2            Retired              NBPDCL  "
      ]
     },
     "execution_count": 63,
     "metadata": {},
     "output_type": "execute_result"
    }
   ],
   "source": [
    "LEFT_JOIN_WITH_METER_UTILITY_WAREHOUSE_AND_COMIBNED_DATA_MODIFIED.head(3)"
   ]
  },
  {
   "cell_type": "code",
   "execution_count": 64,
   "metadata": {},
   "outputs": [],
   "source": [
    "#"
   ]
  },
  {
   "cell_type": "markdown",
   "metadata": {},
   "source": [
    "# data correction"
   ]
  },
  {
   "cell_type": "code",
   "execution_count": 65,
   "metadata": {},
   "outputs": [],
   "source": [
    "# Convert all columns to string data type\n",
    "\n",
    "# change into str\n",
    "LEFT_JOIN_WITH_IMSI_WAREHOUSE_AND_COMIBNED_DATA_MODIFIED = LEFT_JOIN_WITH_IMSI_WAREHOUSE_AND_COMIBNED_DATA_MODIFIED.astype(str)\n",
    "LEFT_JOIN_WITH_METER_UTILITY_WAREHOUSE_AND_COMIBNED_DATA_MODIFIED = LEFT_JOIN_WITH_METER_UTILITY_WAREHOUSE_AND_COMIBNED_DATA_MODIFIED.astype(str)\n",
    "LEFT_JOIN_WITH_IP_WAREHOUSE_AND_COMIBNED_DATA_MODIFIED = LEFT_JOIN_WITH_IP_WAREHOUSE_AND_COMIBNED_DATA_MODIFIED.astype(str)\n",
    "\n",
    "# ----------------------------------------------------------------------------------\n",
    "\n",
    "# change into upper\n",
    "LEFT_JOIN_WITH_IMSI_WAREHOUSE_AND_COMIBNED_DATA_MODIFIED.columns = LEFT_JOIN_WITH_IMSI_WAREHOUSE_AND_COMIBNED_DATA_MODIFIED.columns.str.upper()\n",
    "LEFT_JOIN_WITH_METER_UTILITY_WAREHOUSE_AND_COMIBNED_DATA_MODIFIED.columns = LEFT_JOIN_WITH_METER_UTILITY_WAREHOUSE_AND_COMIBNED_DATA_MODIFIED.columns.str.upper()\n",
    "LEFT_JOIN_WITH_IP_WAREHOUSE_AND_COMIBNED_DATA_MODIFIED.columns = LEFT_JOIN_WITH_IP_WAREHOUSE_AND_COMIBNED_DATA_MODIFIED.columns.str.upper()\n",
    "\n",
    "# ----------------------------------------------------------------------------------\n",
    "\n",
    "# Remove leading and trailing whitespaces from all columns where dtype is 'O'\n",
    "LEFT_JOIN_WITH_IMSI_WAREHOUSE_AND_COMIBNED_DATA_MODIFIED = LEFT_JOIN_WITH_IMSI_WAREHOUSE_AND_COMIBNED_DATA_MODIFIED.apply(lambda x: x.str.strip() if x.dtype == 'O' else x)\n",
    "LEFT_JOIN_WITH_METER_UTILITY_WAREHOUSE_AND_COMIBNED_DATA_MODIFIED = LEFT_JOIN_WITH_METER_UTILITY_WAREHOUSE_AND_COMIBNED_DATA_MODIFIED.apply(lambda x: x.str.strip() if x.dtype == 'O' else x)\n",
    "LEFT_JOIN_WITH_IP_WAREHOUSE_AND_COMIBNED_DATA_MODIFIED = LEFT_JOIN_WITH_IP_WAREHOUSE_AND_COMIBNED_DATA_MODIFIED.apply(lambda x: x.str.strip() if x.dtype == 'O' else x)\n",
    "\n",
    "\n"
   ]
  },
  {
   "cell_type": "code",
   "execution_count": null,
   "metadata": {},
   "outputs": [],
   "source": []
  },
  {
   "cell_type": "markdown",
   "metadata": {},
   "source": [
    "# Merge IMSI ,IP  and METER  file"
   ]
  },
  {
   "cell_type": "code",
   "execution_count": 66,
   "metadata": {},
   "outputs": [],
   "source": [
    "warehouse_meter_imsi_data= pd.DataFrame(columns=[warehouse_Data.columns])"
   ]
  },
  {
   "cell_type": "code",
   "execution_count": 67,
   "metadata": {},
   "outputs": [
    {
     "data": {
      "text/html": [
       "<div>\n",
       "<style scoped>\n",
       "    .dataframe tbody tr th:only-of-type {\n",
       "        vertical-align: middle;\n",
       "    }\n",
       "\n",
       "    .dataframe tbody tr th {\n",
       "        vertical-align: top;\n",
       "    }\n",
       "\n",
       "    .dataframe thead tr th {\n",
       "        text-align: left;\n",
       "    }\n",
       "</style>\n",
       "<table border=\"1\" class=\"dataframe\">\n",
       "  <thead>\n",
       "    <tr>\n",
       "      <th></th>\n",
       "      <th>SL NO</th>\n",
       "      <th>METER NO.</th>\n",
       "      <th>PHASE</th>\n",
       "      <th>WAREHOUSE_UTILITY</th>\n",
       "      <th>WAREHOUSE_STATUS</th>\n",
       "      <th>MAKE</th>\n",
       "      <th>IME</th>\n",
       "      <th>FINAL SIM</th>\n",
       "      <th>IMSI</th>\n",
       "      <th>IP</th>\n",
       "    </tr>\n",
       "  </thead>\n",
       "  <tbody>\n",
       "  </tbody>\n",
       "</table>\n",
       "</div>"
      ],
      "text/plain": [
       "Empty DataFrame\n",
       "Columns: [(SL NO,), (METER NO.,), (PHASE,), (WAREHOUSE_UTILITY,), (WAREHOUSE_STATUS,), (MAKE,), (IME,), (FINAL SIM,), (IMSI,), (IP,)]\n",
       "Index: []"
      ]
     },
     "execution_count": 67,
     "metadata": {},
     "output_type": "execute_result"
    }
   ],
   "source": [
    "warehouse_meter_imsi_data"
   ]
  },
  {
   "cell_type": "code",
   "execution_count": 68,
   "metadata": {},
   "outputs": [],
   "source": [
    "#  empty column add to the  warehouse_meter_imsi_data  which has already some empty column of warehouse data"
   ]
  },
  {
   "cell_type": "code",
   "execution_count": 69,
   "metadata": {},
   "outputs": [],
   "source": [
    "warehouse_meter_imsi_data['METER_MATCH_UDC_ID'] = None\n",
    "warehouse_meter_imsi_data['METER_MATCH_IP'] = None\n",
    "warehouse_meter_imsi_data['METER_MATCH_STATUS'] = None\n",
    "warehouse_meter_imsi_data['METER_MATCH_UTILITY'] = None\n",
    "warehouse_meter_imsi_data['IMSI_MATCHED_METER_NO'] = None\n",
    "warehouse_meter_imsi_data['IMSI_MATCHED_IP'] = None\n",
    "warehouse_meter_imsi_data['IMSI_MATCHED_STATUS'] = None\n",
    "warehouse_meter_imsi_data['IMSI_MATCHED_UTILITY'] = None\n",
    "warehouse_meter_imsi_data['IP_MATCHED_METER_NO'] = None\n",
    "warehouse_meter_imsi_data['IP_MATCH_UDC_ID'] = None\n",
    "warehouse_meter_imsi_data['IP_MATCHED_IP'] = None\n",
    "warehouse_meter_imsi_data['IP_MATCHED_STATUS'] = None\n",
    "warehouse_meter_imsi_data['IP_MATCHED_UTILITY'] = None\n"
   ]
  },
  {
   "cell_type": "code",
   "execution_count": 70,
   "metadata": {},
   "outputs": [
    {
     "data": {
      "text/html": [
       "<div>\n",
       "<style scoped>\n",
       "    .dataframe tbody tr th:only-of-type {\n",
       "        vertical-align: middle;\n",
       "    }\n",
       "\n",
       "    .dataframe tbody tr th {\n",
       "        vertical-align: top;\n",
       "    }\n",
       "\n",
       "    .dataframe thead tr th {\n",
       "        text-align: left;\n",
       "    }\n",
       "</style>\n",
       "<table border=\"1\" class=\"dataframe\">\n",
       "  <thead>\n",
       "    <tr>\n",
       "      <th></th>\n",
       "      <th>SL NO</th>\n",
       "      <th>METER NO.</th>\n",
       "      <th>PHASE</th>\n",
       "      <th>WAREHOUSE_UTILITY</th>\n",
       "      <th>WAREHOUSE_STATUS</th>\n",
       "      <th>MAKE</th>\n",
       "      <th>IME</th>\n",
       "      <th>FINAL SIM</th>\n",
       "      <th>IMSI</th>\n",
       "      <th>IP</th>\n",
       "      <th>METER_MATCH_UDC_ID</th>\n",
       "      <th>METER_MATCH_IP</th>\n",
       "      <th>METER_MATCH_STATUS</th>\n",
       "      <th>METER_MATCH_UTILITY</th>\n",
       "      <th>IMSI_MATCHED_METER_NO</th>\n",
       "      <th>IMSI_MATCHED_IP</th>\n",
       "      <th>IMSI_MATCHED_STATUS</th>\n",
       "      <th>IMSI_MATCHED_UTILITY</th>\n",
       "      <th>IP_MATCHED_METER_NO</th>\n",
       "      <th>IP_MATCH_UDC_ID</th>\n",
       "      <th>IP_MATCHED_IP</th>\n",
       "      <th>IP_MATCHED_STATUS</th>\n",
       "      <th>IP_MATCHED_UTILITY</th>\n",
       "    </tr>\n",
       "  </thead>\n",
       "  <tbody>\n",
       "  </tbody>\n",
       "</table>\n",
       "</div>"
      ],
      "text/plain": [
       "Empty DataFrame\n",
       "Columns: [(SL NO,), (METER NO.,), (PHASE,), (WAREHOUSE_UTILITY,), (WAREHOUSE_STATUS,), (MAKE,), (IME,), (FINAL SIM,), (IMSI,), (IP,), (METER_MATCH_UDC_ID,), (METER_MATCH_IP,), (METER_MATCH_STATUS,), (METER_MATCH_UTILITY,), (IMSI_MATCHED_METER_NO,), (IMSI_MATCHED_IP,), (IMSI_MATCHED_STATUS,), (IMSI_MATCHED_UTILITY,), (IP_MATCHED_METER_NO,), (IP_MATCH_UDC_ID,), (IP_MATCHED_IP,), (IP_MATCHED_STATUS,), (IP_MATCHED_UTILITY,)]\n",
       "Index: []"
      ]
     },
     "execution_count": 70,
     "metadata": {},
     "output_type": "execute_result"
    }
   ],
   "source": [
    "warehouse_meter_imsi_data"
   ]
  },
  {
   "cell_type": "code",
   "execution_count": 71,
   "metadata": {},
   "outputs": [],
   "source": [
    "# this column are not same in all the dataframe so that i used the above method"
   ]
  },
  {
   "cell_type": "code",
   "execution_count": 72,
   "metadata": {},
   "outputs": [
    {
     "data": {
      "text/plain": [
       "\"\\nwarehouse_meter_imsi_data = pd.DataFrame(columns=['SL. NO.', 'METER NO.', 'PHASE TYPE', 'WAREHOUSE_UTILITY',\\n       'CATEGORY FOR DASHBOARD', 'SUPPLIER', 'IME AS PER L&T SHIPMENT',\\n       'SIM 19 DIST', 'IMSI', 'IP', 'REMARKS', 'METER_MATCH_UDC_ID',\\n       'METER_MATCH_IP', 'METER_MATCH_STATUS', 'METER_MATCH_UTILITY',\\n       'IMSI_MATCHED_METER_NO', 'IMSI_MATCHED_IP', 'IMSI_MATCHED_STATUS',\\n       'IMSI_MATCHED_UTILITY'])\\n\""
      ]
     },
     "execution_count": 72,
     "metadata": {},
     "output_type": "execute_result"
    }
   ],
   "source": [
    "\"\"\"\n",
    "warehouse_meter_imsi_data = pd.DataFrame(columns=['SL. NO.', 'METER NO.', 'PHASE TYPE', 'WAREHOUSE_UTILITY',\n",
    "       'CATEGORY FOR DASHBOARD', 'SUPPLIER', 'IME AS PER L&T SHIPMENT',\n",
    "       'SIM 19 DIST', 'IMSI', 'IP', 'REMARKS', 'METER_MATCH_UDC_ID',\n",
    "       'METER_MATCH_IP', 'METER_MATCH_STATUS', 'METER_MATCH_UTILITY',\n",
    "       'IMSI_MATCHED_METER_NO', 'IMSI_MATCHED_IP', 'IMSI_MATCHED_STATUS',\n",
    "       'IMSI_MATCHED_UTILITY'])\n",
    "\"\"\""
   ]
  },
  {
   "cell_type": "code",
   "execution_count": 73,
   "metadata": {},
   "outputs": [
    {
     "data": {
      "text/html": [
       "<div>\n",
       "<style scoped>\n",
       "    .dataframe tbody tr th:only-of-type {\n",
       "        vertical-align: middle;\n",
       "    }\n",
       "\n",
       "    .dataframe tbody tr th {\n",
       "        vertical-align: top;\n",
       "    }\n",
       "\n",
       "    .dataframe thead th {\n",
       "        text-align: right;\n",
       "    }\n",
       "</style>\n",
       "<table border=\"1\" class=\"dataframe\">\n",
       "  <thead>\n",
       "    <tr style=\"text-align: right;\">\n",
       "      <th></th>\n",
       "      <th>SL NO</th>\n",
       "      <th>METER NO.</th>\n",
       "      <th>PHASE</th>\n",
       "      <th>WAREHOUSE_UTILITY</th>\n",
       "      <th>WAREHOUSE_STATUS</th>\n",
       "      <th>MAKE</th>\n",
       "      <th>IME</th>\n",
       "      <th>FINAL SIM</th>\n",
       "      <th>IMSI</th>\n",
       "      <th>IP</th>\n",
       "      <th>IP_MATCHED_METER_NO</th>\n",
       "      <th>IP_MATCH_UDC_ID</th>\n",
       "      <th>IP_MATCHED_IP</th>\n",
       "      <th>INSTALLATIONNUMBER</th>\n",
       "      <th>IP_MATCHED_STATUS</th>\n",
       "      <th>IP_MATCHED_UTILITY</th>\n",
       "    </tr>\n",
       "  </thead>\n",
       "  <tbody>\n",
       "    <tr>\n",
       "      <th>0</th>\n",
       "      <td>1</td>\n",
       "      <td>LT0164550</td>\n",
       "      <td>1 Phase</td>\n",
       "      <td>SBPDCL</td>\n",
       "      <td>S2S repaired</td>\n",
       "      <td>L&amp;T</td>\n",
       "      <td>861190055985524</td>\n",
       "      <td>8991856050706095561</td>\n",
       "      <td>405856706095561</td>\n",
       "      <td>2405:0203:0522:9F13:0000:0000:0000:0010</td>\n",
       "      <td>LT0164550</td>\n",
       "      <td>405856706095561</td>\n",
       "      <td>2405:0203:0522:9F13:0000:0000:0000:0010</td>\n",
       "      <td>5002548022</td>\n",
       "      <td>Retired</td>\n",
       "      <td>SBPDCL</td>\n",
       "    </tr>\n",
       "  </tbody>\n",
       "</table>\n",
       "</div>"
      ],
      "text/plain": [
       "  SL NO  METER NO.    PHASE WAREHOUSE_UTILITY WAREHOUSE_STATUS MAKE  \\\n",
       "0     1  LT0164550  1 Phase            SBPDCL     S2S repaired  L&T   \n",
       "\n",
       "               IME            FINAL SIM             IMSI  \\\n",
       "0  861190055985524  8991856050706095561  405856706095561   \n",
       "\n",
       "                                        IP IP_MATCHED_METER_NO  \\\n",
       "0  2405:0203:0522:9F13:0000:0000:0000:0010           LT0164550   \n",
       "\n",
       "   IP_MATCH_UDC_ID                            IP_MATCHED_IP  \\\n",
       "0  405856706095561  2405:0203:0522:9F13:0000:0000:0000:0010   \n",
       "\n",
       "  INSTALLATIONNUMBER IP_MATCHED_STATUS IP_MATCHED_UTILITY  \n",
       "0         5002548022           Retired             SBPDCL  "
      ]
     },
     "execution_count": 73,
     "metadata": {},
     "output_type": "execute_result"
    }
   ],
   "source": [
    "LEFT_JOIN_WITH_IP_WAREHOUSE_AND_COMIBNED_DATA_MODIFIED.head(1)"
   ]
  },
  {
   "cell_type": "code",
   "execution_count": 74,
   "metadata": {},
   "outputs": [
    {
     "data": {
      "text/html": [
       "<div>\n",
       "<style scoped>\n",
       "    .dataframe tbody tr th:only-of-type {\n",
       "        vertical-align: middle;\n",
       "    }\n",
       "\n",
       "    .dataframe tbody tr th {\n",
       "        vertical-align: top;\n",
       "    }\n",
       "\n",
       "    .dataframe thead tr th {\n",
       "        text-align: left;\n",
       "    }\n",
       "</style>\n",
       "<table border=\"1\" class=\"dataframe\">\n",
       "  <thead>\n",
       "    <tr>\n",
       "      <th></th>\n",
       "      <th>SL NO</th>\n",
       "      <th>METER NO.</th>\n",
       "      <th>PHASE</th>\n",
       "      <th>WAREHOUSE_UTILITY</th>\n",
       "      <th>WAREHOUSE_STATUS</th>\n",
       "      <th>MAKE</th>\n",
       "      <th>IME</th>\n",
       "      <th>FINAL SIM</th>\n",
       "      <th>IMSI</th>\n",
       "      <th>IP</th>\n",
       "      <th>METER_MATCH_UDC_ID</th>\n",
       "      <th>METER_MATCH_IP</th>\n",
       "      <th>METER_MATCH_STATUS</th>\n",
       "      <th>METER_MATCH_UTILITY</th>\n",
       "      <th>IMSI_MATCHED_METER_NO</th>\n",
       "      <th>IMSI_MATCHED_IP</th>\n",
       "      <th>IMSI_MATCHED_STATUS</th>\n",
       "      <th>IMSI_MATCHED_UTILITY</th>\n",
       "      <th>IP_MATCHED_METER_NO</th>\n",
       "      <th>IP_MATCH_UDC_ID</th>\n",
       "      <th>IP_MATCHED_IP</th>\n",
       "      <th>IP_MATCHED_STATUS</th>\n",
       "      <th>IP_MATCHED_UTILITY</th>\n",
       "    </tr>\n",
       "  </thead>\n",
       "  <tbody>\n",
       "  </tbody>\n",
       "</table>\n",
       "</div>"
      ],
      "text/plain": [
       "Empty DataFrame\n",
       "Columns: [(SL NO,), (METER NO.,), (PHASE,), (WAREHOUSE_UTILITY,), (WAREHOUSE_STATUS,), (MAKE,), (IME,), (FINAL SIM,), (IMSI,), (IP,), (METER_MATCH_UDC_ID,), (METER_MATCH_IP,), (METER_MATCH_STATUS,), (METER_MATCH_UTILITY,), (IMSI_MATCHED_METER_NO,), (IMSI_MATCHED_IP,), (IMSI_MATCHED_STATUS,), (IMSI_MATCHED_UTILITY,), (IP_MATCHED_METER_NO,), (IP_MATCH_UDC_ID,), (IP_MATCHED_IP,), (IP_MATCHED_STATUS,), (IP_MATCHED_UTILITY,)]\n",
       "Index: []"
      ]
     },
     "execution_count": 74,
     "metadata": {},
     "output_type": "execute_result"
    }
   ],
   "source": [
    "warehouse_meter_imsi_data.head()"
   ]
  },
  {
   "cell_type": "code",
   "execution_count": 75,
   "metadata": {},
   "outputs": [],
   "source": [
    "# combining meter  and imsi data\n",
    "\n",
    "#   METER AND IMSI MERGE\n",
    "\n",
    "warehouse_meter_imsi_data_merge = pd.merge(LEFT_JOIN_WITH_METER_UTILITY_WAREHOUSE_AND_COMIBNED_DATA_MODIFIED, LEFT_JOIN_WITH_IMSI_WAREHOUSE_AND_COMIBNED_DATA_MODIFIED[['METER NO.', 'IMSI','IMSI_MATCHED_METER_NO','IMSI_MATCHED_IP','IMSI_MATCHED_STATUS','IMSI_MATCHED_UTILITY']], left_on=['METER NO.', 'IMSI'], right_on=['METER NO.', 'IMSI'], how='left')\n",
    "\n",
    "\n",
    "# MERGE IP AND warehouse_meter_imsi_data_merge\n",
    "warehouse_meter_imsi_data = pd.merge(warehouse_meter_imsi_data_merge, LEFT_JOIN_WITH_IP_WAREHOUSE_AND_COMIBNED_DATA_MODIFIED[['METER NO.', 'IMSI','IP_MATCHED_METER_NO','IP_MATCH_UDC_ID','IP_MATCHED_IP','IP_MATCHED_STATUS','IP_MATCHED_UTILITY']], left_on=['METER NO.', 'IMSI'], right_on=['METER NO.', 'IMSI'], how='left')\n",
    "\n"
   ]
  },
  {
   "cell_type": "code",
   "execution_count": 76,
   "metadata": {},
   "outputs": [
    {
     "data": {
      "text/html": [
       "<div>\n",
       "<style scoped>\n",
       "    .dataframe tbody tr th:only-of-type {\n",
       "        vertical-align: middle;\n",
       "    }\n",
       "\n",
       "    .dataframe tbody tr th {\n",
       "        vertical-align: top;\n",
       "    }\n",
       "\n",
       "    .dataframe thead th {\n",
       "        text-align: right;\n",
       "    }\n",
       "</style>\n",
       "<table border=\"1\" class=\"dataframe\">\n",
       "  <thead>\n",
       "    <tr style=\"text-align: right;\">\n",
       "      <th></th>\n",
       "      <th>SL NO</th>\n",
       "      <th>METER NO.</th>\n",
       "      <th>PHASE</th>\n",
       "      <th>WAREHOUSE_UTILITY</th>\n",
       "      <th>WAREHOUSE_STATUS</th>\n",
       "      <th>MAKE</th>\n",
       "      <th>IME</th>\n",
       "      <th>FINAL SIM</th>\n",
       "      <th>IMSI</th>\n",
       "      <th>IP</th>\n",
       "      <th>MFG_SERIAL_NUM</th>\n",
       "      <th>METER_MATCH_UDC_ID</th>\n",
       "      <th>METER_MATCH_IP</th>\n",
       "      <th>INSTALLATIONNUMBER</th>\n",
       "      <th>METER_MATCH_STATUS</th>\n",
       "      <th>METER_MATCH_UTILITY</th>\n",
       "      <th>IMSI_MATCHED_METER_NO</th>\n",
       "      <th>IMSI_MATCHED_IP</th>\n",
       "      <th>IMSI_MATCHED_STATUS</th>\n",
       "      <th>IMSI_MATCHED_UTILITY</th>\n",
       "      <th>IP_MATCHED_METER_NO</th>\n",
       "      <th>IP_MATCH_UDC_ID</th>\n",
       "      <th>IP_MATCHED_IP</th>\n",
       "      <th>IP_MATCHED_STATUS</th>\n",
       "      <th>IP_MATCHED_UTILITY</th>\n",
       "    </tr>\n",
       "  </thead>\n",
       "  <tbody>\n",
       "    <tr>\n",
       "      <th>0</th>\n",
       "      <td>1</td>\n",
       "      <td>LT0164550</td>\n",
       "      <td>1 Phase</td>\n",
       "      <td>SBPDCL</td>\n",
       "      <td>S2S repaired</td>\n",
       "      <td>L&amp;T</td>\n",
       "      <td>861190055985524</td>\n",
       "      <td>8991856050706095561</td>\n",
       "      <td>405856706095561</td>\n",
       "      <td>2405:0203:0522:9F13:0000:0000:0000:0010</td>\n",
       "      <td>LT0164550</td>\n",
       "      <td>405856706095561</td>\n",
       "      <td>2405:0203:0522:9F13:0000:0000:0000:0010</td>\n",
       "      <td>5002548022</td>\n",
       "      <td>Retired</td>\n",
       "      <td>SBPDCL</td>\n",
       "      <td>LT0164550</td>\n",
       "      <td>2405:0203:0522:9F13:0000:0000:0000:0010</td>\n",
       "      <td>Retired</td>\n",
       "      <td>SBPDCL</td>\n",
       "      <td>LT0164550</td>\n",
       "      <td>405856706095561</td>\n",
       "      <td>2405:0203:0522:9F13:0000:0000:0000:0010</td>\n",
       "      <td>Retired</td>\n",
       "      <td>SBPDCL</td>\n",
       "    </tr>\n",
       "    <tr>\n",
       "      <th>1</th>\n",
       "      <td>2</td>\n",
       "      <td>LT0364314</td>\n",
       "      <td>1 Phase</td>\n",
       "      <td>NBPDCL</td>\n",
       "      <td>S2S repaired</td>\n",
       "      <td>L&amp;T</td>\n",
       "      <td>861996077248679</td>\n",
       "      <td>8991856050706402335</td>\n",
       "      <td>405856706402335</td>\n",
       "      <td>2405:0203:0525:C6A1:0000:0000:0000:0010</td>\n",
       "      <td>LT0364314</td>\n",
       "      <td>405856706402335</td>\n",
       "      <td>2405:0203:0525:C6A1:0000:0000:0000:0010</td>\n",
       "      <td>5002884613</td>\n",
       "      <td>Retired</td>\n",
       "      <td>NBPDCL</td>\n",
       "      <td>LT0364314</td>\n",
       "      <td>2405:0203:0525:C6A1:0000:0000:0000:0010</td>\n",
       "      <td>Retired</td>\n",
       "      <td>NBPDCL</td>\n",
       "      <td>LT0364314</td>\n",
       "      <td>405856706402335</td>\n",
       "      <td>2405:0203:0525:C6A1:0000:0000:0000:0010</td>\n",
       "      <td>Retired</td>\n",
       "      <td>NBPDCL</td>\n",
       "    </tr>\n",
       "  </tbody>\n",
       "</table>\n",
       "</div>"
      ],
      "text/plain": [
       "  SL NO  METER NO.    PHASE WAREHOUSE_UTILITY WAREHOUSE_STATUS MAKE  \\\n",
       "0     1  LT0164550  1 Phase            SBPDCL     S2S repaired  L&T   \n",
       "1     2  LT0364314  1 Phase            NBPDCL     S2S repaired  L&T   \n",
       "\n",
       "               IME            FINAL SIM             IMSI  \\\n",
       "0  861190055985524  8991856050706095561  405856706095561   \n",
       "1  861996077248679  8991856050706402335  405856706402335   \n",
       "\n",
       "                                        IP MFG_SERIAL_NUM METER_MATCH_UDC_ID  \\\n",
       "0  2405:0203:0522:9F13:0000:0000:0000:0010      LT0164550    405856706095561   \n",
       "1  2405:0203:0525:C6A1:0000:0000:0000:0010      LT0364314    405856706402335   \n",
       "\n",
       "                            METER_MATCH_IP INSTALLATIONNUMBER  \\\n",
       "0  2405:0203:0522:9F13:0000:0000:0000:0010         5002548022   \n",
       "1  2405:0203:0525:C6A1:0000:0000:0000:0010         5002884613   \n",
       "\n",
       "  METER_MATCH_STATUS METER_MATCH_UTILITY IMSI_MATCHED_METER_NO  \\\n",
       "0            Retired              SBPDCL             LT0164550   \n",
       "1            Retired              NBPDCL             LT0364314   \n",
       "\n",
       "                           IMSI_MATCHED_IP IMSI_MATCHED_STATUS  \\\n",
       "0  2405:0203:0522:9F13:0000:0000:0000:0010             Retired   \n",
       "1  2405:0203:0525:C6A1:0000:0000:0000:0010             Retired   \n",
       "\n",
       "  IMSI_MATCHED_UTILITY IP_MATCHED_METER_NO  IP_MATCH_UDC_ID  \\\n",
       "0               SBPDCL           LT0164550  405856706095561   \n",
       "1               NBPDCL           LT0364314  405856706402335   \n",
       "\n",
       "                             IP_MATCHED_IP IP_MATCHED_STATUS  \\\n",
       "0  2405:0203:0522:9F13:0000:0000:0000:0010           Retired   \n",
       "1  2405:0203:0525:C6A1:0000:0000:0000:0010           Retired   \n",
       "\n",
       "  IP_MATCHED_UTILITY  \n",
       "0             SBPDCL  \n",
       "1             NBPDCL  "
      ]
     },
     "execution_count": 76,
     "metadata": {},
     "output_type": "execute_result"
    }
   ],
   "source": [
    "warehouse_meter_imsi_data.head(2)"
   ]
  },
  {
   "cell_type": "code",
   "execution_count": 77,
   "metadata": {},
   "outputs": [],
   "source": [
    "# Convert all columns to string data type\n",
    "\n",
    "# change into str\n",
    "warehouse_meter_imsi_data = warehouse_meter_imsi_data.astype(str)\n",
    "\n",
    "# ----------------------------------------------------------------------------------\n",
    "\n",
    "# change into upper\n",
    "warehouse_meter_imsi_data.columns = warehouse_meter_imsi_data.columns.str.upper()\n",
    "\n",
    "# ----------------------------------------------------------------------------------\n",
    "\n",
    "\n",
    "# Remove leading and trailing whitespaces from all columns where dtype is 'O'\n",
    "warehouse_meter_imsi_data = warehouse_meter_imsi_data.apply(lambda x: x.str.strip() if x.dtype == 'O' else x)\n",
    "\n"
   ]
  },
  {
   "cell_type": "code",
   "execution_count": 78,
   "metadata": {},
   "outputs": [
    {
     "data": {
      "text/plain": [
       "(1183, 25)"
      ]
     },
     "execution_count": 78,
     "metadata": {},
     "output_type": "execute_result"
    }
   ],
   "source": [
    "warehouse_meter_imsi_data.shape"
   ]
  },
  {
   "cell_type": "markdown",
   "metadata": {},
   "source": [
    "# SIM SET CHECK STATUS"
   ]
  },
  {
   "cell_type": "code",
   "execution_count": 79,
   "metadata": {},
   "outputs": [],
   "source": [
    "def fun_sim_status_check(row):\n",
    "    if (row['IMSI'] == row['METER_MATCH_UDC_ID']) and (row['WAREHOUSE_UTILITY'] == row['METER_MATCH_UTILITY']):\n",
    "        return \"SAME SET IN SAME UTILITY\"\n",
    "    elif (row['IMSI'] != row['METER_MATCH_UDC_ID']) and (row['WAREHOUSE_UTILITY'] == row['METER_MATCH_UTILITY']):\n",
    "        return \"DIFFERENT SET IN SAME UTILITY\"\n",
    "    elif (row['IMSI'] == row['METER_MATCH_UDC_ID']) and (row['WAREHOUSE_UTILITY'] != row['METER_MATCH_UTILITY']):\n",
    "        return \"SAME SET IN DIFFERENT UTILITY\"\n",
    "    elif (row['IMSI'] != row['METER_MATCH_UDC_ID']) and (row['WAREHOUSE_UTILITY'] != row['METER_MATCH_UTILITY']):\n",
    "        return \"DIFFERENT SET IN DIFFERENT UTILITY\"\n",
    "    else:\n",
    "        return None\n",
    "\n",
    "# Apply the function to create a new column\n",
    "warehouse_meter_imsi_data['SIM SET CHECK STATUS'] = warehouse_meter_imsi_data.apply(fun_sim_status_check, axis=1)\n",
    "\n"
   ]
  },
  {
   "cell_type": "code",
   "execution_count": null,
   "metadata": {},
   "outputs": [],
   "source": []
  },
  {
   "cell_type": "markdown",
   "metadata": {},
   "source": [
    "# TRUE - FALSE COLUMN"
   ]
  },
  {
   "cell_type": "code",
   "execution_count": 80,
   "metadata": {},
   "outputs": [],
   "source": [
    "def fun_check_true_false__METER_SIM(row):\n",
    "    if row['IMSI']==row['METER_MATCH_UDC_ID']:\n",
    "        return True\n",
    "    else:\n",
    "        return False\n",
    "    \n",
    "warehouse_meter_imsi_data[\"METER_SIM\"] =  warehouse_meter_imsi_data.apply(fun_check_true_false__METER_SIM, axis=1)"
   ]
  },
  {
   "cell_type": "code",
   "execution_count": null,
   "metadata": {},
   "outputs": [],
   "source": []
  },
  {
   "cell_type": "code",
   "execution_count": 81,
   "metadata": {},
   "outputs": [],
   "source": [
    "def fun_check_true_false_METER_ORG(row):\n",
    "    if row['METER_MATCH_UTILITY']==row['WAREHOUSE_UTILITY']:\n",
    "        return True\n",
    "    else:\n",
    "        return False\n",
    "    \n",
    "warehouse_meter_imsi_data[\"METER_ORG\"] =  warehouse_meter_imsi_data.apply(fun_check_true_false_METER_ORG, axis=1)"
   ]
  },
  {
   "cell_type": "code",
   "execution_count": 82,
   "metadata": {},
   "outputs": [],
   "source": [
    "def fun_check_true_false_SIM_ORG(row):\n",
    "    if row['IMSI_MATCHED_UTILITY']==row['WAREHOUSE_UTILITY']:\n",
    "        return True\n",
    "    else:\n",
    "        return False\n",
    "    \n",
    "warehouse_meter_imsi_data[\"SIM_ORG\"] =  warehouse_meter_imsi_data.apply(fun_check_true_false_SIM_ORG, axis=1)"
   ]
  },
  {
   "cell_type": "code",
   "execution_count": 83,
   "metadata": {},
   "outputs": [],
   "source": [
    "def fun_check_true_false_METER_IP(row):\n",
    "    if row['METER_MATCH_IP']==row['IP']:\n",
    "        return True\n",
    "    else:\n",
    "        return False\n",
    "    \n",
    "warehouse_meter_imsi_data[\"METER_IP\"] =  warehouse_meter_imsi_data.apply(fun_check_true_false_METER_IP, axis=1)"
   ]
  },
  {
   "cell_type": "code",
   "execution_count": 84,
   "metadata": {},
   "outputs": [
    {
     "data": {
      "text/html": [
       "<div>\n",
       "<style scoped>\n",
       "    .dataframe tbody tr th:only-of-type {\n",
       "        vertical-align: middle;\n",
       "    }\n",
       "\n",
       "    .dataframe tbody tr th {\n",
       "        vertical-align: top;\n",
       "    }\n",
       "\n",
       "    .dataframe thead th {\n",
       "        text-align: right;\n",
       "    }\n",
       "</style>\n",
       "<table border=\"1\" class=\"dataframe\">\n",
       "  <thead>\n",
       "    <tr style=\"text-align: right;\">\n",
       "      <th></th>\n",
       "      <th>SL NO</th>\n",
       "      <th>METER NO.</th>\n",
       "      <th>PHASE</th>\n",
       "      <th>WAREHOUSE_UTILITY</th>\n",
       "      <th>WAREHOUSE_STATUS</th>\n",
       "      <th>MAKE</th>\n",
       "      <th>IME</th>\n",
       "      <th>FINAL SIM</th>\n",
       "      <th>IMSI</th>\n",
       "      <th>IP</th>\n",
       "      <th>MFG_SERIAL_NUM</th>\n",
       "      <th>METER_MATCH_UDC_ID</th>\n",
       "      <th>METER_MATCH_IP</th>\n",
       "      <th>INSTALLATIONNUMBER</th>\n",
       "      <th>METER_MATCH_STATUS</th>\n",
       "      <th>METER_MATCH_UTILITY</th>\n",
       "      <th>IMSI_MATCHED_METER_NO</th>\n",
       "      <th>IMSI_MATCHED_IP</th>\n",
       "      <th>IMSI_MATCHED_STATUS</th>\n",
       "      <th>IMSI_MATCHED_UTILITY</th>\n",
       "      <th>IP_MATCHED_METER_NO</th>\n",
       "      <th>IP_MATCH_UDC_ID</th>\n",
       "      <th>IP_MATCHED_IP</th>\n",
       "      <th>IP_MATCHED_STATUS</th>\n",
       "      <th>IP_MATCHED_UTILITY</th>\n",
       "      <th>SIM SET CHECK STATUS</th>\n",
       "      <th>METER_SIM</th>\n",
       "      <th>METER_ORG</th>\n",
       "      <th>SIM_ORG</th>\n",
       "      <th>METER_IP</th>\n",
       "    </tr>\n",
       "  </thead>\n",
       "  <tbody>\n",
       "    <tr>\n",
       "      <th>0</th>\n",
       "      <td>1</td>\n",
       "      <td>LT0164550</td>\n",
       "      <td>1 Phase</td>\n",
       "      <td>SBPDCL</td>\n",
       "      <td>S2S repaired</td>\n",
       "      <td>L&amp;T</td>\n",
       "      <td>861190055985524</td>\n",
       "      <td>8991856050706095561</td>\n",
       "      <td>405856706095561</td>\n",
       "      <td>2405:0203:0522:9F13:0000:0000:0000:0010</td>\n",
       "      <td>LT0164550</td>\n",
       "      <td>405856706095561</td>\n",
       "      <td>2405:0203:0522:9F13:0000:0000:0000:0010</td>\n",
       "      <td>5002548022</td>\n",
       "      <td>Retired</td>\n",
       "      <td>SBPDCL</td>\n",
       "      <td>LT0164550</td>\n",
       "      <td>2405:0203:0522:9F13:0000:0000:0000:0010</td>\n",
       "      <td>Retired</td>\n",
       "      <td>SBPDCL</td>\n",
       "      <td>LT0164550</td>\n",
       "      <td>405856706095561</td>\n",
       "      <td>2405:0203:0522:9F13:0000:0000:0000:0010</td>\n",
       "      <td>Retired</td>\n",
       "      <td>SBPDCL</td>\n",
       "      <td>SAME SET IN SAME UTILITY</td>\n",
       "      <td>True</td>\n",
       "      <td>True</td>\n",
       "      <td>True</td>\n",
       "      <td>True</td>\n",
       "    </tr>\n",
       "    <tr>\n",
       "      <th>1</th>\n",
       "      <td>2</td>\n",
       "      <td>LT0364314</td>\n",
       "      <td>1 Phase</td>\n",
       "      <td>NBPDCL</td>\n",
       "      <td>S2S repaired</td>\n",
       "      <td>L&amp;T</td>\n",
       "      <td>861996077248679</td>\n",
       "      <td>8991856050706402335</td>\n",
       "      <td>405856706402335</td>\n",
       "      <td>2405:0203:0525:C6A1:0000:0000:0000:0010</td>\n",
       "      <td>LT0364314</td>\n",
       "      <td>405856706402335</td>\n",
       "      <td>2405:0203:0525:C6A1:0000:0000:0000:0010</td>\n",
       "      <td>5002884613</td>\n",
       "      <td>Retired</td>\n",
       "      <td>NBPDCL</td>\n",
       "      <td>LT0364314</td>\n",
       "      <td>2405:0203:0525:C6A1:0000:0000:0000:0010</td>\n",
       "      <td>Retired</td>\n",
       "      <td>NBPDCL</td>\n",
       "      <td>LT0364314</td>\n",
       "      <td>405856706402335</td>\n",
       "      <td>2405:0203:0525:C6A1:0000:0000:0000:0010</td>\n",
       "      <td>Retired</td>\n",
       "      <td>NBPDCL</td>\n",
       "      <td>SAME SET IN SAME UTILITY</td>\n",
       "      <td>True</td>\n",
       "      <td>True</td>\n",
       "      <td>True</td>\n",
       "      <td>True</td>\n",
       "    </tr>\n",
       "  </tbody>\n",
       "</table>\n",
       "</div>"
      ],
      "text/plain": [
       "  SL NO  METER NO.    PHASE WAREHOUSE_UTILITY WAREHOUSE_STATUS MAKE  \\\n",
       "0     1  LT0164550  1 Phase            SBPDCL     S2S repaired  L&T   \n",
       "1     2  LT0364314  1 Phase            NBPDCL     S2S repaired  L&T   \n",
       "\n",
       "               IME            FINAL SIM             IMSI  \\\n",
       "0  861190055985524  8991856050706095561  405856706095561   \n",
       "1  861996077248679  8991856050706402335  405856706402335   \n",
       "\n",
       "                                        IP MFG_SERIAL_NUM METER_MATCH_UDC_ID  \\\n",
       "0  2405:0203:0522:9F13:0000:0000:0000:0010      LT0164550    405856706095561   \n",
       "1  2405:0203:0525:C6A1:0000:0000:0000:0010      LT0364314    405856706402335   \n",
       "\n",
       "                            METER_MATCH_IP INSTALLATIONNUMBER  \\\n",
       "0  2405:0203:0522:9F13:0000:0000:0000:0010         5002548022   \n",
       "1  2405:0203:0525:C6A1:0000:0000:0000:0010         5002884613   \n",
       "\n",
       "  METER_MATCH_STATUS METER_MATCH_UTILITY IMSI_MATCHED_METER_NO  \\\n",
       "0            Retired              SBPDCL             LT0164550   \n",
       "1            Retired              NBPDCL             LT0364314   \n",
       "\n",
       "                           IMSI_MATCHED_IP IMSI_MATCHED_STATUS  \\\n",
       "0  2405:0203:0522:9F13:0000:0000:0000:0010             Retired   \n",
       "1  2405:0203:0525:C6A1:0000:0000:0000:0010             Retired   \n",
       "\n",
       "  IMSI_MATCHED_UTILITY IP_MATCHED_METER_NO  IP_MATCH_UDC_ID  \\\n",
       "0               SBPDCL           LT0164550  405856706095561   \n",
       "1               NBPDCL           LT0364314  405856706402335   \n",
       "\n",
       "                             IP_MATCHED_IP IP_MATCHED_STATUS  \\\n",
       "0  2405:0203:0522:9F13:0000:0000:0000:0010           Retired   \n",
       "1  2405:0203:0525:C6A1:0000:0000:0000:0010           Retired   \n",
       "\n",
       "  IP_MATCHED_UTILITY      SIM SET CHECK STATUS  METER_SIM  METER_ORG  SIM_ORG  \\\n",
       "0             SBPDCL  SAME SET IN SAME UTILITY       True       True     True   \n",
       "1             NBPDCL  SAME SET IN SAME UTILITY       True       True     True   \n",
       "\n",
       "   METER_IP  \n",
       "0      True  \n",
       "1      True  "
      ]
     },
     "execution_count": 84,
     "metadata": {},
     "output_type": "execute_result"
    }
   ],
   "source": [
    "warehouse_meter_imsi_data.head(2)\n"
   ]
  },
  {
   "cell_type": "markdown",
   "metadata": {},
   "source": [
    "# SIM SET CHECK STATUS RECHECK COLUMN"
   ]
  },
  {
   "cell_type": "code",
   "execution_count": null,
   "metadata": {},
   "outputs": [],
   "source": []
  },
  {
   "cell_type": "code",
   "execution_count": 85,
   "metadata": {},
   "outputs": [],
   "source": [
    "def check_set_and_utility(row):\n",
    "    if row['METER_SIM'] == True and ((row['METER_ORG'] == True) and (row[\"SIM_ORG\"] == True)) :\n",
    "        return \"SAME SET IN SAME UTILITY\"\n",
    "    elif row['METER_SIM'] == True and ((row['METER_ORG'] == False) and (row[\"SIM_ORG\"] == False)) :\n",
    "        return \"SAME SET IN DIFFERENT UTILITY\"\n",
    "    elif row['METER_SIM'] == False and ((row['METER_ORG'] == True) and (row[\"SIM_ORG\"] == True)) :\n",
    "        return \"DIFFERENT SET IN SAME UTILITY\"\n",
    "    elif row['METER_SIM'] == False and ((row['METER_ORG'] == False) and (row[\"SIM_ORG\"] == False)) :\n",
    "        return \"DIFFERENT SET IN DIFFERENT UTILITY\"\n",
    "    \n",
    "    # new case added\n",
    "    elif row['METER_SIM'] == True and (row['METER_ORG'] == True) and (row[\"SIM_ORG\"] == False) :\n",
    "        return \"SAME SET IN SAME UTILITY\"\n",
    "    elif row['METER_SIM'] == True and (row['METER_ORG'] == False) and (row[\"SIM_ORG\"] == True) :\n",
    "        return \"SAME SET IN DIFFERENT UTILITY\"\n",
    "    \n",
    "    elif row['METER_SIM'] == False and ((row['METER_ORG'] == True) and (row[\"SIM_ORG\"] == False)) :\n",
    "        return \"DIFFERENT SET IN SAME UTILITY\"\n",
    "    \n",
    "    elif row['METER_SIM'] == False and ((row['METER_ORG'] == False) and (row[\"SIM_ORG\"] == True)) :\n",
    "        return \"DIFFERENT SET IN DIFFERENT UTILITY\"\n",
    "\n",
    "    \n",
    "    else:\n",
    "        return None\n",
    "\n",
    "\n",
    "warehouse_meter_imsi_data[\"SIM SET CHECK STATUS RECHECK\"] =  warehouse_meter_imsi_data.apply(check_set_and_utility, axis=1)\n"
   ]
  },
  {
   "cell_type": "code",
   "execution_count": null,
   "metadata": {},
   "outputs": [],
   "source": []
  },
  {
   "cell_type": "code",
   "execution_count": 86,
   "metadata": {},
   "outputs": [
    {
     "data": {
      "text/plain": [
       "Index(['SL NO', 'METER NO.', 'PHASE', 'WAREHOUSE_UTILITY', 'WAREHOUSE_STATUS',\n",
       "       'MAKE', 'IME', 'FINAL SIM', 'IMSI', 'IP', 'MFG_SERIAL_NUM',\n",
       "       'METER_MATCH_UDC_ID', 'METER_MATCH_IP', 'INSTALLATIONNUMBER',\n",
       "       'METER_MATCH_STATUS', 'METER_MATCH_UTILITY', 'IMSI_MATCHED_METER_NO',\n",
       "       'IMSI_MATCHED_IP', 'IMSI_MATCHED_STATUS', 'IMSI_MATCHED_UTILITY',\n",
       "       'IP_MATCHED_METER_NO', 'IP_MATCH_UDC_ID', 'IP_MATCHED_IP',\n",
       "       'IP_MATCHED_STATUS', 'IP_MATCHED_UTILITY', 'SIM SET CHECK STATUS',\n",
       "       'METER_SIM', 'METER_ORG', 'SIM_ORG', 'METER_IP',\n",
       "       'SIM SET CHECK STATUS RECHECK'],\n",
       "      dtype='object')"
      ]
     },
     "execution_count": 86,
     "metadata": {},
     "output_type": "execute_result"
    }
   ],
   "source": [
    "warehouse_meter_imsi_data.columns"
   ]
  },
  {
   "cell_type": "markdown",
   "metadata": {},
   "source": [
    "# Action taken column"
   ]
  },
  {
   "cell_type": "markdown",
   "metadata": {},
   "source": []
  },
  {
   "cell_type": "code",
   "execution_count": 87,
   "metadata": {},
   "outputs": [],
   "source": [
    "\n",
    "def fun_action_taken_case_I(data_row):\n",
    "\n",
    "    # case 1\n",
    "    \n",
    "    #if data_row['IMSI']== data_row['METER_MATCH_UDC_ID']:\n",
    "        #return \"SET IS IN INSTALLED STAGE\"\n",
    "    if (data_row['METER_MATCH_STATUS'] != \"Installed\")  & (data_row['IMSI_MATCHED_STATUS'] == \"Installed\"):\n",
    "        return \"IMSI IS IN INSTALLED STAGE\"\n",
    "    elif (data_row['METER_MATCH_STATUS'] == \"Installed\")  & (data_row['IMSI_MATCHED_STATUS'] != \"Installed\"):\n",
    "        return \"METER IS IN INSTALLED STAGE\"\n",
    "    \n",
    "\n",
    "    # new cases\n",
    "    \n",
    "    # 1\n",
    "    elif (data_row[\"SIM SET CHECK STATUS RECHECK\"] == 'SAME SET IN SAME UTILITY') and (data_row['METER_MATCH_STATUS'] == \"Installed\") and (data_row['IMSI_MATCHED_STATUS'] == \"Installed\"):\n",
    "        return \"SET IS IN INSTALLED STAGE\"\n",
    "    \n",
    "    # 2\n",
    "    elif (data_row[\"SIM SET CHECK STATUS RECHECK\"] == 'SAME SET IN DIFFERENT UTILITY') and (data_row['METER_MATCH_STATUS'] == \"Installed\") and (data_row['IMSI_MATCHED_STATUS'] == \"Installed\"):\n",
    "        return \"SET IS IN INSTALLED STAGE\"\n",
    "    \n",
    "    # 3\n",
    "    elif (data_row[\"SIM SET CHECK STATUS RECHECK\"] == 'DIFFERENT SET IN SAME UTILITY') and (data_row['METER_MATCH_STATUS'] == \"Installed\") and (data_row['IMSI_MATCHED_STATUS'] == \"Installed\"):\n",
    "        return \"BOTH INSTALLED IN SAME UTILITY\"\n",
    "    \n",
    "    elif (data_row[\"SIM SET CHECK STATUS RECHECK\"] == 'DIFFERENT SET IN SAME UTILITY') and (data_row['METER_MATCH_STATUS'] == \"Installed\") and (data_row['IMSI_MATCHED_STATUS'] != \"Installed\"):\n",
    "        return \"METER IS IN INSTALLED STAGE\"\n",
    "    \n",
    "    elif (data_row[\"SIM SET CHECK STATUS RECHECK\"] == 'DIFFERENT SET IN SAME UTILITY') and (data_row['METER_MATCH_STATUS'] != \"Installed\") and (data_row['IMSI_MATCHED_STATUS'] == \"Installed\"):\n",
    "        return \"IMSI IS IN INSTALLED STAGE\"\n",
    "    \n",
    "    # 4\n",
    "    elif (data_row[\"SIM SET CHECK STATUS RECHECK\"] == 'DIFFERENT SET IN DIFFERENT UTILITY') and (data_row['METER_MATCH_STATUS'] == \"Installed\") and (data_row['IMSI_MATCHED_STATUS'] == \"Installed\"):\n",
    "        return \"BOTH INSTALLED IN SAME UTILITY\"\n",
    "    \n",
    "    elif (data_row[\"SIM SET CHECK STATUS RECHECK\"] == 'DIFFERENT SET IN DIFFERENT UTILITY') and (data_row['METER_MATCH_STATUS'] == \"Installed\") and (data_row['IMSI_MATCHED_STATUS'] != \"Installed\"):\n",
    "        return \"METER IS IN INSTALLED STAGE\"\n",
    "    \n",
    "    elif (data_row[\"SIM SET CHECK STATUS RECHECK\"] == 'DIFFERENT SET IN DIFFERENT UTILITY') and (data_row['METER_MATCH_STATUS'] != \"Installed\") and (data_row['IMSI_MATCHED_STATUS'] == \"Installed\"):\n",
    "        return \"IMSI IS IN INSTALLED STAGE\"\n",
    "\n",
    "    # case 2 \n",
    "\n",
    "\n",
    "    # set 1 and row['METER_IP'] == True\n",
    "    elif (data_row['METER_SIM'] == True) and ((data_row['METER_ORG']  == True) and (data_row[\"SIM_ORG\"] == True)) and (data_row['METER_IP'] == True) and data_row['METER_MATCH_STATUS']!='Installed' and data_row['IMSI_MATCHED_STATUS'] !='Installed':\n",
    "        return \"METER-SIM LINK FILE REQUIRED\"\n",
    "    \n",
    "    elif (data_row['METER_SIM'] == True) and (data_row['METER_ORG']  == True) and (data_row[\"SIM_ORG\"] == True) and (data_row['METER_IP'] == True) and data_row['METER_MATCH_STATUS']=='Installed' :\n",
    "        return \"METER IS IN INSTALLED STAGE\"\n",
    "    \n",
    "    elif (data_row['METER_SIM'] == True) and (data_row['METER_ORG']  == True) and (data_row[\"SIM_ORG\"] == True) and (data_row['METER_IP'] == True) and  data_row['IMSI_MATCHED_STATUS']=='Installed' :\n",
    "        return \"IMSI IS IN INSTALLED STAGE\"\n",
    "    \n",
    "    \n",
    "    \n",
    "    \n",
    "\n",
    "\n",
    "\n",
    "    # set 1 and row['METER_IP'] == False \n",
    "    elif (data_row['METER_SIM'] == True) and ((data_row['METER_ORG'] == True) and (data_row[\"SIM_ORG\"] == True)) and (data_row['METER_IP'] == False) :\n",
    "        return \"SIM AND METER-SIM LINK FILE REQUIRED\"\n",
    "    \n",
    "    elif (data_row['METER_SIM'] == True) and ((data_row['METER_ORG'] == True) and (data_row[\"SIM_ORG\"] == False)) and (data_row['METER_IP'] == False) :\n",
    "        return \"SIM AND METER-SIM LINK FILE REQUIRED\"\n",
    "    \n",
    "    # set 2  \"SAME SET IN DIFFERENT UTILITY\"\n",
    "    elif (data_row['METER_SIM'] == True) and ((data_row['METER_ORG'] == False) and (data_row[\"SIM_ORG\"] == False)) :\n",
    "        return \"METER , SIM AND METER-SIM LINK FILE REQUIRED\"\n",
    "\n",
    "    #set 3  \"DIFFERENT SET IN SAME UTILITY\"\n",
    "    \n",
    "    elif (data_row['METER_SIM'] == False) and ((data_row['METER_ORG'] == True) and (data_row[\"SIM_ORG\"] == True)) :\n",
    "        return \"SIM AND METER-SIM LINK FILE REQUIRED\"\n",
    " \n",
    "    # set 4  \"DIFFERENT SET IN DIFFERENT UTILITY\"\n",
    "    elif (data_row['METER_SIM'] == False) and ((data_row['METER_ORG'] == False) and (data_row[\"SIM_ORG\"] == False)) :\n",
    "        return \"METER , SIM AND METER-SIM LINK FILE REQUIRED\"\n",
    "    \n",
    "    elif (data_row['METER_SIM'] == False) and (data_row['METER_ORG'] == True) and (data_row[\"SIM_ORG\"] == False) and (data_row['METER_IP'] == False):\n",
    "        return \"SIM AND METER-SIM LINK FILE REQUIRED\"\n",
    "    \n",
    "    elif (data_row['METER_SIM'] == False) and (data_row['METER_ORG'] == True) and (data_row[\"SIM_ORG\"] == False) and (data_row['METER_IP'] == True):\n",
    "        return \"SIM AND METER-SIM LINK FILE REQUIRED\"\n",
    "\n",
    "\n",
    "    # new cases are added in this to handle imsi null\n",
    "    \n",
    "    elif ( data_row['IMSI_MATCHED_METER_NO'] =='nan') and ( data_row['IMSI_MATCHED_IP'] =='nan') and ( data_row['IMSI_MATCHED_STATUS'] =='nan') and (data_row['METER_ORG'] == True ):\n",
    "        return \"SIM AND METER-SIM LINK FILE REQUIRED\"\n",
    "    elif ( data_row['IMSI_MATCHED_METER_NO'] =='nan' ) and ( data_row['IMSI_MATCHED_IP'] =='nan') and ( data_row['IMSI_MATCHED_STATUS'] =='nan') and (data_row['METER_ORG'] == False ):\n",
    "        return \"METER , SIM AND METER-SIM LINK FILE REQUIRED\"\n",
    "    elif ( data_row['IMSI_MATCHED_METER_NO'] =='nan') and ( data_row['IMSI_MATCHED_IP'] =='nan') and ( data_row['IMSI_MATCHED_STATUS'] =='nan')  and ( data_row['METER_MATCH_UDC_ID'] =='nan') and ( data_row['METER_MATCH_IP'] =='nan') and ( data_row['METER_MATCH_STATUS'] =='nan'):\n",
    "        return \"METER , SIM AND METER-SIM LINK FILE REQUIRED\"\n",
    "    \n",
    "    # set is in installed\n",
    "    elif (data_row['METER NO.']+data_row['IMSI']) == data_row['METER NO.']+data_row['METER_MATCH_UDC_ID']:\n",
    "        return \"SET IS IN INSTALLED STAGE\"\n",
    "    \n",
    "    \n",
    "\n",
    "    \n",
    "    else:\n",
    "        return \" NEED TO CHECK THIS FILE\"\n",
    "    \n",
    "    \n",
    "    \n",
    "warehouse_meter_imsi_data[\"ACTION TAKEN\"] =  warehouse_meter_imsi_data.apply(fun_action_taken_case_I, axis=1)"
   ]
  },
  {
   "cell_type": "code",
   "execution_count": 88,
   "metadata": {},
   "outputs": [
    {
     "data": {
      "text/plain": [
       "'\\n# new cases\\n    elif (data_row[\\'METER_MATCH_UTILITY\\'] == warehouse_utility_importation_demand)  and  (data_row[\\'METER_MATCH_STATUS\\']==\\'Installed\\') and (data_row[\\'IMSI_MATCHED_UTILITY\\']== warehouse_utility_importation_demand) and (data_row[\\'IMSI_MATCHED_STATUS\\'] == \\'Installed\\'):\\n        return \\'BOTH INSTALLED IN SAME UTILITY\\'\\n    \\n    elif (data_row[\\'METER_SIM\\'] == False) and (data_row[\\'METER_ORG\\']  == False) and (data_row[\"SIM_ORG\"] == False) and (data_row[\\'METER_IP\\'] == False) and data_row[\\'METER_MATCH_STATUS\\']==\\'Installed\\' :\\n        return \"METER IS IN INSTALLED STAGE\"\\n    \\n    elif (data_row[\\'METER_SIM\\'] == False) and (data_row[\\'METER_ORG\\']  == False) and (data_row[\"SIM_ORG\"] == False) and (data_row[\\'METER_IP\\'] == False) and  data_row[\\'IMSI_MATCHED_STATUS\\']==\\'Installed\\' :\\n        return \"IMSI IS IN INSTALLED STAGE\"\\n    \\n    elif (data_row[\\'METER_SIM\\'] == True) and (data_row[\\'METER_ORG\\']  == False) and (data_row[\"SIM_ORG\"] == False) and (data_row[\\'METER_IP\\'] == False) and data_row[\\'METER_MATCH_STATUS\\']==\\'Installed\\' :\\n        return \"METER IS IN INSTALLED STAGE\"\\n    \\n    elif (data_row[\\'METER_SIM\\'] == True) and (data_row[\\'METER_ORG\\']  == False) and (data_row[\"SIM_ORG\"] == False) and (data_row[\\'METER_IP\\'] == False) and  data_row[\\'IMSI_MATCHED_STATUS\\']==\\'Installed\\' :\\n        return \"IMSI IS IN INSTALLED STAGE\"\\n    \\n    elif (data_row[\\'METER_SIM\\'] == True) and (data_row[\\'METER_ORG\\']  == True) and (data_row[\"SIM_ORG\"] == False) and (data_row[\\'METER_IP\\'] == False) and data_row[\\'METER_MATCH_STATUS\\']==\\'Installed\\' :\\n        return \"METER IS IN INSTALLED STAGE\"\\n    \\n    elif (data_row[\\'METER_SIM\\'] == True) and (data_row[\\'METER_ORG\\']  == True) and (data_row[\"SIM_ORG\"] == False) and (data_row[\\'METER_IP\\'] == False) and  data_row[\\'IMSI_MATCHED_STATUS\\']==\\'Installed\\' :\\n        return \"IMSI IS IN INSTALLED STAGE\"\\n    \\n    elif (data_row[\\'METER_SIM\\'] == True) and (data_row[\\'METER_ORG\\']  == True) and (data_row[\"SIM_ORG\"] == True) and (data_row[\\'METER_IP\\'] == False) and data_row[\\'METER_MATCH_STATUS\\']==\\'Installed\\' :\\n        return \"METER IS IN INSTALLED STAGE\"\\n    \\n    elif (data_row[\\'METER_SIM\\'] == True) and (data_row[\\'METER_ORG\\']  == True) and (data_row[\"SIM_ORG\"] == True) and (data_row[\\'METER_IP\\'] == False) and  data_row[\\'IMSI_MATCHED_STATUS\\']==\\'Installed\\' :\\n        return \"IMSI IS IN INSTALLED STAGE\"\\n\\n    elif (data_row[\\'METER_SIM\\'] == False) and (data_row[\\'METER_ORG\\']  == True) and (data_row[\"SIM_ORG\"] == True) and (data_row[\\'METER_IP\\'] == True) and data_row[\\'METER_MATCH_STATUS\\']==\\'Installed\\' :\\n        return \"METER IS IN INSTALLED STAGE\"\\n    \\n    elif (data_row[\\'METER_SIM\\'] == False) and (data_row[\\'METER_ORG\\']  == True) and (data_row[\"SIM_ORG\"] == True) and (data_row[\\'METER_IP\\'] == True) and  data_row[\\'IMSI_MATCHED_STATUS\\']==\\'Installed\\' :\\n        return \"IMSI IS IN INSTALLED STAGE\"\\n'"
      ]
     },
     "execution_count": 88,
     "metadata": {},
     "output_type": "execute_result"
    }
   ],
   "source": [
    "\"\"\"\n",
    "# new cases\n",
    "    elif (data_row['METER_MATCH_UTILITY'] == warehouse_utility_importation_demand)  and  (data_row['METER_MATCH_STATUS']=='Installed') and (data_row['IMSI_MATCHED_UTILITY']== warehouse_utility_importation_demand) and (data_row['IMSI_MATCHED_STATUS'] == 'Installed'):\n",
    "        return 'BOTH INSTALLED IN SAME UTILITY'\n",
    "    \n",
    "    elif (data_row['METER_SIM'] == False) and (data_row['METER_ORG']  == False) and (data_row[\"SIM_ORG\"] == False) and (data_row['METER_IP'] == False) and data_row['METER_MATCH_STATUS']=='Installed' :\n",
    "        return \"METER IS IN INSTALLED STAGE\"\n",
    "    \n",
    "    elif (data_row['METER_SIM'] == False) and (data_row['METER_ORG']  == False) and (data_row[\"SIM_ORG\"] == False) and (data_row['METER_IP'] == False) and  data_row['IMSI_MATCHED_STATUS']=='Installed' :\n",
    "        return \"IMSI IS IN INSTALLED STAGE\"\n",
    "    \n",
    "    elif (data_row['METER_SIM'] == True) and (data_row['METER_ORG']  == False) and (data_row[\"SIM_ORG\"] == False) and (data_row['METER_IP'] == False) and data_row['METER_MATCH_STATUS']=='Installed' :\n",
    "        return \"METER IS IN INSTALLED STAGE\"\n",
    "    \n",
    "    elif (data_row['METER_SIM'] == True) and (data_row['METER_ORG']  == False) and (data_row[\"SIM_ORG\"] == False) and (data_row['METER_IP'] == False) and  data_row['IMSI_MATCHED_STATUS']=='Installed' :\n",
    "        return \"IMSI IS IN INSTALLED STAGE\"\n",
    "    \n",
    "    elif (data_row['METER_SIM'] == True) and (data_row['METER_ORG']  == True) and (data_row[\"SIM_ORG\"] == False) and (data_row['METER_IP'] == False) and data_row['METER_MATCH_STATUS']=='Installed' :\n",
    "        return \"METER IS IN INSTALLED STAGE\"\n",
    "    \n",
    "    elif (data_row['METER_SIM'] == True) and (data_row['METER_ORG']  == True) and (data_row[\"SIM_ORG\"] == False) and (data_row['METER_IP'] == False) and  data_row['IMSI_MATCHED_STATUS']=='Installed' :\n",
    "        return \"IMSI IS IN INSTALLED STAGE\"\n",
    "    \n",
    "    elif (data_row['METER_SIM'] == True) and (data_row['METER_ORG']  == True) and (data_row[\"SIM_ORG\"] == True) and (data_row['METER_IP'] == False) and data_row['METER_MATCH_STATUS']=='Installed' :\n",
    "        return \"METER IS IN INSTALLED STAGE\"\n",
    "    \n",
    "    elif (data_row['METER_SIM'] == True) and (data_row['METER_ORG']  == True) and (data_row[\"SIM_ORG\"] == True) and (data_row['METER_IP'] == False) and  data_row['IMSI_MATCHED_STATUS']=='Installed' :\n",
    "        return \"IMSI IS IN INSTALLED STAGE\"\n",
    "\n",
    "    elif (data_row['METER_SIM'] == False) and (data_row['METER_ORG']  == True) and (data_row[\"SIM_ORG\"] == True) and (data_row['METER_IP'] == True) and data_row['METER_MATCH_STATUS']=='Installed' :\n",
    "        return \"METER IS IN INSTALLED STAGE\"\n",
    "    \n",
    "    elif (data_row['METER_SIM'] == False) and (data_row['METER_ORG']  == True) and (data_row[\"SIM_ORG\"] == True) and (data_row['METER_IP'] == True) and  data_row['IMSI_MATCHED_STATUS']=='Installed' :\n",
    "        return \"IMSI IS IN INSTALLED STAGE\"\n",
    "\"\"\""
   ]
  },
  {
   "cell_type": "code",
   "execution_count": 89,
   "metadata": {},
   "outputs": [],
   "source": [
    "warehouse_meter_imsi_data.to_csv(r\"C:\\Users\\Ratan Kumar Jha\\Desktop\\METER_IMPORTATION_FOLDER\\OUTPUT_DATA_FILE\\warehouse_meter_imsi_data.csv\",index=False)"
   ]
  },
  {
   "cell_type": "code",
   "execution_count": 90,
   "metadata": {},
   "outputs": [
    {
     "data": {
      "text/html": [
       "<div>\n",
       "<style scoped>\n",
       "    .dataframe tbody tr th:only-of-type {\n",
       "        vertical-align: middle;\n",
       "    }\n",
       "\n",
       "    .dataframe tbody tr th {\n",
       "        vertical-align: top;\n",
       "    }\n",
       "\n",
       "    .dataframe thead th {\n",
       "        text-align: right;\n",
       "    }\n",
       "</style>\n",
       "<table border=\"1\" class=\"dataframe\">\n",
       "  <thead>\n",
       "    <tr style=\"text-align: right;\">\n",
       "      <th></th>\n",
       "      <th>SL NO</th>\n",
       "      <th>METER NO.</th>\n",
       "      <th>PHASE</th>\n",
       "      <th>WAREHOUSE_UTILITY</th>\n",
       "      <th>WAREHOUSE_STATUS</th>\n",
       "      <th>MAKE</th>\n",
       "      <th>IME</th>\n",
       "      <th>FINAL SIM</th>\n",
       "      <th>IMSI</th>\n",
       "      <th>IP</th>\n",
       "      <th>MFG_SERIAL_NUM</th>\n",
       "      <th>METER_MATCH_UDC_ID</th>\n",
       "      <th>METER_MATCH_IP</th>\n",
       "      <th>INSTALLATIONNUMBER</th>\n",
       "      <th>METER_MATCH_STATUS</th>\n",
       "      <th>METER_MATCH_UTILITY</th>\n",
       "      <th>IMSI_MATCHED_METER_NO</th>\n",
       "      <th>IMSI_MATCHED_IP</th>\n",
       "      <th>IMSI_MATCHED_STATUS</th>\n",
       "      <th>IMSI_MATCHED_UTILITY</th>\n",
       "      <th>IP_MATCHED_METER_NO</th>\n",
       "      <th>IP_MATCH_UDC_ID</th>\n",
       "      <th>IP_MATCHED_IP</th>\n",
       "      <th>IP_MATCHED_STATUS</th>\n",
       "      <th>IP_MATCHED_UTILITY</th>\n",
       "      <th>SIM SET CHECK STATUS</th>\n",
       "      <th>METER_SIM</th>\n",
       "      <th>METER_ORG</th>\n",
       "      <th>SIM_ORG</th>\n",
       "      <th>METER_IP</th>\n",
       "      <th>SIM SET CHECK STATUS RECHECK</th>\n",
       "      <th>ACTION TAKEN</th>\n",
       "    </tr>\n",
       "  </thead>\n",
       "  <tbody>\n",
       "    <tr>\n",
       "      <th>0</th>\n",
       "      <td>1</td>\n",
       "      <td>LT0164550</td>\n",
       "      <td>1 Phase</td>\n",
       "      <td>SBPDCL</td>\n",
       "      <td>S2S repaired</td>\n",
       "      <td>L&amp;T</td>\n",
       "      <td>861190055985524</td>\n",
       "      <td>8991856050706095561</td>\n",
       "      <td>405856706095561</td>\n",
       "      <td>2405:0203:0522:9F13:0000:0000:0000:0010</td>\n",
       "      <td>LT0164550</td>\n",
       "      <td>405856706095561</td>\n",
       "      <td>2405:0203:0522:9F13:0000:0000:0000:0010</td>\n",
       "      <td>5002548022</td>\n",
       "      <td>Retired</td>\n",
       "      <td>SBPDCL</td>\n",
       "      <td>LT0164550</td>\n",
       "      <td>2405:0203:0522:9F13:0000:0000:0000:0010</td>\n",
       "      <td>Retired</td>\n",
       "      <td>SBPDCL</td>\n",
       "      <td>LT0164550</td>\n",
       "      <td>405856706095561</td>\n",
       "      <td>2405:0203:0522:9F13:0000:0000:0000:0010</td>\n",
       "      <td>Retired</td>\n",
       "      <td>SBPDCL</td>\n",
       "      <td>SAME SET IN SAME UTILITY</td>\n",
       "      <td>True</td>\n",
       "      <td>True</td>\n",
       "      <td>True</td>\n",
       "      <td>True</td>\n",
       "      <td>SAME SET IN SAME UTILITY</td>\n",
       "      <td>METER-SIM LINK FILE REQUIRED</td>\n",
       "    </tr>\n",
       "  </tbody>\n",
       "</table>\n",
       "</div>"
      ],
      "text/plain": [
       "  SL NO  METER NO.    PHASE WAREHOUSE_UTILITY WAREHOUSE_STATUS MAKE  \\\n",
       "0     1  LT0164550  1 Phase            SBPDCL     S2S repaired  L&T   \n",
       "\n",
       "               IME            FINAL SIM             IMSI  \\\n",
       "0  861190055985524  8991856050706095561  405856706095561   \n",
       "\n",
       "                                        IP MFG_SERIAL_NUM METER_MATCH_UDC_ID  \\\n",
       "0  2405:0203:0522:9F13:0000:0000:0000:0010      LT0164550    405856706095561   \n",
       "\n",
       "                            METER_MATCH_IP INSTALLATIONNUMBER  \\\n",
       "0  2405:0203:0522:9F13:0000:0000:0000:0010         5002548022   \n",
       "\n",
       "  METER_MATCH_STATUS METER_MATCH_UTILITY IMSI_MATCHED_METER_NO  \\\n",
       "0            Retired              SBPDCL             LT0164550   \n",
       "\n",
       "                           IMSI_MATCHED_IP IMSI_MATCHED_STATUS  \\\n",
       "0  2405:0203:0522:9F13:0000:0000:0000:0010             Retired   \n",
       "\n",
       "  IMSI_MATCHED_UTILITY IP_MATCHED_METER_NO  IP_MATCH_UDC_ID  \\\n",
       "0               SBPDCL           LT0164550  405856706095561   \n",
       "\n",
       "                             IP_MATCHED_IP IP_MATCHED_STATUS  \\\n",
       "0  2405:0203:0522:9F13:0000:0000:0000:0010           Retired   \n",
       "\n",
       "  IP_MATCHED_UTILITY      SIM SET CHECK STATUS  METER_SIM  METER_ORG  SIM_ORG  \\\n",
       "0             SBPDCL  SAME SET IN SAME UTILITY       True       True     True   \n",
       "\n",
       "   METER_IP SIM SET CHECK STATUS RECHECK                  ACTION TAKEN  \n",
       "0      True     SAME SET IN SAME UTILITY  METER-SIM LINK FILE REQUIRED  "
      ]
     },
     "execution_count": 90,
     "metadata": {},
     "output_type": "execute_result"
    }
   ],
   "source": [
    "warehouse_meter_imsi_data.head(1)"
   ]
  },
  {
   "cell_type": "code",
   "execution_count": null,
   "metadata": {},
   "outputs": [],
   "source": []
  },
  {
   "cell_type": "markdown",
   "metadata": {},
   "source": [
    "# user option"
   ]
  },
  {
   "cell_type": "code",
   "execution_count": 91,
   "metadata": {},
   "outputs": [
    {
     "data": {
      "text/plain": [
       "array(['METER-SIM LINK FILE REQUIRED',\n",
       "       'SIM AND METER-SIM LINK FILE REQUIRED',\n",
       "       'SET IS IN INSTALLED STAGE', 'IMSI IS IN INSTALLED STAGE',\n",
       "       'METER IS IN INSTALLED STAGE', 'BOTH INSTALLED IN SAME UTILITY',\n",
       "       ' NEED TO CHECK THIS FILE'], dtype=object)"
      ]
     },
     "execution_count": 91,
     "metadata": {},
     "output_type": "execute_result"
    }
   ],
   "source": [
    "warehouse_meter_imsi_data['ACTION TAKEN'].unique()"
   ]
  },
  {
   "cell_type": "code",
   "execution_count": 92,
   "metadata": {},
   "outputs": [],
   "source": [
    "# SEPRATE IMSI,METER,SET INSTALLED  AND OTHER ACTION TAKEN\n",
    "\n",
    "warehouse_meter_imsi_set_installed_Stage = warehouse_meter_imsi_data[(warehouse_meter_imsi_data['ACTION TAKEN'] == \"METER IS IN INSTALLED STAGE\") | \n",
    "                           (warehouse_meter_imsi_data['ACTION TAKEN'] == \"IMSI IS IN INSTALLED STAGE\") |\n",
    "                           (warehouse_meter_imsi_data['ACTION TAKEN'] == \"SET IS IN INSTALLED STAGE\") | \n",
    "                           (warehouse_meter_imsi_data['ACTION TAKEN'] == \"BOTH INSTALLED IN SAME UTILITY\")]\n",
    "\n",
    "warehouse_meter_imsi_other_Action_taken = warehouse_meter_imsi_data[(warehouse_meter_imsi_data['ACTION TAKEN']== \"SIM AND METER-SIM LINK FILE REQUIRED\") |\n",
    "                                                                    (warehouse_meter_imsi_data['ACTION TAKEN']==\"METER-SIM LINK FILE REQUIRED\") |\n",
    "                                                                    (warehouse_meter_imsi_data['ACTION TAKEN']==\"METER , SIM AND METER-SIM LINK FILE REQUIRED\")]"
   ]
  },
  {
   "cell_type": "code",
   "execution_count": 93,
   "metadata": {},
   "outputs": [],
   "source": [
    "# FOR NBPDCL\n",
    "\n",
    "def fun_meter_sim_set_installed_Stage(row):\n",
    "    if (row['METER_MATCH_UTILITY'] == 'NBPDCL')  and  (row['METER_MATCH_STATUS']=='Installed') and (row['IMSI_MATCHED_UTILITY']== 'NBPDCL') and (row['IMSI_MATCHED_STATUS'] == 'Installed'):\n",
    "        return 'BOTH INSTALLED IN SAME UTILITY'\n",
    "    elif (row['METER_MATCH_UTILITY'] == 'NBPDCL')  and  (row['METER_MATCH_STATUS']=='Installed') and (row['IMSI_MATCHED_UTILITY']== 'NBPDCL') and (row['IMSI_MATCHED_STATUS'] != 'Installed'):\n",
    "        return 'METER IS IN INSTALLED STAGE'\n",
    "    elif (row['METER_MATCH_UTILITY'] == 'NBPDCL')  and  (row['METER_MATCH_STATUS'] !='Installed') and (row['IMSI_MATCHED_UTILITY']== 'NBPDCL') and (row['IMSI_MATCHED_STATUS'] == 'Installed'):\n",
    "        return 'IMSI IS IN INSTALLED STAGE'\n",
    "    elif (row['METER_MATCH_UTILITY'] == 'NBPDCL')  and  (row['METER_MATCH_STATUS'] =='Installed') and (row['IMSI_MATCHED_UTILITY']== 'nan') and (row['IMSI_MATCHED_STATUS'] == 'nan'):\n",
    "        return 'METER IS IN INSTALLED STAGE'\n",
    "    \n",
    "    #  another cases\n",
    "    \n",
    "    elif (row['METER_MATCH_UTILITY'] == 'NBPDCL')  and  (row['METER_MATCH_STATUS'] !='Installed') and (row['IMSI_MATCHED_UTILITY']== 'SBPDCL') and (row['IMSI_MATCHED_STATUS'] == 'Installed'):\n",
    "        return 'SIM AND METER-SIM LINK FILE REQUIRED'\n",
    "    elif (row['METER_MATCH_UTILITY'] == 'NBPDCL')  and  (row['METER_MATCH_STATUS'] !='Installed') and (row['IMSI_MATCHED_UTILITY']== 'SBPDCL') and (row['IMSI_MATCHED_STATUS']=='nan'):\n",
    "        return 'SIM AND METER-SIM LINK FILE REQUIRED'\n",
    "    \n",
    "    elif (row['METER_MATCH_UTILITY'] == 'SBPDCL')  and  (row['METER_MATCH_STATUS'] =='Installed') and (row['IMSI_MATCHED_UTILITY']== 'SBPDCL') and (row['IMSI_MATCHED_STATUS'] == 'Installed'):\n",
    "        return 'METER , SIM AND METER-SIM LINK FILE REQUIRED'\n",
    "    elif (row['METER_MATCH_UTILITY'] == 'SBPDCL')  and  (row['METER_MATCH_STATUS'] !='Installed') and (row['IMSI_MATCHED_UTILITY']== 'SBPDCL') and (row['IMSI_MATCHED_STATUS'] == 'Installed'):\n",
    "        return 'METER , SIM AND METER-SIM LINK FILE REQUIRED'\n",
    "  \n",
    "    "
   ]
  },
  {
   "cell_type": "code",
   "execution_count": 94,
   "metadata": {},
   "outputs": [
    {
     "name": "stdout",
     "output_type": "stream",
     "text": [
      "meter is new , new imsi - code flow is same as before no interuption\n"
     ]
    }
   ],
   "source": [
    "\n",
    "if warehouse_utility_importation_demand == \"1\":\n",
    "      \n",
    "    warehouse_meter_imsi_set_installed_Stage.drop(['ACTION TAKEN'], axis=1)    \n",
    "    warehouse_meter_imsi_set_installed_Stage['ACTION TAKEN'] =  warehouse_meter_imsi_set_installed_Stage.apply(fun_meter_sim_set_installed_Stage, axis=1)\n",
    "\n",
    "    warehouse_meter_imsi_set_installed_Stage.to_csv(r\"C:\\Users\\Ratan Kumar Jha\\Desktop\\METER_IMPORTATION_FOLDER\\OUTPUT_DATA_FILE\\warehouse_meter_imsi_set_installed_Stage.csv\",index=False)\n",
    "\n",
    "    #concat\n",
    "    warehouse_meter_imsi_data=pd.concat([warehouse_meter_imsi_other_Action_taken, warehouse_meter_imsi_set_installed_Stage], ignore_index=True)\n",
    "    warehouse_meter_imsi_data.to_csv(r\"C:\\Users\\Ratan Kumar Jha\\Desktop\\METER_IMPORTATION_FOLDER\\OUTPUT_DATA_FILE\\warehouse_meter_imsi_data.csv\",index=False)\n",
    "\n",
    "    \n",
    "elif warehouse_utility_importation_demand == \"2\":\n",
    "    print(\" working on SBPDCL data\")\n",
    "elif warehouse_utility_importation_demand == \"3\":\n",
    "    print(\"meter is new , new imsi - code flow is same as before no interuption\")\n",
    "else:\n",
    "    print(\"plz chose correct option\")\n"
   ]
  },
  {
   "cell_type": "code",
   "execution_count": 95,
   "metadata": {},
   "outputs": [
    {
     "data": {
      "text/plain": [
       "Index(['SL NO', 'METER NO.', 'PHASE', 'WAREHOUSE_UTILITY', 'WAREHOUSE_STATUS',\n",
       "       'MAKE', 'IME', 'FINAL SIM', 'IMSI', 'IP', 'MFG_SERIAL_NUM',\n",
       "       'METER_MATCH_UDC_ID', 'METER_MATCH_IP', 'INSTALLATIONNUMBER',\n",
       "       'METER_MATCH_STATUS', 'METER_MATCH_UTILITY', 'IMSI_MATCHED_METER_NO',\n",
       "       'IMSI_MATCHED_IP', 'IMSI_MATCHED_STATUS', 'IMSI_MATCHED_UTILITY',\n",
       "       'IP_MATCHED_METER_NO', 'IP_MATCH_UDC_ID', 'IP_MATCHED_IP',\n",
       "       'IP_MATCHED_STATUS', 'IP_MATCHED_UTILITY', 'SIM SET CHECK STATUS',\n",
       "       'METER_SIM', 'METER_ORG', 'SIM_ORG', 'METER_IP',\n",
       "       'SIM SET CHECK STATUS RECHECK', 'ACTION TAKEN'],\n",
       "      dtype='object')"
      ]
     },
     "execution_count": 95,
     "metadata": {},
     "output_type": "execute_result"
    }
   ],
   "source": [
    "warehouse_meter_imsi_set_installed_Stage.columns"
   ]
  },
  {
   "cell_type": "code",
   "execution_count": null,
   "metadata": {},
   "outputs": [],
   "source": []
  },
  {
   "cell_type": "code",
   "execution_count": 96,
   "metadata": {},
   "outputs": [
    {
     "data": {
      "text/plain": [
       "SL NO                           1183\n",
       "METER NO.                       1183\n",
       "PHASE                           1183\n",
       "WAREHOUSE_UTILITY               1183\n",
       "WAREHOUSE_STATUS                1183\n",
       "MAKE                            1183\n",
       "IME                             1183\n",
       "FINAL SIM                       1183\n",
       "IMSI                            1183\n",
       "IP                              1183\n",
       "MFG_SERIAL_NUM                  1183\n",
       "METER_MATCH_UDC_ID              1183\n",
       "METER_MATCH_IP                  1183\n",
       "INSTALLATIONNUMBER              1183\n",
       "METER_MATCH_STATUS              1183\n",
       "METER_MATCH_UTILITY             1183\n",
       "IMSI_MATCHED_METER_NO           1183\n",
       "IMSI_MATCHED_IP                 1183\n",
       "IMSI_MATCHED_STATUS             1183\n",
       "IMSI_MATCHED_UTILITY            1183\n",
       "IP_MATCHED_METER_NO             1183\n",
       "IP_MATCH_UDC_ID                 1183\n",
       "IP_MATCHED_IP                   1183\n",
       "IP_MATCHED_STATUS               1183\n",
       "IP_MATCHED_UTILITY              1183\n",
       "SIM SET CHECK STATUS            1183\n",
       "METER_SIM                       1183\n",
       "METER_ORG                       1183\n",
       "SIM_ORG                         1183\n",
       "METER_IP                        1183\n",
       "SIM SET CHECK STATUS RECHECK    1183\n",
       "ACTION TAKEN                    1183\n",
       "dtype: int64"
      ]
     },
     "execution_count": 96,
     "metadata": {},
     "output_type": "execute_result"
    }
   ],
   "source": [
    "warehouse_meter_imsi_data[warehouse_meter_imsi_data['IMSI_MATCHED_METER_NO']!='nan'].count()"
   ]
  },
  {
   "cell_type": "code",
   "execution_count": 97,
   "metadata": {},
   "outputs": [
    {
     "data": {
      "text/html": [
       "<div>\n",
       "<style scoped>\n",
       "    .dataframe tbody tr th:only-of-type {\n",
       "        vertical-align: middle;\n",
       "    }\n",
       "\n",
       "    .dataframe tbody tr th {\n",
       "        vertical-align: top;\n",
       "    }\n",
       "\n",
       "    .dataframe thead th {\n",
       "        text-align: right;\n",
       "    }\n",
       "</style>\n",
       "<table border=\"1\" class=\"dataframe\">\n",
       "  <thead>\n",
       "    <tr style=\"text-align: right;\">\n",
       "      <th></th>\n",
       "      <th>SL NO</th>\n",
       "      <th>METER NO.</th>\n",
       "      <th>PHASE</th>\n",
       "      <th>WAREHOUSE_UTILITY</th>\n",
       "      <th>WAREHOUSE_STATUS</th>\n",
       "      <th>MAKE</th>\n",
       "      <th>IME</th>\n",
       "      <th>FINAL SIM</th>\n",
       "      <th>IMSI</th>\n",
       "      <th>IP</th>\n",
       "      <th>MFG_SERIAL_NUM</th>\n",
       "      <th>METER_MATCH_UDC_ID</th>\n",
       "      <th>METER_MATCH_IP</th>\n",
       "      <th>INSTALLATIONNUMBER</th>\n",
       "      <th>METER_MATCH_STATUS</th>\n",
       "      <th>METER_MATCH_UTILITY</th>\n",
       "      <th>IMSI_MATCHED_METER_NO</th>\n",
       "      <th>IMSI_MATCHED_IP</th>\n",
       "      <th>IMSI_MATCHED_STATUS</th>\n",
       "      <th>IMSI_MATCHED_UTILITY</th>\n",
       "      <th>IP_MATCHED_METER_NO</th>\n",
       "      <th>IP_MATCH_UDC_ID</th>\n",
       "      <th>IP_MATCHED_IP</th>\n",
       "      <th>IP_MATCHED_STATUS</th>\n",
       "      <th>IP_MATCHED_UTILITY</th>\n",
       "      <th>SIM SET CHECK STATUS</th>\n",
       "      <th>METER_SIM</th>\n",
       "      <th>METER_ORG</th>\n",
       "      <th>SIM_ORG</th>\n",
       "      <th>METER_IP</th>\n",
       "      <th>SIM SET CHECK STATUS RECHECK</th>\n",
       "      <th>ACTION TAKEN</th>\n",
       "    </tr>\n",
       "  </thead>\n",
       "  <tbody>\n",
       "    <tr>\n",
       "      <th>0</th>\n",
       "      <td>1</td>\n",
       "      <td>LT0164550</td>\n",
       "      <td>1 Phase</td>\n",
       "      <td>SBPDCL</td>\n",
       "      <td>S2S repaired</td>\n",
       "      <td>L&amp;T</td>\n",
       "      <td>861190055985524</td>\n",
       "      <td>8991856050706095561</td>\n",
       "      <td>405856706095561</td>\n",
       "      <td>2405:0203:0522:9F13:0000:0000:0000:0010</td>\n",
       "      <td>LT0164550</td>\n",
       "      <td>405856706095561</td>\n",
       "      <td>2405:0203:0522:9F13:0000:0000:0000:0010</td>\n",
       "      <td>5002548022</td>\n",
       "      <td>Retired</td>\n",
       "      <td>SBPDCL</td>\n",
       "      <td>LT0164550</td>\n",
       "      <td>2405:0203:0522:9F13:0000:0000:0000:0010</td>\n",
       "      <td>Retired</td>\n",
       "      <td>SBPDCL</td>\n",
       "      <td>LT0164550</td>\n",
       "      <td>405856706095561</td>\n",
       "      <td>2405:0203:0522:9F13:0000:0000:0000:0010</td>\n",
       "      <td>Retired</td>\n",
       "      <td>SBPDCL</td>\n",
       "      <td>SAME SET IN SAME UTILITY</td>\n",
       "      <td>True</td>\n",
       "      <td>True</td>\n",
       "      <td>True</td>\n",
       "      <td>True</td>\n",
       "      <td>SAME SET IN SAME UTILITY</td>\n",
       "      <td>METER-SIM LINK FILE REQUIRED</td>\n",
       "    </tr>\n",
       "    <tr>\n",
       "      <th>1</th>\n",
       "      <td>2</td>\n",
       "      <td>LT0364314</td>\n",
       "      <td>1 Phase</td>\n",
       "      <td>NBPDCL</td>\n",
       "      <td>S2S repaired</td>\n",
       "      <td>L&amp;T</td>\n",
       "      <td>861996077248679</td>\n",
       "      <td>8991856050706402335</td>\n",
       "      <td>405856706402335</td>\n",
       "      <td>2405:0203:0525:C6A1:0000:0000:0000:0010</td>\n",
       "      <td>LT0364314</td>\n",
       "      <td>405856706402335</td>\n",
       "      <td>2405:0203:0525:C6A1:0000:0000:0000:0010</td>\n",
       "      <td>5002884613</td>\n",
       "      <td>Retired</td>\n",
       "      <td>NBPDCL</td>\n",
       "      <td>LT0364314</td>\n",
       "      <td>2405:0203:0525:C6A1:0000:0000:0000:0010</td>\n",
       "      <td>Retired</td>\n",
       "      <td>NBPDCL</td>\n",
       "      <td>LT0364314</td>\n",
       "      <td>405856706402335</td>\n",
       "      <td>2405:0203:0525:C6A1:0000:0000:0000:0010</td>\n",
       "      <td>Retired</td>\n",
       "      <td>NBPDCL</td>\n",
       "      <td>SAME SET IN SAME UTILITY</td>\n",
       "      <td>True</td>\n",
       "      <td>True</td>\n",
       "      <td>True</td>\n",
       "      <td>True</td>\n",
       "      <td>SAME SET IN SAME UTILITY</td>\n",
       "      <td>METER-SIM LINK FILE REQUIRED</td>\n",
       "    </tr>\n",
       "  </tbody>\n",
       "</table>\n",
       "</div>"
      ],
      "text/plain": [
       "  SL NO  METER NO.    PHASE WAREHOUSE_UTILITY WAREHOUSE_STATUS MAKE  \\\n",
       "0     1  LT0164550  1 Phase            SBPDCL     S2S repaired  L&T   \n",
       "1     2  LT0364314  1 Phase            NBPDCL     S2S repaired  L&T   \n",
       "\n",
       "               IME            FINAL SIM             IMSI  \\\n",
       "0  861190055985524  8991856050706095561  405856706095561   \n",
       "1  861996077248679  8991856050706402335  405856706402335   \n",
       "\n",
       "                                        IP MFG_SERIAL_NUM METER_MATCH_UDC_ID  \\\n",
       "0  2405:0203:0522:9F13:0000:0000:0000:0010      LT0164550    405856706095561   \n",
       "1  2405:0203:0525:C6A1:0000:0000:0000:0010      LT0364314    405856706402335   \n",
       "\n",
       "                            METER_MATCH_IP INSTALLATIONNUMBER  \\\n",
       "0  2405:0203:0522:9F13:0000:0000:0000:0010         5002548022   \n",
       "1  2405:0203:0525:C6A1:0000:0000:0000:0010         5002884613   \n",
       "\n",
       "  METER_MATCH_STATUS METER_MATCH_UTILITY IMSI_MATCHED_METER_NO  \\\n",
       "0            Retired              SBPDCL             LT0164550   \n",
       "1            Retired              NBPDCL             LT0364314   \n",
       "\n",
       "                           IMSI_MATCHED_IP IMSI_MATCHED_STATUS  \\\n",
       "0  2405:0203:0522:9F13:0000:0000:0000:0010             Retired   \n",
       "1  2405:0203:0525:C6A1:0000:0000:0000:0010             Retired   \n",
       "\n",
       "  IMSI_MATCHED_UTILITY IP_MATCHED_METER_NO  IP_MATCH_UDC_ID  \\\n",
       "0               SBPDCL           LT0164550  405856706095561   \n",
       "1               NBPDCL           LT0364314  405856706402335   \n",
       "\n",
       "                             IP_MATCHED_IP IP_MATCHED_STATUS  \\\n",
       "0  2405:0203:0522:9F13:0000:0000:0000:0010           Retired   \n",
       "1  2405:0203:0525:C6A1:0000:0000:0000:0010           Retired   \n",
       "\n",
       "  IP_MATCHED_UTILITY      SIM SET CHECK STATUS  METER_SIM  METER_ORG  SIM_ORG  \\\n",
       "0             SBPDCL  SAME SET IN SAME UTILITY       True       True     True   \n",
       "1             NBPDCL  SAME SET IN SAME UTILITY       True       True     True   \n",
       "\n",
       "   METER_IP SIM SET CHECK STATUS RECHECK                  ACTION TAKEN  \n",
       "0      True     SAME SET IN SAME UTILITY  METER-SIM LINK FILE REQUIRED  \n",
       "1      True     SAME SET IN SAME UTILITY  METER-SIM LINK FILE REQUIRED  "
      ]
     },
     "execution_count": 97,
     "metadata": {},
     "output_type": "execute_result"
    }
   ],
   "source": [
    "warehouse_meter_imsi_data.head(2)"
   ]
  },
  {
   "cell_type": "markdown",
   "metadata": {},
   "source": [
    "# Finally done"
   ]
  },
  {
   "cell_type": "code",
   "execution_count": 98,
   "metadata": {},
   "outputs": [
    {
     "data": {
      "text/html": [
       "<div>\n",
       "<style scoped>\n",
       "    .dataframe tbody tr th:only-of-type {\n",
       "        vertical-align: middle;\n",
       "    }\n",
       "\n",
       "    .dataframe tbody tr th {\n",
       "        vertical-align: top;\n",
       "    }\n",
       "\n",
       "    .dataframe thead th {\n",
       "        text-align: right;\n",
       "    }\n",
       "</style>\n",
       "<table border=\"1\" class=\"dataframe\">\n",
       "  <thead>\n",
       "    <tr style=\"text-align: right;\">\n",
       "      <th></th>\n",
       "      <th>SL NO</th>\n",
       "      <th>METER NO.</th>\n",
       "      <th>PHASE</th>\n",
       "      <th>WAREHOUSE_UTILITY</th>\n",
       "      <th>WAREHOUSE_STATUS</th>\n",
       "      <th>MAKE</th>\n",
       "      <th>IME</th>\n",
       "      <th>FINAL SIM</th>\n",
       "      <th>IMSI</th>\n",
       "      <th>IP</th>\n",
       "      <th>MFG_SERIAL_NUM</th>\n",
       "      <th>METER_MATCH_UDC_ID</th>\n",
       "      <th>METER_MATCH_IP</th>\n",
       "      <th>INSTALLATIONNUMBER</th>\n",
       "      <th>METER_MATCH_STATUS</th>\n",
       "      <th>METER_MATCH_UTILITY</th>\n",
       "      <th>IMSI_MATCHED_METER_NO</th>\n",
       "      <th>IMSI_MATCHED_IP</th>\n",
       "      <th>IMSI_MATCHED_STATUS</th>\n",
       "      <th>IMSI_MATCHED_UTILITY</th>\n",
       "      <th>IP_MATCHED_METER_NO</th>\n",
       "      <th>IP_MATCH_UDC_ID</th>\n",
       "      <th>IP_MATCHED_IP</th>\n",
       "      <th>IP_MATCHED_STATUS</th>\n",
       "      <th>IP_MATCHED_UTILITY</th>\n",
       "      <th>SIM SET CHECK STATUS</th>\n",
       "      <th>METER_SIM</th>\n",
       "      <th>METER_ORG</th>\n",
       "      <th>SIM_ORG</th>\n",
       "      <th>METER_IP</th>\n",
       "      <th>SIM SET CHECK STATUS RECHECK</th>\n",
       "      <th>ACTION TAKEN</th>\n",
       "    </tr>\n",
       "  </thead>\n",
       "  <tbody>\n",
       "    <tr>\n",
       "      <th>0</th>\n",
       "      <td>1</td>\n",
       "      <td>LT0164550</td>\n",
       "      <td>1 Phase</td>\n",
       "      <td>SBPDCL</td>\n",
       "      <td>S2S repaired</td>\n",
       "      <td>L&amp;T</td>\n",
       "      <td>861190055985524</td>\n",
       "      <td>8991856050706095561</td>\n",
       "      <td>405856706095561</td>\n",
       "      <td>2405:0203:0522:9F13:0000:0000:0000:0010</td>\n",
       "      <td>LT0164550</td>\n",
       "      <td>405856706095561</td>\n",
       "      <td>2405:0203:0522:9F13:0000:0000:0000:0010</td>\n",
       "      <td>5002548022</td>\n",
       "      <td>Retired</td>\n",
       "      <td>SBPDCL</td>\n",
       "      <td>LT0164550</td>\n",
       "      <td>2405:0203:0522:9F13:0000:0000:0000:0010</td>\n",
       "      <td>Retired</td>\n",
       "      <td>SBPDCL</td>\n",
       "      <td>LT0164550</td>\n",
       "      <td>405856706095561</td>\n",
       "      <td>2405:0203:0522:9F13:0000:0000:0000:0010</td>\n",
       "      <td>Retired</td>\n",
       "      <td>SBPDCL</td>\n",
       "      <td>SAME SET IN SAME UTILITY</td>\n",
       "      <td>True</td>\n",
       "      <td>True</td>\n",
       "      <td>True</td>\n",
       "      <td>True</td>\n",
       "      <td>SAME SET IN SAME UTILITY</td>\n",
       "      <td>METER-SIM LINK FILE REQUIRED</td>\n",
       "    </tr>\n",
       "  </tbody>\n",
       "</table>\n",
       "</div>"
      ],
      "text/plain": [
       "  SL NO  METER NO.    PHASE WAREHOUSE_UTILITY WAREHOUSE_STATUS MAKE  \\\n",
       "0     1  LT0164550  1 Phase            SBPDCL     S2S repaired  L&T   \n",
       "\n",
       "               IME            FINAL SIM             IMSI  \\\n",
       "0  861190055985524  8991856050706095561  405856706095561   \n",
       "\n",
       "                                        IP MFG_SERIAL_NUM METER_MATCH_UDC_ID  \\\n",
       "0  2405:0203:0522:9F13:0000:0000:0000:0010      LT0164550    405856706095561   \n",
       "\n",
       "                            METER_MATCH_IP INSTALLATIONNUMBER  \\\n",
       "0  2405:0203:0522:9F13:0000:0000:0000:0010         5002548022   \n",
       "\n",
       "  METER_MATCH_STATUS METER_MATCH_UTILITY IMSI_MATCHED_METER_NO  \\\n",
       "0            Retired              SBPDCL             LT0164550   \n",
       "\n",
       "                           IMSI_MATCHED_IP IMSI_MATCHED_STATUS  \\\n",
       "0  2405:0203:0522:9F13:0000:0000:0000:0010             Retired   \n",
       "\n",
       "  IMSI_MATCHED_UTILITY IP_MATCHED_METER_NO  IP_MATCH_UDC_ID  \\\n",
       "0               SBPDCL           LT0164550  405856706095561   \n",
       "\n",
       "                             IP_MATCHED_IP IP_MATCHED_STATUS  \\\n",
       "0  2405:0203:0522:9F13:0000:0000:0000:0010           Retired   \n",
       "\n",
       "  IP_MATCHED_UTILITY      SIM SET CHECK STATUS  METER_SIM  METER_ORG  SIM_ORG  \\\n",
       "0             SBPDCL  SAME SET IN SAME UTILITY       True       True     True   \n",
       "\n",
       "   METER_IP SIM SET CHECK STATUS RECHECK                  ACTION TAKEN  \n",
       "0      True     SAME SET IN SAME UTILITY  METER-SIM LINK FILE REQUIRED  "
      ]
     },
     "execution_count": 98,
     "metadata": {},
     "output_type": "execute_result"
    }
   ],
   "source": [
    "warehouse_meter_imsi_data.head(1)"
   ]
  },
  {
   "cell_type": "code",
   "execution_count": 99,
   "metadata": {},
   "outputs": [],
   "source": [
    "\n",
    "# Custom function to update meter numbers\n",
    "def update_meter_number(meter_number):\n",
    "    if meter_number.startswith('GP') or meter_number.startswith('GL'):\n",
    "        return 'GOE' + meter_number\n",
    "    elif meter_number.startswith('LT'):\n",
    "        return 'LNT' + meter_number\n",
    "    else:\n",
    "        return meter_number\n",
    "\n",
    "# Apply the custom function to each element in the 'METER NO.' column\n",
    "warehouse_meter_imsi_data['NEW_METER_NUMBER'] = warehouse_meter_imsi_data['METER NO.'].apply(update_meter_number)\n",
    "\n",
    "\n"
   ]
  },
  {
   "cell_type": "code",
   "execution_count": 100,
   "metadata": {},
   "outputs": [],
   "source": [
    "# adding duplicate and unique in data set \n",
    "\n",
    "warehouse_meter_imsi_data['Duplicated'] = warehouse_meter_imsi_data.duplicated(subset=['METER NO.']).map({True: 'Duplicated', False: 'Unique'})"
   ]
  },
  {
   "cell_type": "code",
   "execution_count": null,
   "metadata": {},
   "outputs": [],
   "source": []
  },
  {
   "cell_type": "markdown",
   "metadata": {},
   "source": [
    "# FINAL FILE SAVE AT MULTIPLE LOCATION"
   ]
  },
  {
   "cell_type": "code",
   "execution_count": 101,
   "metadata": {},
   "outputs": [],
   "source": [
    "# Final file at desktop folder\n",
    "\n",
    "warehouse_meter_imsi_data.to_csv(r'C:\\Users\\Ratan Kumar Jha\\Desktop\\METER_IMPORTATION_FOLDER\\OUTPUT_DATA_FILE\\warehouse_Data_meter_sim_final.csv',index=False)\n",
    "\n",
    "\n",
    "# Final file in code folder\n",
    "\n",
    "warehouse_meter_imsi_data.to_csv(r\"C:\\PYTHON\\EDF_CODE_AUTOMATION_PYTHON\\METER_MATCHING_DATA\\warehouse_Data_meter_sim_final.csv\",index=False)"
   ]
  },
  {
   "cell_type": "code",
   "execution_count": 102,
   "metadata": {},
   "outputs": [],
   "source": [
    "warehouse_meter_imsi_data_check=pd.read_csv(r\"C:\\PYTHON\\EDF_CODE_AUTOMATION_PYTHON\\METER_MATCHING_DATA\\warehouse_Data_meter_sim_final.csv\")"
   ]
  },
  {
   "cell_type": "code",
   "execution_count": 103,
   "metadata": {},
   "outputs": [],
   "source": [
    "# Convert all columns to string data type\n",
    "\n",
    "# change into str\n",
    "warehouse_meter_imsi_data_check = warehouse_meter_imsi_data_check.astype(str)\n",
    "\n",
    "# ----------------------------------------------------------------------------------\n",
    "\n",
    "# change into upper\n",
    "warehouse_meter_imsi_data_check.columns = warehouse_meter_imsi_data_check.columns.str.upper()\n",
    "\n",
    "# ----------------------------------------------------------------------------------\n",
    "\n",
    "# Remove leading and trailing whitespaces from all columns where dtype is 'O'\n",
    "warehouse_meter_imsi_data_check = warehouse_meter_imsi_data_check.apply(lambda x: x.str.strip() if x.dtype == 'O' else x)"
   ]
  },
  {
   "cell_type": "code",
   "execution_count": null,
   "metadata": {},
   "outputs": [],
   "source": []
  },
  {
   "cell_type": "markdown",
   "metadata": {},
   "source": [
    "# NEED TO CHECK FILE"
   ]
  },
  {
   "cell_type": "code",
   "execution_count": 104,
   "metadata": {},
   "outputs": [],
   "source": [
    "NEED_TO_CHECK_FILE_WAREHOUSE_METER_SIM = warehouse_meter_imsi_data_check[warehouse_meter_imsi_data_check['ACTION TAKEN']==' NEED TO CHECK THIS FILE']"
   ]
  },
  {
   "cell_type": "code",
   "execution_count": 105,
   "metadata": {},
   "outputs": [],
   "source": [
    "NEED_TO_CHECK_FILE_WAREHOUSE_METER_SIM.to_csv(r\"C:\\PYTHON\\EDF_CODE_AUTOMATION_PYTHON\\METER_MATCHING_DATA\\NEED_TO_CHECK_THIS_FILE_WAREHOUSE_METER_SIM.csv\",index=False)\n",
    "NEED_TO_CHECK_FILE_WAREHOUSE_METER_SIM.to_csv(r'C:\\Users\\Ratan Kumar Jha\\Desktop\\METER_IMPORTATION_FOLDER\\OUTPUT_DATA_FILE\\NEED_TO_CHECK_THIS_FILE_WAREHOUSE_METER_SIM.csv',index=False)\n",
    "\n"
   ]
  },
  {
   "cell_type": "code",
   "execution_count": 106,
   "metadata": {},
   "outputs": [],
   "source": [
    "NEED_TO_CHECK_FILE_WAREHOUSE_METER_SIM_CSV = pd.read_csv(r\"C:\\PYTHON\\EDF_CODE_AUTOMATION_PYTHON\\METER_MATCHING_DATA\\NEED_TO_CHECK_THIS_FILE_WAREHOUSE_METER_SIM.csv\")"
   ]
  },
  {
   "cell_type": "code",
   "execution_count": 107,
   "metadata": {},
   "outputs": [
    {
     "data": {
      "text/html": [
       "<div>\n",
       "<style scoped>\n",
       "    .dataframe tbody tr th:only-of-type {\n",
       "        vertical-align: middle;\n",
       "    }\n",
       "\n",
       "    .dataframe tbody tr th {\n",
       "        vertical-align: top;\n",
       "    }\n",
       "\n",
       "    .dataframe thead th {\n",
       "        text-align: right;\n",
       "    }\n",
       "</style>\n",
       "<table border=\"1\" class=\"dataframe\">\n",
       "  <thead>\n",
       "    <tr style=\"text-align: right;\">\n",
       "      <th></th>\n",
       "      <th>SL NO</th>\n",
       "      <th>METER NO.</th>\n",
       "      <th>PHASE</th>\n",
       "      <th>WAREHOUSE_UTILITY</th>\n",
       "      <th>WAREHOUSE_STATUS</th>\n",
       "      <th>MAKE</th>\n",
       "      <th>IME</th>\n",
       "      <th>FINAL SIM</th>\n",
       "      <th>IMSI</th>\n",
       "      <th>IP</th>\n",
       "      <th>MFG_SERIAL_NUM</th>\n",
       "      <th>METER_MATCH_UDC_ID</th>\n",
       "      <th>METER_MATCH_IP</th>\n",
       "      <th>INSTALLATIONNUMBER</th>\n",
       "      <th>METER_MATCH_STATUS</th>\n",
       "      <th>METER_MATCH_UTILITY</th>\n",
       "      <th>IMSI_MATCHED_METER_NO</th>\n",
       "      <th>IMSI_MATCHED_IP</th>\n",
       "      <th>IMSI_MATCHED_STATUS</th>\n",
       "      <th>IMSI_MATCHED_UTILITY</th>\n",
       "      <th>IP_MATCHED_METER_NO</th>\n",
       "      <th>IP_MATCH_UDC_ID</th>\n",
       "      <th>IP_MATCHED_IP</th>\n",
       "      <th>IP_MATCHED_STATUS</th>\n",
       "      <th>IP_MATCHED_UTILITY</th>\n",
       "      <th>SIM SET CHECK STATUS</th>\n",
       "      <th>METER_SIM</th>\n",
       "      <th>METER_ORG</th>\n",
       "      <th>SIM_ORG</th>\n",
       "      <th>METER_IP</th>\n",
       "      <th>SIM SET CHECK STATUS RECHECK</th>\n",
       "      <th>ACTION TAKEN</th>\n",
       "      <th>NEW_METER_NUMBER</th>\n",
       "      <th>DUPLICATED</th>\n",
       "    </tr>\n",
       "  </thead>\n",
       "  <tbody>\n",
       "  </tbody>\n",
       "</table>\n",
       "</div>"
      ],
      "text/plain": [
       "Empty DataFrame\n",
       "Columns: [SL NO, METER NO., PHASE, WAREHOUSE_UTILITY, WAREHOUSE_STATUS, MAKE, IME, FINAL SIM, IMSI, IP, MFG_SERIAL_NUM, METER_MATCH_UDC_ID, METER_MATCH_IP, INSTALLATIONNUMBER, METER_MATCH_STATUS, METER_MATCH_UTILITY, IMSI_MATCHED_METER_NO, IMSI_MATCHED_IP, IMSI_MATCHED_STATUS, IMSI_MATCHED_UTILITY, IP_MATCHED_METER_NO, IP_MATCH_UDC_ID, IP_MATCHED_IP, IP_MATCHED_STATUS, IP_MATCHED_UTILITY, SIM SET CHECK STATUS, METER_SIM, METER_ORG, SIM_ORG, METER_IP, SIM SET CHECK STATUS RECHECK, ACTION TAKEN, NEW_METER_NUMBER, DUPLICATED]\n",
       "Index: []"
      ]
     },
     "execution_count": 107,
     "metadata": {},
     "output_type": "execute_result"
    }
   ],
   "source": [
    "NEED_TO_CHECK_FILE_WAREHOUSE_METER_SIM_CSV.head()"
   ]
  },
  {
   "cell_type": "code",
   "execution_count": null,
   "metadata": {},
   "outputs": [],
   "source": []
  },
  {
   "cell_type": "code",
   "execution_count": 108,
   "metadata": {},
   "outputs": [
    {
     "data": {
      "text/html": [
       "<div>\n",
       "<style scoped>\n",
       "    .dataframe tbody tr th:only-of-type {\n",
       "        vertical-align: middle;\n",
       "    }\n",
       "\n",
       "    .dataframe tbody tr th {\n",
       "        vertical-align: top;\n",
       "    }\n",
       "\n",
       "    .dataframe thead th {\n",
       "        text-align: right;\n",
       "    }\n",
       "</style>\n",
       "<table border=\"1\" class=\"dataframe\">\n",
       "  <thead>\n",
       "    <tr style=\"text-align: right;\">\n",
       "      <th></th>\n",
       "      <th>SL NO</th>\n",
       "      <th>METER NO.</th>\n",
       "      <th>PHASE</th>\n",
       "      <th>WAREHOUSE_UTILITY</th>\n",
       "      <th>WAREHOUSE_STATUS</th>\n",
       "      <th>MAKE</th>\n",
       "      <th>IME</th>\n",
       "      <th>FINAL SIM</th>\n",
       "      <th>IMSI</th>\n",
       "      <th>IP</th>\n",
       "      <th>MFG_SERIAL_NUM</th>\n",
       "      <th>METER_MATCH_UDC_ID</th>\n",
       "      <th>METER_MATCH_IP</th>\n",
       "      <th>INSTALLATIONNUMBER</th>\n",
       "      <th>METER_MATCH_STATUS</th>\n",
       "      <th>METER_MATCH_UTILITY</th>\n",
       "      <th>IMSI_MATCHED_METER_NO</th>\n",
       "      <th>IMSI_MATCHED_IP</th>\n",
       "      <th>IMSI_MATCHED_STATUS</th>\n",
       "      <th>IMSI_MATCHED_UTILITY</th>\n",
       "      <th>IP_MATCHED_METER_NO</th>\n",
       "      <th>IP_MATCH_UDC_ID</th>\n",
       "      <th>IP_MATCHED_IP</th>\n",
       "      <th>IP_MATCHED_STATUS</th>\n",
       "      <th>IP_MATCHED_UTILITY</th>\n",
       "      <th>SIM SET CHECK STATUS</th>\n",
       "      <th>METER_SIM</th>\n",
       "      <th>METER_ORG</th>\n",
       "      <th>SIM_ORG</th>\n",
       "      <th>METER_IP</th>\n",
       "      <th>SIM SET CHECK STATUS RECHECK</th>\n",
       "      <th>ACTION TAKEN</th>\n",
       "      <th>NEW_METER_NUMBER</th>\n",
       "      <th>DUPLICATED</th>\n",
       "    </tr>\n",
       "  </thead>\n",
       "  <tbody>\n",
       "  </tbody>\n",
       "</table>\n",
       "</div>"
      ],
      "text/plain": [
       "Empty DataFrame\n",
       "Columns: [SL NO, METER NO., PHASE, WAREHOUSE_UTILITY, WAREHOUSE_STATUS, MAKE, IME, FINAL SIM, IMSI, IP, MFG_SERIAL_NUM, METER_MATCH_UDC_ID, METER_MATCH_IP, INSTALLATIONNUMBER, METER_MATCH_STATUS, METER_MATCH_UTILITY, IMSI_MATCHED_METER_NO, IMSI_MATCHED_IP, IMSI_MATCHED_STATUS, IMSI_MATCHED_UTILITY, IP_MATCHED_METER_NO, IP_MATCH_UDC_ID, IP_MATCHED_IP, IP_MATCHED_STATUS, IP_MATCHED_UTILITY, SIM SET CHECK STATUS, METER_SIM, METER_ORG, SIM_ORG, METER_IP, SIM SET CHECK STATUS RECHECK, ACTION TAKEN, NEW_METER_NUMBER, DUPLICATED]\n",
       "Index: []"
      ]
     },
     "execution_count": 108,
     "metadata": {},
     "output_type": "execute_result"
    }
   ],
   "source": [
    "warehouse_meter_imsi_data_check[warehouse_meter_imsi_data_check['ACTION TAKEN'].isnull()]"
   ]
  },
  {
   "cell_type": "code",
   "execution_count": 109,
   "metadata": {},
   "outputs": [
    {
     "data": {
      "text/html": [
       "<div>\n",
       "<style scoped>\n",
       "    .dataframe tbody tr th:only-of-type {\n",
       "        vertical-align: middle;\n",
       "    }\n",
       "\n",
       "    .dataframe tbody tr th {\n",
       "        vertical-align: top;\n",
       "    }\n",
       "\n",
       "    .dataframe thead th {\n",
       "        text-align: right;\n",
       "    }\n",
       "</style>\n",
       "<table border=\"1\" class=\"dataframe\">\n",
       "  <thead>\n",
       "    <tr style=\"text-align: right;\">\n",
       "      <th></th>\n",
       "      <th>SL NO</th>\n",
       "      <th>METER NO.</th>\n",
       "      <th>PHASE</th>\n",
       "      <th>WAREHOUSE_UTILITY</th>\n",
       "      <th>WAREHOUSE_STATUS</th>\n",
       "      <th>MAKE</th>\n",
       "      <th>IME</th>\n",
       "      <th>FINAL SIM</th>\n",
       "      <th>IMSI</th>\n",
       "      <th>IP</th>\n",
       "      <th>MFG_SERIAL_NUM</th>\n",
       "      <th>METER_MATCH_UDC_ID</th>\n",
       "      <th>METER_MATCH_IP</th>\n",
       "      <th>INSTALLATIONNUMBER</th>\n",
       "      <th>METER_MATCH_STATUS</th>\n",
       "      <th>METER_MATCH_UTILITY</th>\n",
       "      <th>IMSI_MATCHED_METER_NO</th>\n",
       "      <th>IMSI_MATCHED_IP</th>\n",
       "      <th>IMSI_MATCHED_STATUS</th>\n",
       "      <th>IMSI_MATCHED_UTILITY</th>\n",
       "      <th>IP_MATCHED_METER_NO</th>\n",
       "      <th>IP_MATCH_UDC_ID</th>\n",
       "      <th>IP_MATCHED_IP</th>\n",
       "      <th>IP_MATCHED_STATUS</th>\n",
       "      <th>IP_MATCHED_UTILITY</th>\n",
       "      <th>SIM SET CHECK STATUS</th>\n",
       "      <th>METER_SIM</th>\n",
       "      <th>METER_ORG</th>\n",
       "      <th>SIM_ORG</th>\n",
       "      <th>METER_IP</th>\n",
       "      <th>SIM SET CHECK STATUS RECHECK</th>\n",
       "      <th>ACTION TAKEN</th>\n",
       "      <th>NEW_METER_NUMBER</th>\n",
       "      <th>DUPLICATED</th>\n",
       "    </tr>\n",
       "  </thead>\n",
       "  <tbody>\n",
       "    <tr>\n",
       "      <th>0</th>\n",
       "      <td>1</td>\n",
       "      <td>LT0164550</td>\n",
       "      <td>1 Phase</td>\n",
       "      <td>SBPDCL</td>\n",
       "      <td>S2S repaired</td>\n",
       "      <td>L&amp;T</td>\n",
       "      <td>861190055985524</td>\n",
       "      <td>8991856050706095561</td>\n",
       "      <td>405856706095561</td>\n",
       "      <td>2405:0203:0522:9F13:0000:0000:0000:0010</td>\n",
       "      <td>LT0164550</td>\n",
       "      <td>405856706095561.0</td>\n",
       "      <td>2405:0203:0522:9F13:0000:0000:0000:0010</td>\n",
       "      <td>5002548022</td>\n",
       "      <td>Retired</td>\n",
       "      <td>SBPDCL</td>\n",
       "      <td>LT0164550</td>\n",
       "      <td>2405:0203:0522:9F13:0000:0000:0000:0010</td>\n",
       "      <td>Retired</td>\n",
       "      <td>SBPDCL</td>\n",
       "      <td>LT0164550</td>\n",
       "      <td>405856706095561</td>\n",
       "      <td>2405:0203:0522:9F13:0000:0000:0000:0010</td>\n",
       "      <td>Retired</td>\n",
       "      <td>SBPDCL</td>\n",
       "      <td>SAME SET IN SAME UTILITY</td>\n",
       "      <td>True</td>\n",
       "      <td>True</td>\n",
       "      <td>True</td>\n",
       "      <td>True</td>\n",
       "      <td>SAME SET IN SAME UTILITY</td>\n",
       "      <td>METER-SIM LINK FILE REQUIRED</td>\n",
       "      <td>LNTLT0164550</td>\n",
       "      <td>Unique</td>\n",
       "    </tr>\n",
       "    <tr>\n",
       "      <th>1</th>\n",
       "      <td>2</td>\n",
       "      <td>LT0364314</td>\n",
       "      <td>1 Phase</td>\n",
       "      <td>NBPDCL</td>\n",
       "      <td>S2S repaired</td>\n",
       "      <td>L&amp;T</td>\n",
       "      <td>861996077248679</td>\n",
       "      <td>8991856050706402335</td>\n",
       "      <td>405856706402335</td>\n",
       "      <td>2405:0203:0525:C6A1:0000:0000:0000:0010</td>\n",
       "      <td>LT0364314</td>\n",
       "      <td>405856706402335.0</td>\n",
       "      <td>2405:0203:0525:C6A1:0000:0000:0000:0010</td>\n",
       "      <td>5002884613</td>\n",
       "      <td>Retired</td>\n",
       "      <td>NBPDCL</td>\n",
       "      <td>LT0364314</td>\n",
       "      <td>2405:0203:0525:C6A1:0000:0000:0000:0010</td>\n",
       "      <td>Retired</td>\n",
       "      <td>NBPDCL</td>\n",
       "      <td>LT0364314</td>\n",
       "      <td>405856706402335</td>\n",
       "      <td>2405:0203:0525:C6A1:0000:0000:0000:0010</td>\n",
       "      <td>Retired</td>\n",
       "      <td>NBPDCL</td>\n",
       "      <td>SAME SET IN SAME UTILITY</td>\n",
       "      <td>True</td>\n",
       "      <td>True</td>\n",
       "      <td>True</td>\n",
       "      <td>True</td>\n",
       "      <td>SAME SET IN SAME UTILITY</td>\n",
       "      <td>METER-SIM LINK FILE REQUIRED</td>\n",
       "      <td>LNTLT0364314</td>\n",
       "      <td>Unique</td>\n",
       "    </tr>\n",
       "  </tbody>\n",
       "</table>\n",
       "</div>"
      ],
      "text/plain": [
       "  SL NO  METER NO.    PHASE WAREHOUSE_UTILITY WAREHOUSE_STATUS MAKE  \\\n",
       "0     1  LT0164550  1 Phase            SBPDCL     S2S repaired  L&T   \n",
       "1     2  LT0364314  1 Phase            NBPDCL     S2S repaired  L&T   \n",
       "\n",
       "               IME            FINAL SIM             IMSI  \\\n",
       "0  861190055985524  8991856050706095561  405856706095561   \n",
       "1  861996077248679  8991856050706402335  405856706402335   \n",
       "\n",
       "                                        IP MFG_SERIAL_NUM METER_MATCH_UDC_ID  \\\n",
       "0  2405:0203:0522:9F13:0000:0000:0000:0010      LT0164550  405856706095561.0   \n",
       "1  2405:0203:0525:C6A1:0000:0000:0000:0010      LT0364314  405856706402335.0   \n",
       "\n",
       "                            METER_MATCH_IP INSTALLATIONNUMBER  \\\n",
       "0  2405:0203:0522:9F13:0000:0000:0000:0010         5002548022   \n",
       "1  2405:0203:0525:C6A1:0000:0000:0000:0010         5002884613   \n",
       "\n",
       "  METER_MATCH_STATUS METER_MATCH_UTILITY IMSI_MATCHED_METER_NO  \\\n",
       "0            Retired              SBPDCL             LT0164550   \n",
       "1            Retired              NBPDCL             LT0364314   \n",
       "\n",
       "                           IMSI_MATCHED_IP IMSI_MATCHED_STATUS  \\\n",
       "0  2405:0203:0522:9F13:0000:0000:0000:0010             Retired   \n",
       "1  2405:0203:0525:C6A1:0000:0000:0000:0010             Retired   \n",
       "\n",
       "  IMSI_MATCHED_UTILITY IP_MATCHED_METER_NO  IP_MATCH_UDC_ID  \\\n",
       "0               SBPDCL           LT0164550  405856706095561   \n",
       "1               NBPDCL           LT0364314  405856706402335   \n",
       "\n",
       "                             IP_MATCHED_IP IP_MATCHED_STATUS  \\\n",
       "0  2405:0203:0522:9F13:0000:0000:0000:0010           Retired   \n",
       "1  2405:0203:0525:C6A1:0000:0000:0000:0010           Retired   \n",
       "\n",
       "  IP_MATCHED_UTILITY      SIM SET CHECK STATUS METER_SIM METER_ORG SIM_ORG  \\\n",
       "0             SBPDCL  SAME SET IN SAME UTILITY      True      True    True   \n",
       "1             NBPDCL  SAME SET IN SAME UTILITY      True      True    True   \n",
       "\n",
       "  METER_IP SIM SET CHECK STATUS RECHECK                  ACTION TAKEN  \\\n",
       "0     True     SAME SET IN SAME UTILITY  METER-SIM LINK FILE REQUIRED   \n",
       "1     True     SAME SET IN SAME UTILITY  METER-SIM LINK FILE REQUIRED   \n",
       "\n",
       "  NEW_METER_NUMBER DUPLICATED  \n",
       "0     LNTLT0164550     Unique  \n",
       "1     LNTLT0364314     Unique  "
      ]
     },
     "execution_count": 109,
     "metadata": {},
     "output_type": "execute_result"
    }
   ],
   "source": [
    "warehouse_meter_imsi_data_check.head(2)\n"
   ]
  },
  {
   "cell_type": "code",
   "execution_count": 110,
   "metadata": {},
   "outputs": [
    {
     "data": {
      "text/plain": [
       "SL NO                           1181\n",
       "METER NO.                       1181\n",
       "PHASE                           1181\n",
       "WAREHOUSE_UTILITY               1181\n",
       "WAREHOUSE_STATUS                1181\n",
       "MAKE                            1181\n",
       "IME                             1181\n",
       "FINAL SIM                       1181\n",
       "IMSI                            1181\n",
       "IP                              1181\n",
       "MFG_SERIAL_NUM                  1181\n",
       "METER_MATCH_UDC_ID              1181\n",
       "METER_MATCH_IP                  1181\n",
       "INSTALLATIONNUMBER              1181\n",
       "METER_MATCH_STATUS              1181\n",
       "METER_MATCH_UTILITY             1181\n",
       "IMSI_MATCHED_METER_NO           1181\n",
       "IMSI_MATCHED_IP                 1181\n",
       "IMSI_MATCHED_STATUS             1181\n",
       "IMSI_MATCHED_UTILITY            1181\n",
       "IP_MATCHED_METER_NO             1181\n",
       "IP_MATCH_UDC_ID                 1181\n",
       "IP_MATCHED_IP                   1181\n",
       "IP_MATCHED_STATUS               1181\n",
       "IP_MATCHED_UTILITY              1181\n",
       "SIM SET CHECK STATUS            1181\n",
       "METER_SIM                       1181\n",
       "METER_ORG                       1181\n",
       "SIM_ORG                         1181\n",
       "METER_IP                        1181\n",
       "SIM SET CHECK STATUS RECHECK    1181\n",
       "ACTION TAKEN                    1181\n",
       "NEW_METER_NUMBER                1181\n",
       "DUPLICATED                      1181\n",
       "dtype: int64"
      ]
     },
     "execution_count": 110,
     "metadata": {},
     "output_type": "execute_result"
    }
   ],
   "source": [
    "warehouse_meter_imsi_data_check[warehouse_meter_imsi_data_check['ACTION TAKEN'] != \"NEED TO CHECK THIS FILE\"].count()"
   ]
  },
  {
   "cell_type": "code",
   "execution_count": 111,
   "metadata": {},
   "outputs": [
    {
     "data": {
      "text/plain": [
       "array(['METER-SIM LINK FILE REQUIRED',\n",
       "       'SIM AND METER-SIM LINK FILE REQUIRED',\n",
       "       'SET IS IN INSTALLED STAGE', 'IMSI IS IN INSTALLED STAGE',\n",
       "       'METER IS IN INSTALLED STAGE', 'BOTH INSTALLED IN SAME UTILITY',\n",
       "       'NEED TO CHECK THIS FILE'], dtype=object)"
      ]
     },
     "execution_count": 111,
     "metadata": {},
     "output_type": "execute_result"
    }
   ],
   "source": [
    "warehouse_meter_imsi_data_check['ACTION TAKEN'].unique()"
   ]
  },
  {
   "cell_type": "code",
   "execution_count": 112,
   "metadata": {},
   "outputs": [
    {
     "data": {
      "text/html": [
       "<div>\n",
       "<style scoped>\n",
       "    .dataframe tbody tr th:only-of-type {\n",
       "        vertical-align: middle;\n",
       "    }\n",
       "\n",
       "    .dataframe tbody tr th {\n",
       "        vertical-align: top;\n",
       "    }\n",
       "\n",
       "    .dataframe thead th {\n",
       "        text-align: right;\n",
       "    }\n",
       "</style>\n",
       "<table border=\"1\" class=\"dataframe\">\n",
       "  <thead>\n",
       "    <tr style=\"text-align: right;\">\n",
       "      <th></th>\n",
       "      <th>SL NO</th>\n",
       "      <th>METER NO.</th>\n",
       "      <th>PHASE</th>\n",
       "      <th>WAREHOUSE_UTILITY</th>\n",
       "      <th>WAREHOUSE_STATUS</th>\n",
       "      <th>MAKE</th>\n",
       "      <th>IME</th>\n",
       "      <th>FINAL SIM</th>\n",
       "      <th>IMSI</th>\n",
       "      <th>IP</th>\n",
       "      <th>MFG_SERIAL_NUM</th>\n",
       "      <th>METER_MATCH_UDC_ID</th>\n",
       "      <th>METER_MATCH_IP</th>\n",
       "      <th>INSTALLATIONNUMBER</th>\n",
       "      <th>METER_MATCH_STATUS</th>\n",
       "      <th>METER_MATCH_UTILITY</th>\n",
       "      <th>IMSI_MATCHED_METER_NO</th>\n",
       "      <th>IMSI_MATCHED_IP</th>\n",
       "      <th>IMSI_MATCHED_STATUS</th>\n",
       "      <th>IMSI_MATCHED_UTILITY</th>\n",
       "      <th>IP_MATCHED_METER_NO</th>\n",
       "      <th>IP_MATCH_UDC_ID</th>\n",
       "      <th>IP_MATCHED_IP</th>\n",
       "      <th>IP_MATCHED_STATUS</th>\n",
       "      <th>IP_MATCHED_UTILITY</th>\n",
       "      <th>SIM SET CHECK STATUS</th>\n",
       "      <th>METER_SIM</th>\n",
       "      <th>METER_ORG</th>\n",
       "      <th>SIM_ORG</th>\n",
       "      <th>METER_IP</th>\n",
       "      <th>SIM SET CHECK STATUS RECHECK</th>\n",
       "      <th>ACTION TAKEN</th>\n",
       "      <th>NEW_METER_NUMBER</th>\n",
       "      <th>DUPLICATED</th>\n",
       "    </tr>\n",
       "  </thead>\n",
       "  <tbody>\n",
       "    <tr>\n",
       "      <th>0</th>\n",
       "      <td>1</td>\n",
       "      <td>LT0164550</td>\n",
       "      <td>1 Phase</td>\n",
       "      <td>SBPDCL</td>\n",
       "      <td>S2S repaired</td>\n",
       "      <td>L&amp;T</td>\n",
       "      <td>861190055985524</td>\n",
       "      <td>8991856050706095561</td>\n",
       "      <td>405856706095561</td>\n",
       "      <td>2405:0203:0522:9F13:0000:0000:0000:0010</td>\n",
       "      <td>LT0164550</td>\n",
       "      <td>405856706095561.0</td>\n",
       "      <td>2405:0203:0522:9F13:0000:0000:0000:0010</td>\n",
       "      <td>5002548022</td>\n",
       "      <td>Retired</td>\n",
       "      <td>SBPDCL</td>\n",
       "      <td>LT0164550</td>\n",
       "      <td>2405:0203:0522:9F13:0000:0000:0000:0010</td>\n",
       "      <td>Retired</td>\n",
       "      <td>SBPDCL</td>\n",
       "      <td>LT0164550</td>\n",
       "      <td>405856706095561</td>\n",
       "      <td>2405:0203:0522:9F13:0000:0000:0000:0010</td>\n",
       "      <td>Retired</td>\n",
       "      <td>SBPDCL</td>\n",
       "      <td>SAME SET IN SAME UTILITY</td>\n",
       "      <td>True</td>\n",
       "      <td>True</td>\n",
       "      <td>True</td>\n",
       "      <td>True</td>\n",
       "      <td>SAME SET IN SAME UTILITY</td>\n",
       "      <td>METER-SIM LINK FILE REQUIRED</td>\n",
       "      <td>LNTLT0164550</td>\n",
       "      <td>Unique</td>\n",
       "    </tr>\n",
       "    <tr>\n",
       "      <th>1</th>\n",
       "      <td>2</td>\n",
       "      <td>LT0364314</td>\n",
       "      <td>1 Phase</td>\n",
       "      <td>NBPDCL</td>\n",
       "      <td>S2S repaired</td>\n",
       "      <td>L&amp;T</td>\n",
       "      <td>861996077248679</td>\n",
       "      <td>8991856050706402335</td>\n",
       "      <td>405856706402335</td>\n",
       "      <td>2405:0203:0525:C6A1:0000:0000:0000:0010</td>\n",
       "      <td>LT0364314</td>\n",
       "      <td>405856706402335.0</td>\n",
       "      <td>2405:0203:0525:C6A1:0000:0000:0000:0010</td>\n",
       "      <td>5002884613</td>\n",
       "      <td>Retired</td>\n",
       "      <td>NBPDCL</td>\n",
       "      <td>LT0364314</td>\n",
       "      <td>2405:0203:0525:C6A1:0000:0000:0000:0010</td>\n",
       "      <td>Retired</td>\n",
       "      <td>NBPDCL</td>\n",
       "      <td>LT0364314</td>\n",
       "      <td>405856706402335</td>\n",
       "      <td>2405:0203:0525:C6A1:0000:0000:0000:0010</td>\n",
       "      <td>Retired</td>\n",
       "      <td>NBPDCL</td>\n",
       "      <td>SAME SET IN SAME UTILITY</td>\n",
       "      <td>True</td>\n",
       "      <td>True</td>\n",
       "      <td>True</td>\n",
       "      <td>True</td>\n",
       "      <td>SAME SET IN SAME UTILITY</td>\n",
       "      <td>METER-SIM LINK FILE REQUIRED</td>\n",
       "      <td>LNTLT0364314</td>\n",
       "      <td>Unique</td>\n",
       "    </tr>\n",
       "  </tbody>\n",
       "</table>\n",
       "</div>"
      ],
      "text/plain": [
       "  SL NO  METER NO.    PHASE WAREHOUSE_UTILITY WAREHOUSE_STATUS MAKE  \\\n",
       "0     1  LT0164550  1 Phase            SBPDCL     S2S repaired  L&T   \n",
       "1     2  LT0364314  1 Phase            NBPDCL     S2S repaired  L&T   \n",
       "\n",
       "               IME            FINAL SIM             IMSI  \\\n",
       "0  861190055985524  8991856050706095561  405856706095561   \n",
       "1  861996077248679  8991856050706402335  405856706402335   \n",
       "\n",
       "                                        IP MFG_SERIAL_NUM METER_MATCH_UDC_ID  \\\n",
       "0  2405:0203:0522:9F13:0000:0000:0000:0010      LT0164550  405856706095561.0   \n",
       "1  2405:0203:0525:C6A1:0000:0000:0000:0010      LT0364314  405856706402335.0   \n",
       "\n",
       "                            METER_MATCH_IP INSTALLATIONNUMBER  \\\n",
       "0  2405:0203:0522:9F13:0000:0000:0000:0010         5002548022   \n",
       "1  2405:0203:0525:C6A1:0000:0000:0000:0010         5002884613   \n",
       "\n",
       "  METER_MATCH_STATUS METER_MATCH_UTILITY IMSI_MATCHED_METER_NO  \\\n",
       "0            Retired              SBPDCL             LT0164550   \n",
       "1            Retired              NBPDCL             LT0364314   \n",
       "\n",
       "                           IMSI_MATCHED_IP IMSI_MATCHED_STATUS  \\\n",
       "0  2405:0203:0522:9F13:0000:0000:0000:0010             Retired   \n",
       "1  2405:0203:0525:C6A1:0000:0000:0000:0010             Retired   \n",
       "\n",
       "  IMSI_MATCHED_UTILITY IP_MATCHED_METER_NO  IP_MATCH_UDC_ID  \\\n",
       "0               SBPDCL           LT0164550  405856706095561   \n",
       "1               NBPDCL           LT0364314  405856706402335   \n",
       "\n",
       "                             IP_MATCHED_IP IP_MATCHED_STATUS  \\\n",
       "0  2405:0203:0522:9F13:0000:0000:0000:0010           Retired   \n",
       "1  2405:0203:0525:C6A1:0000:0000:0000:0010           Retired   \n",
       "\n",
       "  IP_MATCHED_UTILITY      SIM SET CHECK STATUS METER_SIM METER_ORG SIM_ORG  \\\n",
       "0             SBPDCL  SAME SET IN SAME UTILITY      True      True    True   \n",
       "1             NBPDCL  SAME SET IN SAME UTILITY      True      True    True   \n",
       "\n",
       "  METER_IP SIM SET CHECK STATUS RECHECK                  ACTION TAKEN  \\\n",
       "0     True     SAME SET IN SAME UTILITY  METER-SIM LINK FILE REQUIRED   \n",
       "1     True     SAME SET IN SAME UTILITY  METER-SIM LINK FILE REQUIRED   \n",
       "\n",
       "  NEW_METER_NUMBER DUPLICATED  \n",
       "0     LNTLT0164550     Unique  \n",
       "1     LNTLT0364314     Unique  "
      ]
     },
     "execution_count": 112,
     "metadata": {},
     "output_type": "execute_result"
    }
   ],
   "source": [
    "warehouse_meter_imsi_data_check.head(2)"
   ]
  },
  {
   "cell_type": "code",
   "execution_count": 113,
   "metadata": {},
   "outputs": [
    {
     "data": {
      "text/plain": [
       "array(['METER-SIM LINK FILE REQUIRED',\n",
       "       'SIM AND METER-SIM LINK FILE REQUIRED',\n",
       "       'SET IS IN INSTALLED STAGE', 'IMSI IS IN INSTALLED STAGE',\n",
       "       'METER IS IN INSTALLED STAGE', 'BOTH INSTALLED IN SAME UTILITY',\n",
       "       'NEED TO CHECK THIS FILE'], dtype=object)"
      ]
     },
     "execution_count": 113,
     "metadata": {},
     "output_type": "execute_result"
    }
   ],
   "source": [
    "warehouse_meter_imsi_data_check['ACTION TAKEN'].unique()"
   ]
  },
  {
   "cell_type": "code",
   "execution_count": 114,
   "metadata": {},
   "outputs": [
    {
     "data": {
      "text/plain": [
       "array(['SAME SET IN SAME UTILITY', 'DIFFERENT SET IN SAME UTILITY',\n",
       "       'DIFFERENT SET IN DIFFERENT UTILITY'], dtype=object)"
      ]
     },
     "execution_count": 114,
     "metadata": {},
     "output_type": "execute_result"
    }
   ],
   "source": [
    "warehouse_meter_imsi_data_check['SIM SET CHECK STATUS RECHECK'].unique()"
   ]
  },
  {
   "cell_type": "code",
   "execution_count": 115,
   "metadata": {},
   "outputs": [
    {
     "data": {
      "text/plain": [
       "SL NO                           0\n",
       "METER NO.                       0\n",
       "PHASE                           0\n",
       "WAREHOUSE_UTILITY               0\n",
       "WAREHOUSE_STATUS                0\n",
       "MAKE                            0\n",
       "IME                             0\n",
       "FINAL SIM                       0\n",
       "IMSI                            0\n",
       "IP                              0\n",
       "MFG_SERIAL_NUM                  0\n",
       "METER_MATCH_UDC_ID              0\n",
       "METER_MATCH_IP                  0\n",
       "INSTALLATIONNUMBER              0\n",
       "METER_MATCH_STATUS              0\n",
       "METER_MATCH_UTILITY             0\n",
       "IMSI_MATCHED_METER_NO           0\n",
       "IMSI_MATCHED_IP                 0\n",
       "IMSI_MATCHED_STATUS             0\n",
       "IMSI_MATCHED_UTILITY            0\n",
       "IP_MATCHED_METER_NO             0\n",
       "IP_MATCH_UDC_ID                 0\n",
       "IP_MATCHED_IP                   0\n",
       "IP_MATCHED_STATUS               0\n",
       "IP_MATCHED_UTILITY              0\n",
       "SIM SET CHECK STATUS            0\n",
       "METER_SIM                       0\n",
       "METER_ORG                       0\n",
       "SIM_ORG                         0\n",
       "METER_IP                        0\n",
       "SIM SET CHECK STATUS RECHECK    0\n",
       "ACTION TAKEN                    0\n",
       "NEW_METER_NUMBER                0\n",
       "DUPLICATED                      0\n",
       "dtype: int64"
      ]
     },
     "execution_count": 115,
     "metadata": {},
     "output_type": "execute_result"
    }
   ],
   "source": [
    "warehouse_meter_imsi_data_check[warehouse_meter_imsi_data_check['IMSI_MATCHED_METER_NO']==\"nan\"].count()"
   ]
  },
  {
   "cell_type": "code",
   "execution_count": 116,
   "metadata": {},
   "outputs": [
    {
     "data": {
      "text/plain": [
       "dtype('O')"
      ]
     },
     "execution_count": 116,
     "metadata": {},
     "output_type": "execute_result"
    }
   ],
   "source": [
    "warehouse_meter_imsi_data_check['METER_MATCH_UDC_ID'].dtype"
   ]
  },
  {
   "cell_type": "code",
   "execution_count": 117,
   "metadata": {},
   "outputs": [
    {
     "data": {
      "text/plain": [
       "array(['METER-SIM LINK FILE REQUIRED',\n",
       "       'SIM AND METER-SIM LINK FILE REQUIRED',\n",
       "       'SET IS IN INSTALLED STAGE', 'IMSI IS IN INSTALLED STAGE',\n",
       "       'METER IS IN INSTALLED STAGE', 'BOTH INSTALLED IN SAME UTILITY',\n",
       "       'NEED TO CHECK THIS FILE'], dtype=object)"
      ]
     },
     "execution_count": 117,
     "metadata": {},
     "output_type": "execute_result"
    }
   ],
   "source": [
    "warehouse_meter_imsi_data_check['ACTION TAKEN'].unique()"
   ]
  },
  {
   "cell_type": "code",
   "execution_count": 118,
   "metadata": {},
   "outputs": [
    {
     "data": {
      "text/plain": [
       "SL NO                           2\n",
       "METER NO.                       2\n",
       "PHASE                           2\n",
       "WAREHOUSE_UTILITY               2\n",
       "WAREHOUSE_STATUS                2\n",
       "MAKE                            2\n",
       "IME                             2\n",
       "FINAL SIM                       2\n",
       "IMSI                            2\n",
       "IP                              2\n",
       "MFG_SERIAL_NUM                  2\n",
       "METER_MATCH_UDC_ID              2\n",
       "METER_MATCH_IP                  2\n",
       "INSTALLATIONNUMBER              2\n",
       "METER_MATCH_STATUS              2\n",
       "METER_MATCH_UTILITY             2\n",
       "IMSI_MATCHED_METER_NO           2\n",
       "IMSI_MATCHED_IP                 2\n",
       "IMSI_MATCHED_STATUS             2\n",
       "IMSI_MATCHED_UTILITY            2\n",
       "IP_MATCHED_METER_NO             2\n",
       "IP_MATCH_UDC_ID                 2\n",
       "IP_MATCHED_IP                   2\n",
       "IP_MATCHED_STATUS               2\n",
       "IP_MATCHED_UTILITY              2\n",
       "SIM SET CHECK STATUS            2\n",
       "METER_SIM                       2\n",
       "METER_ORG                       2\n",
       "SIM_ORG                         2\n",
       "METER_IP                        2\n",
       "SIM SET CHECK STATUS RECHECK    2\n",
       "ACTION TAKEN                    2\n",
       "NEW_METER_NUMBER                2\n",
       "DUPLICATED                      2\n",
       "dtype: int64"
      ]
     },
     "execution_count": 118,
     "metadata": {},
     "output_type": "execute_result"
    }
   ],
   "source": [
    "warehouse_meter_imsi_data_check[warehouse_meter_imsi_data_check['ACTION TAKEN']=='NEED TO CHECK THIS FILE'].count()"
   ]
  },
  {
   "cell_type": "code",
   "execution_count": null,
   "metadata": {},
   "outputs": [],
   "source": []
  },
  {
   "cell_type": "code",
   "execution_count": 119,
   "metadata": {},
   "outputs": [],
   "source": [
    "#assest_initiation_invent_sb[assest_initiation_invent_sb['UDC_ID']=='404751250008001']"
   ]
  },
  {
   "cell_type": "code",
   "execution_count": 120,
   "metadata": {},
   "outputs": [],
   "source": [
    "#assest_initiation_invent_nb[assest_initiation_invent_nb['UDC_ID']=='404751250008001']"
   ]
  },
  {
   "cell_type": "code",
   "execution_count": 121,
   "metadata": {},
   "outputs": [
    {
     "data": {
      "text/plain": [
       "array(['Unique', 'Duplicated'], dtype=object)"
      ]
     },
     "execution_count": 121,
     "metadata": {},
     "output_type": "execute_result"
    }
   ],
   "source": [
    "warehouse_meter_imsi_data_check['DUPLICATED'].unique()"
   ]
  },
  {
   "cell_type": "code",
   "execution_count": 122,
   "metadata": {},
   "outputs": [
    {
     "data": {
      "text/plain": [
       "(1183, 34)"
      ]
     },
     "execution_count": 122,
     "metadata": {},
     "output_type": "execute_result"
    }
   ],
   "source": [
    "warehouse_meter_imsi_data_check.shape"
   ]
  },
  {
   "cell_type": "markdown",
   "metadata": {},
   "source": [
    "# extra\n",
    "\n",
    "\n",
    "####  THIS WILL REMOVE THE DUPLICATE  "
   ]
  },
  {
   "cell_type": "code",
   "execution_count": 123,
   "metadata": {},
   "outputs": [],
   "source": [
    "#warehouse_meter_imsi_data_check.drop[warehouse_meter_imsi_data_check['DUPLICATED']=='Duplicated']\n",
    "\n",
    "# Assuming warehouse_meter_imsi_data_check is your DataFrame\n",
    "\n",
    "\n",
    "#warehouse_meter_imsi_data_check.drop(warehouse_meter_imsi_data_check[warehouse_meter_imsi_data_check['DUPLICATED'] == 'Duplicated'].index, inplace=True)\n"
   ]
  },
  {
   "cell_type": "code",
   "execution_count": 124,
   "metadata": {},
   "outputs": [
    {
     "data": {
      "text/plain": [
       "(1183, 34)"
      ]
     },
     "execution_count": 124,
     "metadata": {},
     "output_type": "execute_result"
    }
   ],
   "source": [
    "warehouse_meter_imsi_data_check.shape"
   ]
  },
  {
   "cell_type": "markdown",
   "metadata": {},
   "source": [
    "# creating meter-sim link file"
   ]
  },
  {
   "cell_type": "code",
   "execution_count": 125,
   "metadata": {},
   "outputs": [],
   "source": [
    "# Convert all columns to string data type\n",
    "\n",
    "# change into str\n",
    "warehouse_meter_imsi_data_check = warehouse_meter_imsi_data_check.astype(str)\n",
    "# ----------------------------------------------------------------------------------\n",
    "# change into upper\n",
    "warehouse_meter_imsi_data_check.columns = warehouse_meter_imsi_data_check.columns.str.upper()\n",
    "# ----------------------------------------------------------------------------------\n",
    "# Remove leading and trailing whitespaces from all columns where dtype is 'O'\n",
    "warehouse_meter_imsi_data_check = warehouse_meter_imsi_data_check.apply(lambda x: x.str.strip() if x.dtype == 'O' else x)\n",
    "\n"
   ]
  },
  {
   "cell_type": "code",
   "execution_count": 126,
   "metadata": {},
   "outputs": [
    {
     "data": {
      "text/plain": [
       "array(['METER-SIM LINK FILE REQUIRED',\n",
       "       'SIM AND METER-SIM LINK FILE REQUIRED',\n",
       "       'SET IS IN INSTALLED STAGE', 'IMSI IS IN INSTALLED STAGE',\n",
       "       'METER IS IN INSTALLED STAGE', 'BOTH INSTALLED IN SAME UTILITY',\n",
       "       'NEED TO CHECK THIS FILE'], dtype=object)"
      ]
     },
     "execution_count": 126,
     "metadata": {},
     "output_type": "execute_result"
    }
   ],
   "source": [
    "#METER , SIM AND METER-SIM LINK FILE REQUIRED\n",
    "\n",
    "#SIM AND METER-SIM LINK FILE REQUIRED\n",
    "\n",
    "#METER-SIM LINK FILE REQUIRED\n",
    "warehouse_meter_imsi_data_check['ACTION TAKEN'].unique()"
   ]
  },
  {
   "cell_type": "code",
   "execution_count": 127,
   "metadata": {},
   "outputs": [],
   "source": [
    "# creating meter_sim_link_file\n",
    "\n",
    "#CREATE_METER_SIM_AND_METER_SIM_LINK_FILE= warehouse_meter_imsi_data_check[(warehouse_meter_imsi_data_check['ACTION TAKEN']=='METER,SIM AND METER-SIM LINK FILE REQUIRED') | (warehouse_meter_imsi_data_check['ACTION TAKEN']=='METER IS IN INSTALLED STAGE') | (warehouse_meter_imsi_data_check['ACTION TAKEN']=='NEED TO CHECK THIS FILE')]\n",
    "CREATE_METER_SIM_AND_METER_SIM_LINK_FILE= warehouse_meter_imsi_data_check[(warehouse_meter_imsi_data_check['ACTION TAKEN']=='METER , SIM AND METER-SIM LINK FILE REQUIRED')]\n",
    "\n",
    "CREATE_SIM_AND_METER_SIM_LINK_FILE= warehouse_meter_imsi_data_check[(warehouse_meter_imsi_data_check['ACTION TAKEN']=='SIM AND METER-SIM LINK FILE REQUIRED')]\n",
    "\n",
    "CREATE_METER_SIM_LINK_FILE= warehouse_meter_imsi_data_check[(warehouse_meter_imsi_data_check['ACTION TAKEN']=='METER-SIM LINK FILE REQUIRED')]\n",
    "                                                                          "
   ]
  },
  {
   "cell_type": "code",
   "execution_count": 128,
   "metadata": {},
   "outputs": [
    {
     "name": "stdout",
     "output_type": "stream",
     "text": [
      " CREATE_METER_SIM_AND_METER_SIM_LINK_FILE - UNIQUE : []\n",
      " CREATE_SIM_AND_METER_SIM_LINK_FILE - UNIQUE : ['SIM AND METER-SIM LINK FILE REQUIRED']\n",
      " CREATE_METER_SIM_LINK_FILE - UNIQUE : ['METER-SIM LINK FILE REQUIRED']\n"
     ]
    }
   ],
   "source": [
    "print(f\" CREATE_METER_SIM_AND_METER_SIM_LINK_FILE - UNIQUE : {CREATE_METER_SIM_AND_METER_SIM_LINK_FILE['ACTION TAKEN'].unique()}\")\n",
    "print(f\" CREATE_SIM_AND_METER_SIM_LINK_FILE - UNIQUE : {CREATE_SIM_AND_METER_SIM_LINK_FILE['ACTION TAKEN'].unique()}\")\n",
    "print(f\" CREATE_METER_SIM_LINK_FILE - UNIQUE : {CREATE_METER_SIM_LINK_FILE['ACTION TAKEN'].unique()}\")\n"
   ]
  },
  {
   "cell_type": "code",
   "execution_count": null,
   "metadata": {},
   "outputs": [],
   "source": []
  },
  {
   "cell_type": "code",
   "execution_count": null,
   "metadata": {},
   "outputs": [],
   "source": []
  },
  {
   "cell_type": "markdown",
   "metadata": {},
   "source": [
    "### Meter-sim link file for all 3 cases"
   ]
  },
  {
   "cell_type": "code",
   "execution_count": 129,
   "metadata": {},
   "outputs": [],
   "source": [
    "# this file is meter-sim link code"
   ]
  },
  {
   "cell_type": "code",
   "execution_count": 130,
   "metadata": {},
   "outputs": [
    {
     "name": "stderr",
     "output_type": "stream",
     "text": [
      "C:\\Users\\Ratan Kumar Jha\\AppData\\Local\\Temp\\ipykernel_23448\\2655918992.py:6: SettingWithCopyWarning: \n",
      "A value is trying to be set on a copy of a slice from a DataFrame.\n",
      "Try using .loc[row_indexer,col_indexer] = value instead\n",
      "\n",
      "See the caveats in the documentation: https://pandas.pydata.org/pandas-docs/stable/user_guide/indexing.html#returning-a-view-versus-a-copy\n",
      "  CREATE_SIM_AND_METER_SIM_LINK_FILE['meter_sim_link_(S & M-S)_single_file_data'] = CREATE_SIM_AND_METER_SIM_LINK_FILE.apply(fun_meter_sim_link_file, axis=1)\n",
      "C:\\Users\\Ratan Kumar Jha\\AppData\\Local\\Temp\\ipykernel_23448\\2655918992.py:7: SettingWithCopyWarning: \n",
      "A value is trying to be set on a copy of a slice from a DataFrame.\n",
      "Try using .loc[row_indexer,col_indexer] = value instead\n",
      "\n",
      "See the caveats in the documentation: https://pandas.pydata.org/pandas-docs/stable/user_guide/indexing.html#returning-a-view-versus-a-copy\n",
      "  CREATE_METER_SIM_LINK_FILE['meter_sim_link_(M-S)_single_file_data'] = CREATE_METER_SIM_LINK_FILE.apply(fun_meter_sim_link_file, axis=1)\n"
     ]
    }
   ],
   "source": [
    "def fun_meter_sim_link_file(row):\n",
    "\n",
    "    return \"{};EP2PMeter;{};{};{}\".format(row['NEW_METER_NUMBER'], row['IMSI'],row['FINAL SIM'],row['WAREHOUSE_UTILITY'])\n",
    "\n",
    "CREATE_METER_SIM_AND_METER_SIM_LINK_FILE['meter_sim_link_(M,S & M-S)_single_file_data'] = CREATE_METER_SIM_AND_METER_SIM_LINK_FILE.apply(fun_meter_sim_link_file, axis=1)\n",
    "CREATE_SIM_AND_METER_SIM_LINK_FILE['meter_sim_link_(S & M-S)_single_file_data'] = CREATE_SIM_AND_METER_SIM_LINK_FILE.apply(fun_meter_sim_link_file, axis=1)\n",
    "CREATE_METER_SIM_LINK_FILE['meter_sim_link_(M-S)_single_file_data'] = CREATE_METER_SIM_LINK_FILE.apply(fun_meter_sim_link_file, axis=1)"
   ]
  },
  {
   "cell_type": "code",
   "execution_count": null,
   "metadata": {},
   "outputs": [],
   "source": [
    "\n"
   ]
  },
  {
   "cell_type": "code",
   "execution_count": 131,
   "metadata": {},
   "outputs": [],
   "source": [
    "#EESL_BSNL_PO0000000402_00000_SIM_20231220_121002_SBPDCL\n",
    "#404751250004001;8991759065212004001;fd00:0000:0800:CC19:0000:0000:0000:0001;;BSNLEDF;ACTIVE;SBPDCL"
   ]
  },
  {
   "cell_type": "markdown",
   "metadata": {},
   "source": [
    "#  this code is for sim file for all the 2 cases"
   ]
  },
  {
   "cell_type": "code",
   "execution_count": 132,
   "metadata": {},
   "outputs": [
    {
     "name": "stderr",
     "output_type": "stream",
     "text": [
      "C:\\Users\\Ratan Kumar Jha\\AppData\\Local\\Temp\\ipykernel_23448\\669809455.py:6: SettingWithCopyWarning: \n",
      "A value is trying to be set on a copy of a slice from a DataFrame.\n",
      "Try using .loc[row_indexer,col_indexer] = value instead\n",
      "\n",
      "See the caveats in the documentation: https://pandas.pydata.org/pandas-docs/stable/user_guide/indexing.html#returning-a-view-versus-a-copy\n",
      "  CREATE_SIM_AND_METER_SIM_LINK_FILE['sim_link_(S & M-S)_single_file_data'] = CREATE_SIM_AND_METER_SIM_LINK_FILE.apply(fun_sim_file, axis=1)\n"
     ]
    }
   ],
   "source": [
    "def fun_sim_file(row):\n",
    "\n",
    "    return \"{};{};{};;BSNLEDF;ACTIVE;{}\".format(row['IMSI'], row['FINAL SIM'],row['IP'],row['WAREHOUSE_UTILITY'])\n",
    "\n",
    "CREATE_METER_SIM_AND_METER_SIM_LINK_FILE['sim_link_(M,S & M-S)_single_file_data'] = CREATE_METER_SIM_AND_METER_SIM_LINK_FILE.apply(fun_sim_file, axis=1)\n",
    "CREATE_SIM_AND_METER_SIM_LINK_FILE['sim_link_(S & M-S)_single_file_data'] = CREATE_SIM_AND_METER_SIM_LINK_FILE.apply(fun_sim_file, axis=1)\n"
   ]
  },
  {
   "cell_type": "code",
   "execution_count": null,
   "metadata": {},
   "outputs": [],
   "source": []
  },
  {
   "cell_type": "markdown",
   "metadata": {},
   "source": [
    "# THIS CODE IS FOR METER FILE FOR METER,SIM,METER-SIM LINK FILE"
   ]
  },
  {
   "cell_type": "code",
   "execution_count": null,
   "metadata": {},
   "outputs": [],
   "source": []
  },
  {
   "cell_type": "code",
   "execution_count": 133,
   "metadata": {},
   "outputs": [
    {
     "data": {
      "text/plain": [
       "array([], dtype=object)"
      ]
     },
     "execution_count": 133,
     "metadata": {},
     "output_type": "execute_result"
    }
   ],
   "source": [
    "CREATE_METER_SIM_AND_METER_SIM_LINK_FILE['PHASE'].unique()"
   ]
  },
  {
   "cell_type": "code",
   "execution_count": null,
   "metadata": {},
   "outputs": [],
   "source": []
  },
  {
   "cell_type": "markdown",
   "metadata": {},
   "source": [
    "##### 1 phase and 3 phase"
   ]
  },
  {
   "cell_type": "code",
   "execution_count": 134,
   "metadata": {},
   "outputs": [],
   "source": [
    "# 1 phase and 3 phase meter file :   meter, sim , meter-sim link file \n",
    "\n",
    "\n",
    "CREATE_METER_SIM_AND_METER_SIM_LINK_FILE_1_PHASE = CREATE_METER_SIM_AND_METER_SIM_LINK_FILE[CREATE_METER_SIM_AND_METER_SIM_LINK_FILE['PHASE']=='1 Phase']\n",
    "CREATE_METER_SIM_AND_METER_SIM_LINK_FILE_1_PHASE_GENUS = CREATE_METER_SIM_AND_METER_SIM_LINK_FILE_1_PHASE[CREATE_METER_SIM_AND_METER_SIM_LINK_FILE_1_PHASE['NEW_METER_NUMBER'].str.startswith('GOE')]\n",
    "CREATE_METER_SIM_AND_METER_SIM_LINK_FILE_1_PHASE_LNT = CREATE_METER_SIM_AND_METER_SIM_LINK_FILE_1_PHASE[CREATE_METER_SIM_AND_METER_SIM_LINK_FILE_1_PHASE['NEW_METER_NUMBER'].str.startswith('LNT')]\n",
    "\n",
    "\n",
    "\n",
    "CREATE_METER_SIM_AND_METER_SIM_LINK_FILE_3_PHASE = CREATE_METER_SIM_AND_METER_SIM_LINK_FILE[CREATE_METER_SIM_AND_METER_SIM_LINK_FILE['PHASE']=='3 Phase']\n",
    "CREATE_METER_SIM_AND_METER_SIM_LINK_FILE_3_PHASE_GENUS = CREATE_METER_SIM_AND_METER_SIM_LINK_FILE_3_PHASE[CREATE_METER_SIM_AND_METER_SIM_LINK_FILE_3_PHASE['NEW_METER_NUMBER'].str.startswith('GOE')]\n",
    "CREATE_METER_SIM_AND_METER_SIM_LINK_FILE_3_PHASE_LNT = CREATE_METER_SIM_AND_METER_SIM_LINK_FILE_3_PHASE[CREATE_METER_SIM_AND_METER_SIM_LINK_FILE_3_PHASE['NEW_METER_NUMBER'].str.startswith('LNT')]\n"
   ]
  },
  {
   "cell_type": "code",
   "execution_count": 135,
   "metadata": {},
   "outputs": [
    {
     "data": {
      "text/html": [
       "<div>\n",
       "<style scoped>\n",
       "    .dataframe tbody tr th:only-of-type {\n",
       "        vertical-align: middle;\n",
       "    }\n",
       "\n",
       "    .dataframe tbody tr th {\n",
       "        vertical-align: top;\n",
       "    }\n",
       "\n",
       "    .dataframe thead th {\n",
       "        text-align: right;\n",
       "    }\n",
       "</style>\n",
       "<table border=\"1\" class=\"dataframe\">\n",
       "  <thead>\n",
       "    <tr style=\"text-align: right;\">\n",
       "      <th></th>\n",
       "      <th>SL NO</th>\n",
       "      <th>METER NO.</th>\n",
       "      <th>PHASE</th>\n",
       "      <th>WAREHOUSE_UTILITY</th>\n",
       "      <th>WAREHOUSE_STATUS</th>\n",
       "      <th>MAKE</th>\n",
       "      <th>IME</th>\n",
       "      <th>FINAL SIM</th>\n",
       "      <th>IMSI</th>\n",
       "      <th>IP</th>\n",
       "      <th>MFG_SERIAL_NUM</th>\n",
       "      <th>METER_MATCH_UDC_ID</th>\n",
       "      <th>METER_MATCH_IP</th>\n",
       "      <th>INSTALLATIONNUMBER</th>\n",
       "      <th>METER_MATCH_STATUS</th>\n",
       "      <th>METER_MATCH_UTILITY</th>\n",
       "      <th>IMSI_MATCHED_METER_NO</th>\n",
       "      <th>IMSI_MATCHED_IP</th>\n",
       "      <th>IMSI_MATCHED_STATUS</th>\n",
       "      <th>IMSI_MATCHED_UTILITY</th>\n",
       "      <th>IP_MATCHED_METER_NO</th>\n",
       "      <th>IP_MATCH_UDC_ID</th>\n",
       "      <th>IP_MATCHED_IP</th>\n",
       "      <th>IP_MATCHED_STATUS</th>\n",
       "      <th>IP_MATCHED_UTILITY</th>\n",
       "      <th>SIM SET CHECK STATUS</th>\n",
       "      <th>METER_SIM</th>\n",
       "      <th>METER_ORG</th>\n",
       "      <th>SIM_ORG</th>\n",
       "      <th>METER_IP</th>\n",
       "      <th>SIM SET CHECK STATUS RECHECK</th>\n",
       "      <th>ACTION TAKEN</th>\n",
       "      <th>NEW_METER_NUMBER</th>\n",
       "      <th>DUPLICATED</th>\n",
       "      <th>meter_sim_link_(M,S &amp; M-S)_single_file_data</th>\n",
       "      <th>sim_link_(M,S &amp; M-S)_single_file_data</th>\n",
       "    </tr>\n",
       "  </thead>\n",
       "  <tbody>\n",
       "  </tbody>\n",
       "</table>\n",
       "</div>"
      ],
      "text/plain": [
       "Empty DataFrame\n",
       "Columns: [SL NO, METER NO., PHASE, WAREHOUSE_UTILITY, WAREHOUSE_STATUS, MAKE, IME, FINAL SIM, IMSI, IP, MFG_SERIAL_NUM, METER_MATCH_UDC_ID, METER_MATCH_IP, INSTALLATIONNUMBER, METER_MATCH_STATUS, METER_MATCH_UTILITY, IMSI_MATCHED_METER_NO, IMSI_MATCHED_IP, IMSI_MATCHED_STATUS, IMSI_MATCHED_UTILITY, IP_MATCHED_METER_NO, IP_MATCH_UDC_ID, IP_MATCHED_IP, IP_MATCHED_STATUS, IP_MATCHED_UTILITY, SIM SET CHECK STATUS, METER_SIM, METER_ORG, SIM_ORG, METER_IP, SIM SET CHECK STATUS RECHECK, ACTION TAKEN, NEW_METER_NUMBER, DUPLICATED, meter_sim_link_(M,S & M-S)_single_file_data, sim_link_(M,S & M-S)_single_file_data]\n",
       "Index: []"
      ]
     },
     "execution_count": 135,
     "metadata": {},
     "output_type": "execute_result"
    }
   ],
   "source": [
    "CREATE_METER_SIM_AND_METER_SIM_LINK_FILE.head(1)"
   ]
  },
  {
   "cell_type": "markdown",
   "metadata": {},
   "source": [
    "### 1 PHASE"
   ]
  },
  {
   "cell_type": "code",
   "execution_count": 136,
   "metadata": {},
   "outputs": [],
   "source": [
    "def fun_meter_1_PHASE_GENUS_file(row):\n",
    "\n",
    "    return \"{};{};EP2PMeter;6_D1;SKM145-s2;GOE;2019;2019;DLMS;;;G36B7.145090;;;3G;;;;;{};4059;TCP;32;;;;1A2B3C4D;0;1;0;GOE_1PH_WC;1.0;{};{}\".format(row['NEW_METER_NUMBER'], row['METER NO.'],row['IME'],row['NEW_METER_NUMBER'],row['WAREHOUSE_UTILITY'])\n",
    "\n",
    "CREATE_METER_SIM_AND_METER_SIM_LINK_FILE_1_PHASE_GENUS['Meter_link_(M,S & M-S)_single_file_data'] = CREATE_METER_SIM_AND_METER_SIM_LINK_FILE_1_PHASE_GENUS.apply(fun_meter_1_PHASE_GENUS_file, axis=1)"
   ]
  },
  {
   "cell_type": "code",
   "execution_count": 137,
   "metadata": {},
   "outputs": [],
   "source": [
    "def fun_meter_1_PHASE_LNT_file(row):\n",
    "\n",
    "    return \"{};{};EP2PMeter;6_D1;AURORA;LNT;2021;2021;DLMS;;;RN13.00 00;;8;3G;;;;;{};4059;TCP;32;;;;lnt1;2;1;0;EESL_1PH_WC_V1;1.0;{};{}\".format(row['NEW_METER_NUMBER'], row['METER NO.'],row['IME'],row['NEW_METER_NUMBER'],row['WAREHOUSE_UTILITY'])\n",
    "\n",
    "CREATE_METER_SIM_AND_METER_SIM_LINK_FILE_1_PHASE_LNT['Meter_link_(M,S & M-S)_single_file_data'] = CREATE_METER_SIM_AND_METER_SIM_LINK_FILE_1_PHASE_LNT.apply(fun_meter_1_PHASE_LNT_file, axis=1)"
   ]
  },
  {
   "cell_type": "markdown",
   "metadata": {},
   "source": [
    "### 3 PHASE"
   ]
  },
  {
   "cell_type": "code",
   "execution_count": 138,
   "metadata": {},
   "outputs": [],
   "source": [
    "def fun_meter_3_PHASE_GENUS_file(row):\n",
    "\n",
    "    return \"{};{};EP2PMeter;7_D2;SKM345-s2;GOE;2019;2019;DLMS;;;GF6B7.325061;;;3G;;;;;{};4059;TCP;32;;;;1A2B3C4D;0;1;0;GOE_3PH_WC;1.0;{};{}\".format(row['NEW_METER_NUMBER'], row['METER NO.'],row['IME'],row['NEW_METER_NUMBER'],row['WAREHOUSE_UTILITY'])\n",
    "\n",
    "CREATE_METER_SIM_AND_METER_SIM_LINK_FILE_3_PHASE_GENUS['Meter_link_(M,S & M-S)_single_file_data'] = CREATE_METER_SIM_AND_METER_SIM_LINK_FILE_3_PHASE_GENUS.apply(fun_meter_3_PHASE_GENUS_file, axis=1)"
   ]
  },
  {
   "cell_type": "code",
   "execution_count": 139,
   "metadata": {},
   "outputs": [],
   "source": [
    "def fun_meter_3_PHASE_LNT_file(row):\n",
    "\n",
    "    return \"{};{};EP2PMeter;7_D2;REGOR;LNT;2021;2021;DLMS;;;3PBNC.82 01;;8;3G;;;;;{};4059;TCP;32;;;;lnt1;2;1;0;EESL_3PH_WC_V1;1.0;{};{}\".format(row['NEW_METER_NUMBER'], row['METER NO.'],row['IME'],row['NEW_METER_NUMBER'],row['WAREHOUSE_UTILITY'])\n",
    "\n",
    "CREATE_METER_SIM_AND_METER_SIM_LINK_FILE_3_PHASE_LNT['Meter_link_(M,S & M-S)_single_file_data'] = CREATE_METER_SIM_AND_METER_SIM_LINK_FILE_3_PHASE_LNT.apply(fun_meter_3_PHASE_LNT_file, axis=1)"
   ]
  },
  {
   "cell_type": "code",
   "execution_count": null,
   "metadata": {},
   "outputs": [],
   "source": []
  },
  {
   "cell_type": "markdown",
   "metadata": {},
   "source": [
    "#### concat file"
   ]
  },
  {
   "cell_type": "code",
   "execution_count": 140,
   "metadata": {},
   "outputs": [],
   "source": [
    "CREATE_METER_SIM_AND_METER_SIM_LINK_FILE_COCAT_ALL = pd.concat([CREATE_METER_SIM_AND_METER_SIM_LINK_FILE_1_PHASE_GENUS, CREATE_METER_SIM_AND_METER_SIM_LINK_FILE_1_PHASE_LNT,CREATE_METER_SIM_AND_METER_SIM_LINK_FILE_3_PHASE_GENUS,CREATE_METER_SIM_AND_METER_SIM_LINK_FILE_3_PHASE_LNT], ignore_index=True)"
   ]
  },
  {
   "cell_type": "code",
   "execution_count": 141,
   "metadata": {},
   "outputs": [],
   "source": [
    "CREATE_METER_SIM_AND_METER_SIM_LINK_FILE_COCAT_ALL.to_csv(r\"C:\\Users\\Ratan Kumar Jha\\Desktop\\METER_IMPORTATION_FOLDER\\CREATE_METER_SIM_AND_METER_SIM_LINK_FILE_COCAT_ALL.csv\",index=False)\n",
    "CREATE_METER_SIM_AND_METER_SIM_LINK_FILE.to_csv(r\"C:\\Users\\Ratan Kumar Jha\\Desktop\\METER_IMPORTATION_FOLDER\\CREATE_METER_SIM_AND_METER_SIM_LINK_FILE.csv\",index=False)"
   ]
  },
  {
   "cell_type": "code",
   "execution_count": null,
   "metadata": {},
   "outputs": [],
   "source": []
  },
  {
   "cell_type": "code",
   "execution_count": 142,
   "metadata": {},
   "outputs": [],
   "source": [
    "# assign :  CREATE_METER_SIM_AND_METER_SIM_LINK_FILE_COCAT_ALL  - to -   CREATE_METER_SIM_AND_METER_SIM_LINK_FILE\n",
    "\n",
    "CREATE_METER_SIM_AND_METER_SIM_LINK_FILE = CREATE_METER_SIM_AND_METER_SIM_LINK_FILE_COCAT_ALL"
   ]
  },
  {
   "cell_type": "code",
   "execution_count": null,
   "metadata": {},
   "outputs": [],
   "source": []
  },
  {
   "cell_type": "code",
   "execution_count": 143,
   "metadata": {},
   "outputs": [],
   "source": [
    "# SAVING METER-SIM LINK FILE TO OUTPUT LOCATION\n",
    "\n",
    "CREATE_METER_SIM_AND_METER_SIM_LINK_FILE.to_csv(r\"C:\\Users\\Ratan Kumar Jha\\Desktop\\METER_IMPORTATION_FOLDER\\OUTPUT_DATA_FILE\\CREATE_METER_SIM_AND_METER_SIM_LINK_FILE.csv\",index=False)\n",
    "CREATE_SIM_AND_METER_SIM_LINK_FILE.to_csv(r\"C:\\Users\\Ratan Kumar Jha\\Desktop\\METER_IMPORTATION_FOLDER\\OUTPUT_DATA_FILE\\CREATE_SIM_AND_METER_SIM_LINK_FILE.csv\",index=False)\n",
    "CREATE_METER_SIM_LINK_FILE.to_csv(r\"C:\\Users\\Ratan Kumar Jha\\Desktop\\METER_IMPORTATION_FOLDER\\OUTPUT_DATA_FILE\\CREATE_METER_SIM_LINK_FILE.csv\",index=False)"
   ]
  },
  {
   "cell_type": "code",
   "execution_count": null,
   "metadata": {},
   "outputs": [],
   "source": []
  },
  {
   "cell_type": "markdown",
   "metadata": {},
   "source": [
    "# CREATING A NEW DATA FRAME"
   ]
  },
  {
   "cell_type": "code",
   "execution_count": null,
   "metadata": {},
   "outputs": [],
   "source": []
  },
  {
   "cell_type": "markdown",
   "metadata": {},
   "source": [
    "#### WORKING ON METER-SIM LINK FILE "
   ]
  },
  {
   "cell_type": "code",
   "execution_count": null,
   "metadata": {},
   "outputs": [],
   "source": []
  },
  {
   "cell_type": "code",
   "execution_count": 144,
   "metadata": {},
   "outputs": [
    {
     "name": "stdout",
     "output_type": "stream",
     "text": [
      " meter_sim_link_M_S_AND_MS_LINK_file_df :  EMPTY DATA FRAME\n"
     ]
    }
   ],
   "source": [
    "# 1 \n",
    "# sim-meter link in meter,sim and meter-sim link file\n",
    "\n",
    "meter_sim_link_M_S_AND_MS_LINK_file_df = pd.DataFrame()\n",
    "meter_sim_link_M_S_AND_MS_LINK_file_df=CREATE_METER_SIM_AND_METER_SIM_LINK_FILE['meter_sim_link_(M,S & M-S)_single_file_data']\n",
    "if  not (meter_sim_link_M_S_AND_MS_LINK_file_df.empty):\n",
    "    meter_sim_link_M_S_AND_MS_LINK_file_df.to_csv(\"S_M_&_M_S_LINK_EESL_GENUS_PO0000000403_00000_SIM_Meter_Link.csv\",header=None,index=False)\n",
    "    EESL_GENUS_PO0000000403_00000_SIM_Meter_Link_M_S_AND_MS_LINK=pd.read_csv(r\"C:\\PYTHON\\EDF_CODE_AUTOMATION_PYTHON\\METER_MATCHING_DATA\\S_M_&_M_S_LINK_EESL_GENUS_PO0000000403_00000_SIM_Meter_Link.csv\",header=None)\n",
    "    EESL_GENUS_PO0000000403_00000_SIM_Meter_Link_M_S_AND_MS_LINK.head(1)\n",
    "else:\n",
    "    print(\" meter_sim_link_M_S_AND_MS_LINK_file_df :  EMPTY DATA FRAME\")\n"
   ]
  },
  {
   "cell_type": "code",
   "execution_count": 145,
   "metadata": {},
   "outputs": [],
   "source": [
    "# 2\n",
    "# sim-meter link in sim and meter-sim link file\n",
    "\n",
    "meter_sim_link_S_AND_MS_LINK_file_df = pd.DataFrame()\n",
    "meter_sim_link_S_AND_MS_LINK_file_df=CREATE_SIM_AND_METER_SIM_LINK_FILE['meter_sim_link_(S & M-S)_single_file_data']\n",
    "if  not (meter_sim_link_S_AND_MS_LINK_file_df.empty):\n",
    "    meter_sim_link_S_AND_MS_LINK_file_df.to_csv(\"S_&_M_S_LINK_EESL_GENUS_PO0000000403_00000_SIM_Meter_Link.csv\",header=None,index=False)\n",
    "    EESL_GENUS_PO0000000403_00000_SIM_Meter_Link_S_AND_MS_LINK=pd.read_csv(r\"C:\\PYTHON\\EDF_CODE_AUTOMATION_PYTHON\\METER_MATCHING_DATA\\S_&_M_S_LINK_EESL_GENUS_PO0000000403_00000_SIM_Meter_Link.csv\",header=None)\n",
    "    EESL_GENUS_PO0000000403_00000_SIM_Meter_Link_S_AND_MS_LINK.head(1)\n",
    "else:\n",
    "    print(\" meter_sim_link_S_AND_MS_LINK_file_df :  EMPTY DATA FRAME\")\n"
   ]
  },
  {
   "cell_type": "code",
   "execution_count": 146,
   "metadata": {},
   "outputs": [],
   "source": [
    "# 3\n",
    "# sim-meter link in meter-sim link file\n",
    "\n",
    "meter_sim_link_MS_LINK_file_df = pd.DataFrame()\n",
    "meter_sim_link_MS_LINK_file_df=CREATE_METER_SIM_LINK_FILE['meter_sim_link_(M-S)_single_file_data']\n",
    "if  not (meter_sim_link_MS_LINK_file_df.empty):\n",
    "    meter_sim_link_MS_LINK_file_df.to_csv(\"M_S_LINK_EESL_GENUS_PO0000000403_00000_SIM_Meter_Link.csv\",header=None,index=False)\n",
    "    EESL_GENUS_PO0000000403_00000_SIM_Meter_Link_MS_LINK=pd.read_csv(r\"C:\\PYTHON\\EDF_CODE_AUTOMATION_PYTHON\\METER_MATCHING_DATA\\M_S_LINK_EESL_GENUS_PO0000000403_00000_SIM_Meter_Link.csv\",header=None)\n",
    "    EESL_GENUS_PO0000000403_00000_SIM_Meter_Link_MS_LINK.head(1)\n",
    "else:\n",
    "    print(\" meter_sim_link_S_AND_MS_LINK_file_df :  EMPTY DATA FRAME\")\n"
   ]
  },
  {
   "cell_type": "code",
   "execution_count": null,
   "metadata": {},
   "outputs": [],
   "source": []
  },
  {
   "cell_type": "markdown",
   "metadata": {},
   "source": [
    "### working on sim link file"
   ]
  },
  {
   "cell_type": "code",
   "execution_count": null,
   "metadata": {},
   "outputs": [],
   "source": []
  },
  {
   "cell_type": "code",
   "execution_count": 147,
   "metadata": {},
   "outputs": [
    {
     "name": "stdout",
     "output_type": "stream",
     "text": [
      " sim_link_M_S_AND_MS_LINK_file_df :  EMPTY DATA FRAME\n"
     ]
    }
   ],
   "source": [
    "# 1\n",
    "# sim link file in meter,sim and meter-sim link file\n",
    "\n",
    "sim_link_M_S_AND_MS_LINK_file_df = pd.DataFrame()\n",
    "sim_link_M_S_AND_MS_LINK_file_df=CREATE_METER_SIM_AND_METER_SIM_LINK_FILE['sim_link_(M,S & M-S)_single_file_data'] \n",
    "if  not (sim_link_M_S_AND_MS_LINK_file_df.empty):\n",
    "    sim_link_M_S_AND_MS_LINK_file_df.to_csv(\"M_S_AND_MS_LINK_EESL_BSNL_PO0000000403_00000_SIM_Link.csv\",header=None,index=False)\n",
    "    EESL_BSNL_PO0000000403_00000_SIM_Link_S_M_AND_MS_LINK=pd.read_csv(r\"C:\\PYTHON\\EDF_CODE_AUTOMATION_PYTHON\\METER_MATCHING_DATA\\M_S_AND_MS_LINK_EESL_BSNL_PO0000000403_00000_SIM_Link.csv\",header=None)\n",
    "    EESL_BSNL_PO0000000403_00000_SIM_Link_S_M_AND_MS_LINK.head(1)\n",
    "else:\n",
    "    print(\" sim_link_M_S_AND_MS_LINK_file_df :  EMPTY DATA FRAME\")\n"
   ]
  },
  {
   "cell_type": "code",
   "execution_count": 148,
   "metadata": {},
   "outputs": [],
   "source": [
    "# 2 \n",
    "# sim link file in sim and meter-sim link file\n",
    "\n",
    "sim_link_S_AND_MS_LINK_file_df = pd.DataFrame()\n",
    "sim_link_S_AND_MS_LINK_file_df=CREATE_SIM_AND_METER_SIM_LINK_FILE['sim_link_(S & M-S)_single_file_data']\n",
    "if  not (sim_link_S_AND_MS_LINK_file_df.empty):\n",
    "    sim_link_S_AND_MS_LINK_file_df.to_csv(\"S_AND_MS_LINK_EESL_BSNL_PO0000000403_00000_SIM_Link.csv\",header=None,index=False)\n",
    "    EESL_BSNL_PO0000000403_00000_SIM_Link_S_AND_MS_LINK=pd.read_csv(r\"C:\\PYTHON\\EDF_CODE_AUTOMATION_PYTHON\\METER_MATCHING_DATA\\S_AND_MS_LINK_EESL_BSNL_PO0000000403_00000_SIM_Link.csv\",header=None)\n",
    "    EESL_BSNL_PO0000000403_00000_SIM_Link_S_AND_MS_LINK.head(1)\n",
    "else:\n",
    "    print(\" sim_link_S_AND_MS_LINK_file_df :  EMPTY DATA FRAME\")"
   ]
  },
  {
   "cell_type": "code",
   "execution_count": null,
   "metadata": {},
   "outputs": [],
   "source": []
  },
  {
   "cell_type": "markdown",
   "metadata": {},
   "source": [
    "### working on meter-link file"
   ]
  },
  {
   "cell_type": "code",
   "execution_count": 149,
   "metadata": {},
   "outputs": [
    {
     "name": "stdout",
     "output_type": "stream",
     "text": [
      " meter_link_M_S_AND_MS_LINK_file_df :  EMPTY DATA FRAME\n"
     ]
    }
   ],
   "source": [
    "# 1 \n",
    "# meter link in meter,sim and meter-sim link file\n",
    "\n",
    "meter_link_M_S_AND_MS_LINK_file_df = pd.DataFrame()\n",
    "meter_link_M_S_AND_MS_LINK_file_df=CREATE_METER_SIM_AND_METER_SIM_LINK_FILE['Meter_link_(M,S & M-S)_single_file_data']\n",
    "if  not (meter_link_M_S_AND_MS_LINK_file_df.empty):\n",
    "    meter_link_M_S_AND_MS_LINK_file_df.to_csv(\"S_M_&_M_S_LINK_EESL_GENUS_PO0000000403_00000_EP2PMeter_Meter_Link.csv\",header=None,index=False)\n",
    "    EESL_GENUS_PO0000000403_00000_EP2PMeter_SBPDCL_Meter_Link_M_S_AND_MS_LINK=pd.read_csv(r\"C:\\PYTHON\\EDF_CODE_AUTOMATION_PYTHON\\METER_MATCHING_DATA\\S_M_&_M_S_LINK_EESL_GENUS_PO0000000403_00000_EP2PMeter_Meter_Link.csv\",header=None)\n",
    "    EESL_GENUS_PO0000000403_00000_EP2PMeter_SBPDCL_Meter_Link_M_S_AND_MS_LINK.head(1)\n",
    "else:\n",
    "    print(\" meter_link_M_S_AND_MS_LINK_file_df :  EMPTY DATA FRAME\")"
   ]
  },
  {
   "cell_type": "code",
   "execution_count": 150,
   "metadata": {},
   "outputs": [
    {
     "name": "stdout",
     "output_type": "stream",
     "text": [
      "CREATE_METER_SIM_AND_METER_SIM_LINK_FILE_COCAT_ALL: -   shape: - 0\n",
      "CREATE_METER_SIM_AND_METER_SIM_LINK_FILE: -   shape: - 0\n"
     ]
    }
   ],
   "source": [
    "print(f\"CREATE_METER_SIM_AND_METER_SIM_LINK_FILE_COCAT_ALL: -   shape: - {CREATE_METER_SIM_AND_METER_SIM_LINK_FILE_COCAT_ALL.shape[0]}\")\n",
    "print(f\"CREATE_METER_SIM_AND_METER_SIM_LINK_FILE: -   shape: - {CREATE_METER_SIM_AND_METER_SIM_LINK_FILE.shape[0]}\")\n"
   ]
  },
  {
   "cell_type": "code",
   "execution_count": null,
   "metadata": {},
   "outputs": [],
   "source": []
  },
  {
   "cell_type": "code",
   "execution_count": null,
   "metadata": {},
   "outputs": [],
   "source": []
  },
  {
   "cell_type": "code",
   "execution_count": null,
   "metadata": {},
   "outputs": [],
   "source": []
  },
  {
   "cell_type": "code",
   "execution_count": 151,
   "metadata": {},
   "outputs": [
    {
     "data": {
      "text/plain": [
       "'\\nnew_df_check = EESL_GENUS_PO0000000403_00000_EP2PMeter_SBPDCL_Meter_Link_M_S_AND_MS_LINK.loc[2]\\n#print(f\"len of new_df_check: {new_df_check}\")\\na=\\';\\'\\nword=\"\"\\nfor i in new_df_check:\\n    print(i)\\n    for j in i:\\n        word=word+j\\n        if a in j:\\n            #print(a)\\n            #print(f\"word is : {word}\")\\n            word=\"\"\\n            #print(\"semicolon is here\")\\nprint(f\"last word is : {word}\")\\n\\n\\n'"
      ]
     },
     "execution_count": 151,
     "metadata": {},
     "output_type": "execute_result"
    }
   ],
   "source": [
    "\"\"\"\n",
    "new_df_check = EESL_GENUS_PO0000000403_00000_EP2PMeter_SBPDCL_Meter_Link_M_S_AND_MS_LINK.loc[2]\n",
    "#print(f\"len of new_df_check: {new_df_check}\")\n",
    "a=';'\n",
    "word=\"\"\n",
    "for i in new_df_check:\n",
    "    print(i)\n",
    "    for j in i:\n",
    "        word=word+j\n",
    "        if a in j:\n",
    "            #print(a)\n",
    "            #print(f\"word is : {word}\")\n",
    "            word=\"\"\n",
    "            #print(\"semicolon is here\")\n",
    "print(f\"last word is : {word}\")\n",
    "\n",
    "\n",
    "\"\"\""
   ]
  },
  {
   "cell_type": "code",
   "execution_count": null,
   "metadata": {},
   "outputs": [],
   "source": []
  },
  {
   "cell_type": "code",
   "execution_count": null,
   "metadata": {},
   "outputs": [],
   "source": []
  },
  {
   "cell_type": "markdown",
   "metadata": {},
   "source": [
    "### funciton for del and create the  folder on particular path\n"
   ]
  },
  {
   "cell_type": "code",
   "execution_count": null,
   "metadata": {},
   "outputs": [],
   "source": []
  },
  {
   "cell_type": "code",
   "execution_count": 152,
   "metadata": {},
   "outputs": [
    {
     "name": "stdout",
     "output_type": "stream",
     "text": [
      "Folder at  deleted successfully.\n",
      "Folder at  created successfully.\n"
     ]
    }
   ],
   "source": [
    "def folder_del_create(file_path):\n",
    "    if os.path.exists(file_path):\n",
    "        try:\n",
    "            # Delete the folder and its contents\n",
    "            shutil.rmtree(file_path)\n",
    "            os.makedirs(file_path)\n",
    "            print( \"Folder at  deleted successfully.\")\n",
    "            print( \"Folder at  created successfully.\")\n",
    "        except Exception as e:\n",
    "            print(f\"Error deleting folder: {e}\")\n",
    "\n",
    "\n",
    "#  METER,SIM AND METER-SIM LINK\n",
    "M_S_AND_MS_MSLINK_FILE = r'C:\\Users\\Ratan Kumar Jha\\Desktop\\METER_IMPORTATION_FOLDER\\SINGLE_ROW_DATA_OUTPUT\\METER,SIM AND METER-SIM LINK\\METER-SIM_LINK_FILE'\n",
    "M_S_AND_MS_M_FILE = r'C:\\Users\\Ratan Kumar Jha\\Desktop\\METER_IMPORTATION_FOLDER\\SINGLE_ROW_DATA_OUTPUT\\METER,SIM AND METER-SIM LINK\\METER_FILE'\n",
    "M_S_AND_MS_S_FILE =r'C:\\Users\\Ratan Kumar Jha\\Desktop\\METER_IMPORTATION_FOLDER\\SINGLE_ROW_DATA_OUTPUT\\METER,SIM AND METER-SIM LINK\\SIM_FILE'\n",
    "\n",
    "#\n",
    "S_AND_MSLINK_MSLINK_FILE =r'C:\\Users\\Ratan Kumar Jha\\Desktop\\METER_IMPORTATION_FOLDER\\SINGLE_ROW_DATA_OUTPUT\\SIM AND METER-SIM LINK FILE\\METER-SIM_LINK_FILE'\n",
    "S_AND_MSLINK_S_FILE =r'C:\\Users\\Ratan Kumar Jha\\Desktop\\METER_IMPORTATION_FOLDER\\SINGLE_ROW_DATA_OUTPUT\\SIM AND METER-SIM LINK FILE\\SIM_FILE'\n",
    "\n",
    "#METER-SIM LINK\n",
    "MS_AND_MS_MSLINK_FILE=r'C:\\Users\\Ratan Kumar Jha\\Desktop\\METER_IMPORTATION_FOLDER\\SINGLE_ROW_DATA_OUTPUT\\METER-SIM LINK\\METER-SIM_LINK_FILE'\n",
    "\n",
    "folder_del_create(M_S_AND_MS_MSLINK_FILE)"
   ]
  },
  {
   "cell_type": "code",
   "execution_count": 153,
   "metadata": {},
   "outputs": [
    {
     "name": "stdout",
     "output_type": "stream",
     "text": [
      "Folder at  deleted successfully.\n",
      "Folder at  created successfully.\n",
      "Folder at  deleted successfully.\n",
      "Folder at  created successfully.\n",
      "Folder at  deleted successfully.\n",
      "Folder at  created successfully.\n",
      "Folder at  deleted successfully.\n",
      "Folder at  created successfully.\n",
      "Folder at  deleted successfully.\n",
      "Folder at  created successfully.\n",
      "Folder at  deleted successfully.\n",
      "Folder at  created successfully.\n"
     ]
    }
   ],
   "source": [
    "folder_del_create(M_S_AND_MS_MSLINK_FILE)\n",
    "folder_del_create(M_S_AND_MS_M_FILE)\n",
    "folder_del_create(M_S_AND_MS_S_FILE)\n",
    "\n",
    "folder_del_create(S_AND_MSLINK_MSLINK_FILE)\n",
    "folder_del_create(S_AND_MSLINK_S_FILE)\n",
    "\n",
    "\n",
    "folder_del_create(MS_AND_MS_MSLINK_FILE)"
   ]
  },
  {
   "cell_type": "code",
   "execution_count": null,
   "metadata": {},
   "outputs": [],
   "source": []
  },
  {
   "cell_type": "code",
   "execution_count": null,
   "metadata": {},
   "outputs": [],
   "source": []
  },
  {
   "cell_type": "markdown",
   "metadata": {},
   "source": [
    "# function for generate single file"
   ]
  },
  {
   "cell_type": "code",
   "execution_count": 154,
   "metadata": {},
   "outputs": [],
   "source": [
    "def generate_sim_meter_link_each_row_file(df_file_path,base_path,new_folder_name, generated_file_name_prefix, generated_file_name_suffix):\n",
    "    data_frame_concat_data = pd.read_csv(df_file_path, header=None)\n",
    "\n",
    "    # base_path = r'C:\\Users\\Ratan Kumar Jha\\Desktop\\METER_IMPORTATION_FOLDER\\SINGLE_ROW_DATA_OUTPUT\\METER,SIM AND METER-SIM LINK\\METER-SIM_LINK_FILE'\n",
    "\n",
    "    num_folder = 0\n",
    "    k = 100\n",
    "    # new_folder_name = \"EESL_GENUS_SINGLE_METER\"\n",
    "\n",
    "    new_folder_path = os.path.join(base_path, new_folder_name)\n",
    "    os.makedirs(new_folder_path)\n",
    "\n",
    "    # CURRENT_TIME_STAMP = datetime.now().strftime('%Y%m%d_%H%M%S')\n",
    "\n",
    "    # Iterate through each row and save it as a separate file\n",
    "    for index, row in data_frame_concat_data.iterrows():\n",
    "        \n",
    "        # Create a new DataFrame with the current row\n",
    "        single_row_df = pd.DataFrame([row])\n",
    "        #print(f\"single_row_data : {single_row_df}\")\n",
    "        last_part_after_semicolon = row[0].rsplit(';', 1)[-1]\n",
    "        #print(f\"last_word : {last_part_after_semicolon}\")\n",
    "\n",
    "\n",
    "        CURRENT_TIME_STAMP = datetime.now().strftime('%Y%m%d_%H%M%S')\n",
    "        #print(CURRENT_TIME_STAMP)\n",
    "        \n",
    "        #print(k)\n",
    "        #print(\"-----------------\")\n",
    "        \n",
    "        # Create the full path for the new folder\n",
    "\n",
    "        if k > 995:\n",
    "            k = 100\n",
    "            final_new_folder_name = new_folder_name\n",
    "            num_folder = num_folder + 1\n",
    "            final_new_folder_name = new_folder_name + \"_\" + str(num_folder)\n",
    "            new_folder_path = os.path.join(base_path, final_new_folder_name)\n",
    "            os.makedirs(new_folder_path)\n",
    "        else:\n",
    "            file_name = generated_file_name_prefix + str(k) + generated_file_name_suffix + str(CURRENT_TIME_STAMP) + \"_\" + str(last_part_after_semicolon) + \".csv\"\n",
    "            #print(f\"file name is {file_name}\")\n",
    "            file_path = os.path.join(new_folder_path, file_name)\n",
    "            #single_row_df.to_csv(r\"C:\\Users\\Ratan Kumar Jha\\Desktop\\satyam_data\\single_file_data\\file_name\", index=False, header=False) \n",
    "            single_row_df.to_csv(file_path, index=False, header=False)\n",
    "            k=k+1\n",
    "\n",
    "        \n",
    "    print(\"METER-SIM LINK FILE DONE\")\n"
   ]
  },
  {
   "cell_type": "code",
   "execution_count": 155,
   "metadata": {},
   "outputs": [],
   "source": [
    "# METER-SIM LINK\n",
    "\n",
    "# 1. EESL_GENUS_PO0000000{k}_00000_SIM_Meter_Link_{CURRENT_TIME_STAMP}_{utility}.csv\n",
    "\n",
    "\n",
    "# SIM LINK FILE\n",
    "\n",
    "# 2.  EESL_BSNL_PO0000000{k}_00000_SIM_Meter_Link_{CURRENT_TIME_STAMP}_{utility}.csv\n",
    "# 3.  EESL_GENUS_PO0000000{k}_00000_SIM_{CURRENT_TIME_STAMP}_{utility}.csv\n",
    "\n",
    "# METER FILE\n",
    "\n",
    "# 4. EESL_GENUS_PO0000000{K}_00000_EP2PMeter_{CURRENT_TIME_STAMP}_{utility}.csv"
   ]
  },
  {
   "cell_type": "code",
   "execution_count": 156,
   "metadata": {},
   "outputs": [
    {
     "name": "stdout",
     "output_type": "stream",
     "text": [
      "An error occurred while executing the function:\n"
     ]
    }
   ],
   "source": [
    "\n",
    "# SIM-Meter link file for all the three action taken...\n",
    "\n",
    "# METER,SIM AND METER-SIM LINK  ----  METER-SIM_LINK_FILE\n",
    "df_file_path =r\"C:\\PYTHON\\EDF_CODE_AUTOMATION_PYTHON\\METER_MATCHING_DATA\\S_M_&_M_S_LINK_EESL_GENUS_PO0000000403_00000_SIM_Meter_Link.csv\"\n",
    "base_path = r'C:\\Users\\Ratan Kumar Jha\\Desktop\\METER_IMPORTATION_FOLDER\\SINGLE_ROW_DATA_OUTPUT\\METER,SIM AND METER-SIM LINK\\METER-SIM_LINK_FILE'\n",
    "new_folder_name = 'EESL_GENUS_SINGLE_METER'\n",
    "generated_file_name_prefix = 'EESL_GENUS_PO0000000'\n",
    "generated_file_name_suffix = '_00000_SIM_Meter_Link_'\n",
    "\n",
    "\n",
    "try:\n",
    "    generate_sim_meter_link_each_row_file(df_file_path,base_path,new_folder_name, generated_file_name_prefix, generated_file_name_suffix)\n",
    "except Exception as e:\n",
    "    # If an error occurs, print a custom message\n",
    "    print(\"An error occurred while executing the function:\")\n"
   ]
  },
  {
   "cell_type": "code",
   "execution_count": 157,
   "metadata": {},
   "outputs": [
    {
     "name": "stdout",
     "output_type": "stream",
     "text": [
      "METER-SIM LINK FILE DONE\n"
     ]
    }
   ],
   "source": [
    "\n",
    "#change the df file path\n",
    "#  SIM AND METER-SIM LINK FILE\\METER-SIM_LINK_FILE\n",
    "\n",
    "\n",
    "df_file_path = r\"C:\\PYTHON\\EDF_CODE_AUTOMATION_PYTHON\\METER_MATCHING_DATA\\S_&_M_S_LINK_EESL_GENUS_PO0000000403_00000_SIM_Meter_Link.csv\"\n",
    "base_path = r'C:\\Users\\Ratan Kumar Jha\\Desktop\\METER_IMPORTATION_FOLDER\\SINGLE_ROW_DATA_OUTPUT\\SIM AND METER-SIM LINK FILE\\METER-SIM_LINK_FILE'\n",
    "new_folder_name = 'EESL_GENUS_SINGLE_METER'\n",
    "generated_file_name_prefix = 'EESL_GENUS_PO0000000'\n",
    "generated_file_name_suffix = '_00000_SIM_Meter_Link_'\n",
    "\n",
    "\n",
    "try:\n",
    "    generate_sim_meter_link_each_row_file(df_file_path,base_path,new_folder_name, generated_file_name_prefix, generated_file_name_suffix)\n",
    "except Exception as e:\n",
    "    # If an error occurs, print a custom message\n",
    "    print(\"An error occurred while executing the function:\")"
   ]
  },
  {
   "cell_type": "code",
   "execution_count": 158,
   "metadata": {},
   "outputs": [
    {
     "name": "stdout",
     "output_type": "stream",
     "text": [
      "METER-SIM LINK FILE DONE\n"
     ]
    }
   ],
   "source": [
    "\n",
    "\n",
    "#change the df file path\n",
    "\n",
    "# METER-SIM LINK\\METER-SIM_LINK_FILE\n",
    "\n",
    "df_file_path = r\"C:\\PYTHON\\EDF_CODE_AUTOMATION_PYTHON\\METER_MATCHING_DATA\\M_S_LINK_EESL_GENUS_PO0000000403_00000_SIM_Meter_Link.csv\"\n",
    "base_path = r'C:\\Users\\Ratan Kumar Jha\\Desktop\\METER_IMPORTATION_FOLDER\\SINGLE_ROW_DATA_OUTPUT\\METER-SIM LINK\\METER-SIM_LINK_FILE'\n",
    "new_folder_name = 'EESL_GENUS_SINGLE_METER'\n",
    "generated_file_name_prefix = 'EESL_GENUS_PO0000000'\n",
    "generated_file_name_suffix = '_00000_SIM_Meter_Link_'\n",
    "\n",
    "\n",
    "try:\n",
    "    generate_sim_meter_link_each_row_file(df_file_path,base_path,new_folder_name, generated_file_name_prefix, generated_file_name_suffix)\n",
    "except Exception as e:\n",
    "    # If an error occurs, print a custom message\n",
    "    print(\"An error occurred while executing the function:\")"
   ]
  },
  {
   "cell_type": "code",
   "execution_count": null,
   "metadata": {},
   "outputs": [],
   "source": []
  },
  {
   "cell_type": "code",
   "execution_count": null,
   "metadata": {},
   "outputs": [],
   "source": []
  },
  {
   "cell_type": "code",
   "execution_count": 159,
   "metadata": {},
   "outputs": [],
   "source": [
    "# function for sim file "
   ]
  },
  {
   "cell_type": "code",
   "execution_count": 160,
   "metadata": {},
   "outputs": [
    {
     "name": "stdout",
     "output_type": "stream",
     "text": [
      "An error occurred while executing the function:\n"
     ]
    }
   ],
   "source": [
    "\n",
    "\n",
    "#change the df file path\n",
    "\n",
    "# METER-SIM LINK\\METER-SIM_LINK_FILE\n",
    "\n",
    "df_file_path = r\"C:\\PYTHON\\EDF_CODE_AUTOMATION_PYTHON\\METER_MATCHING_DATA\\M_S_AND_MS_LINK_EESL_BSNL_PO0000000403_00000_SIM_Link.csv\"\n",
    "base_path = r'C:\\Users\\Ratan Kumar Jha\\Desktop\\METER_IMPORTATION_FOLDER\\SINGLE_ROW_DATA_OUTPUT\\METER,SIM AND METER-SIM LINK\\SIM_FILE'\n",
    "new_folder_name = 'EESL_BSNL_SINGLE_METER'\n",
    "generated_file_name_prefix = 'EESL_BSNL_PO0000000'\n",
    "generated_file_name_suffix = '_00000_SIM_Meter_Link_'\n",
    "\n",
    "\n",
    "try:\n",
    "    generate_sim_meter_link_each_row_file(df_file_path,base_path,new_folder_name, generated_file_name_prefix, generated_file_name_suffix)\n",
    "except Exception as e:\n",
    "    # If an error occurs, print a custom message\n",
    "    print(\"An error occurred while executing the function:\")"
   ]
  },
  {
   "cell_type": "code",
   "execution_count": 161,
   "metadata": {},
   "outputs": [
    {
     "name": "stdout",
     "output_type": "stream",
     "text": [
      "METER-SIM LINK FILE DONE\n"
     ]
    }
   ],
   "source": [
    "\n",
    "\n",
    "#change the df file path\n",
    "\n",
    "# METER-SIM LINK\\METER-SIM_LINK_FILE\n",
    "\n",
    "df_file_path = r\"C:\\PYTHON\\EDF_CODE_AUTOMATION_PYTHON\\METER_MATCHING_DATA\\S_AND_MS_LINK_EESL_BSNL_PO0000000403_00000_SIM_Link.csv\"\n",
    "base_path = r'C:\\Users\\Ratan Kumar Jha\\Desktop\\METER_IMPORTATION_FOLDER\\SINGLE_ROW_DATA_OUTPUT\\SIM AND METER-SIM LINK FILE\\SIM_FILE'\n",
    "new_folder_name = 'EESL_BSNL_SINGLE_METER'\n",
    "generated_file_name_prefix = 'EESL_GENUS_PO0000000'\n",
    "generated_file_name_suffix = '_00000_SIM_'\n",
    "\n",
    "\n",
    "try:\n",
    "    generate_sim_meter_link_each_row_file(df_file_path,base_path,new_folder_name, generated_file_name_prefix, generated_file_name_suffix)\n",
    "except Exception as e:\n",
    "    # If an error occurs, print a custom message\n",
    "    print(\"An error occurred while executing the function:\")"
   ]
  },
  {
   "cell_type": "code",
   "execution_count": 162,
   "metadata": {},
   "outputs": [
    {
     "name": "stdout",
     "output_type": "stream",
     "text": [
      "An error occurred while executing the function:\n"
     ]
    }
   ],
   "source": [
    "# meter file function\n",
    "\n",
    "\n",
    "# METER,SIM AND METER-SIM LINK  ----  METER_LINK_FILE\n",
    "df_file_path =r\"C:\\PYTHON\\EDF_CODE_AUTOMATION_PYTHON\\METER_MATCHING_DATA\\S_M_&_M_S_LINK_EESL_GENUS_PO0000000403_00000_EP2PMeter_Meter_Link.csv\"\n",
    "base_path = r'C:\\Users\\Ratan Kumar Jha\\Desktop\\METER_IMPORTATION_FOLDER\\SINGLE_ROW_DATA_OUTPUT\\METER,SIM AND METER-SIM LINK\\METER_FILE'\n",
    "new_folder_name = 'EESL_GENUS_SINGLE_METER'\n",
    "generated_file_name_prefix = 'EESL_GENUS_PO0000000'\n",
    "generated_file_name_suffix = '_00000_EP2PMeter_'\n",
    "\n",
    "\n",
    "\n",
    "try:\n",
    "    generate_sim_meter_link_each_row_file(df_file_path,base_path,new_folder_name, generated_file_name_prefix, generated_file_name_suffix)\n",
    "except Exception as e:\n",
    "    # If an error occurs, print a custom message\n",
    "    print(\"An error occurred while executing the function:\")"
   ]
  },
  {
   "cell_type": "code",
   "execution_count": null,
   "metadata": {},
   "outputs": [],
   "source": []
  },
  {
   "cell_type": "code",
   "execution_count": null,
   "metadata": {},
   "outputs": [],
   "source": []
  },
  {
   "cell_type": "code",
   "execution_count": 163,
   "metadata": {},
   "outputs": [],
   "source": [
    "#EESL_BSNL_PO0000000402_00000_SIM_20231220_121002_SBPDCL\n",
    "#404751250004001;8991759065212004001;fd00:0000:0800:CC19:0000:0000:0000:0001;;BSNLEDF;ACTIVE;SBPDCL"
   ]
  },
  {
   "cell_type": "code",
   "execution_count": 164,
   "metadata": {},
   "outputs": [
    {
     "name": "stdout",
     "output_type": "stream",
     "text": [
      "Zip file created at: C:\\Users\\Ratan Kumar Jha\\Desktop\\METER_IMPORTATION_FOLDER\\METER_IMPORTATION_ZIMP_FILE.zip\n"
     ]
    }
   ],
   "source": [
    "import shutil\n",
    "\n",
    "# Specify the folder path\n",
    "folder_path = r'C:\\Users\\Ratan Kumar Jha\\Desktop\\METER_IMPORTATION_FOLDER'\n",
    "\n",
    "# Specify the output zip file path\n",
    "output_zip_path = r'C:\\Users\\Ratan Kumar Jha\\Desktop\\METER_IMPORTATION_FOLDER\\METER_IMPORTATION_ZIMP_FILE.zip'\n",
    "\n",
    "# Create a zip file from the folder\n",
    "shutil.make_archive(output_zip_path, 'zip', folder_path)\n",
    "\n",
    "print(f\"Zip file created at: {output_zip_path}\")\n"
   ]
  },
  {
   "cell_type": "code",
   "execution_count": null,
   "metadata": {},
   "outputs": [],
   "source": []
  },
  {
   "cell_type": "code",
   "execution_count": null,
   "metadata": {},
   "outputs": [],
   "source": []
  },
  {
   "cell_type": "code",
   "execution_count": 165,
   "metadata": {},
   "outputs": [
    {
     "ename": "SyntaxError",
     "evalue": "invalid syntax (4184175093.py, line 1)",
     "output_type": "error",
     "traceback": [
      "\u001b[1;36m  Cell \u001b[1;32mIn[165], line 1\u001b[1;36m\u001b[0m\n\u001b[1;33m    THE END LETS CHECK\u001b[0m\n\u001b[1;37m        ^\u001b[0m\n\u001b[1;31mSyntaxError\u001b[0m\u001b[1;31m:\u001b[0m invalid syntax\n"
     ]
    }
   ],
   "source": [
    "  THE END LETS CHECK"
   ]
  },
  {
   "cell_type": "code",
   "execution_count": null,
   "metadata": {},
   "outputs": [
    {
     "ename": "",
     "evalue": "",
     "output_type": "error",
     "traceback": [
      "\u001b[1;31mThe kernel failed to start due to the missing module 'dotenv'. Consider installing this module.\n",
      "\u001b[1;31mClick <a href='https://aka.ms/kernelFailuresMissingModule'>here</a> for more info.\n",
      "\u001b[1;31mSome of the following files found in the working directory may have prevented the Kernel from starting. Consider renaming them.\n",
      "\u001b[1;31mFile(s): <a href='file:///c%3A/PYTHON/EDF_CODE_AUTOMATION_PYTHON/METER_MATCHING_DATA/code.py?line=1'>~\\code.py</a> might need to be renamed.\n",
      "\u001b[1;31mClick <a href='https://aka.ms/JupyterKernelStartFailureOverrideReservedName'>here</a> for more info."
     ]
    }
   ],
   "source": []
  },
  {
   "cell_type": "code",
   "execution_count": null,
   "metadata": {},
   "outputs": [
    {
     "ename": "",
     "evalue": "",
     "output_type": "error",
     "traceback": [
      "\u001b[1;31mThe kernel failed to start due to the missing module 'dotenv'. Consider installing this module.\n",
      "\u001b[1;31mClick <a href='https://aka.ms/kernelFailuresMissingModule'>here</a> for more info.\n",
      "\u001b[1;31mSome of the following files found in the working directory may have prevented the Kernel from starting. Consider renaming them.\n",
      "\u001b[1;31mFile(s): <a href='file:///c%3A/PYTHON/EDF_CODE_AUTOMATION_PYTHON/METER_MATCHING_DATA/code.py?line=1'>~\\code.py</a> might need to be renamed.\n",
      "\u001b[1;31mClick <a href='https://aka.ms/JupyterKernelStartFailureOverrideReservedName'>here</a> for more info."
     ]
    }
   ],
   "source": []
  },
  {
   "cell_type": "markdown",
   "metadata": {},
   "source": [
    "# XML CODE"
   ]
  },
  {
   "cell_type": "code",
   "execution_count": null,
   "metadata": {},
   "outputs": [
    {
     "ename": "",
     "evalue": "",
     "output_type": "error",
     "traceback": [
      "\u001b[1;31mThe kernel failed to start due to the missing module 'dotenv'. Consider installing this module.\n",
      "\u001b[1;31mClick <a href='https://aka.ms/kernelFailuresMissingModule'>here</a> for more info.\n",
      "\u001b[1;31mSome of the following files found in the working directory may have prevented the Kernel from starting. Consider renaming them.\n",
      "\u001b[1;31mFile(s): <a href='file:///c%3A/PYTHON/EDF_CODE_AUTOMATION_PYTHON/METER_MATCHING_DATA/code.py?line=1'>~\\code.py</a> might need to be renamed.\n",
      "\u001b[1;31mClick <a href='https://aka.ms/JupyterKernelStartFailureOverrideReservedName'>here</a> for more info."
     ]
    }
   ],
   "source": [
    "import xml.etree.ElementTree as ET\n",
    "from datetime import datetime\n",
    "def get_current_date():\n",
    "    return datetime.now().strftime(\"%Y-%m-%d\")\n",
    "for index,rows in EESL_GENUS_PO0000000403_00000_EP2PMeter_SBPDCL_Meter_Link_M_S_AND_MS_LINK.iterrows():\n",
    "    semicolon_split = rows[0].split(';')\n",
    "    CURRENT_TIME_STAMP = datetime.now().strftime('%Y-%m-%dT%H:%M:%S')\n",
    "    if semicolon_split[3] == '6_D1':\n",
    "        csv_data = [\n",
    "            {\"verb\": \"SDPSync\", \"noun\": \"SDPSync\", \"revision\": \"1\", \"dateTime\": CURRENT_TIME_STAMP, \"source\": \"CIS\", \"messageID\": \"MESSAGE-10001\", \"asyncReplyTo\": \"none\", \"syncMode\": \"sync\", \"optimizationLevel\": \"Optimistic\"},\n",
    "            {\"mRID\": semicolon_split[0], \"className\": \"EP2PMeter\", \"type\": \"Meter\", \"virtualInd\": \"N\", \"description\": \"Meter Description\", \"model\": semicolon_split[4], \"manufacturedDate\": semicolon_split[6], \"mfgSerialNumber\": semicolon_split[1], \"testDate\": semicolon_split[6], \"status\": \"Meter Shop\", \"commTechnology\": \"3G\", \"badgeId\": semicolon_split[0], \"sandardId\": semicolon_split[0], \"electronicId\": semicolon_split[0], \"make\": semicolon_split[5], \"deviceFunctionType\": \"N\", \"utility_id\": semicolon_split[-1]},\n",
    "            {\"name\": \"Phase Type\", \"value\": \"1\", \"startDate\": get_current_date()},\n",
    "            {\"name\": \"Device Protocol\", \"value\": \"DLMS\", \"startDate\": get_current_date()},\n",
    "            {\"name\": \"Firmware Version\", \"value\": semicolon_split[11], \"startDate\": get_current_date()},\n",
    "            {\"name\": \"DLMS Port\", \"value\": \"4059\", \"startDate\": get_current_date()}\n",
    "        ]\n",
    "    else:\n",
    "        csv_data = [\n",
    "            {\"verb\": \"SDPSync\", \"noun\": \"SDPSync\", \"revision\": \"1\", \"dateTime\": CURRENT_TIME_STAMP, \"source\": \"CIS\", \"messageID\": \"MESSAGE-10001\", \"asyncReplyTo\": \"none\", \"syncMode\": \"sync\", \"optimizationLevel\": \"Optimistic\"},\n",
    "            {\"mRID\": semicolon_split[0], \"className\": \"EP2PMeter\", \"type\": \"Meter\", \"virtualInd\": \"N\", \"description\": \"Meter Description\", \"model\": semicolon_split[4], \"manufacturedDate\": semicolon_split[6], \"mfgSerialNumber\": semicolon_split[1], \"testDate\": semicolon_split[6], \"status\": \"Meter Shop\", \"commTechnology\": \"3G\", \"badgeId\": semicolon_split[0], \"sandardId\": semicolon_split[0], \"electronicId\": semicolon_split[0], \"make\": semicolon_split[5], \"deviceFunctionType\": \"N\", \"utility_id\": semicolon_split[-1]},\n",
    "            {\"name\": \"Phase Type\", \"value\": \"3\", \"startDate\": get_current_date()},\n",
    "            {\"name\": \"Device Protocol\", \"value\": \"DLMS\", \"startDate\": get_current_date()},\n",
    "            {\"name\": \"Firmware Version\", \"value\": semicolon_split[11], \"startDate\": get_current_date()},\n",
    "            {\"name\": \"DLMS Port\", \"value\": \"4059\", \"startDate\": get_current_date()}\n",
    "        ]\n",
    "\n",
    "    # Start building the XML string\n",
    "    xml_string = '<SDPSyncMessage xmlns=\"http://www.emeter.com/energyip/syncinterface/v8\" xmlns:xsi=\"http://www.w3.org/2001/XMLSchema-instance\">\\n'\n",
    "\n",
    "    # Loop through the data and append to the XML string\n",
    "    for row in csv_data:\n",
    "        \n",
    "        if row.get(\"verb\"):\n",
    "            xml_string += '    <header>\\n'\n",
    "        elif row.get(\"mRID\"):\n",
    "            xml_string += '    <payload>\\n        <device>\\n'\n",
    "        elif row.get(\"name\"):\n",
    "            xml_string += '            <parameter>\\n'\n",
    "        else:\n",
    "            xml_string += '    <payload>\\n        <device>\\n'\n",
    "        \n",
    "        for key, value in row.items():\n",
    "            if key != \"verb\" and key != \"mRID\" and key != \"name\":\n",
    "                if key != \"value\" and key != \"startDate\":\n",
    "                    xml_string += f'            <{key}>{value}</{key}>\\n'\n",
    "                else:\n",
    "                    xml_string += f'                <{key}>{value}</{key}>\\n'\n",
    "            elif key == \"value\" and key == \"\":\n",
    "                xml_string += f'                <{key}>{value}</{key}>\\n'\n",
    "            elif key == \"verb\":\n",
    "                xml_string += f'            <{key}>{value}</{key}>\\n'\n",
    "            elif key == \"mRID\":\n",
    "                xml_string += f'            <{key}>{value}</{key}>\\n'\n",
    "            elif key == \"name\":\n",
    "                xml_string += f'                <{key}>{value}</{key}>\\n'\n",
    "\n",
    "\n",
    "\n",
    "        if row.get(\"verb\"):\n",
    "            xml_string += '    </header>\\n'\n",
    "        elif row.get(\"name\"):\n",
    "            xml_string += '            </parameter>\\n'\n",
    "        #else:\n",
    "            #xml_string += '        </device>\\n    </payload>\\n'\n",
    "\n",
    "    # Close the root element\n",
    "    xml_string += '         </device>\\n     </payload>\\n</SDPSyncMessage>'\n",
    "\n",
    "    # Print the XML string for verification\n",
    "    print(xml_string)\n",
    "    # Save the XML string to a file\n",
    "    with open('output.xml', 'w') as file:\n",
    "        file.write(xml_string)\n",
    "\n",
    "    # Print a message indicating successful save\n",
    "    print(\"XML string saved to 'output.xml'\")\n",
    "\n",
    "\n",
    "    # Parse the XML string\n",
    "    root = ET.fromstring(xml_string)\n",
    "    break\n",
    "    \n",
    "    \n",
    "        "
   ]
  },
  {
   "cell_type": "code",
   "execution_count": null,
   "metadata": {},
   "outputs": [
    {
     "ename": "",
     "evalue": "",
     "output_type": "error",
     "traceback": [
      "\u001b[1;31mThe kernel failed to start due to the missing module 'dotenv'. Consider installing this module.\n",
      "\u001b[1;31mClick <a href='https://aka.ms/kernelFailuresMissingModule'>here</a> for more info.\n",
      "\u001b[1;31mSome of the following files found in the working directory may have prevented the Kernel from starting. Consider renaming them.\n",
      "\u001b[1;31mFile(s): <a href='file:///c%3A/PYTHON/EDF_CODE_AUTOMATION_PYTHON/METER_MATCHING_DATA/code.py?line=1'>~\\code.py</a> might need to be renamed.\n",
      "\u001b[1;31mClick <a href='https://aka.ms/JupyterKernelStartFailureOverrideReservedName'>here</a> for more info."
     ]
    }
   ],
   "source": []
  },
  {
   "cell_type": "code",
   "execution_count": null,
   "metadata": {},
   "outputs": [
    {
     "data": {
      "text/html": [
       "<div>\n",
       "<style scoped>\n",
       "    .dataframe tbody tr th:only-of-type {\n",
       "        vertical-align: middle;\n",
       "    }\n",
       "\n",
       "    .dataframe tbody tr th {\n",
       "        vertical-align: top;\n",
       "    }\n",
       "\n",
       "    .dataframe thead th {\n",
       "        text-align: right;\n",
       "    }\n",
       "</style>\n",
       "<table border=\"1\" class=\"dataframe\">\n",
       "  <thead>\n",
       "    <tr style=\"text-align: right;\">\n",
       "      <th></th>\n",
       "      <th>data</th>\n",
       "    </tr>\n",
       "  </thead>\n",
       "  <tbody>\n",
       "    <tr>\n",
       "      <th>0</th>\n",
       "      <td>LNTLT0178071;LT0178071;EP2PMeter;6_D1;AURORA;L...</td>\n",
       "    </tr>\n",
       "    <tr>\n",
       "      <th>1</th>\n",
       "      <td>LNTLT0400754;LT0400754;EP2PMeter;6_D1;AURORA;L...</td>\n",
       "    </tr>\n",
       "    <tr>\n",
       "      <th>2</th>\n",
       "      <td>LNTLT0150608;LT0150608;EP2PMeter;6_D1;AURORA;L...</td>\n",
       "    </tr>\n",
       "    <tr>\n",
       "      <th>3</th>\n",
       "      <td>LNTLT0125960;LT0125960;EP2PMeter;6_D1;AURORA;L...</td>\n",
       "    </tr>\n",
       "  </tbody>\n",
       "</table>\n",
       "</div>"
      ],
      "text/plain": [
       "                                                data\n",
       "0  LNTLT0178071;LT0178071;EP2PMeter;6_D1;AURORA;L...\n",
       "1  LNTLT0400754;LT0400754;EP2PMeter;6_D1;AURORA;L...\n",
       "2  LNTLT0150608;LT0150608;EP2PMeter;6_D1;AURORA;L...\n",
       "3  LNTLT0125960;LT0125960;EP2PMeter;6_D1;AURORA;L..."
      ]
     },
     "execution_count": 17,
     "metadata": {},
     "output_type": "execute_result"
    }
   ],
   "source": [
    "# XML CODE WITH OUTPUT SAVE IN DIFF FILE\n",
    "import pandas as pd\n",
    "EESL_GENUS_PO0000000403_00000_EP2PMeter_SBPDCL_Meter_Link_M_S_AND_MS_LINK = pd.read_csv(r\"C:\\Users\\Ratan Kumar Jha\\Desktop\\New folder\\Importation File\\1PH\\EESL_GENUS_PO0000000609_00000_EP2PMeter_20240405_075800_NBPDCL.csv\")\n",
    "EESL_GENUS_PO0000000403_00000_EP2PMeter_SBPDCL_Meter_Link_M_S_AND_MS_LINK.head()"
   ]
  },
  {
   "cell_type": "code",
   "execution_count": null,
   "metadata": {},
   "outputs": [
    {
     "name": "stdout",
     "output_type": "stream",
     "text": [
      "data    LNTLT0178071;LT0178071;EP2PMeter;6_D1;AURORA;L...\n",
      "Name: 0, dtype: object\n",
      "Sync_Electric_Meter_LNTLT0178071_NBPDCL_20240405_122504-101.xml\n",
      "C:\\Users\\Ratan Kumar Jha\\Desktop\\METER_IMPORTATION_FOLDER\\XML_OUTPUT_FILE\\METER,SIM AND METER-SIM LINK\\METER_FILE\\METER_XML_OUTPUT_M_S_&_MS_LINK\\Sync_Electric_Meter_LNTLT0178071_NBPDCL_20240405_122504-101.xml\n",
      "data    LNTLT0400754;LT0400754;EP2PMeter;6_D1;AURORA;L...\n",
      "Name: 1, dtype: object\n",
      "Sync_Electric_Meter_LNTLT0400754_NBPDCL_20240405_122504-102.xml\n",
      "C:\\Users\\Ratan Kumar Jha\\Desktop\\METER_IMPORTATION_FOLDER\\XML_OUTPUT_FILE\\METER,SIM AND METER-SIM LINK\\METER_FILE\\METER_XML_OUTPUT_M_S_&_MS_LINK\\Sync_Electric_Meter_LNTLT0400754_NBPDCL_20240405_122504-102.xml\n",
      "data    LNTLT0150608;LT0150608;EP2PMeter;6_D1;AURORA;L...\n",
      "Name: 2, dtype: object\n",
      "Sync_Electric_Meter_LNTLT0150608_NBPDCL_20240405_122504-103.xml\n",
      "C:\\Users\\Ratan Kumar Jha\\Desktop\\METER_IMPORTATION_FOLDER\\XML_OUTPUT_FILE\\METER,SIM AND METER-SIM LINK\\METER_FILE\\METER_XML_OUTPUT_M_S_&_MS_LINK\\Sync_Electric_Meter_LNTLT0150608_NBPDCL_20240405_122504-103.xml\n",
      "data    LNTLT0125960;LT0125960;EP2PMeter;6_D1;AURORA;L...\n",
      "Name: 3, dtype: object\n",
      "Sync_Electric_Meter_LNTLT0125960_NBPDCL_20240405_122504-104.xml\n",
      "C:\\Users\\Ratan Kumar Jha\\Desktop\\METER_IMPORTATION_FOLDER\\XML_OUTPUT_FILE\\METER,SIM AND METER-SIM LINK\\METER_FILE\\METER_XML_OUTPUT_M_S_&_MS_LINK\\Sync_Electric_Meter_LNTLT0125960_NBPDCL_20240405_122504-104.xml\n"
     ]
    },
    {
     "name": "stderr",
     "output_type": "stream",
     "text": [
      "C:\\Users\\Ratan Kumar Jha\\AppData\\Local\\Temp\\ipykernel_1436\\2261353155.py:24: FutureWarning: Series.__getitem__ treating keys as positions is deprecated. In a future version, integer keys will always be treated as labels (consistent with DataFrame behavior). To access a value by position, use `ser.iloc[pos]`\n",
      "  semicolon_split_for_file_name = rows[0].split(';')\n",
      "C:\\Users\\Ratan Kumar Jha\\AppData\\Local\\Temp\\ipykernel_1436\\2261353155.py:25: FutureWarning: Series.__getitem__ treating keys as positions is deprecated. In a future version, integer keys will always be treated as labels (consistent with DataFrame behavior). To access a value by position, use `ser.iloc[pos]`\n",
      "  semicolon_split = rows[0].split(';')\n"
     ]
    }
   ],
   "source": [
    "import xml.etree.ElementTree as ET\n",
    "from datetime import datetime\n",
    "import os\n",
    "\n",
    "def get_current_date():\n",
    "    return datetime.now().strftime(\"%Y-%m-%d\")\n",
    "\n",
    "\n",
    "CURRENT_TIME = datetime.now().strftime('%Y%m%d_%H%M%S')\n",
    "\n",
    "num_folder = 0\n",
    "k = 100\n",
    "base_path = r'C:\\Users\\Ratan Kumar Jha\\Desktop\\METER_IMPORTATION_FOLDER\\XML_OUTPUT_FILE\\METER,SIM AND METER-SIM LINK\\METER_FILE'\n",
    "new_folder_name = 'METER_XML_OUTPUT_M_S_&_MS_LINK'\n",
    "\n",
    "\n",
    "new_folder_path = os.path.join(base_path, new_folder_name)\n",
    "shutil.rmtree(new_folder_path)\n",
    "os.makedirs(new_folder_path)\n",
    "\n",
    "\n",
    "for index,rows in EESL_GENUS_PO0000000403_00000_EP2PMeter_SBPDCL_Meter_Link_M_S_AND_MS_LINK.iterrows():\n",
    "    print(rows)\n",
    "    semicolon_split_for_file_name = rows[0].split(';')\n",
    "    semicolon_split = rows[0].split(';')\n",
    "            \n",
    "    CURRENT_TIME_STAMP = datetime.now().strftime('%Y-%m-%dT%H:%M:%S')\n",
    "\n",
    "    if semicolon_split[3] == '6_D1':\n",
    "        csv_data = [\n",
    "            {\"verb\": \"SDPSync\", \"noun\": \"SDPSync\", \"revision\": \"1\", \"dateTime\": CURRENT_TIME_STAMP, \"source\": \"CIS\", \"messageID\": \"MESSAGE-10001\", \"asyncReplyTo\": \"none\", \"syncMode\": \"sync\", \"optimizationLevel\": \"Optimistic\"},\n",
    "            {\"mRID\": semicolon_split[0], \"className\": \"EP2PMeter\", \"type\": \"Meter\", \"virtualInd\": \"N\", \"description\": \"Meter Description\", \"model\": semicolon_split[4], \"manufacturedDate\": semicolon_split[6], \"mfgSerialNumber\": semicolon_split[1], \"testDate\": semicolon_split[6], \"status\": \"Meter Shop\", \"commTechnology\": \"3G\", \"badgeId\": semicolon_split[0], \"sandardId\": semicolon_split[0], \"electronicId\": semicolon_split[0], \"make\": semicolon_split[5], \"deviceFunctionType\": \"N\", \"utility_id\": semicolon_split[-1]},\n",
    "            {\"name\": \"Phase Type\", \"value\": \"1\", \"startDate\": get_current_date()},\n",
    "            {\"name\": \"Device Protocol\", \"value\": \"DLMS\", \"startDate\": get_current_date()},\n",
    "            {\"name\": \"Firmware Version\", \"value\": semicolon_split[11], \"startDate\": get_current_date()},\n",
    "            {\"name\": \"DLMS Port\", \"value\": \"4059\", \"startDate\": get_current_date()}\n",
    "            ]\n",
    "    else:\n",
    "        csv_data = [\n",
    "            {\"verb\": \"SDPSync\", \"noun\": \"SDPSync\", \"revision\": \"1\", \"dateTime\": CURRENT_TIME_STAMP, \"source\": \"CIS\", \"messageID\": \"MESSAGE-10001\", \"asyncReplyTo\": \"none\", \"syncMode\": \"sync\", \"optimizationLevel\": \"Optimistic\"},\n",
    "            {\"mRID\": semicolon_split[0], \"className\": \"EP2PMeter\", \"type\": \"Meter\", \"virtualInd\": \"N\", \"description\": \"Meter Description\", \"model\": semicolon_split[4], \"manufacturedDate\": semicolon_split[6], \"mfgSerialNumber\": semicolon_split[1], \"testDate\": semicolon_split[6], \"status\": \"Meter Shop\", \"commTechnology\": \"3G\", \"badgeId\": semicolon_split[0], \"sandardId\": semicolon_split[0], \"electronicId\": semicolon_split[0], \"make\": semicolon_split[5], \"deviceFunctionType\": \"N\", \"utility_id\": semicolon_split[-1]},\n",
    "            {\"name\": \"Phase Type\", \"value\": \"3\", \"startDate\": get_current_date()},\n",
    "            {\"name\": \"Device Protocol\", \"value\": \"DLMS\", \"startDate\": get_current_date()},\n",
    "            {\"name\": \"Firmware Version\", \"value\": semicolon_split[11], \"startDate\": get_current_date()},\n",
    "            {\"name\": \"DLMS Port\", \"value\": \"4059\", \"startDate\": get_current_date()}\n",
    "            ]\n",
    "    xml_string = '<SDPSyncMessage xmlns=\"http://www.emeter.com/energyip/syncinterface/v8\" xmlns:xsi=\"http://www.w3.org/2001/XMLSchema-instance\">\\n'\n",
    "\n",
    "                # Loop through the data and append to the XML string\n",
    "    for row in csv_data:\n",
    "            \n",
    "        if row.get(\"verb\"):\n",
    "            xml_string += '    <header>\\n'\n",
    "        elif row.get(\"mRID\"):\n",
    "            xml_string += '    <payload>\\n        <device>\\n'\n",
    "        elif row.get(\"name\"):\n",
    "            xml_string += '            <parameter>\\n'\n",
    "        else:\n",
    "            xml_string += '    <payload>\\n        <device>\\n'\n",
    "\n",
    "        for key, value in row.items():\n",
    "            if key != \"verb\" and key != \"mRID\" and key != \"name\":\n",
    "                if key != \"value\" and key != \"startDate\":\n",
    "                    xml_string += f'            <{key}>{value}</{key}>\\n'\n",
    "                else:\n",
    "                    xml_string += f'                <{key}>{value}</{key}>\\n'\n",
    "            elif key == \"value\" and key == \"\":\n",
    "                xml_string += f'                <{key}>{value}</{key}>\\n'\n",
    "            elif key == \"verb\":\n",
    "                xml_string += f'            <{key}>{value}</{key}>\\n'\n",
    "            elif key == \"mRID\":\n",
    "                xml_string += f'            <{key}>{value}</{key}>\\n'\n",
    "            elif key == \"name\":\n",
    "                xml_string += f'                <{key}>{value}</{key}>\\n'\n",
    "\n",
    "        if row.get(\"verb\"):\n",
    "            xml_string += '    </header>\\n'\n",
    "        elif row.get(\"name\"):\n",
    "            xml_string += '            </parameter>\\n'\n",
    "            #else:\n",
    "                #xml_string += '        </device>\\n    </payload>\\n'\\\n",
    "            \n",
    "    xml_string += '         </device>\\n     </payload>\\n</SDPSyncMessage>'\n",
    "            #root = ET.fromstring(xml_string)\n",
    "    root = ET.ElementTree(ET.fromstring(xml_string))\n",
    "\n",
    "    k=k+1 \n",
    "\n",
    "    if k > 995:\n",
    "            k = 100\n",
    "            final_new_folder_name = new_folder_name\n",
    "            num_folder = num_folder + 1\n",
    "            final_new_folder_name = new_folder_name + \"_\" + str(num_folder)\n",
    "            new_folder_path = os.path.join(base_path, final_new_folder_name)\n",
    "            os.makedirs(new_folder_path)\n",
    "    else:\n",
    "        file_name = \"Sync_Electric_Meter_\" + semicolon_split_for_file_name[0] + \"_\"  + semicolon_split_for_file_name[-1] + \"_\" + str(CURRENT_TIME)  + \"-\" + str(k) + \".xml\"\n",
    "        print(file_name)\n",
    "        #print(f\"file name is {file_name}\")\n",
    "        file_path = os.path.join(new_folder_path, file_name)\n",
    "        print(file_path)\n",
    "\n",
    "        #single_row_df.to_csv(r\"C:\\Users\\Ratan Kumar Jha\\Desktop\\satyam_data\\single_file_data\\file_name\", index=False, header=False) \n",
    "        with open(file_path, 'w') as file:\n",
    "            file.write(xml_string)\n",
    "        \n",
    "    \n",
    "        "
   ]
  },
  {
   "cell_type": "code",
   "execution_count": null,
   "metadata": {},
   "outputs": [
    {
     "data": {
      "text/html": [
       "<div>\n",
       "<style scoped>\n",
       "    .dataframe tbody tr th:only-of-type {\n",
       "        vertical-align: middle;\n",
       "    }\n",
       "\n",
       "    .dataframe tbody tr th {\n",
       "        vertical-align: top;\n",
       "    }\n",
       "\n",
       "    .dataframe thead th {\n",
       "        text-align: right;\n",
       "    }\n",
       "</style>\n",
       "<table border=\"1\" class=\"dataframe\">\n",
       "  <thead>\n",
       "    <tr style=\"text-align: right;\">\n",
       "      <th></th>\n",
       "      <th>meter_data</th>\n",
       "    </tr>\n",
       "  </thead>\n",
       "  <tbody>\n",
       "    <tr>\n",
       "      <th>0</th>\n",
       "      <td>LNTLT8003322;LT8003322;EP2PMeter;7_D2;REGOR;LN...</td>\n",
       "    </tr>\n",
       "  </tbody>\n",
       "</table>\n",
       "</div>"
      ],
      "text/plain": [
       "                                          meter_data\n",
       "0  LNTLT8003322;LT8003322;EP2PMeter;7_D2;REGOR;LN..."
      ]
     },
     "execution_count": 12,
     "metadata": {},
     "output_type": "execute_result"
    }
   ],
   "source": [
    "# XML CODE WITH OUTPUT SAVE IN DIFF FILE\n",
    "import pandas as pd\n",
    "EESL_GENUS_PO0000000403_00000_EP2PMeter_SBPDCL_Meter_Link_M_S_AND_MS_LINK = pd.read_csv(r\"C:\\Users\\Ratan Kumar Jha\\Desktop\\New folder\\Importation File\\3PH\\EESL_GENUS_PO0000000509_00000_EP2PMeter_20240405_075800_NBPDCL.csv\")\n",
    "EESL_GENUS_PO0000000403_00000_EP2PMeter_SBPDCL_Meter_Link_M_S_AND_MS_LINK.head()"
   ]
  },
  {
   "cell_type": "code",
   "execution_count": null,
   "metadata": {},
   "outputs": [
    {
     "name": "stdout",
     "output_type": "stream",
     "text": [
      "                                          meter_data\n",
      "0  LNTLT8003322;LT8003322;EP2PMeter;7_D2;REGOR;LN...\n",
      "meter_data    LNTLT8003322;LT8003322;EP2PMeter;7_D2;REGOR;LN...\n",
      "Name: 0, dtype: object\n"
     ]
    },
    {
     "name": "stderr",
     "output_type": "stream",
     "text": [
      "C:\\Users\\Ratan Kumar Jha\\AppData\\Local\\Temp\\ipykernel_1436\\2119018298.py:26: FutureWarning: Series.__getitem__ treating keys as positions is deprecated. In a future version, integer keys will always be treated as labels (consistent with DataFrame behavior). To access a value by position, use `ser.iloc[pos]`\n",
      "  semicolon_split_for_file_name = rows[0].split(';')\n",
      "C:\\Users\\Ratan Kumar Jha\\AppData\\Local\\Temp\\ipykernel_1436\\2119018298.py:27: FutureWarning: Series.__getitem__ treating keys as positions is deprecated. In a future version, integer keys will always be treated as labels (consistent with DataFrame behavior). To access a value by position, use `ser.iloc[pos]`\n",
      "  semicolon_split = rows[0].split(';')\n"
     ]
    }
   ],
   "source": [
    "import xml.etree.ElementTree as ET\n",
    "from datetime import datetime\n",
    "import shutil\n",
    "import os\n",
    "\n",
    "def get_current_date():\n",
    "    return datetime.now().strftime(\"%Y-%m-%d\")\n",
    "\n",
    "\n",
    "CURRENT_TIME = datetime.now().strftime('%Y%m%d_%H%M%S')\n",
    "\n",
    "num_folder = 0\n",
    "k = 100\n",
    "base_path = r'C:\\Users\\Ratan Kumar Jha\\Desktop\\METER_IMPORTATION_FOLDER\\XML_OUTPUT_FILE\\METER,SIM AND METER-SIM LINK\\METER_FILE'\n",
    "new_folder_name = 'METER_XML_OUTPUT_M_S_&_MS_LINK'\n",
    "\n",
    "\n",
    "new_folder_path = os.path.join(base_path, new_folder_name)\n",
    "shutil.rmtree(new_folder_path)\n",
    "os.makedirs(new_folder_path)\n",
    "\n",
    "print(EESL_GENUS_PO0000000403_00000_EP2PMeter_SBPDCL_Meter_Link_M_S_AND_MS_LINK.head())\n",
    "\n",
    "for index,rows in EESL_GENUS_PO0000000403_00000_EP2PMeter_SBPDCL_Meter_Link_M_S_AND_MS_LINK.iterrows():\n",
    "    print(rows)\n",
    "    semicolon_split_for_file_name = rows[0].split(';')\n",
    "    semicolon_split = rows[0].split(';')\n",
    "            \n",
    "    CURRENT_TIME_STAMP = datetime.now().strftime('%Y-%m-%dT%H:%M:%S')\n"
   ]
  },
  {
   "cell_type": "code",
   "execution_count": null,
   "metadata": {},
   "outputs": [],
   "source": []
  },
  {
   "cell_type": "code",
   "execution_count": null,
   "metadata": {},
   "outputs": [],
   "source": []
  },
  {
   "cell_type": "code",
   "execution_count": null,
   "metadata": {},
   "outputs": [],
   "source": []
  },
  {
   "cell_type": "markdown",
   "metadata": {},
   "source": [
    "# create multiple single file"
   ]
  },
  {
   "cell_type": "code",
   "execution_count": null,
   "metadata": {},
   "outputs": [
    {
     "ename": "",
     "evalue": "",
     "output_type": "error",
     "traceback": [
      "\u001b[1;31mThe kernel failed to start due to the missing module 'dotenv'. Consider installing this module.\n",
      "\u001b[1;31mClick <a href='https://aka.ms/kernelFailuresMissingModule'>here</a> for more info.\n",
      "\u001b[1;31mSome of the following files found in the working directory may have prevented the Kernel from starting. Consider renaming them.\n",
      "\u001b[1;31mFile(s): <a href='file:///c%3A/PYTHON/EDF_CODE_AUTOMATION_PYTHON/METER_MATCHING_DATA/code.py?line=1'>~\\code.py</a> might need to be renamed.\n",
      "\u001b[1;31mClick <a href='https://aka.ms/JupyterKernelStartFailureOverrideReservedName'>here</a> for more info."
     ]
    }
   ],
   "source": [
    "import pandas as pd\n",
    "\n",
    "import os,sys\n",
    "from datetime import datetime\n",
    "\n",
    "k=100\n",
    "# Load your file into a pandas DataFrame\n",
    "data_frame_concat_data = pd.read_csv(r'C:\\Users\\Ratan Kumar Jha\\Desktop\\METER_IMPORTATION_SINGLE_FILE\\EESL_GENUS_PO0000000100_00000_SIM_Meter_Link_20240115_145223_NBPDCL.csv', header=None)  # Replace 'your_input_file.csv' with your actual file name\n",
    "\n",
    "base_path = r'C:\\Users\\Ratan Kumar Jha\\Desktop\\METER_IMPORTATION_SINGLE_FILE\\single data_folder'\n",
    "\n",
    "num_folder = 0\n",
    "new_folder_name = \"EESL_GENUS_SINGLE_METER\"\n",
    "\n",
    "new_folder_path = os.path.join(base_path, new_folder_name)\n",
    "os.makedirs(new_folder_path)\n",
    "\n",
    "def get_current_time_stamp():\n",
    "    return f\"{datetime.now().strftime('%Y%m%d_%H%M%S')}\"\n",
    "\n",
    "CURRENT_TIME_STAMP = get_current_time_stamp()\n",
    "\n",
    "# Iterate through each row and save it as a separate file\n",
    "for index, row in data_frame_concat_data.iterrows():\n",
    "    \n",
    "    # Create a new DataFrame with the current row\n",
    "    single_row_df = pd.DataFrame([row])\n",
    "    #print(f\"single_row_data : {single_row_df}\")\n",
    "    last_part_after_semicolon = row[0].rsplit(';', 1)[-1]\n",
    "    #print(f\"last_word : {last_part_after_semicolon}\")\n",
    "\n",
    "\n",
    "    CURRENT_TIME_STAMP = get_current_time_stamp()\n",
    "    #print(CURRENT_TIME_STAMP)\n",
    "    \n",
    "    print(k)\n",
    "    print(\"-----------------\")\n",
    "    \n",
    "    # Create the full path for the new folder\n",
    "\n",
    "    if k > 995:\n",
    "        k = 100\n",
    "        num_folder = num_folder + 1\n",
    "        new_folder_name = \"EESL_GENUS_SINGLE_METER_\" + str(num_folder)\n",
    "        new_folder_path = os.path.join(base_path, new_folder_name)\n",
    "        os.makedirs(new_folder_path)\n",
    "    else:\n",
    "        file_name = f'EESL_GENUS_PO0000000{k}_00000_SIM_Meter_Link_{CURRENT_TIME_STAMP}_{last_part_after_semicolon}.csv'\n",
    "        #print(f\"file name is {file_name}\")\n",
    "        file_path = os.path.join(new_folder_path, file_name)\n",
    "        #single_row_df.to_csv(r\"C:\\Users\\Ratan Kumar Jha\\Desktop\\satyam_data\\single_file_data\\file_name\", index=False, header=False) \n",
    "        single_row_df.to_csv(file_path, index=False, header=False)\n",
    "        k=k+1\n",
    "\n",
    "    \n",
    "print(\"METER-SIM LINK FILE DONE\")"
   ]
  },
  {
   "cell_type": "code",
   "execution_count": null,
   "metadata": {},
   "outputs": [
    {
     "ename": "",
     "evalue": "",
     "output_type": "error",
     "traceback": [
      "\u001b[1;31mThe kernel failed to start due to the missing module 'dotenv'. Consider installing this module.\n",
      "\u001b[1;31mClick <a href='https://aka.ms/kernelFailuresMissingModule'>here</a> for more info.\n",
      "\u001b[1;31mSome of the following files found in the working directory may have prevented the Kernel from starting. Consider renaming them.\n",
      "\u001b[1;31mFile(s): <a href='file:///c%3A/PYTHON/EDF_CODE_AUTOMATION_PYTHON/METER_MATCHING_DATA/code.py?line=1'>~\\code.py</a> might need to be renamed.\n",
      "\u001b[1;31mClick <a href='https://aka.ms/JupyterKernelStartFailureOverrideReservedName'>here</a> for more info."
     ]
    }
   ],
   "source": []
  },
  {
   "cell_type": "code",
   "execution_count": null,
   "metadata": {},
   "outputs": [
    {
     "ename": "",
     "evalue": "",
     "output_type": "error",
     "traceback": [
      "\u001b[1;31mThe kernel failed to start due to the missing module 'dotenv'. Consider installing this module.\n",
      "\u001b[1;31mClick <a href='https://aka.ms/kernelFailuresMissingModule'>here</a> for more info.\n",
      "\u001b[1;31mSome of the following files found in the working directory may have prevented the Kernel from starting. Consider renaming them.\n",
      "\u001b[1;31mFile(s): <a href='file:///c%3A/PYTHON/EDF_CODE_AUTOMATION_PYTHON/METER_MATCHING_DATA/code.py?line=1'>~\\code.py</a> might need to be renamed.\n",
      "\u001b[1;31mClick <a href='https://aka.ms/JupyterKernelStartFailureOverrideReservedName'>here</a> for more info."
     ]
    }
   ],
   "source": []
  },
  {
   "cell_type": "markdown",
   "metadata": {},
   "source": [
    "# change into zip file\n",
    "###### C:\\Users\\Ratan Kumar Jha\\Desktop\\EESL_GENUS_PO0000000\\data_insert_single_file"
   ]
  },
  {
   "cell_type": "code",
   "execution_count": null,
   "metadata": {},
   "outputs": [
    {
     "ename": "",
     "evalue": "",
     "output_type": "error",
     "traceback": [
      "\u001b[1;31mThe kernel failed to start due to the missing module 'dotenv'. Consider installing this module.\n",
      "\u001b[1;31mClick <a href='https://aka.ms/kernelFailuresMissingModule'>here</a> for more info.\n",
      "\u001b[1;31mSome of the following files found in the working directory may have prevented the Kernel from starting. Consider renaming them.\n",
      "\u001b[1;31mFile(s): <a href='file:///c%3A/PYTHON/EDF_CODE_AUTOMATION_PYTHON/METER_MATCHING_DATA/code.py?line=1'>~\\code.py</a> might need to be renamed.\n",
      "\u001b[1;31mClick <a href='https://aka.ms/JupyterKernelStartFailureOverrideReservedName'>here</a> for more info."
     ]
    }
   ],
   "source": [
    "import shutil\n",
    "\n",
    "# Specify the folder path\n",
    "folder_path = r'C:\\Users\\Ratan Kumar Jha\\Desktop\\METER_IMPORTATION_SINGLE_FILE\\single data_folder'\n",
    "\n",
    "# Specify the output zip file path\n",
    "output_zip_path = r'C:\\Users\\Ratan Kumar Jha\\Desktop\\METER_IMPORTATION_SINGLE_FILE\\zip_file'\n",
    "\n",
    "# Create a zip file from the folder\n",
    "shutil.make_archive(output_zip_path, 'zip', folder_path)\n",
    "\n",
    "print(f\"Zip file created at: {output_zip_path}\")\n"
   ]
  },
  {
   "cell_type": "code",
   "execution_count": null,
   "metadata": {},
   "outputs": [
    {
     "ename": "",
     "evalue": "",
     "output_type": "error",
     "traceback": [
      "\u001b[1;31mThe kernel failed to start due to the missing module 'dotenv'. Consider installing this module.\n",
      "\u001b[1;31mClick <a href='https://aka.ms/kernelFailuresMissingModule'>here</a> for more info.\n",
      "\u001b[1;31mSome of the following files found in the working directory may have prevented the Kernel from starting. Consider renaming them.\n",
      "\u001b[1;31mFile(s): <a href='file:///c%3A/PYTHON/EDF_CODE_AUTOMATION_PYTHON/METER_MATCHING_DATA/code.py?line=1'>~\\code.py</a> might need to be renamed.\n",
      "\u001b[1;31mClick <a href='https://aka.ms/JupyterKernelStartFailureOverrideReservedName'>here</a> for more info."
     ]
    }
   ],
   "source": []
  },
  {
   "cell_type": "code",
   "execution_count": null,
   "metadata": {},
   "outputs": [
    {
     "ename": "",
     "evalue": "",
     "output_type": "error",
     "traceback": [
      "\u001b[1;31mThe kernel failed to start due to the missing module 'dotenv'. Consider installing this module.\n",
      "\u001b[1;31mClick <a href='https://aka.ms/kernelFailuresMissingModule'>here</a> for more info.\n",
      "\u001b[1;31mSome of the following files found in the working directory may have prevented the Kernel from starting. Consider renaming them.\n",
      "\u001b[1;31mFile(s): <a href='file:///c%3A/PYTHON/EDF_CODE_AUTOMATION_PYTHON/METER_MATCHING_DATA/code.py?line=1'>~\\code.py</a> might need to be renamed.\n",
      "\u001b[1;31mClick <a href='https://aka.ms/JupyterKernelStartFailureOverrideReservedName'>here</a> for more info."
     ]
    }
   ],
   "source": []
  },
  {
   "cell_type": "code",
   "execution_count": null,
   "metadata": {},
   "outputs": [
    {
     "ename": "",
     "evalue": "",
     "output_type": "error",
     "traceback": [
      "\u001b[1;31mThe kernel failed to start due to the missing module 'dotenv'. Consider installing this module.\n",
      "\u001b[1;31mClick <a href='https://aka.ms/kernelFailuresMissingModule'>here</a> for more info.\n",
      "\u001b[1;31mSome of the following files found in the working directory may have prevented the Kernel from starting. Consider renaming them.\n",
      "\u001b[1;31mFile(s): <a href='file:///c%3A/PYTHON/EDF_CODE_AUTOMATION_PYTHON/METER_MATCHING_DATA/code.py?line=1'>~\\code.py</a> might need to be renamed.\n",
      "\u001b[1;31mClick <a href='https://aka.ms/JupyterKernelStartFailureOverrideReservedName'>here</a> for more info."
     ]
    }
   ],
   "source": [
    "def get_current_date():\n",
    "    return datetime.now().strftime(\"%Y-%m-%d\")\n",
    "\n",
    "CURRENT_TIME_STAMP = datetime.now().strftime('%Y-%m-%dT%H:%M:%S')\n",
    "\n",
    "for index,rows in EESL_GENUS_PO0000000403_00000_EP2PMeter_SBPDCL_Meter_Link_M_S_AND_MS_LINK.iterrows():\n",
    "    semicolon_split = rows[0].split(';')\n",
    "    print(semicolon_split[3])\n",
    "    break"
   ]
  },
  {
   "cell_type": "code",
   "execution_count": null,
   "metadata": {},
   "outputs": [
    {
     "ename": "",
     "evalue": "",
     "output_type": "error",
     "traceback": [
      "\u001b[1;31mThe kernel failed to start due to the missing module 'dotenv'. Consider installing this module.\n",
      "\u001b[1;31mClick <a href='https://aka.ms/kernelFailuresMissingModule'>here</a> for more info.\n",
      "\u001b[1;31mSome of the following files found in the working directory may have prevented the Kernel from starting. Consider renaming them.\n",
      "\u001b[1;31mFile(s): <a href='file:///c%3A/PYTHON/EDF_CODE_AUTOMATION_PYTHON/METER_MATCHING_DATA/code.py?line=1'>~\\code.py</a> might need to be renamed.\n",
      "\u001b[1;31mClick <a href='https://aka.ms/JupyterKernelStartFailureOverrideReservedName'>here</a> for more info."
     ]
    }
   ],
   "source": [
    "# xml code"
   ]
  },
  {
   "cell_type": "code",
   "execution_count": null,
   "metadata": {},
   "outputs": [
    {
     "ename": "",
     "evalue": "",
     "output_type": "error",
     "traceback": [
      "\u001b[1;31mThe kernel failed to start due to the missing module 'dotenv'. Consider installing this module.\n",
      "\u001b[1;31mClick <a href='https://aka.ms/kernelFailuresMissingModule'>here</a> for more info.\n",
      "\u001b[1;31mSome of the following files found in the working directory may have prevented the Kernel from starting. Consider renaming them.\n",
      "\u001b[1;31mFile(s): <a href='file:///c%3A/PYTHON/EDF_CODE_AUTOMATION_PYTHON/METER_MATCHING_DATA/code.py?line=1'>~\\code.py</a> might need to be renamed.\n",
      "\u001b[1;31mClick <a href='https://aka.ms/JupyterKernelStartFailureOverrideReservedName'>here</a> for more info."
     ]
    }
   ],
   "source": [
    "for index,rows in EESL_GENUS_PO0000000403_00000_EP2PMeter_SBPDCL_Meter_Link_M_S_AND_MS_LINK.iterrows():\n",
    "    for i in rows:\n",
    "        last_after_semicolon = rows[0].rsplit(';', 1)[-1]\n",
    "        print(last_after_semicolon)\n",
    "    break"
   ]
  },
  {
   "cell_type": "code",
   "execution_count": null,
   "metadata": {},
   "outputs": [
    {
     "ename": "",
     "evalue": "",
     "output_type": "error",
     "traceback": [
      "\u001b[1;31mThe kernel failed to start due to the missing module 'dotenv'. Consider installing this module.\n",
      "\u001b[1;31mClick <a href='https://aka.ms/kernelFailuresMissingModule'>here</a> for more info.\n",
      "\u001b[1;31mSome of the following files found in the working directory may have prevented the Kernel from starting. Consider renaming them.\n",
      "\u001b[1;31mFile(s): <a href='file:///c%3A/PYTHON/EDF_CODE_AUTOMATION_PYTHON/METER_MATCHING_DATA/code.py?line=1'>~\\code.py</a> might need to be renamed.\n",
      "\u001b[1;31mClick <a href='https://aka.ms/JupyterKernelStartFailureOverrideReservedName'>here</a> for more info."
     ]
    }
   ],
   "source": [
    "for index,rows in EESL_GENUS_PO0000000403_00000_EP2PMeter_SBPDCL_Meter_Link_M_S_AND_MS_LINK.iterrows():\n",
    "    \n",
    "    last_after_semicolon = rows[0].split(';')\n",
    "    print(last_after_semicolon[0])\n",
    "    break\n",
    "    \n",
    "    \n",
    "    \n",
    "    "
   ]
  },
  {
   "cell_type": "code",
   "execution_count": null,
   "metadata": {},
   "outputs": [
    {
     "ename": "",
     "evalue": "",
     "output_type": "error",
     "traceback": [
      "\u001b[1;31mThe kernel failed to start due to the missing module 'dotenv'. Consider installing this module.\n",
      "\u001b[1;31mClick <a href='https://aka.ms/kernelFailuresMissingModule'>here</a> for more info.\n",
      "\u001b[1;31mSome of the following files found in the working directory may have prevented the Kernel from starting. Consider renaming them.\n",
      "\u001b[1;31mFile(s): <a href='file:///c%3A/PYTHON/EDF_CODE_AUTOMATION_PYTHON/METER_MATCHING_DATA/code.py?line=1'>~\\code.py</a> might need to be renamed.\n",
      "\u001b[1;31mClick <a href='https://aka.ms/JupyterKernelStartFailureOverrideReservedName'>here</a> for more info."
     ]
    }
   ],
   "source": []
  },
  {
   "cell_type": "code",
   "execution_count": null,
   "metadata": {},
   "outputs": [
    {
     "ename": "",
     "evalue": "",
     "output_type": "error",
     "traceback": [
      "\u001b[1;31mThe kernel failed to start due to the missing module 'dotenv'. Consider installing this module.\n",
      "\u001b[1;31mClick <a href='https://aka.ms/kernelFailuresMissingModule'>here</a> for more info.\n",
      "\u001b[1;31mSome of the following files found in the working directory may have prevented the Kernel from starting. Consider renaming them.\n",
      "\u001b[1;31mFile(s): <a href='file:///c%3A/PYTHON/EDF_CODE_AUTOMATION_PYTHON/METER_MATCHING_DATA/code.py?line=1'>~\\code.py</a> might need to be renamed.\n",
      "\u001b[1;31mClick <a href='https://aka.ms/JupyterKernelStartFailureOverrideReservedName'>here</a> for more info."
     ]
    }
   ],
   "source": []
  },
  {
   "cell_type": "markdown",
   "metadata": {},
   "source": [
    "# sim link file"
   ]
  },
  {
   "cell_type": "code",
   "execution_count": null,
   "metadata": {},
   "outputs": [
    {
     "ename": "",
     "evalue": "",
     "output_type": "error",
     "traceback": [
      "\u001b[1;31mThe kernel failed to start due to the missing module 'dotenv'. Consider installing this module.\n",
      "\u001b[1;31mClick <a href='https://aka.ms/kernelFailuresMissingModule'>here</a> for more info.\n",
      "\u001b[1;31mSome of the following files found in the working directory may have prevented the Kernel from starting. Consider renaming them.\n",
      "\u001b[1;31mFile(s): <a href='file:///c%3A/PYTHON/EDF_CODE_AUTOMATION_PYTHON/METER_MATCHING_DATA/code.py?line=1'>~\\code.py</a> might need to be renamed.\n",
      "\u001b[1;31mClick <a href='https://aka.ms/JupyterKernelStartFailureOverrideReservedName'>here</a> for more info."
     ]
    }
   ],
   "source": [
    "import pandas as pd\n",
    "\n",
    "import os,sys\n",
    "from datetime import datetime\n",
    "\n",
    "k=100\n",
    "# Load your file into a pandas DataFrame\n",
    "data_frame_concat_data = pd.read_csv(r'C:\\Users\\Ratan Kumar Jha\\Desktop\\METER_IMPORTATION_SINGLE_FILE\\EESL_GENUS_PO0000000100_00000_SIM_20240104_104844_NBPDCL.csv', header=None)  # Replace 'your_input_file.csv' with your actual file name\n",
    "\n",
    "base_path = r'C:\\Users\\Ratan Kumar Jha\\Desktop\\METER_IMPORTATION_SINGLE_FILE\\single data_folder'\n",
    "\n",
    "num_folder = 0\n",
    "new_folder_name = \"EESL_BSNL_SINGLE_METER\"\n",
    "\n",
    "new_folder_path = os.path.join(base_path, new_folder_name)\n",
    "os.makedirs(new_folder_path)\n",
    "\n",
    "def get_current_time_stamp():\n",
    "    return f\"{datetime.now().strftime('%Y%m%d_%H%M%S')}\"\n",
    "\n",
    "CURRENT_TIME_STAMP = get_current_time_stamp()\n",
    "\n",
    "# Iterate through each row and save it as a separate file\n",
    "for index, row in data_frame_concat_data.iterrows():\n",
    "    \n",
    "    # Create a new DataFrame with the current row\n",
    "    single_row_df = pd.DataFrame([row])\n",
    "    #print(f\"single_row_data : {single_row_df}\")\n",
    "    last_part_after_semicolon = row[0].rsplit(';', 1)[-1]\n",
    "    #print(f\"last_word : {last_part_after_semicolon}\")\n",
    "\n",
    "\n",
    "    CURRENT_TIME_STAMP = get_current_time_stamp()\n",
    "    #print(CURRENT_TIME_STAMP)\n",
    "    \n",
    "    print(k)\n",
    "    print(\"-----------------\")\n",
    "    \n",
    "    # Create the full path for the new folder\n",
    "\n",
    "    if k > 995:\n",
    "        k = 100\n",
    "        num_folder = num_folder + 1\n",
    "        new_folder_name = \"EESL_BSNL_SINGLE_METER_\" + str(num_folder)\n",
    "        new_folder_path = os.path.join(base_path, new_folder_name)\n",
    "        os.makedirs(new_folder_path)\n",
    "    else:\n",
    "        file_name = f'EESL_BSNL_PO0000000{k}_00000_SIM_{CURRENT_TIME_STAMP}_{last_part_after_semicolon}.csv'\n",
    "        #print(f\"file name is {file_name}\")\n",
    "        file_path = os.path.join(new_folder_path, file_name)\n",
    "        #single_row_df.to_csv(r\"C:\\Users\\Ratan Kumar Jha\\Desktop\\satyam_data\\single_file_data\\file_name\", index=False, header=False) \n",
    "        single_row_df.to_csv(file_path, index=False, header=False)\n",
    "        k=k+1\n",
    "\n",
    "    \n",
    "print(\"SIM LINK FILE DONE\")"
   ]
  },
  {
   "cell_type": "code",
   "execution_count": null,
   "metadata": {},
   "outputs": [
    {
     "ename": "",
     "evalue": "",
     "output_type": "error",
     "traceback": [
      "\u001b[1;31mThe kernel failed to start due to the missing module 'dotenv'. Consider installing this module.\n",
      "\u001b[1;31mClick <a href='https://aka.ms/kernelFailuresMissingModule'>here</a> for more info.\n",
      "\u001b[1;31mSome of the following files found in the working directory may have prevented the Kernel from starting. Consider renaming them.\n",
      "\u001b[1;31mFile(s): <a href='file:///c%3A/PYTHON/EDF_CODE_AUTOMATION_PYTHON/METER_MATCHING_DATA/code.py?line=1'>~\\code.py</a> might need to be renamed.\n",
      "\u001b[1;31mClick <a href='https://aka.ms/JupyterKernelStartFailureOverrideReservedName'>here</a> for more info."
     ]
    }
   ],
   "source": [
    "import shutil\n",
    "\n",
    "# Specify the folder path\n",
    "folder_path = r'C:\\Users\\Ratan Kumar Jha\\Desktop\\METER_IMPORTATION_SINGLE_FILE\\single data_folder'\n",
    "\n",
    "# Specify the output zip file path\n",
    "output_zip_path = r'C:\\Users\\Ratan Kumar Jha\\Desktop\\METER_IMPORTATION_SINGLE_FILE\\zip_file'\n",
    "\n",
    "# Create a zip file from the folder\n",
    "shutil.make_archive(output_zip_path, 'zip', folder_path)\n",
    "\n",
    "print(f\"Zip file created at: {output_zip_path}\")"
   ]
  },
  {
   "cell_type": "code",
   "execution_count": null,
   "metadata": {},
   "outputs": [
    {
     "ename": "",
     "evalue": "",
     "output_type": "error",
     "traceback": [
      "\u001b[1;31mThe kernel failed to start due to the missing module 'dotenv'. Consider installing this module.\n",
      "\u001b[1;31mClick <a href='https://aka.ms/kernelFailuresMissingModule'>here</a> for more info.\n",
      "\u001b[1;31mSome of the following files found in the working directory may have prevented the Kernel from starting. Consider renaming them.\n",
      "\u001b[1;31mFile(s): <a href='file:///c%3A/PYTHON/EDF_CODE_AUTOMATION_PYTHON/METER_MATCHING_DATA/code.py?line=1'>~\\code.py</a> might need to be renamed.\n",
      "\u001b[1;31mClick <a href='https://aka.ms/JupyterKernelStartFailureOverrideReservedName'>here</a> for more info."
     ]
    }
   ],
   "source": []
  },
  {
   "cell_type": "markdown",
   "metadata": {},
   "source": [
    "#### METER,SIM AND METER-SIM LINK\n",
    "    - METER FILE PREPARE\n",
    "    - SIM FILE PREPARE\n",
    "    - SIM-METER LINK\n",
    "\n",
    "#### SIM AND METER-SIM LINK FILE\n",
    "    - SIM FILE\n",
    "    - METER-SIM LINK\n",
    "\n",
    "#### METER-SIM LINK\n",
    "    - METER-SIM LINK\n",
    "\n"
   ]
  },
  {
   "cell_type": "code",
   "execution_count": null,
   "metadata": {},
   "outputs": [
    {
     "ename": "",
     "evalue": "",
     "output_type": "error",
     "traceback": [
      "\u001b[1;31mThe kernel failed to start due to the missing module 'dotenv'. Consider installing this module.\n",
      "\u001b[1;31mClick <a href='https://aka.ms/kernelFailuresMissingModule'>here</a> for more info.\n",
      "\u001b[1;31mSome of the following files found in the working directory may have prevented the Kernel from starting. Consider renaming them.\n",
      "\u001b[1;31mFile(s): <a href='file:///c%3A/PYTHON/EDF_CODE_AUTOMATION_PYTHON/METER_MATCHING_DATA/code.py?line=1'>~\\code.py</a> might need to be renamed.\n",
      "\u001b[1;31mClick <a href='https://aka.ms/JupyterKernelStartFailureOverrideReservedName'>here</a> for more info."
     ]
    }
   ],
   "source": []
  }
 ],
 "metadata": {
  "kernelspec": {
   "display_name": "Python 3",
   "language": "python",
   "name": "python3"
  },
  "language_info": {
   "codemirror_mode": {
    "name": "ipython",
    "version": 3
   },
   "file_extension": ".py",
   "mimetype": "text/x-python",
   "name": "python",
   "nbconvert_exporter": "python",
   "pygments_lexer": "ipython3",
   "version": "3.9.18"
  }
 },
 "nbformat": 4,
 "nbformat_minor": 2
}
