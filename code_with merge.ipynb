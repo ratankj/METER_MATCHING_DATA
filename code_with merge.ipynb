{
 "cells": [
  {
   "cell_type": "code",
   "execution_count": 1,
   "metadata": {},
   "outputs": [],
   "source": [
    "import numpy as np\n",
    "import pandas as pd\n",
    "pd.set_option('display.max_columns', None)"
   ]
  },
  {
   "cell_type": "code",
   "execution_count": 2,
   "metadata": {},
   "outputs": [],
   "source": [
    "df_warehouse=pd.read_excel(r\"C:\\Users\\Ratan Kumar Jha\\Desktop\\new\\new_Warehouse Asset Module Check sheet Sample Master Sheet.xlsx\")"
   ]
  },
  {
   "cell_type": "code",
   "execution_count": 3,
   "metadata": {},
   "outputs": [],
   "source": [
    "df_warehouse.to_csv(\"warehouse_data.csv\",index=False)"
   ]
  },
  {
   "cell_type": "code",
   "execution_count": 4,
   "metadata": {},
   "outputs": [],
   "source": [
    "warehouse_Data = pd.read_csv(\"C:\\PYTHON\\EDF_CODE_AUTOMATION_PYTHON\\METER_MATCHING_DATA\\warehouse_data.csv\")"
   ]
  },
  {
   "cell_type": "code",
   "execution_count": 5,
   "metadata": {},
   "outputs": [
    {
     "name": "stderr",
     "output_type": "stream",
     "text": [
      "C:\\Users\\Ratan Kumar Jha\\AppData\\Local\\Temp\\ipykernel_11432\\1010126284.py:1: DtypeWarning: Columns (2) have mixed types. Specify dtype option on import or set low_memory=False.\n",
      "  assest_initiation_invent_sb = pd.read_csv(r\"C:\\Users\\Ratan Kumar Jha\\Desktop\\new\\ASSET_INITIATION_INVENTORY_SB.CSV\")\n"
     ]
    }
   ],
   "source": [
    "assest_initiation_invent_sb = pd.read_csv(r\"C:\\Users\\Ratan Kumar Jha\\Desktop\\new\\ASSET_INITIATION_INVENTORY_SB.CSV\")"
   ]
  },
  {
   "cell_type": "code",
   "execution_count": 6,
   "metadata": {},
   "outputs": [],
   "source": [
    "assest_initiation_invent_nb = pd.read_csv(r\"C:\\Users\\Ratan Kumar Jha\\Desktop\\new\\ASSET_INITIATION_INVENTORY_NB.CSV\")"
   ]
  },
  {
   "cell_type": "markdown",
   "metadata": {},
   "source": [
    "# change data type into string"
   ]
  },
  {
   "cell_type": "code",
   "execution_count": 7,
   "metadata": {},
   "outputs": [],
   "source": [
    "# Convert all columns to string data type\n",
    "\n",
    "warehouse_Data = warehouse_Data.astype(str)\n",
    "assest_initiation_invent_nb = assest_initiation_invent_nb.astype(str)\n",
    "assest_initiation_invent_sb = assest_initiation_invent_sb.astype(str)\n"
   ]
  },
  {
   "cell_type": "code",
   "execution_count": null,
   "metadata": {},
   "outputs": [],
   "source": []
  },
  {
   "cell_type": "markdown",
   "metadata": {},
   "source": [
    "# change column name into upper string"
   ]
  },
  {
   "cell_type": "code",
   "execution_count": 8,
   "metadata": {},
   "outputs": [],
   "source": [
    "warehouse_Data.columns = warehouse_Data.columns.str.upper()\n",
    "assest_initiation_invent_nb.columns = assest_initiation_invent_nb.columns.str.upper()\n",
    "assest_initiation_invent_sb.columns = assest_initiation_invent_sb.columns.str.upper()"
   ]
  },
  {
   "cell_type": "code",
   "execution_count": null,
   "metadata": {},
   "outputs": [],
   "source": []
  },
  {
   "cell_type": "markdown",
   "metadata": {},
   "source": [
    "# trim the trailling and leading spaces of needed column"
   ]
  },
  {
   "cell_type": "code",
   "execution_count": 9,
   "metadata": {},
   "outputs": [],
   "source": [
    "# Remove leading and trailing whitespaces from all columns where dtype is 'O'\n",
    "warehouse_Data = warehouse_Data.apply(lambda x: x.str.strip() if x.dtype == 'O' else x)\n",
    "assest_initiation_invent_nb = assest_initiation_invent_nb.apply(lambda x: x.str.strip() if x.dtype == 'O' else x)\n",
    "assest_initiation_invent_sb = assest_initiation_invent_sb.apply(lambda x: x.str.strip() if x.dtype == 'O' else x)\n"
   ]
  },
  {
   "cell_type": "markdown",
   "metadata": {},
   "source": [
    "# strip the spaces in column "
   ]
  },
  {
   "cell_type": "code",
   "execution_count": 10,
   "metadata": {},
   "outputs": [],
   "source": [
    "# strip the spaces in column \n",
    "\n",
    "warehouse_Data.columns = warehouse_Data.columns.str.strip()\n",
    "assest_initiation_invent_nb.columns = assest_initiation_invent_nb.columns.str.strip()\n",
    "assest_initiation_invent_sb.columns = assest_initiation_invent_sb.columns.str.strip()\n",
    "\n"
   ]
  },
  {
   "cell_type": "code",
   "execution_count": null,
   "metadata": {},
   "outputs": [],
   "source": []
  },
  {
   "cell_type": "code",
   "execution_count": null,
   "metadata": {},
   "outputs": [],
   "source": []
  },
  {
   "cell_type": "code",
   "execution_count": null,
   "metadata": {},
   "outputs": [],
   "source": []
  },
  {
   "cell_type": "code",
   "execution_count": 11,
   "metadata": {},
   "outputs": [
    {
     "data": {
      "text/plain": [
       "SL. NO.                    1503\n",
       "METER NO.                  1503\n",
       "PHASE TYPE                 1503\n",
       "FINAL HES MAPPING          1503\n",
       "CATEGORY FOR DASHBOARD     1503\n",
       "SUPPLIER                   1503\n",
       "IME AS PER L&T SHIPMENT    1503\n",
       "SIM 19 DIST                1503\n",
       "IMSI                       1503\n",
       "IP                         1503\n",
       "REMARKS                    1503\n",
       "dtype: int64"
      ]
     },
     "execution_count": 11,
     "metadata": {},
     "output_type": "execute_result"
    }
   ],
   "source": [
    "warehouse_Data.count()"
   ]
  },
  {
   "cell_type": "code",
   "execution_count": 12,
   "metadata": {},
   "outputs": [
    {
     "data": {
      "text/plain": [
       "Index(['SL. NO.', 'METER NO.', 'PHASE TYPE', 'FINAL HES MAPPING',\n",
       "       'CATEGORY FOR DASHBOARD', 'SUPPLIER', 'IME AS PER L&T SHIPMENT',\n",
       "       'SIM 19 DIST', 'IMSI', 'IP', 'REMARKS'],\n",
       "      dtype='object')"
      ]
     },
     "execution_count": 12,
     "metadata": {},
     "output_type": "execute_result"
    }
   ],
   "source": [
    "warehouse_Data.columns"
   ]
  },
  {
   "cell_type": "code",
   "execution_count": null,
   "metadata": {},
   "outputs": [],
   "source": []
  },
  {
   "cell_type": "code",
   "execution_count": 13,
   "metadata": {},
   "outputs": [],
   "source": [
    "NB_SB_COMBINED_DATAFRAME = pd.concat([assest_initiation_invent_sb, assest_initiation_invent_nb], ignore_index=True)"
   ]
  },
  {
   "cell_type": "code",
   "execution_count": 14,
   "metadata": {},
   "outputs": [
    {
     "data": {
      "text/plain": [
       "METERNUMBER                                  0\n",
       "MFG_SERIAL_NUM                               0\n",
       "UDC_ID                                       0\n",
       "NETWORK_ID                                   0\n",
       "INSTALLATIONNUMBER                           0\n",
       "STATUS                                       0\n",
       "INSERT_TIME                                  0\n",
       "DECODE(D.ORG_ID,52,'SBPDCL',102,'NBPDCL')    0\n",
       "dtype: int64"
      ]
     },
     "execution_count": 14,
     "metadata": {},
     "output_type": "execute_result"
    }
   ],
   "source": [
    "NB_SB_COMBINED_DATAFRAME[NB_SB_COMBINED_DATAFRAME[\"NETWORK_ID\"].isnull()].count()"
   ]
  },
  {
   "cell_type": "code",
   "execution_count": 15,
   "metadata": {},
   "outputs": [],
   "source": [
    "LEFT_JOIN_WITH_METER_UTILITY_WAREHOUSE_AND_COMIBNED_DATA = pd.merge(warehouse_Data, NB_SB_COMBINED_DATAFRAME, left_on=['METER NO.', 'FINAL HES MAPPING'], right_on=['MFG_SERIAL_NUM', \"DECODE(D.ORG_ID,52,'SBPDCL',102,'NBPDCL')\"], how='left')"
   ]
  },
  {
   "cell_type": "code",
   "execution_count": 16,
   "metadata": {},
   "outputs": [
    {
     "data": {
      "text/plain": [
       "SL. NO.                                      1503\n",
       "METER NO.                                    1503\n",
       "PHASE TYPE                                   1503\n",
       "FINAL HES MAPPING                            1503\n",
       "CATEGORY FOR DASHBOARD                       1503\n",
       "SUPPLIER                                     1503\n",
       "IME AS PER L&T SHIPMENT                      1503\n",
       "SIM 19 DIST                                  1503\n",
       "IMSI                                         1503\n",
       "IP                                           1503\n",
       "REMARKS                                      1503\n",
       "METERNUMBER                                  1503\n",
       "MFG_SERIAL_NUM                               1503\n",
       "UDC_ID                                       1503\n",
       "NETWORK_ID                                   1503\n",
       "INSTALLATIONNUMBER                           1503\n",
       "STATUS                                       1503\n",
       "INSERT_TIME                                  1503\n",
       "DECODE(D.ORG_ID,52,'SBPDCL',102,'NBPDCL')    1503\n",
       "dtype: int64"
      ]
     },
     "execution_count": 16,
     "metadata": {},
     "output_type": "execute_result"
    }
   ],
   "source": [
    "LEFT_JOIN_WITH_METER_UTILITY_WAREHOUSE_AND_COMIBNED_DATA.count()"
   ]
  },
  {
   "cell_type": "code",
   "execution_count": 17,
   "metadata": {},
   "outputs": [],
   "source": [
    "LEFT_JOIN_WITH_IMSI_WAREHOUSE_AND_COMIBNED_DATA = pd.merge(warehouse_Data, NB_SB_COMBINED_DATAFRAME, left_on=['IMSI'], right_on=['UDC_ID'], how='left')"
   ]
  },
  {
   "cell_type": "code",
   "execution_count": 18,
   "metadata": {},
   "outputs": [
    {
     "data": {
      "text/plain": [
       "SL. NO.                                      1507\n",
       "METER NO.                                    1507\n",
       "PHASE TYPE                                   1507\n",
       "FINAL HES MAPPING                            1507\n",
       "CATEGORY FOR DASHBOARD                       1507\n",
       "SUPPLIER                                     1507\n",
       "IME AS PER L&T SHIPMENT                      1507\n",
       "SIM 19 DIST                                  1507\n",
       "IMSI                                         1507\n",
       "IP                                           1507\n",
       "REMARKS                                      1507\n",
       "METERNUMBER                                  1507\n",
       "MFG_SERIAL_NUM                               1507\n",
       "UDC_ID                                       1507\n",
       "NETWORK_ID                                   1507\n",
       "INSTALLATIONNUMBER                           1507\n",
       "STATUS                                       1507\n",
       "INSERT_TIME                                  1507\n",
       "DECODE(D.ORG_ID,52,'SBPDCL',102,'NBPDCL')    1507\n",
       "dtype: int64"
      ]
     },
     "execution_count": 18,
     "metadata": {},
     "output_type": "execute_result"
    }
   ],
   "source": [
    "LEFT_JOIN_WITH_IMSI_WAREHOUSE_AND_COMIBNED_DATA.count()"
   ]
  },
  {
   "cell_type": "markdown",
   "metadata": {},
   "source": [
    "# duplicate row while we join with imsi "
   ]
  },
  {
   "cell_type": "code",
   "execution_count": 19,
   "metadata": {},
   "outputs": [],
   "source": [
    "#LEFT_JOIN_WITH_IMSI_WAREHOUSE_AND_COMIBNED_DATA[~LEFT_JOIN_WITH_IMSI_WAREHOUSE_AND_COMIBNED_DATA['UDC_ID'].isnull()].count()"
   ]
  },
  {
   "cell_type": "code",
   "execution_count": 20,
   "metadata": {},
   "outputs": [],
   "source": [
    "# duplicated row ..  bcz in asset initiation file there are 2 installtion no.  with respect to 1 imsi no.\n",
    "\n",
    "duplicate_check = LEFT_JOIN_WITH_IMSI_WAREHOUSE_AND_COMIBNED_DATA[LEFT_JOIN_WITH_IMSI_WAREHOUSE_AND_COMIBNED_DATA['UDC_ID'].duplicated(keep=False)]\n",
    "\n",
    "duplicate_check.to_csv(r'C:\\Users\\Ratan Kumar Jha\\Desktop\\new\\duplicate_check_wrt_IMSI_IN_ASSET_FIL.csv',index=False)\n",
    "duplicate_check.to_csv(r\"C:\\PYTHON\\EDF_CODE_AUTOMATION_PYTHON\\METER_MATCHING_DATA\\duplicate_check_wrt_IMSI_IN_ASSET_FIL.csv\",index=False)"
   ]
  },
  {
   "cell_type": "code",
   "execution_count": 21,
   "metadata": {},
   "outputs": [
    {
     "data": {
      "text/plain": [
       "SL. NO.                                      1507\n",
       "METER NO.                                    1507\n",
       "PHASE TYPE                                   1507\n",
       "FINAL HES MAPPING                            1507\n",
       "CATEGORY FOR DASHBOARD                       1507\n",
       "SUPPLIER                                     1507\n",
       "IME AS PER L&T SHIPMENT                      1507\n",
       "SIM 19 DIST                                  1507\n",
       "IMSI                                         1507\n",
       "IP                                           1507\n",
       "REMARKS                                      1507\n",
       "METERNUMBER                                  1507\n",
       "MFG_SERIAL_NUM                               1507\n",
       "UDC_ID                                       1507\n",
       "NETWORK_ID                                   1507\n",
       "INSTALLATIONNUMBER                           1507\n",
       "STATUS                                       1507\n",
       "INSERT_TIME                                  1507\n",
       "DECODE(D.ORG_ID,52,'SBPDCL',102,'NBPDCL')    1507\n",
       "dtype: int64"
      ]
     },
     "execution_count": 21,
     "metadata": {},
     "output_type": "execute_result"
    }
   ],
   "source": [
    "LEFT_JOIN_WITH_IMSI_WAREHOUSE_AND_COMIBNED_DATA.count()\n"
   ]
  },
  {
   "cell_type": "code",
   "execution_count": 22,
   "metadata": {},
   "outputs": [],
   "source": [
    "LEFT_JOIN_WITH_IMSI_WAREHOUSE_AND_COMIBNED_DATA.drop_duplicates(subset=['IMSI'],inplace=True)\n"
   ]
  },
  {
   "cell_type": "code",
   "execution_count": 23,
   "metadata": {},
   "outputs": [
    {
     "data": {
      "text/plain": [
       "SL. NO.                                      1503\n",
       "METER NO.                                    1503\n",
       "PHASE TYPE                                   1503\n",
       "FINAL HES MAPPING                            1503\n",
       "CATEGORY FOR DASHBOARD                       1503\n",
       "SUPPLIER                                     1503\n",
       "IME AS PER L&T SHIPMENT                      1503\n",
       "SIM 19 DIST                                  1503\n",
       "IMSI                                         1503\n",
       "IP                                           1503\n",
       "REMARKS                                      1503\n",
       "METERNUMBER                                  1503\n",
       "MFG_SERIAL_NUM                               1503\n",
       "UDC_ID                                       1503\n",
       "NETWORK_ID                                   1503\n",
       "INSTALLATIONNUMBER                           1503\n",
       "STATUS                                       1503\n",
       "INSERT_TIME                                  1503\n",
       "DECODE(D.ORG_ID,52,'SBPDCL',102,'NBPDCL')    1503\n",
       "dtype: int64"
      ]
     },
     "execution_count": 23,
     "metadata": {},
     "output_type": "execute_result"
    }
   ],
   "source": [
    "LEFT_JOIN_WITH_IMSI_WAREHOUSE_AND_COMIBNED_DATA.count()"
   ]
  },
  {
   "cell_type": "code",
   "execution_count": null,
   "metadata": {},
   "outputs": [],
   "source": []
  },
  {
   "cell_type": "code",
   "execution_count": 24,
   "metadata": {},
   "outputs": [],
   "source": [
    "#LEFT_JOIN_WITH_METER_UTILITY_WAREHOUSE_AND_COMIBNED_DATA[LEFT_JOIN_WITH_METER_UTILITY_WAREHOUSE_AND_COMIBNED_DATA['METER NO.']=='LT0783643']"
   ]
  },
  {
   "cell_type": "code",
   "execution_count": null,
   "metadata": {},
   "outputs": [],
   "source": []
  },
  {
   "cell_type": "markdown",
   "metadata": {},
   "source": [
    "##### joining both the table \"   LEFT_JOIN_WITH_METER_UTILITY_WAREHOUSE_AND_COMIBNED_DATA   \"       and            \" LEFT_JOIN_WITH_IMSI_WAREHOUSE_AND_COMIBNED_DATA \""
   ]
  },
  {
   "cell_type": "code",
   "execution_count": null,
   "metadata": {},
   "outputs": [],
   "source": []
  },
  {
   "cell_type": "code",
   "execution_count": null,
   "metadata": {},
   "outputs": [],
   "source": []
  },
  {
   "cell_type": "code",
   "execution_count": 25,
   "metadata": {},
   "outputs": [],
   "source": [
    "# LEFT_JOIN_WITH_METER_UTILITY_WAREHOUSE_AND_COMIBNED_DATA : column rename"
   ]
  },
  {
   "cell_type": "code",
   "execution_count": 26,
   "metadata": {},
   "outputs": [],
   "source": [
    "LEFT_JOIN_WITH_METER_UTILITY_WAREHOUSE_AND_COMIBNED_DATA.rename(\n",
    "    columns={\"UDC_ID\": \"METER_MATCH_UDC_ID\", \"NETWORK_ID\": \"METER_MATCH_IP\", \"STATUS\": \"METER_MATCH_STATUS\",\"DECODE(D.ORG_ID,52,'SBPDCL',102,'NBPDCL')\":\"METER_MATCH_UTILITY\"},\n",
    "    inplace=True\n",
    ")\n",
    "\n"
   ]
  },
  {
   "cell_type": "code",
   "execution_count": 27,
   "metadata": {},
   "outputs": [],
   "source": [
    "# LEFT_JOIN_WITH_METER_UTILITY_WAREHOUSE_AND_COMIBNED_DATA : column in modified column"
   ]
  },
  {
   "cell_type": "code",
   "execution_count": 28,
   "metadata": {},
   "outputs": [],
   "source": [
    "LEFT_JOIN_WITH_METER_UTILITY_WAREHOUSE_AND_COMIBNED_DATA_MODIFIED = LEFT_JOIN_WITH_METER_UTILITY_WAREHOUSE_AND_COMIBNED_DATA[['SL. NO.','METER NO.','PHASE TYPE','FINAL HES MAPPING','CATEGORY FOR DASHBOARD','SUPPLIER','IME AS PER L&T SHIPMENT','SIM 19 DIST','IMSI','IP','REMARKS',\"METER_MATCH_UDC_ID\",\"METER_MATCH_IP\",\"METER_MATCH_STATUS\",\"METER_MATCH_UTILITY\"]]"
   ]
  },
  {
   "cell_type": "code",
   "execution_count": 29,
   "metadata": {},
   "outputs": [],
   "source": [
    "# LEFT_JOIN_WITH_IMSI_WAREHOUSE_AND_COMIBNED_DATA : column rename"
   ]
  },
  {
   "cell_type": "code",
   "execution_count": 30,
   "metadata": {},
   "outputs": [],
   "source": [
    "LEFT_JOIN_WITH_IMSI_WAREHOUSE_AND_COMIBNED_DATA.rename(\n",
    "    columns = {\"MFG_SERIAL_NUM\":\"IMSI_MATCHED_METER_NO\",\"NETWORK_ID\":\"IMSI_MATCHED_IP\",\"STATUS\":\"IMSI_MATCHED_STATUS\",\"DECODE(D.ORG_ID,52,'SBPDCL',102,'NBPDCL')\":\"IMSI_MATCHED_UTILITY\"},\n",
    "    inplace=True\n",
    ")"
   ]
  },
  {
   "cell_type": "code",
   "execution_count": 31,
   "metadata": {},
   "outputs": [],
   "source": [
    "LEFT_JOIN_WITH_IMSI_WAREHOUSE_AND_COMIBNED_DATA_MODIFIED = LEFT_JOIN_WITH_IMSI_WAREHOUSE_AND_COMIBNED_DATA[['SL. NO.','METER NO.','PHASE TYPE','FINAL HES MAPPING','CATEGORY FOR DASHBOARD','SUPPLIER','IME AS PER L&T SHIPMENT','SIM 19 DIST','IMSI','IP','REMARKS',\"IMSI_MATCHED_METER_NO\",\"IMSI_MATCHED_IP\",\"IMSI_MATCHED_STATUS\",\"IMSI_MATCHED_UTILITY\"]]"
   ]
  },
  {
   "cell_type": "code",
   "execution_count": null,
   "metadata": {},
   "outputs": [],
   "source": []
  },
  {
   "cell_type": "markdown",
   "metadata": {},
   "source": [
    "### WORK ON LEFT_JOIN_WITH_IMSI_WAREHOUSE_AND_COMIBNED_DATA_MODIFIED  and  LEFT_JOIN_WITH_METER_UTILITY_WAREHOUSE_AND_COMIBNED_DATA_MODIFIED"
   ]
  },
  {
   "cell_type": "code",
   "execution_count": null,
   "metadata": {},
   "outputs": [],
   "source": []
  },
  {
   "cell_type": "code",
   "execution_count": 32,
   "metadata": {},
   "outputs": [
    {
     "data": {
      "text/html": [
       "<div>\n",
       "<style scoped>\n",
       "    .dataframe tbody tr th:only-of-type {\n",
       "        vertical-align: middle;\n",
       "    }\n",
       "\n",
       "    .dataframe tbody tr th {\n",
       "        vertical-align: top;\n",
       "    }\n",
       "\n",
       "    .dataframe thead th {\n",
       "        text-align: right;\n",
       "    }\n",
       "</style>\n",
       "<table border=\"1\" class=\"dataframe\">\n",
       "  <thead>\n",
       "    <tr style=\"text-align: right;\">\n",
       "      <th></th>\n",
       "      <th>SL. NO.</th>\n",
       "      <th>METER NO.</th>\n",
       "      <th>PHASE TYPE</th>\n",
       "      <th>FINAL HES MAPPING</th>\n",
       "      <th>CATEGORY FOR DASHBOARD</th>\n",
       "      <th>SUPPLIER</th>\n",
       "      <th>IME AS PER L&amp;T SHIPMENT</th>\n",
       "      <th>SIM 19 DIST</th>\n",
       "      <th>IMSI</th>\n",
       "      <th>IP</th>\n",
       "      <th>REMARKS</th>\n",
       "      <th>IMSI_MATCHED_METER_NO</th>\n",
       "      <th>IMSI_MATCHED_IP</th>\n",
       "      <th>IMSI_MATCHED_STATUS</th>\n",
       "      <th>IMSI_MATCHED_UTILITY</th>\n",
       "    </tr>\n",
       "  </thead>\n",
       "  <tbody>\n",
       "    <tr>\n",
       "      <th>0</th>\n",
       "      <td>1</td>\n",
       "      <td>LT0550833</td>\n",
       "      <td>1 Phase</td>\n",
       "      <td>SBPDCL</td>\n",
       "      <td>In Wh</td>\n",
       "      <td>L&amp;T</td>\n",
       "      <td>865681067087669</td>\n",
       "      <td>8991856040706391325</td>\n",
       "      <td>405856706936334</td>\n",
       "      <td>2405:0203:0529:70CE:0000:0000:0000:0010</td>\n",
       "      <td>S2S Repaired In Wh</td>\n",
       "      <td>LT0550833</td>\n",
       "      <td>2405:0203:0529:70CE:0000:0000:0000:0010</td>\n",
       "      <td>Installed</td>\n",
       "      <td>SBPDCL</td>\n",
       "    </tr>\n",
       "    <tr>\n",
       "      <th>1</th>\n",
       "      <td>2</td>\n",
       "      <td>LT0552980</td>\n",
       "      <td>1 Phase</td>\n",
       "      <td>NBPDCL</td>\n",
       "      <td>In WH</td>\n",
       "      <td>L&amp;T</td>\n",
       "      <td>865681062845947</td>\n",
       "      <td>8991856040706392779</td>\n",
       "      <td>405856706937788</td>\n",
       "      <td>2405:0203:0529:0F60:0000:0000:0000:0010</td>\n",
       "      <td>S2S Repaired In Wh</td>\n",
       "      <td>LT0552980</td>\n",
       "      <td>2405:0203:0529:0F60:0000:0000:0000:0010</td>\n",
       "      <td>Refurbished</td>\n",
       "      <td>NBPDCL</td>\n",
       "    </tr>\n",
       "    <tr>\n",
       "      <th>2</th>\n",
       "      <td>3</td>\n",
       "      <td>LT0553793</td>\n",
       "      <td>1 Phase</td>\n",
       "      <td>NBPDCL</td>\n",
       "      <td>In WH</td>\n",
       "      <td>L&amp;T</td>\n",
       "      <td>865681062076451</td>\n",
       "      <td>8991856040706392507</td>\n",
       "      <td>405856706937516</td>\n",
       "      <td>2405:0203:0529:128D:0000:0000:0000:0010</td>\n",
       "      <td>S2S Repaired In Wh</td>\n",
       "      <td>LT0553793</td>\n",
       "      <td>2405:0203:0529:128D:0000:0000:0000:0010</td>\n",
       "      <td>Refurbished</td>\n",
       "      <td>NBPDCL</td>\n",
       "    </tr>\n",
       "  </tbody>\n",
       "</table>\n",
       "</div>"
      ],
      "text/plain": [
       "  SL. NO.  METER NO. PHASE TYPE FINAL HES MAPPING CATEGORY FOR DASHBOARD  \\\n",
       "0       1  LT0550833    1 Phase            SBPDCL                  In Wh   \n",
       "1       2  LT0552980    1 Phase            NBPDCL                  In WH   \n",
       "2       3  LT0553793    1 Phase            NBPDCL                  In WH   \n",
       "\n",
       "  SUPPLIER IME AS PER L&T SHIPMENT          SIM 19 DIST             IMSI  \\\n",
       "0      L&T         865681067087669  8991856040706391325  405856706936334   \n",
       "1      L&T         865681062845947  8991856040706392779  405856706937788   \n",
       "2      L&T         865681062076451  8991856040706392507  405856706937516   \n",
       "\n",
       "                                        IP             REMARKS  \\\n",
       "0  2405:0203:0529:70CE:0000:0000:0000:0010  S2S Repaired In Wh   \n",
       "1  2405:0203:0529:0F60:0000:0000:0000:0010  S2S Repaired In Wh   \n",
       "2  2405:0203:0529:128D:0000:0000:0000:0010  S2S Repaired In Wh   \n",
       "\n",
       "  IMSI_MATCHED_METER_NO                          IMSI_MATCHED_IP  \\\n",
       "0             LT0550833  2405:0203:0529:70CE:0000:0000:0000:0010   \n",
       "1             LT0552980  2405:0203:0529:0F60:0000:0000:0000:0010   \n",
       "2             LT0553793  2405:0203:0529:128D:0000:0000:0000:0010   \n",
       "\n",
       "  IMSI_MATCHED_STATUS IMSI_MATCHED_UTILITY  \n",
       "0           Installed               SBPDCL  \n",
       "1         Refurbished               NBPDCL  \n",
       "2         Refurbished               NBPDCL  "
      ]
     },
     "execution_count": 32,
     "metadata": {},
     "output_type": "execute_result"
    }
   ],
   "source": [
    "LEFT_JOIN_WITH_IMSI_WAREHOUSE_AND_COMIBNED_DATA_MODIFIED.head(3)"
   ]
  },
  {
   "cell_type": "code",
   "execution_count": 33,
   "metadata": {},
   "outputs": [
    {
     "data": {
      "text/html": [
       "<div>\n",
       "<style scoped>\n",
       "    .dataframe tbody tr th:only-of-type {\n",
       "        vertical-align: middle;\n",
       "    }\n",
       "\n",
       "    .dataframe tbody tr th {\n",
       "        vertical-align: top;\n",
       "    }\n",
       "\n",
       "    .dataframe thead th {\n",
       "        text-align: right;\n",
       "    }\n",
       "</style>\n",
       "<table border=\"1\" class=\"dataframe\">\n",
       "  <thead>\n",
       "    <tr style=\"text-align: right;\">\n",
       "      <th></th>\n",
       "      <th>SL. NO.</th>\n",
       "      <th>METER NO.</th>\n",
       "      <th>PHASE TYPE</th>\n",
       "      <th>FINAL HES MAPPING</th>\n",
       "      <th>CATEGORY FOR DASHBOARD</th>\n",
       "      <th>SUPPLIER</th>\n",
       "      <th>IME AS PER L&amp;T SHIPMENT</th>\n",
       "      <th>SIM 19 DIST</th>\n",
       "      <th>IMSI</th>\n",
       "      <th>IP</th>\n",
       "      <th>REMARKS</th>\n",
       "      <th>METER_MATCH_UDC_ID</th>\n",
       "      <th>METER_MATCH_IP</th>\n",
       "      <th>METER_MATCH_STATUS</th>\n",
       "      <th>METER_MATCH_UTILITY</th>\n",
       "    </tr>\n",
       "  </thead>\n",
       "  <tbody>\n",
       "    <tr>\n",
       "      <th>0</th>\n",
       "      <td>1</td>\n",
       "      <td>LT0550833</td>\n",
       "      <td>1 Phase</td>\n",
       "      <td>SBPDCL</td>\n",
       "      <td>In Wh</td>\n",
       "      <td>L&amp;T</td>\n",
       "      <td>865681067087669</td>\n",
       "      <td>8991856040706391325</td>\n",
       "      <td>405856706936334</td>\n",
       "      <td>2405:0203:0529:70CE:0000:0000:0000:0010</td>\n",
       "      <td>S2S Repaired In Wh</td>\n",
       "      <td>405856706936334</td>\n",
       "      <td>2405:0203:0529:70CE:0000:0000:0000:0010</td>\n",
       "      <td>Installed</td>\n",
       "      <td>SBPDCL</td>\n",
       "    </tr>\n",
       "    <tr>\n",
       "      <th>1</th>\n",
       "      <td>2</td>\n",
       "      <td>LT0552980</td>\n",
       "      <td>1 Phase</td>\n",
       "      <td>NBPDCL</td>\n",
       "      <td>In WH</td>\n",
       "      <td>L&amp;T</td>\n",
       "      <td>865681062845947</td>\n",
       "      <td>8991856040706392779</td>\n",
       "      <td>405856706937788</td>\n",
       "      <td>2405:0203:0529:0F60:0000:0000:0000:0010</td>\n",
       "      <td>S2S Repaired In Wh</td>\n",
       "      <td>405856706937788</td>\n",
       "      <td>2405:0203:0529:0F60:0000:0000:0000:0010</td>\n",
       "      <td>Refurbished</td>\n",
       "      <td>NBPDCL</td>\n",
       "    </tr>\n",
       "    <tr>\n",
       "      <th>2</th>\n",
       "      <td>3</td>\n",
       "      <td>LT0553793</td>\n",
       "      <td>1 Phase</td>\n",
       "      <td>NBPDCL</td>\n",
       "      <td>In WH</td>\n",
       "      <td>L&amp;T</td>\n",
       "      <td>865681062076451</td>\n",
       "      <td>8991856040706392507</td>\n",
       "      <td>405856706937516</td>\n",
       "      <td>2405:0203:0529:128D:0000:0000:0000:0010</td>\n",
       "      <td>S2S Repaired In Wh</td>\n",
       "      <td>405856706937516</td>\n",
       "      <td>2405:0203:0529:128D:0000:0000:0000:0010</td>\n",
       "      <td>Refurbished</td>\n",
       "      <td>NBPDCL</td>\n",
       "    </tr>\n",
       "  </tbody>\n",
       "</table>\n",
       "</div>"
      ],
      "text/plain": [
       "  SL. NO.  METER NO. PHASE TYPE FINAL HES MAPPING CATEGORY FOR DASHBOARD  \\\n",
       "0       1  LT0550833    1 Phase            SBPDCL                  In Wh   \n",
       "1       2  LT0552980    1 Phase            NBPDCL                  In WH   \n",
       "2       3  LT0553793    1 Phase            NBPDCL                  In WH   \n",
       "\n",
       "  SUPPLIER IME AS PER L&T SHIPMENT          SIM 19 DIST             IMSI  \\\n",
       "0      L&T         865681067087669  8991856040706391325  405856706936334   \n",
       "1      L&T         865681062845947  8991856040706392779  405856706937788   \n",
       "2      L&T         865681062076451  8991856040706392507  405856706937516   \n",
       "\n",
       "                                        IP             REMARKS  \\\n",
       "0  2405:0203:0529:70CE:0000:0000:0000:0010  S2S Repaired In Wh   \n",
       "1  2405:0203:0529:0F60:0000:0000:0000:0010  S2S Repaired In Wh   \n",
       "2  2405:0203:0529:128D:0000:0000:0000:0010  S2S Repaired In Wh   \n",
       "\n",
       "  METER_MATCH_UDC_ID                           METER_MATCH_IP  \\\n",
       "0    405856706936334  2405:0203:0529:70CE:0000:0000:0000:0010   \n",
       "1    405856706937788  2405:0203:0529:0F60:0000:0000:0000:0010   \n",
       "2    405856706937516  2405:0203:0529:128D:0000:0000:0000:0010   \n",
       "\n",
       "  METER_MATCH_STATUS METER_MATCH_UTILITY  \n",
       "0          Installed              SBPDCL  \n",
       "1        Refurbished              NBPDCL  \n",
       "2        Refurbished              NBPDCL  "
      ]
     },
     "execution_count": 33,
     "metadata": {},
     "output_type": "execute_result"
    }
   ],
   "source": [
    "LEFT_JOIN_WITH_METER_UTILITY_WAREHOUSE_AND_COMIBNED_DATA_MODIFIED.head(3)"
   ]
  },
  {
   "cell_type": "code",
   "execution_count": 34,
   "metadata": {},
   "outputs": [],
   "source": [
    "#"
   ]
  },
  {
   "cell_type": "markdown",
   "metadata": {},
   "source": [
    "# data correction"
   ]
  },
  {
   "cell_type": "code",
   "execution_count": 35,
   "metadata": {},
   "outputs": [],
   "source": [
    "# Convert all columns to string data type\n",
    "\n",
    "# change into str\n",
    "LEFT_JOIN_WITH_IMSI_WAREHOUSE_AND_COMIBNED_DATA_MODIFIED = LEFT_JOIN_WITH_IMSI_WAREHOUSE_AND_COMIBNED_DATA_MODIFIED.astype(str)\n",
    "LEFT_JOIN_WITH_METER_UTILITY_WAREHOUSE_AND_COMIBNED_DATA_MODIFIED = LEFT_JOIN_WITH_METER_UTILITY_WAREHOUSE_AND_COMIBNED_DATA_MODIFIED.astype(str)\n",
    "\n",
    "\n",
    "# ----------------------------------------------------------------------------------\n",
    "\n",
    "# change into upper\n",
    "LEFT_JOIN_WITH_IMSI_WAREHOUSE_AND_COMIBNED_DATA_MODIFIED.columns = LEFT_JOIN_WITH_IMSI_WAREHOUSE_AND_COMIBNED_DATA_MODIFIED.columns.str.upper()\n",
    "LEFT_JOIN_WITH_METER_UTILITY_WAREHOUSE_AND_COMIBNED_DATA_MODIFIED.columns = LEFT_JOIN_WITH_METER_UTILITY_WAREHOUSE_AND_COMIBNED_DATA_MODIFIED.columns.str.upper()\n",
    "\n",
    "\n",
    "# ----------------------------------------------------------------------------------\n",
    "\n",
    "# Remove leading and trailing whitespaces from all columns where dtype is 'O'\n",
    "LEFT_JOIN_WITH_IMSI_WAREHOUSE_AND_COMIBNED_DATA_MODIFIED = LEFT_JOIN_WITH_IMSI_WAREHOUSE_AND_COMIBNED_DATA_MODIFIED.apply(lambda x: x.str.strip() if x.dtype == 'O' else x)\n",
    "LEFT_JOIN_WITH_METER_UTILITY_WAREHOUSE_AND_COMIBNED_DATA_MODIFIED = LEFT_JOIN_WITH_METER_UTILITY_WAREHOUSE_AND_COMIBNED_DATA_MODIFIED.apply(lambda x: x.str.strip() if x.dtype == 'O' else x)\n",
    "\n",
    "\n"
   ]
  },
  {
   "cell_type": "code",
   "execution_count": 36,
   "metadata": {},
   "outputs": [
    {
     "data": {
      "text/html": [
       "<div>\n",
       "<style scoped>\n",
       "    .dataframe tbody tr th:only-of-type {\n",
       "        vertical-align: middle;\n",
       "    }\n",
       "\n",
       "    .dataframe tbody tr th {\n",
       "        vertical-align: top;\n",
       "    }\n",
       "\n",
       "    .dataframe thead th {\n",
       "        text-align: right;\n",
       "    }\n",
       "</style>\n",
       "<table border=\"1\" class=\"dataframe\">\n",
       "  <thead>\n",
       "    <tr style=\"text-align: right;\">\n",
       "      <th></th>\n",
       "      <th>SL. NO.</th>\n",
       "      <th>METER NO.</th>\n",
       "      <th>PHASE TYPE</th>\n",
       "      <th>FINAL HES MAPPING</th>\n",
       "      <th>CATEGORY FOR DASHBOARD</th>\n",
       "      <th>SUPPLIER</th>\n",
       "      <th>IME AS PER L&amp;T SHIPMENT</th>\n",
       "      <th>SIM 19 DIST</th>\n",
       "      <th>IMSI</th>\n",
       "      <th>IP</th>\n",
       "      <th>REMARKS</th>\n",
       "      <th>METER_MATCH_UDC_ID</th>\n",
       "      <th>METER_MATCH_IP</th>\n",
       "      <th>METER_MATCH_STATUS</th>\n",
       "      <th>METER_MATCH_UTILITY</th>\n",
       "    </tr>\n",
       "  </thead>\n",
       "  <tbody>\n",
       "    <tr>\n",
       "      <th>0</th>\n",
       "      <td>1</td>\n",
       "      <td>LT0550833</td>\n",
       "      <td>1 Phase</td>\n",
       "      <td>SBPDCL</td>\n",
       "      <td>In Wh</td>\n",
       "      <td>L&amp;T</td>\n",
       "      <td>865681067087669</td>\n",
       "      <td>8991856040706391325</td>\n",
       "      <td>405856706936334</td>\n",
       "      <td>2405:0203:0529:70CE:0000:0000:0000:0010</td>\n",
       "      <td>S2S Repaired In Wh</td>\n",
       "      <td>405856706936334</td>\n",
       "      <td>2405:0203:0529:70CE:0000:0000:0000:0010</td>\n",
       "      <td>Installed</td>\n",
       "      <td>SBPDCL</td>\n",
       "    </tr>\n",
       "  </tbody>\n",
       "</table>\n",
       "</div>"
      ],
      "text/plain": [
       "  SL. NO.  METER NO. PHASE TYPE FINAL HES MAPPING CATEGORY FOR DASHBOARD  \\\n",
       "0       1  LT0550833    1 Phase            SBPDCL                  In Wh   \n",
       "\n",
       "  SUPPLIER IME AS PER L&T SHIPMENT          SIM 19 DIST             IMSI  \\\n",
       "0      L&T         865681067087669  8991856040706391325  405856706936334   \n",
       "\n",
       "                                        IP             REMARKS  \\\n",
       "0  2405:0203:0529:70CE:0000:0000:0000:0010  S2S Repaired In Wh   \n",
       "\n",
       "  METER_MATCH_UDC_ID                           METER_MATCH_IP  \\\n",
       "0    405856706936334  2405:0203:0529:70CE:0000:0000:0000:0010   \n",
       "\n",
       "  METER_MATCH_STATUS METER_MATCH_UTILITY  \n",
       "0          Installed              SBPDCL  "
      ]
     },
     "execution_count": 36,
     "metadata": {},
     "output_type": "execute_result"
    }
   ],
   "source": [
    "LEFT_JOIN_WITH_METER_UTILITY_WAREHOUSE_AND_COMIBNED_DATA_MODIFIED.head(1)"
   ]
  },
  {
   "cell_type": "markdown",
   "metadata": {},
   "source": [
    "# Merge IMSI  and METER  file"
   ]
  },
  {
   "cell_type": "code",
   "execution_count": 37,
   "metadata": {},
   "outputs": [],
   "source": [
    "warehouse_meter_imsi_data = pd.DataFrame(columns=['SL. NO.', 'METER NO.', 'PHASE TYPE', 'FINAL HES MAPPING',\n",
    "       'CATEGORY FOR DASHBOARD', 'SUPPLIER', 'IME AS PER L&T SHIPMENT',\n",
    "       'SIM 19 DIST', 'IMSI', 'IP', 'REMARKS', 'METER_MATCH_UDC_ID',\n",
    "       'METER_MATCH_IP', 'METER_MATCH_STATUS', 'METER_MATCH_UTILITY',\n",
    "       'IMSI_MATCHED_METER_NO', 'IMSI_MATCHED_IP', 'IMSI_MATCHED_STATUS',\n",
    "       'IMSI_MATCHED_UTILITY'])"
   ]
  },
  {
   "cell_type": "code",
   "execution_count": null,
   "metadata": {},
   "outputs": [],
   "source": []
  },
  {
   "cell_type": "code",
   "execution_count": 38,
   "metadata": {},
   "outputs": [],
   "source": [
    "warehouse_meter_imsi_data = pd.merge(LEFT_JOIN_WITH_METER_UTILITY_WAREHOUSE_AND_COMIBNED_DATA_MODIFIED, LEFT_JOIN_WITH_IMSI_WAREHOUSE_AND_COMIBNED_DATA_MODIFIED[['METER NO.', 'IMSI','IMSI_MATCHED_METER_NO','IMSI_MATCHED_IP','IMSI_MATCHED_STATUS','IMSI_MATCHED_UTILITY']], left_on=['METER NO.', 'IMSI'], right_on=['METER NO.', 'IMSI'], how='left')"
   ]
  },
  {
   "cell_type": "code",
   "execution_count": 39,
   "metadata": {},
   "outputs": [
    {
     "data": {
      "text/html": [
       "<div>\n",
       "<style scoped>\n",
       "    .dataframe tbody tr th:only-of-type {\n",
       "        vertical-align: middle;\n",
       "    }\n",
       "\n",
       "    .dataframe tbody tr th {\n",
       "        vertical-align: top;\n",
       "    }\n",
       "\n",
       "    .dataframe thead th {\n",
       "        text-align: right;\n",
       "    }\n",
       "</style>\n",
       "<table border=\"1\" class=\"dataframe\">\n",
       "  <thead>\n",
       "    <tr style=\"text-align: right;\">\n",
       "      <th></th>\n",
       "      <th>SL. NO.</th>\n",
       "      <th>METER NO.</th>\n",
       "      <th>PHASE TYPE</th>\n",
       "      <th>FINAL HES MAPPING</th>\n",
       "      <th>CATEGORY FOR DASHBOARD</th>\n",
       "      <th>SUPPLIER</th>\n",
       "      <th>IME AS PER L&amp;T SHIPMENT</th>\n",
       "      <th>SIM 19 DIST</th>\n",
       "      <th>IMSI</th>\n",
       "      <th>IP</th>\n",
       "      <th>REMARKS</th>\n",
       "      <th>METER_MATCH_UDC_ID</th>\n",
       "      <th>METER_MATCH_IP</th>\n",
       "      <th>METER_MATCH_STATUS</th>\n",
       "      <th>METER_MATCH_UTILITY</th>\n",
       "      <th>IMSI_MATCHED_METER_NO</th>\n",
       "      <th>IMSI_MATCHED_IP</th>\n",
       "      <th>IMSI_MATCHED_STATUS</th>\n",
       "      <th>IMSI_MATCHED_UTILITY</th>\n",
       "    </tr>\n",
       "  </thead>\n",
       "  <tbody>\n",
       "    <tr>\n",
       "      <th>0</th>\n",
       "      <td>1</td>\n",
       "      <td>LT0550833</td>\n",
       "      <td>1 Phase</td>\n",
       "      <td>SBPDCL</td>\n",
       "      <td>In Wh</td>\n",
       "      <td>L&amp;T</td>\n",
       "      <td>865681067087669</td>\n",
       "      <td>8991856040706391325</td>\n",
       "      <td>405856706936334</td>\n",
       "      <td>2405:0203:0529:70CE:0000:0000:0000:0010</td>\n",
       "      <td>S2S Repaired In Wh</td>\n",
       "      <td>405856706936334</td>\n",
       "      <td>2405:0203:0529:70CE:0000:0000:0000:0010</td>\n",
       "      <td>Installed</td>\n",
       "      <td>SBPDCL</td>\n",
       "      <td>LT0550833</td>\n",
       "      <td>2405:0203:0529:70CE:0000:0000:0000:0010</td>\n",
       "      <td>Installed</td>\n",
       "      <td>SBPDCL</td>\n",
       "    </tr>\n",
       "    <tr>\n",
       "      <th>1</th>\n",
       "      <td>2</td>\n",
       "      <td>LT0552980</td>\n",
       "      <td>1 Phase</td>\n",
       "      <td>NBPDCL</td>\n",
       "      <td>In WH</td>\n",
       "      <td>L&amp;T</td>\n",
       "      <td>865681062845947</td>\n",
       "      <td>8991856040706392779</td>\n",
       "      <td>405856706937788</td>\n",
       "      <td>2405:0203:0529:0F60:0000:0000:0000:0010</td>\n",
       "      <td>S2S Repaired In Wh</td>\n",
       "      <td>405856706937788</td>\n",
       "      <td>2405:0203:0529:0F60:0000:0000:0000:0010</td>\n",
       "      <td>Refurbished</td>\n",
       "      <td>NBPDCL</td>\n",
       "      <td>LT0552980</td>\n",
       "      <td>2405:0203:0529:0F60:0000:0000:0000:0010</td>\n",
       "      <td>Refurbished</td>\n",
       "      <td>NBPDCL</td>\n",
       "    </tr>\n",
       "  </tbody>\n",
       "</table>\n",
       "</div>"
      ],
      "text/plain": [
       "  SL. NO.  METER NO. PHASE TYPE FINAL HES MAPPING CATEGORY FOR DASHBOARD  \\\n",
       "0       1  LT0550833    1 Phase            SBPDCL                  In Wh   \n",
       "1       2  LT0552980    1 Phase            NBPDCL                  In WH   \n",
       "\n",
       "  SUPPLIER IME AS PER L&T SHIPMENT          SIM 19 DIST             IMSI  \\\n",
       "0      L&T         865681067087669  8991856040706391325  405856706936334   \n",
       "1      L&T         865681062845947  8991856040706392779  405856706937788   \n",
       "\n",
       "                                        IP             REMARKS  \\\n",
       "0  2405:0203:0529:70CE:0000:0000:0000:0010  S2S Repaired In Wh   \n",
       "1  2405:0203:0529:0F60:0000:0000:0000:0010  S2S Repaired In Wh   \n",
       "\n",
       "  METER_MATCH_UDC_ID                           METER_MATCH_IP  \\\n",
       "0    405856706936334  2405:0203:0529:70CE:0000:0000:0000:0010   \n",
       "1    405856706937788  2405:0203:0529:0F60:0000:0000:0000:0010   \n",
       "\n",
       "  METER_MATCH_STATUS METER_MATCH_UTILITY IMSI_MATCHED_METER_NO  \\\n",
       "0          Installed              SBPDCL             LT0550833   \n",
       "1        Refurbished              NBPDCL             LT0552980   \n",
       "\n",
       "                           IMSI_MATCHED_IP IMSI_MATCHED_STATUS  \\\n",
       "0  2405:0203:0529:70CE:0000:0000:0000:0010           Installed   \n",
       "1  2405:0203:0529:0F60:0000:0000:0000:0010         Refurbished   \n",
       "\n",
       "  IMSI_MATCHED_UTILITY  \n",
       "0               SBPDCL  \n",
       "1               NBPDCL  "
      ]
     },
     "execution_count": 39,
     "metadata": {},
     "output_type": "execute_result"
    }
   ],
   "source": [
    "warehouse_meter_imsi_data.head(2)"
   ]
  },
  {
   "cell_type": "code",
   "execution_count": 40,
   "metadata": {},
   "outputs": [],
   "source": [
    "# Convert all columns to string data type\n",
    "\n",
    "# change into str\n",
    "warehouse_meter_imsi_data = warehouse_meter_imsi_data.astype(str)\n",
    "\n",
    "# ----------------------------------------------------------------------------------\n",
    "\n",
    "# change into upper\n",
    "warehouse_meter_imsi_data.columns = warehouse_meter_imsi_data.columns.str.upper()\n",
    "\n",
    "# ----------------------------------------------------------------------------------\n",
    "\n",
    "\n",
    "# Remove leading and trailing whitespaces from all columns where dtype is 'O'\n",
    "warehouse_meter_imsi_data = warehouse_meter_imsi_data.apply(lambda x: x.str.strip() if x.dtype == 'O' else x)\n",
    "\n"
   ]
  },
  {
   "cell_type": "code",
   "execution_count": null,
   "metadata": {},
   "outputs": [],
   "source": []
  },
  {
   "cell_type": "markdown",
   "metadata": {},
   "source": [
    "# SIM SET CHECK STATUS"
   ]
  },
  {
   "cell_type": "code",
   "execution_count": 41,
   "metadata": {},
   "outputs": [],
   "source": [
    "def fun_sim_status_check(row):\n",
    "    if (row['IMSI'] == row['METER_MATCH_UDC_ID']) and (row['FINAL HES MAPPING'] == row['METER_MATCH_UTILITY']):\n",
    "        return \"SAME SET IN SAME UTILITY\"\n",
    "    elif (row['IMSI'] != row['METER_MATCH_UDC_ID']) and (row['FINAL HES MAPPING'] == row['METER_MATCH_UTILITY']):\n",
    "        return \"DIFFERENT SET IN SAME UTILITY\"\n",
    "    elif (row['IMSI'] == row['METER_MATCH_UDC_ID']) and (row['FINAL HES MAPPING'] != row['METER_MATCH_UTILITY']):\n",
    "        return \"SAME SET IN DIFFERENT UTILITY\"\n",
    "    elif (row['IMSI'] != row['METER_MATCH_UDC_ID']) and (row['fFINAL HES MAPPING'] != row['METER_MATCH_UTILITY']):\n",
    "        return \"DIFFERENT SET IN DIFFERENT UTILITY\"\n",
    "    else:\n",
    "        return None\n",
    "\n",
    "# Apply the function to create a new column\n",
    "warehouse_meter_imsi_data['SIM SET CHECK STATUS'] = warehouse_meter_imsi_data.apply(fun_sim_status_check, axis=1)\n",
    "\n"
   ]
  },
  {
   "cell_type": "code",
   "execution_count": null,
   "metadata": {},
   "outputs": [],
   "source": []
  },
  {
   "cell_type": "markdown",
   "metadata": {},
   "source": [
    "# TRUE - FALSE COLUMN"
   ]
  },
  {
   "cell_type": "code",
   "execution_count": 42,
   "metadata": {},
   "outputs": [],
   "source": [
    "def fun_check_true_false__METER_SIM(row):\n",
    "    if row['IMSI']==row['METER_MATCH_UDC_ID']:\n",
    "        return True\n",
    "    else:\n",
    "        return False\n",
    "    \n",
    "warehouse_meter_imsi_data[\"METER_SIM\"] =  warehouse_meter_imsi_data.apply(fun_check_true_false__METER_SIM, axis=1)"
   ]
  },
  {
   "cell_type": "code",
   "execution_count": 43,
   "metadata": {},
   "outputs": [],
   "source": [
    "def fun_check_true_false_METER_ORG(row):\n",
    "    if row['METER_MATCH_UTILITY']==row['FINAL HES MAPPING']:\n",
    "        return True\n",
    "    else:\n",
    "        return False\n",
    "    \n",
    "warehouse_meter_imsi_data[\"METER_ORG\"] =  warehouse_meter_imsi_data.apply(fun_check_true_false_METER_ORG, axis=1)"
   ]
  },
  {
   "cell_type": "code",
   "execution_count": 44,
   "metadata": {},
   "outputs": [],
   "source": [
    "def fun_check_true_false_SIM_ORG(row):\n",
    "    if row['IMSI_MATCHED_UTILITY']==row['FINAL HES MAPPING']:\n",
    "        return True\n",
    "    else:\n",
    "        return False\n",
    "    \n",
    "warehouse_meter_imsi_data[\"SIM_ORG\"] =  warehouse_meter_imsi_data.apply(fun_check_true_false_SIM_ORG, axis=1)"
   ]
  },
  {
   "cell_type": "code",
   "execution_count": 45,
   "metadata": {},
   "outputs": [],
   "source": [
    "def fun_check_true_false_METER_IP(row):\n",
    "    if row['METER_MATCH_IP']==row['IP']:\n",
    "        return True\n",
    "    else:\n",
    "        return False\n",
    "    \n",
    "warehouse_meter_imsi_data[\"METER_IP\"] =  warehouse_meter_imsi_data.apply(fun_check_true_false_METER_IP, axis=1)"
   ]
  },
  {
   "cell_type": "code",
   "execution_count": null,
   "metadata": {},
   "outputs": [],
   "source": []
  },
  {
   "cell_type": "markdown",
   "metadata": {},
   "source": [
    "# SIM SET CHECK STATUS RECHECK COLUMN"
   ]
  },
  {
   "cell_type": "code",
   "execution_count": null,
   "metadata": {},
   "outputs": [],
   "source": []
  },
  {
   "cell_type": "code",
   "execution_count": 46,
   "metadata": {},
   "outputs": [],
   "source": [
    "def check_set_and_utility(row):\n",
    "    if row['METER_SIM'] == True and ((row['METER_ORG'] == True) and (row[\"SIM_ORG\"] == True)) :\n",
    "        return \"SAME SET IN SAME UTILITY\"\n",
    "    elif row['METER_SIM'] == True and ((row['METER_ORG'] == False) and (row[\"SIM_ORG\"] == False)) :\n",
    "        return \"SAME SET IN DIFFERENT UTILITY\"\n",
    "    elif row['METER_SIM'] == False and ((row['METER_ORG'] == True) and (row[\"SIM_ORG\"] == True)) :\n",
    "        return \"DIFFERENT SET IN SAME UTILITY\"\n",
    "    elif row['METER_SIM'] == False and ((row['METER_ORG'] == False) and (row[\"SIM_ORG\"] == False)) :\n",
    "        return \"DIFFERENT SET IN DIFFERENT UTILITY\"\n",
    "    else:\n",
    "        return None\n",
    "\n",
    "\n",
    "warehouse_meter_imsi_data[\"SIM SET CHECK STATUS RECHECK\"] =  warehouse_meter_imsi_data.apply(check_set_and_utility, axis=1)\n"
   ]
  },
  {
   "cell_type": "code",
   "execution_count": 47,
   "metadata": {},
   "outputs": [
    {
     "data": {
      "text/plain": [
       "Index(['SL. NO.', 'METER NO.', 'PHASE TYPE', 'FINAL HES MAPPING',\n",
       "       'CATEGORY FOR DASHBOARD', 'SUPPLIER', 'IME AS PER L&T SHIPMENT',\n",
       "       'SIM 19 DIST', 'IMSI', 'IP', 'REMARKS', 'METER_MATCH_UDC_ID',\n",
       "       'METER_MATCH_IP', 'METER_MATCH_STATUS', 'METER_MATCH_UTILITY',\n",
       "       'IMSI_MATCHED_METER_NO', 'IMSI_MATCHED_IP', 'IMSI_MATCHED_STATUS',\n",
       "       'IMSI_MATCHED_UTILITY', 'SIM SET CHECK STATUS', 'METER_SIM',\n",
       "       'METER_ORG', 'SIM_ORG', 'METER_IP', 'SIM SET CHECK STATUS RECHECK'],\n",
       "      dtype='object')"
      ]
     },
     "execution_count": 47,
     "metadata": {},
     "output_type": "execute_result"
    }
   ],
   "source": [
    "warehouse_meter_imsi_data.columns"
   ]
  },
  {
   "cell_type": "markdown",
   "metadata": {},
   "source": [
    "# Action taken column"
   ]
  },
  {
   "cell_type": "code",
   "execution_count": 48,
   "metadata": {},
   "outputs": [],
   "source": [
    "\n",
    "def fun_action_taken_case_I(row):\n",
    "\n",
    "    # case 1\n",
    "    \n",
    "    if (row['METER_MATCH_STATUS'] == \"Installed\")  & (row['IMSI_MATCHED_STATUS'] == \"Installed\"):\n",
    "        return \"SET IS IN INSTALLED STAGE\"\n",
    "    elif (row['METER_MATCH_STATUS'] != \"Installed\")  & (row['IMSI_MATCHED_STATUS'] == \"Installed\"):\n",
    "        return \"IMSI IS IN INSTALLED STAGE\"\n",
    "    elif (row['METER_MATCH_STATUS'] == \"Installed\")  & (row['IMSI_MATCHED_STATUS'] != \"Installed\"):\n",
    "        return \"METER IS IN INSTALLED STAGE\"\n",
    "    \n",
    "    # case 2 \n",
    "\n",
    "\n",
    "    # set 1 and row['METER_IP'] == True\n",
    "    elif (row['METER_SIM'] == True) and ((row['METER_ORG']  == True) and (row[\"SIM_ORG\"] == True)) and (row['METER_IP'] == True):\n",
    "        return \"METER , SIM LINK FILE REQUIRED\"\n",
    "    \n",
    "    # set 1 and row['METER_IP'] == False \n",
    "    elif (row['METER_SIM'] == True) and ((row['METER_ORG'] == True) and (row[\"SIM_ORG\"] == True)) and (row['METER_IP'] == False) :\n",
    "        return \"SIM AND METER LINK FILE REQUIRED\"\n",
    "    \n",
    "    # set 2  \"SAME SET IN DIFFERENT UTILITY\"\n",
    "    elif (row['METER_SIM'] == True) and ((row['METER_ORG'] == False) and (row[\"SIM_ORG\"] == False)) :\n",
    "        return \"METER,SIM,METER-SIM LINK FILE REQUIRED\"\n",
    "    \n",
    "    #set 3  \"DIFFERENT SET IN SAME UTILITY\"\n",
    "    \n",
    "    elif (row['METER_SIM'] == False) and ((row['METER_ORG'] == True) and (row[\"SIM_ORG\"] == True)) :\n",
    "        return \"SIM AND METER SIM LINK FILE REQUIRED\"\n",
    "    \n",
    "    # set 4  \"DIFFERENT SET IN DIFFERENT UTILITY\"\n",
    "    elif (row['METER_SIM'] == False) and ((row['METER_ORG'] == False) and (row[\"SIM_ORG\"] == False)) :\n",
    "        return \"METER,SIM,METER-SIM LINK FILE REQUIRED\"\n",
    "    \n",
    "    else:\n",
    "        return \" NEED TO CHECK THIS FILE\"\n",
    "    \n",
    "    \n",
    "    \n",
    "warehouse_meter_imsi_data[\"ACTION TAKEN\"] =  warehouse_meter_imsi_data.apply(fun_action_taken_case_I, axis=1)"
   ]
  },
  {
   "cell_type": "code",
   "execution_count": null,
   "metadata": {},
   "outputs": [],
   "source": []
  },
  {
   "cell_type": "markdown",
   "metadata": {},
   "source": [
    "# Finally done"
   ]
  },
  {
   "cell_type": "code",
   "execution_count": 49,
   "metadata": {},
   "outputs": [
    {
     "data": {
      "text/html": [
       "<div>\n",
       "<style scoped>\n",
       "    .dataframe tbody tr th:only-of-type {\n",
       "        vertical-align: middle;\n",
       "    }\n",
       "\n",
       "    .dataframe tbody tr th {\n",
       "        vertical-align: top;\n",
       "    }\n",
       "\n",
       "    .dataframe thead th {\n",
       "        text-align: right;\n",
       "    }\n",
       "</style>\n",
       "<table border=\"1\" class=\"dataframe\">\n",
       "  <thead>\n",
       "    <tr style=\"text-align: right;\">\n",
       "      <th></th>\n",
       "      <th>SL. NO.</th>\n",
       "      <th>METER NO.</th>\n",
       "      <th>PHASE TYPE</th>\n",
       "      <th>FINAL HES MAPPING</th>\n",
       "      <th>CATEGORY FOR DASHBOARD</th>\n",
       "      <th>SUPPLIER</th>\n",
       "      <th>IME AS PER L&amp;T SHIPMENT</th>\n",
       "      <th>SIM 19 DIST</th>\n",
       "      <th>IMSI</th>\n",
       "      <th>IP</th>\n",
       "      <th>REMARKS</th>\n",
       "      <th>METER_MATCH_UDC_ID</th>\n",
       "      <th>METER_MATCH_IP</th>\n",
       "      <th>METER_MATCH_STATUS</th>\n",
       "      <th>METER_MATCH_UTILITY</th>\n",
       "      <th>IMSI_MATCHED_METER_NO</th>\n",
       "      <th>IMSI_MATCHED_IP</th>\n",
       "      <th>IMSI_MATCHED_STATUS</th>\n",
       "      <th>IMSI_MATCHED_UTILITY</th>\n",
       "      <th>SIM SET CHECK STATUS</th>\n",
       "      <th>METER_SIM</th>\n",
       "      <th>METER_ORG</th>\n",
       "      <th>SIM_ORG</th>\n",
       "      <th>METER_IP</th>\n",
       "      <th>SIM SET CHECK STATUS RECHECK</th>\n",
       "      <th>ACTION TAKEN</th>\n",
       "    </tr>\n",
       "  </thead>\n",
       "  <tbody>\n",
       "    <tr>\n",
       "      <th>0</th>\n",
       "      <td>1</td>\n",
       "      <td>LT0550833</td>\n",
       "      <td>1 Phase</td>\n",
       "      <td>SBPDCL</td>\n",
       "      <td>In Wh</td>\n",
       "      <td>L&amp;T</td>\n",
       "      <td>865681067087669</td>\n",
       "      <td>8991856040706391325</td>\n",
       "      <td>405856706936334</td>\n",
       "      <td>2405:0203:0529:70CE:0000:0000:0000:0010</td>\n",
       "      <td>S2S Repaired In Wh</td>\n",
       "      <td>405856706936334</td>\n",
       "      <td>2405:0203:0529:70CE:0000:0000:0000:0010</td>\n",
       "      <td>Installed</td>\n",
       "      <td>SBPDCL</td>\n",
       "      <td>LT0550833</td>\n",
       "      <td>2405:0203:0529:70CE:0000:0000:0000:0010</td>\n",
       "      <td>Installed</td>\n",
       "      <td>SBPDCL</td>\n",
       "      <td>SAME SET IN SAME UTILITY</td>\n",
       "      <td>True</td>\n",
       "      <td>True</td>\n",
       "      <td>True</td>\n",
       "      <td>True</td>\n",
       "      <td>SAME SET IN SAME UTILITY</td>\n",
       "      <td>SET IS IN INSTALLED STAGE</td>\n",
       "    </tr>\n",
       "  </tbody>\n",
       "</table>\n",
       "</div>"
      ],
      "text/plain": [
       "  SL. NO.  METER NO. PHASE TYPE FINAL HES MAPPING CATEGORY FOR DASHBOARD  \\\n",
       "0       1  LT0550833    1 Phase            SBPDCL                  In Wh   \n",
       "\n",
       "  SUPPLIER IME AS PER L&T SHIPMENT          SIM 19 DIST             IMSI  \\\n",
       "0      L&T         865681067087669  8991856040706391325  405856706936334   \n",
       "\n",
       "                                        IP             REMARKS  \\\n",
       "0  2405:0203:0529:70CE:0000:0000:0000:0010  S2S Repaired In Wh   \n",
       "\n",
       "  METER_MATCH_UDC_ID                           METER_MATCH_IP  \\\n",
       "0    405856706936334  2405:0203:0529:70CE:0000:0000:0000:0010   \n",
       "\n",
       "  METER_MATCH_STATUS METER_MATCH_UTILITY IMSI_MATCHED_METER_NO  \\\n",
       "0          Installed              SBPDCL             LT0550833   \n",
       "\n",
       "                           IMSI_MATCHED_IP IMSI_MATCHED_STATUS  \\\n",
       "0  2405:0203:0529:70CE:0000:0000:0000:0010           Installed   \n",
       "\n",
       "  IMSI_MATCHED_UTILITY      SIM SET CHECK STATUS  METER_SIM  METER_ORG  \\\n",
       "0               SBPDCL  SAME SET IN SAME UTILITY       True       True   \n",
       "\n",
       "   SIM_ORG  METER_IP SIM SET CHECK STATUS RECHECK               ACTION TAKEN  \n",
       "0     True      True     SAME SET IN SAME UTILITY  SET IS IN INSTALLED STAGE  "
      ]
     },
     "execution_count": 49,
     "metadata": {},
     "output_type": "execute_result"
    }
   ],
   "source": [
    "warehouse_meter_imsi_data.head(1)"
   ]
  },
  {
   "cell_type": "code",
   "execution_count": null,
   "metadata": {},
   "outputs": [],
   "source": []
  },
  {
   "cell_type": "markdown",
   "metadata": {},
   "source": [
    "# FINAL FILE SAVE AT MULTIPLE LOCATION"
   ]
  },
  {
   "cell_type": "code",
   "execution_count": 50,
   "metadata": {},
   "outputs": [],
   "source": [
    "# Final file at desktop folder\n",
    "\n",
    "warehouse_meter_imsi_data.to_csv(r'C:\\Users\\Ratan Kumar Jha\\Desktop\\new\\warehouse_Data_meter_sim_final.csv',index=False)\n",
    "\n",
    "\n",
    "# Final file in code folder\n",
    "\n",
    "warehouse_meter_imsi_data.to_csv(r\"C:\\PYTHON\\EDF_CODE_AUTOMATION_PYTHON\\METER_MATCHING_DATA\\warehouse_Data_meter_sim_final.csv\",index=False)"
   ]
  },
  {
   "cell_type": "code",
   "execution_count": 51,
   "metadata": {},
   "outputs": [],
   "source": [
    "warehouse_meter_imsi_data_check=pd.read_csv(r\"C:\\PYTHON\\EDF_CODE_AUTOMATION_PYTHON\\METER_MATCHING_DATA\\warehouse_Data_meter_sim_final.csv\")"
   ]
  },
  {
   "cell_type": "code",
   "execution_count": 52,
   "metadata": {},
   "outputs": [],
   "source": [
    "# Convert all columns to string data type\n",
    "\n",
    "# change into str\n",
    "warehouse_meter_imsi_data_check = warehouse_meter_imsi_data_check.astype(str)\n",
    "\n",
    "# ----------------------------------------------------------------------------------\n",
    "\n",
    "# change into upper\n",
    "warehouse_meter_imsi_data_check.columns = warehouse_meter_imsi_data_check.columns.str.upper()\n",
    "\n",
    "# ----------------------------------------------------------------------------------\n",
    "\n",
    "\n",
    "# Remove leading and trailing whitespaces from all columns where dtype is 'O'\n",
    "warehouse_meter_imsi_data_check = warehouse_meter_imsi_data_check.apply(lambda x: x.str.strip() if x.dtype == 'O' else x)"
   ]
  },
  {
   "cell_type": "code",
   "execution_count": null,
   "metadata": {},
   "outputs": [],
   "source": []
  },
  {
   "cell_type": "markdown",
   "metadata": {},
   "source": [
    "# NEED TO CHECK FILE"
   ]
  },
  {
   "cell_type": "code",
   "execution_count": 53,
   "metadata": {},
   "outputs": [],
   "source": [
    "NEED_TO_CHECK_FILE_WAREHOUSE_METER_SIM = warehouse_meter_imsi_data_check[warehouse_meter_imsi_data_check['ACTION TAKEN']==' NEED TO CHECK THIS FILE']"
   ]
  },
  {
   "cell_type": "code",
   "execution_count": 54,
   "metadata": {},
   "outputs": [],
   "source": [
    "NEED_TO_CHECK_FILE_WAREHOUSE_METER_SIM.to_csv(r\"C:\\PYTHON\\EDF_CODE_AUTOMATION_PYTHON\\METER_MATCHING_DATA\\NEED_TO_CHECK_THIS_FILE_WAREHOUSE_METER_SIM.csv\",index=False)\n",
    "NEED_TO_CHECK_FILE_WAREHOUSE_METER_SIM.to_csv(r'C:\\Users\\Ratan Kumar Jha\\Desktop\\new\\NEED_TO_CHECK_THIS_FILE_WAREHOUSE_METER_SIM.csv',index=False)\n",
    "\n"
   ]
  },
  {
   "cell_type": "code",
   "execution_count": 56,
   "metadata": {},
   "outputs": [],
   "source": [
    "NEED_TO_CHECK_FILE_WAREHOUSE_METER_SIM_CSV = pd.read_csv(r\"C:\\PYTHON\\EDF_CODE_AUTOMATION_PYTHON\\METER_MATCHING_DATA\\NEED_TO_CHECK_THIS_FILE_WAREHOUSE_METER_SIM.csv\")"
   ]
  },
  {
   "cell_type": "code",
   "execution_count": 57,
   "metadata": {},
   "outputs": [
    {
     "data": {
      "text/html": [
       "<div>\n",
       "<style scoped>\n",
       "    .dataframe tbody tr th:only-of-type {\n",
       "        vertical-align: middle;\n",
       "    }\n",
       "\n",
       "    .dataframe tbody tr th {\n",
       "        vertical-align: top;\n",
       "    }\n",
       "\n",
       "    .dataframe thead th {\n",
       "        text-align: right;\n",
       "    }\n",
       "</style>\n",
       "<table border=\"1\" class=\"dataframe\">\n",
       "  <thead>\n",
       "    <tr style=\"text-align: right;\">\n",
       "      <th></th>\n",
       "      <th>SL. NO.</th>\n",
       "      <th>METER NO.</th>\n",
       "      <th>PHASE TYPE</th>\n",
       "      <th>FINAL HES MAPPING</th>\n",
       "      <th>CATEGORY FOR DASHBOARD</th>\n",
       "      <th>SUPPLIER</th>\n",
       "      <th>IME AS PER L&amp;T SHIPMENT</th>\n",
       "      <th>SIM 19 DIST</th>\n",
       "      <th>IMSI</th>\n",
       "      <th>IP</th>\n",
       "      <th>REMARKS</th>\n",
       "      <th>METER_MATCH_UDC_ID</th>\n",
       "      <th>METER_MATCH_IP</th>\n",
       "      <th>METER_MATCH_STATUS</th>\n",
       "      <th>METER_MATCH_UTILITY</th>\n",
       "      <th>IMSI_MATCHED_METER_NO</th>\n",
       "      <th>IMSI_MATCHED_IP</th>\n",
       "      <th>IMSI_MATCHED_STATUS</th>\n",
       "      <th>IMSI_MATCHED_UTILITY</th>\n",
       "      <th>SIM SET CHECK STATUS</th>\n",
       "      <th>METER_SIM</th>\n",
       "      <th>METER_ORG</th>\n",
       "      <th>SIM_ORG</th>\n",
       "      <th>METER_IP</th>\n",
       "      <th>SIM SET CHECK STATUS RECHECK</th>\n",
       "      <th>ACTION TAKEN</th>\n",
       "    </tr>\n",
       "  </thead>\n",
       "  <tbody>\n",
       "  </tbody>\n",
       "</table>\n",
       "</div>"
      ],
      "text/plain": [
       "Empty DataFrame\n",
       "Columns: [SL. NO., METER NO., PHASE TYPE, FINAL HES MAPPING, CATEGORY FOR DASHBOARD, SUPPLIER, IME AS PER L&T SHIPMENT, SIM 19 DIST, IMSI, IP, REMARKS, METER_MATCH_UDC_ID, METER_MATCH_IP, METER_MATCH_STATUS, METER_MATCH_UTILITY, IMSI_MATCHED_METER_NO, IMSI_MATCHED_IP, IMSI_MATCHED_STATUS, IMSI_MATCHED_UTILITY, SIM SET CHECK STATUS, METER_SIM, METER_ORG, SIM_ORG, METER_IP, SIM SET CHECK STATUS RECHECK, ACTION TAKEN]\n",
       "Index: []"
      ]
     },
     "execution_count": 57,
     "metadata": {},
     "output_type": "execute_result"
    }
   ],
   "source": [
    "NEED_TO_CHECK_FILE_WAREHOUSE_METER_SIM_CSV.head()"
   ]
  },
  {
   "cell_type": "code",
   "execution_count": null,
   "metadata": {},
   "outputs": [],
   "source": []
  },
  {
   "cell_type": "code",
   "execution_count": 59,
   "metadata": {},
   "outputs": [
    {
     "data": {
      "text/html": [
       "<div>\n",
       "<style scoped>\n",
       "    .dataframe tbody tr th:only-of-type {\n",
       "        vertical-align: middle;\n",
       "    }\n",
       "\n",
       "    .dataframe tbody tr th {\n",
       "        vertical-align: top;\n",
       "    }\n",
       "\n",
       "    .dataframe thead th {\n",
       "        text-align: right;\n",
       "    }\n",
       "</style>\n",
       "<table border=\"1\" class=\"dataframe\">\n",
       "  <thead>\n",
       "    <tr style=\"text-align: right;\">\n",
       "      <th></th>\n",
       "      <th>SL. NO.</th>\n",
       "      <th>METER NO.</th>\n",
       "      <th>PHASE TYPE</th>\n",
       "      <th>FINAL HES MAPPING</th>\n",
       "      <th>CATEGORY FOR DASHBOARD</th>\n",
       "      <th>SUPPLIER</th>\n",
       "      <th>IME AS PER L&amp;T SHIPMENT</th>\n",
       "      <th>SIM 19 DIST</th>\n",
       "      <th>IMSI</th>\n",
       "      <th>IP</th>\n",
       "      <th>REMARKS</th>\n",
       "      <th>METER_MATCH_UDC_ID</th>\n",
       "      <th>METER_MATCH_IP</th>\n",
       "      <th>METER_MATCH_STATUS</th>\n",
       "      <th>METER_MATCH_UTILITY</th>\n",
       "      <th>IMSI_MATCHED_METER_NO</th>\n",
       "      <th>IMSI_MATCHED_IP</th>\n",
       "      <th>IMSI_MATCHED_STATUS</th>\n",
       "      <th>IMSI_MATCHED_UTILITY</th>\n",
       "      <th>SIM SET CHECK STATUS</th>\n",
       "      <th>METER_SIM</th>\n",
       "      <th>METER_ORG</th>\n",
       "      <th>SIM_ORG</th>\n",
       "      <th>METER_IP</th>\n",
       "      <th>SIM SET CHECK STATUS RECHECK</th>\n",
       "      <th>ACTION TAKEN</th>\n",
       "    </tr>\n",
       "  </thead>\n",
       "  <tbody>\n",
       "  </tbody>\n",
       "</table>\n",
       "</div>"
      ],
      "text/plain": [
       "Empty DataFrame\n",
       "Columns: [SL. NO., METER NO., PHASE TYPE, FINAL HES MAPPING, CATEGORY FOR DASHBOARD, SUPPLIER, IME AS PER L&T SHIPMENT, SIM 19 DIST, IMSI, IP, REMARKS, METER_MATCH_UDC_ID, METER_MATCH_IP, METER_MATCH_STATUS, METER_MATCH_UTILITY, IMSI_MATCHED_METER_NO, IMSI_MATCHED_IP, IMSI_MATCHED_STATUS, IMSI_MATCHED_UTILITY, SIM SET CHECK STATUS, METER_SIM, METER_ORG, SIM_ORG, METER_IP, SIM SET CHECK STATUS RECHECK, ACTION TAKEN]\n",
       "Index: []"
      ]
     },
     "execution_count": 59,
     "metadata": {},
     "output_type": "execute_result"
    }
   ],
   "source": [
    "warehouse_meter_imsi_data_check[warehouse_meter_imsi_data_check['ACTION TAKEN'].isnull()]"
   ]
  },
  {
   "cell_type": "code",
   "execution_count": 60,
   "metadata": {},
   "outputs": [
    {
     "data": {
      "text/html": [
       "<div>\n",
       "<style scoped>\n",
       "    .dataframe tbody tr th:only-of-type {\n",
       "        vertical-align: middle;\n",
       "    }\n",
       "\n",
       "    .dataframe tbody tr th {\n",
       "        vertical-align: top;\n",
       "    }\n",
       "\n",
       "    .dataframe thead th {\n",
       "        text-align: right;\n",
       "    }\n",
       "</style>\n",
       "<table border=\"1\" class=\"dataframe\">\n",
       "  <thead>\n",
       "    <tr style=\"text-align: right;\">\n",
       "      <th></th>\n",
       "      <th>SL. NO.</th>\n",
       "      <th>METER NO.</th>\n",
       "      <th>PHASE TYPE</th>\n",
       "      <th>FINAL HES MAPPING</th>\n",
       "      <th>CATEGORY FOR DASHBOARD</th>\n",
       "      <th>SUPPLIER</th>\n",
       "      <th>IME AS PER L&amp;T SHIPMENT</th>\n",
       "      <th>SIM 19 DIST</th>\n",
       "      <th>IMSI</th>\n",
       "      <th>IP</th>\n",
       "      <th>REMARKS</th>\n",
       "      <th>METER_MATCH_UDC_ID</th>\n",
       "      <th>METER_MATCH_IP</th>\n",
       "      <th>METER_MATCH_STATUS</th>\n",
       "      <th>METER_MATCH_UTILITY</th>\n",
       "      <th>IMSI_MATCHED_METER_NO</th>\n",
       "      <th>IMSI_MATCHED_IP</th>\n",
       "      <th>IMSI_MATCHED_STATUS</th>\n",
       "      <th>IMSI_MATCHED_UTILITY</th>\n",
       "      <th>SIM SET CHECK STATUS</th>\n",
       "      <th>METER_SIM</th>\n",
       "      <th>METER_ORG</th>\n",
       "      <th>SIM_ORG</th>\n",
       "      <th>METER_IP</th>\n",
       "      <th>SIM SET CHECK STATUS RECHECK</th>\n",
       "      <th>ACTION TAKEN</th>\n",
       "    </tr>\n",
       "  </thead>\n",
       "  <tbody>\n",
       "    <tr>\n",
       "      <th>0</th>\n",
       "      <td>1</td>\n",
       "      <td>LT0550833</td>\n",
       "      <td>1 Phase</td>\n",
       "      <td>SBPDCL</td>\n",
       "      <td>In Wh</td>\n",
       "      <td>L&amp;T</td>\n",
       "      <td>865681067087669</td>\n",
       "      <td>8991856040706391325</td>\n",
       "      <td>405856706936334</td>\n",
       "      <td>2405:0203:0529:70CE:0000:0000:0000:0010</td>\n",
       "      <td>S2S Repaired In Wh</td>\n",
       "      <td>405856706936334</td>\n",
       "      <td>2405:0203:0529:70CE:0000:0000:0000:0010</td>\n",
       "      <td>Installed</td>\n",
       "      <td>SBPDCL</td>\n",
       "      <td>LT0550833</td>\n",
       "      <td>2405:0203:0529:70CE:0000:0000:0000:0010</td>\n",
       "      <td>Installed</td>\n",
       "      <td>SBPDCL</td>\n",
       "      <td>SAME SET IN SAME UTILITY</td>\n",
       "      <td>True</td>\n",
       "      <td>True</td>\n",
       "      <td>True</td>\n",
       "      <td>True</td>\n",
       "      <td>SAME SET IN SAME UTILITY</td>\n",
       "      <td>SET IS IN INSTALLED STAGE</td>\n",
       "    </tr>\n",
       "    <tr>\n",
       "      <th>1</th>\n",
       "      <td>2</td>\n",
       "      <td>LT0552980</td>\n",
       "      <td>1 Phase</td>\n",
       "      <td>NBPDCL</td>\n",
       "      <td>In WH</td>\n",
       "      <td>L&amp;T</td>\n",
       "      <td>865681062845947</td>\n",
       "      <td>8991856040706392779</td>\n",
       "      <td>405856706937788</td>\n",
       "      <td>2405:0203:0529:0F60:0000:0000:0000:0010</td>\n",
       "      <td>S2S Repaired In Wh</td>\n",
       "      <td>405856706937788</td>\n",
       "      <td>2405:0203:0529:0F60:0000:0000:0000:0010</td>\n",
       "      <td>Refurbished</td>\n",
       "      <td>NBPDCL</td>\n",
       "      <td>LT0552980</td>\n",
       "      <td>2405:0203:0529:0F60:0000:0000:0000:0010</td>\n",
       "      <td>Refurbished</td>\n",
       "      <td>NBPDCL</td>\n",
       "      <td>SAME SET IN SAME UTILITY</td>\n",
       "      <td>True</td>\n",
       "      <td>True</td>\n",
       "      <td>True</td>\n",
       "      <td>True</td>\n",
       "      <td>SAME SET IN SAME UTILITY</td>\n",
       "      <td>METER , SIM LINK FILE REQUIRED</td>\n",
       "    </tr>\n",
       "    <tr>\n",
       "      <th>2</th>\n",
       "      <td>3</td>\n",
       "      <td>LT0553793</td>\n",
       "      <td>1 Phase</td>\n",
       "      <td>NBPDCL</td>\n",
       "      <td>In WH</td>\n",
       "      <td>L&amp;T</td>\n",
       "      <td>865681062076451</td>\n",
       "      <td>8991856040706392507</td>\n",
       "      <td>405856706937516</td>\n",
       "      <td>2405:0203:0529:128D:0000:0000:0000:0010</td>\n",
       "      <td>S2S Repaired In Wh</td>\n",
       "      <td>405856706937516</td>\n",
       "      <td>2405:0203:0529:128D:0000:0000:0000:0010</td>\n",
       "      <td>Refurbished</td>\n",
       "      <td>NBPDCL</td>\n",
       "      <td>LT0553793</td>\n",
       "      <td>2405:0203:0529:128D:0000:0000:0000:0010</td>\n",
       "      <td>Refurbished</td>\n",
       "      <td>NBPDCL</td>\n",
       "      <td>SAME SET IN SAME UTILITY</td>\n",
       "      <td>True</td>\n",
       "      <td>True</td>\n",
       "      <td>True</td>\n",
       "      <td>True</td>\n",
       "      <td>SAME SET IN SAME UTILITY</td>\n",
       "      <td>METER , SIM LINK FILE REQUIRED</td>\n",
       "    </tr>\n",
       "    <tr>\n",
       "      <th>3</th>\n",
       "      <td>4</td>\n",
       "      <td>LT0553847</td>\n",
       "      <td>1 Phase</td>\n",
       "      <td>NBPDCL</td>\n",
       "      <td>In WH</td>\n",
       "      <td>L&amp;T</td>\n",
       "      <td>865681062855144</td>\n",
       "      <td>8991856040706090013</td>\n",
       "      <td>405856706635035</td>\n",
       "      <td>2405:0203:0529:12C3:0000:0000:0000:0010</td>\n",
       "      <td>S2S Repaired In Wh</td>\n",
       "      <td>405856706635035</td>\n",
       "      <td>2405:0203:0529:12C3:0000:0000:0000:0010</td>\n",
       "      <td>Refurbished</td>\n",
       "      <td>NBPDCL</td>\n",
       "      <td>LT0553847</td>\n",
       "      <td>2405:0203:0529:12C3:0000:0000:0000:0010</td>\n",
       "      <td>Refurbished</td>\n",
       "      <td>NBPDCL</td>\n",
       "      <td>SAME SET IN SAME UTILITY</td>\n",
       "      <td>True</td>\n",
       "      <td>True</td>\n",
       "      <td>True</td>\n",
       "      <td>True</td>\n",
       "      <td>SAME SET IN SAME UTILITY</td>\n",
       "      <td>METER , SIM LINK FILE REQUIRED</td>\n",
       "    </tr>\n",
       "    <tr>\n",
       "      <th>4</th>\n",
       "      <td>5</td>\n",
       "      <td>LT0554342</td>\n",
       "      <td>1 Phase</td>\n",
       "      <td>NBPDCL</td>\n",
       "      <td>In Wh</td>\n",
       "      <td>L&amp;T</td>\n",
       "      <td>865681062694816</td>\n",
       "      <td>8991856040706091430</td>\n",
       "      <td>405856706636452</td>\n",
       "      <td>2405:0203:0529:14B2:0000:0000:0000:0010</td>\n",
       "      <td>S2S Repaired In Wh</td>\n",
       "      <td>405856706636452</td>\n",
       "      <td>2405:0203:0529:14B2:0000:0000:0000:0010</td>\n",
       "      <td>Retired</td>\n",
       "      <td>NBPDCL</td>\n",
       "      <td>LT0554342</td>\n",
       "      <td>2405:0203:0529:14B2:0000:0000:0000:0010</td>\n",
       "      <td>Retired</td>\n",
       "      <td>NBPDCL</td>\n",
       "      <td>SAME SET IN SAME UTILITY</td>\n",
       "      <td>True</td>\n",
       "      <td>True</td>\n",
       "      <td>True</td>\n",
       "      <td>True</td>\n",
       "      <td>SAME SET IN SAME UTILITY</td>\n",
       "      <td>METER , SIM LINK FILE REQUIRED</td>\n",
       "    </tr>\n",
       "  </tbody>\n",
       "</table>\n",
       "</div>"
      ],
      "text/plain": [
       "  SL. NO.  METER NO. PHASE TYPE FINAL HES MAPPING CATEGORY FOR DASHBOARD  \\\n",
       "0       1  LT0550833    1 Phase            SBPDCL                  In Wh   \n",
       "1       2  LT0552980    1 Phase            NBPDCL                  In WH   \n",
       "2       3  LT0553793    1 Phase            NBPDCL                  In WH   \n",
       "3       4  LT0553847    1 Phase            NBPDCL                  In WH   \n",
       "4       5  LT0554342    1 Phase            NBPDCL                  In Wh   \n",
       "\n",
       "  SUPPLIER IME AS PER L&T SHIPMENT          SIM 19 DIST             IMSI  \\\n",
       "0      L&T         865681067087669  8991856040706391325  405856706936334   \n",
       "1      L&T         865681062845947  8991856040706392779  405856706937788   \n",
       "2      L&T         865681062076451  8991856040706392507  405856706937516   \n",
       "3      L&T         865681062855144  8991856040706090013  405856706635035   \n",
       "4      L&T         865681062694816  8991856040706091430  405856706636452   \n",
       "\n",
       "                                        IP             REMARKS  \\\n",
       "0  2405:0203:0529:70CE:0000:0000:0000:0010  S2S Repaired In Wh   \n",
       "1  2405:0203:0529:0F60:0000:0000:0000:0010  S2S Repaired In Wh   \n",
       "2  2405:0203:0529:128D:0000:0000:0000:0010  S2S Repaired In Wh   \n",
       "3  2405:0203:0529:12C3:0000:0000:0000:0010  S2S Repaired In Wh   \n",
       "4  2405:0203:0529:14B2:0000:0000:0000:0010  S2S Repaired In Wh   \n",
       "\n",
       "  METER_MATCH_UDC_ID                           METER_MATCH_IP  \\\n",
       "0    405856706936334  2405:0203:0529:70CE:0000:0000:0000:0010   \n",
       "1    405856706937788  2405:0203:0529:0F60:0000:0000:0000:0010   \n",
       "2    405856706937516  2405:0203:0529:128D:0000:0000:0000:0010   \n",
       "3    405856706635035  2405:0203:0529:12C3:0000:0000:0000:0010   \n",
       "4    405856706636452  2405:0203:0529:14B2:0000:0000:0000:0010   \n",
       "\n",
       "  METER_MATCH_STATUS METER_MATCH_UTILITY IMSI_MATCHED_METER_NO  \\\n",
       "0          Installed              SBPDCL             LT0550833   \n",
       "1        Refurbished              NBPDCL             LT0552980   \n",
       "2        Refurbished              NBPDCL             LT0553793   \n",
       "3        Refurbished              NBPDCL             LT0553847   \n",
       "4            Retired              NBPDCL             LT0554342   \n",
       "\n",
       "                           IMSI_MATCHED_IP IMSI_MATCHED_STATUS  \\\n",
       "0  2405:0203:0529:70CE:0000:0000:0000:0010           Installed   \n",
       "1  2405:0203:0529:0F60:0000:0000:0000:0010         Refurbished   \n",
       "2  2405:0203:0529:128D:0000:0000:0000:0010         Refurbished   \n",
       "3  2405:0203:0529:12C3:0000:0000:0000:0010         Refurbished   \n",
       "4  2405:0203:0529:14B2:0000:0000:0000:0010             Retired   \n",
       "\n",
       "  IMSI_MATCHED_UTILITY      SIM SET CHECK STATUS METER_SIM METER_ORG SIM_ORG  \\\n",
       "0               SBPDCL  SAME SET IN SAME UTILITY      True      True    True   \n",
       "1               NBPDCL  SAME SET IN SAME UTILITY      True      True    True   \n",
       "2               NBPDCL  SAME SET IN SAME UTILITY      True      True    True   \n",
       "3               NBPDCL  SAME SET IN SAME UTILITY      True      True    True   \n",
       "4               NBPDCL  SAME SET IN SAME UTILITY      True      True    True   \n",
       "\n",
       "  METER_IP SIM SET CHECK STATUS RECHECK                    ACTION TAKEN  \n",
       "0     True     SAME SET IN SAME UTILITY       SET IS IN INSTALLED STAGE  \n",
       "1     True     SAME SET IN SAME UTILITY  METER , SIM LINK FILE REQUIRED  \n",
       "2     True     SAME SET IN SAME UTILITY  METER , SIM LINK FILE REQUIRED  \n",
       "3     True     SAME SET IN SAME UTILITY  METER , SIM LINK FILE REQUIRED  \n",
       "4     True     SAME SET IN SAME UTILITY  METER , SIM LINK FILE REQUIRED  "
      ]
     },
     "execution_count": 60,
     "metadata": {},
     "output_type": "execute_result"
    }
   ],
   "source": [
    "warehouse_meter_imsi_data_check.head()\n"
   ]
  },
  {
   "cell_type": "code",
   "execution_count": null,
   "metadata": {},
   "outputs": [],
   "source": []
  }
 ],
 "metadata": {
  "kernelspec": {
   "display_name": "Python 3",
   "language": "python",
   "name": "python3"
  },
  "language_info": {
   "codemirror_mode": {
    "name": "ipython",
    "version": 3
   },
   "file_extension": ".py",
   "mimetype": "text/x-python",
   "name": "python",
   "nbconvert_exporter": "python",
   "pygments_lexer": "ipython3",
   "version": "3.9.18"
  }
 },
 "nbformat": 4,
 "nbformat_minor": 2
}
