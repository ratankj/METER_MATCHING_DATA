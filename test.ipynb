{
 "cells": [
  {
   "cell_type": "code",
   "execution_count": 2,
   "metadata": {},
   "outputs": [],
   "source": [
    "import numpy as np\n",
    "import pandas as pd\n",
    "pd.set_option('display.max_columns', None)"
   ]
  },
  {
   "cell_type": "code",
   "execution_count": null,
   "metadata": {},
   "outputs": [],
   "source": [
    "df_warehouse=pd.read_excel(r\"C:\\Users\\Ratan Kumar Jha\\Desktop\\new\\new_Warehouse Asset Module Check sheet Sample Master Sheet.xlsx\")"
   ]
  },
  {
   "cell_type": "code",
   "execution_count": null,
   "metadata": {},
   "outputs": [],
   "source": [
    "df_warehouse.to_csv(\"warehouse_data.csv\",index=False)"
   ]
  },
  {
   "cell_type": "code",
   "execution_count": 3,
   "metadata": {},
   "outputs": [],
   "source": [
    "warehouse_Data = pd.read_csv(\"C:\\PYTHON\\EDF_CODE_AUTOMATION_PYTHON\\METER_MATCHING_DATA\\warehouse_data.csv\")"
   ]
  },
  {
   "cell_type": "code",
   "execution_count": 4,
   "metadata": {},
   "outputs": [
    {
     "name": "stderr",
     "output_type": "stream",
     "text": [
      "C:\\Users\\Ratan Kumar Jha\\AppData\\Local\\Temp\\ipykernel_26048\\1010126284.py:1: DtypeWarning: Columns (2) have mixed types. Specify dtype option on import or set low_memory=False.\n",
      "  assest_initiation_invent_sb = pd.read_csv(r\"C:\\Users\\Ratan Kumar Jha\\Desktop\\new\\ASSET_INITIATION_INVENTORY_SB.CSV\")\n"
     ]
    }
   ],
   "source": [
    "assest_initiation_invent_sb = pd.read_csv(r\"C:\\Users\\Ratan Kumar Jha\\Desktop\\new\\ASSET_INITIATION_INVENTORY_SB.CSV\")"
   ]
  },
  {
   "cell_type": "code",
   "execution_count": 5,
   "metadata": {},
   "outputs": [],
   "source": [
    "assest_initiation_invent_nb = pd.read_csv(r\"C:\\Users\\Ratan Kumar Jha\\Desktop\\new\\ASSET_INITIATION_INVENTORY_NB.CSV\")"
   ]
  },
  {
   "cell_type": "code",
   "execution_count": 7,
   "metadata": {},
   "outputs": [],
   "source": [
    "final_union_df = pd.concat([assest_initiation_invent_sb, assest_initiation_invent_nb], ignore_index=True)"
   ]
  },
  {
   "cell_type": "code",
   "execution_count": 12,
   "metadata": {},
   "outputs": [],
   "source": [
    "result_left_outer_meter = pd.merge(warehouse_Data, final_union_df, left_on=['Meter No.', 'final hes mapping'], right_on=['MFG_SERIAL_NUM', \"DECODE(D.ORG_ID,52,'SBPDCL',102,'NBPDCL')\"], how='left')"
   ]
  },
  {
   "cell_type": "code",
   "execution_count": 13,
   "metadata": {},
   "outputs": [],
   "source": [
    "result_left_outer_meter.to_csv(\"meter_join.csv\")"
   ]
  },
  {
   "cell_type": "code",
   "execution_count": null,
   "metadata": {},
   "outputs": [],
   "source": []
  }
 ],
 "metadata": {
  "kernelspec": {
   "display_name": "Python 3",
   "language": "python",
   "name": "python3"
  },
  "language_info": {
   "codemirror_mode": {
    "name": "ipython",
    "version": 3
   },
   "file_extension": ".py",
   "mimetype": "text/x-python",
   "name": "python",
   "nbconvert_exporter": "python",
   "pygments_lexer": "ipython3",
   "version": "3.9.18"
  }
 },
 "nbformat": 4,
 "nbformat_minor": 2
}
