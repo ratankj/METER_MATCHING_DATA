{
 "cells": [
  {
   "cell_type": "code",
   "execution_count": 1,
   "metadata": {},
   "outputs": [],
   "source": [
    "import numpy as np\n",
    "import pandas as pd\n",
    "import shutil\n",
    "\n",
    "import os,sys\n",
    "from datetime import datetime\n",
    "\n",
    "pd.set_option('display.max_columns', None)"
   ]
  },
  {
   "cell_type": "code",
   "execution_count": 2,
   "metadata": {},
   "outputs": [],
   "source": [
    "# imp code\n",
    "# check_Data_meter_Status['Duplicated'] = check_Data_meter_Status.duplicated(subset=['METERNO']).map({True: 'Duplicated', False: 'Unique'})"
   ]
  },
  {
   "cell_type": "code",
   "execution_count": null,
   "metadata": {},
   "outputs": [],
   "source": []
  },
  {
   "cell_type": "code",
   "execution_count": 3,
   "metadata": {},
   "outputs": [
    {
     "data": {
      "text/plain": [
       "(5776, 7)"
      ]
     },
     "execution_count": 3,
     "metadata": {},
     "output_type": "execute_result"
    }
   ],
   "source": [
    "df_warehouse=pd.read_excel(r\"C:\\Users\\Ratan Kumar Jha\\Desktop\\METER_IMPORTATION_FOLDER\\INPUT_DATA_FILE\\WAREHOUSE_DATA_FILE.xlsx\")\n",
    "df_warehouse.to_csv(\"warehouse_data.csv\",index=False)\n",
    "\n",
    "warehouse_Data = pd.read_csv(\"C:\\PYTHON\\EDF_CODE_AUTOMATION_PYTHON\\METER_MATCHING_DATA\\warehouse_data.csv\")\n",
    "\n",
    "#warehouse_Data = pd.read_csv(r\"C:\\Users\\Ratan Kumar Jha\\Desktop\\METER_IMPORTATION_FOLDER\\INPUT_DATA_FILE\\WAREHOUSE_DATA_FILE.csv\")\n",
    "\n",
    "warehouse_Data.shape\n"
   ]
  },
  {
   "cell_type": "code",
   "execution_count": null,
   "metadata": {},
   "outputs": [],
   "source": []
  },
  {
   "cell_type": "code",
   "execution_count": 4,
   "metadata": {},
   "outputs": [
    {
     "data": {
      "text/plain": [
       "array(['NBPDCL', 'SBPDCL'], dtype=object)"
      ]
     },
     "execution_count": 4,
     "metadata": {},
     "output_type": "execute_result"
    }
   ],
   "source": [
    "warehouse_Data['WAREHOUSE_UTILITY'].unique()"
   ]
  },
  {
   "cell_type": "code",
   "execution_count": 5,
   "metadata": {},
   "outputs": [
    {
     "data": {
      "text/plain": [
       "(5776, 7)"
      ]
     },
     "execution_count": 5,
     "metadata": {},
     "output_type": "execute_result"
    }
   ],
   "source": [
    "#warehouse_Data = warehouse_Data[warehouse_Data['WAREHOUSE_UTILITY']=='SBPDCL']\n",
    "warehouse_Data.shape"
   ]
  },
  {
   "cell_type": "code",
   "execution_count": 6,
   "metadata": {},
   "outputs": [
    {
     "data": {
      "text/plain": [
       "array(['NBPDCL', 'SBPDCL'], dtype=object)"
      ]
     },
     "execution_count": 6,
     "metadata": {},
     "output_type": "execute_result"
    }
   ],
   "source": [
    "warehouse_Data['WAREHOUSE_UTILITY'].unique()"
   ]
  },
  {
   "cell_type": "code",
   "execution_count": 7,
   "metadata": {},
   "outputs": [],
   "source": [
    "\n",
    "\n",
    "# changes in dataset like :- UPPER, SPACE REMOVAL , DATATYPE\n",
    "\n",
    "warehouse_Data = warehouse_Data.astype(str)\n",
    "warehouse_Data.columns = warehouse_Data.columns.str.upper()\n",
    "warehouse_Data = warehouse_Data.apply(lambda x: x.str.strip() if x.dtype == 'O' else x)\n",
    "warehouse_Data.columns = warehouse_Data.columns.str.strip()"
   ]
  },
  {
   "cell_type": "code",
   "execution_count": 8,
   "metadata": {},
   "outputs": [
    {
     "data": {
      "text/plain": [
       "(5776, 7)"
      ]
     },
     "execution_count": 8,
     "metadata": {},
     "output_type": "execute_result"
    }
   ],
   "source": [
    "warehouse_Data.shape"
   ]
  },
  {
   "cell_type": "code",
   "execution_count": 9,
   "metadata": {},
   "outputs": [
    {
     "data": {
      "text/plain": [
       "Index(['METER NO.', 'PHASE', 'WAREHOUSE_UTILITY', 'IME', 'FINAL SIM', 'IMSI',\n",
       "       'IP'],\n",
       "      dtype='object')"
      ]
     },
     "execution_count": 9,
     "metadata": {},
     "output_type": "execute_result"
    }
   ],
   "source": [
    "warehouse_Data.columns"
   ]
  },
  {
   "cell_type": "code",
   "execution_count": 10,
   "metadata": {},
   "outputs": [
    {
     "name": "stdout",
     "output_type": "stream",
     "text": [
      "DATA INGESTION DONE\n",
      "DATA CORRECTION COMPLETE\n"
     ]
    }
   ],
   "source": [
    "# data ingestion\n",
    "\n",
    "NB_METER_STATUS=pd.read_csv(r\"C:\\Users\\Ratan Kumar Jha\\Desktop\\METER_IMPORTATION_FOLDER\\INPUT_DATA_FILE\\NB_METER_STATUS.csv\")\n",
    "SB_METER_STATUS=pd.read_csv(r\"C:\\Users\\Ratan Kumar Jha\\Desktop\\METER_IMPORTATION_FOLDER\\INPUT_DATA_FILE\\SB_METER_STATUS.csv\")\n",
    "\n",
    "print(\"DATA INGESTION DONE\")\n",
    "#-----------------------------------------------------------------------------------------------------------------------------------\n",
    "\n",
    "# data correction\n",
    "\n",
    "\n",
    "#-----------------------------------------------------------------------------------------------------------------------------------\n",
    "NB_METER_STATUS = NB_METER_STATUS.astype(str)\n",
    "NB_METER_STATUS.columns = NB_METER_STATUS.columns.str.upper()\n",
    "NB_METER_STATUS = NB_METER_STATUS.apply(lambda x: x.str.strip() if x.dtype == 'O' else x)\n",
    "NB_METER_STATUS.columns = NB_METER_STATUS.columns.str.strip()\n",
    "\n",
    "\n",
    "#-----------------------------------------------------------------------------------------------------------------------------------\n",
    "\n",
    "SB_METER_STATUS = SB_METER_STATUS.astype(str)\n",
    "SB_METER_STATUS.columns = SB_METER_STATUS.columns.str.upper()\n",
    "SB_METER_STATUS = SB_METER_STATUS.apply(lambda x: x.str.strip() if x.dtype == 'O' else x)\n",
    "SB_METER_STATUS.columns = SB_METER_STATUS.columns.str.strip()\n",
    "\n",
    "\n",
    "\n",
    "print(\"DATA CORRECTION COMPLETE\")"
   ]
  },
  {
   "cell_type": "code",
   "execution_count": null,
   "metadata": {},
   "outputs": [],
   "source": []
  },
  {
   "cell_type": "code",
   "execution_count": 11,
   "metadata": {},
   "outputs": [],
   "source": [
    "assest_initiation_invent_sb = pd.read_csv(r\"C:\\Users\\Ratan Kumar Jha\\Desktop\\METER_IMPORTATION_FOLDER\\INPUT_DATA_FILE\\ASSET_INITIATION_INVENTORY_SB.CSV\")\n",
    "assest_initiation_invent_nb = pd.read_csv(r\"C:\\Users\\Ratan Kumar Jha\\Desktop\\METER_IMPORTATION_FOLDER\\INPUT_DATA_FILE\\ASSET_INITIATION_INVENTORY_NB.CSV\")"
   ]
  },
  {
   "cell_type": "code",
   "execution_count": 12,
   "metadata": {},
   "outputs": [],
   "source": [
    "#NB_METER_STATUS.head(1)"
   ]
  },
  {
   "cell_type": "code",
   "execution_count": 13,
   "metadata": {},
   "outputs": [
    {
     "data": {
      "text/html": [
       "<div>\n",
       "<style scoped>\n",
       "    .dataframe tbody tr th:only-of-type {\n",
       "        vertical-align: middle;\n",
       "    }\n",
       "\n",
       "    .dataframe tbody tr th {\n",
       "        vertical-align: top;\n",
       "    }\n",
       "\n",
       "    .dataframe thead th {\n",
       "        text-align: right;\n",
       "    }\n",
       "</style>\n",
       "<table border=\"1\" class=\"dataframe\">\n",
       "  <thead>\n",
       "    <tr style=\"text-align: right;\">\n",
       "      <th></th>\n",
       "      <th>METER NO.</th>\n",
       "      <th>PHASE</th>\n",
       "      <th>WAREHOUSE_UTILITY</th>\n",
       "      <th>IME</th>\n",
       "      <th>FINAL SIM</th>\n",
       "      <th>IMSI</th>\n",
       "      <th>IP</th>\n",
       "    </tr>\n",
       "  </thead>\n",
       "  <tbody>\n",
       "    <tr>\n",
       "      <th>0</th>\n",
       "      <td>LT0346339</td>\n",
       "      <td>1 Phase</td>\n",
       "      <td>NBPDCL</td>\n",
       "      <td>865681060086437</td>\n",
       "      <td>8991856050706502419</td>\n",
       "      <td>405856706497419</td>\n",
       "      <td>2405:0203:0527:0696:0000:0000:0000:0010</td>\n",
       "    </tr>\n",
       "    <tr>\n",
       "      <th>1</th>\n",
       "      <td>LT0347039</td>\n",
       "      <td>1 Phase</td>\n",
       "      <td>NBPDCL</td>\n",
       "      <td>869810056010897</td>\n",
       "      <td>8991856050706376051</td>\n",
       "      <td>405856706376051</td>\n",
       "      <td>2405:0203:0525:5541:0000:0000:0000:0010</td>\n",
       "    </tr>\n",
       "    <tr>\n",
       "      <th>2</th>\n",
       "      <td>LT0391803</td>\n",
       "      <td>1 Phase</td>\n",
       "      <td>NBPDCL</td>\n",
       "      <td>865575064589372</td>\n",
       "      <td>8991856040706681880</td>\n",
       "      <td>405856707226888</td>\n",
       "      <td>2405:0203:052E:12C5:0000:0000:0000:0010</td>\n",
       "    </tr>\n",
       "    <tr>\n",
       "      <th>3</th>\n",
       "      <td>LT0050311</td>\n",
       "      <td>1 Phase</td>\n",
       "      <td>NBPDCL</td>\n",
       "      <td>869810059322281</td>\n",
       "      <td>8991856050706479627</td>\n",
       "      <td>405856706474627</td>\n",
       "      <td>2405:0203:0524:00E6:0000:0000:0000:0010</td>\n",
       "    </tr>\n",
       "    <tr>\n",
       "      <th>4</th>\n",
       "      <td>LT0555992</td>\n",
       "      <td>1 Phase</td>\n",
       "      <td>NBPDCL</td>\n",
       "      <td>865681062851242</td>\n",
       "      <td>8991856040706094571</td>\n",
       "      <td>405856706639593</td>\n",
       "      <td>2405:0203:0529:1B24:0000:0000:0000:0010</td>\n",
       "    </tr>\n",
       "  </tbody>\n",
       "</table>\n",
       "</div>"
      ],
      "text/plain": [
       "   METER NO.    PHASE WAREHOUSE_UTILITY              IME            FINAL SIM  \\\n",
       "0  LT0346339  1 Phase            NBPDCL  865681060086437  8991856050706502419   \n",
       "1  LT0347039  1 Phase            NBPDCL  869810056010897  8991856050706376051   \n",
       "2  LT0391803  1 Phase            NBPDCL  865575064589372  8991856040706681880   \n",
       "3  LT0050311  1 Phase            NBPDCL  869810059322281  8991856050706479627   \n",
       "4  LT0555992  1 Phase            NBPDCL  865681062851242  8991856040706094571   \n",
       "\n",
       "              IMSI                                       IP  \n",
       "0  405856706497419  2405:0203:0527:0696:0000:0000:0000:0010  \n",
       "1  405856706376051  2405:0203:0525:5541:0000:0000:0000:0010  \n",
       "2  405856707226888  2405:0203:052E:12C5:0000:0000:0000:0010  \n",
       "3  405856706474627  2405:0203:0524:00E6:0000:0000:0000:0010  \n",
       "4  405856706639593  2405:0203:0529:1B24:0000:0000:0000:0010  "
      ]
     },
     "execution_count": 13,
     "metadata": {},
     "output_type": "execute_result"
    }
   ],
   "source": [
    "warehouse_Data.head()"
   ]
  },
  {
   "cell_type": "code",
   "execution_count": 14,
   "metadata": {},
   "outputs": [],
   "source": [
    "# adding duplicate and unique in data set \n",
    "\n",
    "#warehouse_Data['Duplicated_meter'] = warehouse_Data.duplicated(subset=['METER NO.']).map({True: 'Duplicated', False: 'Unique'})\n",
    "#warehouse_Data['Duplicated_IMSI'] = warehouse_Data.duplicated(subset=['IMSI']).map({True: 'Duplicated', False: 'Unique'})\n",
    "#warehouse_Data['Duplicated_IP'] = warehouse_Data.duplicated(subset=['IP']).map({True: 'Duplicated', False: 'Unique'})\n",
    "#warehouse_Data['Duplicated_FINAL SIM'] = warehouse_Data.duplicated(subset=['FINAL SIM']).map({True: 'Duplicated', False: 'Unique'})"
   ]
  },
  {
   "cell_type": "code",
   "execution_count": 15,
   "metadata": {},
   "outputs": [],
   "source": [
    "#NB_METER_STATUS.duplicated(subset=['INSTALLATIONNO'],keep=False)].sort_values(by=['INSTALLATIONNO'],ascending=True)"
   ]
  },
  {
   "cell_type": "code",
   "execution_count": null,
   "metadata": {},
   "outputs": [],
   "source": []
  },
  {
   "cell_type": "code",
   "execution_count": 16,
   "metadata": {},
   "outputs": [],
   "source": [
    "warehouse_utility_importation_demand =  input(f\"\"\"ENTER THE WAREHOUSE ON DEMAND UTILITY: \n",
    "                                                1. NBPDCL \n",
    "                                                2. SBPDCL \n",
    "                                                3. NO DEMAND\"\"\")\n",
    "\n",
    "\n",
    "if warehouse_utility_importation_demand == \"1\":\n",
    "    assest_initiation_invent_nb = pd.read_csv(r\"C:\\Users\\Ratan Kumar Jha\\Desktop\\METER_IMPORTATION_FOLDER\\INPUT_DATA_FILE\\ASSET_INITIATION_INVENTORY_NB.CSV\")\n",
    "\n",
    "\n",
    "    # changes in dataset like :- UPPER, SPACE REMOVAL , DATATYPE\n",
    "    assest_initiation_invent_nb = assest_initiation_invent_nb.astype(str)\n",
    "    assest_initiation_invent_nb.columns = assest_initiation_invent_nb.columns.str.upper()\n",
    "    assest_initiation_invent_nb = assest_initiation_invent_nb.apply(lambda x: x.str.strip() if x.dtype == 'O' else x)\n",
    "    assest_initiation_invent_nb.columns = assest_initiation_invent_nb.columns.str.strip()\n",
    "\n",
    "    # DATA\n",
    "    NB_SB_COMBINED_DATAFRAME=assest_initiation_invent_nb\n",
    "\n",
    "\n",
    "\n",
    "elif warehouse_utility_importation_demand == \"2\":\n",
    "    assest_initiation_invent_sb = pd.read_csv(r\"C:\\Users\\Ratan Kumar Jha\\Desktop\\METER_IMPORTATION_FOLDER\\INPUT_DATA_FILE\\ASSET_INITIATION_INVENTORY_SB.CSV\")\n",
    "\n",
    "    # changes in dataset like :- UPPER, SPACE REMOVAL , DATATYPE\n",
    "    assest_initiation_invent_sb = assest_initiation_invent_sb.astype(str)\n",
    "    assest_initiation_invent_sb.columns = assest_initiation_invent_sb.columns.str.upper()\n",
    "    assest_initiation_invent_sb = assest_initiation_invent_sb.apply(lambda x: x.str.strip() if x.dtype == 'O' else x)\n",
    "    assest_initiation_invent_sb.columns = assest_initiation_invent_sb.columns.str.strip()\n",
    "\n",
    "    NB_SB_COMBINED_DATAFRAME=assest_initiation_invent_sb\n",
    "    \n",
    "elif warehouse_utility_importation_demand == \"3\":\n",
    "    assest_initiation_invent_sb = pd.read_csv(r\"C:\\Users\\Ratan Kumar Jha\\Desktop\\METER_IMPORTATION_FOLDER\\INPUT_DATA_FILE\\ASSET_INITIATION_INVENTORY_SB.CSV\")\n",
    "    assest_initiation_invent_nb = pd.read_csv(r\"C:\\Users\\Ratan Kumar Jha\\Desktop\\METER_IMPORTATION_FOLDER\\INPUT_DATA_FILE\\ASSET_INITIATION_INVENTORY_NB.CSV\")\n",
    "    \n",
    "\n",
    "    # changes in dataset like :- UPPER, SPACE REMOVAL , DATATYPE\n",
    "    \n",
    "    # Convert all columns to string data type\n",
    "\n",
    "    warehouse_Data = warehouse_Data.astype(str)\n",
    "    assest_initiation_invent_nb = assest_initiation_invent_nb.astype(str)\n",
    "    assest_initiation_invent_sb = assest_initiation_invent_sb.astype(str)\n",
    "\n",
    "\n",
    "\n",
    "    # change column name into upper string\n",
    "\n",
    "    warehouse_Data.columns = warehouse_Data.columns.str.upper()\n",
    "    assest_initiation_invent_nb.columns = assest_initiation_invent_nb.columns.str.upper()\n",
    "    assest_initiation_invent_sb.columns = assest_initiation_invent_sb.columns.str.upper()\n",
    "\n",
    "\n",
    "\n",
    "    # Remove leading and trailing whitespaces from all columns where dtype is 'O'\n",
    "\n",
    "    warehouse_Data = warehouse_Data.apply(lambda x: x.str.strip() if x.dtype == 'O' else x)\n",
    "    assest_initiation_invent_nb = assest_initiation_invent_nb.apply(lambda x: x.str.strip() if x.dtype == 'O' else x)\n",
    "    assest_initiation_invent_sb = assest_initiation_invent_sb.apply(lambda x: x.str.strip() if x.dtype == 'O' else x)\n",
    "\n",
    "\n",
    "\n",
    "    # strip the spaces in column \n",
    "\n",
    "    warehouse_Data.columns = warehouse_Data.columns.str.strip()\n",
    "    assest_initiation_invent_nb.columns = assest_initiation_invent_nb.columns.str.strip()\n",
    "    assest_initiation_invent_sb.columns = assest_initiation_invent_sb.columns.str.strip()\n",
    "\n",
    "\n",
    "    # concat the assest_initiation_invent_sb and assest_initiation_invent_nb\n",
    "    NB_SB_COMBINED_DATAFRAME = pd.concat([assest_initiation_invent_sb, assest_initiation_invent_nb], ignore_index=True)\n",
    "\n",
    "\n",
    "    \n",
    "else:\n",
    "    print(\"plz chose correct option\")\n"
   ]
  },
  {
   "cell_type": "code",
   "execution_count": null,
   "metadata": {},
   "outputs": [],
   "source": []
  },
  {
   "cell_type": "code",
   "execution_count": 17,
   "metadata": {},
   "outputs": [
    {
     "name": "stdout",
     "output_type": "stream",
     "text": [
      "DATASET SHAPE : 5776\n"
     ]
    }
   ],
   "source": [
    "warehouse_Data.count()\n",
    "# SHAPE OF DATA\n",
    "\n",
    "print(f\"DATASET SHAPE : {warehouse_Data.shape[0]}\")"
   ]
  },
  {
   "cell_type": "code",
   "execution_count": 18,
   "metadata": {},
   "outputs": [
    {
     "data": {
      "text/plain": [
       "Index(['METER NO.', 'PHASE', 'WAREHOUSE_UTILITY', 'IME', 'FINAL SIM', 'IMSI',\n",
       "       'IP'],\n",
       "      dtype='object')"
      ]
     },
     "execution_count": 18,
     "metadata": {},
     "output_type": "execute_result"
    }
   ],
   "source": [
    "warehouse_Data.columns"
   ]
  },
  {
   "cell_type": "code",
   "execution_count": 19,
   "metadata": {},
   "outputs": [
    {
     "data": {
      "text/plain": [
       "METERNUMBER                                  0\n",
       "MFG_SERIAL_NUM                               0\n",
       "UDC_ID                                       0\n",
       "NETWORK_ID                                   0\n",
       "INSTALLATIONNUMBER                           0\n",
       "STATUS                                       0\n",
       "INSERT_TIME                                  0\n",
       "DECODE(D.ORG_ID,52,'SBPDCL',102,'NBPDCL')    0\n",
       "dtype: int64"
      ]
     },
     "execution_count": 19,
     "metadata": {},
     "output_type": "execute_result"
    }
   ],
   "source": [
    "# checking is null\n",
    "\n",
    "NB_SB_COMBINED_DATAFRAME[NB_SB_COMBINED_DATAFRAME[\"NETWORK_ID\"].isnull()].count()"
   ]
  },
  {
   "cell_type": "code",
   "execution_count": 20,
   "metadata": {},
   "outputs": [
    {
     "data": {
      "text/html": [
       "<div>\n",
       "<style scoped>\n",
       "    .dataframe tbody tr th:only-of-type {\n",
       "        vertical-align: middle;\n",
       "    }\n",
       "\n",
       "    .dataframe tbody tr th {\n",
       "        vertical-align: top;\n",
       "    }\n",
       "\n",
       "    .dataframe thead th {\n",
       "        text-align: right;\n",
       "    }\n",
       "</style>\n",
       "<table border=\"1\" class=\"dataframe\">\n",
       "  <thead>\n",
       "    <tr style=\"text-align: right;\">\n",
       "      <th></th>\n",
       "      <th>METERNUMBER</th>\n",
       "      <th>MFG_SERIAL_NUM</th>\n",
       "      <th>UDC_ID</th>\n",
       "      <th>NETWORK_ID</th>\n",
       "      <th>INSTALLATIONNUMBER</th>\n",
       "      <th>STATUS</th>\n",
       "      <th>INSERT_TIME</th>\n",
       "      <th>DECODE(D.ORG_ID,52,'SBPDCL',102,'NBPDCL')</th>\n",
       "    </tr>\n",
       "  </thead>\n",
       "  <tbody>\n",
       "  </tbody>\n",
       "</table>\n",
       "</div>"
      ],
      "text/plain": [
       "Empty DataFrame\n",
       "Columns: [METERNUMBER, MFG_SERIAL_NUM, UDC_ID, NETWORK_ID, INSTALLATIONNUMBER, STATUS, INSERT_TIME, DECODE(D.ORG_ID,52,'SBPDCL',102,'NBPDCL')]\n",
       "Index: []"
      ]
     },
     "execution_count": 20,
     "metadata": {},
     "output_type": "execute_result"
    }
   ],
   "source": [
    "# checking duplicate value\n",
    "\n",
    "NB_SB_COMBINED_DATAFRAME[NB_SB_COMBINED_DATAFRAME.duplicated(keep = False)]\n",
    "\n"
   ]
  },
  {
   "cell_type": "code",
   "execution_count": 21,
   "metadata": {},
   "outputs": [
    {
     "name": "stdout",
     "output_type": "stream",
     "text": [
      " NONE OF 2 ROWS ARE DUPLIUCATED\n"
     ]
    }
   ],
   "source": [
    "if NB_SB_COMBINED_DATAFRAME[NB_SB_COMBINED_DATAFRAME.duplicated(keep = False)].shape[0]==0:\n",
    "    print(\" NONE OF 2 ROWS ARE DUPLIUCATED\")\n",
    "else:\n",
    "    NB_SB_COMBINED_DATAFRAME[NB_SB_COMBINED_DATAFRAME.duplicated(keep = False)]\n",
    "\n"
   ]
  },
  {
   "cell_type": "code",
   "execution_count": 22,
   "metadata": {},
   "outputs": [
    {
     "data": {
      "text/html": [
       "<div>\n",
       "<style scoped>\n",
       "    .dataframe tbody tr th:only-of-type {\n",
       "        vertical-align: middle;\n",
       "    }\n",
       "\n",
       "    .dataframe tbody tr th {\n",
       "        vertical-align: top;\n",
       "    }\n",
       "\n",
       "    .dataframe thead th {\n",
       "        text-align: right;\n",
       "    }\n",
       "</style>\n",
       "<table border=\"1\" class=\"dataframe\">\n",
       "  <thead>\n",
       "    <tr style=\"text-align: right;\">\n",
       "      <th></th>\n",
       "      <th>METERNUMBER</th>\n",
       "      <th>MFG_SERIAL_NUM</th>\n",
       "      <th>UDC_ID</th>\n",
       "      <th>NETWORK_ID</th>\n",
       "      <th>INSTALLATIONNUMBER</th>\n",
       "      <th>STATUS</th>\n",
       "      <th>INSERT_TIME</th>\n",
       "      <th>DECODE(D.ORG_ID,52,'SBPDCL',102,'NBPDCL')</th>\n",
       "    </tr>\n",
       "  </thead>\n",
       "  <tbody>\n",
       "    <tr>\n",
       "      <th>0</th>\n",
       "      <td>GOEGP4968564</td>\n",
       "      <td>GP4968564</td>\n",
       "      <td>404759210464041</td>\n",
       "      <td>2001:4490:0800:5DE8:0000:0000:0000:0001</td>\n",
       "      <td>5002165505</td>\n",
       "      <td>Installed</td>\n",
       "      <td>9/2/2019 1:08:19 AM</td>\n",
       "      <td>SBPDCL</td>\n",
       "    </tr>\n",
       "  </tbody>\n",
       "</table>\n",
       "</div>"
      ],
      "text/plain": [
       "    METERNUMBER MFG_SERIAL_NUM           UDC_ID  \\\n",
       "0  GOEGP4968564      GP4968564  404759210464041   \n",
       "\n",
       "                                NETWORK_ID INSTALLATIONNUMBER     STATUS  \\\n",
       "0  2001:4490:0800:5DE8:0000:0000:0000:0001         5002165505  Installed   \n",
       "\n",
       "           INSERT_TIME DECODE(D.ORG_ID,52,'SBPDCL',102,'NBPDCL')  \n",
       "0  9/2/2019 1:08:19 AM                                    SBPDCL  "
      ]
     },
     "execution_count": 22,
     "metadata": {},
     "output_type": "execute_result"
    }
   ],
   "source": [
    "NB_SB_COMBINED_DATAFRAME.head(1)"
   ]
  },
  {
   "cell_type": "code",
   "execution_count": null,
   "metadata": {},
   "outputs": [],
   "source": []
  },
  {
   "cell_type": "markdown",
   "metadata": {},
   "source": [
    "# WORK ON INSTALLATION NO."
   ]
  },
  {
   "cell_type": "code",
   "execution_count": 23,
   "metadata": {},
   "outputs": [
    {
     "name": "stdout",
     "output_type": "stream",
     "text": [
      " DROP COLUMN DONE :  'METERNUMBER','INSERT_TIME'  \n"
     ]
    }
   ],
   "source": [
    "# droping not used column in the NB_SB_COMBINED_DATAFRAME\n",
    "\n",
    "NB_SB_COMBINED_DATAFRAME.drop(['METERNUMBER','INSERT_TIME'], axis=1, inplace=True)\n",
    "print(\" DROP COLUMN DONE :  'METERNUMBER','INSERT_TIME'  \")"
   ]
  },
  {
   "cell_type": "code",
   "execution_count": 24,
   "metadata": {},
   "outputs": [
    {
     "data": {
      "text/plain": [
       "'\\n# droping not used column in the NB_SB_COMBINED_DATAFRAME\\n\\nNB_SB_COMBINED_DATAFRAME.drop([\\'METERNUMBER\\', \\'INSTALLATIONNUMBER\\',\\'INSERT_TIME\\'], axis=1, inplace=True)\\nprint(\" DROP COLUMN DONE :  \\'METERNUMBER\\', \\'INSTALLATIONNUMBER\\',\\'INSERT_TIME\\'  \")\\n\\n'"
      ]
     },
     "execution_count": 24,
     "metadata": {},
     "output_type": "execute_result"
    }
   ],
   "source": [
    "\"\"\"\n",
    "# droping not used column in the NB_SB_COMBINED_DATAFRAME\n",
    "\n",
    "NB_SB_COMBINED_DATAFRAME.drop(['METERNUMBER', 'INSTALLATIONNUMBER','INSERT_TIME'], axis=1, inplace=True)\n",
    "print(\" DROP COLUMN DONE :  'METERNUMBER', 'INSTALLATIONNUMBER','INSERT_TIME'  \")\n",
    "\n",
    "\"\"\""
   ]
  },
  {
   "cell_type": "code",
   "execution_count": 25,
   "metadata": {},
   "outputs": [
    {
     "name": "stdout",
     "output_type": "stream",
     "text": [
      " SHAPE OF NB_SB_COMBINED_DATAFRAME :- 2167879\n"
     ]
    }
   ],
   "source": [
    "print(f\" SHAPE OF NB_SB_COMBINED_DATAFRAME :- {NB_SB_COMBINED_DATAFRAME.shape[0]}\")"
   ]
  },
  {
   "cell_type": "markdown",
   "metadata": {},
   "source": [
    "#### DROP DUPLICATE "
   ]
  },
  {
   "cell_type": "code",
   "execution_count": 26,
   "metadata": {},
   "outputs": [],
   "source": [
    "# dop duplicate in  NB_SB_COMBINED_DATAFRAME\n",
    "\n",
    "#NB_SB_COMBINED_DATAFRAME.drop_duplicates(subset=['MFG_SERIAL_NUM','UDC_ID',\"DECODE(D.ORG_ID,52,'SBPDCL',102,'NBPDCL')\"], keep='first', inplace=True, ignore_index=True)\n",
    "#NB_SB_COMBINED_DATAFRAME[NB_SB_COMBINED_DATAFRAME.duplicated(subset=['MFG_SERIAL_NUM'], keep=False)].sort_values(by=['MFG_SERIAL_NUM'],ascending=True)\n",
    "\n",
    "# DUPLICATE NOT DROPPING"
   ]
  },
  {
   "cell_type": "code",
   "execution_count": 27,
   "metadata": {},
   "outputs": [
    {
     "name": "stdout",
     "output_type": "stream",
     "text": [
      " SHAPE OF NB_SB_COMBINED_DATAFRAME :- 2167879\n"
     ]
    }
   ],
   "source": [
    "print(f\" SHAPE OF NB_SB_COMBINED_DATAFRAME :- {NB_SB_COMBINED_DATAFRAME.shape[0]}\")"
   ]
  },
  {
   "cell_type": "code",
   "execution_count": 28,
   "metadata": {},
   "outputs": [
    {
     "data": {
      "text/html": [
       "<div>\n",
       "<style scoped>\n",
       "    .dataframe tbody tr th:only-of-type {\n",
       "        vertical-align: middle;\n",
       "    }\n",
       "\n",
       "    .dataframe tbody tr th {\n",
       "        vertical-align: top;\n",
       "    }\n",
       "\n",
       "    .dataframe thead th {\n",
       "        text-align: right;\n",
       "    }\n",
       "</style>\n",
       "<table border=\"1\" class=\"dataframe\">\n",
       "  <thead>\n",
       "    <tr style=\"text-align: right;\">\n",
       "      <th></th>\n",
       "      <th>MFG_SERIAL_NUM</th>\n",
       "      <th>UDC_ID</th>\n",
       "      <th>NETWORK_ID</th>\n",
       "      <th>INSTALLATIONNUMBER</th>\n",
       "      <th>STATUS</th>\n",
       "      <th>DECODE(D.ORG_ID,52,'SBPDCL',102,'NBPDCL')</th>\n",
       "    </tr>\n",
       "  </thead>\n",
       "  <tbody>\n",
       "    <tr>\n",
       "      <th>597145</th>\n",
       "      <td>GL8548300</td>\n",
       "      <td>405856707172350</td>\n",
       "      <td>2405:0203:0532:43AE:0000:0000:0000:0010</td>\n",
       "      <td>5001970345</td>\n",
       "      <td>Refurbished</td>\n",
       "      <td>SBPDCL</td>\n",
       "    </tr>\n",
       "    <tr>\n",
       "      <th>287884</th>\n",
       "      <td>GL8548300</td>\n",
       "      <td>405856706536659</td>\n",
       "      <td>2405:0203:0528:DBEF:0000:0000:0000:0010</td>\n",
       "      <td>5001970345</td>\n",
       "      <td>Refurbished</td>\n",
       "      <td>SBPDCL</td>\n",
       "    </tr>\n",
       "    <tr>\n",
       "      <th>632938</th>\n",
       "      <td>GL8548303</td>\n",
       "      <td>405856706536685</td>\n",
       "      <td>2405:0203:0528:DBF2:0000:0000:0000:0010</td>\n",
       "      <td>5002973847</td>\n",
       "      <td>Installed</td>\n",
       "      <td>SBPDCL</td>\n",
       "    </tr>\n",
       "    <tr>\n",
       "      <th>555037</th>\n",
       "      <td>GL8548303</td>\n",
       "      <td>405856706536685</td>\n",
       "      <td>2405:0203:0528:DBF2:0000:0000:0000:0010</td>\n",
       "      <td>5004056701</td>\n",
       "      <td>Installed</td>\n",
       "      <td>SBPDCL</td>\n",
       "    </tr>\n",
       "    <tr>\n",
       "      <th>1134329</th>\n",
       "      <td>GL8548303</td>\n",
       "      <td>405856707299383</td>\n",
       "      <td>2405:0203:0531:9328:0000:0000:0000:0010</td>\n",
       "      <td>5004056701</td>\n",
       "      <td>Installed</td>\n",
       "      <td>SBPDCL</td>\n",
       "    </tr>\n",
       "    <tr>\n",
       "      <th>...</th>\n",
       "      <td>...</td>\n",
       "      <td>...</td>\n",
       "      <td>...</td>\n",
       "      <td>...</td>\n",
       "      <td>...</td>\n",
       "      <td>...</td>\n",
       "    </tr>\n",
       "    <tr>\n",
       "      <th>755053</th>\n",
       "      <td>gP7480518</td>\n",
       "      <td>nan</td>\n",
       "      <td>nan</td>\n",
       "      <td>BRUBRF-9783</td>\n",
       "      <td>Meter Shop</td>\n",
       "      <td>SBPDCL</td>\n",
       "    </tr>\n",
       "    <tr>\n",
       "      <th>19992</th>\n",
       "      <td>gp7439680</td>\n",
       "      <td>nan</td>\n",
       "      <td>nan</td>\n",
       "      <td>DALTNR-118</td>\n",
       "      <td>Meter Shop</td>\n",
       "      <td>SBPDCL</td>\n",
       "    </tr>\n",
       "    <tr>\n",
       "      <th>463391</th>\n",
       "      <td>gp7439680</td>\n",
       "      <td>nan</td>\n",
       "      <td>nan</td>\n",
       "      <td>nan</td>\n",
       "      <td>Meter Shop</td>\n",
       "      <td>SBPDCL</td>\n",
       "    </tr>\n",
       "    <tr>\n",
       "      <th>1121545</th>\n",
       "      <td>gp7468216</td>\n",
       "      <td>nan</td>\n",
       "      <td>nan</td>\n",
       "      <td>5001700540</td>\n",
       "      <td>Meter Shop</td>\n",
       "      <td>SBPDCL</td>\n",
       "    </tr>\n",
       "    <tr>\n",
       "      <th>927400</th>\n",
       "      <td>gp7468216</td>\n",
       "      <td>nan</td>\n",
       "      <td>nan</td>\n",
       "      <td>nan</td>\n",
       "      <td>Meter Shop</td>\n",
       "      <td>SBPDCL</td>\n",
       "    </tr>\n",
       "  </tbody>\n",
       "</table>\n",
       "<p>394310 rows × 6 columns</p>\n",
       "</div>"
      ],
      "text/plain": [
       "        MFG_SERIAL_NUM           UDC_ID  \\\n",
       "597145       GL8548300  405856707172350   \n",
       "287884       GL8548300  405856706536659   \n",
       "632938       GL8548303  405856706536685   \n",
       "555037       GL8548303  405856706536685   \n",
       "1134329      GL8548303  405856707299383   \n",
       "...                ...              ...   \n",
       "755053       gP7480518              nan   \n",
       "19992        gp7439680              nan   \n",
       "463391       gp7439680              nan   \n",
       "1121545      gp7468216              nan   \n",
       "927400       gp7468216              nan   \n",
       "\n",
       "                                      NETWORK_ID INSTALLATIONNUMBER  \\\n",
       "597145   2405:0203:0532:43AE:0000:0000:0000:0010         5001970345   \n",
       "287884   2405:0203:0528:DBEF:0000:0000:0000:0010         5001970345   \n",
       "632938   2405:0203:0528:DBF2:0000:0000:0000:0010         5002973847   \n",
       "555037   2405:0203:0528:DBF2:0000:0000:0000:0010         5004056701   \n",
       "1134329  2405:0203:0531:9328:0000:0000:0000:0010         5004056701   \n",
       "...                                          ...                ...   \n",
       "755053                                       nan        BRUBRF-9783   \n",
       "19992                                        nan         DALTNR-118   \n",
       "463391                                       nan                nan   \n",
       "1121545                                      nan         5001700540   \n",
       "927400                                       nan                nan   \n",
       "\n",
       "              STATUS DECODE(D.ORG_ID,52,'SBPDCL',102,'NBPDCL')  \n",
       "597145   Refurbished                                    SBPDCL  \n",
       "287884   Refurbished                                    SBPDCL  \n",
       "632938     Installed                                    SBPDCL  \n",
       "555037     Installed                                    SBPDCL  \n",
       "1134329    Installed                                    SBPDCL  \n",
       "...              ...                                       ...  \n",
       "755053    Meter Shop                                    SBPDCL  \n",
       "19992     Meter Shop                                    SBPDCL  \n",
       "463391    Meter Shop                                    SBPDCL  \n",
       "1121545   Meter Shop                                    SBPDCL  \n",
       "927400    Meter Shop                                    SBPDCL  \n",
       "\n",
       "[394310 rows x 6 columns]"
      ]
     },
     "execution_count": 28,
     "metadata": {},
     "output_type": "execute_result"
    }
   ],
   "source": [
    "NB_SB_COMBINED_DATAFRAME[NB_SB_COMBINED_DATAFRAME.duplicated(subset=['MFG_SERIAL_NUM'], keep=False)].sort_values(by=['MFG_SERIAL_NUM'],ascending=True)"
   ]
  },
  {
   "cell_type": "code",
   "execution_count": 29,
   "metadata": {},
   "outputs": [
    {
     "data": {
      "text/html": [
       "<div>\n",
       "<style scoped>\n",
       "    .dataframe tbody tr th:only-of-type {\n",
       "        vertical-align: middle;\n",
       "    }\n",
       "\n",
       "    .dataframe tbody tr th {\n",
       "        vertical-align: top;\n",
       "    }\n",
       "\n",
       "    .dataframe thead th {\n",
       "        text-align: right;\n",
       "    }\n",
       "</style>\n",
       "<table border=\"1\" class=\"dataframe\">\n",
       "  <thead>\n",
       "    <tr style=\"text-align: right;\">\n",
       "      <th></th>\n",
       "      <th>MFG_SERIAL_NUM</th>\n",
       "      <th>UDC_ID</th>\n",
       "      <th>NETWORK_ID</th>\n",
       "      <th>INSTALLATIONNUMBER</th>\n",
       "      <th>STATUS</th>\n",
       "      <th>DECODE(D.ORG_ID,52,'SBPDCL',102,'NBPDCL')</th>\n",
       "    </tr>\n",
       "  </thead>\n",
       "  <tbody>\n",
       "    <tr>\n",
       "      <th>0</th>\n",
       "      <td>GP4968564</td>\n",
       "      <td>404759210464041</td>\n",
       "      <td>2001:4490:0800:5DE8:0000:0000:0000:0001</td>\n",
       "      <td>5002165505</td>\n",
       "      <td>Installed</td>\n",
       "      <td>SBPDCL</td>\n",
       "    </tr>\n",
       "  </tbody>\n",
       "</table>\n",
       "</div>"
      ],
      "text/plain": [
       "  MFG_SERIAL_NUM           UDC_ID                               NETWORK_ID  \\\n",
       "0      GP4968564  404759210464041  2001:4490:0800:5DE8:0000:0000:0000:0001   \n",
       "\n",
       "  INSTALLATIONNUMBER     STATUS DECODE(D.ORG_ID,52,'SBPDCL',102,'NBPDCL')  \n",
       "0         5002165505  Installed                                    SBPDCL  "
      ]
     },
     "execution_count": 29,
     "metadata": {},
     "output_type": "execute_result"
    }
   ],
   "source": [
    "NB_SB_COMBINED_DATAFRAME.head(1)"
   ]
  },
  {
   "cell_type": "code",
   "execution_count": null,
   "metadata": {},
   "outputs": [],
   "source": []
  },
  {
   "cell_type": "markdown",
   "metadata": {},
   "source": [
    "# CHANGES IN  NB_SB_COMBINED_DATAFRAME :- DATATYPE,UPPER,SPACES"
   ]
  },
  {
   "cell_type": "code",
   "execution_count": 30,
   "metadata": {},
   "outputs": [],
   "source": [
    "\n",
    "\n",
    "# Convert all columns to string data type\n",
    "\n",
    "NB_SB_COMBINED_DATAFRAME = NB_SB_COMBINED_DATAFRAME.astype(str)\n",
    "\n",
    "\n",
    "NB_SB_COMBINED_DATAFRAME.columns = NB_SB_COMBINED_DATAFRAME.columns.str.upper()\n",
    "\n",
    "\n",
    "\n",
    "# Remove leading and trailing whitespaces from all columns where dtype is 'O'\n",
    "NB_SB_COMBINED_DATAFRAME = NB_SB_COMBINED_DATAFRAME.apply(lambda x: x.str.strip() if x.dtype == 'O' else x)\n"
   ]
  },
  {
   "cell_type": "code",
   "execution_count": null,
   "metadata": {},
   "outputs": [],
   "source": []
  },
  {
   "cell_type": "markdown",
   "metadata": {},
   "source": [
    "# JOIN\n",
    "\n"
   ]
  },
  {
   "cell_type": "code",
   "execution_count": null,
   "metadata": {},
   "outputs": [],
   "source": []
  },
  {
   "cell_type": "markdown",
   "metadata": {},
   "source": [
    "#### METER"
   ]
  },
  {
   "cell_type": "code",
   "execution_count": 31,
   "metadata": {},
   "outputs": [],
   "source": [
    "# here first merge with 2 column   meter no and utility   and the if some rows are null then merge those rows only only with meter no. "
   ]
  },
  {
   "cell_type": "code",
   "execution_count": 32,
   "metadata": {},
   "outputs": [],
   "source": [
    "#if ((warehouse_Data['METER NO.']== NB_SB_COMBINED_DATAFRAME['MFG_SERIAL_NUM']) and (warehouse_Data['WAREHOUSE_UTILITY']== NB_SB_COMBINED_DATAFRAME[\"DECODE(D.ORG_ID,52,'SBPDCL',102,'NBPDCL')\"])):\n",
    "LEFT_JOIN_WITH_METER_UTILITY_WAREHOUSE_AND_COMIBNED_DATA = pd.merge(warehouse_Data, NB_SB_COMBINED_DATAFRAME, left_on=['METER NO.', 'WAREHOUSE_UTILITY'], right_on=['MFG_SERIAL_NUM', \"DECODE(D.ORG_ID,52,'SBPDCL',102,'NBPDCL')\"], how='left')\n",
    "LEFT_JOIN_WITH_METER_UTILITY_WAREHOUSE_AND_COMIBNED_DATA_NULL = LEFT_JOIN_WITH_METER_UTILITY_WAREHOUSE_AND_COMIBNED_DATA[LEFT_JOIN_WITH_METER_UTILITY_WAREHOUSE_AND_COMIBNED_DATA['MFG_SERIAL_NUM'].isnull()]\n",
    "LEFT_JOIN_WITH_METER_UTILITY_WAREHOUSE_AND_COMIBNED_DATA_DROPED_DATA = (LEFT_JOIN_WITH_METER_UTILITY_WAREHOUSE_AND_COMIBNED_DATA.dropna(subset=['MFG_SERIAL_NUM','UDC_ID']))\n",
    "\n",
    "if LEFT_JOIN_WITH_METER_UTILITY_WAREHOUSE_AND_COMIBNED_DATA_NULL.shape[0] > 0:\n",
    "    LEFT_JOIN_WITH_METER_UTILITY_WAREHOUSE_AND_COMIBNED_DATA_NULL_CHECK=LEFT_JOIN_WITH_METER_UTILITY_WAREHOUSE_AND_COMIBNED_DATA_NULL[warehouse_Data.columns]\n",
    "    LEFT_JOIN_WITH_METER_UTILITY_WAREHOUSE_AND_COMIBNED_DATA_NULL_CHECK=pd.merge(LEFT_JOIN_WITH_METER_UTILITY_WAREHOUSE_AND_COMIBNED_DATA_NULL_CHECK, NB_SB_COMBINED_DATAFRAME, left_on=['METER NO.'], right_on=['MFG_SERIAL_NUM'], how='left')\n",
    "    LEFT_JOIN_WITH_METER_UTILITY_WAREHOUSE_AND_COMIBNED_DATA = pd.concat([LEFT_JOIN_WITH_METER_UTILITY_WAREHOUSE_AND_COMIBNED_DATA_DROPED_DATA, LEFT_JOIN_WITH_METER_UTILITY_WAREHOUSE_AND_COMIBNED_DATA_NULL_CHECK], ignore_index=True)\n",
    "else:\n",
    "    LEFT_JOIN_WITH_METER_UTILITY_WAREHOUSE_AND_COMIBNED_DATA=LEFT_JOIN_WITH_METER_UTILITY_WAREHOUSE_AND_COMIBNED_DATA\n",
    "\n",
    "\n",
    "    \n"
   ]
  },
  {
   "cell_type": "code",
   "execution_count": 33,
   "metadata": {},
   "outputs": [
    {
     "data": {
      "text/html": [
       "<div>\n",
       "<style scoped>\n",
       "    .dataframe tbody tr th:only-of-type {\n",
       "        vertical-align: middle;\n",
       "    }\n",
       "\n",
       "    .dataframe tbody tr th {\n",
       "        vertical-align: top;\n",
       "    }\n",
       "\n",
       "    .dataframe thead th {\n",
       "        text-align: right;\n",
       "    }\n",
       "</style>\n",
       "<table border=\"1\" class=\"dataframe\">\n",
       "  <thead>\n",
       "    <tr style=\"text-align: right;\">\n",
       "      <th></th>\n",
       "      <th>METER NO.</th>\n",
       "      <th>PHASE</th>\n",
       "      <th>WAREHOUSE_UTILITY</th>\n",
       "      <th>IME</th>\n",
       "      <th>FINAL SIM</th>\n",
       "      <th>IMSI</th>\n",
       "      <th>IP</th>\n",
       "      <th>MFG_SERIAL_NUM</th>\n",
       "      <th>UDC_ID</th>\n",
       "      <th>NETWORK_ID</th>\n",
       "      <th>INSTALLATIONNUMBER</th>\n",
       "      <th>STATUS</th>\n",
       "      <th>DECODE(D.ORG_ID,52,'SBPDCL',102,'NBPDCL')</th>\n",
       "    </tr>\n",
       "  </thead>\n",
       "  <tbody>\n",
       "    <tr>\n",
       "      <th>0</th>\n",
       "      <td>LT0555992</td>\n",
       "      <td>1 Phase</td>\n",
       "      <td>NBPDCL</td>\n",
       "      <td>865681062851242</td>\n",
       "      <td>8991856040706094571</td>\n",
       "      <td>405856706639593</td>\n",
       "      <td>2405:0203:0529:1B24:0000:0000:0000:0010</td>\n",
       "      <td>LT0555992</td>\n",
       "      <td>405856706639593</td>\n",
       "      <td>2405:0203:0529:1B24:0000:0000:0000:0010</td>\n",
       "      <td>5003226857</td>\n",
       "      <td>Installed</td>\n",
       "      <td>NBPDCL</td>\n",
       "    </tr>\n",
       "    <tr>\n",
       "      <th>1</th>\n",
       "      <td>LT0575586</td>\n",
       "      <td>1 Phase</td>\n",
       "      <td>NBPDCL</td>\n",
       "      <td>865681062819025</td>\n",
       "      <td>8991856040706117561</td>\n",
       "      <td>405856706662583</td>\n",
       "      <td>2405:0203:0529:969C:0000:0000:0000:0010</td>\n",
       "      <td>LT0575586</td>\n",
       "      <td>405856706662583</td>\n",
       "      <td>2405:0203:0529:969C:0000:0000:0000:0010</td>\n",
       "      <td>5003886123</td>\n",
       "      <td>Installed</td>\n",
       "      <td>NBPDCL</td>\n",
       "    </tr>\n",
       "  </tbody>\n",
       "</table>\n",
       "</div>"
      ],
      "text/plain": [
       "   METER NO.    PHASE WAREHOUSE_UTILITY              IME            FINAL SIM  \\\n",
       "0  LT0555992  1 Phase            NBPDCL  865681062851242  8991856040706094571   \n",
       "1  LT0575586  1 Phase            NBPDCL  865681062819025  8991856040706117561   \n",
       "\n",
       "              IMSI                                       IP MFG_SERIAL_NUM  \\\n",
       "0  405856706639593  2405:0203:0529:1B24:0000:0000:0000:0010      LT0555992   \n",
       "1  405856706662583  2405:0203:0529:969C:0000:0000:0000:0010      LT0575586   \n",
       "\n",
       "            UDC_ID                               NETWORK_ID  \\\n",
       "0  405856706639593  2405:0203:0529:1B24:0000:0000:0000:0010   \n",
       "1  405856706662583  2405:0203:0529:969C:0000:0000:0000:0010   \n",
       "\n",
       "  INSTALLATIONNUMBER     STATUS DECODE(D.ORG_ID,52,'SBPDCL',102,'NBPDCL')  \n",
       "0         5003226857  Installed                                    NBPDCL  \n",
       "1         5003886123  Installed                                    NBPDCL  "
      ]
     },
     "execution_count": 33,
     "metadata": {},
     "output_type": "execute_result"
    }
   ],
   "source": [
    "LEFT_JOIN_WITH_METER_UTILITY_WAREHOUSE_AND_COMIBNED_DATA.head(2)"
   ]
  },
  {
   "cell_type": "code",
   "execution_count": 34,
   "metadata": {},
   "outputs": [
    {
     "data": {
      "text/plain": [
       "17"
      ]
     },
     "execution_count": 34,
     "metadata": {},
     "output_type": "execute_result"
    }
   ],
   "source": [
    "LEFT_JOIN_WITH_METER_UTILITY_WAREHOUSE_AND_COMIBNED_DATA[LEFT_JOIN_WITH_METER_UTILITY_WAREHOUSE_AND_COMIBNED_DATA['MFG_SERIAL_NUM'].isnull()].shape[0]"
   ]
  },
  {
   "cell_type": "code",
   "execution_count": null,
   "metadata": {},
   "outputs": [],
   "source": []
  },
  {
   "cell_type": "code",
   "execution_count": 35,
   "metadata": {},
   "outputs": [],
   "source": [
    "#NB_SB_COMBINED_DATAFRAME[NB_SB_COMBINED_DATAFRAME['MFG_SERIAL_NUM']=='GP4465021']"
   ]
  },
  {
   "cell_type": "code",
   "execution_count": 36,
   "metadata": {},
   "outputs": [],
   "source": [
    "\n",
    "\n",
    "#LEFT_JOIN_WITH_METER_UTILITY_WAREHOUSE_AND_COMIBNED_DATA = pd.merge(warehouse_Data, NB_SB_COMBINED_DATAFRAME, left_on=['METER NO.', 'WAREHOUSE_UTILITY'], right_on=['MFG_SERIAL_NUM', \"DECODE(D.ORG_ID,52,'SBPDCL',102,'NBPDCL')\"], how='left')\n"
   ]
  },
  {
   "cell_type": "code",
   "execution_count": null,
   "metadata": {},
   "outputs": [],
   "source": []
  },
  {
   "cell_type": "code",
   "execution_count": 37,
   "metadata": {},
   "outputs": [
    {
     "data": {
      "text/plain": [
       "METER NO.                                    5871\n",
       "PHASE                                        5871\n",
       "WAREHOUSE_UTILITY                            5871\n",
       "IME                                          5871\n",
       "FINAL SIM                                    5871\n",
       "IMSI                                         5871\n",
       "IP                                           5871\n",
       "MFG_SERIAL_NUM                               5854\n",
       "UDC_ID                                       5854\n",
       "NETWORK_ID                                   5854\n",
       "INSTALLATIONNUMBER                           5854\n",
       "STATUS                                       5854\n",
       "DECODE(D.ORG_ID,52,'SBPDCL',102,'NBPDCL')    5854\n",
       "dtype: int64"
      ]
     },
     "execution_count": 37,
     "metadata": {},
     "output_type": "execute_result"
    }
   ],
   "source": [
    "LEFT_JOIN_WITH_METER_UTILITY_WAREHOUSE_AND_COMIBNED_DATA.count()"
   ]
  },
  {
   "cell_type": "code",
   "execution_count": null,
   "metadata": {},
   "outputs": [],
   "source": []
  },
  {
   "cell_type": "code",
   "execution_count": 38,
   "metadata": {},
   "outputs": [],
   "source": [
    "#LEFT_JOIN_WITH_METER_UTILITY_WAREHOUSE_AND_COMIBNED_DATA.to_csv(r'C:\\Users\\Ratan Kumar Jha\\Desktop\\new\\LEFT_JOIN_WITH_METER_UTILITY_WAREHOUSE_AND_COMIBNED_DATA.csv',index=False)"
   ]
  },
  {
   "cell_type": "markdown",
   "metadata": {},
   "source": []
  },
  {
   "cell_type": "markdown",
   "metadata": {},
   "source": [
    "#### IMSI"
   ]
  },
  {
   "cell_type": "code",
   "execution_count": 39,
   "metadata": {},
   "outputs": [],
   "source": [
    "LEFT_JOIN_WITH_IMSI_WAREHOUSE_AND_COMIBNED_DATA = pd.merge(warehouse_Data, NB_SB_COMBINED_DATAFRAME, left_on=['IMSI'], right_on=['UDC_ID'], how='left')"
   ]
  },
  {
   "cell_type": "code",
   "execution_count": 40,
   "metadata": {},
   "outputs": [
    {
     "data": {
      "text/plain": [
       "METER NO.                                    6722\n",
       "PHASE                                        6722\n",
       "WAREHOUSE_UTILITY                            6722\n",
       "IME                                          6722\n",
       "FINAL SIM                                    6722\n",
       "IMSI                                         6722\n",
       "IP                                           6722\n",
       "MFG_SERIAL_NUM                               6424\n",
       "UDC_ID                                       6424\n",
       "NETWORK_ID                                   6424\n",
       "INSTALLATIONNUMBER                           6424\n",
       "STATUS                                       6424\n",
       "DECODE(D.ORG_ID,52,'SBPDCL',102,'NBPDCL')    6424\n",
       "dtype: int64"
      ]
     },
     "execution_count": 40,
     "metadata": {},
     "output_type": "execute_result"
    }
   ],
   "source": [
    "LEFT_JOIN_WITH_IMSI_WAREHOUSE_AND_COMIBNED_DATA.count()"
   ]
  },
  {
   "cell_type": "code",
   "execution_count": 41,
   "metadata": {},
   "outputs": [
    {
     "data": {
      "text/html": [
       "<div>\n",
       "<style scoped>\n",
       "    .dataframe tbody tr th:only-of-type {\n",
       "        vertical-align: middle;\n",
       "    }\n",
       "\n",
       "    .dataframe tbody tr th {\n",
       "        vertical-align: top;\n",
       "    }\n",
       "\n",
       "    .dataframe thead th {\n",
       "        text-align: right;\n",
       "    }\n",
       "</style>\n",
       "<table border=\"1\" class=\"dataframe\">\n",
       "  <thead>\n",
       "    <tr style=\"text-align: right;\">\n",
       "      <th></th>\n",
       "      <th>METER NO.</th>\n",
       "      <th>PHASE</th>\n",
       "      <th>WAREHOUSE_UTILITY</th>\n",
       "      <th>IME</th>\n",
       "      <th>FINAL SIM</th>\n",
       "      <th>IMSI</th>\n",
       "      <th>IP</th>\n",
       "      <th>MFG_SERIAL_NUM</th>\n",
       "      <th>UDC_ID</th>\n",
       "      <th>NETWORK_ID</th>\n",
       "      <th>INSTALLATIONNUMBER</th>\n",
       "      <th>STATUS</th>\n",
       "      <th>DECODE(D.ORG_ID,52,'SBPDCL',102,'NBPDCL')</th>\n",
       "    </tr>\n",
       "  </thead>\n",
       "  <tbody>\n",
       "    <tr>\n",
       "      <th>1015</th>\n",
       "      <td>GP4965061</td>\n",
       "      <td>1 Phase</td>\n",
       "      <td>SBPDCL</td>\n",
       "      <td>869912039783507</td>\n",
       "      <td>8991759065212012051</td>\n",
       "      <td>404751250012051</td>\n",
       "      <td>fd00:0000:0800:1E46:0000:0000:0000:0001</td>\n",
       "      <td>NaN</td>\n",
       "      <td>NaN</td>\n",
       "      <td>NaN</td>\n",
       "      <td>NaN</td>\n",
       "      <td>NaN</td>\n",
       "      <td>NaN</td>\n",
       "    </tr>\n",
       "    <tr>\n",
       "      <th>1016</th>\n",
       "      <td>GP6849944</td>\n",
       "      <td>1 Phase</td>\n",
       "      <td>SBPDCL</td>\n",
       "      <td>863704043809170</td>\n",
       "      <td>8991759065212013852</td>\n",
       "      <td>404751250013852</td>\n",
       "      <td>fd00:0000:0800:73B:0000:0000:0000:0001</td>\n",
       "      <td>NaN</td>\n",
       "      <td>NaN</td>\n",
       "      <td>NaN</td>\n",
       "      <td>NaN</td>\n",
       "      <td>NaN</td>\n",
       "      <td>NaN</td>\n",
       "    </tr>\n",
       "    <tr>\n",
       "      <th>1017</th>\n",
       "      <td>GP7557393</td>\n",
       "      <td>1 Phase</td>\n",
       "      <td>SBPDCL</td>\n",
       "      <td>863326042013446</td>\n",
       "      <td>8991759065212015507</td>\n",
       "      <td>404751250015507</td>\n",
       "      <td>fd00:0000:0800:6AA1:0000:0000:0000:0001</td>\n",
       "      <td>NaN</td>\n",
       "      <td>NaN</td>\n",
       "      <td>NaN</td>\n",
       "      <td>NaN</td>\n",
       "      <td>NaN</td>\n",
       "      <td>NaN</td>\n",
       "    </tr>\n",
       "    <tr>\n",
       "      <th>1061</th>\n",
       "      <td>GP5029472</td>\n",
       "      <td>1 Phase</td>\n",
       "      <td>SBPDCL</td>\n",
       "      <td>869912031825272</td>\n",
       "      <td>8991759065212016572</td>\n",
       "      <td>404751250016572</td>\n",
       "      <td>fd00:0000:0800:8ECF:0000:0000:0000:0001</td>\n",
       "      <td>NaN</td>\n",
       "      <td>NaN</td>\n",
       "      <td>NaN</td>\n",
       "      <td>NaN</td>\n",
       "      <td>NaN</td>\n",
       "      <td>NaN</td>\n",
       "    </tr>\n",
       "    <tr>\n",
       "      <th>1062</th>\n",
       "      <td>GP7424495</td>\n",
       "      <td>1 Phase</td>\n",
       "      <td>SBPDCL</td>\n",
       "      <td>863704041593107</td>\n",
       "      <td>8991759065212017295</td>\n",
       "      <td>404751250017295</td>\n",
       "      <td>fd00:0000:0800:A631:0000:0000:0000:0001</td>\n",
       "      <td>NaN</td>\n",
       "      <td>NaN</td>\n",
       "      <td>NaN</td>\n",
       "      <td>NaN</td>\n",
       "      <td>NaN</td>\n",
       "      <td>NaN</td>\n",
       "    </tr>\n",
       "    <tr>\n",
       "      <th>...</th>\n",
       "      <td>...</td>\n",
       "      <td>...</td>\n",
       "      <td>...</td>\n",
       "      <td>...</td>\n",
       "      <td>...</td>\n",
       "      <td>...</td>\n",
       "      <td>...</td>\n",
       "      <td>...</td>\n",
       "      <td>...</td>\n",
       "      <td>...</td>\n",
       "      <td>...</td>\n",
       "      <td>...</td>\n",
       "      <td>...</td>\n",
       "    </tr>\n",
       "    <tr>\n",
       "      <th>3798</th>\n",
       "      <td>GP5052034</td>\n",
       "      <td>1 Phase</td>\n",
       "      <td>SBPDCL</td>\n",
       "      <td>869912035361860</td>\n",
       "      <td>8991759065212057678</td>\n",
       "      <td>404751250057678</td>\n",
       "      <td>fd00:0000:0804:3F95:0000:0000:0000:0001</td>\n",
       "      <td>NaN</td>\n",
       "      <td>NaN</td>\n",
       "      <td>NaN</td>\n",
       "      <td>NaN</td>\n",
       "      <td>NaN</td>\n",
       "      <td>NaN</td>\n",
       "    </tr>\n",
       "    <tr>\n",
       "      <th>3799</th>\n",
       "      <td>GP7488713</td>\n",
       "      <td>1 Phase</td>\n",
       "      <td>SBPDCL</td>\n",
       "      <td>863326043394159</td>\n",
       "      <td>8991759065212057720</td>\n",
       "      <td>404751250057720</td>\n",
       "      <td>fd00:0000:0804:3FBF:0000:0000:0000:0001</td>\n",
       "      <td>NaN</td>\n",
       "      <td>NaN</td>\n",
       "      <td>NaN</td>\n",
       "      <td>NaN</td>\n",
       "      <td>NaN</td>\n",
       "      <td>NaN</td>\n",
       "    </tr>\n",
       "    <tr>\n",
       "      <th>3800</th>\n",
       "      <td>GP4974307</td>\n",
       "      <td>1 Phase</td>\n",
       "      <td>SBPDCL</td>\n",
       "      <td>869912035274881</td>\n",
       "      <td>8991759065212057729</td>\n",
       "      <td>404751250057729</td>\n",
       "      <td>fd00:0000:0804:3FC8:0000:0000:0000:0001</td>\n",
       "      <td>NaN</td>\n",
       "      <td>NaN</td>\n",
       "      <td>NaN</td>\n",
       "      <td>NaN</td>\n",
       "      <td>NaN</td>\n",
       "      <td>NaN</td>\n",
       "    </tr>\n",
       "    <tr>\n",
       "      <th>3801</th>\n",
       "      <td>GP7533422</td>\n",
       "      <td>1 Phase</td>\n",
       "      <td>SBPDCL</td>\n",
       "      <td>863326045738965</td>\n",
       "      <td>8991759065212057748</td>\n",
       "      <td>404751250057748</td>\n",
       "      <td>fd00:0000:0804:3FDB:0000:0000:0000:0001</td>\n",
       "      <td>NaN</td>\n",
       "      <td>NaN</td>\n",
       "      <td>NaN</td>\n",
       "      <td>NaN</td>\n",
       "      <td>NaN</td>\n",
       "      <td>NaN</td>\n",
       "    </tr>\n",
       "    <tr>\n",
       "      <th>3802</th>\n",
       "      <td>GP7533444</td>\n",
       "      <td>1 Phase</td>\n",
       "      <td>SBPDCL</td>\n",
       "      <td>863326047543157</td>\n",
       "      <td>8991759065212057749</td>\n",
       "      <td>404751250057749</td>\n",
       "      <td>fd00:0000:0804:3FDC:0000:0000:0000:0001</td>\n",
       "      <td>NaN</td>\n",
       "      <td>NaN</td>\n",
       "      <td>NaN</td>\n",
       "      <td>NaN</td>\n",
       "      <td>NaN</td>\n",
       "      <td>NaN</td>\n",
       "    </tr>\n",
       "  </tbody>\n",
       "</table>\n",
       "<p>298 rows × 13 columns</p>\n",
       "</div>"
      ],
      "text/plain": [
       "      METER NO.    PHASE WAREHOUSE_UTILITY              IME  \\\n",
       "1015  GP4965061  1 Phase            SBPDCL  869912039783507   \n",
       "1016  GP6849944  1 Phase            SBPDCL  863704043809170   \n",
       "1017  GP7557393  1 Phase            SBPDCL  863326042013446   \n",
       "1061  GP5029472  1 Phase            SBPDCL  869912031825272   \n",
       "1062  GP7424495  1 Phase            SBPDCL  863704041593107   \n",
       "...         ...      ...               ...              ...   \n",
       "3798  GP5052034  1 Phase            SBPDCL  869912035361860   \n",
       "3799  GP7488713  1 Phase            SBPDCL  863326043394159   \n",
       "3800  GP4974307  1 Phase            SBPDCL  869912035274881   \n",
       "3801  GP7533422  1 Phase            SBPDCL  863326045738965   \n",
       "3802  GP7533444  1 Phase            SBPDCL  863326047543157   \n",
       "\n",
       "                FINAL SIM             IMSI  \\\n",
       "1015  8991759065212012051  404751250012051   \n",
       "1016  8991759065212013852  404751250013852   \n",
       "1017  8991759065212015507  404751250015507   \n",
       "1061  8991759065212016572  404751250016572   \n",
       "1062  8991759065212017295  404751250017295   \n",
       "...                   ...              ...   \n",
       "3798  8991759065212057678  404751250057678   \n",
       "3799  8991759065212057720  404751250057720   \n",
       "3800  8991759065212057729  404751250057729   \n",
       "3801  8991759065212057748  404751250057748   \n",
       "3802  8991759065212057749  404751250057749   \n",
       "\n",
       "                                           IP MFG_SERIAL_NUM UDC_ID  \\\n",
       "1015  fd00:0000:0800:1E46:0000:0000:0000:0001            NaN    NaN   \n",
       "1016   fd00:0000:0800:73B:0000:0000:0000:0001            NaN    NaN   \n",
       "1017  fd00:0000:0800:6AA1:0000:0000:0000:0001            NaN    NaN   \n",
       "1061  fd00:0000:0800:8ECF:0000:0000:0000:0001            NaN    NaN   \n",
       "1062  fd00:0000:0800:A631:0000:0000:0000:0001            NaN    NaN   \n",
       "...                                       ...            ...    ...   \n",
       "3798  fd00:0000:0804:3F95:0000:0000:0000:0001            NaN    NaN   \n",
       "3799  fd00:0000:0804:3FBF:0000:0000:0000:0001            NaN    NaN   \n",
       "3800  fd00:0000:0804:3FC8:0000:0000:0000:0001            NaN    NaN   \n",
       "3801  fd00:0000:0804:3FDB:0000:0000:0000:0001            NaN    NaN   \n",
       "3802  fd00:0000:0804:3FDC:0000:0000:0000:0001            NaN    NaN   \n",
       "\n",
       "     NETWORK_ID INSTALLATIONNUMBER STATUS  \\\n",
       "1015        NaN                NaN    NaN   \n",
       "1016        NaN                NaN    NaN   \n",
       "1017        NaN                NaN    NaN   \n",
       "1061        NaN                NaN    NaN   \n",
       "1062        NaN                NaN    NaN   \n",
       "...         ...                ...    ...   \n",
       "3798        NaN                NaN    NaN   \n",
       "3799        NaN                NaN    NaN   \n",
       "3800        NaN                NaN    NaN   \n",
       "3801        NaN                NaN    NaN   \n",
       "3802        NaN                NaN    NaN   \n",
       "\n",
       "     DECODE(D.ORG_ID,52,'SBPDCL',102,'NBPDCL')  \n",
       "1015                                       NaN  \n",
       "1016                                       NaN  \n",
       "1017                                       NaN  \n",
       "1061                                       NaN  \n",
       "1062                                       NaN  \n",
       "...                                        ...  \n",
       "3798                                       NaN  \n",
       "3799                                       NaN  \n",
       "3800                                       NaN  \n",
       "3801                                       NaN  \n",
       "3802                                       NaN  \n",
       "\n",
       "[298 rows x 13 columns]"
      ]
     },
     "execution_count": 41,
     "metadata": {},
     "output_type": "execute_result"
    }
   ],
   "source": [
    "LEFT_JOIN_WITH_IMSI_WAREHOUSE_AND_COMIBNED_DATA[LEFT_JOIN_WITH_IMSI_WAREHOUSE_AND_COMIBNED_DATA['UDC_ID'].isnull()]"
   ]
  },
  {
   "cell_type": "code",
   "execution_count": null,
   "metadata": {},
   "outputs": [],
   "source": []
  },
  {
   "cell_type": "markdown",
   "metadata": {},
   "source": [
    "# duplicate row while we join with imsi "
   ]
  },
  {
   "cell_type": "code",
   "execution_count": 42,
   "metadata": {},
   "outputs": [],
   "source": [
    "#LEFT_JOIN_WITH_IMSI_WAREHOUSE_AND_COMIBNED_DATA[~LEFT_JOIN_WITH_IMSI_WAREHOUSE_AND_COMIBNED_DATA['UDC_ID'].isnull()].count()"
   ]
  },
  {
   "cell_type": "code",
   "execution_count": 43,
   "metadata": {},
   "outputs": [],
   "source": [
    "# duplicated row ..  bcz in asset initiation file there are 2 installtion no.  with respect to 1 imsi no.\n",
    "\n",
    "duplicate_check = LEFT_JOIN_WITH_IMSI_WAREHOUSE_AND_COMIBNED_DATA[LEFT_JOIN_WITH_IMSI_WAREHOUSE_AND_COMIBNED_DATA['UDC_ID'].duplicated(keep=False)]\n",
    "\n",
    "duplicate_check.to_csv(r'C:\\Users\\Ratan Kumar Jha\\Desktop\\METER_IMPORTATION_FOLDER\\OUTPUT_DATA_FILE\\duplicate_check_wrt_IMSI_IN_ASSET_FIL.csv',index=False)\n",
    "duplicate_check.to_csv(r\"C:\\PYTHON\\EDF_CODE_AUTOMATION_PYTHON\\METER_MATCHING_DATA\\duplicate_check_wrt_IMSI_IN_ASSET_FIL.csv\",index=False)"
   ]
  },
  {
   "cell_type": "code",
   "execution_count": 44,
   "metadata": {},
   "outputs": [
    {
     "data": {
      "text/plain": [
       "METER NO.                                    6722\n",
       "PHASE                                        6722\n",
       "WAREHOUSE_UTILITY                            6722\n",
       "IME                                          6722\n",
       "FINAL SIM                                    6722\n",
       "IMSI                                         6722\n",
       "IP                                           6722\n",
       "MFG_SERIAL_NUM                               6424\n",
       "UDC_ID                                       6424\n",
       "NETWORK_ID                                   6424\n",
       "INSTALLATIONNUMBER                           6424\n",
       "STATUS                                       6424\n",
       "DECODE(D.ORG_ID,52,'SBPDCL',102,'NBPDCL')    6424\n",
       "dtype: int64"
      ]
     },
     "execution_count": 44,
     "metadata": {},
     "output_type": "execute_result"
    }
   ],
   "source": [
    "LEFT_JOIN_WITH_IMSI_WAREHOUSE_AND_COMIBNED_DATA.count()\n"
   ]
  },
  {
   "cell_type": "code",
   "execution_count": 45,
   "metadata": {},
   "outputs": [],
   "source": [
    "LEFT_JOIN_WITH_IMSI_WAREHOUSE_AND_COMIBNED_DATA.drop_duplicates(subset=['IMSI'],inplace=True)\n"
   ]
  },
  {
   "cell_type": "code",
   "execution_count": 46,
   "metadata": {},
   "outputs": [
    {
     "data": {
      "text/plain": [
       "METER NO.                                    5776\n",
       "PHASE                                        5776\n",
       "WAREHOUSE_UTILITY                            5776\n",
       "IME                                          5776\n",
       "FINAL SIM                                    5776\n",
       "IMSI                                         5776\n",
       "IP                                           5776\n",
       "MFG_SERIAL_NUM                               5478\n",
       "UDC_ID                                       5478\n",
       "NETWORK_ID                                   5478\n",
       "INSTALLATIONNUMBER                           5478\n",
       "STATUS                                       5478\n",
       "DECODE(D.ORG_ID,52,'SBPDCL',102,'NBPDCL')    5478\n",
       "dtype: int64"
      ]
     },
     "execution_count": 46,
     "metadata": {},
     "output_type": "execute_result"
    }
   ],
   "source": [
    "LEFT_JOIN_WITH_IMSI_WAREHOUSE_AND_COMIBNED_DATA.count()"
   ]
  },
  {
   "cell_type": "code",
   "execution_count": null,
   "metadata": {},
   "outputs": [],
   "source": []
  },
  {
   "cell_type": "markdown",
   "metadata": {},
   "source": [
    "#### IP"
   ]
  },
  {
   "cell_type": "code",
   "execution_count": null,
   "metadata": {},
   "outputs": [],
   "source": []
  },
  {
   "cell_type": "code",
   "execution_count": 47,
   "metadata": {},
   "outputs": [],
   "source": [
    "#  JOIN COMBINED DATA AND WAREHOUSE DATA\n",
    "\n",
    "LEFT_JOIN_WITH_IP_WAREHOUSE_AND_COMIBNED_DATA = pd.merge(warehouse_Data, NB_SB_COMBINED_DATAFRAME, left_on=['IP'], right_on=['NETWORK_ID'], how='left')\n",
    "\n",
    "\n",
    "\n",
    "\n",
    "# changhe name \n",
    "LEFT_JOIN_WITH_IP_WAREHOUSE_AND_COMIBNED_DATA.rename(\n",
    "    columns = {\"MFG_SERIAL_NUM\":\"IP_MATCHED_METER_NO\",\"UDC_ID\": \"IP_MATCH_UDC_ID\",\"NETWORK_ID\":\"IP_MATCHED_IP\",\"STATUS\":\"IP_MATCHED_STATUS\",\"DECODE(D.ORG_ID,52,'SBPDCL',102,'NBPDCL')\":\"IP_MATCHED_UTILITY\"},\n",
    "    inplace=True\n",
    ")\n",
    "\n",
    "\n",
    "\n",
    "\n",
    "# COLUMN\n",
    "\n",
    "LEFT_JOIN_WITH_IP_WAREHOUSE_AND_COMIBNED_COLUMN=LEFT_JOIN_WITH_IP_WAREHOUSE_AND_COMIBNED_DATA.columns\n",
    "#LEFT_JOIN_WITH_IP_WAREHOUSE_AND_COMIBNED_COLUMN\n",
    "LEFT_JOIN_WITH_IP_WAREHOUSE_AND_COMIBNED_DATA_MODIFIED = LEFT_JOIN_WITH_IP_WAREHOUSE_AND_COMIBNED_DATA[LEFT_JOIN_WITH_IP_WAREHOUSE_AND_COMIBNED_COLUMN]"
   ]
  },
  {
   "cell_type": "code",
   "execution_count": 48,
   "metadata": {},
   "outputs": [
    {
     "data": {
      "text/html": [
       "<div>\n",
       "<style scoped>\n",
       "    .dataframe tbody tr th:only-of-type {\n",
       "        vertical-align: middle;\n",
       "    }\n",
       "\n",
       "    .dataframe tbody tr th {\n",
       "        vertical-align: top;\n",
       "    }\n",
       "\n",
       "    .dataframe thead th {\n",
       "        text-align: right;\n",
       "    }\n",
       "</style>\n",
       "<table border=\"1\" class=\"dataframe\">\n",
       "  <thead>\n",
       "    <tr style=\"text-align: right;\">\n",
       "      <th></th>\n",
       "      <th>METER NO.</th>\n",
       "      <th>PHASE</th>\n",
       "      <th>WAREHOUSE_UTILITY</th>\n",
       "      <th>IME</th>\n",
       "      <th>FINAL SIM</th>\n",
       "      <th>IMSI</th>\n",
       "      <th>IP</th>\n",
       "      <th>IP_MATCHED_METER_NO</th>\n",
       "      <th>IP_MATCH_UDC_ID</th>\n",
       "      <th>IP_MATCHED_IP</th>\n",
       "      <th>INSTALLATIONNUMBER</th>\n",
       "      <th>IP_MATCHED_STATUS</th>\n",
       "      <th>IP_MATCHED_UTILITY</th>\n",
       "    </tr>\n",
       "  </thead>\n",
       "  <tbody>\n",
       "    <tr>\n",
       "      <th>0</th>\n",
       "      <td>LT0346339</td>\n",
       "      <td>1 Phase</td>\n",
       "      <td>NBPDCL</td>\n",
       "      <td>865681060086437</td>\n",
       "      <td>8991856050706502419</td>\n",
       "      <td>405856706497419</td>\n",
       "      <td>2405:0203:0527:0696:0000:0000:0000:0010</td>\n",
       "      <td>LT0425144</td>\n",
       "      <td>405856706497419</td>\n",
       "      <td>2405:0203:0527:0696:0000:0000:0000:0010</td>\n",
       "      <td>5000577029</td>\n",
       "      <td>Installed</td>\n",
       "      <td>SBPDCL</td>\n",
       "    </tr>\n",
       "  </tbody>\n",
       "</table>\n",
       "</div>"
      ],
      "text/plain": [
       "   METER NO.    PHASE WAREHOUSE_UTILITY              IME            FINAL SIM  \\\n",
       "0  LT0346339  1 Phase            NBPDCL  865681060086437  8991856050706502419   \n",
       "\n",
       "              IMSI                                       IP  \\\n",
       "0  405856706497419  2405:0203:0527:0696:0000:0000:0000:0010   \n",
       "\n",
       "  IP_MATCHED_METER_NO  IP_MATCH_UDC_ID  \\\n",
       "0           LT0425144  405856706497419   \n",
       "\n",
       "                             IP_MATCHED_IP INSTALLATIONNUMBER  \\\n",
       "0  2405:0203:0527:0696:0000:0000:0000:0010         5000577029   \n",
       "\n",
       "  IP_MATCHED_STATUS IP_MATCHED_UTILITY  \n",
       "0         Installed             SBPDCL  "
      ]
     },
     "execution_count": 48,
     "metadata": {},
     "output_type": "execute_result"
    }
   ],
   "source": [
    "LEFT_JOIN_WITH_IP_WAREHOUSE_AND_COMIBNED_DATA_MODIFIED.head(1)"
   ]
  },
  {
   "cell_type": "code",
   "execution_count": 49,
   "metadata": {},
   "outputs": [
    {
     "data": {
      "text/html": [
       "<div>\n",
       "<style scoped>\n",
       "    .dataframe tbody tr th:only-of-type {\n",
       "        vertical-align: middle;\n",
       "    }\n",
       "\n",
       "    .dataframe tbody tr th {\n",
       "        vertical-align: top;\n",
       "    }\n",
       "\n",
       "    .dataframe thead th {\n",
       "        text-align: right;\n",
       "    }\n",
       "</style>\n",
       "<table border=\"1\" class=\"dataframe\">\n",
       "  <thead>\n",
       "    <tr style=\"text-align: right;\">\n",
       "      <th></th>\n",
       "      <th>METER NO.</th>\n",
       "      <th>PHASE</th>\n",
       "      <th>WAREHOUSE_UTILITY</th>\n",
       "      <th>IME</th>\n",
       "      <th>FINAL SIM</th>\n",
       "      <th>IMSI</th>\n",
       "      <th>IP</th>\n",
       "      <th>IP_MATCHED_METER_NO</th>\n",
       "      <th>IP_MATCH_UDC_ID</th>\n",
       "      <th>IP_MATCHED_IP</th>\n",
       "      <th>INSTALLATIONNUMBER</th>\n",
       "      <th>IP_MATCHED_STATUS</th>\n",
       "      <th>IP_MATCHED_UTILITY</th>\n",
       "    </tr>\n",
       "  </thead>\n",
       "  <tbody>\n",
       "    <tr>\n",
       "      <th>1024</th>\n",
       "      <td>GP7503167</td>\n",
       "      <td>1 Phase</td>\n",
       "      <td>NBPDCL</td>\n",
       "      <td>863326045242752</td>\n",
       "      <td>8991759065212011920</td>\n",
       "      <td>404751250011920</td>\n",
       "      <td>fd00:0000:0800:EB08:0000:0000:0000:0001</td>\n",
       "      <td>GP7503167</td>\n",
       "      <td>404751250011920</td>\n",
       "      <td>fd00:0000:0800:EB08:0000:0000:0000:0001</td>\n",
       "      <td>BCHTR-6350</td>\n",
       "      <td>Meter Shop</td>\n",
       "      <td>SBPDCL</td>\n",
       "    </tr>\n",
       "    <tr>\n",
       "      <th>1023</th>\n",
       "      <td>GP7503167</td>\n",
       "      <td>1 Phase</td>\n",
       "      <td>NBPDCL</td>\n",
       "      <td>863326045242752</td>\n",
       "      <td>8991759065212011920</td>\n",
       "      <td>404751250011920</td>\n",
       "      <td>fd00:0000:0800:EB08:0000:0000:0000:0001</td>\n",
       "      <td>GP7503167</td>\n",
       "      <td>404751250011920</td>\n",
       "      <td>fd00:0000:0800:EB08:0000:0000:0000:0001</td>\n",
       "      <td>nan</td>\n",
       "      <td>Meter Shop</td>\n",
       "      <td>SBPDCL</td>\n",
       "    </tr>\n",
       "    <tr>\n",
       "      <th>1022</th>\n",
       "      <td>GP7469551</td>\n",
       "      <td>1 Phase</td>\n",
       "      <td>NBPDCL</td>\n",
       "      <td>863326042615901</td>\n",
       "      <td>8991759065212011904</td>\n",
       "      <td>404751250011904</td>\n",
       "      <td>fd00:0000:0800:EAF8:0000:0000:0000:0001</td>\n",
       "      <td>GP7469551</td>\n",
       "      <td>404751250011904</td>\n",
       "      <td>fd00:0000:0800:EAF8:0000:0000:0000:0001</td>\n",
       "      <td>nan</td>\n",
       "      <td>Meter Shop</td>\n",
       "      <td>SBPDCL</td>\n",
       "    </tr>\n",
       "    <tr>\n",
       "      <th>1021</th>\n",
       "      <td>GP7469551</td>\n",
       "      <td>1 Phase</td>\n",
       "      <td>NBPDCL</td>\n",
       "      <td>863326042615901</td>\n",
       "      <td>8991759065212011904</td>\n",
       "      <td>404751250011904</td>\n",
       "      <td>fd00:0000:0800:EAF8:0000:0000:0000:0001</td>\n",
       "      <td>GP7469551</td>\n",
       "      <td>404751250011904</td>\n",
       "      <td>fd00:0000:0800:EAF8:0000:0000:0000:0001</td>\n",
       "      <td>BCHTR-2086</td>\n",
       "      <td>Meter Shop</td>\n",
       "      <td>SBPDCL</td>\n",
       "    </tr>\n",
       "    <tr>\n",
       "      <th>1020</th>\n",
       "      <td>GP7508927</td>\n",
       "      <td>1 Phase</td>\n",
       "      <td>NBPDCL</td>\n",
       "      <td>863326048327121</td>\n",
       "      <td>8991759065212011889</td>\n",
       "      <td>404751250011889</td>\n",
       "      <td>fd00:0000:0800:EAE9:0000:0000:0000:0001</td>\n",
       "      <td>GP7508927</td>\n",
       "      <td>404751250011889</td>\n",
       "      <td>fd00:0000:0800:EAE9:0000:0000:0000:0001</td>\n",
       "      <td>nan</td>\n",
       "      <td>Meter Shop</td>\n",
       "      <td>SBPDCL</td>\n",
       "    </tr>\n",
       "    <tr>\n",
       "      <th>...</th>\n",
       "      <td>...</td>\n",
       "      <td>...</td>\n",
       "      <td>...</td>\n",
       "      <td>...</td>\n",
       "      <td>...</td>\n",
       "      <td>...</td>\n",
       "      <td>...</td>\n",
       "      <td>...</td>\n",
       "      <td>...</td>\n",
       "      <td>...</td>\n",
       "      <td>...</td>\n",
       "      <td>...</td>\n",
       "      <td>...</td>\n",
       "    </tr>\n",
       "    <tr>\n",
       "      <th>5579</th>\n",
       "      <td>LT0240471</td>\n",
       "      <td>1 Phase</td>\n",
       "      <td>SBPDCL</td>\n",
       "      <td>869810055528832</td>\n",
       "      <td>8991856050706352345</td>\n",
       "      <td>405856706352345</td>\n",
       "      <td>2405:0203:0523:DCE3:0000:0000:0000:0010</td>\n",
       "      <td>NaN</td>\n",
       "      <td>NaN</td>\n",
       "      <td>NaN</td>\n",
       "      <td>NaN</td>\n",
       "      <td>NaN</td>\n",
       "      <td>NaN</td>\n",
       "    </tr>\n",
       "    <tr>\n",
       "      <th>6308</th>\n",
       "      <td>LT0239301</td>\n",
       "      <td>1 Phase</td>\n",
       "      <td>SBPDCL</td>\n",
       "      <td>869810055794160</td>\n",
       "      <td>8991856050706324119</td>\n",
       "      <td>405856706324119</td>\n",
       "      <td>2405:0203:0523:D851:0000:0000:0000:0010</td>\n",
       "      <td>NaN</td>\n",
       "      <td>NaN</td>\n",
       "      <td>NaN</td>\n",
       "      <td>NaN</td>\n",
       "      <td>NaN</td>\n",
       "      <td>NaN</td>\n",
       "    </tr>\n",
       "    <tr>\n",
       "      <th>6315</th>\n",
       "      <td>LT0239528</td>\n",
       "      <td>1 Phase</td>\n",
       "      <td>SBPDCL</td>\n",
       "      <td>869810055467601</td>\n",
       "      <td>8991856050706351216</td>\n",
       "      <td>405856706351216</td>\n",
       "      <td>2405:0203:0523:D934:0000:0000:0000:0010</td>\n",
       "      <td>NaN</td>\n",
       "      <td>NaN</td>\n",
       "      <td>NaN</td>\n",
       "      <td>NaN</td>\n",
       "      <td>NaN</td>\n",
       "      <td>NaN</td>\n",
       "    </tr>\n",
       "    <tr>\n",
       "      <th>6340</th>\n",
       "      <td>LT0248184</td>\n",
       "      <td>1 Phase</td>\n",
       "      <td>SBPDCL</td>\n",
       "      <td>869810055613725</td>\n",
       "      <td>8991856050706336856</td>\n",
       "      <td>405856706336856</td>\n",
       "      <td>2405:0203:0523:FB04:0000:0000:0000:0010</td>\n",
       "      <td>NaN</td>\n",
       "      <td>NaN</td>\n",
       "      <td>NaN</td>\n",
       "      <td>NaN</td>\n",
       "      <td>NaN</td>\n",
       "      <td>NaN</td>\n",
       "    </tr>\n",
       "    <tr>\n",
       "      <th>6437</th>\n",
       "      <td>LT0239719</td>\n",
       "      <td>1 Phase</td>\n",
       "      <td>SBPDCL</td>\n",
       "      <td>869810055511564</td>\n",
       "      <td>8991856050706352119</td>\n",
       "      <td>405856706352119</td>\n",
       "      <td>2405:0203:0523:D9F3:0000:0000:0000:0010</td>\n",
       "      <td>NaN</td>\n",
       "      <td>NaN</td>\n",
       "      <td>NaN</td>\n",
       "      <td>NaN</td>\n",
       "      <td>NaN</td>\n",
       "      <td>NaN</td>\n",
       "    </tr>\n",
       "  </tbody>\n",
       "</table>\n",
       "<p>2247 rows × 13 columns</p>\n",
       "</div>"
      ],
      "text/plain": [
       "      METER NO.    PHASE WAREHOUSE_UTILITY              IME  \\\n",
       "1024  GP7503167  1 Phase            NBPDCL  863326045242752   \n",
       "1023  GP7503167  1 Phase            NBPDCL  863326045242752   \n",
       "1022  GP7469551  1 Phase            NBPDCL  863326042615901   \n",
       "1021  GP7469551  1 Phase            NBPDCL  863326042615901   \n",
       "1020  GP7508927  1 Phase            NBPDCL  863326048327121   \n",
       "...         ...      ...               ...              ...   \n",
       "5579  LT0240471  1 Phase            SBPDCL  869810055528832   \n",
       "6308  LT0239301  1 Phase            SBPDCL  869810055794160   \n",
       "6315  LT0239528  1 Phase            SBPDCL  869810055467601   \n",
       "6340  LT0248184  1 Phase            SBPDCL  869810055613725   \n",
       "6437  LT0239719  1 Phase            SBPDCL  869810055511564   \n",
       "\n",
       "                FINAL SIM             IMSI  \\\n",
       "1024  8991759065212011920  404751250011920   \n",
       "1023  8991759065212011920  404751250011920   \n",
       "1022  8991759065212011904  404751250011904   \n",
       "1021  8991759065212011904  404751250011904   \n",
       "1020  8991759065212011889  404751250011889   \n",
       "...                   ...              ...   \n",
       "5579  8991856050706352345  405856706352345   \n",
       "6308  8991856050706324119  405856706324119   \n",
       "6315  8991856050706351216  405856706351216   \n",
       "6340  8991856050706336856  405856706336856   \n",
       "6437  8991856050706352119  405856706352119   \n",
       "\n",
       "                                           IP IP_MATCHED_METER_NO  \\\n",
       "1024  fd00:0000:0800:EB08:0000:0000:0000:0001           GP7503167   \n",
       "1023  fd00:0000:0800:EB08:0000:0000:0000:0001           GP7503167   \n",
       "1022  fd00:0000:0800:EAF8:0000:0000:0000:0001           GP7469551   \n",
       "1021  fd00:0000:0800:EAF8:0000:0000:0000:0001           GP7469551   \n",
       "1020  fd00:0000:0800:EAE9:0000:0000:0000:0001           GP7508927   \n",
       "...                                       ...                 ...   \n",
       "5579  2405:0203:0523:DCE3:0000:0000:0000:0010                 NaN   \n",
       "6308  2405:0203:0523:D851:0000:0000:0000:0010                 NaN   \n",
       "6315  2405:0203:0523:D934:0000:0000:0000:0010                 NaN   \n",
       "6340  2405:0203:0523:FB04:0000:0000:0000:0010                 NaN   \n",
       "6437  2405:0203:0523:D9F3:0000:0000:0000:0010                 NaN   \n",
       "\n",
       "      IP_MATCH_UDC_ID                            IP_MATCHED_IP  \\\n",
       "1024  404751250011920  fd00:0000:0800:EB08:0000:0000:0000:0001   \n",
       "1023  404751250011920  fd00:0000:0800:EB08:0000:0000:0000:0001   \n",
       "1022  404751250011904  fd00:0000:0800:EAF8:0000:0000:0000:0001   \n",
       "1021  404751250011904  fd00:0000:0800:EAF8:0000:0000:0000:0001   \n",
       "1020  404751250011889  fd00:0000:0800:EAE9:0000:0000:0000:0001   \n",
       "...               ...                                      ...   \n",
       "5579              NaN                                      NaN   \n",
       "6308              NaN                                      NaN   \n",
       "6315              NaN                                      NaN   \n",
       "6340              NaN                                      NaN   \n",
       "6437              NaN                                      NaN   \n",
       "\n",
       "     INSTALLATIONNUMBER IP_MATCHED_STATUS IP_MATCHED_UTILITY  \n",
       "1024         BCHTR-6350        Meter Shop             SBPDCL  \n",
       "1023                nan        Meter Shop             SBPDCL  \n",
       "1022                nan        Meter Shop             SBPDCL  \n",
       "1021         BCHTR-2086        Meter Shop             SBPDCL  \n",
       "1020                nan        Meter Shop             SBPDCL  \n",
       "...                 ...               ...                ...  \n",
       "5579                NaN               NaN                NaN  \n",
       "6308                NaN               NaN                NaN  \n",
       "6315                NaN               NaN                NaN  \n",
       "6340                NaN               NaN                NaN  \n",
       "6437                NaN               NaN                NaN  \n",
       "\n",
       "[2247 rows x 13 columns]"
      ]
     },
     "execution_count": 49,
     "metadata": {},
     "output_type": "execute_result"
    }
   ],
   "source": [
    "LEFT_JOIN_WITH_IP_WAREHOUSE_AND_COMIBNED_DATA_MODIFIED[LEFT_JOIN_WITH_IP_WAREHOUSE_AND_COMIBNED_DATA_MODIFIED.duplicated(subset=['IP_MATCHED_IP'],keep=False)].sort_values(by=['IP_MATCHED_IP'],ascending=False)"
   ]
  },
  {
   "cell_type": "code",
   "execution_count": null,
   "metadata": {},
   "outputs": [],
   "source": []
  },
  {
   "cell_type": "markdown",
   "metadata": {},
   "source": [
    "##### joining both the table \"   LEFT_JOIN_WITH_METER_UTILITY_WAREHOUSE_AND_COMIBNED_DATA   \"  ,  \" LEFT_JOIN_WITH_IMSI_WAREHOUSE_AND_COMIBNED_DATA \"  and    \" LEFT_JOIN_WITH_IP_WAREHOUSE_AND_COMIBNED_DATA \""
   ]
  },
  {
   "cell_type": "code",
   "execution_count": null,
   "metadata": {},
   "outputs": [],
   "source": []
  },
  {
   "cell_type": "code",
   "execution_count": 50,
   "metadata": {},
   "outputs": [],
   "source": [
    "# LEFT_JOIN_WITH_METER_UTILITY_WAREHOUSE_AND_COMIBNED_DATA : column rename"
   ]
  },
  {
   "cell_type": "code",
   "execution_count": 51,
   "metadata": {},
   "outputs": [],
   "source": [
    "LEFT_JOIN_WITH_METER_UTILITY_WAREHOUSE_AND_COMIBNED_DATA.rename(\n",
    "    columns={\"UDC_ID\": \"METER_MATCH_UDC_ID\", \"NETWORK_ID\": \"METER_MATCH_IP\", \"STATUS\": \"METER_MATCH_STATUS\",\"DECODE(D.ORG_ID,52,'SBPDCL',102,'NBPDCL')\":\"METER_MATCH_UTILITY\"},\n",
    "    inplace=True\n",
    ")\n",
    "\n"
   ]
  },
  {
   "cell_type": "code",
   "execution_count": 52,
   "metadata": {},
   "outputs": [],
   "source": [
    "# LEFT_JOIN_WITH_METER_UTILITY_WAREHOUSE_AND_COMIBNED_DATA : column in modified column"
   ]
  },
  {
   "cell_type": "code",
   "execution_count": 53,
   "metadata": {},
   "outputs": [
    {
     "data": {
      "text/plain": [
       "Index(['METER NO.', 'PHASE', 'WAREHOUSE_UTILITY', 'IME', 'FINAL SIM', 'IMSI',\n",
       "       'IP', 'MFG_SERIAL_NUM', 'METER_MATCH_UDC_ID', 'METER_MATCH_IP',\n",
       "       'INSTALLATIONNUMBER', 'METER_MATCH_STATUS', 'METER_MATCH_UTILITY'],\n",
       "      dtype='object')"
      ]
     },
     "execution_count": 53,
     "metadata": {},
     "output_type": "execute_result"
    }
   ],
   "source": [
    "LEFT_JOIN_WITH_METER_UTILITY_WAREHOUSE_AND_COMINED_COLUMN=LEFT_JOIN_WITH_METER_UTILITY_WAREHOUSE_AND_COMIBNED_DATA.columns\n",
    "LEFT_JOIN_WITH_METER_UTILITY_WAREHOUSE_AND_COMINED_COLUMN"
   ]
  },
  {
   "cell_type": "code",
   "execution_count": 54,
   "metadata": {},
   "outputs": [],
   "source": [
    "LEFT_JOIN_WITH_METER_UTILITY_WAREHOUSE_AND_COMIBNED_DATA_MODIFIED = LEFT_JOIN_WITH_METER_UTILITY_WAREHOUSE_AND_COMIBNED_DATA[LEFT_JOIN_WITH_METER_UTILITY_WAREHOUSE_AND_COMINED_COLUMN]"
   ]
  },
  {
   "cell_type": "code",
   "execution_count": null,
   "metadata": {},
   "outputs": [],
   "source": []
  },
  {
   "cell_type": "code",
   "execution_count": 55,
   "metadata": {},
   "outputs": [
    {
     "data": {
      "text/html": [
       "<div>\n",
       "<style scoped>\n",
       "    .dataframe tbody tr th:only-of-type {\n",
       "        vertical-align: middle;\n",
       "    }\n",
       "\n",
       "    .dataframe tbody tr th {\n",
       "        vertical-align: top;\n",
       "    }\n",
       "\n",
       "    .dataframe thead th {\n",
       "        text-align: right;\n",
       "    }\n",
       "</style>\n",
       "<table border=\"1\" class=\"dataframe\">\n",
       "  <thead>\n",
       "    <tr style=\"text-align: right;\">\n",
       "      <th></th>\n",
       "      <th>METER NO.</th>\n",
       "      <th>PHASE</th>\n",
       "      <th>WAREHOUSE_UTILITY</th>\n",
       "      <th>IME</th>\n",
       "      <th>FINAL SIM</th>\n",
       "      <th>IMSI</th>\n",
       "      <th>IP</th>\n",
       "      <th>MFG_SERIAL_NUM</th>\n",
       "      <th>METER_MATCH_UDC_ID</th>\n",
       "      <th>METER_MATCH_IP</th>\n",
       "      <th>INSTALLATIONNUMBER</th>\n",
       "      <th>METER_MATCH_STATUS</th>\n",
       "      <th>METER_MATCH_UTILITY</th>\n",
       "    </tr>\n",
       "  </thead>\n",
       "  <tbody>\n",
       "    <tr>\n",
       "      <th>0</th>\n",
       "      <td>LT0555992</td>\n",
       "      <td>1 Phase</td>\n",
       "      <td>NBPDCL</td>\n",
       "      <td>865681062851242</td>\n",
       "      <td>8991856040706094571</td>\n",
       "      <td>405856706639593</td>\n",
       "      <td>2405:0203:0529:1B24:0000:0000:0000:0010</td>\n",
       "      <td>LT0555992</td>\n",
       "      <td>405856706639593</td>\n",
       "      <td>2405:0203:0529:1B24:0000:0000:0000:0010</td>\n",
       "      <td>5003226857</td>\n",
       "      <td>Installed</td>\n",
       "      <td>NBPDCL</td>\n",
       "    </tr>\n",
       "  </tbody>\n",
       "</table>\n",
       "</div>"
      ],
      "text/plain": [
       "   METER NO.    PHASE WAREHOUSE_UTILITY              IME            FINAL SIM  \\\n",
       "0  LT0555992  1 Phase            NBPDCL  865681062851242  8991856040706094571   \n",
       "\n",
       "              IMSI                                       IP MFG_SERIAL_NUM  \\\n",
       "0  405856706639593  2405:0203:0529:1B24:0000:0000:0000:0010      LT0555992   \n",
       "\n",
       "  METER_MATCH_UDC_ID                           METER_MATCH_IP  \\\n",
       "0    405856706639593  2405:0203:0529:1B24:0000:0000:0000:0010   \n",
       "\n",
       "  INSTALLATIONNUMBER METER_MATCH_STATUS METER_MATCH_UTILITY  \n",
       "0         5003226857          Installed              NBPDCL  "
      ]
     },
     "execution_count": 55,
     "metadata": {},
     "output_type": "execute_result"
    }
   ],
   "source": [
    "LEFT_JOIN_WITH_METER_UTILITY_WAREHOUSE_AND_COMIBNED_DATA_MODIFIED.head(1)"
   ]
  },
  {
   "cell_type": "code",
   "execution_count": 56,
   "metadata": {},
   "outputs": [
    {
     "data": {
      "text/plain": [
       "METER NO.              35\n",
       "PHASE                  35\n",
       "WAREHOUSE_UTILITY      35\n",
       "IME                    35\n",
       "FINAL SIM              35\n",
       "IMSI                   35\n",
       "IP                     35\n",
       "MFG_SERIAL_NUM         35\n",
       "METER_MATCH_UDC_ID     35\n",
       "METER_MATCH_IP         35\n",
       "INSTALLATIONNUMBER     35\n",
       "METER_MATCH_STATUS     35\n",
       "METER_MATCH_UTILITY    35\n",
       "dtype: int64"
      ]
     },
     "execution_count": 56,
     "metadata": {},
     "output_type": "execute_result"
    }
   ],
   "source": [
    "LEFT_JOIN_WITH_METER_UTILITY_WAREHOUSE_AND_COMIBNED_DATA_MODIFIED[LEFT_JOIN_WITH_METER_UTILITY_WAREHOUSE_AND_COMIBNED_DATA_MODIFIED['METER_MATCH_UDC_ID']=='nan'].count()"
   ]
  },
  {
   "cell_type": "code",
   "execution_count": null,
   "metadata": {},
   "outputs": [],
   "source": []
  },
  {
   "cell_type": "code",
   "execution_count": 57,
   "metadata": {},
   "outputs": [],
   "source": [
    "#LEFT_JOIN_WITH_METER_UTILITY_WAREHOUSE_AND_COMIBNED_DATA_MODIFIED = LEFT_JOIN_WITH_METER_UTILITY_WAREHOUSE_AND_COMIBNED_DATA[['SL. NO.','METER NO.','PHASE TYPE','FINAL HES MAPPING','CATEGORY FOR DASHBOARD','SUPPLIER','IME AS PER L&T SHIPMENT','SIM 19 DIST','IMSI','IP','REMARKS',\"METER_MATCH_UDC_ID\",\"METER_MATCH_IP\",\"METER_MATCH_STATUS\",\"METER_MATCH_UTILITY\"]]"
   ]
  },
  {
   "cell_type": "code",
   "execution_count": 58,
   "metadata": {},
   "outputs": [],
   "source": [
    "# LEFT_JOIN_WITH_IMSI_WAREHOUSE_AND_COMIBNED_DATA : column rename"
   ]
  },
  {
   "cell_type": "code",
   "execution_count": 59,
   "metadata": {},
   "outputs": [],
   "source": [
    "LEFT_JOIN_WITH_IMSI_WAREHOUSE_AND_COMIBNED_DATA.rename(\n",
    "    columns = {\"MFG_SERIAL_NUM\":\"IMSI_MATCHED_METER_NO\",\"NETWORK_ID\":\"IMSI_MATCHED_IP\",\"STATUS\":\"IMSI_MATCHED_STATUS\",\"DECODE(D.ORG_ID,52,'SBPDCL',102,'NBPDCL')\":\"IMSI_MATCHED_UTILITY\"},\n",
    "    inplace=True\n",
    ")"
   ]
  },
  {
   "cell_type": "code",
   "execution_count": 60,
   "metadata": {},
   "outputs": [
    {
     "data": {
      "text/html": [
       "<div>\n",
       "<style scoped>\n",
       "    .dataframe tbody tr th:only-of-type {\n",
       "        vertical-align: middle;\n",
       "    }\n",
       "\n",
       "    .dataframe tbody tr th {\n",
       "        vertical-align: top;\n",
       "    }\n",
       "\n",
       "    .dataframe thead th {\n",
       "        text-align: right;\n",
       "    }\n",
       "</style>\n",
       "<table border=\"1\" class=\"dataframe\">\n",
       "  <thead>\n",
       "    <tr style=\"text-align: right;\">\n",
       "      <th></th>\n",
       "      <th>METER NO.</th>\n",
       "      <th>PHASE</th>\n",
       "      <th>WAREHOUSE_UTILITY</th>\n",
       "      <th>IME</th>\n",
       "      <th>FINAL SIM</th>\n",
       "      <th>IMSI</th>\n",
       "      <th>IP</th>\n",
       "      <th>IMSI_MATCHED_METER_NO</th>\n",
       "      <th>UDC_ID</th>\n",
       "      <th>IMSI_MATCHED_IP</th>\n",
       "      <th>INSTALLATIONNUMBER</th>\n",
       "      <th>IMSI_MATCHED_STATUS</th>\n",
       "      <th>IMSI_MATCHED_UTILITY</th>\n",
       "    </tr>\n",
       "  </thead>\n",
       "  <tbody>\n",
       "    <tr>\n",
       "      <th>0</th>\n",
       "      <td>LT0346339</td>\n",
       "      <td>1 Phase</td>\n",
       "      <td>NBPDCL</td>\n",
       "      <td>865681060086437</td>\n",
       "      <td>8991856050706502419</td>\n",
       "      <td>405856706497419</td>\n",
       "      <td>2405:0203:0527:0696:0000:0000:0000:0010</td>\n",
       "      <td>LT0425144</td>\n",
       "      <td>405856706497419</td>\n",
       "      <td>2405:0203:0527:0696:0000:0000:0000:0010</td>\n",
       "      <td>5000577029</td>\n",
       "      <td>Installed</td>\n",
       "      <td>SBPDCL</td>\n",
       "    </tr>\n",
       "  </tbody>\n",
       "</table>\n",
       "</div>"
      ],
      "text/plain": [
       "   METER NO.    PHASE WAREHOUSE_UTILITY              IME            FINAL SIM  \\\n",
       "0  LT0346339  1 Phase            NBPDCL  865681060086437  8991856050706502419   \n",
       "\n",
       "              IMSI                                       IP  \\\n",
       "0  405856706497419  2405:0203:0527:0696:0000:0000:0000:0010   \n",
       "\n",
       "  IMSI_MATCHED_METER_NO           UDC_ID  \\\n",
       "0             LT0425144  405856706497419   \n",
       "\n",
       "                           IMSI_MATCHED_IP INSTALLATIONNUMBER  \\\n",
       "0  2405:0203:0527:0696:0000:0000:0000:0010         5000577029   \n",
       "\n",
       "  IMSI_MATCHED_STATUS IMSI_MATCHED_UTILITY  \n",
       "0           Installed               SBPDCL  "
      ]
     },
     "execution_count": 60,
     "metadata": {},
     "output_type": "execute_result"
    }
   ],
   "source": [
    "LEFT_JOIN_WITH_IMSI_WAREHOUSE_AND_COMIBNED_DATA.head(1)"
   ]
  },
  {
   "cell_type": "code",
   "execution_count": 61,
   "metadata": {},
   "outputs": [
    {
     "data": {
      "text/plain": [
       "Index(['METER NO.', 'PHASE', 'WAREHOUSE_UTILITY', 'IME', 'FINAL SIM', 'IMSI',\n",
       "       'IP', 'IMSI_MATCHED_METER_NO', 'UDC_ID', 'IMSI_MATCHED_IP',\n",
       "       'INSTALLATIONNUMBER', 'IMSI_MATCHED_STATUS', 'IMSI_MATCHED_UTILITY'],\n",
       "      dtype='object')"
      ]
     },
     "execution_count": 61,
     "metadata": {},
     "output_type": "execute_result"
    }
   ],
   "source": [
    "LEFT_JOIN_WITH_IMSI_WAREHOUSE_AND_COMIBNED_COLUMN=LEFT_JOIN_WITH_IMSI_WAREHOUSE_AND_COMIBNED_DATA.columns\n",
    "LEFT_JOIN_WITH_IMSI_WAREHOUSE_AND_COMIBNED_COLUMN"
   ]
  },
  {
   "cell_type": "code",
   "execution_count": 62,
   "metadata": {},
   "outputs": [],
   "source": [
    "LEFT_JOIN_WITH_IMSI_WAREHOUSE_AND_COMIBNED_DATA_MODIFIED = LEFT_JOIN_WITH_IMSI_WAREHOUSE_AND_COMIBNED_DATA[LEFT_JOIN_WITH_IMSI_WAREHOUSE_AND_COMIBNED_COLUMN]"
   ]
  },
  {
   "cell_type": "code",
   "execution_count": 63,
   "metadata": {},
   "outputs": [
    {
     "data": {
      "text/html": [
       "<div>\n",
       "<style scoped>\n",
       "    .dataframe tbody tr th:only-of-type {\n",
       "        vertical-align: middle;\n",
       "    }\n",
       "\n",
       "    .dataframe tbody tr th {\n",
       "        vertical-align: top;\n",
       "    }\n",
       "\n",
       "    .dataframe thead th {\n",
       "        text-align: right;\n",
       "    }\n",
       "</style>\n",
       "<table border=\"1\" class=\"dataframe\">\n",
       "  <thead>\n",
       "    <tr style=\"text-align: right;\">\n",
       "      <th></th>\n",
       "      <th>METER NO.</th>\n",
       "      <th>PHASE</th>\n",
       "      <th>WAREHOUSE_UTILITY</th>\n",
       "      <th>IME</th>\n",
       "      <th>FINAL SIM</th>\n",
       "      <th>IMSI</th>\n",
       "      <th>IP</th>\n",
       "      <th>IMSI_MATCHED_METER_NO</th>\n",
       "      <th>UDC_ID</th>\n",
       "      <th>IMSI_MATCHED_IP</th>\n",
       "      <th>INSTALLATIONNUMBER</th>\n",
       "      <th>IMSI_MATCHED_STATUS</th>\n",
       "      <th>IMSI_MATCHED_UTILITY</th>\n",
       "    </tr>\n",
       "  </thead>\n",
       "  <tbody>\n",
       "    <tr>\n",
       "      <th>0</th>\n",
       "      <td>LT0346339</td>\n",
       "      <td>1 Phase</td>\n",
       "      <td>NBPDCL</td>\n",
       "      <td>865681060086437</td>\n",
       "      <td>8991856050706502419</td>\n",
       "      <td>405856706497419</td>\n",
       "      <td>2405:0203:0527:0696:0000:0000:0000:0010</td>\n",
       "      <td>LT0425144</td>\n",
       "      <td>405856706497419</td>\n",
       "      <td>2405:0203:0527:0696:0000:0000:0000:0010</td>\n",
       "      <td>5000577029</td>\n",
       "      <td>Installed</td>\n",
       "      <td>SBPDCL</td>\n",
       "    </tr>\n",
       "  </tbody>\n",
       "</table>\n",
       "</div>"
      ],
      "text/plain": [
       "   METER NO.    PHASE WAREHOUSE_UTILITY              IME            FINAL SIM  \\\n",
       "0  LT0346339  1 Phase            NBPDCL  865681060086437  8991856050706502419   \n",
       "\n",
       "              IMSI                                       IP  \\\n",
       "0  405856706497419  2405:0203:0527:0696:0000:0000:0000:0010   \n",
       "\n",
       "  IMSI_MATCHED_METER_NO           UDC_ID  \\\n",
       "0             LT0425144  405856706497419   \n",
       "\n",
       "                           IMSI_MATCHED_IP INSTALLATIONNUMBER  \\\n",
       "0  2405:0203:0527:0696:0000:0000:0000:0010         5000577029   \n",
       "\n",
       "  IMSI_MATCHED_STATUS IMSI_MATCHED_UTILITY  \n",
       "0           Installed               SBPDCL  "
      ]
     },
     "execution_count": 63,
     "metadata": {},
     "output_type": "execute_result"
    }
   ],
   "source": [
    "LEFT_JOIN_WITH_IMSI_WAREHOUSE_AND_COMIBNED_DATA_MODIFIED.head(1)"
   ]
  },
  {
   "cell_type": "code",
   "execution_count": 64,
   "metadata": {},
   "outputs": [],
   "source": [
    "#LEFT_JOIN_WITH_IMSI_WAREHOUSE_AND_COMIBNED_DATA_MODIFIED = LEFT_JOIN_WITH_IMSI_WAREHOUSE_AND_COMIBNED_DATA[['SL. NO.','METER NO.','PHASE TYPE','FINAL HES MAPPING','CATEGORY FOR DASHBOARD','SUPPLIER','IME AS PER L&T SHIPMENT','SIM 19 DIST','IMSI','IP','REMARKS',\"IMSI_MATCHED_METER_NO\",\"IMSI_MATCHED_IP\",\"IMSI_MATCHED_STATUS\",\"IMSI_MATCHED_UTILITY\"]]"
   ]
  },
  {
   "cell_type": "code",
   "execution_count": null,
   "metadata": {},
   "outputs": [],
   "source": []
  },
  {
   "cell_type": "code",
   "execution_count": null,
   "metadata": {},
   "outputs": [],
   "source": []
  },
  {
   "cell_type": "markdown",
   "metadata": {},
   "source": [
    "### WORK ON LEFT_JOIN_WITH_IMSI_WAREHOUSE_AND_COMIBNED_DATA_MODIFIED  and  LEFT_JOIN_WITH_METER_UTILITY_WAREHOUSE_AND_COMIBNED_DATA_MODIFIED"
   ]
  },
  {
   "cell_type": "code",
   "execution_count": null,
   "metadata": {},
   "outputs": [],
   "source": []
  },
  {
   "cell_type": "code",
   "execution_count": 65,
   "metadata": {},
   "outputs": [
    {
     "data": {
      "text/html": [
       "<div>\n",
       "<style scoped>\n",
       "    .dataframe tbody tr th:only-of-type {\n",
       "        vertical-align: middle;\n",
       "    }\n",
       "\n",
       "    .dataframe tbody tr th {\n",
       "        vertical-align: top;\n",
       "    }\n",
       "\n",
       "    .dataframe thead th {\n",
       "        text-align: right;\n",
       "    }\n",
       "</style>\n",
       "<table border=\"1\" class=\"dataframe\">\n",
       "  <thead>\n",
       "    <tr style=\"text-align: right;\">\n",
       "      <th></th>\n",
       "      <th>METER NO.</th>\n",
       "      <th>PHASE</th>\n",
       "      <th>WAREHOUSE_UTILITY</th>\n",
       "      <th>IME</th>\n",
       "      <th>FINAL SIM</th>\n",
       "      <th>IMSI</th>\n",
       "      <th>IP</th>\n",
       "      <th>IMSI_MATCHED_METER_NO</th>\n",
       "      <th>UDC_ID</th>\n",
       "      <th>IMSI_MATCHED_IP</th>\n",
       "      <th>INSTALLATIONNUMBER</th>\n",
       "      <th>IMSI_MATCHED_STATUS</th>\n",
       "      <th>IMSI_MATCHED_UTILITY</th>\n",
       "    </tr>\n",
       "  </thead>\n",
       "  <tbody>\n",
       "    <tr>\n",
       "      <th>0</th>\n",
       "      <td>LT0346339</td>\n",
       "      <td>1 Phase</td>\n",
       "      <td>NBPDCL</td>\n",
       "      <td>865681060086437</td>\n",
       "      <td>8991856050706502419</td>\n",
       "      <td>405856706497419</td>\n",
       "      <td>2405:0203:0527:0696:0000:0000:0000:0010</td>\n",
       "      <td>LT0425144</td>\n",
       "      <td>405856706497419</td>\n",
       "      <td>2405:0203:0527:0696:0000:0000:0000:0010</td>\n",
       "      <td>5000577029</td>\n",
       "      <td>Installed</td>\n",
       "      <td>SBPDCL</td>\n",
       "    </tr>\n",
       "    <tr>\n",
       "      <th>2</th>\n",
       "      <td>LT0347039</td>\n",
       "      <td>1 Phase</td>\n",
       "      <td>NBPDCL</td>\n",
       "      <td>869810056010897</td>\n",
       "      <td>8991856050706376051</td>\n",
       "      <td>405856706376051</td>\n",
       "      <td>2405:0203:0525:5541:0000:0000:0000:0010</td>\n",
       "      <td>LT0347039</td>\n",
       "      <td>405856706376051</td>\n",
       "      <td>2405:0203:0525:5541:0000:0000:0000:0010</td>\n",
       "      <td>5003804032</td>\n",
       "      <td>Installed</td>\n",
       "      <td>SBPDCL</td>\n",
       "    </tr>\n",
       "    <tr>\n",
       "      <th>3</th>\n",
       "      <td>LT0391803</td>\n",
       "      <td>1 Phase</td>\n",
       "      <td>NBPDCL</td>\n",
       "      <td>865575064589372</td>\n",
       "      <td>8991856040706681880</td>\n",
       "      <td>405856707226888</td>\n",
       "      <td>2405:0203:052E:12C5:0000:0000:0000:0010</td>\n",
       "      <td>LT0861917</td>\n",
       "      <td>405856707226888</td>\n",
       "      <td>2405:0203:052E:12C5:0000:0000:0000:0010</td>\n",
       "      <td>5003822186</td>\n",
       "      <td>Installed</td>\n",
       "      <td>SBPDCL</td>\n",
       "    </tr>\n",
       "  </tbody>\n",
       "</table>\n",
       "</div>"
      ],
      "text/plain": [
       "   METER NO.    PHASE WAREHOUSE_UTILITY              IME            FINAL SIM  \\\n",
       "0  LT0346339  1 Phase            NBPDCL  865681060086437  8991856050706502419   \n",
       "2  LT0347039  1 Phase            NBPDCL  869810056010897  8991856050706376051   \n",
       "3  LT0391803  1 Phase            NBPDCL  865575064589372  8991856040706681880   \n",
       "\n",
       "              IMSI                                       IP  \\\n",
       "0  405856706497419  2405:0203:0527:0696:0000:0000:0000:0010   \n",
       "2  405856706376051  2405:0203:0525:5541:0000:0000:0000:0010   \n",
       "3  405856707226888  2405:0203:052E:12C5:0000:0000:0000:0010   \n",
       "\n",
       "  IMSI_MATCHED_METER_NO           UDC_ID  \\\n",
       "0             LT0425144  405856706497419   \n",
       "2             LT0347039  405856706376051   \n",
       "3             LT0861917  405856707226888   \n",
       "\n",
       "                           IMSI_MATCHED_IP INSTALLATIONNUMBER  \\\n",
       "0  2405:0203:0527:0696:0000:0000:0000:0010         5000577029   \n",
       "2  2405:0203:0525:5541:0000:0000:0000:0010         5003804032   \n",
       "3  2405:0203:052E:12C5:0000:0000:0000:0010         5003822186   \n",
       "\n",
       "  IMSI_MATCHED_STATUS IMSI_MATCHED_UTILITY  \n",
       "0           Installed               SBPDCL  \n",
       "2           Installed               SBPDCL  \n",
       "3           Installed               SBPDCL  "
      ]
     },
     "execution_count": 65,
     "metadata": {},
     "output_type": "execute_result"
    }
   ],
   "source": [
    "LEFT_JOIN_WITH_IMSI_WAREHOUSE_AND_COMIBNED_DATA_MODIFIED.head(3)"
   ]
  },
  {
   "cell_type": "code",
   "execution_count": 66,
   "metadata": {},
   "outputs": [
    {
     "data": {
      "text/html": [
       "<div>\n",
       "<style scoped>\n",
       "    .dataframe tbody tr th:only-of-type {\n",
       "        vertical-align: middle;\n",
       "    }\n",
       "\n",
       "    .dataframe tbody tr th {\n",
       "        vertical-align: top;\n",
       "    }\n",
       "\n",
       "    .dataframe thead th {\n",
       "        text-align: right;\n",
       "    }\n",
       "</style>\n",
       "<table border=\"1\" class=\"dataframe\">\n",
       "  <thead>\n",
       "    <tr style=\"text-align: right;\">\n",
       "      <th></th>\n",
       "      <th>METER NO.</th>\n",
       "      <th>PHASE</th>\n",
       "      <th>WAREHOUSE_UTILITY</th>\n",
       "      <th>IME</th>\n",
       "      <th>FINAL SIM</th>\n",
       "      <th>IMSI</th>\n",
       "      <th>IP</th>\n",
       "      <th>MFG_SERIAL_NUM</th>\n",
       "      <th>METER_MATCH_UDC_ID</th>\n",
       "      <th>METER_MATCH_IP</th>\n",
       "      <th>INSTALLATIONNUMBER</th>\n",
       "      <th>METER_MATCH_STATUS</th>\n",
       "      <th>METER_MATCH_UTILITY</th>\n",
       "    </tr>\n",
       "  </thead>\n",
       "  <tbody>\n",
       "    <tr>\n",
       "      <th>0</th>\n",
       "      <td>LT0555992</td>\n",
       "      <td>1 Phase</td>\n",
       "      <td>NBPDCL</td>\n",
       "      <td>865681062851242</td>\n",
       "      <td>8991856040706094571</td>\n",
       "      <td>405856706639593</td>\n",
       "      <td>2405:0203:0529:1B24:0000:0000:0000:0010</td>\n",
       "      <td>LT0555992</td>\n",
       "      <td>405856706639593</td>\n",
       "      <td>2405:0203:0529:1B24:0000:0000:0000:0010</td>\n",
       "      <td>5003226857</td>\n",
       "      <td>Installed</td>\n",
       "      <td>NBPDCL</td>\n",
       "    </tr>\n",
       "    <tr>\n",
       "      <th>1</th>\n",
       "      <td>LT0575586</td>\n",
       "      <td>1 Phase</td>\n",
       "      <td>NBPDCL</td>\n",
       "      <td>865681062819025</td>\n",
       "      <td>8991856040706117561</td>\n",
       "      <td>405856706662583</td>\n",
       "      <td>2405:0203:0529:969C:0000:0000:0000:0010</td>\n",
       "      <td>LT0575586</td>\n",
       "      <td>405856706662583</td>\n",
       "      <td>2405:0203:0529:969C:0000:0000:0000:0010</td>\n",
       "      <td>5003886123</td>\n",
       "      <td>Installed</td>\n",
       "      <td>NBPDCL</td>\n",
       "    </tr>\n",
       "    <tr>\n",
       "      <th>2</th>\n",
       "      <td>LT0365316</td>\n",
       "      <td>1 Phase</td>\n",
       "      <td>NBPDCL</td>\n",
       "      <td>865575064792497</td>\n",
       "      <td>8991856050706401373</td>\n",
       "      <td>405856706401373</td>\n",
       "      <td>2405:0203:0525:CA8B:0000:0000:0000:0010</td>\n",
       "      <td>LT0365316</td>\n",
       "      <td>405856706401373</td>\n",
       "      <td>2405:0203:0525:CA8B:0000:0000:0000:0010</td>\n",
       "      <td>5001145726</td>\n",
       "      <td>Installed</td>\n",
       "      <td>NBPDCL</td>\n",
       "    </tr>\n",
       "  </tbody>\n",
       "</table>\n",
       "</div>"
      ],
      "text/plain": [
       "   METER NO.    PHASE WAREHOUSE_UTILITY              IME            FINAL SIM  \\\n",
       "0  LT0555992  1 Phase            NBPDCL  865681062851242  8991856040706094571   \n",
       "1  LT0575586  1 Phase            NBPDCL  865681062819025  8991856040706117561   \n",
       "2  LT0365316  1 Phase            NBPDCL  865575064792497  8991856050706401373   \n",
       "\n",
       "              IMSI                                       IP MFG_SERIAL_NUM  \\\n",
       "0  405856706639593  2405:0203:0529:1B24:0000:0000:0000:0010      LT0555992   \n",
       "1  405856706662583  2405:0203:0529:969C:0000:0000:0000:0010      LT0575586   \n",
       "2  405856706401373  2405:0203:0525:CA8B:0000:0000:0000:0010      LT0365316   \n",
       "\n",
       "  METER_MATCH_UDC_ID                           METER_MATCH_IP  \\\n",
       "0    405856706639593  2405:0203:0529:1B24:0000:0000:0000:0010   \n",
       "1    405856706662583  2405:0203:0529:969C:0000:0000:0000:0010   \n",
       "2    405856706401373  2405:0203:0525:CA8B:0000:0000:0000:0010   \n",
       "\n",
       "  INSTALLATIONNUMBER METER_MATCH_STATUS METER_MATCH_UTILITY  \n",
       "0         5003226857          Installed              NBPDCL  \n",
       "1         5003886123          Installed              NBPDCL  \n",
       "2         5001145726          Installed              NBPDCL  "
      ]
     },
     "execution_count": 66,
     "metadata": {},
     "output_type": "execute_result"
    }
   ],
   "source": [
    "LEFT_JOIN_WITH_METER_UTILITY_WAREHOUSE_AND_COMIBNED_DATA_MODIFIED.head(3)"
   ]
  },
  {
   "cell_type": "code",
   "execution_count": 67,
   "metadata": {},
   "outputs": [],
   "source": [
    "#"
   ]
  },
  {
   "cell_type": "markdown",
   "metadata": {},
   "source": [
    "# data correction"
   ]
  },
  {
   "cell_type": "code",
   "execution_count": 68,
   "metadata": {},
   "outputs": [],
   "source": [
    "# Convert all columns to string data type\n",
    "\n",
    "# change into str\n",
    "LEFT_JOIN_WITH_IMSI_WAREHOUSE_AND_COMIBNED_DATA_MODIFIED = LEFT_JOIN_WITH_IMSI_WAREHOUSE_AND_COMIBNED_DATA_MODIFIED.astype(str)\n",
    "LEFT_JOIN_WITH_METER_UTILITY_WAREHOUSE_AND_COMIBNED_DATA_MODIFIED = LEFT_JOIN_WITH_METER_UTILITY_WAREHOUSE_AND_COMIBNED_DATA_MODIFIED.astype(str)\n",
    "LEFT_JOIN_WITH_IP_WAREHOUSE_AND_COMIBNED_DATA_MODIFIED = LEFT_JOIN_WITH_IP_WAREHOUSE_AND_COMIBNED_DATA_MODIFIED.astype(str)\n",
    "\n",
    "# ----------------------------------------------------------------------------------\n",
    "\n",
    "# change into upper\n",
    "LEFT_JOIN_WITH_IMSI_WAREHOUSE_AND_COMIBNED_DATA_MODIFIED.columns = LEFT_JOIN_WITH_IMSI_WAREHOUSE_AND_COMIBNED_DATA_MODIFIED.columns.str.upper()\n",
    "LEFT_JOIN_WITH_METER_UTILITY_WAREHOUSE_AND_COMIBNED_DATA_MODIFIED.columns = LEFT_JOIN_WITH_METER_UTILITY_WAREHOUSE_AND_COMIBNED_DATA_MODIFIED.columns.str.upper()\n",
    "LEFT_JOIN_WITH_IP_WAREHOUSE_AND_COMIBNED_DATA_MODIFIED.columns = LEFT_JOIN_WITH_IP_WAREHOUSE_AND_COMIBNED_DATA_MODIFIED.columns.str.upper()\n",
    "\n",
    "# ----------------------------------------------------------------------------------\n",
    "\n",
    "# Remove leading and trailing whitespaces from all columns where dtype is 'O'\n",
    "LEFT_JOIN_WITH_IMSI_WAREHOUSE_AND_COMIBNED_DATA_MODIFIED = LEFT_JOIN_WITH_IMSI_WAREHOUSE_AND_COMIBNED_DATA_MODIFIED.apply(lambda x: x.str.strip() if x.dtype == 'O' else x)\n",
    "LEFT_JOIN_WITH_METER_UTILITY_WAREHOUSE_AND_COMIBNED_DATA_MODIFIED = LEFT_JOIN_WITH_METER_UTILITY_WAREHOUSE_AND_COMIBNED_DATA_MODIFIED.apply(lambda x: x.str.strip() if x.dtype == 'O' else x)\n",
    "LEFT_JOIN_WITH_IP_WAREHOUSE_AND_COMIBNED_DATA_MODIFIED = LEFT_JOIN_WITH_IP_WAREHOUSE_AND_COMIBNED_DATA_MODIFIED.apply(lambda x: x.str.strip() if x.dtype == 'O' else x)\n",
    "\n",
    "\n"
   ]
  },
  {
   "cell_type": "code",
   "execution_count": null,
   "metadata": {},
   "outputs": [],
   "source": []
  },
  {
   "cell_type": "markdown",
   "metadata": {},
   "source": [
    "# Merge IMSI ,IP  and METER  file"
   ]
  },
  {
   "cell_type": "code",
   "execution_count": 69,
   "metadata": {},
   "outputs": [],
   "source": [
    "warehouse_meter_imsi_data= pd.DataFrame(columns=[warehouse_Data.columns])"
   ]
  },
  {
   "cell_type": "code",
   "execution_count": 70,
   "metadata": {},
   "outputs": [
    {
     "data": {
      "text/html": [
       "<div>\n",
       "<style scoped>\n",
       "    .dataframe tbody tr th:only-of-type {\n",
       "        vertical-align: middle;\n",
       "    }\n",
       "\n",
       "    .dataframe tbody tr th {\n",
       "        vertical-align: top;\n",
       "    }\n",
       "\n",
       "    .dataframe thead tr th {\n",
       "        text-align: left;\n",
       "    }\n",
       "</style>\n",
       "<table border=\"1\" class=\"dataframe\">\n",
       "  <thead>\n",
       "    <tr>\n",
       "      <th></th>\n",
       "      <th>METER NO.</th>\n",
       "      <th>PHASE</th>\n",
       "      <th>WAREHOUSE_UTILITY</th>\n",
       "      <th>IME</th>\n",
       "      <th>FINAL SIM</th>\n",
       "      <th>IMSI</th>\n",
       "      <th>IP</th>\n",
       "    </tr>\n",
       "  </thead>\n",
       "  <tbody>\n",
       "  </tbody>\n",
       "</table>\n",
       "</div>"
      ],
      "text/plain": [
       "Empty DataFrame\n",
       "Columns: [(METER NO.,), (PHASE,), (WAREHOUSE_UTILITY,), (IME,), (FINAL SIM,), (IMSI,), (IP,)]\n",
       "Index: []"
      ]
     },
     "execution_count": 70,
     "metadata": {},
     "output_type": "execute_result"
    }
   ],
   "source": [
    "warehouse_meter_imsi_data"
   ]
  },
  {
   "cell_type": "code",
   "execution_count": 71,
   "metadata": {},
   "outputs": [],
   "source": [
    "#  empty column add to the  warehouse_meter_imsi_data  which has already some empty column of warehouse data"
   ]
  },
  {
   "cell_type": "code",
   "execution_count": 72,
   "metadata": {},
   "outputs": [],
   "source": [
    "warehouse_meter_imsi_data['METER_MATCH_UDC_ID'] = None\n",
    "warehouse_meter_imsi_data['METER_MATCH_IP'] = None\n",
    "warehouse_meter_imsi_data['METER_MATCH_STATUS'] = None\n",
    "warehouse_meter_imsi_data['METER_MATCH_UTILITY'] = None\n",
    "warehouse_meter_imsi_data['IMSI_MATCHED_METER_NO'] = None\n",
    "warehouse_meter_imsi_data['IMSI_MATCHED_IP'] = None\n",
    "warehouse_meter_imsi_data['IMSI_MATCHED_STATUS'] = None\n",
    "warehouse_meter_imsi_data['IMSI_MATCHED_UTILITY'] = None\n",
    "warehouse_meter_imsi_data['IP_MATCHED_METER_NO'] = None\n",
    "warehouse_meter_imsi_data['IP_MATCH_UDC_ID'] = None\n",
    "warehouse_meter_imsi_data['IP_MATCHED_IP'] = None\n",
    "warehouse_meter_imsi_data['IP_MATCHED_STATUS'] = None\n",
    "warehouse_meter_imsi_data['IP_MATCHED_UTILITY'] = None\n"
   ]
  },
  {
   "cell_type": "code",
   "execution_count": 73,
   "metadata": {},
   "outputs": [
    {
     "data": {
      "text/html": [
       "<div>\n",
       "<style scoped>\n",
       "    .dataframe tbody tr th:only-of-type {\n",
       "        vertical-align: middle;\n",
       "    }\n",
       "\n",
       "    .dataframe tbody tr th {\n",
       "        vertical-align: top;\n",
       "    }\n",
       "\n",
       "    .dataframe thead tr th {\n",
       "        text-align: left;\n",
       "    }\n",
       "</style>\n",
       "<table border=\"1\" class=\"dataframe\">\n",
       "  <thead>\n",
       "    <tr>\n",
       "      <th></th>\n",
       "      <th>METER NO.</th>\n",
       "      <th>PHASE</th>\n",
       "      <th>WAREHOUSE_UTILITY</th>\n",
       "      <th>IME</th>\n",
       "      <th>FINAL SIM</th>\n",
       "      <th>IMSI</th>\n",
       "      <th>IP</th>\n",
       "      <th>METER_MATCH_UDC_ID</th>\n",
       "      <th>METER_MATCH_IP</th>\n",
       "      <th>METER_MATCH_STATUS</th>\n",
       "      <th>METER_MATCH_UTILITY</th>\n",
       "      <th>IMSI_MATCHED_METER_NO</th>\n",
       "      <th>IMSI_MATCHED_IP</th>\n",
       "      <th>IMSI_MATCHED_STATUS</th>\n",
       "      <th>IMSI_MATCHED_UTILITY</th>\n",
       "      <th>IP_MATCHED_METER_NO</th>\n",
       "      <th>IP_MATCH_UDC_ID</th>\n",
       "      <th>IP_MATCHED_IP</th>\n",
       "      <th>IP_MATCHED_STATUS</th>\n",
       "      <th>IP_MATCHED_UTILITY</th>\n",
       "    </tr>\n",
       "  </thead>\n",
       "  <tbody>\n",
       "  </tbody>\n",
       "</table>\n",
       "</div>"
      ],
      "text/plain": [
       "Empty DataFrame\n",
       "Columns: [(METER NO.,), (PHASE,), (WAREHOUSE_UTILITY,), (IME,), (FINAL SIM,), (IMSI,), (IP,), (METER_MATCH_UDC_ID,), (METER_MATCH_IP,), (METER_MATCH_STATUS,), (METER_MATCH_UTILITY,), (IMSI_MATCHED_METER_NO,), (IMSI_MATCHED_IP,), (IMSI_MATCHED_STATUS,), (IMSI_MATCHED_UTILITY,), (IP_MATCHED_METER_NO,), (IP_MATCH_UDC_ID,), (IP_MATCHED_IP,), (IP_MATCHED_STATUS,), (IP_MATCHED_UTILITY,)]\n",
       "Index: []"
      ]
     },
     "execution_count": 73,
     "metadata": {},
     "output_type": "execute_result"
    }
   ],
   "source": [
    "warehouse_meter_imsi_data"
   ]
  },
  {
   "cell_type": "code",
   "execution_count": 74,
   "metadata": {},
   "outputs": [],
   "source": [
    "# this column are not same in all the dataframe so that i used the above method"
   ]
  },
  {
   "cell_type": "code",
   "execution_count": 75,
   "metadata": {},
   "outputs": [
    {
     "data": {
      "text/plain": [
       "\"\\nwarehouse_meter_imsi_data = pd.DataFrame(columns=['SL. NO.', 'METER NO.', 'PHASE TYPE', 'WAREHOUSE_UTILITY',\\n       'CATEGORY FOR DASHBOARD', 'SUPPLIER', 'IME AS PER L&T SHIPMENT',\\n       'SIM 19 DIST', 'IMSI', 'IP', 'REMARKS', 'METER_MATCH_UDC_ID',\\n       'METER_MATCH_IP', 'METER_MATCH_STATUS', 'METER_MATCH_UTILITY',\\n       'IMSI_MATCHED_METER_NO', 'IMSI_MATCHED_IP', 'IMSI_MATCHED_STATUS',\\n       'IMSI_MATCHED_UTILITY'])\\n\""
      ]
     },
     "execution_count": 75,
     "metadata": {},
     "output_type": "execute_result"
    }
   ],
   "source": [
    "\"\"\"\n",
    "warehouse_meter_imsi_data = pd.DataFrame(columns=['SL. NO.', 'METER NO.', 'PHASE TYPE', 'WAREHOUSE_UTILITY',\n",
    "       'CATEGORY FOR DASHBOARD', 'SUPPLIER', 'IME AS PER L&T SHIPMENT',\n",
    "       'SIM 19 DIST', 'IMSI', 'IP', 'REMARKS', 'METER_MATCH_UDC_ID',\n",
    "       'METER_MATCH_IP', 'METER_MATCH_STATUS', 'METER_MATCH_UTILITY',\n",
    "       'IMSI_MATCHED_METER_NO', 'IMSI_MATCHED_IP', 'IMSI_MATCHED_STATUS',\n",
    "       'IMSI_MATCHED_UTILITY'])\n",
    "\"\"\""
   ]
  },
  {
   "cell_type": "code",
   "execution_count": 76,
   "metadata": {},
   "outputs": [
    {
     "data": {
      "text/html": [
       "<div>\n",
       "<style scoped>\n",
       "    .dataframe tbody tr th:only-of-type {\n",
       "        vertical-align: middle;\n",
       "    }\n",
       "\n",
       "    .dataframe tbody tr th {\n",
       "        vertical-align: top;\n",
       "    }\n",
       "\n",
       "    .dataframe thead th {\n",
       "        text-align: right;\n",
       "    }\n",
       "</style>\n",
       "<table border=\"1\" class=\"dataframe\">\n",
       "  <thead>\n",
       "    <tr style=\"text-align: right;\">\n",
       "      <th></th>\n",
       "      <th>METER NO.</th>\n",
       "      <th>PHASE</th>\n",
       "      <th>WAREHOUSE_UTILITY</th>\n",
       "      <th>IME</th>\n",
       "      <th>FINAL SIM</th>\n",
       "      <th>IMSI</th>\n",
       "      <th>IP</th>\n",
       "      <th>IP_MATCHED_METER_NO</th>\n",
       "      <th>IP_MATCH_UDC_ID</th>\n",
       "      <th>IP_MATCHED_IP</th>\n",
       "      <th>INSTALLATIONNUMBER</th>\n",
       "      <th>IP_MATCHED_STATUS</th>\n",
       "      <th>IP_MATCHED_UTILITY</th>\n",
       "    </tr>\n",
       "  </thead>\n",
       "  <tbody>\n",
       "    <tr>\n",
       "      <th>0</th>\n",
       "      <td>LT0346339</td>\n",
       "      <td>1 Phase</td>\n",
       "      <td>NBPDCL</td>\n",
       "      <td>865681060086437</td>\n",
       "      <td>8991856050706502419</td>\n",
       "      <td>405856706497419</td>\n",
       "      <td>2405:0203:0527:0696:0000:0000:0000:0010</td>\n",
       "      <td>LT0425144</td>\n",
       "      <td>405856706497419</td>\n",
       "      <td>2405:0203:0527:0696:0000:0000:0000:0010</td>\n",
       "      <td>5000577029</td>\n",
       "      <td>Installed</td>\n",
       "      <td>SBPDCL</td>\n",
       "    </tr>\n",
       "  </tbody>\n",
       "</table>\n",
       "</div>"
      ],
      "text/plain": [
       "   METER NO.    PHASE WAREHOUSE_UTILITY              IME            FINAL SIM  \\\n",
       "0  LT0346339  1 Phase            NBPDCL  865681060086437  8991856050706502419   \n",
       "\n",
       "              IMSI                                       IP  \\\n",
       "0  405856706497419  2405:0203:0527:0696:0000:0000:0000:0010   \n",
       "\n",
       "  IP_MATCHED_METER_NO  IP_MATCH_UDC_ID  \\\n",
       "0           LT0425144  405856706497419   \n",
       "\n",
       "                             IP_MATCHED_IP INSTALLATIONNUMBER  \\\n",
       "0  2405:0203:0527:0696:0000:0000:0000:0010         5000577029   \n",
       "\n",
       "  IP_MATCHED_STATUS IP_MATCHED_UTILITY  \n",
       "0         Installed             SBPDCL  "
      ]
     },
     "execution_count": 76,
     "metadata": {},
     "output_type": "execute_result"
    }
   ],
   "source": [
    "LEFT_JOIN_WITH_IP_WAREHOUSE_AND_COMIBNED_DATA_MODIFIED.head(1)"
   ]
  },
  {
   "cell_type": "code",
   "execution_count": 77,
   "metadata": {},
   "outputs": [
    {
     "data": {
      "text/html": [
       "<div>\n",
       "<style scoped>\n",
       "    .dataframe tbody tr th:only-of-type {\n",
       "        vertical-align: middle;\n",
       "    }\n",
       "\n",
       "    .dataframe tbody tr th {\n",
       "        vertical-align: top;\n",
       "    }\n",
       "\n",
       "    .dataframe thead tr th {\n",
       "        text-align: left;\n",
       "    }\n",
       "</style>\n",
       "<table border=\"1\" class=\"dataframe\">\n",
       "  <thead>\n",
       "    <tr>\n",
       "      <th></th>\n",
       "      <th>METER NO.</th>\n",
       "      <th>PHASE</th>\n",
       "      <th>WAREHOUSE_UTILITY</th>\n",
       "      <th>IME</th>\n",
       "      <th>FINAL SIM</th>\n",
       "      <th>IMSI</th>\n",
       "      <th>IP</th>\n",
       "      <th>METER_MATCH_UDC_ID</th>\n",
       "      <th>METER_MATCH_IP</th>\n",
       "      <th>METER_MATCH_STATUS</th>\n",
       "      <th>METER_MATCH_UTILITY</th>\n",
       "      <th>IMSI_MATCHED_METER_NO</th>\n",
       "      <th>IMSI_MATCHED_IP</th>\n",
       "      <th>IMSI_MATCHED_STATUS</th>\n",
       "      <th>IMSI_MATCHED_UTILITY</th>\n",
       "      <th>IP_MATCHED_METER_NO</th>\n",
       "      <th>IP_MATCH_UDC_ID</th>\n",
       "      <th>IP_MATCHED_IP</th>\n",
       "      <th>IP_MATCHED_STATUS</th>\n",
       "      <th>IP_MATCHED_UTILITY</th>\n",
       "    </tr>\n",
       "  </thead>\n",
       "  <tbody>\n",
       "  </tbody>\n",
       "</table>\n",
       "</div>"
      ],
      "text/plain": [
       "Empty DataFrame\n",
       "Columns: [(METER NO.,), (PHASE,), (WAREHOUSE_UTILITY,), (IME,), (FINAL SIM,), (IMSI,), (IP,), (METER_MATCH_UDC_ID,), (METER_MATCH_IP,), (METER_MATCH_STATUS,), (METER_MATCH_UTILITY,), (IMSI_MATCHED_METER_NO,), (IMSI_MATCHED_IP,), (IMSI_MATCHED_STATUS,), (IMSI_MATCHED_UTILITY,), (IP_MATCHED_METER_NO,), (IP_MATCH_UDC_ID,), (IP_MATCHED_IP,), (IP_MATCHED_STATUS,), (IP_MATCHED_UTILITY,)]\n",
       "Index: []"
      ]
     },
     "execution_count": 77,
     "metadata": {},
     "output_type": "execute_result"
    }
   ],
   "source": [
    "warehouse_meter_imsi_data.head()"
   ]
  },
  {
   "cell_type": "code",
   "execution_count": 78,
   "metadata": {},
   "outputs": [],
   "source": [
    "# combining meter  and imsi data\n",
    "\n",
    "#   METER AND IMSI MERGE\n",
    "\n",
    "warehouse_meter_imsi_data_merge = pd.merge(LEFT_JOIN_WITH_METER_UTILITY_WAREHOUSE_AND_COMIBNED_DATA_MODIFIED, LEFT_JOIN_WITH_IMSI_WAREHOUSE_AND_COMIBNED_DATA_MODIFIED[['METER NO.', 'IMSI','IMSI_MATCHED_METER_NO','IMSI_MATCHED_IP','IMSI_MATCHED_STATUS','IMSI_MATCHED_UTILITY']], left_on=['METER NO.', 'IMSI'], right_on=['METER NO.', 'IMSI'], how='left')\n",
    "\n",
    "\n",
    "# MERGE IP AND warehouse_meter_imsi_data_merge\n",
    "warehouse_meter_imsi_data = pd.merge(warehouse_meter_imsi_data_merge, LEFT_JOIN_WITH_IP_WAREHOUSE_AND_COMIBNED_DATA_MODIFIED[['METER NO.', 'IMSI','IP_MATCHED_METER_NO','IP_MATCH_UDC_ID','IP_MATCHED_IP','IP_MATCHED_STATUS','IP_MATCHED_UTILITY']], left_on=['METER NO.', 'IMSI'], right_on=['METER NO.', 'IMSI'], how='left')\n",
    "\n"
   ]
  },
  {
   "cell_type": "code",
   "execution_count": 79,
   "metadata": {},
   "outputs": [
    {
     "data": {
      "text/html": [
       "<div>\n",
       "<style scoped>\n",
       "    .dataframe tbody tr th:only-of-type {\n",
       "        vertical-align: middle;\n",
       "    }\n",
       "\n",
       "    .dataframe tbody tr th {\n",
       "        vertical-align: top;\n",
       "    }\n",
       "\n",
       "    .dataframe thead th {\n",
       "        text-align: right;\n",
       "    }\n",
       "</style>\n",
       "<table border=\"1\" class=\"dataframe\">\n",
       "  <thead>\n",
       "    <tr style=\"text-align: right;\">\n",
       "      <th></th>\n",
       "      <th>METER NO.</th>\n",
       "      <th>PHASE</th>\n",
       "      <th>WAREHOUSE_UTILITY</th>\n",
       "      <th>IME</th>\n",
       "      <th>FINAL SIM</th>\n",
       "      <th>IMSI</th>\n",
       "      <th>IP</th>\n",
       "      <th>MFG_SERIAL_NUM</th>\n",
       "      <th>METER_MATCH_UDC_ID</th>\n",
       "      <th>METER_MATCH_IP</th>\n",
       "      <th>INSTALLATIONNUMBER</th>\n",
       "      <th>METER_MATCH_STATUS</th>\n",
       "      <th>METER_MATCH_UTILITY</th>\n",
       "      <th>IMSI_MATCHED_METER_NO</th>\n",
       "      <th>IMSI_MATCHED_IP</th>\n",
       "      <th>IMSI_MATCHED_STATUS</th>\n",
       "      <th>IMSI_MATCHED_UTILITY</th>\n",
       "      <th>IP_MATCHED_METER_NO</th>\n",
       "      <th>IP_MATCH_UDC_ID</th>\n",
       "      <th>IP_MATCHED_IP</th>\n",
       "      <th>IP_MATCHED_STATUS</th>\n",
       "      <th>IP_MATCHED_UTILITY</th>\n",
       "    </tr>\n",
       "  </thead>\n",
       "  <tbody>\n",
       "    <tr>\n",
       "      <th>0</th>\n",
       "      <td>LT0555992</td>\n",
       "      <td>1 Phase</td>\n",
       "      <td>NBPDCL</td>\n",
       "      <td>865681062851242</td>\n",
       "      <td>8991856040706094571</td>\n",
       "      <td>405856706639593</td>\n",
       "      <td>2405:0203:0529:1B24:0000:0000:0000:0010</td>\n",
       "      <td>LT0555992</td>\n",
       "      <td>405856706639593</td>\n",
       "      <td>2405:0203:0529:1B24:0000:0000:0000:0010</td>\n",
       "      <td>5003226857</td>\n",
       "      <td>Installed</td>\n",
       "      <td>NBPDCL</td>\n",
       "      <td>LT0555992</td>\n",
       "      <td>2405:0203:0529:1B24:0000:0000:0000:0010</td>\n",
       "      <td>Installed</td>\n",
       "      <td>NBPDCL</td>\n",
       "      <td>LT0555992</td>\n",
       "      <td>405856706639593</td>\n",
       "      <td>2405:0203:0529:1B24:0000:0000:0000:0010</td>\n",
       "      <td>Installed</td>\n",
       "      <td>NBPDCL</td>\n",
       "    </tr>\n",
       "    <tr>\n",
       "      <th>1</th>\n",
       "      <td>LT0575586</td>\n",
       "      <td>1 Phase</td>\n",
       "      <td>NBPDCL</td>\n",
       "      <td>865681062819025</td>\n",
       "      <td>8991856040706117561</td>\n",
       "      <td>405856706662583</td>\n",
       "      <td>2405:0203:0529:969C:0000:0000:0000:0010</td>\n",
       "      <td>LT0575586</td>\n",
       "      <td>405856706662583</td>\n",
       "      <td>2405:0203:0529:969C:0000:0000:0000:0010</td>\n",
       "      <td>5003886123</td>\n",
       "      <td>Installed</td>\n",
       "      <td>NBPDCL</td>\n",
       "      <td>LT0575586</td>\n",
       "      <td>2405:0203:0529:969C:0000:0000:0000:0010</td>\n",
       "      <td>Installed</td>\n",
       "      <td>NBPDCL</td>\n",
       "      <td>LT0575586</td>\n",
       "      <td>405856706662583</td>\n",
       "      <td>2405:0203:0529:969C:0000:0000:0000:0010</td>\n",
       "      <td>Installed</td>\n",
       "      <td>NBPDCL</td>\n",
       "    </tr>\n",
       "  </tbody>\n",
       "</table>\n",
       "</div>"
      ],
      "text/plain": [
       "   METER NO.    PHASE WAREHOUSE_UTILITY              IME            FINAL SIM  \\\n",
       "0  LT0555992  1 Phase            NBPDCL  865681062851242  8991856040706094571   \n",
       "1  LT0575586  1 Phase            NBPDCL  865681062819025  8991856040706117561   \n",
       "\n",
       "              IMSI                                       IP MFG_SERIAL_NUM  \\\n",
       "0  405856706639593  2405:0203:0529:1B24:0000:0000:0000:0010      LT0555992   \n",
       "1  405856706662583  2405:0203:0529:969C:0000:0000:0000:0010      LT0575586   \n",
       "\n",
       "  METER_MATCH_UDC_ID                           METER_MATCH_IP  \\\n",
       "0    405856706639593  2405:0203:0529:1B24:0000:0000:0000:0010   \n",
       "1    405856706662583  2405:0203:0529:969C:0000:0000:0000:0010   \n",
       "\n",
       "  INSTALLATIONNUMBER METER_MATCH_STATUS METER_MATCH_UTILITY  \\\n",
       "0         5003226857          Installed              NBPDCL   \n",
       "1         5003886123          Installed              NBPDCL   \n",
       "\n",
       "  IMSI_MATCHED_METER_NO                          IMSI_MATCHED_IP  \\\n",
       "0             LT0555992  2405:0203:0529:1B24:0000:0000:0000:0010   \n",
       "1             LT0575586  2405:0203:0529:969C:0000:0000:0000:0010   \n",
       "\n",
       "  IMSI_MATCHED_STATUS IMSI_MATCHED_UTILITY IP_MATCHED_METER_NO  \\\n",
       "0           Installed               NBPDCL           LT0555992   \n",
       "1           Installed               NBPDCL           LT0575586   \n",
       "\n",
       "   IP_MATCH_UDC_ID                            IP_MATCHED_IP IP_MATCHED_STATUS  \\\n",
       "0  405856706639593  2405:0203:0529:1B24:0000:0000:0000:0010         Installed   \n",
       "1  405856706662583  2405:0203:0529:969C:0000:0000:0000:0010         Installed   \n",
       "\n",
       "  IP_MATCHED_UTILITY  \n",
       "0             NBPDCL  \n",
       "1             NBPDCL  "
      ]
     },
     "execution_count": 79,
     "metadata": {},
     "output_type": "execute_result"
    }
   ],
   "source": [
    "warehouse_meter_imsi_data.head(2)"
   ]
  },
  {
   "cell_type": "code",
   "execution_count": 80,
   "metadata": {},
   "outputs": [],
   "source": [
    "# Convert all columns to string data type\n",
    "\n",
    "# change into str\n",
    "warehouse_meter_imsi_data = warehouse_meter_imsi_data.astype(str)\n",
    "\n",
    "# ----------------------------------------------------------------------------------\n",
    "\n",
    "# change into upper\n",
    "warehouse_meter_imsi_data.columns = warehouse_meter_imsi_data.columns.str.upper()\n",
    "\n",
    "# ----------------------------------------------------------------------------------\n",
    "\n",
    "\n",
    "# Remove leading and trailing whitespaces from all columns where dtype is 'O'\n",
    "warehouse_meter_imsi_data = warehouse_meter_imsi_data.apply(lambda x: x.str.strip() if x.dtype == 'O' else x)\n",
    "\n"
   ]
  },
  {
   "cell_type": "code",
   "execution_count": 81,
   "metadata": {},
   "outputs": [
    {
     "data": {
      "text/plain": [
       "(6976, 22)"
      ]
     },
     "execution_count": 81,
     "metadata": {},
     "output_type": "execute_result"
    }
   ],
   "source": [
    "warehouse_meter_imsi_data.shape"
   ]
  },
  {
   "cell_type": "markdown",
   "metadata": {},
   "source": [
    "# SIM SET CHECK STATUS"
   ]
  },
  {
   "cell_type": "code",
   "execution_count": 82,
   "metadata": {},
   "outputs": [],
   "source": [
    "def fun_sim_status_check(row):\n",
    "    if (row['IMSI'] == row['METER_MATCH_UDC_ID']) and (row['WAREHOUSE_UTILITY'] == row['METER_MATCH_UTILITY']):\n",
    "        return \"SAME SET IN SAME UTILITY\"\n",
    "    elif (row['IMSI'] != row['METER_MATCH_UDC_ID']) and (row['WAREHOUSE_UTILITY'] == row['METER_MATCH_UTILITY']):\n",
    "        return \"DIFFERENT SET IN SAME UTILITY\"\n",
    "    elif (row['IMSI'] == row['METER_MATCH_UDC_ID']) and (row['WAREHOUSE_UTILITY'] != row['METER_MATCH_UTILITY']):\n",
    "        return \"SAME SET IN DIFFERENT UTILITY\"\n",
    "    elif (row['IMSI'] != row['METER_MATCH_UDC_ID']) and (row['WAREHOUSE_UTILITY'] != row['METER_MATCH_UTILITY']):\n",
    "        return \"DIFFERENT SET IN DIFFERENT UTILITY\"\n",
    "    else:\n",
    "        return None\n",
    "\n",
    "# Apply the function to create a new column\n",
    "warehouse_meter_imsi_data['SIM SET CHECK STATUS'] = warehouse_meter_imsi_data.apply(fun_sim_status_check, axis=1)\n",
    "\n"
   ]
  },
  {
   "cell_type": "code",
   "execution_count": null,
   "metadata": {},
   "outputs": [],
   "source": []
  },
  {
   "cell_type": "markdown",
   "metadata": {},
   "source": [
    "# TRUE - FALSE COLUMN"
   ]
  },
  {
   "cell_type": "code",
   "execution_count": 83,
   "metadata": {},
   "outputs": [],
   "source": [
    "def fun_check_true_false__METER_SIM(row):\n",
    "    if row['IMSI']==row['METER_MATCH_UDC_ID']:\n",
    "        return True\n",
    "    else:\n",
    "        return False\n",
    "    \n",
    "warehouse_meter_imsi_data[\"METER_SIM\"] =  warehouse_meter_imsi_data.apply(fun_check_true_false__METER_SIM, axis=1)"
   ]
  },
  {
   "cell_type": "code",
   "execution_count": null,
   "metadata": {},
   "outputs": [],
   "source": []
  },
  {
   "cell_type": "code",
   "execution_count": 84,
   "metadata": {},
   "outputs": [],
   "source": [
    "def fun_check_true_false_METER_ORG(row):\n",
    "    if row['METER_MATCH_UTILITY']==row['WAREHOUSE_UTILITY']:\n",
    "        return True\n",
    "    else:\n",
    "        return False\n",
    "    \n",
    "warehouse_meter_imsi_data[\"METER_ORG\"] =  warehouse_meter_imsi_data.apply(fun_check_true_false_METER_ORG, axis=1)"
   ]
  },
  {
   "cell_type": "code",
   "execution_count": 85,
   "metadata": {},
   "outputs": [],
   "source": [
    "def fun_check_true_false_SIM_ORG(row):\n",
    "    if row['IMSI_MATCHED_UTILITY']==row['WAREHOUSE_UTILITY']:\n",
    "        return True\n",
    "    else:\n",
    "        return False\n",
    "    \n",
    "warehouse_meter_imsi_data[\"SIM_ORG\"] =  warehouse_meter_imsi_data.apply(fun_check_true_false_SIM_ORG, axis=1)"
   ]
  },
  {
   "cell_type": "code",
   "execution_count": 86,
   "metadata": {},
   "outputs": [],
   "source": [
    "def fun_check_true_false_METER_IP(row):\n",
    "    if row['METER_MATCH_IP']==row['IP']:\n",
    "        return True\n",
    "    else:\n",
    "        return False\n",
    "    \n",
    "warehouse_meter_imsi_data[\"METER_IP\"] =  warehouse_meter_imsi_data.apply(fun_check_true_false_METER_IP, axis=1)"
   ]
  },
  {
   "cell_type": "code",
   "execution_count": 87,
   "metadata": {},
   "outputs": [
    {
     "data": {
      "text/html": [
       "<div>\n",
       "<style scoped>\n",
       "    .dataframe tbody tr th:only-of-type {\n",
       "        vertical-align: middle;\n",
       "    }\n",
       "\n",
       "    .dataframe tbody tr th {\n",
       "        vertical-align: top;\n",
       "    }\n",
       "\n",
       "    .dataframe thead th {\n",
       "        text-align: right;\n",
       "    }\n",
       "</style>\n",
       "<table border=\"1\" class=\"dataframe\">\n",
       "  <thead>\n",
       "    <tr style=\"text-align: right;\">\n",
       "      <th></th>\n",
       "      <th>METER NO.</th>\n",
       "      <th>PHASE</th>\n",
       "      <th>WAREHOUSE_UTILITY</th>\n",
       "      <th>IME</th>\n",
       "      <th>FINAL SIM</th>\n",
       "      <th>IMSI</th>\n",
       "      <th>IP</th>\n",
       "      <th>MFG_SERIAL_NUM</th>\n",
       "      <th>METER_MATCH_UDC_ID</th>\n",
       "      <th>METER_MATCH_IP</th>\n",
       "      <th>INSTALLATIONNUMBER</th>\n",
       "      <th>METER_MATCH_STATUS</th>\n",
       "      <th>METER_MATCH_UTILITY</th>\n",
       "      <th>IMSI_MATCHED_METER_NO</th>\n",
       "      <th>IMSI_MATCHED_IP</th>\n",
       "      <th>IMSI_MATCHED_STATUS</th>\n",
       "      <th>IMSI_MATCHED_UTILITY</th>\n",
       "      <th>IP_MATCHED_METER_NO</th>\n",
       "      <th>IP_MATCH_UDC_ID</th>\n",
       "      <th>IP_MATCHED_IP</th>\n",
       "      <th>IP_MATCHED_STATUS</th>\n",
       "      <th>IP_MATCHED_UTILITY</th>\n",
       "      <th>SIM SET CHECK STATUS</th>\n",
       "      <th>METER_SIM</th>\n",
       "      <th>METER_ORG</th>\n",
       "      <th>SIM_ORG</th>\n",
       "      <th>METER_IP</th>\n",
       "    </tr>\n",
       "  </thead>\n",
       "  <tbody>\n",
       "    <tr>\n",
       "      <th>0</th>\n",
       "      <td>LT0555992</td>\n",
       "      <td>1 Phase</td>\n",
       "      <td>NBPDCL</td>\n",
       "      <td>865681062851242</td>\n",
       "      <td>8991856040706094571</td>\n",
       "      <td>405856706639593</td>\n",
       "      <td>2405:0203:0529:1B24:0000:0000:0000:0010</td>\n",
       "      <td>LT0555992</td>\n",
       "      <td>405856706639593</td>\n",
       "      <td>2405:0203:0529:1B24:0000:0000:0000:0010</td>\n",
       "      <td>5003226857</td>\n",
       "      <td>Installed</td>\n",
       "      <td>NBPDCL</td>\n",
       "      <td>LT0555992</td>\n",
       "      <td>2405:0203:0529:1B24:0000:0000:0000:0010</td>\n",
       "      <td>Installed</td>\n",
       "      <td>NBPDCL</td>\n",
       "      <td>LT0555992</td>\n",
       "      <td>405856706639593</td>\n",
       "      <td>2405:0203:0529:1B24:0000:0000:0000:0010</td>\n",
       "      <td>Installed</td>\n",
       "      <td>NBPDCL</td>\n",
       "      <td>SAME SET IN SAME UTILITY</td>\n",
       "      <td>True</td>\n",
       "      <td>True</td>\n",
       "      <td>True</td>\n",
       "      <td>True</td>\n",
       "    </tr>\n",
       "    <tr>\n",
       "      <th>1</th>\n",
       "      <td>LT0575586</td>\n",
       "      <td>1 Phase</td>\n",
       "      <td>NBPDCL</td>\n",
       "      <td>865681062819025</td>\n",
       "      <td>8991856040706117561</td>\n",
       "      <td>405856706662583</td>\n",
       "      <td>2405:0203:0529:969C:0000:0000:0000:0010</td>\n",
       "      <td>LT0575586</td>\n",
       "      <td>405856706662583</td>\n",
       "      <td>2405:0203:0529:969C:0000:0000:0000:0010</td>\n",
       "      <td>5003886123</td>\n",
       "      <td>Installed</td>\n",
       "      <td>NBPDCL</td>\n",
       "      <td>LT0575586</td>\n",
       "      <td>2405:0203:0529:969C:0000:0000:0000:0010</td>\n",
       "      <td>Installed</td>\n",
       "      <td>NBPDCL</td>\n",
       "      <td>LT0575586</td>\n",
       "      <td>405856706662583</td>\n",
       "      <td>2405:0203:0529:969C:0000:0000:0000:0010</td>\n",
       "      <td>Installed</td>\n",
       "      <td>NBPDCL</td>\n",
       "      <td>SAME SET IN SAME UTILITY</td>\n",
       "      <td>True</td>\n",
       "      <td>True</td>\n",
       "      <td>True</td>\n",
       "      <td>True</td>\n",
       "    </tr>\n",
       "  </tbody>\n",
       "</table>\n",
       "</div>"
      ],
      "text/plain": [
       "   METER NO.    PHASE WAREHOUSE_UTILITY              IME            FINAL SIM  \\\n",
       "0  LT0555992  1 Phase            NBPDCL  865681062851242  8991856040706094571   \n",
       "1  LT0575586  1 Phase            NBPDCL  865681062819025  8991856040706117561   \n",
       "\n",
       "              IMSI                                       IP MFG_SERIAL_NUM  \\\n",
       "0  405856706639593  2405:0203:0529:1B24:0000:0000:0000:0010      LT0555992   \n",
       "1  405856706662583  2405:0203:0529:969C:0000:0000:0000:0010      LT0575586   \n",
       "\n",
       "  METER_MATCH_UDC_ID                           METER_MATCH_IP  \\\n",
       "0    405856706639593  2405:0203:0529:1B24:0000:0000:0000:0010   \n",
       "1    405856706662583  2405:0203:0529:969C:0000:0000:0000:0010   \n",
       "\n",
       "  INSTALLATIONNUMBER METER_MATCH_STATUS METER_MATCH_UTILITY  \\\n",
       "0         5003226857          Installed              NBPDCL   \n",
       "1         5003886123          Installed              NBPDCL   \n",
       "\n",
       "  IMSI_MATCHED_METER_NO                          IMSI_MATCHED_IP  \\\n",
       "0             LT0555992  2405:0203:0529:1B24:0000:0000:0000:0010   \n",
       "1             LT0575586  2405:0203:0529:969C:0000:0000:0000:0010   \n",
       "\n",
       "  IMSI_MATCHED_STATUS IMSI_MATCHED_UTILITY IP_MATCHED_METER_NO  \\\n",
       "0           Installed               NBPDCL           LT0555992   \n",
       "1           Installed               NBPDCL           LT0575586   \n",
       "\n",
       "   IP_MATCH_UDC_ID                            IP_MATCHED_IP IP_MATCHED_STATUS  \\\n",
       "0  405856706639593  2405:0203:0529:1B24:0000:0000:0000:0010         Installed   \n",
       "1  405856706662583  2405:0203:0529:969C:0000:0000:0000:0010         Installed   \n",
       "\n",
       "  IP_MATCHED_UTILITY      SIM SET CHECK STATUS  METER_SIM  METER_ORG  SIM_ORG  \\\n",
       "0             NBPDCL  SAME SET IN SAME UTILITY       True       True     True   \n",
       "1             NBPDCL  SAME SET IN SAME UTILITY       True       True     True   \n",
       "\n",
       "   METER_IP  \n",
       "0      True  \n",
       "1      True  "
      ]
     },
     "execution_count": 87,
     "metadata": {},
     "output_type": "execute_result"
    }
   ],
   "source": [
    "warehouse_meter_imsi_data.head(2)\n"
   ]
  },
  {
   "cell_type": "markdown",
   "metadata": {},
   "source": [
    "# SIM SET CHECK STATUS RECHECK COLUMN"
   ]
  },
  {
   "cell_type": "code",
   "execution_count": null,
   "metadata": {},
   "outputs": [],
   "source": []
  },
  {
   "cell_type": "code",
   "execution_count": 88,
   "metadata": {},
   "outputs": [],
   "source": [
    "def check_set_and_utility(row):\n",
    "    if row['METER_SIM'] == True and ((row['METER_ORG'] == True) and (row[\"SIM_ORG\"] == True)) :\n",
    "        return \"SAME SET IN SAME UTILITY\"\n",
    "    elif row['METER_SIM'] == True and ((row['METER_ORG'] == False) and (row[\"SIM_ORG\"] == False)) :\n",
    "        return \"SAME SET IN DIFFERENT UTILITY\"\n",
    "    elif row['METER_SIM'] == False and ((row['METER_ORG'] == True) and (row[\"SIM_ORG\"] == True)) :\n",
    "        return \"DIFFERENT SET IN SAME UTILITY\"\n",
    "    elif row['METER_SIM'] == False and ((row['METER_ORG'] == False) and (row[\"SIM_ORG\"] == False)) :\n",
    "        return \"DIFFERENT SET IN DIFFERENT UTILITY\"\n",
    "    \n",
    "    # new case added\n",
    "    elif row['METER_SIM'] == True and (row['METER_ORG'] == True) and (row[\"SIM_ORG\"] == False) :\n",
    "        return \"SAME SET IN SAME UTILITY\"\n",
    "    elif row['METER_SIM'] == True and (row['METER_ORG'] == False) and (row[\"SIM_ORG\"] == True) :\n",
    "        return \"SAME SET IN DIFFERENT UTILITY\"\n",
    "    \n",
    "    elif row['METER_SIM'] == False and ((row['METER_ORG'] == True) and (row[\"SIM_ORG\"] == False)) :\n",
    "        return \"DIFFERENT SET IN SAME UTILITY\"\n",
    "    \n",
    "    elif row['METER_SIM'] == False and ((row['METER_ORG'] == False) and (row[\"SIM_ORG\"] == True)) :\n",
    "        return \"DIFFERENT SET IN DIFFERENT UTILITY\"\n",
    "\n",
    "    \n",
    "    else:\n",
    "        return None\n",
    "\n",
    "\n",
    "warehouse_meter_imsi_data[\"SIM SET CHECK STATUS RECHECK\"] =  warehouse_meter_imsi_data.apply(check_set_and_utility, axis=1)\n"
   ]
  },
  {
   "cell_type": "code",
   "execution_count": null,
   "metadata": {},
   "outputs": [],
   "source": []
  },
  {
   "cell_type": "code",
   "execution_count": 89,
   "metadata": {},
   "outputs": [
    {
     "data": {
      "text/plain": [
       "Index(['METER NO.', 'PHASE', 'WAREHOUSE_UTILITY', 'IME', 'FINAL SIM', 'IMSI',\n",
       "       'IP', 'MFG_SERIAL_NUM', 'METER_MATCH_UDC_ID', 'METER_MATCH_IP',\n",
       "       'INSTALLATIONNUMBER', 'METER_MATCH_STATUS', 'METER_MATCH_UTILITY',\n",
       "       'IMSI_MATCHED_METER_NO', 'IMSI_MATCHED_IP', 'IMSI_MATCHED_STATUS',\n",
       "       'IMSI_MATCHED_UTILITY', 'IP_MATCHED_METER_NO', 'IP_MATCH_UDC_ID',\n",
       "       'IP_MATCHED_IP', 'IP_MATCHED_STATUS', 'IP_MATCHED_UTILITY',\n",
       "       'SIM SET CHECK STATUS', 'METER_SIM', 'METER_ORG', 'SIM_ORG', 'METER_IP',\n",
       "       'SIM SET CHECK STATUS RECHECK'],\n",
       "      dtype='object')"
      ]
     },
     "execution_count": 89,
     "metadata": {},
     "output_type": "execute_result"
    }
   ],
   "source": [
    "warehouse_meter_imsi_data.columns"
   ]
  },
  {
   "cell_type": "markdown",
   "metadata": {},
   "source": [
    "# Action taken column"
   ]
  },
  {
   "cell_type": "markdown",
   "metadata": {},
   "source": []
  },
  {
   "cell_type": "code",
   "execution_count": 90,
   "metadata": {},
   "outputs": [],
   "source": [
    "\n",
    "def fun_action_taken_case_I(data_row):\n",
    "\n",
    "    # case 1\n",
    "    \n",
    "    #if data_row['IMSI']== data_row['METER_MATCH_UDC_ID']:\n",
    "        #return \"SET IS IN INSTALLED STAGE\"\n",
    "    if (data_row['METER_MATCH_STATUS'] != \"Installed\")  & (data_row['IMSI_MATCHED_STATUS'] == \"Installed\"):\n",
    "        return \"IMSI IS IN INSTALLED STAGE\"\n",
    "    elif (data_row['METER_MATCH_STATUS'] == \"Installed\")  & (data_row['IMSI_MATCHED_STATUS'] != \"Installed\"):\n",
    "        return \"METER IS IN INSTALLED STAGE\"\n",
    "    \n",
    "\n",
    "    # new cases\n",
    "    \n",
    "    # 1\n",
    "    elif (data_row[\"SIM SET CHECK STATUS RECHECK\"] == 'SAME SET IN SAME UTILITY') and (data_row['METER_MATCH_STATUS'] == \"Installed\") and (data_row['IMSI_MATCHED_STATUS'] == \"Installed\"):\n",
    "        return \"SET IS IN INSTALLED STAGE\"\n",
    "    \n",
    "    # 2\n",
    "    elif (data_row[\"SIM SET CHECK STATUS RECHECK\"] == 'SAME SET IN DIFFERENT UTILITY') and (data_row['METER_MATCH_STATUS'] == \"Installed\") and (data_row['IMSI_MATCHED_STATUS'] == \"Installed\"):\n",
    "        return \"SET IS IN INSTALLED STAGE\"\n",
    "    \n",
    "    # 3\n",
    "    elif (data_row[\"SIM SET CHECK STATUS RECHECK\"] == 'DIFFERENT SET IN SAME UTILITY') and (data_row['METER_MATCH_STATUS'] == \"Installed\") and (data_row['IMSI_MATCHED_STATUS'] == \"Installed\"):\n",
    "        return \"BOTH INSTALLED IN SAME UTILITY\"\n",
    "    \n",
    "    elif (data_row[\"SIM SET CHECK STATUS RECHECK\"] == 'DIFFERENT SET IN SAME UTILITY') and (data_row['METER_MATCH_STATUS'] == \"Installed\") and (data_row['IMSI_MATCHED_STATUS'] != \"Installed\"):\n",
    "        return \"METER IS IN INSTALLED STAGE\"\n",
    "    \n",
    "    elif (data_row[\"SIM SET CHECK STATUS RECHECK\"] == 'DIFFERENT SET IN SAME UTILITY') and (data_row['METER_MATCH_STATUS'] != \"Installed\") and (data_row['IMSI_MATCHED_STATUS'] == \"Installed\"):\n",
    "        return \"IMSI IS IN INSTALLED STAGE\"\n",
    "    \n",
    "    # 4\n",
    "    elif (data_row[\"SIM SET CHECK STATUS RECHECK\"] == 'DIFFERENT SET IN DIFFERENT UTILITY') and (data_row['METER_MATCH_STATUS'] == \"Installed\") and (data_row['IMSI_MATCHED_STATUS'] == \"Installed\"):\n",
    "        return \"BOTH INSTALLED IN SAME UTILITY\"\n",
    "    \n",
    "    elif (data_row[\"SIM SET CHECK STATUS RECHECK\"] == 'DIFFERENT SET IN DIFFERENT UTILITY') and (data_row['METER_MATCH_STATUS'] == \"Installed\") and (data_row['IMSI_MATCHED_STATUS'] != \"Installed\"):\n",
    "        return \"METER IS IN INSTALLED STAGE\"\n",
    "    \n",
    "    elif (data_row[\"SIM SET CHECK STATUS RECHECK\"] == 'DIFFERENT SET IN DIFFERENT UTILITY') and (data_row['METER_MATCH_STATUS'] != \"Installed\") and (data_row['IMSI_MATCHED_STATUS'] == \"Installed\"):\n",
    "        return \"IMSI IS IN INSTALLED STAGE\"\n",
    "\n",
    "    # case 2 \n",
    "\n",
    "\n",
    "    # set 1 and row['METER_IP'] == True\n",
    "    elif (data_row['METER_SIM'] == True) and ((data_row['METER_ORG']  == True) and (data_row[\"SIM_ORG\"] == True)) and (data_row['METER_IP'] == True) and data_row['METER_MATCH_STATUS']!='Installed' and data_row['IMSI_MATCHED_STATUS'] !='Installed':\n",
    "        return \"METER-SIM LINK FILE REQUIRED\"\n",
    "    \n",
    "    elif (data_row['METER_SIM'] == True) and (data_row['METER_ORG']  == True) and (data_row[\"SIM_ORG\"] == True) and (data_row['METER_IP'] == True) and data_row['METER_MATCH_STATUS']=='Installed' :\n",
    "        return \"METER IS IN INSTALLED STAGE\"\n",
    "    \n",
    "    elif (data_row['METER_SIM'] == True) and (data_row['METER_ORG']  == True) and (data_row[\"SIM_ORG\"] == True) and (data_row['METER_IP'] == True) and  data_row['IMSI_MATCHED_STATUS']=='Installed' :\n",
    "        return \"IMSI IS IN INSTALLED STAGE\"\n",
    "    \n",
    "    \n",
    "    \n",
    "    \n",
    "\n",
    "\n",
    "\n",
    "    # set 1 and row['METER_IP'] == False \n",
    "    elif (data_row['METER_SIM'] == True) and ((data_row['METER_ORG'] == True) and (data_row[\"SIM_ORG\"] == True)) and (data_row['METER_IP'] == False) :\n",
    "        return \"SIM AND METER-SIM LINK FILE REQUIRED\"\n",
    "    \n",
    "    elif (data_row['METER_SIM'] == True) and ((data_row['METER_ORG'] == True) and (data_row[\"SIM_ORG\"] == False)) and (data_row['METER_IP'] == False) :\n",
    "        return \"SIM AND METER-SIM LINK FILE REQUIRED\"\n",
    "    \n",
    "    # set 2  \"SAME SET IN DIFFERENT UTILITY\"\n",
    "    elif (data_row['METER_SIM'] == True) and ((data_row['METER_ORG'] == False) and (data_row[\"SIM_ORG\"] == False)) :\n",
    "        return \"METER , SIM AND METER-SIM LINK FILE REQUIRED\"\n",
    "\n",
    "    #set 3  \"DIFFERENT SET IN SAME UTILITY\"\n",
    "    \n",
    "    elif (data_row['METER_SIM'] == False) and ((data_row['METER_ORG'] == True) and (data_row[\"SIM_ORG\"] == True)) :\n",
    "        return \"SIM AND METER-SIM LINK FILE REQUIRED\"\n",
    " \n",
    "    # set 4  \"DIFFERENT SET IN DIFFERENT UTILITY\"\n",
    "    elif (data_row['METER_SIM'] == False) and ((data_row['METER_ORG'] == False) and (data_row[\"SIM_ORG\"] == False)) :\n",
    "        return \"METER , SIM AND METER-SIM LINK FILE REQUIRED\"\n",
    "    \n",
    "    elif (data_row['METER_SIM'] == False) and (data_row['METER_ORG'] == True) and (data_row[\"SIM_ORG\"] == False) and (data_row['METER_IP'] == False):\n",
    "        return \"SIM AND METER-SIM LINK FILE REQUIRED\"\n",
    "    \n",
    "    elif (data_row['METER_SIM'] == False) and (data_row['METER_ORG'] == True) and (data_row[\"SIM_ORG\"] == False) and (data_row['METER_IP'] == True):\n",
    "        return \"SIM AND METER-SIM LINK FILE REQUIRED\"\n",
    "\n",
    "\n",
    "    # new cases are added in this to handle imsi null\n",
    "    \n",
    "    elif ( data_row['IMSI_MATCHED_METER_NO'] =='nan') and ( data_row['IMSI_MATCHED_IP'] =='nan') and ( data_row['IMSI_MATCHED_STATUS'] =='nan') and (data_row['METER_ORG'] == True ):\n",
    "        return \"SIM AND METER-SIM LINK FILE REQUIRED\"\n",
    "    elif ( data_row['IMSI_MATCHED_METER_NO'] =='nan' ) and ( data_row['IMSI_MATCHED_IP'] =='nan') and ( data_row['IMSI_MATCHED_STATUS'] =='nan') and (data_row['METER_ORG'] == False ):\n",
    "        return \"METER , SIM AND METER-SIM LINK FILE REQUIRED\"\n",
    "    elif ( data_row['IMSI_MATCHED_METER_NO'] =='nan') and ( data_row['IMSI_MATCHED_IP'] =='nan') and ( data_row['IMSI_MATCHED_STATUS'] =='nan')  and ( data_row['METER_MATCH_UDC_ID'] =='nan') and ( data_row['METER_MATCH_IP'] =='nan') and ( data_row['METER_MATCH_STATUS'] =='nan'):\n",
    "        return \"METER , SIM AND METER-SIM LINK FILE REQUIRED\"\n",
    "    \n",
    "    # set is in installed\n",
    "    elif (data_row['METER NO.']+data_row['IMSI']) == data_row['METER NO.']+data_row['METER_MATCH_UDC_ID']:\n",
    "        return \"SET IS IN INSTALLED STAGE\"\n",
    "    \n",
    "    \n",
    "\n",
    "    \n",
    "    else:\n",
    "        return \" NEED TO CHECK THIS FILE\"\n",
    "    \n",
    "    \n",
    "    \n",
    "warehouse_meter_imsi_data[\"ACTION TAKEN\"] =  warehouse_meter_imsi_data.apply(fun_action_taken_case_I, axis=1)"
   ]
  },
  {
   "cell_type": "code",
   "execution_count": 91,
   "metadata": {},
   "outputs": [
    {
     "data": {
      "text/plain": [
       "'\\n# new cases\\n    elif (data_row[\\'METER_MATCH_UTILITY\\'] == warehouse_utility_importation_demand)  and  (data_row[\\'METER_MATCH_STATUS\\']==\\'Installed\\') and (data_row[\\'IMSI_MATCHED_UTILITY\\']== warehouse_utility_importation_demand) and (data_row[\\'IMSI_MATCHED_STATUS\\'] == \\'Installed\\'):\\n        return \\'BOTH INSTALLED IN SAME UTILITY\\'\\n    \\n    elif (data_row[\\'METER_SIM\\'] == False) and (data_row[\\'METER_ORG\\']  == False) and (data_row[\"SIM_ORG\"] == False) and (data_row[\\'METER_IP\\'] == False) and data_row[\\'METER_MATCH_STATUS\\']==\\'Installed\\' :\\n        return \"METER IS IN INSTALLED STAGE\"\\n    \\n    elif (data_row[\\'METER_SIM\\'] == False) and (data_row[\\'METER_ORG\\']  == False) and (data_row[\"SIM_ORG\"] == False) and (data_row[\\'METER_IP\\'] == False) and  data_row[\\'IMSI_MATCHED_STATUS\\']==\\'Installed\\' :\\n        return \"IMSI IS IN INSTALLED STAGE\"\\n    \\n    elif (data_row[\\'METER_SIM\\'] == True) and (data_row[\\'METER_ORG\\']  == False) and (data_row[\"SIM_ORG\"] == False) and (data_row[\\'METER_IP\\'] == False) and data_row[\\'METER_MATCH_STATUS\\']==\\'Installed\\' :\\n        return \"METER IS IN INSTALLED STAGE\"\\n    \\n    elif (data_row[\\'METER_SIM\\'] == True) and (data_row[\\'METER_ORG\\']  == False) and (data_row[\"SIM_ORG\"] == False) and (data_row[\\'METER_IP\\'] == False) and  data_row[\\'IMSI_MATCHED_STATUS\\']==\\'Installed\\' :\\n        return \"IMSI IS IN INSTALLED STAGE\"\\n    \\n    elif (data_row[\\'METER_SIM\\'] == True) and (data_row[\\'METER_ORG\\']  == True) and (data_row[\"SIM_ORG\"] == False) and (data_row[\\'METER_IP\\'] == False) and data_row[\\'METER_MATCH_STATUS\\']==\\'Installed\\' :\\n        return \"METER IS IN INSTALLED STAGE\"\\n    \\n    elif (data_row[\\'METER_SIM\\'] == True) and (data_row[\\'METER_ORG\\']  == True) and (data_row[\"SIM_ORG\"] == False) and (data_row[\\'METER_IP\\'] == False) and  data_row[\\'IMSI_MATCHED_STATUS\\']==\\'Installed\\' :\\n        return \"IMSI IS IN INSTALLED STAGE\"\\n    \\n    elif (data_row[\\'METER_SIM\\'] == True) and (data_row[\\'METER_ORG\\']  == True) and (data_row[\"SIM_ORG\"] == True) and (data_row[\\'METER_IP\\'] == False) and data_row[\\'METER_MATCH_STATUS\\']==\\'Installed\\' :\\n        return \"METER IS IN INSTALLED STAGE\"\\n    \\n    elif (data_row[\\'METER_SIM\\'] == True) and (data_row[\\'METER_ORG\\']  == True) and (data_row[\"SIM_ORG\"] == True) and (data_row[\\'METER_IP\\'] == False) and  data_row[\\'IMSI_MATCHED_STATUS\\']==\\'Installed\\' :\\n        return \"IMSI IS IN INSTALLED STAGE\"\\n\\n    elif (data_row[\\'METER_SIM\\'] == False) and (data_row[\\'METER_ORG\\']  == True) and (data_row[\"SIM_ORG\"] == True) and (data_row[\\'METER_IP\\'] == True) and data_row[\\'METER_MATCH_STATUS\\']==\\'Installed\\' :\\n        return \"METER IS IN INSTALLED STAGE\"\\n    \\n    elif (data_row[\\'METER_SIM\\'] == False) and (data_row[\\'METER_ORG\\']  == True) and (data_row[\"SIM_ORG\"] == True) and (data_row[\\'METER_IP\\'] == True) and  data_row[\\'IMSI_MATCHED_STATUS\\']==\\'Installed\\' :\\n        return \"IMSI IS IN INSTALLED STAGE\"\\n'"
      ]
     },
     "execution_count": 91,
     "metadata": {},
     "output_type": "execute_result"
    }
   ],
   "source": [
    "\"\"\"\n",
    "# new cases\n",
    "    elif (data_row['METER_MATCH_UTILITY'] == warehouse_utility_importation_demand)  and  (data_row['METER_MATCH_STATUS']=='Installed') and (data_row['IMSI_MATCHED_UTILITY']== warehouse_utility_importation_demand) and (data_row['IMSI_MATCHED_STATUS'] == 'Installed'):\n",
    "        return 'BOTH INSTALLED IN SAME UTILITY'\n",
    "    \n",
    "    elif (data_row['METER_SIM'] == False) and (data_row['METER_ORG']  == False) and (data_row[\"SIM_ORG\"] == False) and (data_row['METER_IP'] == False) and data_row['METER_MATCH_STATUS']=='Installed' :\n",
    "        return \"METER IS IN INSTALLED STAGE\"\n",
    "    \n",
    "    elif (data_row['METER_SIM'] == False) and (data_row['METER_ORG']  == False) and (data_row[\"SIM_ORG\"] == False) and (data_row['METER_IP'] == False) and  data_row['IMSI_MATCHED_STATUS']=='Installed' :\n",
    "        return \"IMSI IS IN INSTALLED STAGE\"\n",
    "    \n",
    "    elif (data_row['METER_SIM'] == True) and (data_row['METER_ORG']  == False) and (data_row[\"SIM_ORG\"] == False) and (data_row['METER_IP'] == False) and data_row['METER_MATCH_STATUS']=='Installed' :\n",
    "        return \"METER IS IN INSTALLED STAGE\"\n",
    "    \n",
    "    elif (data_row['METER_SIM'] == True) and (data_row['METER_ORG']  == False) and (data_row[\"SIM_ORG\"] == False) and (data_row['METER_IP'] == False) and  data_row['IMSI_MATCHED_STATUS']=='Installed' :\n",
    "        return \"IMSI IS IN INSTALLED STAGE\"\n",
    "    \n",
    "    elif (data_row['METER_SIM'] == True) and (data_row['METER_ORG']  == True) and (data_row[\"SIM_ORG\"] == False) and (data_row['METER_IP'] == False) and data_row['METER_MATCH_STATUS']=='Installed' :\n",
    "        return \"METER IS IN INSTALLED STAGE\"\n",
    "    \n",
    "    elif (data_row['METER_SIM'] == True) and (data_row['METER_ORG']  == True) and (data_row[\"SIM_ORG\"] == False) and (data_row['METER_IP'] == False) and  data_row['IMSI_MATCHED_STATUS']=='Installed' :\n",
    "        return \"IMSI IS IN INSTALLED STAGE\"\n",
    "    \n",
    "    elif (data_row['METER_SIM'] == True) and (data_row['METER_ORG']  == True) and (data_row[\"SIM_ORG\"] == True) and (data_row['METER_IP'] == False) and data_row['METER_MATCH_STATUS']=='Installed' :\n",
    "        return \"METER IS IN INSTALLED STAGE\"\n",
    "    \n",
    "    elif (data_row['METER_SIM'] == True) and (data_row['METER_ORG']  == True) and (data_row[\"SIM_ORG\"] == True) and (data_row['METER_IP'] == False) and  data_row['IMSI_MATCHED_STATUS']=='Installed' :\n",
    "        return \"IMSI IS IN INSTALLED STAGE\"\n",
    "\n",
    "    elif (data_row['METER_SIM'] == False) and (data_row['METER_ORG']  == True) and (data_row[\"SIM_ORG\"] == True) and (data_row['METER_IP'] == True) and data_row['METER_MATCH_STATUS']=='Installed' :\n",
    "        return \"METER IS IN INSTALLED STAGE\"\n",
    "    \n",
    "    elif (data_row['METER_SIM'] == False) and (data_row['METER_ORG']  == True) and (data_row[\"SIM_ORG\"] == True) and (data_row['METER_IP'] == True) and  data_row['IMSI_MATCHED_STATUS']=='Installed' :\n",
    "        return \"IMSI IS IN INSTALLED STAGE\"\n",
    "\"\"\""
   ]
  },
  {
   "cell_type": "code",
   "execution_count": 92,
   "metadata": {},
   "outputs": [],
   "source": [
    "warehouse_meter_imsi_data.to_csv(r\"C:\\Users\\Ratan Kumar Jha\\Desktop\\METER_IMPORTATION_FOLDER\\OUTPUT_DATA_FILE\\warehouse_meter_imsi_data.csv\",index=False)"
   ]
  },
  {
   "cell_type": "code",
   "execution_count": 93,
   "metadata": {},
   "outputs": [
    {
     "data": {
      "text/html": [
       "<div>\n",
       "<style scoped>\n",
       "    .dataframe tbody tr th:only-of-type {\n",
       "        vertical-align: middle;\n",
       "    }\n",
       "\n",
       "    .dataframe tbody tr th {\n",
       "        vertical-align: top;\n",
       "    }\n",
       "\n",
       "    .dataframe thead th {\n",
       "        text-align: right;\n",
       "    }\n",
       "</style>\n",
       "<table border=\"1\" class=\"dataframe\">\n",
       "  <thead>\n",
       "    <tr style=\"text-align: right;\">\n",
       "      <th></th>\n",
       "      <th>METER NO.</th>\n",
       "      <th>PHASE</th>\n",
       "      <th>WAREHOUSE_UTILITY</th>\n",
       "      <th>IME</th>\n",
       "      <th>FINAL SIM</th>\n",
       "      <th>IMSI</th>\n",
       "      <th>IP</th>\n",
       "      <th>MFG_SERIAL_NUM</th>\n",
       "      <th>METER_MATCH_UDC_ID</th>\n",
       "      <th>METER_MATCH_IP</th>\n",
       "      <th>INSTALLATIONNUMBER</th>\n",
       "      <th>METER_MATCH_STATUS</th>\n",
       "      <th>METER_MATCH_UTILITY</th>\n",
       "      <th>IMSI_MATCHED_METER_NO</th>\n",
       "      <th>IMSI_MATCHED_IP</th>\n",
       "      <th>IMSI_MATCHED_STATUS</th>\n",
       "      <th>IMSI_MATCHED_UTILITY</th>\n",
       "      <th>IP_MATCHED_METER_NO</th>\n",
       "      <th>IP_MATCH_UDC_ID</th>\n",
       "      <th>IP_MATCHED_IP</th>\n",
       "      <th>IP_MATCHED_STATUS</th>\n",
       "      <th>IP_MATCHED_UTILITY</th>\n",
       "      <th>SIM SET CHECK STATUS</th>\n",
       "      <th>METER_SIM</th>\n",
       "      <th>METER_ORG</th>\n",
       "      <th>SIM_ORG</th>\n",
       "      <th>METER_IP</th>\n",
       "      <th>SIM SET CHECK STATUS RECHECK</th>\n",
       "      <th>ACTION TAKEN</th>\n",
       "    </tr>\n",
       "  </thead>\n",
       "  <tbody>\n",
       "    <tr>\n",
       "      <th>0</th>\n",
       "      <td>LT0555992</td>\n",
       "      <td>1 Phase</td>\n",
       "      <td>NBPDCL</td>\n",
       "      <td>865681062851242</td>\n",
       "      <td>8991856040706094571</td>\n",
       "      <td>405856706639593</td>\n",
       "      <td>2405:0203:0529:1B24:0000:0000:0000:0010</td>\n",
       "      <td>LT0555992</td>\n",
       "      <td>405856706639593</td>\n",
       "      <td>2405:0203:0529:1B24:0000:0000:0000:0010</td>\n",
       "      <td>5003226857</td>\n",
       "      <td>Installed</td>\n",
       "      <td>NBPDCL</td>\n",
       "      <td>LT0555992</td>\n",
       "      <td>2405:0203:0529:1B24:0000:0000:0000:0010</td>\n",
       "      <td>Installed</td>\n",
       "      <td>NBPDCL</td>\n",
       "      <td>LT0555992</td>\n",
       "      <td>405856706639593</td>\n",
       "      <td>2405:0203:0529:1B24:0000:0000:0000:0010</td>\n",
       "      <td>Installed</td>\n",
       "      <td>NBPDCL</td>\n",
       "      <td>SAME SET IN SAME UTILITY</td>\n",
       "      <td>True</td>\n",
       "      <td>True</td>\n",
       "      <td>True</td>\n",
       "      <td>True</td>\n",
       "      <td>SAME SET IN SAME UTILITY</td>\n",
       "      <td>SET IS IN INSTALLED STAGE</td>\n",
       "    </tr>\n",
       "  </tbody>\n",
       "</table>\n",
       "</div>"
      ],
      "text/plain": [
       "   METER NO.    PHASE WAREHOUSE_UTILITY              IME            FINAL SIM  \\\n",
       "0  LT0555992  1 Phase            NBPDCL  865681062851242  8991856040706094571   \n",
       "\n",
       "              IMSI                                       IP MFG_SERIAL_NUM  \\\n",
       "0  405856706639593  2405:0203:0529:1B24:0000:0000:0000:0010      LT0555992   \n",
       "\n",
       "  METER_MATCH_UDC_ID                           METER_MATCH_IP  \\\n",
       "0    405856706639593  2405:0203:0529:1B24:0000:0000:0000:0010   \n",
       "\n",
       "  INSTALLATIONNUMBER METER_MATCH_STATUS METER_MATCH_UTILITY  \\\n",
       "0         5003226857          Installed              NBPDCL   \n",
       "\n",
       "  IMSI_MATCHED_METER_NO                          IMSI_MATCHED_IP  \\\n",
       "0             LT0555992  2405:0203:0529:1B24:0000:0000:0000:0010   \n",
       "\n",
       "  IMSI_MATCHED_STATUS IMSI_MATCHED_UTILITY IP_MATCHED_METER_NO  \\\n",
       "0           Installed               NBPDCL           LT0555992   \n",
       "\n",
       "   IP_MATCH_UDC_ID                            IP_MATCHED_IP IP_MATCHED_STATUS  \\\n",
       "0  405856706639593  2405:0203:0529:1B24:0000:0000:0000:0010         Installed   \n",
       "\n",
       "  IP_MATCHED_UTILITY      SIM SET CHECK STATUS  METER_SIM  METER_ORG  SIM_ORG  \\\n",
       "0             NBPDCL  SAME SET IN SAME UTILITY       True       True     True   \n",
       "\n",
       "   METER_IP SIM SET CHECK STATUS RECHECK               ACTION TAKEN  \n",
       "0      True     SAME SET IN SAME UTILITY  SET IS IN INSTALLED STAGE  "
      ]
     },
     "execution_count": 93,
     "metadata": {},
     "output_type": "execute_result"
    }
   ],
   "source": [
    "warehouse_meter_imsi_data.head(1)"
   ]
  },
  {
   "cell_type": "code",
   "execution_count": null,
   "metadata": {},
   "outputs": [],
   "source": []
  },
  {
   "cell_type": "markdown",
   "metadata": {},
   "source": [
    "# user option"
   ]
  },
  {
   "cell_type": "code",
   "execution_count": 94,
   "metadata": {},
   "outputs": [
    {
     "data": {
      "text/plain": [
       "array(['SET IS IN INSTALLED STAGE', 'IMSI IS IN INSTALLED STAGE',\n",
       "       'METER IS IN INSTALLED STAGE', 'BOTH INSTALLED IN SAME UTILITY',\n",
       "       'SIM AND METER-SIM LINK FILE REQUIRED',\n",
       "       'METER-SIM LINK FILE REQUIRED',\n",
       "       'METER , SIM AND METER-SIM LINK FILE REQUIRED',\n",
       "       ' NEED TO CHECK THIS FILE'], dtype=object)"
      ]
     },
     "execution_count": 94,
     "metadata": {},
     "output_type": "execute_result"
    }
   ],
   "source": [
    "warehouse_meter_imsi_data['ACTION TAKEN'].unique()"
   ]
  },
  {
   "cell_type": "code",
   "execution_count": 95,
   "metadata": {},
   "outputs": [],
   "source": [
    "# SEPRATE IMSI,METER,SET INSTALLED  AND OTHER ACTION TAKEN\n",
    "\n",
    "warehouse_meter_imsi_set_installed_Stage = warehouse_meter_imsi_data[(warehouse_meter_imsi_data['ACTION TAKEN'] == \"METER IS IN INSTALLED STAGE\") | \n",
    "                           (warehouse_meter_imsi_data['ACTION TAKEN'] == \"IMSI IS IN INSTALLED STAGE\") |\n",
    "                           (warehouse_meter_imsi_data['ACTION TAKEN'] == \"SET IS IN INSTALLED STAGE\") | \n",
    "                           (warehouse_meter_imsi_data['ACTION TAKEN'] == \"BOTH INSTALLED IN SAME UTILITY\")]\n",
    "\n",
    "warehouse_meter_imsi_other_Action_taken = warehouse_meter_imsi_data[(warehouse_meter_imsi_data['ACTION TAKEN']== \"SIM AND METER-SIM LINK FILE REQUIRED\") |\n",
    "                                                                    (warehouse_meter_imsi_data['ACTION TAKEN']==\"METER-SIM LINK FILE REQUIRED\") |\n",
    "                                                                    (warehouse_meter_imsi_data['ACTION TAKEN']==\"METER , SIM AND METER-SIM LINK FILE REQUIRED\")]"
   ]
  },
  {
   "cell_type": "code",
   "execution_count": 96,
   "metadata": {},
   "outputs": [],
   "source": [
    "# FOR NBPDCL\n",
    "\n",
    "def fun_meter_sim_set_installed_Stage(row):\n",
    "    if (row['METER_MATCH_UTILITY'] == 'NBPDCL')  and  (row['METER_MATCH_STATUS']=='Installed') and (row['IMSI_MATCHED_UTILITY']== 'NBPDCL') and (row['IMSI_MATCHED_STATUS'] == 'Installed'):\n",
    "        return 'BOTH INSTALLED IN SAME UTILITY'\n",
    "    elif (row['METER_MATCH_UTILITY'] == 'NBPDCL')  and  (row['METER_MATCH_STATUS']=='Installed') and (row['IMSI_MATCHED_UTILITY']== 'NBPDCL') and (row['IMSI_MATCHED_STATUS'] != 'Installed'):\n",
    "        return 'METER IS IN INSTALLED STAGE'\n",
    "    elif (row['METER_MATCH_UTILITY'] == 'NBPDCL')  and  (row['METER_MATCH_STATUS'] !='Installed') and (row['IMSI_MATCHED_UTILITY']== 'NBPDCL') and (row['IMSI_MATCHED_STATUS'] == 'Installed'):\n",
    "        return 'IMSI IS IN INSTALLED STAGE'\n",
    "    elif (row['METER_MATCH_UTILITY'] == 'NBPDCL')  and  (row['METER_MATCH_STATUS'] =='Installed') and (row['IMSI_MATCHED_UTILITY']== 'nan') and (row['IMSI_MATCHED_STATUS'] == 'nan'):\n",
    "        return 'METER IS IN INSTALLED STAGE'\n",
    "    \n",
    "    #  another cases\n",
    "    \n",
    "    elif (row['METER_MATCH_UTILITY'] == 'NBPDCL')  and  (row['METER_MATCH_STATUS'] !='Installed') and (row['IMSI_MATCHED_UTILITY']== 'SBPDCL') and (row['IMSI_MATCHED_STATUS'] == 'Installed'):\n",
    "        return 'SIM AND METER-SIM LINK FILE REQUIRED'\n",
    "    elif (row['METER_MATCH_UTILITY'] == 'NBPDCL')  and  (row['METER_MATCH_STATUS'] !='Installed') and (row['IMSI_MATCHED_UTILITY']== 'SBPDCL') and (row['IMSI_MATCHED_STATUS']=='nan'):\n",
    "        return 'SIM AND METER-SIM LINK FILE REQUIRED'\n",
    "    \n",
    "    elif (row['METER_MATCH_UTILITY'] == 'SBPDCL')  and  (row['METER_MATCH_STATUS'] =='Installed') and (row['IMSI_MATCHED_UTILITY']== 'SBPDCL') and (row['IMSI_MATCHED_STATUS'] == 'Installed'):\n",
    "        return 'METER , SIM AND METER-SIM LINK FILE REQUIRED'\n",
    "    elif (row['METER_MATCH_UTILITY'] == 'SBPDCL')  and  (row['METER_MATCH_STATUS'] !='Installed') and (row['IMSI_MATCHED_UTILITY']== 'SBPDCL') and (row['IMSI_MATCHED_STATUS'] == 'Installed'):\n",
    "        return 'METER , SIM AND METER-SIM LINK FILE REQUIRED'\n",
    "  \n",
    "    "
   ]
  },
  {
   "cell_type": "code",
   "execution_count": 97,
   "metadata": {},
   "outputs": [
    {
     "name": "stdout",
     "output_type": "stream",
     "text": [
      "meter is new , new imsi - code flow is same as before no interuption\n"
     ]
    }
   ],
   "source": [
    "\n",
    "if warehouse_utility_importation_demand == \"1\":\n",
    "      \n",
    "    warehouse_meter_imsi_set_installed_Stage.drop(['ACTION TAKEN'], axis=1)    \n",
    "    warehouse_meter_imsi_set_installed_Stage['ACTION TAKEN'] =  warehouse_meter_imsi_set_installed_Stage.apply(fun_meter_sim_set_installed_Stage, axis=1)\n",
    "\n",
    "    warehouse_meter_imsi_set_installed_Stage.to_csv(r\"C:\\Users\\Ratan Kumar Jha\\Desktop\\METER_IMPORTATION_FOLDER\\OUTPUT_DATA_FILE\\warehouse_meter_imsi_set_installed_Stage.csv\",index=False)\n",
    "\n",
    "    #concat\n",
    "    warehouse_meter_imsi_data=pd.concat([warehouse_meter_imsi_other_Action_taken, warehouse_meter_imsi_set_installed_Stage], ignore_index=True)\n",
    "    warehouse_meter_imsi_data.to_csv(r\"C:\\Users\\Ratan Kumar Jha\\Desktop\\METER_IMPORTATION_FOLDER\\OUTPUT_DATA_FILE\\warehouse_meter_imsi_data.csv\",index=False)\n",
    "\n",
    "    \n",
    "elif warehouse_utility_importation_demand == \"2\":\n",
    "    print(\" working on SBPDCL data\")\n",
    "elif warehouse_utility_importation_demand == \"3\":\n",
    "    print(\"meter is new , new imsi - code flow is same as before no interuption\")\n",
    "else:\n",
    "    print(\"plz chose correct option\")\n"
   ]
  },
  {
   "cell_type": "code",
   "execution_count": 98,
   "metadata": {},
   "outputs": [
    {
     "data": {
      "text/plain": [
       "Index(['METER NO.', 'PHASE', 'WAREHOUSE_UTILITY', 'IME', 'FINAL SIM', 'IMSI',\n",
       "       'IP', 'MFG_SERIAL_NUM', 'METER_MATCH_UDC_ID', 'METER_MATCH_IP',\n",
       "       'INSTALLATIONNUMBER', 'METER_MATCH_STATUS', 'METER_MATCH_UTILITY',\n",
       "       'IMSI_MATCHED_METER_NO', 'IMSI_MATCHED_IP', 'IMSI_MATCHED_STATUS',\n",
       "       'IMSI_MATCHED_UTILITY', 'IP_MATCHED_METER_NO', 'IP_MATCH_UDC_ID',\n",
       "       'IP_MATCHED_IP', 'IP_MATCHED_STATUS', 'IP_MATCHED_UTILITY',\n",
       "       'SIM SET CHECK STATUS', 'METER_SIM', 'METER_ORG', 'SIM_ORG', 'METER_IP',\n",
       "       'SIM SET CHECK STATUS RECHECK', 'ACTION TAKEN'],\n",
       "      dtype='object')"
      ]
     },
     "execution_count": 98,
     "metadata": {},
     "output_type": "execute_result"
    }
   ],
   "source": [
    "warehouse_meter_imsi_set_installed_Stage.columns"
   ]
  },
  {
   "cell_type": "code",
   "execution_count": null,
   "metadata": {},
   "outputs": [],
   "source": []
  },
  {
   "cell_type": "code",
   "execution_count": 99,
   "metadata": {},
   "outputs": [
    {
     "data": {
      "text/plain": [
       "METER NO.                       6675\n",
       "PHASE                           6675\n",
       "WAREHOUSE_UTILITY               6675\n",
       "IME                             6675\n",
       "FINAL SIM                       6675\n",
       "IMSI                            6675\n",
       "IP                              6675\n",
       "MFG_SERIAL_NUM                  6675\n",
       "METER_MATCH_UDC_ID              6675\n",
       "METER_MATCH_IP                  6675\n",
       "INSTALLATIONNUMBER              6675\n",
       "METER_MATCH_STATUS              6675\n",
       "METER_MATCH_UTILITY             6675\n",
       "IMSI_MATCHED_METER_NO           6675\n",
       "IMSI_MATCHED_IP                 6675\n",
       "IMSI_MATCHED_STATUS             6675\n",
       "IMSI_MATCHED_UTILITY            6675\n",
       "IP_MATCHED_METER_NO             6675\n",
       "IP_MATCH_UDC_ID                 6675\n",
       "IP_MATCHED_IP                   6675\n",
       "IP_MATCHED_STATUS               6675\n",
       "IP_MATCHED_UTILITY              6675\n",
       "SIM SET CHECK STATUS            6675\n",
       "METER_SIM                       6675\n",
       "METER_ORG                       6675\n",
       "SIM_ORG                         6675\n",
       "METER_IP                        6675\n",
       "SIM SET CHECK STATUS RECHECK    6675\n",
       "ACTION TAKEN                    6675\n",
       "dtype: int64"
      ]
     },
     "execution_count": 99,
     "metadata": {},
     "output_type": "execute_result"
    }
   ],
   "source": [
    "warehouse_meter_imsi_data[warehouse_meter_imsi_data['IMSI_MATCHED_METER_NO']!='nan'].count()"
   ]
  },
  {
   "cell_type": "code",
   "execution_count": 100,
   "metadata": {},
   "outputs": [
    {
     "data": {
      "text/html": [
       "<div>\n",
       "<style scoped>\n",
       "    .dataframe tbody tr th:only-of-type {\n",
       "        vertical-align: middle;\n",
       "    }\n",
       "\n",
       "    .dataframe tbody tr th {\n",
       "        vertical-align: top;\n",
       "    }\n",
       "\n",
       "    .dataframe thead th {\n",
       "        text-align: right;\n",
       "    }\n",
       "</style>\n",
       "<table border=\"1\" class=\"dataframe\">\n",
       "  <thead>\n",
       "    <tr style=\"text-align: right;\">\n",
       "      <th></th>\n",
       "      <th>METER NO.</th>\n",
       "      <th>PHASE</th>\n",
       "      <th>WAREHOUSE_UTILITY</th>\n",
       "      <th>IME</th>\n",
       "      <th>FINAL SIM</th>\n",
       "      <th>IMSI</th>\n",
       "      <th>IP</th>\n",
       "      <th>MFG_SERIAL_NUM</th>\n",
       "      <th>METER_MATCH_UDC_ID</th>\n",
       "      <th>METER_MATCH_IP</th>\n",
       "      <th>INSTALLATIONNUMBER</th>\n",
       "      <th>METER_MATCH_STATUS</th>\n",
       "      <th>METER_MATCH_UTILITY</th>\n",
       "      <th>IMSI_MATCHED_METER_NO</th>\n",
       "      <th>IMSI_MATCHED_IP</th>\n",
       "      <th>IMSI_MATCHED_STATUS</th>\n",
       "      <th>IMSI_MATCHED_UTILITY</th>\n",
       "      <th>IP_MATCHED_METER_NO</th>\n",
       "      <th>IP_MATCH_UDC_ID</th>\n",
       "      <th>IP_MATCHED_IP</th>\n",
       "      <th>IP_MATCHED_STATUS</th>\n",
       "      <th>IP_MATCHED_UTILITY</th>\n",
       "      <th>SIM SET CHECK STATUS</th>\n",
       "      <th>METER_SIM</th>\n",
       "      <th>METER_ORG</th>\n",
       "      <th>SIM_ORG</th>\n",
       "      <th>METER_IP</th>\n",
       "      <th>SIM SET CHECK STATUS RECHECK</th>\n",
       "      <th>ACTION TAKEN</th>\n",
       "    </tr>\n",
       "  </thead>\n",
       "  <tbody>\n",
       "    <tr>\n",
       "      <th>0</th>\n",
       "      <td>LT0555992</td>\n",
       "      <td>1 Phase</td>\n",
       "      <td>NBPDCL</td>\n",
       "      <td>865681062851242</td>\n",
       "      <td>8991856040706094571</td>\n",
       "      <td>405856706639593</td>\n",
       "      <td>2405:0203:0529:1B24:0000:0000:0000:0010</td>\n",
       "      <td>LT0555992</td>\n",
       "      <td>405856706639593</td>\n",
       "      <td>2405:0203:0529:1B24:0000:0000:0000:0010</td>\n",
       "      <td>5003226857</td>\n",
       "      <td>Installed</td>\n",
       "      <td>NBPDCL</td>\n",
       "      <td>LT0555992</td>\n",
       "      <td>2405:0203:0529:1B24:0000:0000:0000:0010</td>\n",
       "      <td>Installed</td>\n",
       "      <td>NBPDCL</td>\n",
       "      <td>LT0555992</td>\n",
       "      <td>405856706639593</td>\n",
       "      <td>2405:0203:0529:1B24:0000:0000:0000:0010</td>\n",
       "      <td>Installed</td>\n",
       "      <td>NBPDCL</td>\n",
       "      <td>SAME SET IN SAME UTILITY</td>\n",
       "      <td>True</td>\n",
       "      <td>True</td>\n",
       "      <td>True</td>\n",
       "      <td>True</td>\n",
       "      <td>SAME SET IN SAME UTILITY</td>\n",
       "      <td>SET IS IN INSTALLED STAGE</td>\n",
       "    </tr>\n",
       "    <tr>\n",
       "      <th>1</th>\n",
       "      <td>LT0575586</td>\n",
       "      <td>1 Phase</td>\n",
       "      <td>NBPDCL</td>\n",
       "      <td>865681062819025</td>\n",
       "      <td>8991856040706117561</td>\n",
       "      <td>405856706662583</td>\n",
       "      <td>2405:0203:0529:969C:0000:0000:0000:0010</td>\n",
       "      <td>LT0575586</td>\n",
       "      <td>405856706662583</td>\n",
       "      <td>2405:0203:0529:969C:0000:0000:0000:0010</td>\n",
       "      <td>5003886123</td>\n",
       "      <td>Installed</td>\n",
       "      <td>NBPDCL</td>\n",
       "      <td>LT0575586</td>\n",
       "      <td>2405:0203:0529:969C:0000:0000:0000:0010</td>\n",
       "      <td>Installed</td>\n",
       "      <td>NBPDCL</td>\n",
       "      <td>LT0575586</td>\n",
       "      <td>405856706662583</td>\n",
       "      <td>2405:0203:0529:969C:0000:0000:0000:0010</td>\n",
       "      <td>Installed</td>\n",
       "      <td>NBPDCL</td>\n",
       "      <td>SAME SET IN SAME UTILITY</td>\n",
       "      <td>True</td>\n",
       "      <td>True</td>\n",
       "      <td>True</td>\n",
       "      <td>True</td>\n",
       "      <td>SAME SET IN SAME UTILITY</td>\n",
       "      <td>SET IS IN INSTALLED STAGE</td>\n",
       "    </tr>\n",
       "  </tbody>\n",
       "</table>\n",
       "</div>"
      ],
      "text/plain": [
       "   METER NO.    PHASE WAREHOUSE_UTILITY              IME            FINAL SIM  \\\n",
       "0  LT0555992  1 Phase            NBPDCL  865681062851242  8991856040706094571   \n",
       "1  LT0575586  1 Phase            NBPDCL  865681062819025  8991856040706117561   \n",
       "\n",
       "              IMSI                                       IP MFG_SERIAL_NUM  \\\n",
       "0  405856706639593  2405:0203:0529:1B24:0000:0000:0000:0010      LT0555992   \n",
       "1  405856706662583  2405:0203:0529:969C:0000:0000:0000:0010      LT0575586   \n",
       "\n",
       "  METER_MATCH_UDC_ID                           METER_MATCH_IP  \\\n",
       "0    405856706639593  2405:0203:0529:1B24:0000:0000:0000:0010   \n",
       "1    405856706662583  2405:0203:0529:969C:0000:0000:0000:0010   \n",
       "\n",
       "  INSTALLATIONNUMBER METER_MATCH_STATUS METER_MATCH_UTILITY  \\\n",
       "0         5003226857          Installed              NBPDCL   \n",
       "1         5003886123          Installed              NBPDCL   \n",
       "\n",
       "  IMSI_MATCHED_METER_NO                          IMSI_MATCHED_IP  \\\n",
       "0             LT0555992  2405:0203:0529:1B24:0000:0000:0000:0010   \n",
       "1             LT0575586  2405:0203:0529:969C:0000:0000:0000:0010   \n",
       "\n",
       "  IMSI_MATCHED_STATUS IMSI_MATCHED_UTILITY IP_MATCHED_METER_NO  \\\n",
       "0           Installed               NBPDCL           LT0555992   \n",
       "1           Installed               NBPDCL           LT0575586   \n",
       "\n",
       "   IP_MATCH_UDC_ID                            IP_MATCHED_IP IP_MATCHED_STATUS  \\\n",
       "0  405856706639593  2405:0203:0529:1B24:0000:0000:0000:0010         Installed   \n",
       "1  405856706662583  2405:0203:0529:969C:0000:0000:0000:0010         Installed   \n",
       "\n",
       "  IP_MATCHED_UTILITY      SIM SET CHECK STATUS  METER_SIM  METER_ORG  SIM_ORG  \\\n",
       "0             NBPDCL  SAME SET IN SAME UTILITY       True       True     True   \n",
       "1             NBPDCL  SAME SET IN SAME UTILITY       True       True     True   \n",
       "\n",
       "   METER_IP SIM SET CHECK STATUS RECHECK               ACTION TAKEN  \n",
       "0      True     SAME SET IN SAME UTILITY  SET IS IN INSTALLED STAGE  \n",
       "1      True     SAME SET IN SAME UTILITY  SET IS IN INSTALLED STAGE  "
      ]
     },
     "execution_count": 100,
     "metadata": {},
     "output_type": "execute_result"
    }
   ],
   "source": [
    "warehouse_meter_imsi_data.head(2)"
   ]
  },
  {
   "cell_type": "markdown",
   "metadata": {},
   "source": [
    "# Finally done"
   ]
  },
  {
   "cell_type": "code",
   "execution_count": 101,
   "metadata": {},
   "outputs": [
    {
     "data": {
      "text/html": [
       "<div>\n",
       "<style scoped>\n",
       "    .dataframe tbody tr th:only-of-type {\n",
       "        vertical-align: middle;\n",
       "    }\n",
       "\n",
       "    .dataframe tbody tr th {\n",
       "        vertical-align: top;\n",
       "    }\n",
       "\n",
       "    .dataframe thead th {\n",
       "        text-align: right;\n",
       "    }\n",
       "</style>\n",
       "<table border=\"1\" class=\"dataframe\">\n",
       "  <thead>\n",
       "    <tr style=\"text-align: right;\">\n",
       "      <th></th>\n",
       "      <th>METER NO.</th>\n",
       "      <th>PHASE</th>\n",
       "      <th>WAREHOUSE_UTILITY</th>\n",
       "      <th>IME</th>\n",
       "      <th>FINAL SIM</th>\n",
       "      <th>IMSI</th>\n",
       "      <th>IP</th>\n",
       "      <th>MFG_SERIAL_NUM</th>\n",
       "      <th>METER_MATCH_UDC_ID</th>\n",
       "      <th>METER_MATCH_IP</th>\n",
       "      <th>INSTALLATIONNUMBER</th>\n",
       "      <th>METER_MATCH_STATUS</th>\n",
       "      <th>METER_MATCH_UTILITY</th>\n",
       "      <th>IMSI_MATCHED_METER_NO</th>\n",
       "      <th>IMSI_MATCHED_IP</th>\n",
       "      <th>IMSI_MATCHED_STATUS</th>\n",
       "      <th>IMSI_MATCHED_UTILITY</th>\n",
       "      <th>IP_MATCHED_METER_NO</th>\n",
       "      <th>IP_MATCH_UDC_ID</th>\n",
       "      <th>IP_MATCHED_IP</th>\n",
       "      <th>IP_MATCHED_STATUS</th>\n",
       "      <th>IP_MATCHED_UTILITY</th>\n",
       "      <th>SIM SET CHECK STATUS</th>\n",
       "      <th>METER_SIM</th>\n",
       "      <th>METER_ORG</th>\n",
       "      <th>SIM_ORG</th>\n",
       "      <th>METER_IP</th>\n",
       "      <th>SIM SET CHECK STATUS RECHECK</th>\n",
       "      <th>ACTION TAKEN</th>\n",
       "    </tr>\n",
       "  </thead>\n",
       "  <tbody>\n",
       "    <tr>\n",
       "      <th>0</th>\n",
       "      <td>LT0555992</td>\n",
       "      <td>1 Phase</td>\n",
       "      <td>NBPDCL</td>\n",
       "      <td>865681062851242</td>\n",
       "      <td>8991856040706094571</td>\n",
       "      <td>405856706639593</td>\n",
       "      <td>2405:0203:0529:1B24:0000:0000:0000:0010</td>\n",
       "      <td>LT0555992</td>\n",
       "      <td>405856706639593</td>\n",
       "      <td>2405:0203:0529:1B24:0000:0000:0000:0010</td>\n",
       "      <td>5003226857</td>\n",
       "      <td>Installed</td>\n",
       "      <td>NBPDCL</td>\n",
       "      <td>LT0555992</td>\n",
       "      <td>2405:0203:0529:1B24:0000:0000:0000:0010</td>\n",
       "      <td>Installed</td>\n",
       "      <td>NBPDCL</td>\n",
       "      <td>LT0555992</td>\n",
       "      <td>405856706639593</td>\n",
       "      <td>2405:0203:0529:1B24:0000:0000:0000:0010</td>\n",
       "      <td>Installed</td>\n",
       "      <td>NBPDCL</td>\n",
       "      <td>SAME SET IN SAME UTILITY</td>\n",
       "      <td>True</td>\n",
       "      <td>True</td>\n",
       "      <td>True</td>\n",
       "      <td>True</td>\n",
       "      <td>SAME SET IN SAME UTILITY</td>\n",
       "      <td>SET IS IN INSTALLED STAGE</td>\n",
       "    </tr>\n",
       "  </tbody>\n",
       "</table>\n",
       "</div>"
      ],
      "text/plain": [
       "   METER NO.    PHASE WAREHOUSE_UTILITY              IME            FINAL SIM  \\\n",
       "0  LT0555992  1 Phase            NBPDCL  865681062851242  8991856040706094571   \n",
       "\n",
       "              IMSI                                       IP MFG_SERIAL_NUM  \\\n",
       "0  405856706639593  2405:0203:0529:1B24:0000:0000:0000:0010      LT0555992   \n",
       "\n",
       "  METER_MATCH_UDC_ID                           METER_MATCH_IP  \\\n",
       "0    405856706639593  2405:0203:0529:1B24:0000:0000:0000:0010   \n",
       "\n",
       "  INSTALLATIONNUMBER METER_MATCH_STATUS METER_MATCH_UTILITY  \\\n",
       "0         5003226857          Installed              NBPDCL   \n",
       "\n",
       "  IMSI_MATCHED_METER_NO                          IMSI_MATCHED_IP  \\\n",
       "0             LT0555992  2405:0203:0529:1B24:0000:0000:0000:0010   \n",
       "\n",
       "  IMSI_MATCHED_STATUS IMSI_MATCHED_UTILITY IP_MATCHED_METER_NO  \\\n",
       "0           Installed               NBPDCL           LT0555992   \n",
       "\n",
       "   IP_MATCH_UDC_ID                            IP_MATCHED_IP IP_MATCHED_STATUS  \\\n",
       "0  405856706639593  2405:0203:0529:1B24:0000:0000:0000:0010         Installed   \n",
       "\n",
       "  IP_MATCHED_UTILITY      SIM SET CHECK STATUS  METER_SIM  METER_ORG  SIM_ORG  \\\n",
       "0             NBPDCL  SAME SET IN SAME UTILITY       True       True     True   \n",
       "\n",
       "   METER_IP SIM SET CHECK STATUS RECHECK               ACTION TAKEN  \n",
       "0      True     SAME SET IN SAME UTILITY  SET IS IN INSTALLED STAGE  "
      ]
     },
     "execution_count": 101,
     "metadata": {},
     "output_type": "execute_result"
    }
   ],
   "source": [
    "warehouse_meter_imsi_data.head(1)"
   ]
  },
  {
   "cell_type": "code",
   "execution_count": 102,
   "metadata": {},
   "outputs": [],
   "source": [
    "\n",
    "# Custom function to update meter numbers\n",
    "def update_meter_number(meter_number):\n",
    "    if meter_number.startswith('GP') or meter_number.startswith('GL'):\n",
    "        return 'GOE' + meter_number\n",
    "    elif meter_number.startswith('LT'):\n",
    "        return 'LNT' + meter_number\n",
    "    else:\n",
    "        return meter_number\n",
    "\n",
    "# Apply the custom function to each element in the 'METER NO.' column\n",
    "warehouse_meter_imsi_data['NEW_METER_NUMBER'] = warehouse_meter_imsi_data['METER NO.'].apply(update_meter_number)\n",
    "\n",
    "\n"
   ]
  },
  {
   "cell_type": "code",
   "execution_count": 103,
   "metadata": {},
   "outputs": [],
   "source": [
    "# adding duplicate and unique in data set \n",
    "\n",
    "warehouse_meter_imsi_data['Duplicated'] = warehouse_meter_imsi_data.duplicated(subset=['METER NO.']).map({True: 'Duplicated', False: 'Unique'})"
   ]
  },
  {
   "cell_type": "code",
   "execution_count": null,
   "metadata": {},
   "outputs": [],
   "source": []
  },
  {
   "cell_type": "markdown",
   "metadata": {},
   "source": [
    "# taking only unique data"
   ]
  },
  {
   "cell_type": "code",
   "execution_count": 104,
   "metadata": {},
   "outputs": [
    {
     "data": {
      "text/plain": [
       "array(['Unique', 'Duplicated'], dtype=object)"
      ]
     },
     "execution_count": 104,
     "metadata": {},
     "output_type": "execute_result"
    }
   ],
   "source": [
    "warehouse_meter_imsi_data['Duplicated'].unique()"
   ]
  },
  {
   "cell_type": "code",
   "execution_count": 105,
   "metadata": {},
   "outputs": [
    {
     "data": {
      "text/plain": [
       "array(['Unique'], dtype=object)"
      ]
     },
     "execution_count": 105,
     "metadata": {},
     "output_type": "execute_result"
    }
   ],
   "source": [
    "warehouse_meter_imsi_data =  warehouse_meter_imsi_data[warehouse_meter_imsi_data['Duplicated'] == 'Unique']\n",
    "\n",
    "\n",
    "# unique in duplicated column\n",
    "warehouse_meter_imsi_data['Duplicated'].unique()"
   ]
  },
  {
   "cell_type": "code",
   "execution_count": 106,
   "metadata": {},
   "outputs": [
    {
     "data": {
      "text/plain": [
       "(5776, 31)"
      ]
     },
     "execution_count": 106,
     "metadata": {},
     "output_type": "execute_result"
    }
   ],
   "source": [
    "warehouse_meter_imsi_data.shape"
   ]
  },
  {
   "cell_type": "code",
   "execution_count": null,
   "metadata": {},
   "outputs": [],
   "source": []
  },
  {
   "cell_type": "markdown",
   "metadata": {},
   "source": [
    "# FINAL FILE SAVE AT MULTIPLE LOCATION"
   ]
  },
  {
   "cell_type": "code",
   "execution_count": 107,
   "metadata": {},
   "outputs": [],
   "source": [
    "# Final file at desktop folder\n",
    "\n",
    "warehouse_meter_imsi_data.to_csv(r'C:\\Users\\Ratan Kumar Jha\\Desktop\\METER_IMPORTATION_FOLDER\\OUTPUT_DATA_FILE\\warehouse_Data_meter_sim_final.csv',index=False)\n",
    "\n",
    "\n",
    "# Final file in code folder\n",
    "\n",
    "warehouse_meter_imsi_data.to_csv(r\"C:\\PYTHON\\EDF_CODE_AUTOMATION_PYTHON\\METER_MATCHING_DATA\\warehouse_Data_meter_sim_final.csv\",index=False)"
   ]
  },
  {
   "cell_type": "code",
   "execution_count": 108,
   "metadata": {},
   "outputs": [],
   "source": [
    "warehouse_meter_imsi_data_check=pd.read_csv(r\"C:\\PYTHON\\EDF_CODE_AUTOMATION_PYTHON\\METER_MATCHING_DATA\\warehouse_Data_meter_sim_final.csv\")"
   ]
  },
  {
   "cell_type": "code",
   "execution_count": 109,
   "metadata": {},
   "outputs": [],
   "source": [
    "# Convert all columns to string data type\n",
    "\n",
    "# change into str\n",
    "warehouse_meter_imsi_data_check = warehouse_meter_imsi_data_check.astype(str)\n",
    "\n",
    "# ----------------------------------------------------------------------------------\n",
    "\n",
    "# change into upper\n",
    "warehouse_meter_imsi_data_check.columns = warehouse_meter_imsi_data_check.columns.str.upper()\n",
    "\n",
    "# ----------------------------------------------------------------------------------\n",
    "\n",
    "# Remove leading and trailing whitespaces from all columns where dtype is 'O'\n",
    "warehouse_meter_imsi_data_check = warehouse_meter_imsi_data_check.apply(lambda x: x.str.strip() if x.dtype == 'O' else x)"
   ]
  },
  {
   "cell_type": "code",
   "execution_count": null,
   "metadata": {},
   "outputs": [],
   "source": []
  },
  {
   "cell_type": "markdown",
   "metadata": {},
   "source": [
    "# NEED TO CHECK FILE"
   ]
  },
  {
   "cell_type": "code",
   "execution_count": 110,
   "metadata": {},
   "outputs": [],
   "source": [
    "NEED_TO_CHECK_FILE_WAREHOUSE_METER_SIM = warehouse_meter_imsi_data_check[warehouse_meter_imsi_data_check['ACTION TAKEN']=='NEED TO CHECK THIS FILE']"
   ]
  },
  {
   "cell_type": "code",
   "execution_count": 111,
   "metadata": {},
   "outputs": [
    {
     "data": {
      "text/html": [
       "<div>\n",
       "<style scoped>\n",
       "    .dataframe tbody tr th:only-of-type {\n",
       "        vertical-align: middle;\n",
       "    }\n",
       "\n",
       "    .dataframe tbody tr th {\n",
       "        vertical-align: top;\n",
       "    }\n",
       "\n",
       "    .dataframe thead th {\n",
       "        text-align: right;\n",
       "    }\n",
       "</style>\n",
       "<table border=\"1\" class=\"dataframe\">\n",
       "  <thead>\n",
       "    <tr style=\"text-align: right;\">\n",
       "      <th></th>\n",
       "      <th>METER NO.</th>\n",
       "      <th>PHASE</th>\n",
       "      <th>WAREHOUSE_UTILITY</th>\n",
       "      <th>IME</th>\n",
       "      <th>FINAL SIM</th>\n",
       "      <th>IMSI</th>\n",
       "      <th>IP</th>\n",
       "      <th>MFG_SERIAL_NUM</th>\n",
       "      <th>METER_MATCH_UDC_ID</th>\n",
       "      <th>METER_MATCH_IP</th>\n",
       "      <th>INSTALLATIONNUMBER</th>\n",
       "      <th>METER_MATCH_STATUS</th>\n",
       "      <th>METER_MATCH_UTILITY</th>\n",
       "      <th>IMSI_MATCHED_METER_NO</th>\n",
       "      <th>IMSI_MATCHED_IP</th>\n",
       "      <th>IMSI_MATCHED_STATUS</th>\n",
       "      <th>IMSI_MATCHED_UTILITY</th>\n",
       "      <th>IP_MATCHED_METER_NO</th>\n",
       "      <th>IP_MATCH_UDC_ID</th>\n",
       "      <th>IP_MATCHED_IP</th>\n",
       "      <th>IP_MATCHED_STATUS</th>\n",
       "      <th>IP_MATCHED_UTILITY</th>\n",
       "      <th>SIM SET CHECK STATUS</th>\n",
       "      <th>METER_SIM</th>\n",
       "      <th>METER_ORG</th>\n",
       "      <th>SIM_ORG</th>\n",
       "      <th>METER_IP</th>\n",
       "      <th>SIM SET CHECK STATUS RECHECK</th>\n",
       "      <th>ACTION TAKEN</th>\n",
       "      <th>NEW_METER_NUMBER</th>\n",
       "      <th>DUPLICATED</th>\n",
       "    </tr>\n",
       "  </thead>\n",
       "  <tbody>\n",
       "    <tr>\n",
       "      <th>5532</th>\n",
       "      <td>Gl8877628</td>\n",
       "      <td>1 Phase</td>\n",
       "      <td>SBPDCL</td>\n",
       "      <td>862058060949844</td>\n",
       "      <td>8991856040708414354</td>\n",
       "      <td>405856708959358</td>\n",
       "      <td>2405:0203:0534:5413:0000:0000:0000:0010</td>\n",
       "      <td>nan</td>\n",
       "      <td>nan</td>\n",
       "      <td>nan</td>\n",
       "      <td>nan</td>\n",
       "      <td>nan</td>\n",
       "      <td>nan</td>\n",
       "      <td>GL9053624</td>\n",
       "      <td>2405:0203:0534:5413:0000:0000:0000:0010</td>\n",
       "      <td>Retired</td>\n",
       "      <td>SBPDCL</td>\n",
       "      <td>GL9053624</td>\n",
       "      <td>405856708959358</td>\n",
       "      <td>2405:0203:0534:5413:0000:0000:0000:0010</td>\n",
       "      <td>Retired</td>\n",
       "      <td>SBPDCL</td>\n",
       "      <td>DIFFERENT SET IN DIFFERENT UTILITY</td>\n",
       "      <td>False</td>\n",
       "      <td>False</td>\n",
       "      <td>True</td>\n",
       "      <td>False</td>\n",
       "      <td>DIFFERENT SET IN DIFFERENT UTILITY</td>\n",
       "      <td>NEED TO CHECK THIS FILE</td>\n",
       "      <td>Gl8877628</td>\n",
       "      <td>Unique</td>\n",
       "    </tr>\n",
       "    <tr>\n",
       "      <th>5533</th>\n",
       "      <td>Gl8877948</td>\n",
       "      <td>1 Phase</td>\n",
       "      <td>SBPDCL</td>\n",
       "      <td>862058062182162</td>\n",
       "      <td>8991856040706502874</td>\n",
       "      <td>405856707047883</td>\n",
       "      <td>2405:0203:0532:7841:0000:0000:0000:0010</td>\n",
       "      <td>nan</td>\n",
       "      <td>nan</td>\n",
       "      <td>nan</td>\n",
       "      <td>nan</td>\n",
       "      <td>nan</td>\n",
       "      <td>nan</td>\n",
       "      <td>GL8986731</td>\n",
       "      <td>2405:0203:0532:7841:0000:0000:0000:0010</td>\n",
       "      <td>Retired</td>\n",
       "      <td>SBPDCL</td>\n",
       "      <td>GL8986731</td>\n",
       "      <td>405856707047883</td>\n",
       "      <td>2405:0203:0532:7841:0000:0000:0000:0010</td>\n",
       "      <td>Retired</td>\n",
       "      <td>SBPDCL</td>\n",
       "      <td>DIFFERENT SET IN DIFFERENT UTILITY</td>\n",
       "      <td>False</td>\n",
       "      <td>False</td>\n",
       "      <td>True</td>\n",
       "      <td>False</td>\n",
       "      <td>DIFFERENT SET IN DIFFERENT UTILITY</td>\n",
       "      <td>NEED TO CHECK THIS FILE</td>\n",
       "      <td>Gl8877948</td>\n",
       "      <td>Unique</td>\n",
       "    </tr>\n",
       "    <tr>\n",
       "      <th>5534</th>\n",
       "      <td>Gl8969668</td>\n",
       "      <td>1 Phase</td>\n",
       "      <td>SBPDCL</td>\n",
       "      <td>862058061870361</td>\n",
       "      <td>8991856040706155633</td>\n",
       "      <td>405856706700654</td>\n",
       "      <td>2405:0203:0528:5573:0000:0000:0000:0010</td>\n",
       "      <td>nan</td>\n",
       "      <td>nan</td>\n",
       "      <td>nan</td>\n",
       "      <td>nan</td>\n",
       "      <td>nan</td>\n",
       "      <td>nan</td>\n",
       "      <td>GL8553464</td>\n",
       "      <td>2405:0203:0528:5573:0000:0000:0000:0010</td>\n",
       "      <td>Retired</td>\n",
       "      <td>SBPDCL</td>\n",
       "      <td>GL8553464</td>\n",
       "      <td>405856706700654</td>\n",
       "      <td>2405:0203:0528:5573:0000:0000:0000:0010</td>\n",
       "      <td>Retired</td>\n",
       "      <td>SBPDCL</td>\n",
       "      <td>DIFFERENT SET IN DIFFERENT UTILITY</td>\n",
       "      <td>False</td>\n",
       "      <td>False</td>\n",
       "      <td>True</td>\n",
       "      <td>False</td>\n",
       "      <td>DIFFERENT SET IN DIFFERENT UTILITY</td>\n",
       "      <td>NEED TO CHECK THIS FILE</td>\n",
       "      <td>Gl8969668</td>\n",
       "      <td>Unique</td>\n",
       "    </tr>\n",
       "    <tr>\n",
       "      <th>5535</th>\n",
       "      <td>Gl8890626</td>\n",
       "      <td>1 Phase</td>\n",
       "      <td>SBPDCL</td>\n",
       "      <td>862058062425421</td>\n",
       "      <td>8991856040706286716</td>\n",
       "      <td>405856706831725</td>\n",
       "      <td>2405:0203:0528:5EC3:0000:0000:0000:0010</td>\n",
       "      <td>nan</td>\n",
       "      <td>nan</td>\n",
       "      <td>nan</td>\n",
       "      <td>nan</td>\n",
       "      <td>nan</td>\n",
       "      <td>nan</td>\n",
       "      <td>GL8555848</td>\n",
       "      <td>2405:0203:0528:5EC3:0000:0000:0000:0010</td>\n",
       "      <td>Refurbished</td>\n",
       "      <td>SBPDCL</td>\n",
       "      <td>GL8555848</td>\n",
       "      <td>405856706831725</td>\n",
       "      <td>2405:0203:0528:5EC3:0000:0000:0000:0010</td>\n",
       "      <td>Refurbished</td>\n",
       "      <td>SBPDCL</td>\n",
       "      <td>DIFFERENT SET IN DIFFERENT UTILITY</td>\n",
       "      <td>False</td>\n",
       "      <td>False</td>\n",
       "      <td>True</td>\n",
       "      <td>False</td>\n",
       "      <td>DIFFERENT SET IN DIFFERENT UTILITY</td>\n",
       "      <td>NEED TO CHECK THIS FILE</td>\n",
       "      <td>Gl8890626</td>\n",
       "      <td>Unique</td>\n",
       "    </tr>\n",
       "    <tr>\n",
       "      <th>5541</th>\n",
       "      <td>Gl8877859</td>\n",
       "      <td>1 Phase</td>\n",
       "      <td>SBPDCL</td>\n",
       "      <td>862058060199119</td>\n",
       "      <td>8991856040706503592</td>\n",
       "      <td>405856707048601</td>\n",
       "      <td>2405:0203:0532:7296:0000:0000:0000:0010</td>\n",
       "      <td>nan</td>\n",
       "      <td>nan</td>\n",
       "      <td>nan</td>\n",
       "      <td>nan</td>\n",
       "      <td>nan</td>\n",
       "      <td>nan</td>\n",
       "      <td>GL8985280</td>\n",
       "      <td>2405:0203:0532:7296:0000:0000:0000:0010</td>\n",
       "      <td>Retired</td>\n",
       "      <td>SBPDCL</td>\n",
       "      <td>GL8985280</td>\n",
       "      <td>405856707048601</td>\n",
       "      <td>2405:0203:0532:7296:0000:0000:0000:0010</td>\n",
       "      <td>Retired</td>\n",
       "      <td>SBPDCL</td>\n",
       "      <td>DIFFERENT SET IN DIFFERENT UTILITY</td>\n",
       "      <td>False</td>\n",
       "      <td>False</td>\n",
       "      <td>True</td>\n",
       "      <td>False</td>\n",
       "      <td>DIFFERENT SET IN DIFFERENT UTILITY</td>\n",
       "      <td>NEED TO CHECK THIS FILE</td>\n",
       "      <td>Gl8877859</td>\n",
       "      <td>Unique</td>\n",
       "    </tr>\n",
       "  </tbody>\n",
       "</table>\n",
       "</div>"
      ],
      "text/plain": [
       "      METER NO.    PHASE WAREHOUSE_UTILITY              IME  \\\n",
       "5532  Gl8877628  1 Phase            SBPDCL  862058060949844   \n",
       "5533  Gl8877948  1 Phase            SBPDCL  862058062182162   \n",
       "5534  Gl8969668  1 Phase            SBPDCL  862058061870361   \n",
       "5535  Gl8890626  1 Phase            SBPDCL  862058062425421   \n",
       "5541  Gl8877859  1 Phase            SBPDCL  862058060199119   \n",
       "\n",
       "                FINAL SIM             IMSI  \\\n",
       "5532  8991856040708414354  405856708959358   \n",
       "5533  8991856040706502874  405856707047883   \n",
       "5534  8991856040706155633  405856706700654   \n",
       "5535  8991856040706286716  405856706831725   \n",
       "5541  8991856040706503592  405856707048601   \n",
       "\n",
       "                                           IP MFG_SERIAL_NUM  \\\n",
       "5532  2405:0203:0534:5413:0000:0000:0000:0010            nan   \n",
       "5533  2405:0203:0532:7841:0000:0000:0000:0010            nan   \n",
       "5534  2405:0203:0528:5573:0000:0000:0000:0010            nan   \n",
       "5535  2405:0203:0528:5EC3:0000:0000:0000:0010            nan   \n",
       "5541  2405:0203:0532:7296:0000:0000:0000:0010            nan   \n",
       "\n",
       "     METER_MATCH_UDC_ID METER_MATCH_IP INSTALLATIONNUMBER METER_MATCH_STATUS  \\\n",
       "5532                nan            nan                nan                nan   \n",
       "5533                nan            nan                nan                nan   \n",
       "5534                nan            nan                nan                nan   \n",
       "5535                nan            nan                nan                nan   \n",
       "5541                nan            nan                nan                nan   \n",
       "\n",
       "     METER_MATCH_UTILITY IMSI_MATCHED_METER_NO  \\\n",
       "5532                 nan             GL9053624   \n",
       "5533                 nan             GL8986731   \n",
       "5534                 nan             GL8553464   \n",
       "5535                 nan             GL8555848   \n",
       "5541                 nan             GL8985280   \n",
       "\n",
       "                              IMSI_MATCHED_IP IMSI_MATCHED_STATUS  \\\n",
       "5532  2405:0203:0534:5413:0000:0000:0000:0010             Retired   \n",
       "5533  2405:0203:0532:7841:0000:0000:0000:0010             Retired   \n",
       "5534  2405:0203:0528:5573:0000:0000:0000:0010             Retired   \n",
       "5535  2405:0203:0528:5EC3:0000:0000:0000:0010         Refurbished   \n",
       "5541  2405:0203:0532:7296:0000:0000:0000:0010             Retired   \n",
       "\n",
       "     IMSI_MATCHED_UTILITY IP_MATCHED_METER_NO  IP_MATCH_UDC_ID  \\\n",
       "5532               SBPDCL           GL9053624  405856708959358   \n",
       "5533               SBPDCL           GL8986731  405856707047883   \n",
       "5534               SBPDCL           GL8553464  405856706700654   \n",
       "5535               SBPDCL           GL8555848  405856706831725   \n",
       "5541               SBPDCL           GL8985280  405856707048601   \n",
       "\n",
       "                                IP_MATCHED_IP IP_MATCHED_STATUS  \\\n",
       "5532  2405:0203:0534:5413:0000:0000:0000:0010           Retired   \n",
       "5533  2405:0203:0532:7841:0000:0000:0000:0010           Retired   \n",
       "5534  2405:0203:0528:5573:0000:0000:0000:0010           Retired   \n",
       "5535  2405:0203:0528:5EC3:0000:0000:0000:0010       Refurbished   \n",
       "5541  2405:0203:0532:7296:0000:0000:0000:0010           Retired   \n",
       "\n",
       "     IP_MATCHED_UTILITY                SIM SET CHECK STATUS METER_SIM  \\\n",
       "5532             SBPDCL  DIFFERENT SET IN DIFFERENT UTILITY     False   \n",
       "5533             SBPDCL  DIFFERENT SET IN DIFFERENT UTILITY     False   \n",
       "5534             SBPDCL  DIFFERENT SET IN DIFFERENT UTILITY     False   \n",
       "5535             SBPDCL  DIFFERENT SET IN DIFFERENT UTILITY     False   \n",
       "5541             SBPDCL  DIFFERENT SET IN DIFFERENT UTILITY     False   \n",
       "\n",
       "     METER_ORG SIM_ORG METER_IP        SIM SET CHECK STATUS RECHECK  \\\n",
       "5532     False    True    False  DIFFERENT SET IN DIFFERENT UTILITY   \n",
       "5533     False    True    False  DIFFERENT SET IN DIFFERENT UTILITY   \n",
       "5534     False    True    False  DIFFERENT SET IN DIFFERENT UTILITY   \n",
       "5535     False    True    False  DIFFERENT SET IN DIFFERENT UTILITY   \n",
       "5541     False    True    False  DIFFERENT SET IN DIFFERENT UTILITY   \n",
       "\n",
       "                 ACTION TAKEN NEW_METER_NUMBER DUPLICATED  \n",
       "5532  NEED TO CHECK THIS FILE        Gl8877628     Unique  \n",
       "5533  NEED TO CHECK THIS FILE        Gl8877948     Unique  \n",
       "5534  NEED TO CHECK THIS FILE        Gl8969668     Unique  \n",
       "5535  NEED TO CHECK THIS FILE        Gl8890626     Unique  \n",
       "5541  NEED TO CHECK THIS FILE        Gl8877859     Unique  "
      ]
     },
     "execution_count": 111,
     "metadata": {},
     "output_type": "execute_result"
    }
   ],
   "source": [
    "NEED_TO_CHECK_FILE_WAREHOUSE_METER_SIM.head()"
   ]
  },
  {
   "cell_type": "code",
   "execution_count": 112,
   "metadata": {},
   "outputs": [],
   "source": [
    "NEED_TO_CHECK_FILE_WAREHOUSE_METER_SIM.to_csv(r\"C:\\PYTHON\\EDF_CODE_AUTOMATION_PYTHON\\METER_MATCHING_DATA\\NEED_TO_CHECK_THIS_FILE_WAREHOUSE_METER_SIM.csv\",index=False)\n",
    "NEED_TO_CHECK_FILE_WAREHOUSE_METER_SIM.to_csv(r'C:\\Users\\Ratan Kumar Jha\\Desktop\\METER_IMPORTATION_FOLDER\\OUTPUT_DATA_FILE\\NEED_TO_CHECK_THIS_FILE_WAREHOUSE_METER_SIM.csv',index=False)\n",
    "\n"
   ]
  },
  {
   "cell_type": "code",
   "execution_count": 113,
   "metadata": {},
   "outputs": [],
   "source": [
    "NEED_TO_CHECK_FILE_WAREHOUSE_METER_SIM_CSV = pd.read_csv(r\"C:\\PYTHON\\EDF_CODE_AUTOMATION_PYTHON\\METER_MATCHING_DATA\\NEED_TO_CHECK_THIS_FILE_WAREHOUSE_METER_SIM.csv\")"
   ]
  },
  {
   "cell_type": "code",
   "execution_count": 114,
   "metadata": {},
   "outputs": [
    {
     "data": {
      "text/html": [
       "<div>\n",
       "<style scoped>\n",
       "    .dataframe tbody tr th:only-of-type {\n",
       "        vertical-align: middle;\n",
       "    }\n",
       "\n",
       "    .dataframe tbody tr th {\n",
       "        vertical-align: top;\n",
       "    }\n",
       "\n",
       "    .dataframe thead th {\n",
       "        text-align: right;\n",
       "    }\n",
       "</style>\n",
       "<table border=\"1\" class=\"dataframe\">\n",
       "  <thead>\n",
       "    <tr style=\"text-align: right;\">\n",
       "      <th></th>\n",
       "      <th>METER NO.</th>\n",
       "      <th>PHASE</th>\n",
       "      <th>WAREHOUSE_UTILITY</th>\n",
       "      <th>IME</th>\n",
       "      <th>FINAL SIM</th>\n",
       "      <th>IMSI</th>\n",
       "      <th>IP</th>\n",
       "      <th>MFG_SERIAL_NUM</th>\n",
       "      <th>METER_MATCH_UDC_ID</th>\n",
       "      <th>METER_MATCH_IP</th>\n",
       "      <th>INSTALLATIONNUMBER</th>\n",
       "      <th>METER_MATCH_STATUS</th>\n",
       "      <th>METER_MATCH_UTILITY</th>\n",
       "      <th>IMSI_MATCHED_METER_NO</th>\n",
       "      <th>IMSI_MATCHED_IP</th>\n",
       "      <th>IMSI_MATCHED_STATUS</th>\n",
       "      <th>IMSI_MATCHED_UTILITY</th>\n",
       "      <th>IP_MATCHED_METER_NO</th>\n",
       "      <th>IP_MATCH_UDC_ID</th>\n",
       "      <th>IP_MATCHED_IP</th>\n",
       "      <th>IP_MATCHED_STATUS</th>\n",
       "      <th>IP_MATCHED_UTILITY</th>\n",
       "      <th>SIM SET CHECK STATUS</th>\n",
       "      <th>METER_SIM</th>\n",
       "      <th>METER_ORG</th>\n",
       "      <th>SIM_ORG</th>\n",
       "      <th>METER_IP</th>\n",
       "      <th>SIM SET CHECK STATUS RECHECK</th>\n",
       "      <th>ACTION TAKEN</th>\n",
       "      <th>NEW_METER_NUMBER</th>\n",
       "      <th>DUPLICATED</th>\n",
       "    </tr>\n",
       "  </thead>\n",
       "  <tbody>\n",
       "    <tr>\n",
       "      <th>0</th>\n",
       "      <td>Gl8877628</td>\n",
       "      <td>1 Phase</td>\n",
       "      <td>SBPDCL</td>\n",
       "      <td>862058060949844</td>\n",
       "      <td>8991856040708414354</td>\n",
       "      <td>405856708959358</td>\n",
       "      <td>2405:0203:0534:5413:0000:0000:0000:0010</td>\n",
       "      <td>NaN</td>\n",
       "      <td>NaN</td>\n",
       "      <td>NaN</td>\n",
       "      <td>NaN</td>\n",
       "      <td>NaN</td>\n",
       "      <td>NaN</td>\n",
       "      <td>GL9053624</td>\n",
       "      <td>2405:0203:0534:5413:0000:0000:0000:0010</td>\n",
       "      <td>Retired</td>\n",
       "      <td>SBPDCL</td>\n",
       "      <td>GL9053624</td>\n",
       "      <td>405856708959358</td>\n",
       "      <td>2405:0203:0534:5413:0000:0000:0000:0010</td>\n",
       "      <td>Retired</td>\n",
       "      <td>SBPDCL</td>\n",
       "      <td>DIFFERENT SET IN DIFFERENT UTILITY</td>\n",
       "      <td>False</td>\n",
       "      <td>False</td>\n",
       "      <td>True</td>\n",
       "      <td>False</td>\n",
       "      <td>DIFFERENT SET IN DIFFERENT UTILITY</td>\n",
       "      <td>NEED TO CHECK THIS FILE</td>\n",
       "      <td>Gl8877628</td>\n",
       "      <td>Unique</td>\n",
       "    </tr>\n",
       "    <tr>\n",
       "      <th>1</th>\n",
       "      <td>Gl8877948</td>\n",
       "      <td>1 Phase</td>\n",
       "      <td>SBPDCL</td>\n",
       "      <td>862058062182162</td>\n",
       "      <td>8991856040706502874</td>\n",
       "      <td>405856707047883</td>\n",
       "      <td>2405:0203:0532:7841:0000:0000:0000:0010</td>\n",
       "      <td>NaN</td>\n",
       "      <td>NaN</td>\n",
       "      <td>NaN</td>\n",
       "      <td>NaN</td>\n",
       "      <td>NaN</td>\n",
       "      <td>NaN</td>\n",
       "      <td>GL8986731</td>\n",
       "      <td>2405:0203:0532:7841:0000:0000:0000:0010</td>\n",
       "      <td>Retired</td>\n",
       "      <td>SBPDCL</td>\n",
       "      <td>GL8986731</td>\n",
       "      <td>405856707047883</td>\n",
       "      <td>2405:0203:0532:7841:0000:0000:0000:0010</td>\n",
       "      <td>Retired</td>\n",
       "      <td>SBPDCL</td>\n",
       "      <td>DIFFERENT SET IN DIFFERENT UTILITY</td>\n",
       "      <td>False</td>\n",
       "      <td>False</td>\n",
       "      <td>True</td>\n",
       "      <td>False</td>\n",
       "      <td>DIFFERENT SET IN DIFFERENT UTILITY</td>\n",
       "      <td>NEED TO CHECK THIS FILE</td>\n",
       "      <td>Gl8877948</td>\n",
       "      <td>Unique</td>\n",
       "    </tr>\n",
       "    <tr>\n",
       "      <th>2</th>\n",
       "      <td>Gl8969668</td>\n",
       "      <td>1 Phase</td>\n",
       "      <td>SBPDCL</td>\n",
       "      <td>862058061870361</td>\n",
       "      <td>8991856040706155633</td>\n",
       "      <td>405856706700654</td>\n",
       "      <td>2405:0203:0528:5573:0000:0000:0000:0010</td>\n",
       "      <td>NaN</td>\n",
       "      <td>NaN</td>\n",
       "      <td>NaN</td>\n",
       "      <td>NaN</td>\n",
       "      <td>NaN</td>\n",
       "      <td>NaN</td>\n",
       "      <td>GL8553464</td>\n",
       "      <td>2405:0203:0528:5573:0000:0000:0000:0010</td>\n",
       "      <td>Retired</td>\n",
       "      <td>SBPDCL</td>\n",
       "      <td>GL8553464</td>\n",
       "      <td>405856706700654</td>\n",
       "      <td>2405:0203:0528:5573:0000:0000:0000:0010</td>\n",
       "      <td>Retired</td>\n",
       "      <td>SBPDCL</td>\n",
       "      <td>DIFFERENT SET IN DIFFERENT UTILITY</td>\n",
       "      <td>False</td>\n",
       "      <td>False</td>\n",
       "      <td>True</td>\n",
       "      <td>False</td>\n",
       "      <td>DIFFERENT SET IN DIFFERENT UTILITY</td>\n",
       "      <td>NEED TO CHECK THIS FILE</td>\n",
       "      <td>Gl8969668</td>\n",
       "      <td>Unique</td>\n",
       "    </tr>\n",
       "    <tr>\n",
       "      <th>3</th>\n",
       "      <td>Gl8890626</td>\n",
       "      <td>1 Phase</td>\n",
       "      <td>SBPDCL</td>\n",
       "      <td>862058062425421</td>\n",
       "      <td>8991856040706286716</td>\n",
       "      <td>405856706831725</td>\n",
       "      <td>2405:0203:0528:5EC3:0000:0000:0000:0010</td>\n",
       "      <td>NaN</td>\n",
       "      <td>NaN</td>\n",
       "      <td>NaN</td>\n",
       "      <td>NaN</td>\n",
       "      <td>NaN</td>\n",
       "      <td>NaN</td>\n",
       "      <td>GL8555848</td>\n",
       "      <td>2405:0203:0528:5EC3:0000:0000:0000:0010</td>\n",
       "      <td>Refurbished</td>\n",
       "      <td>SBPDCL</td>\n",
       "      <td>GL8555848</td>\n",
       "      <td>405856706831725</td>\n",
       "      <td>2405:0203:0528:5EC3:0000:0000:0000:0010</td>\n",
       "      <td>Refurbished</td>\n",
       "      <td>SBPDCL</td>\n",
       "      <td>DIFFERENT SET IN DIFFERENT UTILITY</td>\n",
       "      <td>False</td>\n",
       "      <td>False</td>\n",
       "      <td>True</td>\n",
       "      <td>False</td>\n",
       "      <td>DIFFERENT SET IN DIFFERENT UTILITY</td>\n",
       "      <td>NEED TO CHECK THIS FILE</td>\n",
       "      <td>Gl8890626</td>\n",
       "      <td>Unique</td>\n",
       "    </tr>\n",
       "    <tr>\n",
       "      <th>4</th>\n",
       "      <td>Gl8877859</td>\n",
       "      <td>1 Phase</td>\n",
       "      <td>SBPDCL</td>\n",
       "      <td>862058060199119</td>\n",
       "      <td>8991856040706503592</td>\n",
       "      <td>405856707048601</td>\n",
       "      <td>2405:0203:0532:7296:0000:0000:0000:0010</td>\n",
       "      <td>NaN</td>\n",
       "      <td>NaN</td>\n",
       "      <td>NaN</td>\n",
       "      <td>NaN</td>\n",
       "      <td>NaN</td>\n",
       "      <td>NaN</td>\n",
       "      <td>GL8985280</td>\n",
       "      <td>2405:0203:0532:7296:0000:0000:0000:0010</td>\n",
       "      <td>Retired</td>\n",
       "      <td>SBPDCL</td>\n",
       "      <td>GL8985280</td>\n",
       "      <td>405856707048601</td>\n",
       "      <td>2405:0203:0532:7296:0000:0000:0000:0010</td>\n",
       "      <td>Retired</td>\n",
       "      <td>SBPDCL</td>\n",
       "      <td>DIFFERENT SET IN DIFFERENT UTILITY</td>\n",
       "      <td>False</td>\n",
       "      <td>False</td>\n",
       "      <td>True</td>\n",
       "      <td>False</td>\n",
       "      <td>DIFFERENT SET IN DIFFERENT UTILITY</td>\n",
       "      <td>NEED TO CHECK THIS FILE</td>\n",
       "      <td>Gl8877859</td>\n",
       "      <td>Unique</td>\n",
       "    </tr>\n",
       "  </tbody>\n",
       "</table>\n",
       "</div>"
      ],
      "text/plain": [
       "   METER NO.    PHASE WAREHOUSE_UTILITY              IME            FINAL SIM  \\\n",
       "0  Gl8877628  1 Phase            SBPDCL  862058060949844  8991856040708414354   \n",
       "1  Gl8877948  1 Phase            SBPDCL  862058062182162  8991856040706502874   \n",
       "2  Gl8969668  1 Phase            SBPDCL  862058061870361  8991856040706155633   \n",
       "3  Gl8890626  1 Phase            SBPDCL  862058062425421  8991856040706286716   \n",
       "4  Gl8877859  1 Phase            SBPDCL  862058060199119  8991856040706503592   \n",
       "\n",
       "              IMSI                                       IP  MFG_SERIAL_NUM  \\\n",
       "0  405856708959358  2405:0203:0534:5413:0000:0000:0000:0010             NaN   \n",
       "1  405856707047883  2405:0203:0532:7841:0000:0000:0000:0010             NaN   \n",
       "2  405856706700654  2405:0203:0528:5573:0000:0000:0000:0010             NaN   \n",
       "3  405856706831725  2405:0203:0528:5EC3:0000:0000:0000:0010             NaN   \n",
       "4  405856707048601  2405:0203:0532:7296:0000:0000:0000:0010             NaN   \n",
       "\n",
       "   METER_MATCH_UDC_ID  METER_MATCH_IP  INSTALLATIONNUMBER  METER_MATCH_STATUS  \\\n",
       "0                 NaN             NaN                 NaN                 NaN   \n",
       "1                 NaN             NaN                 NaN                 NaN   \n",
       "2                 NaN             NaN                 NaN                 NaN   \n",
       "3                 NaN             NaN                 NaN                 NaN   \n",
       "4                 NaN             NaN                 NaN                 NaN   \n",
       "\n",
       "   METER_MATCH_UTILITY IMSI_MATCHED_METER_NO  \\\n",
       "0                  NaN             GL9053624   \n",
       "1                  NaN             GL8986731   \n",
       "2                  NaN             GL8553464   \n",
       "3                  NaN             GL8555848   \n",
       "4                  NaN             GL8985280   \n",
       "\n",
       "                           IMSI_MATCHED_IP IMSI_MATCHED_STATUS  \\\n",
       "0  2405:0203:0534:5413:0000:0000:0000:0010             Retired   \n",
       "1  2405:0203:0532:7841:0000:0000:0000:0010             Retired   \n",
       "2  2405:0203:0528:5573:0000:0000:0000:0010             Retired   \n",
       "3  2405:0203:0528:5EC3:0000:0000:0000:0010         Refurbished   \n",
       "4  2405:0203:0532:7296:0000:0000:0000:0010             Retired   \n",
       "\n",
       "  IMSI_MATCHED_UTILITY IP_MATCHED_METER_NO  IP_MATCH_UDC_ID  \\\n",
       "0               SBPDCL           GL9053624  405856708959358   \n",
       "1               SBPDCL           GL8986731  405856707047883   \n",
       "2               SBPDCL           GL8553464  405856706700654   \n",
       "3               SBPDCL           GL8555848  405856706831725   \n",
       "4               SBPDCL           GL8985280  405856707048601   \n",
       "\n",
       "                             IP_MATCHED_IP IP_MATCHED_STATUS  \\\n",
       "0  2405:0203:0534:5413:0000:0000:0000:0010           Retired   \n",
       "1  2405:0203:0532:7841:0000:0000:0000:0010           Retired   \n",
       "2  2405:0203:0528:5573:0000:0000:0000:0010           Retired   \n",
       "3  2405:0203:0528:5EC3:0000:0000:0000:0010       Refurbished   \n",
       "4  2405:0203:0532:7296:0000:0000:0000:0010           Retired   \n",
       "\n",
       "  IP_MATCHED_UTILITY                SIM SET CHECK STATUS  METER_SIM  \\\n",
       "0             SBPDCL  DIFFERENT SET IN DIFFERENT UTILITY      False   \n",
       "1             SBPDCL  DIFFERENT SET IN DIFFERENT UTILITY      False   \n",
       "2             SBPDCL  DIFFERENT SET IN DIFFERENT UTILITY      False   \n",
       "3             SBPDCL  DIFFERENT SET IN DIFFERENT UTILITY      False   \n",
       "4             SBPDCL  DIFFERENT SET IN DIFFERENT UTILITY      False   \n",
       "\n",
       "   METER_ORG  SIM_ORG  METER_IP        SIM SET CHECK STATUS RECHECK  \\\n",
       "0      False     True     False  DIFFERENT SET IN DIFFERENT UTILITY   \n",
       "1      False     True     False  DIFFERENT SET IN DIFFERENT UTILITY   \n",
       "2      False     True     False  DIFFERENT SET IN DIFFERENT UTILITY   \n",
       "3      False     True     False  DIFFERENT SET IN DIFFERENT UTILITY   \n",
       "4      False     True     False  DIFFERENT SET IN DIFFERENT UTILITY   \n",
       "\n",
       "              ACTION TAKEN NEW_METER_NUMBER DUPLICATED  \n",
       "0  NEED TO CHECK THIS FILE        Gl8877628     Unique  \n",
       "1  NEED TO CHECK THIS FILE        Gl8877948     Unique  \n",
       "2  NEED TO CHECK THIS FILE        Gl8969668     Unique  \n",
       "3  NEED TO CHECK THIS FILE        Gl8890626     Unique  \n",
       "4  NEED TO CHECK THIS FILE        Gl8877859     Unique  "
      ]
     },
     "execution_count": 114,
     "metadata": {},
     "output_type": "execute_result"
    }
   ],
   "source": [
    "NEED_TO_CHECK_FILE_WAREHOUSE_METER_SIM_CSV.head()"
   ]
  },
  {
   "cell_type": "code",
   "execution_count": null,
   "metadata": {},
   "outputs": [],
   "source": []
  },
  {
   "cell_type": "code",
   "execution_count": 115,
   "metadata": {},
   "outputs": [
    {
     "data": {
      "text/html": [
       "<div>\n",
       "<style scoped>\n",
       "    .dataframe tbody tr th:only-of-type {\n",
       "        vertical-align: middle;\n",
       "    }\n",
       "\n",
       "    .dataframe tbody tr th {\n",
       "        vertical-align: top;\n",
       "    }\n",
       "\n",
       "    .dataframe thead th {\n",
       "        text-align: right;\n",
       "    }\n",
       "</style>\n",
       "<table border=\"1\" class=\"dataframe\">\n",
       "  <thead>\n",
       "    <tr style=\"text-align: right;\">\n",
       "      <th></th>\n",
       "      <th>METER NO.</th>\n",
       "      <th>PHASE</th>\n",
       "      <th>WAREHOUSE_UTILITY</th>\n",
       "      <th>IME</th>\n",
       "      <th>FINAL SIM</th>\n",
       "      <th>IMSI</th>\n",
       "      <th>IP</th>\n",
       "      <th>MFG_SERIAL_NUM</th>\n",
       "      <th>METER_MATCH_UDC_ID</th>\n",
       "      <th>METER_MATCH_IP</th>\n",
       "      <th>INSTALLATIONNUMBER</th>\n",
       "      <th>METER_MATCH_STATUS</th>\n",
       "      <th>METER_MATCH_UTILITY</th>\n",
       "      <th>IMSI_MATCHED_METER_NO</th>\n",
       "      <th>IMSI_MATCHED_IP</th>\n",
       "      <th>IMSI_MATCHED_STATUS</th>\n",
       "      <th>IMSI_MATCHED_UTILITY</th>\n",
       "      <th>IP_MATCHED_METER_NO</th>\n",
       "      <th>IP_MATCH_UDC_ID</th>\n",
       "      <th>IP_MATCHED_IP</th>\n",
       "      <th>IP_MATCHED_STATUS</th>\n",
       "      <th>IP_MATCHED_UTILITY</th>\n",
       "      <th>SIM SET CHECK STATUS</th>\n",
       "      <th>METER_SIM</th>\n",
       "      <th>METER_ORG</th>\n",
       "      <th>SIM_ORG</th>\n",
       "      <th>METER_IP</th>\n",
       "      <th>SIM SET CHECK STATUS RECHECK</th>\n",
       "      <th>ACTION TAKEN</th>\n",
       "      <th>NEW_METER_NUMBER</th>\n",
       "      <th>DUPLICATED</th>\n",
       "    </tr>\n",
       "  </thead>\n",
       "  <tbody>\n",
       "  </tbody>\n",
       "</table>\n",
       "</div>"
      ],
      "text/plain": [
       "Empty DataFrame\n",
       "Columns: [METER NO., PHASE, WAREHOUSE_UTILITY, IME, FINAL SIM, IMSI, IP, MFG_SERIAL_NUM, METER_MATCH_UDC_ID, METER_MATCH_IP, INSTALLATIONNUMBER, METER_MATCH_STATUS, METER_MATCH_UTILITY, IMSI_MATCHED_METER_NO, IMSI_MATCHED_IP, IMSI_MATCHED_STATUS, IMSI_MATCHED_UTILITY, IP_MATCHED_METER_NO, IP_MATCH_UDC_ID, IP_MATCHED_IP, IP_MATCHED_STATUS, IP_MATCHED_UTILITY, SIM SET CHECK STATUS, METER_SIM, METER_ORG, SIM_ORG, METER_IP, SIM SET CHECK STATUS RECHECK, ACTION TAKEN, NEW_METER_NUMBER, DUPLICATED]\n",
       "Index: []"
      ]
     },
     "execution_count": 115,
     "metadata": {},
     "output_type": "execute_result"
    }
   ],
   "source": [
    "warehouse_meter_imsi_data_check[warehouse_meter_imsi_data_check['ACTION TAKEN'].isnull()]"
   ]
  },
  {
   "cell_type": "code",
   "execution_count": 116,
   "metadata": {},
   "outputs": [
    {
     "data": {
      "text/html": [
       "<div>\n",
       "<style scoped>\n",
       "    .dataframe tbody tr th:only-of-type {\n",
       "        vertical-align: middle;\n",
       "    }\n",
       "\n",
       "    .dataframe tbody tr th {\n",
       "        vertical-align: top;\n",
       "    }\n",
       "\n",
       "    .dataframe thead th {\n",
       "        text-align: right;\n",
       "    }\n",
       "</style>\n",
       "<table border=\"1\" class=\"dataframe\">\n",
       "  <thead>\n",
       "    <tr style=\"text-align: right;\">\n",
       "      <th></th>\n",
       "      <th>METER NO.</th>\n",
       "      <th>PHASE</th>\n",
       "      <th>WAREHOUSE_UTILITY</th>\n",
       "      <th>IME</th>\n",
       "      <th>FINAL SIM</th>\n",
       "      <th>IMSI</th>\n",
       "      <th>IP</th>\n",
       "      <th>MFG_SERIAL_NUM</th>\n",
       "      <th>METER_MATCH_UDC_ID</th>\n",
       "      <th>METER_MATCH_IP</th>\n",
       "      <th>INSTALLATIONNUMBER</th>\n",
       "      <th>METER_MATCH_STATUS</th>\n",
       "      <th>METER_MATCH_UTILITY</th>\n",
       "      <th>IMSI_MATCHED_METER_NO</th>\n",
       "      <th>IMSI_MATCHED_IP</th>\n",
       "      <th>IMSI_MATCHED_STATUS</th>\n",
       "      <th>IMSI_MATCHED_UTILITY</th>\n",
       "      <th>IP_MATCHED_METER_NO</th>\n",
       "      <th>IP_MATCH_UDC_ID</th>\n",
       "      <th>IP_MATCHED_IP</th>\n",
       "      <th>IP_MATCHED_STATUS</th>\n",
       "      <th>IP_MATCHED_UTILITY</th>\n",
       "      <th>SIM SET CHECK STATUS</th>\n",
       "      <th>METER_SIM</th>\n",
       "      <th>METER_ORG</th>\n",
       "      <th>SIM_ORG</th>\n",
       "      <th>METER_IP</th>\n",
       "      <th>SIM SET CHECK STATUS RECHECK</th>\n",
       "      <th>ACTION TAKEN</th>\n",
       "      <th>NEW_METER_NUMBER</th>\n",
       "      <th>DUPLICATED</th>\n",
       "    </tr>\n",
       "  </thead>\n",
       "  <tbody>\n",
       "    <tr>\n",
       "      <th>0</th>\n",
       "      <td>LT0555992</td>\n",
       "      <td>1 Phase</td>\n",
       "      <td>NBPDCL</td>\n",
       "      <td>865681062851242</td>\n",
       "      <td>8991856040706094571</td>\n",
       "      <td>405856706639593</td>\n",
       "      <td>2405:0203:0529:1B24:0000:0000:0000:0010</td>\n",
       "      <td>LT0555992</td>\n",
       "      <td>405856706639593</td>\n",
       "      <td>2405:0203:0529:1B24:0000:0000:0000:0010</td>\n",
       "      <td>5003226857</td>\n",
       "      <td>Installed</td>\n",
       "      <td>NBPDCL</td>\n",
       "      <td>LT0555992</td>\n",
       "      <td>2405:0203:0529:1B24:0000:0000:0000:0010</td>\n",
       "      <td>Installed</td>\n",
       "      <td>NBPDCL</td>\n",
       "      <td>LT0555992</td>\n",
       "      <td>405856706639593</td>\n",
       "      <td>2405:0203:0529:1B24:0000:0000:0000:0010</td>\n",
       "      <td>Installed</td>\n",
       "      <td>NBPDCL</td>\n",
       "      <td>SAME SET IN SAME UTILITY</td>\n",
       "      <td>True</td>\n",
       "      <td>True</td>\n",
       "      <td>True</td>\n",
       "      <td>True</td>\n",
       "      <td>SAME SET IN SAME UTILITY</td>\n",
       "      <td>SET IS IN INSTALLED STAGE</td>\n",
       "      <td>LNTLT0555992</td>\n",
       "      <td>Unique</td>\n",
       "    </tr>\n",
       "    <tr>\n",
       "      <th>1</th>\n",
       "      <td>LT0575586</td>\n",
       "      <td>1 Phase</td>\n",
       "      <td>NBPDCL</td>\n",
       "      <td>865681062819025</td>\n",
       "      <td>8991856040706117561</td>\n",
       "      <td>405856706662583</td>\n",
       "      <td>2405:0203:0529:969C:0000:0000:0000:0010</td>\n",
       "      <td>LT0575586</td>\n",
       "      <td>405856706662583</td>\n",
       "      <td>2405:0203:0529:969C:0000:0000:0000:0010</td>\n",
       "      <td>5003886123</td>\n",
       "      <td>Installed</td>\n",
       "      <td>NBPDCL</td>\n",
       "      <td>LT0575586</td>\n",
       "      <td>2405:0203:0529:969C:0000:0000:0000:0010</td>\n",
       "      <td>Installed</td>\n",
       "      <td>NBPDCL</td>\n",
       "      <td>LT0575586</td>\n",
       "      <td>405856706662583</td>\n",
       "      <td>2405:0203:0529:969C:0000:0000:0000:0010</td>\n",
       "      <td>Installed</td>\n",
       "      <td>NBPDCL</td>\n",
       "      <td>SAME SET IN SAME UTILITY</td>\n",
       "      <td>True</td>\n",
       "      <td>True</td>\n",
       "      <td>True</td>\n",
       "      <td>True</td>\n",
       "      <td>SAME SET IN SAME UTILITY</td>\n",
       "      <td>SET IS IN INSTALLED STAGE</td>\n",
       "      <td>LNTLT0575586</td>\n",
       "      <td>Unique</td>\n",
       "    </tr>\n",
       "  </tbody>\n",
       "</table>\n",
       "</div>"
      ],
      "text/plain": [
       "   METER NO.    PHASE WAREHOUSE_UTILITY              IME            FINAL SIM  \\\n",
       "0  LT0555992  1 Phase            NBPDCL  865681062851242  8991856040706094571   \n",
       "1  LT0575586  1 Phase            NBPDCL  865681062819025  8991856040706117561   \n",
       "\n",
       "              IMSI                                       IP MFG_SERIAL_NUM  \\\n",
       "0  405856706639593  2405:0203:0529:1B24:0000:0000:0000:0010      LT0555992   \n",
       "1  405856706662583  2405:0203:0529:969C:0000:0000:0000:0010      LT0575586   \n",
       "\n",
       "  METER_MATCH_UDC_ID                           METER_MATCH_IP  \\\n",
       "0    405856706639593  2405:0203:0529:1B24:0000:0000:0000:0010   \n",
       "1    405856706662583  2405:0203:0529:969C:0000:0000:0000:0010   \n",
       "\n",
       "  INSTALLATIONNUMBER METER_MATCH_STATUS METER_MATCH_UTILITY  \\\n",
       "0         5003226857          Installed              NBPDCL   \n",
       "1         5003886123          Installed              NBPDCL   \n",
       "\n",
       "  IMSI_MATCHED_METER_NO                          IMSI_MATCHED_IP  \\\n",
       "0             LT0555992  2405:0203:0529:1B24:0000:0000:0000:0010   \n",
       "1             LT0575586  2405:0203:0529:969C:0000:0000:0000:0010   \n",
       "\n",
       "  IMSI_MATCHED_STATUS IMSI_MATCHED_UTILITY IP_MATCHED_METER_NO  \\\n",
       "0           Installed               NBPDCL           LT0555992   \n",
       "1           Installed               NBPDCL           LT0575586   \n",
       "\n",
       "   IP_MATCH_UDC_ID                            IP_MATCHED_IP IP_MATCHED_STATUS  \\\n",
       "0  405856706639593  2405:0203:0529:1B24:0000:0000:0000:0010         Installed   \n",
       "1  405856706662583  2405:0203:0529:969C:0000:0000:0000:0010         Installed   \n",
       "\n",
       "  IP_MATCHED_UTILITY      SIM SET CHECK STATUS METER_SIM METER_ORG SIM_ORG  \\\n",
       "0             NBPDCL  SAME SET IN SAME UTILITY      True      True    True   \n",
       "1             NBPDCL  SAME SET IN SAME UTILITY      True      True    True   \n",
       "\n",
       "  METER_IP SIM SET CHECK STATUS RECHECK               ACTION TAKEN  \\\n",
       "0     True     SAME SET IN SAME UTILITY  SET IS IN INSTALLED STAGE   \n",
       "1     True     SAME SET IN SAME UTILITY  SET IS IN INSTALLED STAGE   \n",
       "\n",
       "  NEW_METER_NUMBER DUPLICATED  \n",
       "0     LNTLT0555992     Unique  \n",
       "1     LNTLT0575586     Unique  "
      ]
     },
     "execution_count": 116,
     "metadata": {},
     "output_type": "execute_result"
    }
   ],
   "source": [
    "warehouse_meter_imsi_data_check.head(2)\n"
   ]
  },
  {
   "cell_type": "code",
   "execution_count": 117,
   "metadata": {},
   "outputs": [
    {
     "data": {
      "text/plain": [
       "METER NO.                       5767\n",
       "PHASE                           5767\n",
       "WAREHOUSE_UTILITY               5767\n",
       "IME                             5767\n",
       "FINAL SIM                       5767\n",
       "IMSI                            5767\n",
       "IP                              5767\n",
       "MFG_SERIAL_NUM                  5767\n",
       "METER_MATCH_UDC_ID              5767\n",
       "METER_MATCH_IP                  5767\n",
       "INSTALLATIONNUMBER              5767\n",
       "METER_MATCH_STATUS              5767\n",
       "METER_MATCH_UTILITY             5767\n",
       "IMSI_MATCHED_METER_NO           5767\n",
       "IMSI_MATCHED_IP                 5767\n",
       "IMSI_MATCHED_STATUS             5767\n",
       "IMSI_MATCHED_UTILITY            5767\n",
       "IP_MATCHED_METER_NO             5767\n",
       "IP_MATCH_UDC_ID                 5767\n",
       "IP_MATCHED_IP                   5767\n",
       "IP_MATCHED_STATUS               5767\n",
       "IP_MATCHED_UTILITY              5767\n",
       "SIM SET CHECK STATUS            5767\n",
       "METER_SIM                       5767\n",
       "METER_ORG                       5767\n",
       "SIM_ORG                         5767\n",
       "METER_IP                        5767\n",
       "SIM SET CHECK STATUS RECHECK    5767\n",
       "ACTION TAKEN                    5767\n",
       "NEW_METER_NUMBER                5767\n",
       "DUPLICATED                      5767\n",
       "dtype: int64"
      ]
     },
     "execution_count": 117,
     "metadata": {},
     "output_type": "execute_result"
    }
   ],
   "source": [
    "warehouse_meter_imsi_data_check[warehouse_meter_imsi_data_check['ACTION TAKEN'] != \"NEED TO CHECK THIS FILE\"].count()"
   ]
  },
  {
   "cell_type": "code",
   "execution_count": 118,
   "metadata": {},
   "outputs": [
    {
     "data": {
      "text/plain": [
       "array(['SET IS IN INSTALLED STAGE', 'IMSI IS IN INSTALLED STAGE',\n",
       "       'METER IS IN INSTALLED STAGE', 'BOTH INSTALLED IN SAME UTILITY',\n",
       "       'SIM AND METER-SIM LINK FILE REQUIRED',\n",
       "       'METER-SIM LINK FILE REQUIRED',\n",
       "       'METER , SIM AND METER-SIM LINK FILE REQUIRED',\n",
       "       'NEED TO CHECK THIS FILE'], dtype=object)"
      ]
     },
     "execution_count": 118,
     "metadata": {},
     "output_type": "execute_result"
    }
   ],
   "source": [
    "warehouse_meter_imsi_data_check['ACTION TAKEN'].unique()"
   ]
  },
  {
   "cell_type": "code",
   "execution_count": 119,
   "metadata": {},
   "outputs": [
    {
     "data": {
      "text/html": [
       "<div>\n",
       "<style scoped>\n",
       "    .dataframe tbody tr th:only-of-type {\n",
       "        vertical-align: middle;\n",
       "    }\n",
       "\n",
       "    .dataframe tbody tr th {\n",
       "        vertical-align: top;\n",
       "    }\n",
       "\n",
       "    .dataframe thead th {\n",
       "        text-align: right;\n",
       "    }\n",
       "</style>\n",
       "<table border=\"1\" class=\"dataframe\">\n",
       "  <thead>\n",
       "    <tr style=\"text-align: right;\">\n",
       "      <th></th>\n",
       "      <th>METER NO.</th>\n",
       "      <th>PHASE</th>\n",
       "      <th>WAREHOUSE_UTILITY</th>\n",
       "      <th>IME</th>\n",
       "      <th>FINAL SIM</th>\n",
       "      <th>IMSI</th>\n",
       "      <th>IP</th>\n",
       "      <th>MFG_SERIAL_NUM</th>\n",
       "      <th>METER_MATCH_UDC_ID</th>\n",
       "      <th>METER_MATCH_IP</th>\n",
       "      <th>INSTALLATIONNUMBER</th>\n",
       "      <th>METER_MATCH_STATUS</th>\n",
       "      <th>METER_MATCH_UTILITY</th>\n",
       "      <th>IMSI_MATCHED_METER_NO</th>\n",
       "      <th>IMSI_MATCHED_IP</th>\n",
       "      <th>IMSI_MATCHED_STATUS</th>\n",
       "      <th>IMSI_MATCHED_UTILITY</th>\n",
       "      <th>IP_MATCHED_METER_NO</th>\n",
       "      <th>IP_MATCH_UDC_ID</th>\n",
       "      <th>IP_MATCHED_IP</th>\n",
       "      <th>IP_MATCHED_STATUS</th>\n",
       "      <th>IP_MATCHED_UTILITY</th>\n",
       "      <th>SIM SET CHECK STATUS</th>\n",
       "      <th>METER_SIM</th>\n",
       "      <th>METER_ORG</th>\n",
       "      <th>SIM_ORG</th>\n",
       "      <th>METER_IP</th>\n",
       "      <th>SIM SET CHECK STATUS RECHECK</th>\n",
       "      <th>ACTION TAKEN</th>\n",
       "      <th>NEW_METER_NUMBER</th>\n",
       "      <th>DUPLICATED</th>\n",
       "    </tr>\n",
       "  </thead>\n",
       "  <tbody>\n",
       "    <tr>\n",
       "      <th>0</th>\n",
       "      <td>LT0555992</td>\n",
       "      <td>1 Phase</td>\n",
       "      <td>NBPDCL</td>\n",
       "      <td>865681062851242</td>\n",
       "      <td>8991856040706094571</td>\n",
       "      <td>405856706639593</td>\n",
       "      <td>2405:0203:0529:1B24:0000:0000:0000:0010</td>\n",
       "      <td>LT0555992</td>\n",
       "      <td>405856706639593</td>\n",
       "      <td>2405:0203:0529:1B24:0000:0000:0000:0010</td>\n",
       "      <td>5003226857</td>\n",
       "      <td>Installed</td>\n",
       "      <td>NBPDCL</td>\n",
       "      <td>LT0555992</td>\n",
       "      <td>2405:0203:0529:1B24:0000:0000:0000:0010</td>\n",
       "      <td>Installed</td>\n",
       "      <td>NBPDCL</td>\n",
       "      <td>LT0555992</td>\n",
       "      <td>405856706639593</td>\n",
       "      <td>2405:0203:0529:1B24:0000:0000:0000:0010</td>\n",
       "      <td>Installed</td>\n",
       "      <td>NBPDCL</td>\n",
       "      <td>SAME SET IN SAME UTILITY</td>\n",
       "      <td>True</td>\n",
       "      <td>True</td>\n",
       "      <td>True</td>\n",
       "      <td>True</td>\n",
       "      <td>SAME SET IN SAME UTILITY</td>\n",
       "      <td>SET IS IN INSTALLED STAGE</td>\n",
       "      <td>LNTLT0555992</td>\n",
       "      <td>Unique</td>\n",
       "    </tr>\n",
       "    <tr>\n",
       "      <th>1</th>\n",
       "      <td>LT0575586</td>\n",
       "      <td>1 Phase</td>\n",
       "      <td>NBPDCL</td>\n",
       "      <td>865681062819025</td>\n",
       "      <td>8991856040706117561</td>\n",
       "      <td>405856706662583</td>\n",
       "      <td>2405:0203:0529:969C:0000:0000:0000:0010</td>\n",
       "      <td>LT0575586</td>\n",
       "      <td>405856706662583</td>\n",
       "      <td>2405:0203:0529:969C:0000:0000:0000:0010</td>\n",
       "      <td>5003886123</td>\n",
       "      <td>Installed</td>\n",
       "      <td>NBPDCL</td>\n",
       "      <td>LT0575586</td>\n",
       "      <td>2405:0203:0529:969C:0000:0000:0000:0010</td>\n",
       "      <td>Installed</td>\n",
       "      <td>NBPDCL</td>\n",
       "      <td>LT0575586</td>\n",
       "      <td>405856706662583</td>\n",
       "      <td>2405:0203:0529:969C:0000:0000:0000:0010</td>\n",
       "      <td>Installed</td>\n",
       "      <td>NBPDCL</td>\n",
       "      <td>SAME SET IN SAME UTILITY</td>\n",
       "      <td>True</td>\n",
       "      <td>True</td>\n",
       "      <td>True</td>\n",
       "      <td>True</td>\n",
       "      <td>SAME SET IN SAME UTILITY</td>\n",
       "      <td>SET IS IN INSTALLED STAGE</td>\n",
       "      <td>LNTLT0575586</td>\n",
       "      <td>Unique</td>\n",
       "    </tr>\n",
       "  </tbody>\n",
       "</table>\n",
       "</div>"
      ],
      "text/plain": [
       "   METER NO.    PHASE WAREHOUSE_UTILITY              IME            FINAL SIM  \\\n",
       "0  LT0555992  1 Phase            NBPDCL  865681062851242  8991856040706094571   \n",
       "1  LT0575586  1 Phase            NBPDCL  865681062819025  8991856040706117561   \n",
       "\n",
       "              IMSI                                       IP MFG_SERIAL_NUM  \\\n",
       "0  405856706639593  2405:0203:0529:1B24:0000:0000:0000:0010      LT0555992   \n",
       "1  405856706662583  2405:0203:0529:969C:0000:0000:0000:0010      LT0575586   \n",
       "\n",
       "  METER_MATCH_UDC_ID                           METER_MATCH_IP  \\\n",
       "0    405856706639593  2405:0203:0529:1B24:0000:0000:0000:0010   \n",
       "1    405856706662583  2405:0203:0529:969C:0000:0000:0000:0010   \n",
       "\n",
       "  INSTALLATIONNUMBER METER_MATCH_STATUS METER_MATCH_UTILITY  \\\n",
       "0         5003226857          Installed              NBPDCL   \n",
       "1         5003886123          Installed              NBPDCL   \n",
       "\n",
       "  IMSI_MATCHED_METER_NO                          IMSI_MATCHED_IP  \\\n",
       "0             LT0555992  2405:0203:0529:1B24:0000:0000:0000:0010   \n",
       "1             LT0575586  2405:0203:0529:969C:0000:0000:0000:0010   \n",
       "\n",
       "  IMSI_MATCHED_STATUS IMSI_MATCHED_UTILITY IP_MATCHED_METER_NO  \\\n",
       "0           Installed               NBPDCL           LT0555992   \n",
       "1           Installed               NBPDCL           LT0575586   \n",
       "\n",
       "   IP_MATCH_UDC_ID                            IP_MATCHED_IP IP_MATCHED_STATUS  \\\n",
       "0  405856706639593  2405:0203:0529:1B24:0000:0000:0000:0010         Installed   \n",
       "1  405856706662583  2405:0203:0529:969C:0000:0000:0000:0010         Installed   \n",
       "\n",
       "  IP_MATCHED_UTILITY      SIM SET CHECK STATUS METER_SIM METER_ORG SIM_ORG  \\\n",
       "0             NBPDCL  SAME SET IN SAME UTILITY      True      True    True   \n",
       "1             NBPDCL  SAME SET IN SAME UTILITY      True      True    True   \n",
       "\n",
       "  METER_IP SIM SET CHECK STATUS RECHECK               ACTION TAKEN  \\\n",
       "0     True     SAME SET IN SAME UTILITY  SET IS IN INSTALLED STAGE   \n",
       "1     True     SAME SET IN SAME UTILITY  SET IS IN INSTALLED STAGE   \n",
       "\n",
       "  NEW_METER_NUMBER DUPLICATED  \n",
       "0     LNTLT0555992     Unique  \n",
       "1     LNTLT0575586     Unique  "
      ]
     },
     "execution_count": 119,
     "metadata": {},
     "output_type": "execute_result"
    }
   ],
   "source": [
    "warehouse_meter_imsi_data_check.head(2)"
   ]
  },
  {
   "cell_type": "code",
   "execution_count": 120,
   "metadata": {},
   "outputs": [
    {
     "data": {
      "text/plain": [
       "array(['SET IS IN INSTALLED STAGE', 'IMSI IS IN INSTALLED STAGE',\n",
       "       'METER IS IN INSTALLED STAGE', 'BOTH INSTALLED IN SAME UTILITY',\n",
       "       'SIM AND METER-SIM LINK FILE REQUIRED',\n",
       "       'METER-SIM LINK FILE REQUIRED',\n",
       "       'METER , SIM AND METER-SIM LINK FILE REQUIRED',\n",
       "       'NEED TO CHECK THIS FILE'], dtype=object)"
      ]
     },
     "execution_count": 120,
     "metadata": {},
     "output_type": "execute_result"
    }
   ],
   "source": [
    "warehouse_meter_imsi_data_check['ACTION TAKEN'].unique()"
   ]
  },
  {
   "cell_type": "code",
   "execution_count": 121,
   "metadata": {},
   "outputs": [
    {
     "data": {
      "text/plain": [
       "array(['SAME SET IN SAME UTILITY', 'DIFFERENT SET IN SAME UTILITY',\n",
       "       'DIFFERENT SET IN DIFFERENT UTILITY',\n",
       "       'SAME SET IN DIFFERENT UTILITY'], dtype=object)"
      ]
     },
     "execution_count": 121,
     "metadata": {},
     "output_type": "execute_result"
    }
   ],
   "source": [
    "warehouse_meter_imsi_data_check['SIM SET CHECK STATUS RECHECK'].unique()"
   ]
  },
  {
   "cell_type": "code",
   "execution_count": 122,
   "metadata": {},
   "outputs": [
    {
     "data": {
      "text/plain": [
       "METER NO.                       298\n",
       "PHASE                           298\n",
       "WAREHOUSE_UTILITY               298\n",
       "IME                             298\n",
       "FINAL SIM                       298\n",
       "IMSI                            298\n",
       "IP                              298\n",
       "MFG_SERIAL_NUM                  298\n",
       "METER_MATCH_UDC_ID              298\n",
       "METER_MATCH_IP                  298\n",
       "INSTALLATIONNUMBER              298\n",
       "METER_MATCH_STATUS              298\n",
       "METER_MATCH_UTILITY             298\n",
       "IMSI_MATCHED_METER_NO           298\n",
       "IMSI_MATCHED_IP                 298\n",
       "IMSI_MATCHED_STATUS             298\n",
       "IMSI_MATCHED_UTILITY            298\n",
       "IP_MATCHED_METER_NO             298\n",
       "IP_MATCH_UDC_ID                 298\n",
       "IP_MATCHED_IP                   298\n",
       "IP_MATCHED_STATUS               298\n",
       "IP_MATCHED_UTILITY              298\n",
       "SIM SET CHECK STATUS            298\n",
       "METER_SIM                       298\n",
       "METER_ORG                       298\n",
       "SIM_ORG                         298\n",
       "METER_IP                        298\n",
       "SIM SET CHECK STATUS RECHECK    298\n",
       "ACTION TAKEN                    298\n",
       "NEW_METER_NUMBER                298\n",
       "DUPLICATED                      298\n",
       "dtype: int64"
      ]
     },
     "execution_count": 122,
     "metadata": {},
     "output_type": "execute_result"
    }
   ],
   "source": [
    "warehouse_meter_imsi_data_check[warehouse_meter_imsi_data_check['IMSI_MATCHED_METER_NO']==\"nan\"].count()"
   ]
  },
  {
   "cell_type": "code",
   "execution_count": 123,
   "metadata": {},
   "outputs": [
    {
     "data": {
      "text/plain": [
       "dtype('O')"
      ]
     },
     "execution_count": 123,
     "metadata": {},
     "output_type": "execute_result"
    }
   ],
   "source": [
    "warehouse_meter_imsi_data_check['METER_MATCH_UDC_ID'].dtype"
   ]
  },
  {
   "cell_type": "code",
   "execution_count": 124,
   "metadata": {},
   "outputs": [
    {
     "data": {
      "text/plain": [
       "array(['SET IS IN INSTALLED STAGE', 'IMSI IS IN INSTALLED STAGE',\n",
       "       'METER IS IN INSTALLED STAGE', 'BOTH INSTALLED IN SAME UTILITY',\n",
       "       'SIM AND METER-SIM LINK FILE REQUIRED',\n",
       "       'METER-SIM LINK FILE REQUIRED',\n",
       "       'METER , SIM AND METER-SIM LINK FILE REQUIRED',\n",
       "       'NEED TO CHECK THIS FILE'], dtype=object)"
      ]
     },
     "execution_count": 124,
     "metadata": {},
     "output_type": "execute_result"
    }
   ],
   "source": [
    "warehouse_meter_imsi_data_check['ACTION TAKEN'].unique()"
   ]
  },
  {
   "cell_type": "code",
   "execution_count": 125,
   "metadata": {},
   "outputs": [
    {
     "data": {
      "text/plain": [
       "METER NO.                       9\n",
       "PHASE                           9\n",
       "WAREHOUSE_UTILITY               9\n",
       "IME                             9\n",
       "FINAL SIM                       9\n",
       "IMSI                            9\n",
       "IP                              9\n",
       "MFG_SERIAL_NUM                  9\n",
       "METER_MATCH_UDC_ID              9\n",
       "METER_MATCH_IP                  9\n",
       "INSTALLATIONNUMBER              9\n",
       "METER_MATCH_STATUS              9\n",
       "METER_MATCH_UTILITY             9\n",
       "IMSI_MATCHED_METER_NO           9\n",
       "IMSI_MATCHED_IP                 9\n",
       "IMSI_MATCHED_STATUS             9\n",
       "IMSI_MATCHED_UTILITY            9\n",
       "IP_MATCHED_METER_NO             9\n",
       "IP_MATCH_UDC_ID                 9\n",
       "IP_MATCHED_IP                   9\n",
       "IP_MATCHED_STATUS               9\n",
       "IP_MATCHED_UTILITY              9\n",
       "SIM SET CHECK STATUS            9\n",
       "METER_SIM                       9\n",
       "METER_ORG                       9\n",
       "SIM_ORG                         9\n",
       "METER_IP                        9\n",
       "SIM SET CHECK STATUS RECHECK    9\n",
       "ACTION TAKEN                    9\n",
       "NEW_METER_NUMBER                9\n",
       "DUPLICATED                      9\n",
       "dtype: int64"
      ]
     },
     "execution_count": 125,
     "metadata": {},
     "output_type": "execute_result"
    }
   ],
   "source": [
    "warehouse_meter_imsi_data_check[warehouse_meter_imsi_data_check['ACTION TAKEN']=='NEED TO CHECK THIS FILE'].count()"
   ]
  },
  {
   "cell_type": "code",
   "execution_count": 126,
   "metadata": {},
   "outputs": [
    {
     "data": {
      "text/plain": [
       "array(['Unique'], dtype=object)"
      ]
     },
     "execution_count": 126,
     "metadata": {},
     "output_type": "execute_result"
    }
   ],
   "source": [
    "warehouse_meter_imsi_data_check['DUPLICATED'].unique()"
   ]
  },
  {
   "cell_type": "code",
   "execution_count": 127,
   "metadata": {},
   "outputs": [
    {
     "data": {
      "text/plain": [
       "(5776, 31)"
      ]
     },
     "execution_count": 127,
     "metadata": {},
     "output_type": "execute_result"
    }
   ],
   "source": [
    "warehouse_meter_imsi_data_check.shape"
   ]
  },
  {
   "cell_type": "markdown",
   "metadata": {},
   "source": [
    "# extra\n",
    "\n",
    "\n",
    "####  THIS WILL REMOVE THE DUPLICATE  "
   ]
  },
  {
   "cell_type": "code",
   "execution_count": 128,
   "metadata": {},
   "outputs": [],
   "source": [
    "#warehouse_meter_imsi_data_check.drop[warehouse_meter_imsi_data_check['DUPLICATED']=='Duplicated']\n",
    "\n",
    "# Assuming warehouse_meter_imsi_data_check is your DataFrame\n",
    "\n",
    "\n",
    "#warehouse_meter_imsi_data_check.drop(warehouse_meter_imsi_data_check[warehouse_meter_imsi_data_check['DUPLICATED'] == 'Duplicated'].index, inplace=True)\n"
   ]
  },
  {
   "cell_type": "code",
   "execution_count": 129,
   "metadata": {},
   "outputs": [
    {
     "data": {
      "text/plain": [
       "(5776, 31)"
      ]
     },
     "execution_count": 129,
     "metadata": {},
     "output_type": "execute_result"
    }
   ],
   "source": [
    "warehouse_meter_imsi_data_check.shape"
   ]
  },
  {
   "cell_type": "markdown",
   "metadata": {},
   "source": [
    "# creating meter-sim link file"
   ]
  },
  {
   "cell_type": "code",
   "execution_count": 130,
   "metadata": {},
   "outputs": [],
   "source": [
    "# Convert all columns to string data type\n",
    "\n",
    "# change into str\n",
    "warehouse_meter_imsi_data_check = warehouse_meter_imsi_data_check.astype(str)\n",
    "# ----------------------------------------------------------------------------------\n",
    "# change into upper\n",
    "warehouse_meter_imsi_data_check.columns = warehouse_meter_imsi_data_check.columns.str.upper()\n",
    "# ----------------------------------------------------------------------------------\n",
    "# Remove leading and trailing whitespaces from all columns where dtype is 'O'\n",
    "warehouse_meter_imsi_data_check = warehouse_meter_imsi_data_check.apply(lambda x: x.str.strip() if x.dtype == 'O' else x)\n",
    "\n"
   ]
  },
  {
   "cell_type": "code",
   "execution_count": 131,
   "metadata": {},
   "outputs": [
    {
     "data": {
      "text/plain": [
       "array(['SET IS IN INSTALLED STAGE', 'IMSI IS IN INSTALLED STAGE',\n",
       "       'METER IS IN INSTALLED STAGE', 'BOTH INSTALLED IN SAME UTILITY',\n",
       "       'SIM AND METER-SIM LINK FILE REQUIRED',\n",
       "       'METER-SIM LINK FILE REQUIRED',\n",
       "       'METER , SIM AND METER-SIM LINK FILE REQUIRED',\n",
       "       'NEED TO CHECK THIS FILE'], dtype=object)"
      ]
     },
     "execution_count": 131,
     "metadata": {},
     "output_type": "execute_result"
    }
   ],
   "source": [
    "#METER , SIM AND METER-SIM LINK FILE REQUIRED\n",
    "\n",
    "#SIM AND METER-SIM LINK FILE REQUIRED\n",
    "\n",
    "#METER-SIM LINK FILE REQUIRED\n",
    "warehouse_meter_imsi_data_check['ACTION TAKEN'].unique()"
   ]
  },
  {
   "cell_type": "markdown",
   "metadata": {},
   "source": [
    "# delete this line"
   ]
  },
  {
   "cell_type": "code",
   "execution_count": 132,
   "metadata": {},
   "outputs": [],
   "source": [
    "#import pandas as pd\n",
    "\n",
    "# Assuming df is your DataFrame containing the warehouse_meter_imsi_data_check dataset\n",
    "#warehouse_meter_imsi_data_check['ACTION TAKEN'] = warehouse_meter_imsi_data_check['ACTION TAKEN'].replace('SET IS IN INSTALLED STAGE', 'METER , SIM AND METER-SIM LINK FILE REQUIRED')\n",
    "\n",
    "#warehouse_meter_imsi_data_check = warehouse_meter_imsi_data_check[warehouse_meter_imsi_data_check['DUPLICATED']=='Unique']\n"
   ]
  },
  {
   "cell_type": "code",
   "execution_count": 133,
   "metadata": {},
   "outputs": [],
   "source": [
    "# creating meter_sim_link_file\n",
    "\n",
    "#CREATE_METER_SIM_AND_METER_SIM_LINK_FILE= warehouse_meter_imsi_data_check[(warehouse_meter_imsi_data_check['ACTION TAKEN']=='METER,SIM AND METER-SIM LINK FILE REQUIRED') | (warehouse_meter_imsi_data_check['ACTION TAKEN']=='METER IS IN INSTALLED STAGE') | (warehouse_meter_imsi_data_check['ACTION TAKEN']=='NEED TO CHECK THIS FILE')]\n",
    "CREATE_METER_SIM_AND_METER_SIM_LINK_FILE= warehouse_meter_imsi_data_check[(warehouse_meter_imsi_data_check['ACTION TAKEN']=='METER , SIM AND METER-SIM LINK FILE REQUIRED')]\n",
    "\n",
    "CREATE_SIM_AND_METER_SIM_LINK_FILE= warehouse_meter_imsi_data_check[(warehouse_meter_imsi_data_check['ACTION TAKEN']=='SIM AND METER-SIM LINK FILE REQUIRED')]\n",
    "\n",
    "CREATE_METER_SIM_LINK_FILE= warehouse_meter_imsi_data_check[(warehouse_meter_imsi_data_check['ACTION TAKEN']=='METER-SIM LINK FILE REQUIRED')]\n",
    "                                                                          "
   ]
  },
  {
   "cell_type": "code",
   "execution_count": 134,
   "metadata": {},
   "outputs": [
    {
     "data": {
      "text/plain": [
       "(3, 31)"
      ]
     },
     "execution_count": 134,
     "metadata": {},
     "output_type": "execute_result"
    }
   ],
   "source": [
    "CREATE_METER_SIM_AND_METER_SIM_LINK_FILE.shape"
   ]
  },
  {
   "cell_type": "code",
   "execution_count": 135,
   "metadata": {},
   "outputs": [
    {
     "name": "stdout",
     "output_type": "stream",
     "text": [
      " CREATE_METER_SIM_AND_METER_SIM_LINK_FILE - UNIQUE : ['METER , SIM AND METER-SIM LINK FILE REQUIRED']\n",
      " CREATE_SIM_AND_METER_SIM_LINK_FILE - UNIQUE : ['SIM AND METER-SIM LINK FILE REQUIRED']\n",
      " CREATE_METER_SIM_LINK_FILE - UNIQUE : ['METER-SIM LINK FILE REQUIRED']\n"
     ]
    }
   ],
   "source": [
    "print(f\" CREATE_METER_SIM_AND_METER_SIM_LINK_FILE - UNIQUE : {CREATE_METER_SIM_AND_METER_SIM_LINK_FILE['ACTION TAKEN'].unique()}\")\n",
    "print(f\" CREATE_SIM_AND_METER_SIM_LINK_FILE - UNIQUE : {CREATE_SIM_AND_METER_SIM_LINK_FILE['ACTION TAKEN'].unique()}\")\n",
    "print(f\" CREATE_METER_SIM_LINK_FILE - UNIQUE : {CREATE_METER_SIM_LINK_FILE['ACTION TAKEN'].unique()}\")\n"
   ]
  },
  {
   "cell_type": "code",
   "execution_count": 136,
   "metadata": {},
   "outputs": [
    {
     "data": {
      "text/plain": [
       "(1, 31)"
      ]
     },
     "execution_count": 136,
     "metadata": {},
     "output_type": "execute_result"
    }
   ],
   "source": [
    "CREATE_METER_SIM_LINK_FILE.shape"
   ]
  },
  {
   "cell_type": "markdown",
   "metadata": {},
   "source": [
    "### Meter-sim link file for all 3 cases"
   ]
  },
  {
   "cell_type": "code",
   "execution_count": 137,
   "metadata": {},
   "outputs": [],
   "source": [
    "# this file is meter-sim link code"
   ]
  },
  {
   "cell_type": "code",
   "execution_count": 138,
   "metadata": {},
   "outputs": [
    {
     "name": "stderr",
     "output_type": "stream",
     "text": [
      "C:\\Users\\Ratan Kumar Jha\\AppData\\Local\\Temp\\ipykernel_21476\\2655918992.py:5: SettingWithCopyWarning: \n",
      "A value is trying to be set on a copy of a slice from a DataFrame.\n",
      "Try using .loc[row_indexer,col_indexer] = value instead\n",
      "\n",
      "See the caveats in the documentation: https://pandas.pydata.org/pandas-docs/stable/user_guide/indexing.html#returning-a-view-versus-a-copy\n",
      "  CREATE_METER_SIM_AND_METER_SIM_LINK_FILE['meter_sim_link_(M,S & M-S)_single_file_data'] = CREATE_METER_SIM_AND_METER_SIM_LINK_FILE.apply(fun_meter_sim_link_file, axis=1)\n",
      "C:\\Users\\Ratan Kumar Jha\\AppData\\Local\\Temp\\ipykernel_21476\\2655918992.py:6: SettingWithCopyWarning: \n",
      "A value is trying to be set on a copy of a slice from a DataFrame.\n",
      "Try using .loc[row_indexer,col_indexer] = value instead\n",
      "\n",
      "See the caveats in the documentation: https://pandas.pydata.org/pandas-docs/stable/user_guide/indexing.html#returning-a-view-versus-a-copy\n",
      "  CREATE_SIM_AND_METER_SIM_LINK_FILE['meter_sim_link_(S & M-S)_single_file_data'] = CREATE_SIM_AND_METER_SIM_LINK_FILE.apply(fun_meter_sim_link_file, axis=1)\n",
      "C:\\Users\\Ratan Kumar Jha\\AppData\\Local\\Temp\\ipykernel_21476\\2655918992.py:7: SettingWithCopyWarning: \n",
      "A value is trying to be set on a copy of a slice from a DataFrame.\n",
      "Try using .loc[row_indexer,col_indexer] = value instead\n",
      "\n",
      "See the caveats in the documentation: https://pandas.pydata.org/pandas-docs/stable/user_guide/indexing.html#returning-a-view-versus-a-copy\n",
      "  CREATE_METER_SIM_LINK_FILE['meter_sim_link_(M-S)_single_file_data'] = CREATE_METER_SIM_LINK_FILE.apply(fun_meter_sim_link_file, axis=1)\n"
     ]
    }
   ],
   "source": [
    "def fun_meter_sim_link_file(row):\n",
    "\n",
    "    return \"{};EP2PMeter;{};{};{}\".format(row['NEW_METER_NUMBER'], row['IMSI'],row['FINAL SIM'],row['WAREHOUSE_UTILITY'])\n",
    "\n",
    "CREATE_METER_SIM_AND_METER_SIM_LINK_FILE['meter_sim_link_(M,S & M-S)_single_file_data'] = CREATE_METER_SIM_AND_METER_SIM_LINK_FILE.apply(fun_meter_sim_link_file, axis=1)\n",
    "CREATE_SIM_AND_METER_SIM_LINK_FILE['meter_sim_link_(S & M-S)_single_file_data'] = CREATE_SIM_AND_METER_SIM_LINK_FILE.apply(fun_meter_sim_link_file, axis=1)\n",
    "CREATE_METER_SIM_LINK_FILE['meter_sim_link_(M-S)_single_file_data'] = CREATE_METER_SIM_LINK_FILE.apply(fun_meter_sim_link_file, axis=1)"
   ]
  },
  {
   "cell_type": "code",
   "execution_count": 139,
   "metadata": {},
   "outputs": [
    {
     "data": {
      "text/html": [
       "<div>\n",
       "<style scoped>\n",
       "    .dataframe tbody tr th:only-of-type {\n",
       "        vertical-align: middle;\n",
       "    }\n",
       "\n",
       "    .dataframe tbody tr th {\n",
       "        vertical-align: top;\n",
       "    }\n",
       "\n",
       "    .dataframe thead th {\n",
       "        text-align: right;\n",
       "    }\n",
       "</style>\n",
       "<table border=\"1\" class=\"dataframe\">\n",
       "  <thead>\n",
       "    <tr style=\"text-align: right;\">\n",
       "      <th></th>\n",
       "      <th>METER NO.</th>\n",
       "      <th>PHASE</th>\n",
       "      <th>WAREHOUSE_UTILITY</th>\n",
       "      <th>IME</th>\n",
       "      <th>FINAL SIM</th>\n",
       "      <th>IMSI</th>\n",
       "      <th>IP</th>\n",
       "      <th>MFG_SERIAL_NUM</th>\n",
       "      <th>METER_MATCH_UDC_ID</th>\n",
       "      <th>METER_MATCH_IP</th>\n",
       "      <th>INSTALLATIONNUMBER</th>\n",
       "      <th>METER_MATCH_STATUS</th>\n",
       "      <th>METER_MATCH_UTILITY</th>\n",
       "      <th>IMSI_MATCHED_METER_NO</th>\n",
       "      <th>IMSI_MATCHED_IP</th>\n",
       "      <th>IMSI_MATCHED_STATUS</th>\n",
       "      <th>IMSI_MATCHED_UTILITY</th>\n",
       "      <th>IP_MATCHED_METER_NO</th>\n",
       "      <th>IP_MATCH_UDC_ID</th>\n",
       "      <th>IP_MATCHED_IP</th>\n",
       "      <th>IP_MATCHED_STATUS</th>\n",
       "      <th>IP_MATCHED_UTILITY</th>\n",
       "      <th>SIM SET CHECK STATUS</th>\n",
       "      <th>METER_SIM</th>\n",
       "      <th>METER_ORG</th>\n",
       "      <th>SIM_ORG</th>\n",
       "      <th>METER_IP</th>\n",
       "      <th>SIM SET CHECK STATUS RECHECK</th>\n",
       "      <th>ACTION TAKEN</th>\n",
       "      <th>NEW_METER_NUMBER</th>\n",
       "      <th>DUPLICATED</th>\n",
       "      <th>meter_sim_link_(M,S &amp; M-S)_single_file_data</th>\n",
       "    </tr>\n",
       "  </thead>\n",
       "  <tbody>\n",
       "    <tr>\n",
       "      <th>5463</th>\n",
       "      <td>LT0912526</td>\n",
       "      <td>1 Phase</td>\n",
       "      <td>NBPDCL</td>\n",
       "      <td>861557061536253</td>\n",
       "      <td>8991856040707038415</td>\n",
       "      <td>405856707583410</td>\n",
       "      <td>2405:0203:052F:0C2F:0000:0000:0000:0010</td>\n",
       "      <td>LT0912526</td>\n",
       "      <td>405856707583410</td>\n",
       "      <td>2405:0203:052F:0C2F:0000:0000:0000:0010</td>\n",
       "      <td>5002641353</td>\n",
       "      <td>Retired</td>\n",
       "      <td>SBPDCL</td>\n",
       "      <td>LT0912526</td>\n",
       "      <td>2405:0203:052F:0C2F:0000:0000:0000:0010</td>\n",
       "      <td>Retired</td>\n",
       "      <td>SBPDCL</td>\n",
       "      <td>LT0912526</td>\n",
       "      <td>405856707583410</td>\n",
       "      <td>2405:0203:052F:0C2F:0000:0000:0000:0010</td>\n",
       "      <td>Retired</td>\n",
       "      <td>SBPDCL</td>\n",
       "      <td>SAME SET IN DIFFERENT UTILITY</td>\n",
       "      <td>True</td>\n",
       "      <td>False</td>\n",
       "      <td>False</td>\n",
       "      <td>True</td>\n",
       "      <td>SAME SET IN DIFFERENT UTILITY</td>\n",
       "      <td>METER , SIM AND METER-SIM LINK FILE REQUIRED</td>\n",
       "      <td>LNTLT0912526</td>\n",
       "      <td>Unique</td>\n",
       "      <td>LNTLT0912526;EP2PMeter;405856707583410;8991856...</td>\n",
       "    </tr>\n",
       "    <tr>\n",
       "      <th>5675</th>\n",
       "      <td>gp5021484</td>\n",
       "      <td>1 Phase</td>\n",
       "      <td>SBPDCL</td>\n",
       "      <td>869912030771261</td>\n",
       "      <td>8991759035212716411</td>\n",
       "      <td>404751250716411</td>\n",
       "      <td>fd00:0000:0804:4EB:0000:0000:0000:0001</td>\n",
       "      <td>nan</td>\n",
       "      <td>nan</td>\n",
       "      <td>nan</td>\n",
       "      <td>nan</td>\n",
       "      <td>nan</td>\n",
       "      <td>nan</td>\n",
       "      <td>nan</td>\n",
       "      <td>nan</td>\n",
       "      <td>nan</td>\n",
       "      <td>nan</td>\n",
       "      <td>nan</td>\n",
       "      <td>nan</td>\n",
       "      <td>nan</td>\n",
       "      <td>nan</td>\n",
       "      <td>nan</td>\n",
       "      <td>DIFFERENT SET IN DIFFERENT UTILITY</td>\n",
       "      <td>False</td>\n",
       "      <td>False</td>\n",
       "      <td>False</td>\n",
       "      <td>False</td>\n",
       "      <td>DIFFERENT SET IN DIFFERENT UTILITY</td>\n",
       "      <td>METER , SIM AND METER-SIM LINK FILE REQUIRED</td>\n",
       "      <td>gp5021484</td>\n",
       "      <td>Unique</td>\n",
       "      <td>gp5021484;EP2PMeter;404751250716411;8991759035...</td>\n",
       "    </tr>\n",
       "  </tbody>\n",
       "</table>\n",
       "</div>"
      ],
      "text/plain": [
       "      METER NO.    PHASE WAREHOUSE_UTILITY              IME  \\\n",
       "5463  LT0912526  1 Phase            NBPDCL  861557061536253   \n",
       "5675  gp5021484  1 Phase            SBPDCL  869912030771261   \n",
       "\n",
       "                FINAL SIM             IMSI  \\\n",
       "5463  8991856040707038415  405856707583410   \n",
       "5675  8991759035212716411  404751250716411   \n",
       "\n",
       "                                           IP MFG_SERIAL_NUM  \\\n",
       "5463  2405:0203:052F:0C2F:0000:0000:0000:0010      LT0912526   \n",
       "5675   fd00:0000:0804:4EB:0000:0000:0000:0001            nan   \n",
       "\n",
       "     METER_MATCH_UDC_ID                           METER_MATCH_IP  \\\n",
       "5463    405856707583410  2405:0203:052F:0C2F:0000:0000:0000:0010   \n",
       "5675                nan                                      nan   \n",
       "\n",
       "     INSTALLATIONNUMBER METER_MATCH_STATUS METER_MATCH_UTILITY  \\\n",
       "5463         5002641353            Retired              SBPDCL   \n",
       "5675                nan                nan                 nan   \n",
       "\n",
       "     IMSI_MATCHED_METER_NO                          IMSI_MATCHED_IP  \\\n",
       "5463             LT0912526  2405:0203:052F:0C2F:0000:0000:0000:0010   \n",
       "5675                   nan                                      nan   \n",
       "\n",
       "     IMSI_MATCHED_STATUS IMSI_MATCHED_UTILITY IP_MATCHED_METER_NO  \\\n",
       "5463             Retired               SBPDCL           LT0912526   \n",
       "5675                 nan                  nan                 nan   \n",
       "\n",
       "      IP_MATCH_UDC_ID                            IP_MATCHED_IP  \\\n",
       "5463  405856707583410  2405:0203:052F:0C2F:0000:0000:0000:0010   \n",
       "5675              nan                                      nan   \n",
       "\n",
       "     IP_MATCHED_STATUS IP_MATCHED_UTILITY                SIM SET CHECK STATUS  \\\n",
       "5463           Retired             SBPDCL       SAME SET IN DIFFERENT UTILITY   \n",
       "5675               nan                nan  DIFFERENT SET IN DIFFERENT UTILITY   \n",
       "\n",
       "     METER_SIM METER_ORG SIM_ORG METER_IP        SIM SET CHECK STATUS RECHECK  \\\n",
       "5463      True     False   False     True       SAME SET IN DIFFERENT UTILITY   \n",
       "5675     False     False   False    False  DIFFERENT SET IN DIFFERENT UTILITY   \n",
       "\n",
       "                                      ACTION TAKEN NEW_METER_NUMBER  \\\n",
       "5463  METER , SIM AND METER-SIM LINK FILE REQUIRED     LNTLT0912526   \n",
       "5675  METER , SIM AND METER-SIM LINK FILE REQUIRED        gp5021484   \n",
       "\n",
       "     DUPLICATED        meter_sim_link_(M,S & M-S)_single_file_data  \n",
       "5463     Unique  LNTLT0912526;EP2PMeter;405856707583410;8991856...  \n",
       "5675     Unique  gp5021484;EP2PMeter;404751250716411;8991759035...  "
      ]
     },
     "execution_count": 139,
     "metadata": {},
     "output_type": "execute_result"
    }
   ],
   "source": [
    "\n",
    "CREATE_METER_SIM_AND_METER_SIM_LINK_FILE.head(2)"
   ]
  },
  {
   "cell_type": "code",
   "execution_count": 140,
   "metadata": {},
   "outputs": [],
   "source": [
    "#EESL_BSNL_PO0000000402_00000_SIM_20231220_121002_SBPDCL\n",
    "#404751250004001;8991759065212004001;fd00:0000:0800:CC19:0000:0000:0000:0001;;BSNLEDF;ACTIVE;SBPDCL"
   ]
  },
  {
   "cell_type": "markdown",
   "metadata": {},
   "source": [
    "#  this code is for sim file for all the 2 cases"
   ]
  },
  {
   "cell_type": "code",
   "execution_count": 141,
   "metadata": {},
   "outputs": [
    {
     "name": "stderr",
     "output_type": "stream",
     "text": [
      "C:\\Users\\Ratan Kumar Jha\\AppData\\Local\\Temp\\ipykernel_21476\\669809455.py:5: SettingWithCopyWarning: \n",
      "A value is trying to be set on a copy of a slice from a DataFrame.\n",
      "Try using .loc[row_indexer,col_indexer] = value instead\n",
      "\n",
      "See the caveats in the documentation: https://pandas.pydata.org/pandas-docs/stable/user_guide/indexing.html#returning-a-view-versus-a-copy\n",
      "  CREATE_METER_SIM_AND_METER_SIM_LINK_FILE['sim_link_(M,S & M-S)_single_file_data'] = CREATE_METER_SIM_AND_METER_SIM_LINK_FILE.apply(fun_sim_file, axis=1)\n",
      "C:\\Users\\Ratan Kumar Jha\\AppData\\Local\\Temp\\ipykernel_21476\\669809455.py:6: SettingWithCopyWarning: \n",
      "A value is trying to be set on a copy of a slice from a DataFrame.\n",
      "Try using .loc[row_indexer,col_indexer] = value instead\n",
      "\n",
      "See the caveats in the documentation: https://pandas.pydata.org/pandas-docs/stable/user_guide/indexing.html#returning-a-view-versus-a-copy\n",
      "  CREATE_SIM_AND_METER_SIM_LINK_FILE['sim_link_(S & M-S)_single_file_data'] = CREATE_SIM_AND_METER_SIM_LINK_FILE.apply(fun_sim_file, axis=1)\n"
     ]
    }
   ],
   "source": [
    "def fun_sim_file(row):\n",
    "\n",
    "    return \"{};{};{};;BSNLEDF;ACTIVE;{}\".format(row['IMSI'], row['FINAL SIM'],row['IP'],row['WAREHOUSE_UTILITY'])\n",
    "\n",
    "CREATE_METER_SIM_AND_METER_SIM_LINK_FILE['sim_link_(M,S & M-S)_single_file_data'] = CREATE_METER_SIM_AND_METER_SIM_LINK_FILE.apply(fun_sim_file, axis=1)\n",
    "CREATE_SIM_AND_METER_SIM_LINK_FILE['sim_link_(S & M-S)_single_file_data'] = CREATE_SIM_AND_METER_SIM_LINK_FILE.apply(fun_sim_file, axis=1)\n"
   ]
  },
  {
   "cell_type": "code",
   "execution_count": null,
   "metadata": {},
   "outputs": [],
   "source": []
  },
  {
   "cell_type": "markdown",
   "metadata": {},
   "source": [
    "# THIS CODE IS FOR METER FILE FOR METER,SIM,METER-SIM LINK FILE"
   ]
  },
  {
   "cell_type": "code",
   "execution_count": null,
   "metadata": {},
   "outputs": [],
   "source": []
  },
  {
   "cell_type": "code",
   "execution_count": 142,
   "metadata": {},
   "outputs": [
    {
     "data": {
      "text/plain": [
       "array(['1 Phase'], dtype=object)"
      ]
     },
     "execution_count": 142,
     "metadata": {},
     "output_type": "execute_result"
    }
   ],
   "source": [
    "CREATE_METER_SIM_AND_METER_SIM_LINK_FILE['PHASE'].unique()"
   ]
  },
  {
   "cell_type": "code",
   "execution_count": null,
   "metadata": {},
   "outputs": [],
   "source": []
  },
  {
   "cell_type": "markdown",
   "metadata": {},
   "source": [
    "##### 1 phase and 3 phase"
   ]
  },
  {
   "cell_type": "code",
   "execution_count": 143,
   "metadata": {},
   "outputs": [],
   "source": [
    "# 1 phase and 3 phase meter file :   meter, sim , meter-sim link file \n",
    "\n",
    "\n",
    "CREATE_METER_SIM_AND_METER_SIM_LINK_FILE_1_PHASE = CREATE_METER_SIM_AND_METER_SIM_LINK_FILE[CREATE_METER_SIM_AND_METER_SIM_LINK_FILE['PHASE']=='1 Phase']\n",
    "CREATE_METER_SIM_AND_METER_SIM_LINK_FILE_1_PHASE_GENUS = CREATE_METER_SIM_AND_METER_SIM_LINK_FILE_1_PHASE[CREATE_METER_SIM_AND_METER_SIM_LINK_FILE_1_PHASE['NEW_METER_NUMBER'].str.startswith('GOE')]\n",
    "CREATE_METER_SIM_AND_METER_SIM_LINK_FILE_1_PHASE_LNT = CREATE_METER_SIM_AND_METER_SIM_LINK_FILE_1_PHASE[CREATE_METER_SIM_AND_METER_SIM_LINK_FILE_1_PHASE['NEW_METER_NUMBER'].str.startswith('LNT')]\n",
    "\n",
    "\n",
    "\n",
    "CREATE_METER_SIM_AND_METER_SIM_LINK_FILE_3_PHASE = CREATE_METER_SIM_AND_METER_SIM_LINK_FILE[CREATE_METER_SIM_AND_METER_SIM_LINK_FILE['PHASE']=='3 Phase']\n",
    "CREATE_METER_SIM_AND_METER_SIM_LINK_FILE_3_PHASE_GENUS = CREATE_METER_SIM_AND_METER_SIM_LINK_FILE_3_PHASE[CREATE_METER_SIM_AND_METER_SIM_LINK_FILE_3_PHASE['NEW_METER_NUMBER'].str.startswith('GOE')]\n",
    "CREATE_METER_SIM_AND_METER_SIM_LINK_FILE_3_PHASE_LNT = CREATE_METER_SIM_AND_METER_SIM_LINK_FILE_3_PHASE[CREATE_METER_SIM_AND_METER_SIM_LINK_FILE_3_PHASE['NEW_METER_NUMBER'].str.startswith('LNT')]\n"
   ]
  },
  {
   "cell_type": "code",
   "execution_count": 144,
   "metadata": {},
   "outputs": [
    {
     "data": {
      "text/html": [
       "<div>\n",
       "<style scoped>\n",
       "    .dataframe tbody tr th:only-of-type {\n",
       "        vertical-align: middle;\n",
       "    }\n",
       "\n",
       "    .dataframe tbody tr th {\n",
       "        vertical-align: top;\n",
       "    }\n",
       "\n",
       "    .dataframe thead th {\n",
       "        text-align: right;\n",
       "    }\n",
       "</style>\n",
       "<table border=\"1\" class=\"dataframe\">\n",
       "  <thead>\n",
       "    <tr style=\"text-align: right;\">\n",
       "      <th></th>\n",
       "      <th>METER NO.</th>\n",
       "      <th>PHASE</th>\n",
       "      <th>WAREHOUSE_UTILITY</th>\n",
       "      <th>IME</th>\n",
       "      <th>FINAL SIM</th>\n",
       "      <th>IMSI</th>\n",
       "      <th>IP</th>\n",
       "      <th>MFG_SERIAL_NUM</th>\n",
       "      <th>METER_MATCH_UDC_ID</th>\n",
       "      <th>METER_MATCH_IP</th>\n",
       "      <th>INSTALLATIONNUMBER</th>\n",
       "      <th>METER_MATCH_STATUS</th>\n",
       "      <th>METER_MATCH_UTILITY</th>\n",
       "      <th>IMSI_MATCHED_METER_NO</th>\n",
       "      <th>IMSI_MATCHED_IP</th>\n",
       "      <th>IMSI_MATCHED_STATUS</th>\n",
       "      <th>IMSI_MATCHED_UTILITY</th>\n",
       "      <th>IP_MATCHED_METER_NO</th>\n",
       "      <th>IP_MATCH_UDC_ID</th>\n",
       "      <th>IP_MATCHED_IP</th>\n",
       "      <th>IP_MATCHED_STATUS</th>\n",
       "      <th>IP_MATCHED_UTILITY</th>\n",
       "      <th>SIM SET CHECK STATUS</th>\n",
       "      <th>METER_SIM</th>\n",
       "      <th>METER_ORG</th>\n",
       "      <th>SIM_ORG</th>\n",
       "      <th>METER_IP</th>\n",
       "      <th>SIM SET CHECK STATUS RECHECK</th>\n",
       "      <th>ACTION TAKEN</th>\n",
       "      <th>NEW_METER_NUMBER</th>\n",
       "      <th>DUPLICATED</th>\n",
       "      <th>meter_sim_link_(M,S &amp; M-S)_single_file_data</th>\n",
       "      <th>sim_link_(M,S &amp; M-S)_single_file_data</th>\n",
       "    </tr>\n",
       "  </thead>\n",
       "  <tbody>\n",
       "    <tr>\n",
       "      <th>5463</th>\n",
       "      <td>LT0912526</td>\n",
       "      <td>1 Phase</td>\n",
       "      <td>NBPDCL</td>\n",
       "      <td>861557061536253</td>\n",
       "      <td>8991856040707038415</td>\n",
       "      <td>405856707583410</td>\n",
       "      <td>2405:0203:052F:0C2F:0000:0000:0000:0010</td>\n",
       "      <td>LT0912526</td>\n",
       "      <td>405856707583410</td>\n",
       "      <td>2405:0203:052F:0C2F:0000:0000:0000:0010</td>\n",
       "      <td>5002641353</td>\n",
       "      <td>Retired</td>\n",
       "      <td>SBPDCL</td>\n",
       "      <td>LT0912526</td>\n",
       "      <td>2405:0203:052F:0C2F:0000:0000:0000:0010</td>\n",
       "      <td>Retired</td>\n",
       "      <td>SBPDCL</td>\n",
       "      <td>LT0912526</td>\n",
       "      <td>405856707583410</td>\n",
       "      <td>2405:0203:052F:0C2F:0000:0000:0000:0010</td>\n",
       "      <td>Retired</td>\n",
       "      <td>SBPDCL</td>\n",
       "      <td>SAME SET IN DIFFERENT UTILITY</td>\n",
       "      <td>True</td>\n",
       "      <td>False</td>\n",
       "      <td>False</td>\n",
       "      <td>True</td>\n",
       "      <td>SAME SET IN DIFFERENT UTILITY</td>\n",
       "      <td>METER , SIM AND METER-SIM LINK FILE REQUIRED</td>\n",
       "      <td>LNTLT0912526</td>\n",
       "      <td>Unique</td>\n",
       "      <td>LNTLT0912526;EP2PMeter;405856707583410;8991856...</td>\n",
       "      <td>405856707583410;8991856040707038415;2405:0203:...</td>\n",
       "    </tr>\n",
       "  </tbody>\n",
       "</table>\n",
       "</div>"
      ],
      "text/plain": [
       "      METER NO.    PHASE WAREHOUSE_UTILITY              IME  \\\n",
       "5463  LT0912526  1 Phase            NBPDCL  861557061536253   \n",
       "\n",
       "                FINAL SIM             IMSI  \\\n",
       "5463  8991856040707038415  405856707583410   \n",
       "\n",
       "                                           IP MFG_SERIAL_NUM  \\\n",
       "5463  2405:0203:052F:0C2F:0000:0000:0000:0010      LT0912526   \n",
       "\n",
       "     METER_MATCH_UDC_ID                           METER_MATCH_IP  \\\n",
       "5463    405856707583410  2405:0203:052F:0C2F:0000:0000:0000:0010   \n",
       "\n",
       "     INSTALLATIONNUMBER METER_MATCH_STATUS METER_MATCH_UTILITY  \\\n",
       "5463         5002641353            Retired              SBPDCL   \n",
       "\n",
       "     IMSI_MATCHED_METER_NO                          IMSI_MATCHED_IP  \\\n",
       "5463             LT0912526  2405:0203:052F:0C2F:0000:0000:0000:0010   \n",
       "\n",
       "     IMSI_MATCHED_STATUS IMSI_MATCHED_UTILITY IP_MATCHED_METER_NO  \\\n",
       "5463             Retired               SBPDCL           LT0912526   \n",
       "\n",
       "      IP_MATCH_UDC_ID                            IP_MATCHED_IP  \\\n",
       "5463  405856707583410  2405:0203:052F:0C2F:0000:0000:0000:0010   \n",
       "\n",
       "     IP_MATCHED_STATUS IP_MATCHED_UTILITY           SIM SET CHECK STATUS  \\\n",
       "5463           Retired             SBPDCL  SAME SET IN DIFFERENT UTILITY   \n",
       "\n",
       "     METER_SIM METER_ORG SIM_ORG METER_IP   SIM SET CHECK STATUS RECHECK  \\\n",
       "5463      True     False   False     True  SAME SET IN DIFFERENT UTILITY   \n",
       "\n",
       "                                      ACTION TAKEN NEW_METER_NUMBER  \\\n",
       "5463  METER , SIM AND METER-SIM LINK FILE REQUIRED     LNTLT0912526   \n",
       "\n",
       "     DUPLICATED        meter_sim_link_(M,S & M-S)_single_file_data  \\\n",
       "5463     Unique  LNTLT0912526;EP2PMeter;405856707583410;8991856...   \n",
       "\n",
       "                  sim_link_(M,S & M-S)_single_file_data  \n",
       "5463  405856707583410;8991856040707038415;2405:0203:...  "
      ]
     },
     "execution_count": 144,
     "metadata": {},
     "output_type": "execute_result"
    }
   ],
   "source": [
    "CREATE_METER_SIM_AND_METER_SIM_LINK_FILE.head(1)"
   ]
  },
  {
   "cell_type": "code",
   "execution_count": 145,
   "metadata": {},
   "outputs": [
    {
     "data": {
      "text/plain": [
       "(3, 33)"
      ]
     },
     "execution_count": 145,
     "metadata": {},
     "output_type": "execute_result"
    }
   ],
   "source": [
    "CREATE_METER_SIM_AND_METER_SIM_LINK_FILE.shape"
   ]
  },
  {
   "cell_type": "markdown",
   "metadata": {},
   "source": [
    "### 1 PHASE"
   ]
  },
  {
   "cell_type": "code",
   "execution_count": 146,
   "metadata": {},
   "outputs": [],
   "source": [
    "def fun_meter_1_PHASE_GENUS_file(row):\n",
    "\n",
    "    return \"{};{};EP2PMeter;6_D1;SKM145-s2;GOE;2019;2019;DLMS;;;G36B7.145090;;;3G;;;;;{};4059;TCP;32;;;;1A2B3C4D;0;1;0;GOE_1PH_WC;1.0;{};{}\".format(row['NEW_METER_NUMBER'], row['METER NO.'],row['IME'],row['NEW_METER_NUMBER'],row['WAREHOUSE_UTILITY'])\n",
    "\n",
    "CREATE_METER_SIM_AND_METER_SIM_LINK_FILE_1_PHASE_GENUS['Meter_link_(M,S & M-S)_single_file_data'] = CREATE_METER_SIM_AND_METER_SIM_LINK_FILE_1_PHASE_GENUS.apply(fun_meter_1_PHASE_GENUS_file, axis=1)"
   ]
  },
  {
   "cell_type": "code",
   "execution_count": 147,
   "metadata": {},
   "outputs": [
    {
     "name": "stderr",
     "output_type": "stream",
     "text": [
      "C:\\Users\\Ratan Kumar Jha\\AppData\\Local\\Temp\\ipykernel_21476\\4219330656.py:5: SettingWithCopyWarning: \n",
      "A value is trying to be set on a copy of a slice from a DataFrame.\n",
      "Try using .loc[row_indexer,col_indexer] = value instead\n",
      "\n",
      "See the caveats in the documentation: https://pandas.pydata.org/pandas-docs/stable/user_guide/indexing.html#returning-a-view-versus-a-copy\n",
      "  CREATE_METER_SIM_AND_METER_SIM_LINK_FILE_1_PHASE_LNT['Meter_link_(M,S & M-S)_single_file_data'] = CREATE_METER_SIM_AND_METER_SIM_LINK_FILE_1_PHASE_LNT.apply(fun_meter_1_PHASE_LNT_file, axis=1)\n"
     ]
    }
   ],
   "source": [
    "def fun_meter_1_PHASE_LNT_file(row):\n",
    "\n",
    "    return \"{};{};EP2PMeter;6_D1;AURORA;LNT;2021;2021;DLMS;;;RN13.00 00;;8;3G;;;;;{};4059;TCP;32;;;;lnt1;2;1;0;EESL_1PH_WC_V1;1.0;{};{}\".format(row['NEW_METER_NUMBER'], row['METER NO.'],row['IME'],row['NEW_METER_NUMBER'],row['WAREHOUSE_UTILITY'])\n",
    "\n",
    "CREATE_METER_SIM_AND_METER_SIM_LINK_FILE_1_PHASE_LNT['Meter_link_(M,S & M-S)_single_file_data'] = CREATE_METER_SIM_AND_METER_SIM_LINK_FILE_1_PHASE_LNT.apply(fun_meter_1_PHASE_LNT_file, axis=1)"
   ]
  },
  {
   "cell_type": "markdown",
   "metadata": {},
   "source": [
    "### 3 PHASE"
   ]
  },
  {
   "cell_type": "code",
   "execution_count": 148,
   "metadata": {},
   "outputs": [],
   "source": [
    "def fun_meter_3_PHASE_GENUS_file(row):\n",
    "\n",
    "    return \"{};{};EP2PMeter;7_D2;SKM345-s2;GOE;2019;2019;DLMS;;;GF6B7.325061;;;3G;;;;;{};4059;TCP;32;;;;1A2B3C4D;0;1;0;GOE_3PH_WC;1.0;{};{}\".format(row['NEW_METER_NUMBER'], row['METER NO.'],row['IME'],row['NEW_METER_NUMBER'],row['WAREHOUSE_UTILITY'])\n",
    "\n",
    "CREATE_METER_SIM_AND_METER_SIM_LINK_FILE_3_PHASE_GENUS['Meter_link_(M,S & M-S)_single_file_data'] = CREATE_METER_SIM_AND_METER_SIM_LINK_FILE_3_PHASE_GENUS.apply(fun_meter_3_PHASE_GENUS_file, axis=1)"
   ]
  },
  {
   "cell_type": "code",
   "execution_count": 149,
   "metadata": {},
   "outputs": [],
   "source": [
    "def fun_meter_3_PHASE_LNT_file(row):\n",
    "\n",
    "    return \"{};{};EP2PMeter;7_D2;REGOR;LNT;2021;2021;DLMS;;;3PBNC.82 01;;8;3G;;;;;{};4059;TCP;32;;;;lnt1;2;1;0;EESL_3PH_WC_V1;1.0;{};{}\".format(row['NEW_METER_NUMBER'], row['METER NO.'],row['IME'],row['NEW_METER_NUMBER'],row['WAREHOUSE_UTILITY'])\n",
    "\n",
    "CREATE_METER_SIM_AND_METER_SIM_LINK_FILE_3_PHASE_LNT['Meter_link_(M,S & M-S)_single_file_data'] = CREATE_METER_SIM_AND_METER_SIM_LINK_FILE_3_PHASE_LNT.apply(fun_meter_3_PHASE_LNT_file, axis=1)"
   ]
  },
  {
   "cell_type": "code",
   "execution_count": null,
   "metadata": {},
   "outputs": [],
   "source": []
  },
  {
   "cell_type": "markdown",
   "metadata": {},
   "source": [
    "#### concat file"
   ]
  },
  {
   "cell_type": "code",
   "execution_count": 150,
   "metadata": {},
   "outputs": [],
   "source": [
    "CREATE_METER_SIM_AND_METER_SIM_LINK_FILE_COCAT_ALL = pd.concat([CREATE_METER_SIM_AND_METER_SIM_LINK_FILE_1_PHASE_GENUS, CREATE_METER_SIM_AND_METER_SIM_LINK_FILE_1_PHASE_LNT,CREATE_METER_SIM_AND_METER_SIM_LINK_FILE_3_PHASE_GENUS,CREATE_METER_SIM_AND_METER_SIM_LINK_FILE_3_PHASE_LNT], ignore_index=True)"
   ]
  },
  {
   "cell_type": "code",
   "execution_count": 151,
   "metadata": {},
   "outputs": [],
   "source": [
    "CREATE_METER_SIM_AND_METER_SIM_LINK_FILE_COCAT_ALL.to_csv(r\"C:\\Users\\Ratan Kumar Jha\\Desktop\\METER_IMPORTATION_FOLDER\\CREATE_METER_SIM_AND_METER_SIM_LINK_FILE_COCAT_ALL.csv\",index=False)\n",
    "CREATE_METER_SIM_AND_METER_SIM_LINK_FILE.to_csv(r\"C:\\Users\\Ratan Kumar Jha\\Desktop\\METER_IMPORTATION_FOLDER\\CREATE_METER_SIM_AND_METER_SIM_LINK_FILE.csv\",index=False)"
   ]
  },
  {
   "cell_type": "code",
   "execution_count": 152,
   "metadata": {},
   "outputs": [],
   "source": [
    "# assign :  CREATE_METER_SIM_AND_METER_SIM_LINK_FILE_COCAT_ALL  - to -   CREATE_METER_SIM_AND_METER_SIM_LINK_FILE\n",
    "\n",
    "CREATE_METER_SIM_AND_METER_SIM_LINK_FILE = CREATE_METER_SIM_AND_METER_SIM_LINK_FILE_COCAT_ALL"
   ]
  },
  {
   "cell_type": "code",
   "execution_count": 153,
   "metadata": {},
   "outputs": [],
   "source": [
    "# SAVING METER-SIM LINK FILE TO OUTPUT LOCATION\n",
    "\n",
    "CREATE_METER_SIM_AND_METER_SIM_LINK_FILE.to_csv(r\"C:\\Users\\Ratan Kumar Jha\\Desktop\\METER_IMPORTATION_FOLDER\\OUTPUT_DATA_FILE\\CREATE_METER_SIM_AND_METER_SIM_LINK_FILE.csv\",index=False)\n",
    "CREATE_SIM_AND_METER_SIM_LINK_FILE.to_csv(r\"C:\\Users\\Ratan Kumar Jha\\Desktop\\METER_IMPORTATION_FOLDER\\OUTPUT_DATA_FILE\\CREATE_SIM_AND_METER_SIM_LINK_FILE.csv\",index=False)\n",
    "CREATE_METER_SIM_LINK_FILE.to_csv(r\"C:\\Users\\Ratan Kumar Jha\\Desktop\\METER_IMPORTATION_FOLDER\\OUTPUT_DATA_FILE\\CREATE_METER_SIM_LINK_FILE.csv\",index=False)"
   ]
  },
  {
   "cell_type": "code",
   "execution_count": null,
   "metadata": {},
   "outputs": [],
   "source": []
  },
  {
   "cell_type": "markdown",
   "metadata": {},
   "source": [
    "# CREATING A NEW DATA FRAME"
   ]
  },
  {
   "cell_type": "code",
   "execution_count": null,
   "metadata": {},
   "outputs": [],
   "source": []
  },
  {
   "cell_type": "markdown",
   "metadata": {},
   "source": [
    "#### WORKING ON METER-SIM LINK FILE "
   ]
  },
  {
   "cell_type": "code",
   "execution_count": 154,
   "metadata": {},
   "outputs": [],
   "source": [
    "#METER SIM LINK\n",
    "\n",
    "# EESL_GENUS_PO0000000403_00000_SIM_Meter_Link_M_S_AND_MS_LINK\n",
    "# EESL_GENUS_PO0000000403_00000_SIM_Meter_Link_S_AND_MS_LINK\n",
    "# EESL_GENUS_PO0000000403_00000_SIM_Meter_Link_MS_LINK\n",
    "\n",
    "# SIM LINK FILE\n",
    "# EESL_BSNL_PO0000000403_00000_SIM_Link_S_M_AND_MS_LINK\n",
    "# EESL_BSNL_PO0000000403_00000_SIM_Link_S_AND_MS_LINK\n",
    "\n",
    "\n",
    "# METER FILE\n",
    "\n",
    "# EESL_GENUS_PO0000000403_00000_EP2PMeter_SBPDCL_Meter_Link_M_S_AND_MS_LINK"
   ]
  },
  {
   "cell_type": "code",
   "execution_count": 155,
   "metadata": {},
   "outputs": [],
   "source": [
    "# 1 \n",
    "# sim-meter link in meter,sim and meter-sim link file\n",
    "\n",
    "meter_sim_link_M_S_AND_MS_LINK_file_df = pd.DataFrame()\n",
    "meter_sim_link_M_S_AND_MS_LINK_file_df=CREATE_METER_SIM_AND_METER_SIM_LINK_FILE['meter_sim_link_(M,S & M-S)_single_file_data']\n",
    "if  not (meter_sim_link_M_S_AND_MS_LINK_file_df.empty):\n",
    "    meter_sim_link_M_S_AND_MS_LINK_file_df.to_csv(\"S_M_&_M_S_LINK_EESL_GENUS_PO0000000403_00000_SIM_Meter_Link.csv\",header=None,index=False)\n",
    "    EESL_GENUS_PO0000000403_00000_SIM_Meter_Link_M_S_AND_MS_LINK=pd.read_csv(r\"C:\\PYTHON\\EDF_CODE_AUTOMATION_PYTHON\\METER_MATCHING_DATA\\S_M_&_M_S_LINK_EESL_GENUS_PO0000000403_00000_SIM_Meter_Link.csv\",header=None)\n",
    "    EESL_GENUS_PO0000000403_00000_SIM_Meter_Link_M_S_AND_MS_LINK.head(1)\n",
    "else:\n",
    "    print(\" meter_sim_link_M_S_AND_MS_LINK_file_df :  EMPTY DATA FRAME\")\n"
   ]
  },
  {
   "cell_type": "code",
   "execution_count": 156,
   "metadata": {},
   "outputs": [],
   "source": [
    "# 2\n",
    "# sim-meter link in sim and meter-sim link file\n",
    "\n",
    "meter_sim_link_S_AND_MS_LINK_file_df = pd.DataFrame()\n",
    "meter_sim_link_S_AND_MS_LINK_file_df=CREATE_SIM_AND_METER_SIM_LINK_FILE['meter_sim_link_(S & M-S)_single_file_data']\n",
    "if  not (meter_sim_link_S_AND_MS_LINK_file_df.empty):\n",
    "    meter_sim_link_S_AND_MS_LINK_file_df.to_csv(\"S_&_M_S_LINK_EESL_GENUS_PO0000000403_00000_SIM_Meter_Link.csv\",header=None,index=False)\n",
    "    EESL_GENUS_PO0000000403_00000_SIM_Meter_Link_S_AND_MS_LINK=pd.read_csv(r\"C:\\PYTHON\\EDF_CODE_AUTOMATION_PYTHON\\METER_MATCHING_DATA\\S_&_M_S_LINK_EESL_GENUS_PO0000000403_00000_SIM_Meter_Link.csv\",header=None)\n",
    "    EESL_GENUS_PO0000000403_00000_SIM_Meter_Link_S_AND_MS_LINK.head(1)\n",
    "else:\n",
    "    print(\" meter_sim_link_S_AND_MS_LINK_file_df :  EMPTY DATA FRAME\")\n"
   ]
  },
  {
   "cell_type": "code",
   "execution_count": 157,
   "metadata": {},
   "outputs": [],
   "source": [
    "# 3\n",
    "# sim-meter link in meter-sim link file\n",
    "\n",
    "meter_sim_link_MS_LINK_file_df = pd.DataFrame()\n",
    "meter_sim_link_MS_LINK_file_df=CREATE_METER_SIM_LINK_FILE['meter_sim_link_(M-S)_single_file_data']\n",
    "if  not (meter_sim_link_MS_LINK_file_df.empty):\n",
    "    meter_sim_link_MS_LINK_file_df.to_csv(\"M_S_LINK_EESL_GENUS_PO0000000403_00000_SIM_Meter_Link.csv\",header=None,index=False)\n",
    "    EESL_GENUS_PO0000000403_00000_SIM_Meter_Link_MS_LINK=pd.read_csv(r\"C:\\PYTHON\\EDF_CODE_AUTOMATION_PYTHON\\METER_MATCHING_DATA\\M_S_LINK_EESL_GENUS_PO0000000403_00000_SIM_Meter_Link.csv\",header=None)\n",
    "    EESL_GENUS_PO0000000403_00000_SIM_Meter_Link_MS_LINK.head(1)\n",
    "else:\n",
    "    print(\" meter_sim_link_S_AND_MS_LINK_file_df :  EMPTY DATA FRAME\")\n"
   ]
  },
  {
   "cell_type": "code",
   "execution_count": null,
   "metadata": {},
   "outputs": [],
   "source": []
  },
  {
   "cell_type": "markdown",
   "metadata": {},
   "source": [
    "### working on sim link file"
   ]
  },
  {
   "cell_type": "code",
   "execution_count": null,
   "metadata": {},
   "outputs": [],
   "source": []
  },
  {
   "cell_type": "code",
   "execution_count": 158,
   "metadata": {},
   "outputs": [],
   "source": [
    "# 1\n",
    "# sim link file in meter,sim and meter-sim link file\n",
    "\n",
    "sim_link_M_S_AND_MS_LINK_file_df = pd.DataFrame()\n",
    "sim_link_M_S_AND_MS_LINK_file_df=CREATE_METER_SIM_AND_METER_SIM_LINK_FILE['sim_link_(M,S & M-S)_single_file_data'] \n",
    "if  not (sim_link_M_S_AND_MS_LINK_file_df.empty):\n",
    "    sim_link_M_S_AND_MS_LINK_file_df.to_csv(\"M_S_AND_MS_LINK_EESL_BSNL_PO0000000403_00000_SIM_Link.csv\",header=None,index=False)\n",
    "    EESL_BSNL_PO0000000403_00000_SIM_Link_S_M_AND_MS_LINK=pd.read_csv(r\"C:\\PYTHON\\EDF_CODE_AUTOMATION_PYTHON\\METER_MATCHING_DATA\\M_S_AND_MS_LINK_EESL_BSNL_PO0000000403_00000_SIM_Link.csv\",header=None)\n",
    "    EESL_BSNL_PO0000000403_00000_SIM_Link_S_M_AND_MS_LINK.head(1)\n",
    "else:\n",
    "    print(\" sim_link_M_S_AND_MS_LINK_file_df :  EMPTY DATA FRAME\")\n"
   ]
  },
  {
   "cell_type": "code",
   "execution_count": 159,
   "metadata": {},
   "outputs": [],
   "source": [
    "# 2 \n",
    "# sim link file in sim and meter-sim link file\n",
    "\n",
    "sim_link_S_AND_MS_LINK_file_df = pd.DataFrame()\n",
    "sim_link_S_AND_MS_LINK_file_df=CREATE_SIM_AND_METER_SIM_LINK_FILE['sim_link_(S & M-S)_single_file_data']\n",
    "if  not (sim_link_S_AND_MS_LINK_file_df.empty):\n",
    "    sim_link_S_AND_MS_LINK_file_df.to_csv(\"S_AND_MS_LINK_EESL_BSNL_PO0000000403_00000_SIM_Link.csv\",header=None,index=False)\n",
    "    EESL_BSNL_PO0000000403_00000_SIM_Link_S_AND_MS_LINK=pd.read_csv(r\"C:\\PYTHON\\EDF_CODE_AUTOMATION_PYTHON\\METER_MATCHING_DATA\\S_AND_MS_LINK_EESL_BSNL_PO0000000403_00000_SIM_Link.csv\",header=None)\n",
    "    EESL_BSNL_PO0000000403_00000_SIM_Link_S_AND_MS_LINK.head(1)\n",
    "else:\n",
    "    print(\" sim_link_S_AND_MS_LINK_file_df :  EMPTY DATA FRAME\")"
   ]
  },
  {
   "cell_type": "code",
   "execution_count": null,
   "metadata": {},
   "outputs": [],
   "source": []
  },
  {
   "cell_type": "markdown",
   "metadata": {},
   "source": [
    "### working on meter-link file"
   ]
  },
  {
   "cell_type": "code",
   "execution_count": 160,
   "metadata": {},
   "outputs": [],
   "source": [
    "# 1 \n",
    "# meter link in meter,sim and meter-sim link file\n",
    "\n",
    "meter_link_M_S_AND_MS_LINK_file_df = pd.DataFrame()\n",
    "meter_link_M_S_AND_MS_LINK_file_df=CREATE_METER_SIM_AND_METER_SIM_LINK_FILE['Meter_link_(M,S & M-S)_single_file_data']\n",
    "if  not (meter_link_M_S_AND_MS_LINK_file_df.empty):\n",
    "    meter_link_M_S_AND_MS_LINK_file_df.to_csv(\"S_M_&_M_S_LINK_EESL_GENUS_PO0000000403_00000_EP2PMeter_Meter_Link.csv\",header=None,index=False)\n",
    "    EESL_GENUS_PO0000000403_00000_EP2PMeter_SBPDCL_Meter_Link_M_S_AND_MS_LINK=pd.read_csv(r\"C:\\PYTHON\\EDF_CODE_AUTOMATION_PYTHON\\METER_MATCHING_DATA\\S_M_&_M_S_LINK_EESL_GENUS_PO0000000403_00000_EP2PMeter_Meter_Link.csv\",header=None)\n",
    "    EESL_GENUS_PO0000000403_00000_EP2PMeter_SBPDCL_Meter_Link_M_S_AND_MS_LINK.head(1)\n",
    "else:\n",
    "    print(\" meter_link_M_S_AND_MS_LINK_file_df :  EMPTY DATA FRAME\")"
   ]
  },
  {
   "cell_type": "code",
   "execution_count": 161,
   "metadata": {},
   "outputs": [
    {
     "name": "stdout",
     "output_type": "stream",
     "text": [
      "CREATE_METER_SIM_AND_METER_SIM_LINK_FILE_COCAT_ALL: -   shape: - 1\n",
      "CREATE_METER_SIM_AND_METER_SIM_LINK_FILE: -   shape: - 1\n"
     ]
    }
   ],
   "source": [
    "print(f\"CREATE_METER_SIM_AND_METER_SIM_LINK_FILE_COCAT_ALL: -   shape: - {CREATE_METER_SIM_AND_METER_SIM_LINK_FILE_COCAT_ALL.shape[0]}\")\n",
    "print(f\"CREATE_METER_SIM_AND_METER_SIM_LINK_FILE: -   shape: - {CREATE_METER_SIM_AND_METER_SIM_LINK_FILE.shape[0]}\")\n"
   ]
  },
  {
   "cell_type": "code",
   "execution_count": null,
   "metadata": {},
   "outputs": [],
   "source": []
  },
  {
   "cell_type": "code",
   "execution_count": null,
   "metadata": {},
   "outputs": [],
   "source": []
  },
  {
   "cell_type": "code",
   "execution_count": null,
   "metadata": {},
   "outputs": [],
   "source": []
  },
  {
   "cell_type": "code",
   "execution_count": 162,
   "metadata": {},
   "outputs": [
    {
     "data": {
      "text/plain": [
       "'\\nnew_df_check = EESL_GENUS_PO0000000403_00000_EP2PMeter_SBPDCL_Meter_Link_M_S_AND_MS_LINK.loc[2]\\n#print(f\"len of new_df_check: {new_df_check}\")\\na=\\';\\'\\nword=\"\"\\nfor i in new_df_check:\\n    print(i)\\n    for j in i:\\n        word=word+j\\n        if a in j:\\n            #print(a)\\n            #print(f\"word is : {word}\")\\n            word=\"\"\\n            #print(\"semicolon is here\")\\nprint(f\"last word is : {word}\")\\n\\n\\n'"
      ]
     },
     "execution_count": 162,
     "metadata": {},
     "output_type": "execute_result"
    }
   ],
   "source": [
    "\"\"\"\n",
    "new_df_check = EESL_GENUS_PO0000000403_00000_EP2PMeter_SBPDCL_Meter_Link_M_S_AND_MS_LINK.loc[2]\n",
    "#print(f\"len of new_df_check: {new_df_check}\")\n",
    "a=';'\n",
    "word=\"\"\n",
    "for i in new_df_check:\n",
    "    print(i)\n",
    "    for j in i:\n",
    "        word=word+j\n",
    "        if a in j:\n",
    "            #print(a)\n",
    "            #print(f\"word is : {word}\")\n",
    "            word=\"\"\n",
    "            #print(\"semicolon is here\")\n",
    "print(f\"last word is : {word}\")\n",
    "\n",
    "\n",
    "\"\"\""
   ]
  },
  {
   "cell_type": "code",
   "execution_count": null,
   "metadata": {},
   "outputs": [],
   "source": []
  },
  {
   "cell_type": "code",
   "execution_count": null,
   "metadata": {},
   "outputs": [],
   "source": []
  },
  {
   "cell_type": "markdown",
   "metadata": {},
   "source": [
    "### funciton for del and create the  folder on particular path\n"
   ]
  },
  {
   "cell_type": "code",
   "execution_count": null,
   "metadata": {},
   "outputs": [],
   "source": []
  },
  {
   "cell_type": "code",
   "execution_count": 163,
   "metadata": {},
   "outputs": [
    {
     "name": "stdout",
     "output_type": "stream",
     "text": [
      "Folder at  deleted successfully.\n",
      "Folder at  created successfully.\n"
     ]
    }
   ],
   "source": [
    "def folder_del_create(file_path):\n",
    "    if os.path.exists(file_path):\n",
    "        try:\n",
    "            # Delete the folder and its contents\n",
    "            shutil.rmtree(file_path)\n",
    "            os.makedirs(file_path)\n",
    "            print( \"Folder at  deleted successfully.\")\n",
    "            print( \"Folder at  created successfully.\")\n",
    "        except Exception as e:\n",
    "            print(f\"Error deleting folder: {e}\")\n",
    "\n",
    "\n",
    "#  METER,SIM AND METER-SIM LINK\n",
    "M_S_AND_MS_MSLINK_FILE = r'C:\\Users\\Ratan Kumar Jha\\Desktop\\METER_IMPORTATION_FOLDER\\SINGLE_ROW_DATA_OUTPUT\\METER,SIM AND METER-SIM LINK\\METER-SIM_LINK_FILE'\n",
    "M_S_AND_MS_M_FILE = r'C:\\Users\\Ratan Kumar Jha\\Desktop\\METER_IMPORTATION_FOLDER\\SINGLE_ROW_DATA_OUTPUT\\METER,SIM AND METER-SIM LINK\\METER_FILE'\n",
    "M_S_AND_MS_S_FILE =r'C:\\Users\\Ratan Kumar Jha\\Desktop\\METER_IMPORTATION_FOLDER\\SINGLE_ROW_DATA_OUTPUT\\METER,SIM AND METER-SIM LINK\\SIM_FILE'\n",
    "\n",
    "#\n",
    "S_AND_MSLINK_MSLINK_FILE =r'C:\\Users\\Ratan Kumar Jha\\Desktop\\METER_IMPORTATION_FOLDER\\SINGLE_ROW_DATA_OUTPUT\\SIM AND METER-SIM LINK FILE\\METER-SIM_LINK_FILE'\n",
    "S_AND_MSLINK_S_FILE =r'C:\\Users\\Ratan Kumar Jha\\Desktop\\METER_IMPORTATION_FOLDER\\SINGLE_ROW_DATA_OUTPUT\\SIM AND METER-SIM LINK FILE\\SIM_FILE'\n",
    "\n",
    "#METER-SIM LINK\n",
    "MS_AND_MS_MSLINK_FILE=r'C:\\Users\\Ratan Kumar Jha\\Desktop\\METER_IMPORTATION_FOLDER\\SINGLE_ROW_DATA_OUTPUT\\METER-SIM LINK\\METER-SIM_LINK_FILE'\n",
    "\n",
    "folder_del_create(M_S_AND_MS_MSLINK_FILE)"
   ]
  },
  {
   "cell_type": "code",
   "execution_count": 164,
   "metadata": {},
   "outputs": [
    {
     "name": "stdout",
     "output_type": "stream",
     "text": [
      "Folder at  deleted successfully.\n",
      "Folder at  created successfully.\n",
      "Folder at  deleted successfully.\n",
      "Folder at  created successfully.\n",
      "Folder at  deleted successfully.\n",
      "Folder at  created successfully.\n",
      "Folder at  deleted successfully.\n",
      "Folder at  created successfully.\n",
      "Folder at  deleted successfully.\n",
      "Folder at  created successfully.\n",
      "Folder at  deleted successfully.\n",
      "Folder at  created successfully.\n"
     ]
    }
   ],
   "source": [
    "folder_del_create(M_S_AND_MS_MSLINK_FILE)\n",
    "folder_del_create(M_S_AND_MS_M_FILE)\n",
    "folder_del_create(M_S_AND_MS_S_FILE)\n",
    "\n",
    "folder_del_create(S_AND_MSLINK_MSLINK_FILE)\n",
    "folder_del_create(S_AND_MSLINK_S_FILE)\n",
    "\n",
    "\n",
    "folder_del_create(MS_AND_MS_MSLINK_FILE)"
   ]
  },
  {
   "cell_type": "code",
   "execution_count": null,
   "metadata": {},
   "outputs": [],
   "source": []
  },
  {
   "cell_type": "code",
   "execution_count": null,
   "metadata": {},
   "outputs": [],
   "source": []
  },
  {
   "cell_type": "markdown",
   "metadata": {},
   "source": [
    "# function for generate single file"
   ]
  },
  {
   "cell_type": "code",
   "execution_count": 165,
   "metadata": {},
   "outputs": [],
   "source": [
    "def generate_sim_meter_link_each_row_file(df_file_path,base_path,new_folder_name, generated_file_name_prefix, generated_file_name_suffix):\n",
    "    data_frame_concat_data = pd.read_csv(df_file_path, header=None)\n",
    "\n",
    "    # base_path = r'C:\\Users\\Ratan Kumar Jha\\Desktop\\METER_IMPORTATION_FOLDER\\SINGLE_ROW_DATA_OUTPUT\\METER,SIM AND METER-SIM LINK\\METER-SIM_LINK_FILE'\n",
    "\n",
    "    num_folder = 0\n",
    "    k = 100\n",
    "    # new_folder_name = \"EESL_GENUS_SINGLE_METER\"\n",
    "\n",
    "    new_folder_path = os.path.join(base_path, new_folder_name)\n",
    "    os.makedirs(new_folder_path)\n",
    "\n",
    "    # CURRENT_TIME_STAMP = datetime.now().strftime('%Y%m%d_%H%M%S')\n",
    "\n",
    "    # Iterate through each row and save it as a separate file\n",
    "    for index, row in data_frame_concat_data.iterrows():\n",
    "        \n",
    "        # Create a new DataFrame with the current row\n",
    "        single_row_df = pd.DataFrame([row])\n",
    "        #print(f\"single_row_data : {single_row_df}\")\n",
    "        last_part_after_semicolon = row[0].rsplit(';', 1)[-1]\n",
    "        #print(f\"last_word : {last_part_after_semicolon}\")\n",
    "\n",
    "\n",
    "        CURRENT_TIME_STAMP = datetime.now().strftime('%Y%m%d_%H%M%S')\n",
    "        #print(CURRENT_TIME_STAMP)\n",
    "        \n",
    "        #print(k)\n",
    "        #print(\"-----------------\")\n",
    "        \n",
    "        # Create the full path for the new folder\n",
    "\n",
    "        if k > 995:\n",
    "            k = 100\n",
    "            final_new_folder_name = new_folder_name\n",
    "            num_folder = num_folder + 1\n",
    "            final_new_folder_name = new_folder_name + \"_\" + str(num_folder)\n",
    "            new_folder_path = os.path.join(base_path, final_new_folder_name)\n",
    "            os.makedirs(new_folder_path)\n",
    "        else:\n",
    "            file_name = generated_file_name_prefix + str(k) + generated_file_name_suffix + str(CURRENT_TIME_STAMP) + \"_\" + str(last_part_after_semicolon) + \".csv\"\n",
    "            #print(f\"file name is {file_name}\")\n",
    "            file_path = os.path.join(new_folder_path, file_name)\n",
    "            #single_row_df.to_csv(r\"C:\\Users\\Ratan Kumar Jha\\Desktop\\satyam_data\\single_file_data\\file_name\", index=False, header=False) \n",
    "            single_row_df.to_csv(file_path, index=False, header=False)\n",
    "            k=k+1\n",
    "\n",
    "        \n",
    "    print(\"METER-SIM LINK FILE DONE\")\n"
   ]
  },
  {
   "cell_type": "code",
   "execution_count": 166,
   "metadata": {},
   "outputs": [],
   "source": [
    "# METER-SIM LINK\n",
    "\n",
    "# 1. EESL_GENUS_PO0000000{k}_00000_SIM_Meter_Link_{CURRENT_TIME_STAMP}_{utility}.csv\n",
    "\n",
    "\n",
    "# SIM LINK FILE\n",
    "\n",
    "# 2.  EESL_BSNL_PO0000000{k}_00000_SIM_Meter_Link_{CURRENT_TIME_STAMP}_{utility}.csv\n",
    "# 3.  EESL_GENUS_PO0000000{k}_00000_SIM_{CURRENT_TIME_STAMP}_{utility}.csv\n",
    "\n",
    "# METER FILE\n",
    "\n",
    "# 4. EESL_GENUS_PO0000000{K}_00000_EP2PMeter_{CURRENT_TIME_STAMP}_{utility}.csv"
   ]
  },
  {
   "cell_type": "code",
   "execution_count": 167,
   "metadata": {},
   "outputs": [
    {
     "name": "stdout",
     "output_type": "stream",
     "text": [
      "METER-SIM LINK FILE DONE\n"
     ]
    }
   ],
   "source": [
    "\n",
    "# SIM-Meter link file for all the three action taken...\n",
    "\n",
    "# METER,SIM AND METER-SIM LINK  ----  METER-SIM_LINK_FILE\n",
    "df_file_path =r\"C:\\PYTHON\\EDF_CODE_AUTOMATION_PYTHON\\METER_MATCHING_DATA\\S_M_&_M_S_LINK_EESL_GENUS_PO0000000403_00000_SIM_Meter_Link.csv\"\n",
    "base_path = r'C:\\Users\\Ratan Kumar Jha\\Desktop\\METER_IMPORTATION_FOLDER\\SINGLE_ROW_DATA_OUTPUT\\METER,SIM AND METER-SIM LINK\\METER-SIM_LINK_FILE'\n",
    "new_folder_name = 'EESL_GENUS_SINGLE_METER'\n",
    "generated_file_name_prefix = 'EESL_GENUS_PO0000000'\n",
    "generated_file_name_suffix = '_00000_SIM_Meter_Link_'\n",
    "\n",
    "\n",
    "try:\n",
    "    generate_sim_meter_link_each_row_file(df_file_path,base_path,new_folder_name, generated_file_name_prefix, generated_file_name_suffix)\n",
    "except Exception as e:\n",
    "    # If an error occurs, print a custom message\n",
    "    print(\"An error occurred while executing the function:\")\n"
   ]
  },
  {
   "cell_type": "code",
   "execution_count": 168,
   "metadata": {},
   "outputs": [
    {
     "name": "stdout",
     "output_type": "stream",
     "text": [
      "METER-SIM LINK FILE DONE\n"
     ]
    }
   ],
   "source": [
    "\n",
    "#change the df file path\n",
    "#  SIM AND METER-SIM LINK FILE\\METER-SIM_LINK_FILE\n",
    "\n",
    "\n",
    "df_file_path = r\"C:\\PYTHON\\EDF_CODE_AUTOMATION_PYTHON\\METER_MATCHING_DATA\\S_&_M_S_LINK_EESL_GENUS_PO0000000403_00000_SIM_Meter_Link.csv\"\n",
    "base_path = r'C:\\Users\\Ratan Kumar Jha\\Desktop\\METER_IMPORTATION_FOLDER\\SINGLE_ROW_DATA_OUTPUT\\SIM AND METER-SIM LINK FILE\\METER-SIM_LINK_FILE'\n",
    "new_folder_name = 'EESL_GENUS_SINGLE_METER'\n",
    "generated_file_name_prefix = 'EESL_GENUS_PO0000000'\n",
    "generated_file_name_suffix = '_00000_SIM_Meter_Link_'\n",
    "\n",
    "\n",
    "try:\n",
    "    generate_sim_meter_link_each_row_file(df_file_path,base_path,new_folder_name, generated_file_name_prefix, generated_file_name_suffix)\n",
    "except Exception as e:\n",
    "    # If an error occurs, print a custom message\n",
    "    print(\"An error occurred while executing the function:\")"
   ]
  },
  {
   "cell_type": "code",
   "execution_count": 169,
   "metadata": {},
   "outputs": [
    {
     "name": "stdout",
     "output_type": "stream",
     "text": [
      "METER-SIM LINK FILE DONE\n"
     ]
    }
   ],
   "source": [
    "\n",
    "\n",
    "#change the df file path\n",
    "\n",
    "# METER-SIM LINK\\METER-SIM_LINK_FILE\n",
    "\n",
    "df_file_path = r\"C:\\PYTHON\\EDF_CODE_AUTOMATION_PYTHON\\METER_MATCHING_DATA\\M_S_LINK_EESL_GENUS_PO0000000403_00000_SIM_Meter_Link.csv\"\n",
    "base_path = r'C:\\Users\\Ratan Kumar Jha\\Desktop\\METER_IMPORTATION_FOLDER\\SINGLE_ROW_DATA_OUTPUT\\METER-SIM LINK\\METER-SIM_LINK_FILE'\n",
    "new_folder_name = 'EESL_GENUS_SINGLE_METER'\n",
    "generated_file_name_prefix = 'EESL_GENUS_PO0000000'\n",
    "generated_file_name_suffix = '_00000_SIM_Meter_Link_'\n",
    "\n",
    "\n",
    "try:\n",
    "    generate_sim_meter_link_each_row_file(df_file_path,base_path,new_folder_name, generated_file_name_prefix, generated_file_name_suffix)\n",
    "except Exception as e:\n",
    "    # If an error occurs, print a custom message\n",
    "    print(\"An error occurred while executing the function:\")"
   ]
  },
  {
   "cell_type": "code",
   "execution_count": null,
   "metadata": {},
   "outputs": [],
   "source": []
  },
  {
   "cell_type": "code",
   "execution_count": null,
   "metadata": {},
   "outputs": [],
   "source": []
  },
  {
   "cell_type": "code",
   "execution_count": 170,
   "metadata": {},
   "outputs": [],
   "source": [
    "# function for sim file "
   ]
  },
  {
   "cell_type": "code",
   "execution_count": 171,
   "metadata": {},
   "outputs": [
    {
     "name": "stdout",
     "output_type": "stream",
     "text": [
      "METER-SIM LINK FILE DONE\n"
     ]
    }
   ],
   "source": [
    "\n",
    "\n",
    "#change the df file path\n",
    "\n",
    "# METER-SIM LINK\\METER-SIM_LINK_FILE\n",
    "\n",
    "df_file_path = r\"C:\\PYTHON\\EDF_CODE_AUTOMATION_PYTHON\\METER_MATCHING_DATA\\M_S_AND_MS_LINK_EESL_BSNL_PO0000000403_00000_SIM_Link.csv\"\n",
    "base_path = r'C:\\Users\\Ratan Kumar Jha\\Desktop\\METER_IMPORTATION_FOLDER\\SINGLE_ROW_DATA_OUTPUT\\METER,SIM AND METER-SIM LINK\\SIM_FILE'\n",
    "new_folder_name = 'EESL_BSNL_SINGLE_METER'\n",
    "generated_file_name_prefix = 'EESL_BSNL_PO0000000'\n",
    "generated_file_name_suffix = '_00000_SIM_'\n",
    "\n",
    "\n",
    "try:\n",
    "    generate_sim_meter_link_each_row_file(df_file_path,base_path,new_folder_name, generated_file_name_prefix, generated_file_name_suffix)\n",
    "except Exception as e:\n",
    "    # If an error occurs, print a custom message\n",
    "    print(\"An error occurred while executing the function:\")"
   ]
  },
  {
   "cell_type": "code",
   "execution_count": 172,
   "metadata": {},
   "outputs": [
    {
     "name": "stdout",
     "output_type": "stream",
     "text": [
      "METER-SIM LINK FILE DONE\n"
     ]
    }
   ],
   "source": [
    "\n",
    "\n",
    "#change the df file path\n",
    "\n",
    "# METER-SIM LINK\\METER-SIM_LINK_FILE\n",
    "\n",
    "df_file_path = r\"C:\\PYTHON\\EDF_CODE_AUTOMATION_PYTHON\\METER_MATCHING_DATA\\S_AND_MS_LINK_EESL_BSNL_PO0000000403_00000_SIM_Link.csv\"\n",
    "base_path = r'C:\\Users\\Ratan Kumar Jha\\Desktop\\METER_IMPORTATION_FOLDER\\SINGLE_ROW_DATA_OUTPUT\\SIM AND METER-SIM LINK FILE\\SIM_FILE'\n",
    "new_folder_name = 'EESL_BSNL_SINGLE_METER'\n",
    "generated_file_name_prefix = 'EESL_GENUS_PO0000000'\n",
    "generated_file_name_suffix = '_00000_SIM_'\n",
    "\n",
    "\n",
    "try:\n",
    "    generate_sim_meter_link_each_row_file(df_file_path,base_path,new_folder_name, generated_file_name_prefix, generated_file_name_suffix)\n",
    "except Exception as e:\n",
    "    # If an error occurs, print a custom message\n",
    "    print(\"An error occurred while executing the function:\")"
   ]
  },
  {
   "cell_type": "code",
   "execution_count": 173,
   "metadata": {},
   "outputs": [
    {
     "name": "stdout",
     "output_type": "stream",
     "text": [
      "METER-SIM LINK FILE DONE\n"
     ]
    }
   ],
   "source": [
    "# meter file function\n",
    "\n",
    "\n",
    "# METER,SIM AND METER-SIM LINK  ----  METER_LINK_FILE\n",
    "df_file_path =r\"C:\\PYTHON\\EDF_CODE_AUTOMATION_PYTHON\\METER_MATCHING_DATA\\S_M_&_M_S_LINK_EESL_GENUS_PO0000000403_00000_EP2PMeter_Meter_Link.csv\"\n",
    "base_path = r'C:\\Users\\Ratan Kumar Jha\\Desktop\\METER_IMPORTATION_FOLDER\\SINGLE_ROW_DATA_OUTPUT\\METER,SIM AND METER-SIM LINK\\METER_FILE'\n",
    "new_folder_name = 'EESL_GENUS_SINGLE_METER'\n",
    "generated_file_name_prefix = 'EESL_GENUS_PO0000000'\n",
    "generated_file_name_suffix = '_00000_EP2PMeter_'\n",
    "\n",
    "\n",
    "\n",
    "try:\n",
    "    generate_sim_meter_link_each_row_file(df_file_path,base_path,new_folder_name, generated_file_name_prefix, generated_file_name_suffix)\n",
    "except Exception as e:\n",
    "    # If an error occurs, print a custom message\n",
    "    print(\"An error occurred while executing the function:\")"
   ]
  },
  {
   "cell_type": "code",
   "execution_count": null,
   "metadata": {},
   "outputs": [],
   "source": []
  },
  {
   "cell_type": "code",
   "execution_count": null,
   "metadata": {},
   "outputs": [],
   "source": []
  },
  {
   "cell_type": "code",
   "execution_count": null,
   "metadata": {},
   "outputs": [],
   "source": []
  },
  {
   "cell_type": "markdown",
   "metadata": {},
   "source": [
    "# XML CODE"
   ]
  },
  {
   "cell_type": "code",
   "execution_count": null,
   "metadata": {},
   "outputs": [],
   "source": []
  },
  {
   "cell_type": "code",
   "execution_count": 174,
   "metadata": {},
   "outputs": [
    {
     "name": "stdout",
     "output_type": "stream",
     "text": [
      "Folder at  deleted successfully.\n",
      "Folder at  created successfully.\n"
     ]
    }
   ],
   "source": [
    "def folder_del_create(file_path):\n",
    "    if os.path.exists(file_path):\n",
    "        try:\n",
    "            # Delete the folder and its contents\n",
    "            shutil.rmtree(file_path)\n",
    "            os.makedirs(file_path)\n",
    "            print( \"Folder at  deleted successfully.\")\n",
    "            print( \"Folder at  created successfully.\")\n",
    "        except Exception as e:\n",
    "            print(f\"Error deleting folder: {e}\")\n",
    "\n",
    "\n",
    "#  METER,SIM AND METER-SIM LINK\n",
    "M_S_AND_MS_MSLINK_FILE = r'C:\\Users\\Ratan Kumar Jha\\Desktop\\METER_IMPORTATION_FOLDER\\XML_OUTPUT_FILE\\METER,SIM AND METER-SIM LINK\\METER-SIM_LINK_FILE'\n",
    "M_S_AND_MS_M_FILE = r'C:\\Users\\Ratan Kumar Jha\\Desktop\\METER_IMPORTATION_FOLDER\\XML_OUTPUT_FILE\\METER,SIM AND METER-SIM LINK\\METER_FILE'\n",
    "M_S_AND_MS_S_FILE =r'C:\\Users\\Ratan Kumar Jha\\Desktop\\METER_IMPORTATION_FOLDER\\XML_OUTPUT_FILE\\METER,SIM AND METER-SIM LINK\\SIM_FILE'\n",
    "\n",
    "#\n",
    "S_AND_MSLINK_MSLINK_FILE =r'C:\\Users\\Ratan Kumar Jha\\Desktop\\METER_IMPORTATION_FOLDER\\XML_OUTPUT_FILE\\SIM AND METER-SIM LINK FILE\\METER-SIM_LINK_FILE'\n",
    "S_AND_MSLINK_S_FILE =r'C:\\Users\\Ratan Kumar Jha\\Desktop\\METER_IMPORTATION_FOLDER\\XML_OUTPUT_FILE\\SIM AND METER-SIM LINK FILE\\SIM_FILE'\n",
    "\n",
    "#METER-SIM LINK\n",
    "MS_AND_MS_MSLINK_FILE=r'C:\\Users\\Ratan Kumar Jha\\Desktop\\METER_IMPORTATION_FOLDER\\XML_OUTPUT_FILE\\METER-SIM LINK\\METER-SIM_LINK_FILE'\n",
    "\n",
    "folder_del_create(M_S_AND_MS_MSLINK_FILE)"
   ]
  },
  {
   "cell_type": "code",
   "execution_count": 175,
   "metadata": {},
   "outputs": [
    {
     "name": "stdout",
     "output_type": "stream",
     "text": [
      "Folder at  deleted successfully.\n",
      "Folder at  created successfully.\n",
      "Folder at  deleted successfully.\n",
      "Folder at  created successfully.\n",
      "Folder at  deleted successfully.\n",
      "Folder at  created successfully.\n",
      "Folder at  deleted successfully.\n",
      "Folder at  created successfully.\n",
      "Folder at  deleted successfully.\n",
      "Folder at  created successfully.\n",
      "Folder at  deleted successfully.\n",
      "Folder at  created successfully.\n"
     ]
    }
   ],
   "source": [
    "folder_del_create(M_S_AND_MS_MSLINK_FILE)\n",
    "folder_del_create(M_S_AND_MS_M_FILE)\n",
    "folder_del_create(M_S_AND_MS_S_FILE)\n",
    "\n",
    "folder_del_create(S_AND_MSLINK_MSLINK_FILE)\n",
    "folder_del_create(S_AND_MSLINK_S_FILE)\n",
    "\n",
    "\n",
    "folder_del_create(MS_AND_MS_MSLINK_FILE)"
   ]
  },
  {
   "cell_type": "code",
   "execution_count": null,
   "metadata": {},
   "outputs": [],
   "source": []
  },
  {
   "cell_type": "markdown",
   "metadata": {},
   "source": [
    "### METER FILE XML CODE"
   ]
  },
  {
   "cell_type": "markdown",
   "metadata": {},
   "source": [
    "#### meter file code for meter_sim_and_meter_sim_link file"
   ]
  },
  {
   "cell_type": "code",
   "execution_count": 176,
   "metadata": {},
   "outputs": [
    {
     "name": "stdout",
     "output_type": "stream",
     "text": [
      "Sync_Electric_Meter_LNTLT0912526_NBPDCL_20241206_110128-101.xml\n",
      "C:\\Users\\Ratan Kumar Jha\\Desktop\\METER_IMPORTATION_FOLDER\\XML_OUTPUT_FILE\\METER,SIM AND METER-SIM LINK\\METER_FILE\\METER_XML_OUTPUT_M_S_&_MS_LINK\\Sync_Electric_Meter_LNTLT0912526_NBPDCL_20241206_110128-101.xml\n"
     ]
    }
   ],
   "source": [
    "import xml.etree.ElementTree as ET\n",
    "from datetime import datetime\n",
    "import os\n",
    "\n",
    "def get_current_date():\n",
    "    return datetime.now().strftime(\"%Y-%m-%d\")\n",
    "\n",
    "\n",
    "CURRENT_TIME = datetime.now().strftime('%Y%m%d_%H%M%S')\n",
    "\n",
    "num_folder = 0\n",
    "k = 100\n",
    "base_path = r'C:\\Users\\Ratan Kumar Jha\\Desktop\\METER_IMPORTATION_FOLDER\\XML_OUTPUT_FILE\\METER,SIM AND METER-SIM LINK\\METER_FILE'\n",
    "new_folder_name = 'METER_XML_OUTPUT_M_S_&_MS_LINK'\n",
    "\n",
    "\n",
    "new_folder_path = os.path.join(base_path, new_folder_name)\n",
    "os.makedirs(new_folder_path)\n",
    "\n",
    "\n",
    "for index,rows in EESL_GENUS_PO0000000403_00000_EP2PMeter_SBPDCL_Meter_Link_M_S_AND_MS_LINK.iterrows():\n",
    "    semicolon_split_for_file_name = rows[0].split(';')\n",
    "    #print(semicolon_split_for_file_name)\n",
    "    semicolon_split = rows[0].split(';')\n",
    "    #print(semicolon_split)\n",
    "            \n",
    "    CURRENT_TIME_STAMP = datetime.now().strftime('%Y-%m-%dT%H:%M:%S')\n",
    "\n",
    "    if semicolon_split[3] == '6_D1':\n",
    "        csv_data = [\n",
    "            {\"verb\": \"SDPSync\", \"noun\": \"SDPSync\", \"revision\": \"1\", \"dateTime\": CURRENT_TIME_STAMP, \"source\": \"CIS\", \"messageID\": \"MESSAGE-10001\", \"asyncReplyTo\": \"none\", \"syncMode\": \"sync\", \"optimizationLevel\": \"Optimistic\"},\n",
    "            {\"mRID\": semicolon_split[0], \"className\": \"EP2PMeter\", \"type\": \"Meter\", \"virtualInd\": \"N\", \"description\": \"Meter Description\", \"model\": semicolon_split[4], \"manufacturedDate\": semicolon_split[6], \"mfgSerialNumber\": semicolon_split[1], \"testDate\": semicolon_split[6], \"status\": \"Meter Shop\", \"commTechnology\": \"3G\", \"badgeId\": semicolon_split[0], \"sandardId\": semicolon_split[0], \"electronicId\": semicolon_split[0], \"make\": semicolon_split[5], \"deviceFunctionType\": \"N\", \"utility_id\": semicolon_split[-1]},\n",
    "            {\"name\": \"Phase Type\", \"value\": \"1\", \"startDate\": get_current_date()},\n",
    "            {\"name\": \"Device Protocol\", \"value\": \"DLMS\", \"startDate\": get_current_date()},\n",
    "            {\"name\": \"Firmware Version\", \"value\": semicolon_split[11], \"startDate\": get_current_date()},\n",
    "            {\"name\": \"DLMS Port\", \"value\": \"4059\", \"startDate\": get_current_date()}\n",
    "            ]\n",
    "    else:\n",
    "        csv_data = [\n",
    "            {\"verb\": \"SDPSync\", \"noun\": \"SDPSync\", \"revision\": \"1\", \"dateTime\": CURRENT_TIME_STAMP, \"source\": \"CIS\", \"messageID\": \"MESSAGE-10001\", \"asyncReplyTo\": \"none\", \"syncMode\": \"sync\", \"optimizationLevel\": \"Optimistic\"},\n",
    "            {\"mRID\": semicolon_split[0], \"className\": \"EP2PMeter\", \"type\": \"Meter\", \"virtualInd\": \"N\", \"description\": \"Meter Description\", \"model\": semicolon_split[4], \"manufacturedDate\": semicolon_split[6], \"mfgSerialNumber\": semicolon_split[1], \"testDate\": semicolon_split[6], \"status\": \"Meter Shop\", \"commTechnology\": \"3G\", \"badgeId\": semicolon_split[0], \"sandardId\": semicolon_split[0], \"electronicId\": semicolon_split[0], \"make\": semicolon_split[5], \"deviceFunctionType\": \"N\", \"utility_id\": semicolon_split[-1]},\n",
    "            {\"name\": \"Phase Type\", \"value\": \"3\", \"startDate\": get_current_date()},\n",
    "            {\"name\": \"Device Protocol\", \"value\": \"DLMS\", \"startDate\": get_current_date()},\n",
    "            {\"name\": \"Firmware Version\", \"value\": semicolon_split[11], \"startDate\": get_current_date()},\n",
    "            {\"name\": \"DLMS Port\", \"value\": \"4059\", \"startDate\": get_current_date()}\n",
    "            ]\n",
    "    xml_string = '<SDPSyncMessage xmlns=\"http://www.emeter.com/energyip/syncinterface/v8\" xmlns:xsi=\"http://www.w3.org/2001/XMLSchema-instance\">\\n'\n",
    "\n",
    "                # Loop through the data and append to the XML string\n",
    "    for row in csv_data:\n",
    "            \n",
    "        if row.get(\"verb\"):\n",
    "            xml_string += '    <header>\\n'\n",
    "        elif row.get(\"mRID\"):\n",
    "            xml_string += '    <payload>\\n        <device>\\n'\n",
    "        elif row.get(\"name\"):\n",
    "            xml_string += '            <parameter>\\n'\n",
    "        else:\n",
    "            xml_string += '    <payload>\\n        <device>\\n'\n",
    "\n",
    "        for key, value in row.items():\n",
    "            if key != \"verb\" and key != \"mRID\" and key != \"name\":\n",
    "                if key != \"value\" and key != \"startDate\":\n",
    "                    xml_string += f'            <{key}>{value}</{key}>\\n'\n",
    "                else:\n",
    "                    xml_string += f'                <{key}>{value}</{key}>\\n'\n",
    "            elif key == \"value\" and key == \"\":\n",
    "                xml_string += f'                <{key}>{value}</{key}>\\n'\n",
    "            elif key == \"verb\":\n",
    "                xml_string += f'            <{key}>{value}</{key}>\\n'\n",
    "            elif key == \"mRID\":\n",
    "                xml_string += f'            <{key}>{value}</{key}>\\n'\n",
    "            elif key == \"name\":\n",
    "                xml_string += f'                <{key}>{value}</{key}>\\n'\n",
    "\n",
    "        if row.get(\"verb\"):\n",
    "            xml_string += '    </header>\\n'\n",
    "        elif row.get(\"name\"):\n",
    "            xml_string += '            </parameter>\\n'\n",
    "            #else:\n",
    "                #xml_string += '        </device>\\n    </payload>\\n'\\\n",
    "            \n",
    "    xml_string += '         </device>\\n     </payload>\\n</SDPSyncMessage>'\n",
    "            #root = ET.fromstring(xml_string)\n",
    "    root = ET.ElementTree(ET.fromstring(xml_string))\n",
    "\n",
    "    k=k+1 \n",
    "\n",
    "    if k > 995:\n",
    "            k = 100\n",
    "            final_new_folder_name = new_folder_name\n",
    "            num_folder = num_folder + 1\n",
    "            final_new_folder_name = new_folder_name + \"_\" + str(num_folder)\n",
    "            new_folder_path = os.path.join(base_path, final_new_folder_name)\n",
    "            os.makedirs(new_folder_path)\n",
    "    else:\n",
    "        file_name = \"Sync_Electric_Meter_\" + semicolon_split_for_file_name[0] + \"_\"  + semicolon_split_for_file_name[-1] + \"_\" + str(CURRENT_TIME)  + \"-\" + str(k) + \".xml\"\n",
    "        print(file_name)\n",
    "        #print(f\"file name is {file_name}\")\n",
    "        file_path = os.path.join(new_folder_path, file_name)\n",
    "        print(file_path)\n",
    "\n",
    "        #single_row_df.to_csv(r\"C:\\Users\\Ratan Kumar Jha\\Desktop\\satyam_data\\single_file_data\\file_name\", index=False, header=False) \n",
    "        with open(file_path, 'w') as file:\n",
    "            file.write(xml_string)\n",
    "        \n",
    "    \n",
    "        "
   ]
  },
  {
   "cell_type": "code",
   "execution_count": 177,
   "metadata": {},
   "outputs": [],
   "source": [
    "#METER SIM LINK\n",
    "\n",
    "# EESL_GENUS_PO0000000403_00000_SIM_Meter_Link_M_S_AND_MS_LINK\n",
    "# EESL_GENUS_PO0000000403_00000_SIM_Meter_Link_S_AND_MS_LINK\n",
    "# EESL_GENUS_PO0000000403_00000_SIM_Meter_Link_MS_LINK\n",
    "\n",
    "# SIM LINK FILE\n",
    "# EESL_BSNL_PO0000000403_00000_SIM_Link_S_M_AND_MS_LINK\n",
    "# EESL_BSNL_PO0000000403_00000_SIM_Link_S_AND_MS_LINK\n",
    "\n",
    "\n",
    "# METER FILE\n",
    "\n",
    "# EESL_GENUS_PO0000000403_00000_EP2PMeter_SBPDCL_Meter_Link_M_S_AND_MS_LINK"
   ]
  },
  {
   "cell_type": "markdown",
   "metadata": {},
   "source": [
    "# SIM FILE\n",
    "\n",
    "##### sim file for M_S_&_MS_LINK"
   ]
  },
  {
   "cell_type": "code",
   "execution_count": null,
   "metadata": {},
   "outputs": [],
   "source": []
  },
  {
   "cell_type": "code",
   "execution_count": 178,
   "metadata": {},
   "outputs": [
    {
     "name": "stdout",
     "output_type": "stream",
     "text": [
      "Sync_Electric_SIM_405856707583410_NBPDCL_20241206-110129-101.xml\n",
      "C:\\Users\\Ratan Kumar Jha\\Desktop\\METER_IMPORTATION_FOLDER\\XML_OUTPUT_FILE\\METER,SIM AND METER-SIM LINK\\SIM_FILE\\SIM_XML_OUTPUT_M_S_&_MS_LINK\\Sync_Electric_SIM_405856707583410_NBPDCL_20241206-110129-101.xml\n"
     ]
    }
   ],
   "source": [
    "import xml.etree.ElementTree as ET\n",
    "from datetime import datetime\n",
    "import os\n",
    "\n",
    "def get_current_date():\n",
    "    return datetime.now().strftime(\"%Y-%m-%d\")\n",
    "\n",
    "\n",
    "CURRENT_TIME = datetime.now().strftime('%Y%m%d_%H%M%S')\n",
    "CURRENT_TIME_HYPHEN = datetime.now().strftime('%Y%m%d-%H%M%S')\n",
    "\n",
    "num_folder = 0\n",
    "k = 100\n",
    "base_path = r'C:\\Users\\Ratan Kumar Jha\\Desktop\\METER_IMPORTATION_FOLDER\\XML_OUTPUT_FILE\\METER,SIM AND METER-SIM LINK\\SIM_FILE'\n",
    "new_folder_name = 'SIM_XML_OUTPUT_M_S_&_MS_LINK'\n",
    "\n",
    "\n",
    "new_folder_path = os.path.join(base_path, new_folder_name)\n",
    "os.makedirs(new_folder_path)\n",
    "\n",
    "#SIM LINK FILE FOR SIM_METER_AND_METER_SIM_LINK_FILE\n",
    "\n",
    "for index,rows in EESL_BSNL_PO0000000403_00000_SIM_Link_S_M_AND_MS_LINK.iterrows():\n",
    "    semicolon_split_for_file_name = rows[0].split(';')\n",
    "    #print(semicolon_split_for_file_name)\n",
    "    semicolon_split = rows[0].split(';')\n",
    "    #print(semicolon_split)\n",
    "            \n",
    "    CURRENT_TIME_STAMP = datetime.now().strftime('%Y-%m-%dT%H:%M:%S')\n",
    "\n",
    "    \n",
    "    csv_data = [\n",
    "        {\"verb\": \"SDPSync\", \"noun\": \"SDPSync\", \"revision\": \"1\", \"dateTime\": CURRENT_TIME_STAMP, \"source\": \"CIS\", \"messageID\": \"MESSAGE-10001\", \"asyncReplyTo\": \"none\", \"syncMode\": \"sync\", \"optimizationLevel\": \"Optimistic\"},\n",
    "        {\"mRID\": semicolon_split[0], \"className\": \"SIMCommMod\", \"type\": \"CommModule\", \"virtualInd\": \"N\", \"status\": \"ACTIVE\", \"badgeId\": semicolon_split[0], \"standardId\": semicolon_split[0], \"electronicId\": semicolon_split[0], \"mfgSerialNumber\": semicolon_split[1], \"deviceFunctionType\": \"Y\", \"make\": \"BSNLEDF\", \"networkId\": semicolon_split[2], \"location\": semicolon_split[6]}\n",
    "        \n",
    "        ]\n",
    "    \n",
    "    xml_string = '<SDPSyncMessage xmlns=\"http://www.emeter.com/energyip/syncinterface/v8\" xmlns:xsi=\"http://www.w3.org/2001/XMLSchema-instance\">'\n",
    "\n",
    "                # Loop through the data and append to the XML string\n",
    "    for row in csv_data:\n",
    "            \n",
    "        if row.get(\"verb\"):\n",
    "            xml_string += '    <header>\\n'\n",
    "        elif row.get(\"mRID\"):\n",
    "            xml_string += '    <payload>\\n        <device>\\n'\n",
    "        \n",
    "        else:\n",
    "            xml_string += '    <payload>\\n        <device>\\n'\n",
    "\n",
    "        for key, value in row.items():\n",
    "            #print(f\"{key} : {value}\")\n",
    "            #print(value)\n",
    "            if key != \"verb\" and key != \"mRID\" :\n",
    "                if key != \"value\" and key != \"startDate\":\n",
    "                    xml_string += f'            <{key}>{value}</{key}>\\n'\n",
    "                else:\n",
    "                    xml_string += f'                <{key}>{value}</{key}>\\n'\n",
    "            elif key == \"value\" and key == \"\":\n",
    "                xml_string += f'                <{key}>{value}</{key}>\\n'\n",
    "            elif key == \"verb\":\n",
    "                xml_string += f'            <{key}>{value}</{key}>\\n'\n",
    "            elif key == \"mRID\":\n",
    "                xml_string += f'            <{key}>{value}</{key}>\\n'\n",
    "            \n",
    "\n",
    "        if row.get(\"verb\"):\n",
    "            xml_string += '    </header>\\n'\n",
    "            #print(xml_string)\n",
    "        #elif row.get(\"mRID\"):\n",
    "            #xml_string += '            </parameter>\\n'\n",
    "            #else:\n",
    "                #xml_string += '        </device>\\n    </payload>\\n'\\\n",
    "            \n",
    "    xml_string += '         </device>\\n     </payload>\\n</SDPSyncMessage>'\n",
    "    #print(xml_string)\n",
    "            #root = ET.fromstring(xml_string)\n",
    "    root = ET.ElementTree(ET.fromstring(xml_string))\n",
    "\n",
    "    k=k+1 \n",
    "\n",
    "    if k > 995:\n",
    "            k = 100\n",
    "            final_new_folder_name = new_folder_name\n",
    "            num_folder = num_folder + 1\n",
    "            final_new_folder_name = new_folder_name + \"_\" + str(num_folder)\n",
    "            new_folder_path = os.path.join(base_path, final_new_folder_name)\n",
    "            os.makedirs(new_folder_path)\n",
    "    else:\n",
    "        file_name = \"Sync_Electric_SIM_\" + semicolon_split_for_file_name[0] + \"_\"  + semicolon_split_for_file_name[-1] + \"_\" + str(CURRENT_TIME_HYPHEN)  + \"-\" + str(k) + \".xml\"\n",
    "        print(file_name)\n",
    "        #print(f\"file name is {file_name}\")\n",
    "        file_path = os.path.join(new_folder_path, file_name)\n",
    "        print(file_path)\n",
    "\n",
    "        #single_row_df.to_csv(r\"C:\\Users\\Ratan Kumar Jha\\Desktop\\satyam_data\\single_file_data\\file_name\", index=False, header=False) \n",
    "        with open(file_path, 'w') as file:\n",
    "            file.write(xml_string)\n",
    "        \n",
    "    \n",
    "        "
   ]
  },
  {
   "cell_type": "code",
   "execution_count": null,
   "metadata": {},
   "outputs": [],
   "source": []
  },
  {
   "cell_type": "markdown",
   "metadata": {},
   "source": [
    "\n",
    "\n",
    "#### sim file for S_AND_MS_LINK"
   ]
  },
  {
   "cell_type": "code",
   "execution_count": 179,
   "metadata": {},
   "outputs": [
    {
     "name": "stdout",
     "output_type": "stream",
     "text": [
      "Sync_Electric_SIM_405856706402321_NBPDCL_20241206-110129-101.xml\n",
      "C:\\Users\\Ratan Kumar Jha\\Desktop\\METER_IMPORTATION_FOLDER\\XML_OUTPUT_FILE\\SIM AND METER-SIM LINK FILE\\SIM_FILE\\SIM_XML_OUTPUT_S_&_MS_LINK\\Sync_Electric_SIM_405856706402321_NBPDCL_20241206-110129-101.xml\n",
      "Sync_Electric_SIM_405856706850464_NBPDCL_20241206-110129-102.xml\n",
      "C:\\Users\\Ratan Kumar Jha\\Desktop\\METER_IMPORTATION_FOLDER\\XML_OUTPUT_FILE\\SIM AND METER-SIM LINK FILE\\SIM_FILE\\SIM_XML_OUTPUT_S_&_MS_LINK\\Sync_Electric_SIM_405856706850464_NBPDCL_20241206-110129-102.xml\n",
      "Sync_Electric_SIM_405856706557910_NBPDCL_20241206-110129-103.xml\n",
      "C:\\Users\\Ratan Kumar Jha\\Desktop\\METER_IMPORTATION_FOLDER\\XML_OUTPUT_FILE\\SIM AND METER-SIM LINK FILE\\SIM_FILE\\SIM_XML_OUTPUT_S_&_MS_LINK\\Sync_Electric_SIM_405856706557910_NBPDCL_20241206-110129-103.xml\n",
      "Sync_Electric_SIM_405856707660300_NBPDCL_20241206-110129-104.xml\n",
      "C:\\Users\\Ratan Kumar Jha\\Desktop\\METER_IMPORTATION_FOLDER\\XML_OUTPUT_FILE\\SIM AND METER-SIM LINK FILE\\SIM_FILE\\SIM_XML_OUTPUT_S_&_MS_LINK\\Sync_Electric_SIM_405856707660300_NBPDCL_20241206-110129-104.xml\n",
      "Sync_Electric_SIM_405856706127937_NBPDCL_20241206-110129-105.xml\n",
      "C:\\Users\\Ratan Kumar Jha\\Desktop\\METER_IMPORTATION_FOLDER\\XML_OUTPUT_FILE\\SIM AND METER-SIM LINK FILE\\SIM_FILE\\SIM_XML_OUTPUT_S_&_MS_LINK\\Sync_Electric_SIM_405856706127937_NBPDCL_20241206-110129-105.xml\n",
      "Sync_Electric_SIM_405856706556981_NBPDCL_20241206-110129-106.xml\n",
      "C:\\Users\\Ratan Kumar Jha\\Desktop\\METER_IMPORTATION_FOLDER\\XML_OUTPUT_FILE\\SIM AND METER-SIM LINK FILE\\SIM_FILE\\SIM_XML_OUTPUT_S_&_MS_LINK\\Sync_Electric_SIM_405856706556981_NBPDCL_20241206-110129-106.xml\n",
      "Sync_Electric_SIM_405856707101053_NBPDCL_20241206-110129-107.xml\n",
      "C:\\Users\\Ratan Kumar Jha\\Desktop\\METER_IMPORTATION_FOLDER\\XML_OUTPUT_FILE\\SIM AND METER-SIM LINK FILE\\SIM_FILE\\SIM_XML_OUTPUT_S_&_MS_LINK\\Sync_Electric_SIM_405856707101053_NBPDCL_20241206-110129-107.xml\n",
      "Sync_Electric_SIM_405856706360030_SBPDCL_20241206-110129-108.xml\n",
      "C:\\Users\\Ratan Kumar Jha\\Desktop\\METER_IMPORTATION_FOLDER\\XML_OUTPUT_FILE\\SIM AND METER-SIM LINK FILE\\SIM_FILE\\SIM_XML_OUTPUT_S_&_MS_LINK\\Sync_Electric_SIM_405856706360030_SBPDCL_20241206-110129-108.xml\n",
      "Sync_Electric_SIM_405856708514089_SBPDCL_20241206-110129-109.xml\n",
      "C:\\Users\\Ratan Kumar Jha\\Desktop\\METER_IMPORTATION_FOLDER\\XML_OUTPUT_FILE\\SIM AND METER-SIM LINK FILE\\SIM_FILE\\SIM_XML_OUTPUT_S_&_MS_LINK\\Sync_Electric_SIM_405856708514089_SBPDCL_20241206-110129-109.xml\n",
      "Sync_Electric_SIM_405856706862387_NBPDCL_20241206-110129-110.xml\n",
      "C:\\Users\\Ratan Kumar Jha\\Desktop\\METER_IMPORTATION_FOLDER\\XML_OUTPUT_FILE\\SIM AND METER-SIM LINK FILE\\SIM_FILE\\SIM_XML_OUTPUT_S_&_MS_LINK\\Sync_Electric_SIM_405856706862387_NBPDCL_20241206-110129-110.xml\n",
      "Sync_Electric_SIM_405856707171609_NBPDCL_20241206-110129-111.xml\n",
      "C:\\Users\\Ratan Kumar Jha\\Desktop\\METER_IMPORTATION_FOLDER\\XML_OUTPUT_FILE\\SIM AND METER-SIM LINK FILE\\SIM_FILE\\SIM_XML_OUTPUT_S_&_MS_LINK\\Sync_Electric_SIM_405856707171609_NBPDCL_20241206-110129-111.xml\n",
      "Sync_Electric_SIM_405856706744542_NBPDCL_20241206-110129-112.xml\n",
      "C:\\Users\\Ratan Kumar Jha\\Desktop\\METER_IMPORTATION_FOLDER\\XML_OUTPUT_FILE\\SIM AND METER-SIM LINK FILE\\SIM_FILE\\SIM_XML_OUTPUT_S_&_MS_LINK\\Sync_Electric_SIM_405856706744542_NBPDCL_20241206-110129-112.xml\n",
      "Sync_Electric_SIM_405856706709961_NBPDCL_20241206-110129-113.xml\n",
      "C:\\Users\\Ratan Kumar Jha\\Desktop\\METER_IMPORTATION_FOLDER\\XML_OUTPUT_FILE\\SIM AND METER-SIM LINK FILE\\SIM_FILE\\SIM_XML_OUTPUT_S_&_MS_LINK\\Sync_Electric_SIM_405856706709961_NBPDCL_20241206-110129-113.xml\n",
      "Sync_Electric_SIM_405856706704821_SBPDCL_20241206-110129-114.xml\n",
      "C:\\Users\\Ratan Kumar Jha\\Desktop\\METER_IMPORTATION_FOLDER\\XML_OUTPUT_FILE\\SIM AND METER-SIM LINK FILE\\SIM_FILE\\SIM_XML_OUTPUT_S_&_MS_LINK\\Sync_Electric_SIM_405856706704821_SBPDCL_20241206-110129-114.xml\n",
      "Sync_Electric_SIM_405856706551897_SBPDCL_20241206-110129-115.xml\n",
      "C:\\Users\\Ratan Kumar Jha\\Desktop\\METER_IMPORTATION_FOLDER\\XML_OUTPUT_FILE\\SIM AND METER-SIM LINK FILE\\SIM_FILE\\SIM_XML_OUTPUT_S_&_MS_LINK\\Sync_Electric_SIM_405856706551897_SBPDCL_20241206-110129-115.xml\n",
      "Sync_Electric_SIM_405856708652464_SBPDCL_20241206-110129-116.xml\n",
      "C:\\Users\\Ratan Kumar Jha\\Desktop\\METER_IMPORTATION_FOLDER\\XML_OUTPUT_FILE\\SIM AND METER-SIM LINK FILE\\SIM_FILE\\SIM_XML_OUTPUT_S_&_MS_LINK\\Sync_Electric_SIM_405856708652464_SBPDCL_20241206-110129-116.xml\n",
      "Sync_Electric_SIM_405856707669219_SBPDCL_20241206-110129-117.xml\n",
      "C:\\Users\\Ratan Kumar Jha\\Desktop\\METER_IMPORTATION_FOLDER\\XML_OUTPUT_FILE\\SIM AND METER-SIM LINK FILE\\SIM_FILE\\SIM_XML_OUTPUT_S_&_MS_LINK\\Sync_Electric_SIM_405856707669219_SBPDCL_20241206-110129-117.xml\n",
      "Sync_Electric_SIM_405856708865937_SBPDCL_20241206-110129-118.xml\n",
      "C:\\Users\\Ratan Kumar Jha\\Desktop\\METER_IMPORTATION_FOLDER\\XML_OUTPUT_FILE\\SIM AND METER-SIM LINK FILE\\SIM_FILE\\SIM_XML_OUTPUT_S_&_MS_LINK\\Sync_Electric_SIM_405856708865937_SBPDCL_20241206-110129-118.xml\n",
      "Sync_Electric_SIM_405856708714468_SBPDCL_20241206-110129-119.xml\n",
      "C:\\Users\\Ratan Kumar Jha\\Desktop\\METER_IMPORTATION_FOLDER\\XML_OUTPUT_FILE\\SIM AND METER-SIM LINK FILE\\SIM_FILE\\SIM_XML_OUTPUT_S_&_MS_LINK\\Sync_Electric_SIM_405856708714468_SBPDCL_20241206-110129-119.xml\n",
      "Sync_Electric_SIM_405856707457117_SBPDCL_20241206-110129-120.xml\n",
      "C:\\Users\\Ratan Kumar Jha\\Desktop\\METER_IMPORTATION_FOLDER\\XML_OUTPUT_FILE\\SIM AND METER-SIM LINK FILE\\SIM_FILE\\SIM_XML_OUTPUT_S_&_MS_LINK\\Sync_Electric_SIM_405856707457117_SBPDCL_20241206-110129-120.xml\n",
      "Sync_Electric_SIM_405856708855914_NBPDCL_20241206-110129-121.xml\n",
      "C:\\Users\\Ratan Kumar Jha\\Desktop\\METER_IMPORTATION_FOLDER\\XML_OUTPUT_FILE\\SIM AND METER-SIM LINK FILE\\SIM_FILE\\SIM_XML_OUTPUT_S_&_MS_LINK\\Sync_Electric_SIM_405856708855914_NBPDCL_20241206-110129-121.xml\n",
      "Sync_Electric_SIM_405856707062339_NBPDCL_20241206-110129-122.xml\n",
      "C:\\Users\\Ratan Kumar Jha\\Desktop\\METER_IMPORTATION_FOLDER\\XML_OUTPUT_FILE\\SIM AND METER-SIM LINK FILE\\SIM_FILE\\SIM_XML_OUTPUT_S_&_MS_LINK\\Sync_Electric_SIM_405856707062339_NBPDCL_20241206-110129-122.xml\n",
      "Sync_Electric_SIM_405856707297076_NBPDCL_20241206-110129-123.xml\n",
      "C:\\Users\\Ratan Kumar Jha\\Desktop\\METER_IMPORTATION_FOLDER\\XML_OUTPUT_FILE\\SIM AND METER-SIM LINK FILE\\SIM_FILE\\SIM_XML_OUTPUT_S_&_MS_LINK\\Sync_Electric_SIM_405856707297076_NBPDCL_20241206-110129-123.xml\n",
      "Sync_Electric_SIM_405856706740687_SBPDCL_20241206-110129-124.xml\n",
      "C:\\Users\\Ratan Kumar Jha\\Desktop\\METER_IMPORTATION_FOLDER\\XML_OUTPUT_FILE\\SIM AND METER-SIM LINK FILE\\SIM_FILE\\SIM_XML_OUTPUT_S_&_MS_LINK\\Sync_Electric_SIM_405856706740687_SBPDCL_20241206-110129-124.xml\n",
      "Sync_Electric_SIM_405856706861178_SBPDCL_20241206-110129-125.xml\n",
      "C:\\Users\\Ratan Kumar Jha\\Desktop\\METER_IMPORTATION_FOLDER\\XML_OUTPUT_FILE\\SIM AND METER-SIM LINK FILE\\SIM_FILE\\SIM_XML_OUTPUT_S_&_MS_LINK\\Sync_Electric_SIM_405856706861178_SBPDCL_20241206-110129-125.xml\n",
      "Sync_Electric_SIM_405856706704498_SBPDCL_20241206-110129-126.xml\n",
      "C:\\Users\\Ratan Kumar Jha\\Desktop\\METER_IMPORTATION_FOLDER\\XML_OUTPUT_FILE\\SIM AND METER-SIM LINK FILE\\SIM_FILE\\SIM_XML_OUTPUT_S_&_MS_LINK\\Sync_Electric_SIM_405856706704498_SBPDCL_20241206-110129-126.xml\n",
      "Sync_Electric_SIM_405856707079578_SBPDCL_20241206-110129-127.xml\n",
      "C:\\Users\\Ratan Kumar Jha\\Desktop\\METER_IMPORTATION_FOLDER\\XML_OUTPUT_FILE\\SIM AND METER-SIM LINK FILE\\SIM_FILE\\SIM_XML_OUTPUT_S_&_MS_LINK\\Sync_Electric_SIM_405856707079578_SBPDCL_20241206-110129-127.xml\n",
      "Sync_Electric_SIM_405856706614813_SBPDCL_20241206-110129-128.xml\n",
      "C:\\Users\\Ratan Kumar Jha\\Desktop\\METER_IMPORTATION_FOLDER\\XML_OUTPUT_FILE\\SIM AND METER-SIM LINK FILE\\SIM_FILE\\SIM_XML_OUTPUT_S_&_MS_LINK\\Sync_Electric_SIM_405856706614813_SBPDCL_20241206-110129-128.xml\n",
      "Sync_Electric_SIM_405856708653902_NBPDCL_20241206-110129-129.xml\n",
      "C:\\Users\\Ratan Kumar Jha\\Desktop\\METER_IMPORTATION_FOLDER\\XML_OUTPUT_FILE\\SIM AND METER-SIM LINK FILE\\SIM_FILE\\SIM_XML_OUTPUT_S_&_MS_LINK\\Sync_Electric_SIM_405856708653902_NBPDCL_20241206-110129-129.xml\n",
      "Sync_Electric_SIM_405856708599842_SBPDCL_20241206-110129-130.xml\n",
      "C:\\Users\\Ratan Kumar Jha\\Desktop\\METER_IMPORTATION_FOLDER\\XML_OUTPUT_FILE\\SIM AND METER-SIM LINK FILE\\SIM_FILE\\SIM_XML_OUTPUT_S_&_MS_LINK\\Sync_Electric_SIM_405856708599842_SBPDCL_20241206-110129-130.xml\n",
      "Sync_Electric_SIM_405856706819829_SBPDCL_20241206-110129-131.xml\n",
      "C:\\Users\\Ratan Kumar Jha\\Desktop\\METER_IMPORTATION_FOLDER\\XML_OUTPUT_FILE\\SIM AND METER-SIM LINK FILE\\SIM_FILE\\SIM_XML_OUTPUT_S_&_MS_LINK\\Sync_Electric_SIM_405856706819829_SBPDCL_20241206-110129-131.xml\n",
      "Sync_Electric_SIM_405856707669721_SBPDCL_20241206-110129-132.xml\n",
      "C:\\Users\\Ratan Kumar Jha\\Desktop\\METER_IMPORTATION_FOLDER\\XML_OUTPUT_FILE\\SIM AND METER-SIM LINK FILE\\SIM_FILE\\SIM_XML_OUTPUT_S_&_MS_LINK\\Sync_Electric_SIM_405856707669721_SBPDCL_20241206-110129-132.xml\n",
      "Sync_Electric_SIM_405856708741430_NBPDCL_20241206-110129-133.xml\n",
      "C:\\Users\\Ratan Kumar Jha\\Desktop\\METER_IMPORTATION_FOLDER\\XML_OUTPUT_FILE\\SIM AND METER-SIM LINK FILE\\SIM_FILE\\SIM_XML_OUTPUT_S_&_MS_LINK\\Sync_Electric_SIM_405856708741430_NBPDCL_20241206-110129-133.xml\n",
      "Sync_Electric_SIM_405856706832010_NBPDCL_20241206-110129-134.xml\n",
      "C:\\Users\\Ratan Kumar Jha\\Desktop\\METER_IMPORTATION_FOLDER\\XML_OUTPUT_FILE\\SIM AND METER-SIM LINK FILE\\SIM_FILE\\SIM_XML_OUTPUT_S_&_MS_LINK\\Sync_Electric_SIM_405856706832010_NBPDCL_20241206-110129-134.xml\n",
      "Sync_Electric_SIM_405856707666527_SBPDCL_20241206-110129-135.xml\n",
      "C:\\Users\\Ratan Kumar Jha\\Desktop\\METER_IMPORTATION_FOLDER\\XML_OUTPUT_FILE\\SIM AND METER-SIM LINK FILE\\SIM_FILE\\SIM_XML_OUTPUT_S_&_MS_LINK\\Sync_Electric_SIM_405856707666527_SBPDCL_20241206-110129-135.xml\n",
      "Sync_Electric_SIM_405856707565243_SBPDCL_20241206-110129-136.xml\n",
      "C:\\Users\\Ratan Kumar Jha\\Desktop\\METER_IMPORTATION_FOLDER\\XML_OUTPUT_FILE\\SIM AND METER-SIM LINK FILE\\SIM_FILE\\SIM_XML_OUTPUT_S_&_MS_LINK\\Sync_Electric_SIM_405856707565243_SBPDCL_20241206-110129-136.xml\n",
      "Sync_Electric_SIM_405856708870967_NBPDCL_20241206-110129-137.xml\n",
      "C:\\Users\\Ratan Kumar Jha\\Desktop\\METER_IMPORTATION_FOLDER\\XML_OUTPUT_FILE\\SIM AND METER-SIM LINK FILE\\SIM_FILE\\SIM_XML_OUTPUT_S_&_MS_LINK\\Sync_Electric_SIM_405856708870967_NBPDCL_20241206-110129-137.xml\n",
      "Sync_Electric_SIM_405856707459916_SBPDCL_20241206-110129-138.xml\n",
      "C:\\Users\\Ratan Kumar Jha\\Desktop\\METER_IMPORTATION_FOLDER\\XML_OUTPUT_FILE\\SIM AND METER-SIM LINK FILE\\SIM_FILE\\SIM_XML_OUTPUT_S_&_MS_LINK\\Sync_Electric_SIM_405856707459916_SBPDCL_20241206-110129-138.xml\n"
     ]
    }
   ],
   "source": [
    "import xml.etree.ElementTree as ET\n",
    "from datetime import datetime\n",
    "import os\n",
    "\n",
    "def get_current_date():\n",
    "    return datetime.now().strftime(\"%Y-%m-%d\")\n",
    "\n",
    "\n",
    "CURRENT_TIME = datetime.now().strftime('%Y%m%d_%H%M%S')\n",
    "CURRENT_TIME_HYPHEN = datetime.now().strftime('%Y%m%d-%H%M%S')\n",
    "\n",
    "num_folder = 0\n",
    "k = 100\n",
    "base_path = r'C:\\Users\\Ratan Kumar Jha\\Desktop\\METER_IMPORTATION_FOLDER\\XML_OUTPUT_FILE\\SIM AND METER-SIM LINK FILE\\SIM_FILE'\n",
    "new_folder_name = 'SIM_XML_OUTPUT_S_&_MS_LINK'\n",
    "\n",
    "\n",
    "new_folder_path = os.path.join(base_path, new_folder_name)\n",
    "os.makedirs(new_folder_path)\n",
    "\n",
    "#SIM LINK FILE FOR SIM_METER_AND_METER_SIM_LINK_FILE\n",
    "\n",
    "for index,rows in EESL_BSNL_PO0000000403_00000_SIM_Link_S_AND_MS_LINK.iterrows():\n",
    "    semicolon_split_for_file_name = rows[0].split(';')\n",
    "    #print(semicolon_split_for_file_name)\n",
    "    semicolon_split = rows[0].split(';')\n",
    "    #print(semicolon_split)\n",
    "            \n",
    "    CURRENT_TIME_STAMP = datetime.now().strftime('%Y-%m-%dT%H:%M:%S')\n",
    "\n",
    "    \n",
    "    csv_data = [\n",
    "        {\"verb\": \"SDPSync\", \"noun\": \"SDPSync\", \"revision\": \"1\", \"dateTime\": CURRENT_TIME_STAMP, \"source\": \"CIS\", \"messageID\": \"MESSAGE-10001\", \"asyncReplyTo\": \"none\", \"syncMode\": \"sync\", \"optimizationLevel\": \"Optimistic\"},\n",
    "        {\"mRID\": semicolon_split[0], \"className\": \"SIMCommMod\", \"type\": \"CommModule\", \"virtualInd\": \"N\", \"status\": \"ACTIVE\", \"badgeId\": semicolon_split[0], \"standardId\": semicolon_split[0], \"electronicId\": semicolon_split[0], \"mfgSerialNumber\": semicolon_split[1], \"deviceFunctionType\": \"Y\", \"make\": \"BSNLEDF\", \"networkId\": semicolon_split[2], \"location\": semicolon_split[6]}\n",
    "        \n",
    "        ]\n",
    "    \n",
    "    xml_string = '<SDPSyncMessage xmlns=\"http://www.emeter.com/energyip/syncinterface/v8\" xmlns:xsi=\"http://www.w3.org/2001/XMLSchema-instance\">'\n",
    "\n",
    "                # Loop through the data and append to the XML string\n",
    "    for row in csv_data:\n",
    "            \n",
    "        if row.get(\"verb\"):\n",
    "            xml_string += '    <header>\\n'\n",
    "        elif row.get(\"mRID\"):\n",
    "            xml_string += '    <payload>\\n        <device>\\n'\n",
    "        \n",
    "        else:\n",
    "            xml_string += '    <payload>\\n        <device>\\n'\n",
    "\n",
    "        for key, value in row.items():\n",
    "            #print(f\"{key} : {value}\")\n",
    "            #print(value)\n",
    "            if key != \"verb\" and key != \"mRID\" :\n",
    "                if key != \"value\" and key != \"startDate\":\n",
    "                    xml_string += f'            <{key}>{value}</{key}>\\n'\n",
    "                else:\n",
    "                    xml_string += f'                <{key}>{value}</{key}>\\n'\n",
    "            elif key == \"value\" and key == \"\":\n",
    "                xml_string += f'                <{key}>{value}</{key}>\\n'\n",
    "            elif key == \"verb\":\n",
    "                xml_string += f'            <{key}>{value}</{key}>\\n'\n",
    "            elif key == \"mRID\":\n",
    "                xml_string += f'            <{key}>{value}</{key}>\\n'\n",
    "            \n",
    "\n",
    "        if row.get(\"verb\"):\n",
    "            xml_string += '    </header>\\n'\n",
    "            #print(xml_string)\n",
    "        #elif row.get(\"mRID\"):\n",
    "            #xml_string += '            </parameter>\\n'\n",
    "            #else:\n",
    "                #xml_string += '        </device>\\n    </payload>\\n'\\\n",
    "            \n",
    "    xml_string += '         </device>\\n     </payload>\\n</SDPSyncMessage>'\n",
    "    #print(xml_string)\n",
    "            #root = ET.fromstring(xml_string)\n",
    "    root = ET.ElementTree(ET.fromstring(xml_string))\n",
    "\n",
    "    k=k+1 \n",
    "\n",
    "    if k > 995:\n",
    "            k = 100\n",
    "            final_new_folder_name = new_folder_name\n",
    "            num_folder = num_folder + 1\n",
    "            final_new_folder_name = new_folder_name + \"_\" + str(num_folder)\n",
    "            new_folder_path = os.path.join(base_path, final_new_folder_name)\n",
    "            os.makedirs(new_folder_path)\n",
    "    else:\n",
    "        file_name = \"Sync_Electric_SIM_\" + semicolon_split_for_file_name[0] + \"_\"  + semicolon_split_for_file_name[-1] + \"_\" + str(CURRENT_TIME_HYPHEN)  + \"-\" + str(k) + \".xml\"\n",
    "        print(file_name)\n",
    "        #print(f\"file name is {file_name}\")\n",
    "        file_path = os.path.join(new_folder_path, file_name)\n",
    "        print(file_path)\n",
    "\n",
    "        #single_row_df.to_csv(r\"C:\\Users\\Ratan Kumar Jha\\Desktop\\satyam_data\\single_file_data\\file_name\", index=False, header=False) \n",
    "        with open(file_path, 'w') as file:\n",
    "            file.write(xml_string)\n",
    "        \n",
    "    \n",
    "        "
   ]
  },
  {
   "cell_type": "code",
   "execution_count": null,
   "metadata": {},
   "outputs": [],
   "source": []
  },
  {
   "cell_type": "markdown",
   "metadata": {},
   "source": [
    "# METER SIM LINK FILE"
   ]
  },
  {
   "cell_type": "markdown",
   "metadata": {},
   "source": [
    "### meter sim link file for  meter-sim and meter sim link"
   ]
  },
  {
   "cell_type": "code",
   "execution_count": null,
   "metadata": {},
   "outputs": [],
   "source": []
  },
  {
   "cell_type": "code",
   "execution_count": 180,
   "metadata": {},
   "outputs": [],
   "source": [
    "#METER SIM LINK\n",
    "\n",
    "# EESL_GENUS_PO0000000403_00000_SIM_Meter_Link_M_S_AND_MS_LINK\n",
    "# EESL_GENUS_PO0000000403_00000_SIM_Meter_Link_S_AND_MS_LINK\n",
    "# EESL_GENUS_PO0000000403_00000_SIM_Meter_Link_MS_LINK"
   ]
  },
  {
   "cell_type": "code",
   "execution_count": 181,
   "metadata": {},
   "outputs": [
    {
     "name": "stdout",
     "output_type": "stream",
     "text": [
      "XML file generated: C:\\Users\\Ratan Kumar Jha\\Desktop\\METER_IMPORTATION_FOLDER\\XML_OUTPUT_FILE\\METER,SIM AND METER-SIM LINK\\METER-SIM_LINK_FILE\\METER_SIM_LINK_XML_OUTPUT_S_M_AND_MS_LINK\\Sync_Electric_SIMLink_LNTLT0912526_NBPDCL_20241206-110129-101.xml\n"
     ]
    }
   ],
   "source": [
    "import xml.etree.ElementTree as ET\n",
    "from datetime import datetime\n",
    "import os\n",
    "\n",
    "def get_current_date():\n",
    "    return datetime.now().strftime(\"%Y-%m-%d\")\n",
    "\n",
    "CURRENT_TIME = datetime.now().strftime('%Y%m%d_%H%M%S')\n",
    "CURRENT_TIME_HYPHEN = datetime.now().strftime('%Y%m%d-%H%M%S')\n",
    "\n",
    "num_folder = 0\n",
    "k = 100\n",
    "base_path = r'C:\\Users\\Ratan Kumar Jha\\Desktop\\METER_IMPORTATION_FOLDER\\XML_OUTPUT_FILE\\METER,SIM AND METER-SIM LINK\\METER-SIM_LINK_FILE'\n",
    "new_folder_name = 'METER_SIM_LINK_XML_OUTPUT_S_M_AND_MS_LINK'\n",
    "\n",
    "new_folder_path = os.path.join(base_path, new_folder_name)\n",
    "os.makedirs(new_folder_path, exist_ok=True)\n",
    "\n",
    "for index, rows in EESL_GENUS_PO0000000403_00000_SIM_Meter_Link_M_S_AND_MS_LINK.iterrows():\n",
    "    semicolon_split_for_file_name = rows[0].split(';')\n",
    "    semicolon_split = rows[0].split(';')\n",
    "            \n",
    "    CURRENT_TIME_STAMP = datetime.now().strftime('%Y-%m-%dT%H:%M:%S')\n",
    "\n",
    "    xml_string = f'<SDPSyncMessage xmlns=\"http://www.emeter.com/energyip/syncinterface/v8\" xmlns:xsi=\"http://www.w3.org/2001/XMLSchema-instance\">\\n'\n",
    "    xml_string += '    <header>\\n'\n",
    "    xml_string += '        <verb>SDPSync</verb>\\n'\n",
    "    xml_string += '        <noun>SDPSync</noun>\\n'\n",
    "    xml_string += '        <revision>1</revision>\\n'\n",
    "    xml_string += f'        <dateTime>{CURRENT_TIME_STAMP}</dateTime>\\n'\n",
    "    xml_string += '        <source>CIS</source>\\n'\n",
    "    xml_string += '        <messageID>MESSAGE-10001</messageID>\\n'\n",
    "    xml_string += '        <asyncReplyTo>none</asyncReplyTo>\\n'\n",
    "    xml_string += '        <syncMode>sync</syncMode>\\n'\n",
    "    xml_string += '        <optimizationLevel>Optimistic</optimizationLevel>\\n'\n",
    "    xml_string += '    </header>\\n'\n",
    "    xml_string += '    <payload>\\n'\n",
    "    xml_string += '        <deviceFunctionAssociation>\\n'\n",
    "    xml_string += f'            <relType>COMMUNICATION-METER</relType>\\n'\n",
    "    xml_string += f'            <startDate>{get_current_date()}</startDate>\\n'\n",
    "    xml_string += '            <deviceId>\\n'\n",
    "    xml_string += f'                <mRID>{semicolon_split[0]}</mRID>\\n'\n",
    "    xml_string += f'                <description>{semicolon_split[-1]}</description>\\n'\n",
    "    xml_string += f'                <type>Meter</type>\\n'\n",
    "    xml_string += '            </deviceId>\\n'\n",
    "    xml_string += '            <comFunctionId>\\n'\n",
    "    xml_string += f'                <mRID>{semicolon_split[2]}</mRID>\\n'\n",
    "    xml_string += '                <type>CommModule</type>\\n'\n",
    "    xml_string += '            </comFunctionId>\\n'\n",
    "    xml_string += '        </deviceFunctionAssociation>\\n'\n",
    "    xml_string += '    </payload>\\n'\n",
    "    xml_string += '</SDPSyncMessage>\\n'\n",
    "\n",
    "    root = ET.ElementTree(ET.fromstring(xml_string))\n",
    "\n",
    "    k += 1 \n",
    "\n",
    "    if k > 995:\n",
    "        k = 100\n",
    "        num_folder += 1\n",
    "        final_new_folder_name = f\"{new_folder_name}_{num_folder}\"\n",
    "        new_folder_path = os.path.join(base_path, final_new_folder_name)\n",
    "        os.makedirs(new_folder_path, exist_ok=True)\n",
    "    else:\n",
    "        file_name = f\"Sync_Electric_SIMLink_{semicolon_split_for_file_name[0]}_{semicolon_split_for_file_name[-1]}_{CURRENT_TIME_HYPHEN}-{k}.xml\"\n",
    "        file_path = os.path.join(new_folder_path, file_name)\n",
    "        with open(file_path, 'w') as file:\n",
    "            file.write(xml_string)\n",
    "\n",
    "        print(f\"XML file generated: {file_path}\")\n"
   ]
  },
  {
   "cell_type": "code",
   "execution_count": null,
   "metadata": {},
   "outputs": [],
   "source": []
  },
  {
   "cell_type": "markdown",
   "metadata": {},
   "source": [
    "### meter sim link file for  sim and meter sim link"
   ]
  },
  {
   "cell_type": "code",
   "execution_count": 182,
   "metadata": {},
   "outputs": [
    {
     "name": "stdout",
     "output_type": "stream",
     "text": [
      "XML file generated: C:\\Users\\Ratan Kumar Jha\\Desktop\\METER_IMPORTATION_FOLDER\\XML_OUTPUT_FILE\\SIM AND METER-SIM LINK FILE\\METER-SIM_LINK_FILE\\METER_SIM_LINK_XML_OUTPUT_S_&_MS_LINK\\Sync_Electric_SIMLink_LNTLT0362986_NBPDCL_20241206-110129-101.xml\n",
      "XML file generated: C:\\Users\\Ratan Kumar Jha\\Desktop\\METER_IMPORTATION_FOLDER\\XML_OUTPUT_FILE\\SIM AND METER-SIM LINK FILE\\METER-SIM_LINK_FILE\\METER_SIM_LINK_XML_OUTPUT_S_&_MS_LINK\\Sync_Electric_SIMLink_LNTLT0643666_NBPDCL_20241206-110129-102.xml\n",
      "XML file generated: C:\\Users\\Ratan Kumar Jha\\Desktop\\METER_IMPORTATION_FOLDER\\XML_OUTPUT_FILE\\SIM AND METER-SIM LINK FILE\\METER-SIM_LINK_FILE\\METER_SIM_LINK_XML_OUTPUT_S_&_MS_LINK\\Sync_Electric_SIMLink_LNTLT0201982_NBPDCL_20241206-110129-103.xml\n",
      "XML file generated: C:\\Users\\Ratan Kumar Jha\\Desktop\\METER_IMPORTATION_FOLDER\\XML_OUTPUT_FILE\\SIM AND METER-SIM LINK FILE\\METER-SIM_LINK_FILE\\METER_SIM_LINK_XML_OUTPUT_S_&_MS_LINK\\Sync_Electric_SIMLink_LNTLT0298457_NBPDCL_20241206-110129-104.xml\n",
      "XML file generated: C:\\Users\\Ratan Kumar Jha\\Desktop\\METER_IMPORTATION_FOLDER\\XML_OUTPUT_FILE\\SIM AND METER-SIM LINK FILE\\METER-SIM_LINK_FILE\\METER_SIM_LINK_XML_OUTPUT_S_&_MS_LINK\\Sync_Electric_SIMLink_LNTLT0134717_NBPDCL_20241206-110129-105.xml\n",
      "XML file generated: C:\\Users\\Ratan Kumar Jha\\Desktop\\METER_IMPORTATION_FOLDER\\XML_OUTPUT_FILE\\SIM AND METER-SIM LINK FILE\\METER-SIM_LINK_FILE\\METER_SIM_LINK_XML_OUTPUT_S_&_MS_LINK\\Sync_Electric_SIMLink_LNTLT0403829_NBPDCL_20241206-110129-106.xml\n",
      "XML file generated: C:\\Users\\Ratan Kumar Jha\\Desktop\\METER_IMPORTATION_FOLDER\\XML_OUTPUT_FILE\\SIM AND METER-SIM LINK FILE\\METER-SIM_LINK_FILE\\METER_SIM_LINK_XML_OUTPUT_S_&_MS_LINK\\Sync_Electric_SIMLink_LNTLT0879939_NBPDCL_20241206-110129-107.xml\n",
      "XML file generated: C:\\Users\\Ratan Kumar Jha\\Desktop\\METER_IMPORTATION_FOLDER\\XML_OUTPUT_FILE\\SIM AND METER-SIM LINK FILE\\METER-SIM_LINK_FILE\\METER_SIM_LINK_XML_OUTPUT_S_&_MS_LINK\\Sync_Electric_SIMLink_LNTLT8018345_SBPDCL_20241206-110129-108.xml\n",
      "XML file generated: C:\\Users\\Ratan Kumar Jha\\Desktop\\METER_IMPORTATION_FOLDER\\XML_OUTPUT_FILE\\SIM AND METER-SIM LINK FILE\\METER-SIM_LINK_FILE\\METER_SIM_LINK_XML_OUTPUT_S_&_MS_LINK\\Sync_Electric_SIMLink_GOEGL8952078_SBPDCL_20241206-110129-109.xml\n",
      "XML file generated: C:\\Users\\Ratan Kumar Jha\\Desktop\\METER_IMPORTATION_FOLDER\\XML_OUTPUT_FILE\\SIM AND METER-SIM LINK FILE\\METER-SIM_LINK_FILE\\METER_SIM_LINK_XML_OUTPUT_S_&_MS_LINK\\Sync_Electric_SIMLink_GOEGL8606782_NBPDCL_20241206-110129-110.xml\n",
      "XML file generated: C:\\Users\\Ratan Kumar Jha\\Desktop\\METER_IMPORTATION_FOLDER\\XML_OUTPUT_FILE\\SIM AND METER-SIM LINK FILE\\METER-SIM_LINK_FILE\\METER_SIM_LINK_XML_OUTPUT_S_&_MS_LINK\\Sync_Electric_SIMLink_GOEGL8642415_NBPDCL_20241206-110129-111.xml\n",
      "XML file generated: C:\\Users\\Ratan Kumar Jha\\Desktop\\METER_IMPORTATION_FOLDER\\XML_OUTPUT_FILE\\SIM AND METER-SIM LINK FILE\\METER-SIM_LINK_FILE\\METER_SIM_LINK_XML_OUTPUT_S_&_MS_LINK\\Sync_Electric_SIMLink_GOEGL8875321_NBPDCL_20241206-110129-112.xml\n",
      "XML file generated: C:\\Users\\Ratan Kumar Jha\\Desktop\\METER_IMPORTATION_FOLDER\\XML_OUTPUT_FILE\\SIM AND METER-SIM LINK FILE\\METER-SIM_LINK_FILE\\METER_SIM_LINK_XML_OUTPUT_S_&_MS_LINK\\Sync_Electric_SIMLink_GOEGL8875967_NBPDCL_20241206-110129-113.xml\n",
      "XML file generated: C:\\Users\\Ratan Kumar Jha\\Desktop\\METER_IMPORTATION_FOLDER\\XML_OUTPUT_FILE\\SIM AND METER-SIM LINK FILE\\METER-SIM_LINK_FILE\\METER_SIM_LINK_XML_OUTPUT_S_&_MS_LINK\\Sync_Electric_SIMLink_GOEGL8614129_SBPDCL_20241206-110129-114.xml\n",
      "XML file generated: C:\\Users\\Ratan Kumar Jha\\Desktop\\METER_IMPORTATION_FOLDER\\XML_OUTPUT_FILE\\SIM AND METER-SIM LINK FILE\\METER-SIM_LINK_FILE\\METER_SIM_LINK_XML_OUTPUT_S_&_MS_LINK\\Sync_Electric_SIMLink_GOEGL8721976_SBPDCL_20241206-110129-115.xml\n",
      "XML file generated: C:\\Users\\Ratan Kumar Jha\\Desktop\\METER_IMPORTATION_FOLDER\\XML_OUTPUT_FILE\\SIM AND METER-SIM LINK FILE\\METER-SIM_LINK_FILE\\METER_SIM_LINK_XML_OUTPUT_S_&_MS_LINK\\Sync_Electric_SIMLink_GOEGL8994443_SBPDCL_20241206-110129-116.xml\n",
      "XML file generated: C:\\Users\\Ratan Kumar Jha\\Desktop\\METER_IMPORTATION_FOLDER\\XML_OUTPUT_FILE\\SIM AND METER-SIM LINK FILE\\METER-SIM_LINK_FILE\\METER_SIM_LINK_XML_OUTPUT_S_&_MS_LINK\\Sync_Electric_SIMLink_GOEGL9040505_SBPDCL_20241206-110129-117.xml\n",
      "XML file generated: C:\\Users\\Ratan Kumar Jha\\Desktop\\METER_IMPORTATION_FOLDER\\XML_OUTPUT_FILE\\SIM AND METER-SIM LINK FILE\\METER-SIM_LINK_FILE\\METER_SIM_LINK_XML_OUTPUT_S_&_MS_LINK\\Sync_Electric_SIMLink_GOEGL9047929_SBPDCL_20241206-110129-118.xml\n",
      "XML file generated: C:\\Users\\Ratan Kumar Jha\\Desktop\\METER_IMPORTATION_FOLDER\\XML_OUTPUT_FILE\\SIM AND METER-SIM LINK FILE\\METER-SIM_LINK_FILE\\METER_SIM_LINK_XML_OUTPUT_S_&_MS_LINK\\Sync_Electric_SIMLink_GOEGL8624134_SBPDCL_20241206-110129-119.xml\n",
      "XML file generated: C:\\Users\\Ratan Kumar Jha\\Desktop\\METER_IMPORTATION_FOLDER\\XML_OUTPUT_FILE\\SIM AND METER-SIM LINK FILE\\METER-SIM_LINK_FILE\\METER_SIM_LINK_XML_OUTPUT_S_&_MS_LINK\\Sync_Electric_SIMLink_GOEGL8625803_SBPDCL_20241206-110129-120.xml\n",
      "XML file generated: C:\\Users\\Ratan Kumar Jha\\Desktop\\METER_IMPORTATION_FOLDER\\XML_OUTPUT_FILE\\SIM AND METER-SIM LINK FILE\\METER-SIM_LINK_FILE\\METER_SIM_LINK_XML_OUTPUT_S_&_MS_LINK\\Sync_Electric_SIMLink_GOEGL8897234_NBPDCL_20241206-110129-121.xml\n",
      "XML file generated: C:\\Users\\Ratan Kumar Jha\\Desktop\\METER_IMPORTATION_FOLDER\\XML_OUTPUT_FILE\\SIM AND METER-SIM LINK FILE\\METER-SIM_LINK_FILE\\METER_SIM_LINK_XML_OUTPUT_S_&_MS_LINK\\Sync_Electric_SIMLink_GOEGL8998049_NBPDCL_20241206-110129-122.xml\n",
      "XML file generated: C:\\Users\\Ratan Kumar Jha\\Desktop\\METER_IMPORTATION_FOLDER\\XML_OUTPUT_FILE\\SIM AND METER-SIM LINK FILE\\METER-SIM_LINK_FILE\\METER_SIM_LINK_XML_OUTPUT_S_&_MS_LINK\\Sync_Electric_SIMLink_GOEGL8618453_NBPDCL_20241206-110129-123.xml\n",
      "XML file generated: C:\\Users\\Ratan Kumar Jha\\Desktop\\METER_IMPORTATION_FOLDER\\XML_OUTPUT_FILE\\SIM AND METER-SIM LINK FILE\\METER-SIM_LINK_FILE\\METER_SIM_LINK_XML_OUTPUT_S_&_MS_LINK\\Sync_Electric_SIMLink_GOEGL8555558_SBPDCL_20241206-110129-124.xml\n",
      "XML file generated: C:\\Users\\Ratan Kumar Jha\\Desktop\\METER_IMPORTATION_FOLDER\\XML_OUTPUT_FILE\\SIM AND METER-SIM LINK FILE\\METER-SIM_LINK_FILE\\METER_SIM_LINK_XML_OUTPUT_S_&_MS_LINK\\Sync_Electric_SIMLink_GOEGL8550637_SBPDCL_20241206-110129-125.xml\n",
      "XML file generated: C:\\Users\\Ratan Kumar Jha\\Desktop\\METER_IMPORTATION_FOLDER\\XML_OUTPUT_FILE\\SIM AND METER-SIM LINK FILE\\METER-SIM_LINK_FILE\\METER_SIM_LINK_XML_OUTPUT_S_&_MS_LINK\\Sync_Electric_SIMLink_GOEGL8993402_SBPDCL_20241206-110129-126.xml\n",
      "XML file generated: C:\\Users\\Ratan Kumar Jha\\Desktop\\METER_IMPORTATION_FOLDER\\XML_OUTPUT_FILE\\SIM AND METER-SIM LINK FILE\\METER-SIM_LINK_FILE\\METER_SIM_LINK_XML_OUTPUT_S_&_MS_LINK\\Sync_Electric_SIMLink_GOEGL8939248_SBPDCL_20241206-110129-127.xml\n",
      "XML file generated: C:\\Users\\Ratan Kumar Jha\\Desktop\\METER_IMPORTATION_FOLDER\\XML_OUTPUT_FILE\\SIM AND METER-SIM LINK FILE\\METER-SIM_LINK_FILE\\METER_SIM_LINK_XML_OUTPUT_S_&_MS_LINK\\Sync_Electric_SIMLink_GOEGL8631450_SBPDCL_20241206-110129-128.xml\n",
      "XML file generated: C:\\Users\\Ratan Kumar Jha\\Desktop\\METER_IMPORTATION_FOLDER\\XML_OUTPUT_FILE\\SIM AND METER-SIM LINK FILE\\METER-SIM_LINK_FILE\\METER_SIM_LINK_XML_OUTPUT_S_&_MS_LINK\\Sync_Electric_SIMLink_GOEGL8957435_NBPDCL_20241206-110129-129.xml\n",
      "XML file generated: C:\\Users\\Ratan Kumar Jha\\Desktop\\METER_IMPORTATION_FOLDER\\XML_OUTPUT_FILE\\SIM AND METER-SIM LINK FILE\\METER-SIM_LINK_FILE\\METER_SIM_LINK_XML_OUTPUT_S_&_MS_LINK\\Sync_Electric_SIMLink_GOEGL8627391_SBPDCL_20241206-110129-130.xml\n",
      "XML file generated: C:\\Users\\Ratan Kumar Jha\\Desktop\\METER_IMPORTATION_FOLDER\\XML_OUTPUT_FILE\\SIM AND METER-SIM LINK FILE\\METER-SIM_LINK_FILE\\METER_SIM_LINK_XML_OUTPUT_S_&_MS_LINK\\Sync_Electric_SIMLink_GOEGL9023152_SBPDCL_20241206-110129-131.xml\n",
      "XML file generated: C:\\Users\\Ratan Kumar Jha\\Desktop\\METER_IMPORTATION_FOLDER\\XML_OUTPUT_FILE\\SIM AND METER-SIM LINK FILE\\METER-SIM_LINK_FILE\\METER_SIM_LINK_XML_OUTPUT_S_&_MS_LINK\\Sync_Electric_SIMLink_GOEGL9023364_SBPDCL_20241206-110129-132.xml\n",
      "XML file generated: C:\\Users\\Ratan Kumar Jha\\Desktop\\METER_IMPORTATION_FOLDER\\XML_OUTPUT_FILE\\SIM AND METER-SIM LINK FILE\\METER-SIM_LINK_FILE\\METER_SIM_LINK_XML_OUTPUT_S_&_MS_LINK\\Sync_Electric_SIMLink_GOEGL9027024_NBPDCL_20241206-110129-133.xml\n",
      "XML file generated: C:\\Users\\Ratan Kumar Jha\\Desktop\\METER_IMPORTATION_FOLDER\\XML_OUTPUT_FILE\\SIM AND METER-SIM LINK FILE\\METER-SIM_LINK_FILE\\METER_SIM_LINK_XML_OUTPUT_S_&_MS_LINK\\Sync_Electric_SIMLink_GOEGL9052675_NBPDCL_20241206-110129-134.xml\n",
      "XML file generated: C:\\Users\\Ratan Kumar Jha\\Desktop\\METER_IMPORTATION_FOLDER\\XML_OUTPUT_FILE\\SIM AND METER-SIM LINK FILE\\METER-SIM_LINK_FILE\\METER_SIM_LINK_XML_OUTPUT_S_&_MS_LINK\\Sync_Electric_SIMLink_GOEGL9019283_SBPDCL_20241206-110129-135.xml\n",
      "XML file generated: C:\\Users\\Ratan Kumar Jha\\Desktop\\METER_IMPORTATION_FOLDER\\XML_OUTPUT_FILE\\SIM AND METER-SIM LINK FILE\\METER-SIM_LINK_FILE\\METER_SIM_LINK_XML_OUTPUT_S_&_MS_LINK\\Sync_Electric_SIMLink_GOEGL8993684_SBPDCL_20241206-110129-136.xml\n",
      "XML file generated: C:\\Users\\Ratan Kumar Jha\\Desktop\\METER_IMPORTATION_FOLDER\\XML_OUTPUT_FILE\\SIM AND METER-SIM LINK FILE\\METER-SIM_LINK_FILE\\METER_SIM_LINK_XML_OUTPUT_S_&_MS_LINK\\Sync_Electric_SIMLink_GOEGL8680603_NBPDCL_20241206-110129-137.xml\n",
      "XML file generated: C:\\Users\\Ratan Kumar Jha\\Desktop\\METER_IMPORTATION_FOLDER\\XML_OUTPUT_FILE\\SIM AND METER-SIM LINK FILE\\METER-SIM_LINK_FILE\\METER_SIM_LINK_XML_OUTPUT_S_&_MS_LINK\\Sync_Electric_SIMLink_GOEGL8982983_SBPDCL_20241206-110129-138.xml\n"
     ]
    }
   ],
   "source": [
    "import xml.etree.ElementTree as ET\n",
    "from datetime import datetime\n",
    "import os\n",
    "\n",
    "def get_current_date():\n",
    "    return datetime.now().strftime(\"%Y-%m-%d\")\n",
    "\n",
    "CURRENT_TIME = datetime.now().strftime('%Y%m%d_%H%M%S')\n",
    "CURRENT_TIME_HYPHEN = datetime.now().strftime('%Y%m%d-%H%M%S')\n",
    "\n",
    "num_folder = 0\n",
    "k = 100\n",
    "base_path = r'C:\\Users\\Ratan Kumar Jha\\Desktop\\METER_IMPORTATION_FOLDER\\XML_OUTPUT_FILE\\SIM AND METER-SIM LINK FILE\\METER-SIM_LINK_FILE'\n",
    "new_folder_name = 'METER_SIM_LINK_XML_OUTPUT_S_&_MS_LINK'\n",
    "\n",
    "new_folder_path = os.path.join(base_path, new_folder_name)\n",
    "os.makedirs(new_folder_path, exist_ok=True)\n",
    "\n",
    "for index, rows in EESL_GENUS_PO0000000403_00000_SIM_Meter_Link_S_AND_MS_LINK.iterrows():\n",
    "    semicolon_split_for_file_name = rows[0].split(';')\n",
    "    semicolon_split = rows[0].split(';')\n",
    "            \n",
    "    CURRENT_TIME_STAMP = datetime.now().strftime('%Y-%m-%dT%H:%M:%S')\n",
    "\n",
    "    xml_string = f'<SDPSyncMessage xmlns=\"http://www.emeter.com/energyip/syncinterface/v8\" xmlns:xsi=\"http://www.w3.org/2001/XMLSchema-instance\">\\n'\n",
    "    xml_string += '    <header>\\n'\n",
    "    xml_string += '        <verb>SDPSync</verb>\\n'\n",
    "    xml_string += '        <noun>SDPSync</noun>\\n'\n",
    "    xml_string += '        <revision>1</revision>\\n'\n",
    "    xml_string += f'        <dateTime>{CURRENT_TIME_STAMP}</dateTime>\\n'\n",
    "    xml_string += '        <source>CIS</source>\\n'\n",
    "    xml_string += '        <messageID>MESSAGE-10001</messageID>\\n'\n",
    "    xml_string += '        <asyncReplyTo>none</asyncReplyTo>\\n'\n",
    "    xml_string += '        <syncMode>sync</syncMode>\\n'\n",
    "    xml_string += '        <optimizationLevel>Optimistic</optimizationLevel>\\n'\n",
    "    xml_string += '    </header>\\n'\n",
    "    xml_string += '    <payload>\\n'\n",
    "    xml_string += '        <deviceFunctionAssociation>\\n'\n",
    "    xml_string += f'            <relType>COMMUNICATION-METER</relType>\\n'\n",
    "    xml_string += f'            <startDate>{get_current_date()}</startDate>\\n'\n",
    "    xml_string += '            <deviceId>\\n'\n",
    "    xml_string += f'                <mRID>{semicolon_split[0]}</mRID>\\n'\n",
    "    xml_string += f'                <description>{semicolon_split[-1]}</description>\\n'\n",
    "    xml_string += f'                <type>Meter</type>\\n'\n",
    "    xml_string += '            </deviceId>\\n'\n",
    "    xml_string += '            <comFunctionId>\\n'\n",
    "    xml_string += f'                <mRID>{semicolon_split[2]}</mRID>\\n'\n",
    "    xml_string += '                <type>CommModule</type>\\n'\n",
    "    xml_string += '            </comFunctionId>\\n'\n",
    "    xml_string += '        </deviceFunctionAssociation>\\n'\n",
    "    xml_string += '    </payload>\\n'\n",
    "    xml_string += '</SDPSyncMessage>\\n'\n",
    "\n",
    "    root = ET.ElementTree(ET.fromstring(xml_string))\n",
    "\n",
    "    k += 1 \n",
    "\n",
    "    if k > 995:\n",
    "        k = 100\n",
    "        num_folder += 1\n",
    "        final_new_folder_name = f\"{new_folder_name}_{num_folder}\"\n",
    "        new_folder_path = os.path.join(base_path, final_new_folder_name)\n",
    "        os.makedirs(new_folder_path, exist_ok=True)\n",
    "    else:\n",
    "        file_name = f\"Sync_Electric_SIMLink_{semicolon_split_for_file_name[0]}_{semicolon_split_for_file_name[-1]}_{CURRENT_TIME_HYPHEN}-{k}.xml\"\n",
    "        file_path = os.path.join(new_folder_path, file_name)\n",
    "        with open(file_path, 'w') as file:\n",
    "            file.write(xml_string)\n",
    "\n",
    "        print(f\"XML file generated: {file_path}\")\n"
   ]
  },
  {
   "cell_type": "code",
   "execution_count": null,
   "metadata": {},
   "outputs": [],
   "source": []
  },
  {
   "cell_type": "markdown",
   "metadata": {},
   "source": [
    "### meter sim link file for  meter sim link"
   ]
  },
  {
   "cell_type": "code",
   "execution_count": 183,
   "metadata": {},
   "outputs": [
    {
     "name": "stdout",
     "output_type": "stream",
     "text": [
      "XML file generated: C:\\Users\\Ratan Kumar Jha\\Desktop\\METER_IMPORTATION_FOLDER\\XML_OUTPUT_FILE\\METER-SIM LINK\\METER-SIM_LINK_FILE\\METER_SIM_LINK_XML_OUTPUT_MS_LINK\\Sync_Electric_SIMLink_GOEGL8707991_SBPDCL_20241206-110129-101.xml\n"
     ]
    }
   ],
   "source": [
    "import xml.etree.ElementTree as ET\n",
    "from datetime import datetime\n",
    "import os\n",
    "\n",
    "def get_current_date():\n",
    "    return datetime.now().strftime(\"%Y-%m-%d\")\n",
    "\n",
    "CURRENT_TIME = datetime.now().strftime('%Y%m%d_%H%M%S')\n",
    "CURRENT_TIME_HYPHEN = datetime.now().strftime('%Y%m%d-%H%M%S')\n",
    "\n",
    "num_folder = 0\n",
    "k = 100\n",
    "base_path = r'C:\\Users\\Ratan Kumar Jha\\Desktop\\METER_IMPORTATION_FOLDER\\XML_OUTPUT_FILE\\METER-SIM LINK\\METER-SIM_LINK_FILE'\n",
    "new_folder_name = 'METER_SIM_LINK_XML_OUTPUT_MS_LINK'\n",
    "\n",
    "new_folder_path = os.path.join(base_path, new_folder_name)\n",
    "os.makedirs(new_folder_path, exist_ok=True)\n",
    "\n",
    "for index, rows in EESL_GENUS_PO0000000403_00000_SIM_Meter_Link_MS_LINK.iterrows():\n",
    "    semicolon_split_for_file_name = rows[0].split(';')\n",
    "    semicolon_split = rows[0].split(';')\n",
    "            \n",
    "    CURRENT_TIME_STAMP = datetime.now().strftime('%Y-%m-%dT%H:%M:%S')\n",
    "\n",
    "    xml_string = f'<SDPSyncMessage xmlns=\"http://www.emeter.com/energyip/syncinterface/v8\" xmlns:xsi=\"http://www.w3.org/2001/XMLSchema-instance\">\\n'\n",
    "    xml_string += '    <header>\\n'\n",
    "    xml_string += '        <verb>SDPSync</verb>\\n'\n",
    "    xml_string += '        <noun>SDPSync</noun>\\n'\n",
    "    xml_string += '        <revision>1</revision>\\n'\n",
    "    xml_string += f'        <dateTime>{CURRENT_TIME_STAMP}</dateTime>\\n'\n",
    "    xml_string += '        <source>CIS</source>\\n'\n",
    "    xml_string += '        <messageID>MESSAGE-10001</messageID>\\n'\n",
    "    xml_string += '        <asyncReplyTo>none</asyncReplyTo>\\n'\n",
    "    xml_string += '        <syncMode>sync</syncMode>\\n'\n",
    "    xml_string += '        <optimizationLevel>Optimistic</optimizationLevel>\\n'\n",
    "    xml_string += '    </header>\\n'\n",
    "    xml_string += '    <payload>\\n'\n",
    "    xml_string += '        <deviceFunctionAssociation>\\n'\n",
    "    xml_string += f'            <relType>COMMUNICATION-METER</relType>\\n'\n",
    "    xml_string += f'            <startDate>{get_current_date()}</startDate>\\n'\n",
    "    xml_string += '            <deviceId>\\n'\n",
    "    xml_string += f'                <mRID>{semicolon_split[0]}</mRID>\\n'\n",
    "    xml_string += f'                <description>{semicolon_split[-1]}</description>\\n'\n",
    "    xml_string += f'                <type>Meter</type>\\n'\n",
    "    xml_string += '            </deviceId>\\n'\n",
    "    xml_string += '            <comFunctionId>\\n'\n",
    "    xml_string += f'                <mRID>{semicolon_split[2]}</mRID>\\n'\n",
    "    xml_string += '                <type>CommModule</type>\\n'\n",
    "    xml_string += '            </comFunctionId>\\n'\n",
    "    xml_string += '        </deviceFunctionAssociation>\\n'\n",
    "    xml_string += '    </payload>\\n'\n",
    "    xml_string += '</SDPSyncMessage>\\n'\n",
    "\n",
    "    root = ET.ElementTree(ET.fromstring(xml_string))\n",
    "\n",
    "    k += 1 \n",
    "\n",
    "    if k > 995:\n",
    "        k = 100\n",
    "        num_folder += 1\n",
    "        final_new_folder_name = f\"{new_folder_name}_{num_folder}\"\n",
    "        new_folder_path = os.path.join(base_path, final_new_folder_name)\n",
    "        os.makedirs(new_folder_path, exist_ok=True)\n",
    "    else:\n",
    "        file_name = f\"Sync_Electric_SIMLink_{semicolon_split_for_file_name[0]}_{semicolon_split_for_file_name[-1]}_{CURRENT_TIME_HYPHEN}-{k}.xml\"\n",
    "        file_path = os.path.join(new_folder_path, file_name)\n",
    "        with open(file_path, 'w') as file:\n",
    "            file.write(xml_string)\n",
    "\n",
    "        print(f\"XML file generated: {file_path}\")\n"
   ]
  },
  {
   "cell_type": "code",
   "execution_count": null,
   "metadata": {},
   "outputs": [],
   "source": []
  },
  {
   "cell_type": "code",
   "execution_count": 184,
   "metadata": {},
   "outputs": [
    {
     "name": "stdout",
     "output_type": "stream",
     "text": [
      "Zip file created at: C:\\Users\\Ratan Kumar Jha\\Desktop\\METER_IMPORTATION_FOLDER\\XML_OUTPUT_FILE.zip\n"
     ]
    }
   ],
   "source": [
    "import shutil\n",
    "\n",
    "def zip_file_creation(folder_path,output_zip_path):\n",
    "    \n",
    "    # Create a zip file from the folder\n",
    "    shutil.make_archive(output_zip_path, 'zip', folder_path)\n",
    "    print(f\"Zip file created at: {output_zip_path}\")\n",
    "\n",
    "\n",
    "# Specify the folder path\n",
    "folder_path = r'C:\\Users\\Ratan Kumar Jha\\Desktop\\METER_IMPORTATION_FOLDER\\XML_OUTPUT_FILE'\n",
    "\n",
    "# Specify the output zip file path\n",
    "output_zip_path = r'C:\\Users\\Ratan Kumar Jha\\Desktop\\METER_IMPORTATION_FOLDER\\XML_OUTPUT_FILE.zip'\n",
    "\n",
    "zip_file_creation(folder_path,output_zip_path)"
   ]
  },
  {
   "cell_type": "code",
   "execution_count": 185,
   "metadata": {},
   "outputs": [
    {
     "name": "stdout",
     "output_type": "stream",
     "text": [
      "Zip file created at: C:\\Users\\Ratan Kumar Jha\\Desktop\\METER_IMPORTATION_FOLDER\\SINGLE_ROW_DATA_OUTPUT.zip\n"
     ]
    }
   ],
   "source": [
    "# Specify the folder path\n",
    "folder_path = r'C:\\Users\\Ratan Kumar Jha\\Desktop\\METER_IMPORTATION_FOLDER\\SINGLE_ROW_DATA_OUTPUT'\n",
    "\n",
    "# Specify the output zip file path\n",
    "output_zip_path = r'C:\\Users\\Ratan Kumar Jha\\Desktop\\METER_IMPORTATION_FOLDER\\SINGLE_ROW_DATA_OUTPUT.zip'\n",
    "\n",
    "zip_file_creation(folder_path,output_zip_path)"
   ]
  },
  {
   "cell_type": "code",
   "execution_count": 186,
   "metadata": {},
   "outputs": [
    {
     "name": "stdout",
     "output_type": "stream",
     "text": [
      "Zip file created at: C:\\Users\\Ratan Kumar Jha\\Desktop\\METER_IMPORTATION_FOLDER\\OUTPUT_DATA_FILE.zip\n"
     ]
    }
   ],
   "source": [
    "# Specify the folder path\n",
    "folder_path = r'C:\\Users\\Ratan Kumar Jha\\Desktop\\METER_IMPORTATION_FOLDER\\OUTPUT_DATA_FILE'\n",
    "\n",
    "# Specify the output zip file path\n",
    "output_zip_path = r'C:\\Users\\Ratan Kumar Jha\\Desktop\\METER_IMPORTATION_FOLDER\\OUTPUT_DATA_FILE.zip'\n",
    "\n",
    "zip_file_creation(folder_path,output_zip_path)"
   ]
  },
  {
   "cell_type": "code",
   "execution_count": null,
   "metadata": {},
   "outputs": [],
   "source": []
  },
  {
   "cell_type": "code",
   "execution_count": null,
   "metadata": {},
   "outputs": [],
   "source": []
  },
  {
   "cell_type": "markdown",
   "metadata": {},
   "source": [
    "# CODE END"
   ]
  },
  {
   "cell_type": "code",
   "execution_count": 187,
   "metadata": {},
   "outputs": [
    {
     "ename": "SyntaxError",
     "evalue": "invalid syntax (832691484.py, line 1)",
     "output_type": "error",
     "traceback": [
      "\u001b[1;36m  Cell \u001b[1;32mIn[187], line 1\u001b[1;36m\u001b[0m\n\u001b[1;33m    af d af d\u001b[0m\n\u001b[1;37m       ^\u001b[0m\n\u001b[1;31mSyntaxError\u001b[0m\u001b[1;31m:\u001b[0m invalid syntax\n"
     ]
    }
   ],
   "source": [
    " af d af d"
   ]
  },
  {
   "cell_type": "code",
   "execution_count": null,
   "metadata": {},
   "outputs": [],
   "source": []
  },
  {
   "cell_type": "code",
   "execution_count": null,
   "metadata": {},
   "outputs": [],
   "source": [
    "CODE END "
   ]
  },
  {
   "cell_type": "code",
   "execution_count": null,
   "metadata": {},
   "outputs": [],
   "source": []
  },
  {
   "cell_type": "code",
   "execution_count": null,
   "metadata": {},
   "outputs": [],
   "source": [
    "\n",
    "\"\"\"\n",
    "import xml.etree.ElementTree as ET\n",
    "from datetime import datetime\n",
    "import os\n",
    "\n",
    "def get_current_date():\n",
    "    return datetime.now().strftime(\"%Y-%m-%d\")\n",
    "\n",
    "\n",
    "CURRENT_TIME = datetime.now().strftime('%Y%m%d_%H%M%S')\n",
    "\n",
    "num_folder = 0\n",
    "k = 100\n",
    "base_path = r'C:\\Users\\Ratan Kumar Jha\\Desktop\\METER_IMPORTATION_FOLDER\\XML_OUTPUT_FILE\\METER,SIM AND METER-SIM LINK\\METER-SIM_LINK_FILE'\n",
    "new_folder_name = 'METER_SIM_LINK_XML_OUTPUT_S_&_MS_LINK'\n",
    "\n",
    "\n",
    "new_folder_path = os.path.join(base_path, new_folder_name)\n",
    "os.makedirs(new_folder_path)\n",
    "\n",
    "#SIM LINK FILE FOR SIM_METER_AND_METER_SIM_LINK_FILE\n",
    "\n",
    "for index,rows in EESL_GENUS_PO0000000403_00000_SIM_Meter_Link_M_S_AND_MS_LINK.iterrows():\n",
    "    semicolon_split_for_file_name = rows[0].split(';')\n",
    "    #print(semicolon_split_for_file_name)\n",
    "    semicolon_split = rows[0].split(';')\n",
    "    #print(semicolon_split)\n",
    "            \n",
    "    CURRENT_TIME_STAMP = datetime.now().strftime('%Y-%m-%dT%H:%M:%S')\n",
    "\n",
    "    \n",
    "    csv_data = [\n",
    "        {\"verb\": \"SDPSync\", \"noun\": \"SDPSync\", \"revision\": \"1\", \"dateTime\": CURRENT_TIME_STAMP, \"source\": \"CIS\", \"messageID\": \"MESSAGE-10001\", \"asyncReplyTo\": \"none\", \"syncMode\": \"sync\", \"optimizationLevel\": \"Optimistic\"},\n",
    "        {\"relType\": \"COMMUNICATION-METER\", \"startDate\": get_current_date},\n",
    "        {\"mRID\": semicolon_split[0], \"description\": semicolon_split[-1],\"type\":\"Meter\"},\n",
    "        {\"mRID\": semicolon_split[2], \"type\": \"CommModule\"}\n",
    "        ]\n",
    "    \n",
    "    xml_string = '<SDPSyncMessage xmlns=\"http://www.emeter.com/energyip/syncinterface/v8\" xmlns:xsi=\"http://www.w3.org/2001/XMLSchema-instance\">'\n",
    "\n",
    "                # Loop through the data and append to the XML string\n",
    "    for row in csv_data:\n",
    "            \n",
    "        if row.get(\"verb\"):\n",
    "            xml_string += '    <header>\\n'\n",
    "\n",
    "        elif row.get(\"relType\"):\n",
    "            xml_string += '    <payload>\\n        <deviceFunctionAssociation>\\n'\n",
    "        elif row.get(\"mRID\"):\n",
    "            xml_string += '                       <device>\\n'\n",
    "            xml_string += '                       <comFunctionId>\\n'\n",
    "        \n",
    "        #elif row.get(\"mRID\"):\n",
    "            #xml_string += '                       <comFunctionId>\\n'\n",
    "        \n",
    "        else:\n",
    "            xml_string += '    <payload>\\n        <device>\\n'\n",
    "\n",
    "        for key, value in row.items():\n",
    "            #print(f\"{key} : {value}\")\n",
    "            #print(value)\n",
    "            if key != \"verb\" and key != \"mRID\" :\n",
    "                if key != \"value\" and key != \"startDate\":\n",
    "                    xml_string += f'            <{key}>{value}</{key}>\\n'\n",
    "                else:\n",
    "                    xml_string += f'                <{key}>{value}</{key}>\\n'\n",
    "            elif key == \"value\" and key == \"\":\n",
    "                xml_string += f'                <{key}>{value}</{key}>\\n'\n",
    "            elif key == \"verb\":\n",
    "                xml_string += f'            <{key}>{value}</{key}>\\n'\n",
    "            elif key == \"relType\":\n",
    "                xml_string += f'            <{key}>{value}</{key}>\\n'\n",
    "            \n",
    "            elif key == \"mRID\":\n",
    "                xml_string += f'            <{key}>{value}</{key}>\\n'\n",
    "            \n",
    "\n",
    "        if row.get(\"verb\"):\n",
    "            xml_string += '    </header>\\n'\n",
    "            #print(xml_string)\n",
    "        #elif row.get(\"mRID\"):\n",
    "            #xml_string += '            </parameter>\\n'\n",
    "            #else:\n",
    "                #xml_string += '        </device>\\n    </payload>\\n'\\\n",
    "            \n",
    "    xml_string += '         </deviceFunctionAssociation>\\n     </payload>\\n</SDPSyncMessage>'\n",
    "    #print(xml_string)\n",
    "            #root = ET.fromstring(xml_string)\n",
    "    root = ET.ElementTree(ET.fromstring(xml_string))\n",
    "\n",
    "    k=k+1 \n",
    "\n",
    "    if k > 995:\n",
    "            k = 100\n",
    "            final_new_folder_name = new_folder_name\n",
    "            num_folder = num_folder + 1\n",
    "            final_new_folder_name = new_folder_name + \"_\" + str(num_folder)\n",
    "            new_folder_path = os.path.join(base_path, final_new_folder_name)\n",
    "            os.makedirs(new_folder_path)\n",
    "    else:\n",
    "        file_name = \"Sync_Electric_SIMLink_\" + semicolon_split_for_file_name[0] + \"_\"  + semicolon_split_for_file_name[-1] + \"_\" + str(CURRENT_TIME)  + \"-\" + str(k) + \".xml\"\n",
    "        print(file_name)\n",
    "        #print(f\"file name is {file_name}\")\n",
    "        file_path = os.path.join(new_folder_path, file_name)\n",
    "        print(file_path)\n",
    "\n",
    "        #single_row_df.to_csv(r\"C:\\Users\\Ratan Kumar Jha\\Desktop\\satyam_data\\single_file_data\\file_name\", index=False, header=False) \n",
    "        with open(file_path, 'w') as file:\n",
    "            file.write(xml_string)\n",
    "        \n",
    "\"\"\""
   ]
  },
  {
   "cell_type": "code",
   "execution_count": null,
   "metadata": {},
   "outputs": [],
   "source": []
  },
  {
   "cell_type": "markdown",
   "metadata": {},
   "source": [
    "# ZIP FILE"
   ]
  },
  {
   "cell_type": "code",
   "execution_count": null,
   "metadata": {},
   "outputs": [],
   "source": [
    "import shutil\n",
    "\n",
    "# Specify the folder path\n",
    "folder_path = r'C:\\Users\\Ratan Kumar Jha\\Desktop\\METER_IMPORTATION_FOLDER'\n",
    "\n",
    "# Specify the output zip file path\n",
    "output_zip_path = r'C:\\Users\\Ratan Kumar Jha\\Desktop\\METER_IMPORTATION_FOLDER\\METER_IMPORTATION_ZIMP_FILE.zip'\n",
    "\n",
    "# Create a zip file from the folder\n",
    "shutil.make_archive(output_zip_path, 'zip', folder_path)\n",
    "\n",
    "print(f\"Zip file created at: {output_zip_path}\")\n"
   ]
  },
  {
   "cell_type": "code",
   "execution_count": null,
   "metadata": {},
   "outputs": [],
   "source": []
  },
  {
   "cell_type": "code",
   "execution_count": null,
   "metadata": {},
   "outputs": [],
   "source": []
  },
  {
   "cell_type": "code",
   "execution_count": null,
   "metadata": {},
   "outputs": [],
   "source": []
  },
  {
   "cell_type": "code",
   "execution_count": null,
   "metadata": {},
   "outputs": [],
   "source": [
    "ERROR ROTRJD"
   ]
  },
  {
   "cell_type": "code",
   "execution_count": null,
   "metadata": {},
   "outputs": [
    {
     "ename": "",
     "evalue": "",
     "output_type": "error",
     "traceback": [
      "\u001b[1;31mThe kernel failed to start due to the missing module 'dotenv'. Consider installing this module.\n",
      "\u001b[1;31mClick <a href='https://aka.ms/kernelFailuresMissingModule'>here</a> for more info.\n",
      "\u001b[1;31mSome of the following files found in the working directory may have prevented the Kernel from starting. Consider renaming them.\n",
      "\u001b[1;31mFile(s): <a href='file:///c%3A/PYTHON/EDF_CODE_AUTOMATION_PYTHON/METER_MATCHING_DATA/code.py?line=1'>~\\code.py</a> might need to be renamed.\n",
      "\u001b[1;31mClick <a href='https://aka.ms/JupyterKernelStartFailureOverrideReservedName'>here</a> for more info."
     ]
    }
   ],
   "source": [
    "import xml.etree.ElementTree as ET\n",
    "from datetime import datetime\n",
    "def get_current_date():\n",
    "    return datetime.now().strftime(\"%Y-%m-%d\")\n",
    "for index,rows in EESL_GENUS_PO0000000403_00000_EP2PMeter_SBPDCL_Meter_Link_M_S_AND_MS_LINK.iterrows():\n",
    "    semicolon_split = rows[0].split(';')\n",
    "    CURRENT_TIME_STAMP = datetime.now().strftime('%Y-%m-%dT%H:%M:%S')\n",
    "    if semicolon_split[3] == '6_D1':\n",
    "        csv_data = [\n",
    "            {\"verb\": \"SDPSync\", \"noun\": \"SDPSync\", \"revision\": \"1\", \"dateTime\": CURRENT_TIME_STAMP, \"source\": \"CIS\", \"messageID\": \"MESSAGE-10001\", \"asyncReplyTo\": \"none\", \"syncMode\": \"sync\", \"optimizationLevel\": \"Optimistic\"},\n",
    "            {\"mRID\": semicolon_split[0], \"className\": \"EP2PMeter\", \"type\": \"Meter\", \"virtualInd\": \"N\", \"description\": \"Meter Description\", \"model\": semicolon_split[4], \"manufacturedDate\": semicolon_split[6], \"mfgSerialNumber\": semicolon_split[1], \"testDate\": semicolon_split[6], \"status\": \"Meter Shop\", \"commTechnology\": \"3G\", \"badgeId\": semicolon_split[0], \"sandardId\": semicolon_split[0], \"electronicId\": semicolon_split[0], \"make\": semicolon_split[5], \"deviceFunctionType\": \"N\", \"utility_id\": semicolon_split[-1]},\n",
    "            {\"name\": \"Phase Type\", \"value\": \"1\", \"startDate\": get_current_date()},\n",
    "            {\"name\": \"Device Protocol\", \"value\": \"DLMS\", \"startDate\": get_current_date()},\n",
    "            {\"name\": \"Firmware Version\", \"value\": semicolon_split[11], \"startDate\": get_current_date()},\n",
    "            {\"name\": \"DLMS Port\", \"value\": \"4059\", \"startDate\": get_current_date()}\n",
    "        ]\n",
    "    else:\n",
    "        csv_data = [\n",
    "            {\"verb\": \"SDPSync\", \"noun\": \"SDPSync\", \"revision\": \"1\", \"dateTime\": CURRENT_TIME_STAMP, \"source\": \"CIS\", \"messageID\": \"MESSAGE-10001\", \"asyncReplyTo\": \"none\", \"syncMode\": \"sync\", \"optimizationLevel\": \"Optimistic\"},\n",
    "            {\"mRID\": semicolon_split[0], \"className\": \"EP2PMeter\", \"type\": \"Meter\", \"virtualInd\": \"N\", \"description\": \"Meter Description\", \"model\": semicolon_split[4], \"manufacturedDate\": semicolon_split[6], \"mfgSerialNumber\": semicolon_split[1], \"testDate\": semicolon_split[6], \"status\": \"Meter Shop\", \"commTechnology\": \"3G\", \"badgeId\": semicolon_split[0], \"sandardId\": semicolon_split[0], \"electronicId\": semicolon_split[0], \"make\": semicolon_split[5], \"deviceFunctionType\": \"N\", \"utility_id\": semicolon_split[-1]},\n",
    "            {\"name\": \"Phase Type\", \"value\": \"3\", \"startDate\": get_current_date()},\n",
    "            {\"name\": \"Device Protocol\", \"value\": \"DLMS\", \"startDate\": get_current_date()},\n",
    "            {\"name\": \"Firmware Version\", \"value\": semicolon_split[11], \"startDate\": get_current_date()},\n",
    "            {\"name\": \"DLMS Port\", \"value\": \"4059\", \"startDate\": get_current_date()}\n",
    "        ]\n",
    "\n",
    "    # Start building the XML string\n",
    "    xml_string = '<SDPSyncMessage xmlns=\"http://www.emeter.com/energyip/syncinterface/v8\" xmlns:xsi=\"http://www.w3.org/2001/XMLSchema-instance\">\\n'\n",
    "\n",
    "    # Loop through the data and append to the XML string\n",
    "    for row in csv_data:\n",
    "        \n",
    "        if row.get(\"verb\"):\n",
    "            xml_string += '    <header>\\n'\n",
    "        elif row.get(\"mRID\"):\n",
    "            xml_string += '    <payload>\\n        <device>\\n'\n",
    "        elif row.get(\"name\"):\n",
    "            xml_string += '            <parameter>\\n'\n",
    "        else:\n",
    "            xml_string += '    <payload>\\n        <device>\\n'\n",
    "        \n",
    "        for key, value in row.items():\n",
    "            if key != \"verb\" and key != \"mRID\" and key != \"name\":\n",
    "                if key != \"value\" and key != \"startDate\":\n",
    "                    xml_string += f'            <{key}>{value}</{key}>\\n'\n",
    "                else:\n",
    "                    xml_string += f'                <{key}>{value}</{key}>\\n'\n",
    "            elif key == \"value\" and key == \"\":\n",
    "                xml_string += f'                <{key}>{value}</{key}>\\n'\n",
    "            elif key == \"verb\":\n",
    "                xml_string += f'            <{key}>{value}</{key}>\\n'\n",
    "            elif key == \"mRID\":\n",
    "                xml_string += f'            <{key}>{value}</{key}>\\n'\n",
    "            elif key == \"name\":\n",
    "                xml_string += f'                <{key}>{value}</{key}>\\n'\n",
    "\n",
    "\n",
    "\n",
    "        if row.get(\"verb\"):\n",
    "            xml_string += '    </header>\\n'\n",
    "        elif row.get(\"name\"):\n",
    "            xml_string += '            </parameter>\\n'\n",
    "        #else:\n",
    "            #xml_string += '        </device>\\n    </payload>\\n'\n",
    "\n",
    "    # Close the root element\n",
    "    xml_string += '         </device>\\n     </payload>\\n</SDPSyncMessage>'\n",
    "\n",
    "    # Print the XML string for verification\n",
    "    print(xml_string)\n",
    "    # Save the XML string to a file\n",
    "    with open('output.xml', 'w') as file:\n",
    "        file.write(xml_string)\n",
    "\n",
    "    # Print a message indicating successful save\n",
    "    print(\"XML string saved to 'output.xml'\")\n",
    "\n",
    "\n",
    "    # Parse the XML string\n",
    "    root = ET.fromstring(xml_string)\n",
    "    break\n",
    "    \n",
    "    \n",
    "        "
   ]
  },
  {
   "cell_type": "code",
   "execution_count": null,
   "metadata": {},
   "outputs": [
    {
     "ename": "",
     "evalue": "",
     "output_type": "error",
     "traceback": [
      "\u001b[1;31mThe kernel failed to start due to the missing module 'dotenv'. Consider installing this module.\n",
      "\u001b[1;31mClick <a href='https://aka.ms/kernelFailuresMissingModule'>here</a> for more info.\n",
      "\u001b[1;31mSome of the following files found in the working directory may have prevented the Kernel from starting. Consider renaming them.\n",
      "\u001b[1;31mFile(s): <a href='file:///c%3A/PYTHON/EDF_CODE_AUTOMATION_PYTHON/METER_MATCHING_DATA/code.py?line=1'>~\\code.py</a> might need to be renamed.\n",
      "\u001b[1;31mClick <a href='https://aka.ms/JupyterKernelStartFailureOverrideReservedName'>here</a> for more info."
     ]
    }
   ],
   "source": []
  },
  {
   "cell_type": "code",
   "execution_count": null,
   "metadata": {},
   "outputs": [
    {
     "data": {
      "text/html": [
       "<div>\n",
       "<style scoped>\n",
       "    .dataframe tbody tr th:only-of-type {\n",
       "        vertical-align: middle;\n",
       "    }\n",
       "\n",
       "    .dataframe tbody tr th {\n",
       "        vertical-align: top;\n",
       "    }\n",
       "\n",
       "    .dataframe thead th {\n",
       "        text-align: right;\n",
       "    }\n",
       "</style>\n",
       "<table border=\"1\" class=\"dataframe\">\n",
       "  <thead>\n",
       "    <tr style=\"text-align: right;\">\n",
       "      <th></th>\n",
       "      <th>data</th>\n",
       "    </tr>\n",
       "  </thead>\n",
       "  <tbody>\n",
       "    <tr>\n",
       "      <th>0</th>\n",
       "      <td>LNTLT0178071;LT0178071;EP2PMeter;6_D1;AURORA;L...</td>\n",
       "    </tr>\n",
       "    <tr>\n",
       "      <th>1</th>\n",
       "      <td>LNTLT0400754;LT0400754;EP2PMeter;6_D1;AURORA;L...</td>\n",
       "    </tr>\n",
       "    <tr>\n",
       "      <th>2</th>\n",
       "      <td>LNTLT0150608;LT0150608;EP2PMeter;6_D1;AURORA;L...</td>\n",
       "    </tr>\n",
       "    <tr>\n",
       "      <th>3</th>\n",
       "      <td>LNTLT0125960;LT0125960;EP2PMeter;6_D1;AURORA;L...</td>\n",
       "    </tr>\n",
       "  </tbody>\n",
       "</table>\n",
       "</div>"
      ],
      "text/plain": [
       "                                                data\n",
       "0  LNTLT0178071;LT0178071;EP2PMeter;6_D1;AURORA;L...\n",
       "1  LNTLT0400754;LT0400754;EP2PMeter;6_D1;AURORA;L...\n",
       "2  LNTLT0150608;LT0150608;EP2PMeter;6_D1;AURORA;L...\n",
       "3  LNTLT0125960;LT0125960;EP2PMeter;6_D1;AURORA;L..."
      ]
     },
     "execution_count": 17,
     "metadata": {},
     "output_type": "execute_result"
    }
   ],
   "source": [
    "# XML CODE WITH OUTPUT SAVE IN DIFF FILE\n",
    "import pandas as pd\n",
    "EESL_GENUS_PO0000000403_00000_EP2PMeter_SBPDCL_Meter_Link_M_S_AND_MS_LINK = pd.read_csv(r\"C:\\Users\\Ratan Kumar Jha\\Desktop\\New folder\\Importation File\\1PH\\EESL_GENUS_PO0000000609_00000_EP2PMeter_20240405_075800_NBPDCL.csv\")\n",
    "EESL_GENUS_PO0000000403_00000_EP2PMeter_SBPDCL_Meter_Link_M_S_AND_MS_LINK.head()"
   ]
  },
  {
   "cell_type": "code",
   "execution_count": null,
   "metadata": {},
   "outputs": [
    {
     "name": "stdout",
     "output_type": "stream",
     "text": [
      "data    LNTLT0178071;LT0178071;EP2PMeter;6_D1;AURORA;L...\n",
      "Name: 0, dtype: object\n",
      "Sync_Electric_Meter_LNTLT0178071_NBPDCL_20240405_122504-101.xml\n",
      "C:\\Users\\Ratan Kumar Jha\\Desktop\\METER_IMPORTATION_FOLDER\\XML_OUTPUT_FILE\\METER,SIM AND METER-SIM LINK\\METER_FILE\\METER_XML_OUTPUT_M_S_&_MS_LINK\\Sync_Electric_Meter_LNTLT0178071_NBPDCL_20240405_122504-101.xml\n",
      "data    LNTLT0400754;LT0400754;EP2PMeter;6_D1;AURORA;L...\n",
      "Name: 1, dtype: object\n",
      "Sync_Electric_Meter_LNTLT0400754_NBPDCL_20240405_122504-102.xml\n",
      "C:\\Users\\Ratan Kumar Jha\\Desktop\\METER_IMPORTATION_FOLDER\\XML_OUTPUT_FILE\\METER,SIM AND METER-SIM LINK\\METER_FILE\\METER_XML_OUTPUT_M_S_&_MS_LINK\\Sync_Electric_Meter_LNTLT0400754_NBPDCL_20240405_122504-102.xml\n",
      "data    LNTLT0150608;LT0150608;EP2PMeter;6_D1;AURORA;L...\n",
      "Name: 2, dtype: object\n",
      "Sync_Electric_Meter_LNTLT0150608_NBPDCL_20240405_122504-103.xml\n",
      "C:\\Users\\Ratan Kumar Jha\\Desktop\\METER_IMPORTATION_FOLDER\\XML_OUTPUT_FILE\\METER,SIM AND METER-SIM LINK\\METER_FILE\\METER_XML_OUTPUT_M_S_&_MS_LINK\\Sync_Electric_Meter_LNTLT0150608_NBPDCL_20240405_122504-103.xml\n",
      "data    LNTLT0125960;LT0125960;EP2PMeter;6_D1;AURORA;L...\n",
      "Name: 3, dtype: object\n",
      "Sync_Electric_Meter_LNTLT0125960_NBPDCL_20240405_122504-104.xml\n",
      "C:\\Users\\Ratan Kumar Jha\\Desktop\\METER_IMPORTATION_FOLDER\\XML_OUTPUT_FILE\\METER,SIM AND METER-SIM LINK\\METER_FILE\\METER_XML_OUTPUT_M_S_&_MS_LINK\\Sync_Electric_Meter_LNTLT0125960_NBPDCL_20240405_122504-104.xml\n"
     ]
    },
    {
     "name": "stderr",
     "output_type": "stream",
     "text": [
      "C:\\Users\\Ratan Kumar Jha\\AppData\\Local\\Temp\\ipykernel_1436\\2261353155.py:24: FutureWarning: Series.__getitem__ treating keys as positions is deprecated. In a future version, integer keys will always be treated as labels (consistent with DataFrame behavior). To access a value by position, use `ser.iloc[pos]`\n",
      "  semicolon_split_for_file_name = rows[0].split(';')\n",
      "C:\\Users\\Ratan Kumar Jha\\AppData\\Local\\Temp\\ipykernel_1436\\2261353155.py:25: FutureWarning: Series.__getitem__ treating keys as positions is deprecated. In a future version, integer keys will always be treated as labels (consistent with DataFrame behavior). To access a value by position, use `ser.iloc[pos]`\n",
      "  semicolon_split = rows[0].split(';')\n"
     ]
    }
   ],
   "source": [
    "import xml.etree.ElementTree as ET\n",
    "from datetime import datetime\n",
    "import os\n",
    "\n",
    "def get_current_date():\n",
    "    return datetime.now().strftime(\"%Y-%m-%d\")\n",
    "\n",
    "\n",
    "CURRENT_TIME = datetime.now().strftime('%Y%m%d_%H%M%S')\n",
    "\n",
    "num_folder = 0\n",
    "k = 100\n",
    "base_path = r'C:\\Users\\Ratan Kumar Jha\\Desktop\\METER_IMPORTATION_FOLDER\\XML_OUTPUT_FILE\\METER,SIM AND METER-SIM LINK\\METER_FILE'\n",
    "new_folder_name = 'METER_XML_OUTPUT_M_S_&_MS_LINK'\n",
    "\n",
    "\n",
    "new_folder_path = os.path.join(base_path, new_folder_name)\n",
    "shutil.rmtree(new_folder_path)\n",
    "os.makedirs(new_folder_path)\n",
    "\n",
    "\n",
    "for index,rows in EESL_GENUS_PO0000000403_00000_EP2PMeter_SBPDCL_Meter_Link_M_S_AND_MS_LINK.iterrows():\n",
    "    print(rows)\n",
    "    semicolon_split_for_file_name = rows[0].split(';')\n",
    "    semicolon_split = rows[0].split(';')\n",
    "            \n",
    "    CURRENT_TIME_STAMP = datetime.now().strftime('%Y-%m-%dT%H:%M:%S')\n",
    "\n",
    "    if semicolon_split[3] == '6_D1':\n",
    "        csv_data = [\n",
    "            {\"verb\": \"SDPSync\", \"noun\": \"SDPSync\", \"revision\": \"1\", \"dateTime\": CURRENT_TIME_STAMP, \"source\": \"CIS\", \"messageID\": \"MESSAGE-10001\", \"asyncReplyTo\": \"none\", \"syncMode\": \"sync\", \"optimizationLevel\": \"Optimistic\"},\n",
    "            {\"mRID\": semicolon_split[0], \"className\": \"EP2PMeter\", \"type\": \"Meter\", \"virtualInd\": \"N\", \"description\": \"Meter Description\", \"model\": semicolon_split[4], \"manufacturedDate\": semicolon_split[6], \"mfgSerialNumber\": semicolon_split[1], \"testDate\": semicolon_split[6], \"status\": \"Meter Shop\", \"commTechnology\": \"3G\", \"badgeId\": semicolon_split[0], \"sandardId\": semicolon_split[0], \"electronicId\": semicolon_split[0], \"make\": semicolon_split[5], \"deviceFunctionType\": \"N\", \"utility_id\": semicolon_split[-1]},\n",
    "            {\"name\": \"Phase Type\", \"value\": \"1\", \"startDate\": get_current_date()},\n",
    "            {\"name\": \"Device Protocol\", \"value\": \"DLMS\", \"startDate\": get_current_date()},\n",
    "            {\"name\": \"Firmware Version\", \"value\": semicolon_split[11], \"startDate\": get_current_date()},\n",
    "            {\"name\": \"DLMS Port\", \"value\": \"4059\", \"startDate\": get_current_date()}\n",
    "            ]\n",
    "    else:\n",
    "        csv_data = [\n",
    "            {\"verb\": \"SDPSync\", \"noun\": \"SDPSync\", \"revision\": \"1\", \"dateTime\": CURRENT_TIME_STAMP, \"source\": \"CIS\", \"messageID\": \"MESSAGE-10001\", \"asyncReplyTo\": \"none\", \"syncMode\": \"sync\", \"optimizationLevel\": \"Optimistic\"},\n",
    "            {\"mRID\": semicolon_split[0], \"className\": \"EP2PMeter\", \"type\": \"Meter\", \"virtualInd\": \"N\", \"description\": \"Meter Description\", \"model\": semicolon_split[4], \"manufacturedDate\": semicolon_split[6], \"mfgSerialNumber\": semicolon_split[1], \"testDate\": semicolon_split[6], \"status\": \"Meter Shop\", \"commTechnology\": \"3G\", \"badgeId\": semicolon_split[0], \"sandardId\": semicolon_split[0], \"electronicId\": semicolon_split[0], \"make\": semicolon_split[5], \"deviceFunctionType\": \"N\", \"utility_id\": semicolon_split[-1]},\n",
    "            {\"name\": \"Phase Type\", \"value\": \"3\", \"startDate\": get_current_date()},\n",
    "            {\"name\": \"Device Protocol\", \"value\": \"DLMS\", \"startDate\": get_current_date()},\n",
    "            {\"name\": \"Firmware Version\", \"value\": semicolon_split[11], \"startDate\": get_current_date()},\n",
    "            {\"name\": \"DLMS Port\", \"value\": \"4059\", \"startDate\": get_current_date()}\n",
    "            ]\n",
    "    xml_string = '<SDPSyncMessage xmlns=\"http://www.emeter.com/energyip/syncinterface/v8\" xmlns:xsi=\"http://www.w3.org/2001/XMLSchema-instance\">\\n'\n",
    "\n",
    "                # Loop through the data and append to the XML string\n",
    "    for row in csv_data:\n",
    "            \n",
    "        if row.get(\"verb\"):\n",
    "            xml_string += '    <header>\\n'\n",
    "        elif row.get(\"mRID\"):\n",
    "            xml_string += '    <payload>\\n        <device>\\n'\n",
    "        elif row.get(\"name\"):\n",
    "            xml_string += '            <parameter>\\n'\n",
    "        else:\n",
    "            xml_string += '    <payload>\\n        <device>\\n'\n",
    "\n",
    "        for key, value in row.items():\n",
    "            if key != \"verb\" and key != \"mRID\" and key != \"name\":\n",
    "                if key != \"value\" and key != \"startDate\":\n",
    "                    xml_string += f'            <{key}>{value}</{key}>\\n'\n",
    "                else:\n",
    "                    xml_string += f'                <{key}>{value}</{key}>\\n'\n",
    "            elif key == \"value\" and key == \"\":\n",
    "                xml_string += f'                <{key}>{value}</{key}>\\n'\n",
    "            elif key == \"verb\":\n",
    "                xml_string += f'            <{key}>{value}</{key}>\\n'\n",
    "            elif key == \"mRID\":\n",
    "                xml_string += f'            <{key}>{value}</{key}>\\n'\n",
    "            elif key == \"name\":\n",
    "                xml_string += f'                <{key}>{value}</{key}>\\n'\n",
    "\n",
    "        if row.get(\"verb\"):\n",
    "            xml_string += '    </header>\\n'\n",
    "        elif row.get(\"name\"):\n",
    "            xml_string += '            </parameter>\\n'\n",
    "            #else:\n",
    "                #xml_string += '        </device>\\n    </payload>\\n'\\\n",
    "            \n",
    "    xml_string += '         </device>\\n     </payload>\\n</SDPSyncMessage>'\n",
    "            #root = ET.fromstring(xml_string)\n",
    "    root = ET.ElementTree(ET.fromstring(xml_string))\n",
    "\n",
    "    k=k+1 \n",
    "\n",
    "    if k > 995:\n",
    "            k = 100\n",
    "            final_new_folder_name = new_folder_name\n",
    "            num_folder = num_folder + 1\n",
    "            final_new_folder_name = new_folder_name + \"_\" + str(num_folder)\n",
    "            new_folder_path = os.path.join(base_path, final_new_folder_name)\n",
    "            os.makedirs(new_folder_path)\n",
    "    else:\n",
    "        file_name = \"Sync_Electric_Meter_\" + semicolon_split_for_file_name[0] + \"_\"  + semicolon_split_for_file_name[-1] + \"_\" + str(CURRENT_TIME)  + \"-\" + str(k) + \".xml\"\n",
    "        print(file_name)\n",
    "        #print(f\"file name is {file_name}\")\n",
    "        file_path = os.path.join(new_folder_path, file_name)\n",
    "        print(file_path)\n",
    "\n",
    "        #single_row_df.to_csv(r\"C:\\Users\\Ratan Kumar Jha\\Desktop\\satyam_data\\single_file_data\\file_name\", index=False, header=False) \n",
    "        with open(file_path, 'w') as file:\n",
    "            file.write(xml_string)\n",
    "        \n",
    "    \n",
    "        "
   ]
  },
  {
   "cell_type": "code",
   "execution_count": null,
   "metadata": {},
   "outputs": [
    {
     "data": {
      "text/html": [
       "<div>\n",
       "<style scoped>\n",
       "    .dataframe tbody tr th:only-of-type {\n",
       "        vertical-align: middle;\n",
       "    }\n",
       "\n",
       "    .dataframe tbody tr th {\n",
       "        vertical-align: top;\n",
       "    }\n",
       "\n",
       "    .dataframe thead th {\n",
       "        text-align: right;\n",
       "    }\n",
       "</style>\n",
       "<table border=\"1\" class=\"dataframe\">\n",
       "  <thead>\n",
       "    <tr style=\"text-align: right;\">\n",
       "      <th></th>\n",
       "      <th>meter_data</th>\n",
       "    </tr>\n",
       "  </thead>\n",
       "  <tbody>\n",
       "    <tr>\n",
       "      <th>0</th>\n",
       "      <td>LNTLT8003322;LT8003322;EP2PMeter;7_D2;REGOR;LN...</td>\n",
       "    </tr>\n",
       "  </tbody>\n",
       "</table>\n",
       "</div>"
      ],
      "text/plain": [
       "                                          meter_data\n",
       "0  LNTLT8003322;LT8003322;EP2PMeter;7_D2;REGOR;LN..."
      ]
     },
     "execution_count": 12,
     "metadata": {},
     "output_type": "execute_result"
    }
   ],
   "source": [
    "# XML CODE WITH OUTPUT SAVE IN DIFF FILE\n",
    "import pandas as pd\n",
    "EESL_GENUS_PO0000000403_00000_EP2PMeter_SBPDCL_Meter_Link_M_S_AND_MS_LINK = pd.read_csv(r\"C:\\Users\\Ratan Kumar Jha\\Desktop\\New folder\\Importation File\\3PH\\EESL_GENUS_PO0000000509_00000_EP2PMeter_20240405_075800_NBPDCL.csv\")\n",
    "EESL_GENUS_PO0000000403_00000_EP2PMeter_SBPDCL_Meter_Link_M_S_AND_MS_LINK.head()"
   ]
  },
  {
   "cell_type": "code",
   "execution_count": null,
   "metadata": {},
   "outputs": [
    {
     "name": "stdout",
     "output_type": "stream",
     "text": [
      "                                          meter_data\n",
      "0  LNTLT8003322;LT8003322;EP2PMeter;7_D2;REGOR;LN...\n",
      "meter_data    LNTLT8003322;LT8003322;EP2PMeter;7_D2;REGOR;LN...\n",
      "Name: 0, dtype: object\n"
     ]
    },
    {
     "name": "stderr",
     "output_type": "stream",
     "text": [
      "C:\\Users\\Ratan Kumar Jha\\AppData\\Local\\Temp\\ipykernel_1436\\2119018298.py:26: FutureWarning: Series.__getitem__ treating keys as positions is deprecated. In a future version, integer keys will always be treated as labels (consistent with DataFrame behavior). To access a value by position, use `ser.iloc[pos]`\n",
      "  semicolon_split_for_file_name = rows[0].split(';')\n",
      "C:\\Users\\Ratan Kumar Jha\\AppData\\Local\\Temp\\ipykernel_1436\\2119018298.py:27: FutureWarning: Series.__getitem__ treating keys as positions is deprecated. In a future version, integer keys will always be treated as labels (consistent with DataFrame behavior). To access a value by position, use `ser.iloc[pos]`\n",
      "  semicolon_split = rows[0].split(';')\n"
     ]
    }
   ],
   "source": [
    "import xml.etree.ElementTree as ET\n",
    "from datetime import datetime\n",
    "import shutil\n",
    "import os\n",
    "\n",
    "def get_current_date():\n",
    "    return datetime.now().strftime(\"%Y-%m-%d\")\n",
    "\n",
    "\n",
    "CURRENT_TIME = datetime.now().strftime('%Y%m%d_%H%M%S')\n",
    "\n",
    "num_folder = 0\n",
    "k = 100\n",
    "base_path = r'C:\\Users\\Ratan Kumar Jha\\Desktop\\METER_IMPORTATION_FOLDER\\XML_OUTPUT_FILE\\METER,SIM AND METER-SIM LINK\\METER_FILE'\n",
    "new_folder_name = 'METER_XML_OUTPUT_M_S_&_MS_LINK'\n",
    "\n",
    "\n",
    "new_folder_path = os.path.join(base_path, new_folder_name)\n",
    "shutil.rmtree(new_folder_path)\n",
    "os.makedirs(new_folder_path)\n",
    "\n",
    "print(EESL_GENUS_PO0000000403_00000_EP2PMeter_SBPDCL_Meter_Link_M_S_AND_MS_LINK.head())\n",
    "\n",
    "for index,rows in EESL_GENUS_PO0000000403_00000_EP2PMeter_SBPDCL_Meter_Link_M_S_AND_MS_LINK.iterrows():\n",
    "    print(rows)\n",
    "    semicolon_split_for_file_name = rows[0].split(';')\n",
    "    semicolon_split = rows[0].split(';')\n",
    "            \n",
    "    CURRENT_TIME_STAMP = datetime.now().strftime('%Y-%m-%dT%H:%M:%S')\n"
   ]
  },
  {
   "cell_type": "code",
   "execution_count": null,
   "metadata": {},
   "outputs": [],
   "source": []
  },
  {
   "cell_type": "code",
   "execution_count": null,
   "metadata": {},
   "outputs": [],
   "source": []
  },
  {
   "cell_type": "code",
   "execution_count": null,
   "metadata": {},
   "outputs": [],
   "source": []
  },
  {
   "cell_type": "markdown",
   "metadata": {},
   "source": [
    "# create multiple single file"
   ]
  },
  {
   "cell_type": "code",
   "execution_count": null,
   "metadata": {},
   "outputs": [
    {
     "ename": "",
     "evalue": "",
     "output_type": "error",
     "traceback": [
      "\u001b[1;31mThe kernel failed to start due to the missing module 'dotenv'. Consider installing this module.\n",
      "\u001b[1;31mClick <a href='https://aka.ms/kernelFailuresMissingModule'>here</a> for more info.\n",
      "\u001b[1;31mSome of the following files found in the working directory may have prevented the Kernel from starting. Consider renaming them.\n",
      "\u001b[1;31mFile(s): <a href='file:///c%3A/PYTHON/EDF_CODE_AUTOMATION_PYTHON/METER_MATCHING_DATA/code.py?line=1'>~\\code.py</a> might need to be renamed.\n",
      "\u001b[1;31mClick <a href='https://aka.ms/JupyterKernelStartFailureOverrideReservedName'>here</a> for more info."
     ]
    }
   ],
   "source": [
    "import pandas as pd\n",
    "\n",
    "import os,sys\n",
    "from datetime import datetime\n",
    "\n",
    "k=100\n",
    "# Load your file into a pandas DataFrame\n",
    "data_frame_concat_data = pd.read_csv(r'C:\\Users\\Ratan Kumar Jha\\Desktop\\METER_IMPORTATION_SINGLE_FILE\\EESL_GENUS_PO0000000100_00000_SIM_Meter_Link_20240115_145223_NBPDCL.csv', header=None)  # Replace 'your_input_file.csv' with your actual file name\n",
    "\n",
    "base_path = r'C:\\Users\\Ratan Kumar Jha\\Desktop\\METER_IMPORTATION_SINGLE_FILE\\single data_folder'\n",
    "\n",
    "num_folder = 0\n",
    "new_folder_name = \"EESL_GENUS_SINGLE_METER\"\n",
    "\n",
    "new_folder_path = os.path.join(base_path, new_folder_name)\n",
    "os.makedirs(new_folder_path)\n",
    "\n",
    "def get_current_time_stamp():\n",
    "    return f\"{datetime.now().strftime('%Y%m%d_%H%M%S')}\"\n",
    "\n",
    "CURRENT_TIME_STAMP = get_current_time_stamp()\n",
    "\n",
    "# Iterate through each row and save it as a separate file\n",
    "for index, row in data_frame_concat_data.iterrows():\n",
    "    \n",
    "    # Create a new DataFrame with the current row\n",
    "    single_row_df = pd.DataFrame([row])\n",
    "    #print(f\"single_row_data : {single_row_df}\")\n",
    "    last_part_after_semicolon = row[0].rsplit(';', 1)[-1]\n",
    "    #print(f\"last_word : {last_part_after_semicolon}\")\n",
    "\n",
    "\n",
    "    CURRENT_TIME_STAMP = get_current_time_stamp()\n",
    "    #print(CURRENT_TIME_STAMP)\n",
    "    \n",
    "    print(k)\n",
    "    print(\"-----------------\")\n",
    "    \n",
    "    # Create the full path for the new folder\n",
    "\n",
    "    if k > 995:\n",
    "        k = 100\n",
    "        num_folder = num_folder + 1\n",
    "        new_folder_name = \"EESL_GENUS_SINGLE_METER_\" + str(num_folder)\n",
    "        new_folder_path = os.path.join(base_path, new_folder_name)\n",
    "        os.makedirs(new_folder_path)\n",
    "    else:\n",
    "        file_name = f'EESL_GENUS_PO0000000{k}_00000_SIM_Meter_Link_{CURRENT_TIME_STAMP}_{last_part_after_semicolon}.csv'\n",
    "        #print(f\"file name is {file_name}\")\n",
    "        file_path = os.path.join(new_folder_path, file_name)\n",
    "        #single_row_df.to_csv(r\"C:\\Users\\Ratan Kumar Jha\\Desktop\\satyam_data\\single_file_data\\file_name\", index=False, header=False) \n",
    "        single_row_df.to_csv(file_path, index=False, header=False)\n",
    "        k=k+1\n",
    "\n",
    "    \n",
    "print(\"METER-SIM LINK FILE DONE\")"
   ]
  },
  {
   "cell_type": "code",
   "execution_count": null,
   "metadata": {},
   "outputs": [
    {
     "ename": "",
     "evalue": "",
     "output_type": "error",
     "traceback": [
      "\u001b[1;31mThe kernel failed to start due to the missing module 'dotenv'. Consider installing this module.\n",
      "\u001b[1;31mClick <a href='https://aka.ms/kernelFailuresMissingModule'>here</a> for more info.\n",
      "\u001b[1;31mSome of the following files found in the working directory may have prevented the Kernel from starting. Consider renaming them.\n",
      "\u001b[1;31mFile(s): <a href='file:///c%3A/PYTHON/EDF_CODE_AUTOMATION_PYTHON/METER_MATCHING_DATA/code.py?line=1'>~\\code.py</a> might need to be renamed.\n",
      "\u001b[1;31mClick <a href='https://aka.ms/JupyterKernelStartFailureOverrideReservedName'>here</a> for more info."
     ]
    }
   ],
   "source": []
  },
  {
   "cell_type": "code",
   "execution_count": null,
   "metadata": {},
   "outputs": [
    {
     "ename": "",
     "evalue": "",
     "output_type": "error",
     "traceback": [
      "\u001b[1;31mThe kernel failed to start due to the missing module 'dotenv'. Consider installing this module.\n",
      "\u001b[1;31mClick <a href='https://aka.ms/kernelFailuresMissingModule'>here</a> for more info.\n",
      "\u001b[1;31mSome of the following files found in the working directory may have prevented the Kernel from starting. Consider renaming them.\n",
      "\u001b[1;31mFile(s): <a href='file:///c%3A/PYTHON/EDF_CODE_AUTOMATION_PYTHON/METER_MATCHING_DATA/code.py?line=1'>~\\code.py</a> might need to be renamed.\n",
      "\u001b[1;31mClick <a href='https://aka.ms/JupyterKernelStartFailureOverrideReservedName'>here</a> for more info."
     ]
    }
   ],
   "source": []
  },
  {
   "cell_type": "markdown",
   "metadata": {},
   "source": [
    "# change into zip file\n",
    "###### C:\\Users\\Ratan Kumar Jha\\Desktop\\EESL_GENUS_PO0000000\\data_insert_single_file"
   ]
  },
  {
   "cell_type": "code",
   "execution_count": null,
   "metadata": {},
   "outputs": [
    {
     "ename": "",
     "evalue": "",
     "output_type": "error",
     "traceback": [
      "\u001b[1;31mThe kernel failed to start due to the missing module 'dotenv'. Consider installing this module.\n",
      "\u001b[1;31mClick <a href='https://aka.ms/kernelFailuresMissingModule'>here</a> for more info.\n",
      "\u001b[1;31mSome of the following files found in the working directory may have prevented the Kernel from starting. Consider renaming them.\n",
      "\u001b[1;31mFile(s): <a href='file:///c%3A/PYTHON/EDF_CODE_AUTOMATION_PYTHON/METER_MATCHING_DATA/code.py?line=1'>~\\code.py</a> might need to be renamed.\n",
      "\u001b[1;31mClick <a href='https://aka.ms/JupyterKernelStartFailureOverrideReservedName'>here</a> for more info."
     ]
    }
   ],
   "source": [
    "import shutil\n",
    "\n",
    "# Specify the folder path\n",
    "folder_path = r'C:\\Users\\Ratan Kumar Jha\\Desktop\\METER_IMPORTATION_SINGLE_FILE\\single data_folder'\n",
    "\n",
    "# Specify the output zip file path\n",
    "output_zip_path = r'C:\\Users\\Ratan Kumar Jha\\Desktop\\METER_IMPORTATION_SINGLE_FILE\\zip_file'\n",
    "\n",
    "# Create a zip file from the folder\n",
    "shutil.make_archive(output_zip_path, 'zip', folder_path)\n",
    "\n",
    "print(f\"Zip file created at: {output_zip_path}\")\n"
   ]
  },
  {
   "cell_type": "code",
   "execution_count": null,
   "metadata": {},
   "outputs": [
    {
     "ename": "",
     "evalue": "",
     "output_type": "error",
     "traceback": [
      "\u001b[1;31mThe kernel failed to start due to the missing module 'dotenv'. Consider installing this module.\n",
      "\u001b[1;31mClick <a href='https://aka.ms/kernelFailuresMissingModule'>here</a> for more info.\n",
      "\u001b[1;31mSome of the following files found in the working directory may have prevented the Kernel from starting. Consider renaming them.\n",
      "\u001b[1;31mFile(s): <a href='file:///c%3A/PYTHON/EDF_CODE_AUTOMATION_PYTHON/METER_MATCHING_DATA/code.py?line=1'>~\\code.py</a> might need to be renamed.\n",
      "\u001b[1;31mClick <a href='https://aka.ms/JupyterKernelStartFailureOverrideReservedName'>here</a> for more info."
     ]
    }
   ],
   "source": []
  },
  {
   "cell_type": "code",
   "execution_count": null,
   "metadata": {},
   "outputs": [
    {
     "ename": "",
     "evalue": "",
     "output_type": "error",
     "traceback": [
      "\u001b[1;31mThe kernel failed to start due to the missing module 'dotenv'. Consider installing this module.\n",
      "\u001b[1;31mClick <a href='https://aka.ms/kernelFailuresMissingModule'>here</a> for more info.\n",
      "\u001b[1;31mSome of the following files found in the working directory may have prevented the Kernel from starting. Consider renaming them.\n",
      "\u001b[1;31mFile(s): <a href='file:///c%3A/PYTHON/EDF_CODE_AUTOMATION_PYTHON/METER_MATCHING_DATA/code.py?line=1'>~\\code.py</a> might need to be renamed.\n",
      "\u001b[1;31mClick <a href='https://aka.ms/JupyterKernelStartFailureOverrideReservedName'>here</a> for more info."
     ]
    }
   ],
   "source": []
  },
  {
   "cell_type": "code",
   "execution_count": null,
   "metadata": {},
   "outputs": [
    {
     "ename": "",
     "evalue": "",
     "output_type": "error",
     "traceback": [
      "\u001b[1;31mThe kernel failed to start due to the missing module 'dotenv'. Consider installing this module.\n",
      "\u001b[1;31mClick <a href='https://aka.ms/kernelFailuresMissingModule'>here</a> for more info.\n",
      "\u001b[1;31mSome of the following files found in the working directory may have prevented the Kernel from starting. Consider renaming them.\n",
      "\u001b[1;31mFile(s): <a href='file:///c%3A/PYTHON/EDF_CODE_AUTOMATION_PYTHON/METER_MATCHING_DATA/code.py?line=1'>~\\code.py</a> might need to be renamed.\n",
      "\u001b[1;31mClick <a href='https://aka.ms/JupyterKernelStartFailureOverrideReservedName'>here</a> for more info."
     ]
    }
   ],
   "source": [
    "def get_current_date():\n",
    "    return datetime.now().strftime(\"%Y-%m-%d\")\n",
    "\n",
    "CURRENT_TIME_STAMP = datetime.now().strftime('%Y-%m-%dT%H:%M:%S')\n",
    "\n",
    "for index,rows in EESL_GENUS_PO0000000403_00000_EP2PMeter_SBPDCL_Meter_Link_M_S_AND_MS_LINK.iterrows():\n",
    "    semicolon_split = rows[0].split(';')\n",
    "    print(semicolon_split[3])\n",
    "    break"
   ]
  },
  {
   "cell_type": "code",
   "execution_count": null,
   "metadata": {},
   "outputs": [
    {
     "ename": "",
     "evalue": "",
     "output_type": "error",
     "traceback": [
      "\u001b[1;31mThe kernel failed to start due to the missing module 'dotenv'. Consider installing this module.\n",
      "\u001b[1;31mClick <a href='https://aka.ms/kernelFailuresMissingModule'>here</a> for more info.\n",
      "\u001b[1;31mSome of the following files found in the working directory may have prevented the Kernel from starting. Consider renaming them.\n",
      "\u001b[1;31mFile(s): <a href='file:///c%3A/PYTHON/EDF_CODE_AUTOMATION_PYTHON/METER_MATCHING_DATA/code.py?line=1'>~\\code.py</a> might need to be renamed.\n",
      "\u001b[1;31mClick <a href='https://aka.ms/JupyterKernelStartFailureOverrideReservedName'>here</a> for more info."
     ]
    }
   ],
   "source": [
    "# xml code"
   ]
  },
  {
   "cell_type": "code",
   "execution_count": null,
   "metadata": {},
   "outputs": [
    {
     "ename": "",
     "evalue": "",
     "output_type": "error",
     "traceback": [
      "\u001b[1;31mThe kernel failed to start due to the missing module 'dotenv'. Consider installing this module.\n",
      "\u001b[1;31mClick <a href='https://aka.ms/kernelFailuresMissingModule'>here</a> for more info.\n",
      "\u001b[1;31mSome of the following files found in the working directory may have prevented the Kernel from starting. Consider renaming them.\n",
      "\u001b[1;31mFile(s): <a href='file:///c%3A/PYTHON/EDF_CODE_AUTOMATION_PYTHON/METER_MATCHING_DATA/code.py?line=1'>~\\code.py</a> might need to be renamed.\n",
      "\u001b[1;31mClick <a href='https://aka.ms/JupyterKernelStartFailureOverrideReservedName'>here</a> for more info."
     ]
    }
   ],
   "source": [
    "for index,rows in EESL_GENUS_PO0000000403_00000_EP2PMeter_SBPDCL_Meter_Link_M_S_AND_MS_LINK.iterrows():\n",
    "    for i in rows:\n",
    "        last_after_semicolon = rows[0].rsplit(';', 1)[-1]\n",
    "        print(last_after_semicolon)\n",
    "    break"
   ]
  },
  {
   "cell_type": "code",
   "execution_count": null,
   "metadata": {},
   "outputs": [
    {
     "ename": "",
     "evalue": "",
     "output_type": "error",
     "traceback": [
      "\u001b[1;31mThe kernel failed to start due to the missing module 'dotenv'. Consider installing this module.\n",
      "\u001b[1;31mClick <a href='https://aka.ms/kernelFailuresMissingModule'>here</a> for more info.\n",
      "\u001b[1;31mSome of the following files found in the working directory may have prevented the Kernel from starting. Consider renaming them.\n",
      "\u001b[1;31mFile(s): <a href='file:///c%3A/PYTHON/EDF_CODE_AUTOMATION_PYTHON/METER_MATCHING_DATA/code.py?line=1'>~\\code.py</a> might need to be renamed.\n",
      "\u001b[1;31mClick <a href='https://aka.ms/JupyterKernelStartFailureOverrideReservedName'>here</a> for more info."
     ]
    }
   ],
   "source": [
    "for index,rows in EESL_GENUS_PO0000000403_00000_EP2PMeter_SBPDCL_Meter_Link_M_S_AND_MS_LINK.iterrows():\n",
    "    \n",
    "    last_after_semicolon = rows[0].split(';')\n",
    "    print(last_after_semicolon[0])\n",
    "    break\n",
    "    \n",
    "    \n",
    "    \n",
    "    "
   ]
  },
  {
   "cell_type": "code",
   "execution_count": null,
   "metadata": {},
   "outputs": [],
   "source": []
  },
  {
   "cell_type": "code",
   "execution_count": null,
   "metadata": {},
   "outputs": [
    {
     "ename": "",
     "evalue": "",
     "output_type": "error",
     "traceback": [
      "\u001b[1;31mThe kernel failed to start due to the missing module 'dotenv'. Consider installing this module.\n",
      "\u001b[1;31mClick <a href='https://aka.ms/kernelFailuresMissingModule'>here</a> for more info.\n",
      "\u001b[1;31mSome of the following files found in the working directory may have prevented the Kernel from starting. Consider renaming them.\n",
      "\u001b[1;31mFile(s): <a href='file:///c%3A/PYTHON/EDF_CODE_AUTOMATION_PYTHON/METER_MATCHING_DATA/code.py?line=1'>~\\code.py</a> might need to be renamed.\n",
      "\u001b[1;31mClick <a href='https://aka.ms/JupyterKernelStartFailureOverrideReservedName'>here</a> for more info."
     ]
    }
   ],
   "source": []
  },
  {
   "cell_type": "markdown",
   "metadata": {},
   "source": [
    "# sim link file"
   ]
  },
  {
   "cell_type": "code",
   "execution_count": null,
   "metadata": {},
   "outputs": [
    {
     "ename": "",
     "evalue": "",
     "output_type": "error",
     "traceback": [
      "\u001b[1;31mThe kernel failed to start due to the missing module 'dotenv'. Consider installing this module.\n",
      "\u001b[1;31mClick <a href='https://aka.ms/kernelFailuresMissingModule'>here</a> for more info.\n",
      "\u001b[1;31mSome of the following files found in the working directory may have prevented the Kernel from starting. Consider renaming them.\n",
      "\u001b[1;31mFile(s): <a href='file:///c%3A/PYTHON/EDF_CODE_AUTOMATION_PYTHON/METER_MATCHING_DATA/code.py?line=1'>~\\code.py</a> might need to be renamed.\n",
      "\u001b[1;31mClick <a href='https://aka.ms/JupyterKernelStartFailureOverrideReservedName'>here</a> for more info."
     ]
    }
   ],
   "source": [
    "import pandas as pd\n",
    "\n",
    "import os,sys\n",
    "from datetime import datetime\n",
    "\n",
    "k=100\n",
    "# Load your file into a pandas DataFrame\n",
    "data_frame_concat_data = pd.read_csv(r'C:\\Users\\Ratan Kumar Jha\\Desktop\\METER_IMPORTATION_SINGLE_FILE\\EESL_GENUS_PO0000000100_00000_SIM_20240104_104844_NBPDCL.csv', header=None)  # Replace 'your_input_file.csv' with your actual file name\n",
    "\n",
    "base_path = r'C:\\Users\\Ratan Kumar Jha\\Desktop\\METER_IMPORTATION_SINGLE_FILE\\single data_folder'\n",
    "\n",
    "num_folder = 0\n",
    "new_folder_name = \"EESL_BSNL_SINGLE_METER\"\n",
    "\n",
    "new_folder_path = os.path.join(base_path, new_folder_name)\n",
    "os.makedirs(new_folder_path)\n",
    "\n",
    "def get_current_time_stamp():\n",
    "    return f\"{datetime.now().strftime('%Y%m%d_%H%M%S')}\"\n",
    "\n",
    "CURRENT_TIME_STAMP = get_current_time_stamp()\n",
    "\n",
    "# Iterate through each row and save it as a separate file\n",
    "for index, row in data_frame_concat_data.iterrows():\n",
    "    \n",
    "    # Create a new DataFrame with the current row\n",
    "    single_row_df = pd.DataFrame([row])\n",
    "    #print(f\"single_row_data : {single_row_df}\")\n",
    "    last_part_after_semicolon = row[0].rsplit(';', 1)[-1]\n",
    "    #print(f\"last_word : {last_part_after_semicolon}\")\n",
    "\n",
    "\n",
    "    CURRENT_TIME_STAMP = get_current_time_stamp()\n",
    "    #print(CURRENT_TIME_STAMP)\n",
    "    \n",
    "    print(k)\n",
    "    print(\"-----------------\")\n",
    "    \n",
    "    # Create the full path for the new folder\n",
    "\n",
    "    if k > 995:\n",
    "        k = 100\n",
    "        num_folder = num_folder + 1\n",
    "        new_folder_name = \"EESL_BSNL_SINGLE_METER_\" + str(num_folder)\n",
    "        new_folder_path = os.path.join(base_path, new_folder_name)\n",
    "        os.makedirs(new_folder_path)\n",
    "    else:\n",
    "        file_name = f'EESL_BSNL_PO0000000{k}_00000_SIM_{CURRENT_TIME_STAMP}_{last_part_after_semicolon}.csv'\n",
    "        #print(f\"file name is {file_name}\")\n",
    "        file_path = os.path.join(new_folder_path, file_name)\n",
    "        #single_row_df.to_csv(r\"C:\\Users\\Ratan Kumar Jha\\Desktop\\satyam_data\\single_file_data\\file_name\", index=False, header=False) \n",
    "        single_row_df.to_csv(file_path, index=False, header=False)\n",
    "        k=k+1\n",
    "\n",
    "    \n",
    "print(\"SIM LINK FILE DONE\")"
   ]
  },
  {
   "cell_type": "code",
   "execution_count": null,
   "metadata": {},
   "outputs": [
    {
     "ename": "",
     "evalue": "",
     "output_type": "error",
     "traceback": [
      "\u001b[1;31mThe kernel failed to start due to the missing module 'dotenv'. Consider installing this module.\n",
      "\u001b[1;31mClick <a href='https://aka.ms/kernelFailuresMissingModule'>here</a> for more info.\n",
      "\u001b[1;31mSome of the following files found in the working directory may have prevented the Kernel from starting. Consider renaming them.\n",
      "\u001b[1;31mFile(s): <a href='file:///c%3A/PYTHON/EDF_CODE_AUTOMATION_PYTHON/METER_MATCHING_DATA/code.py?line=1'>~\\code.py</a> might need to be renamed.\n",
      "\u001b[1;31mClick <a href='https://aka.ms/JupyterKernelStartFailureOverrideReservedName'>here</a> for more info."
     ]
    }
   ],
   "source": [
    "import shutil\n",
    "\n",
    "# Specify the folder path\n",
    "folder_path = r'C:\\Users\\Ratan Kumar Jha\\Desktop\\METER_IMPORTATION_SINGLE_FILE\\single data_folder'\n",
    "\n",
    "# Specify the output zip file path\n",
    "output_zip_path = r'C:\\Users\\Ratan Kumar Jha\\Desktop\\METER_IMPORTATION_SINGLE_FILE\\zip_file'\n",
    "\n",
    "# Create a zip file from the folder\n",
    "shutil.make_archive(output_zip_path, 'zip', folder_path)\n",
    "\n",
    "print(f\"Zip file created at: {output_zip_path}\")"
   ]
  },
  {
   "cell_type": "code",
   "execution_count": null,
   "metadata": {},
   "outputs": [
    {
     "ename": "",
     "evalue": "",
     "output_type": "error",
     "traceback": [
      "\u001b[1;31mThe kernel failed to start due to the missing module 'dotenv'. Consider installing this module.\n",
      "\u001b[1;31mClick <a href='https://aka.ms/kernelFailuresMissingModule'>here</a> for more info.\n",
      "\u001b[1;31mSome of the following files found in the working directory may have prevented the Kernel from starting. Consider renaming them.\n",
      "\u001b[1;31mFile(s): <a href='file:///c%3A/PYTHON/EDF_CODE_AUTOMATION_PYTHON/METER_MATCHING_DATA/code.py?line=1'>~\\code.py</a> might need to be renamed.\n",
      "\u001b[1;31mClick <a href='https://aka.ms/JupyterKernelStartFailureOverrideReservedName'>here</a> for more info."
     ]
    }
   ],
   "source": []
  },
  {
   "cell_type": "markdown",
   "metadata": {},
   "source": [
    "#### METER,SIM AND METER-SIM LINK\n",
    "    - METER FILE PREPARE\n",
    "    - SIM FILE PREPARE\n",
    "    - SIM-METER LINK\n",
    "\n",
    "#### SIM AND METER-SIM LINK FILE\n",
    "    - SIM FILE\n",
    "    - METER-SIM LINK\n",
    "\n",
    "#### METER-SIM LINK\n",
    "    - METER-SIM LINK\n",
    "\n"
   ]
  },
  {
   "cell_type": "code",
   "execution_count": null,
   "metadata": {},
   "outputs": [
    {
     "ename": "",
     "evalue": "",
     "output_type": "error",
     "traceback": [
      "\u001b[1;31mThe kernel failed to start due to the missing module 'dotenv'. Consider installing this module.\n",
      "\u001b[1;31mClick <a href='https://aka.ms/kernelFailuresMissingModule'>here</a> for more info.\n",
      "\u001b[1;31mSome of the following files found in the working directory may have prevented the Kernel from starting. Consider renaming them.\n",
      "\u001b[1;31mFile(s): <a href='file:///c%3A/PYTHON/EDF_CODE_AUTOMATION_PYTHON/METER_MATCHING_DATA/code.py?line=1'>~\\code.py</a> might need to be renamed.\n",
      "\u001b[1;31mClick <a href='https://aka.ms/JupyterKernelStartFailureOverrideReservedName'>here</a> for more info."
     ]
    }
   ],
   "source": []
  }
 ],
 "metadata": {
  "kernelspec": {
   "display_name": "venv",
   "language": "python",
   "name": "python3"
  },
  "language_info": {
   "codemirror_mode": {
    "name": "ipython",
    "version": 3
   },
   "file_extension": ".py",
   "mimetype": "text/x-python",
   "name": "python",
   "nbconvert_exporter": "python",
   "pygments_lexer": "ipython3",
   "version": "3.9.18"
  }
 },
 "nbformat": 4,
 "nbformat_minor": 2
}
